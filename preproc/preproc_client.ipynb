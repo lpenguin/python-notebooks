{
 "cells": [
  {
   "cell_type": "code",
   "execution_count": null,
   "metadata": {
    "collapsed": false
   },
   "outputs": [],
   "source": [
    "from IPython.lib import kernel\n",
    "kernel.get_connection_file()\n"
   ]
  },
  {
   "cell_type": "code",
   "execution_count": null,
   "metadata": {
    "collapsed": true
   },
   "outputs": [],
   "source": [
    "FRMA_PLATFORMS = ['GPL' + str(x) for x in [\n",
    "    570, 571, 96,\n",
    "    1261,  # organism Mus musculus\n",
    "    6244,  # getting strange errors. data in matrix\n",
    "    # 1355,  # NO FRMA, Rattus norvegicus,\n",
    "    6246,  # no frma package (?). read.affybatch: The affy package can process data from the Gene ST 1.x series of arrays,\n",
    "    # but you should consider using either the oligo or xps packages, which are specifically\n",
    "    # designed for these arrays.\n",
    "    # there is no package called ‘mogene10stv1frmavecs’\n",
    "\n",
    "    90, # organism Saccharomyces cerevisiae\n",
    "    3921,\n",
    "    # 5175, # no frma package (?). read.affybatch: The affy package is not designed for this array type. \n",
    "    # Please use either the oligo or xps package.\n",
    "    # 5188, # no cdf frma packages\n",
    "    8321,  # organism Mus musculus\n",
    "]]\n",
    "\n",
    "AGLIENT_PLATFORMS = ['GPL4133', 'GPL6480', 'GPL15849', 'GPL1708', 'GPL887', 'GPL4091', 'GPL9128', 'GPL7264', 'GPL11387',\n",
    "             'GPL8687', 'GPL6848', 'GPL2879', 'GPL5477', 'GPL8841', 'GPL10123', 'GPL4093', 'GPL11386', 'GPL10806',\n",
    "             'GPL8269', 'GPL10150', 'GPL8583', 'GPL15931', 'GPL4126', 'GPL10152', 'GPL16050', 'GPL2567', 'GPL9053',\n",
    "             'GPL14550', 'GPL5325', 'GPL10808', 'GPL13691', 'GPL9075', 'GPL8736', 'GPL885', 'GPL9777', 'GPL7504',\n",
    "             'GPL8693', 'GPL2873', 'GPL17077', 'GPL10734', 'GPL13953', 'GPL13607', 'GPL13685', 'GPL7015', 'GPL15560',\n",
    "             'GPL18623', 'GPL10481', 'GPL16280', 'GPL8737', 'GPL11068']\n",
    "\n",
    "ILLUMINA_PLATFORMS = list(map('GPL{}'.format, [\n",
    "   10558, 6947\n",
    "]))"
   ]
  },
  {
   "cell_type": "code",
   "execution_count": null,
   "metadata": {
    "collapsed": true
   },
   "outputs": [],
   "source": [
    "import sys"
   ]
  },
  {
   "cell_type": "code",
   "execution_count": null,
   "metadata": {
    "collapsed": false
   },
   "outputs": [],
   "source": [
    "sys.path.append('/home/ubuntu/lib')"
   ]
  },
  {
   "cell_type": "code",
   "execution_count": null,
   "metadata": {
    "collapsed": true
   },
   "outputs": [],
   "source": [
    "sys.path.append('/home/ubuntu/preproc-ng')"
   ]
  },
  {
   "cell_type": "code",
   "execution_count": null,
   "metadata": {
    "collapsed": false
   },
   "outputs": [],
   "source": [
    "!ls /home/ubuntu/lib"
   ]
  },
  {
   "cell_type": "code",
   "execution_count": null,
   "metadata": {
    "collapsed": false
   },
   "outputs": [],
   "source": [
    "sys.path"
   ]
  },
  {
   "cell_type": "code",
   "execution_count": null,
   "metadata": {
    "collapsed": true
   },
   "outputs": [],
   "source": [
    "from importlib import reload"
   ]
  },
  {
   "cell_type": "code",
   "execution_count": null,
   "metadata": {
    "collapsed": true
   },
   "outputs": [],
   "source": [
    "import elasticsearch"
   ]
  },
  {
   "cell_type": "code",
   "execution_count": null,
   "metadata": {
    "collapsed": false
   },
   "outputs": [],
   "source": [
    "# reload(metadb)\n",
    "# reload(metadb.api)\n",
    "# reload(metadb.api.elastic)\n",
    "\n",
    "import metadb\n",
    "import metadb.api\n",
    "import metadb.api.elastic\n",
    "from metadb.api import ElasticApi\n",
    "# reload(metadb.api.elastic.ElasticApi)"
   ]
  },
  {
   "cell_type": "code",
   "execution_count": null,
   "metadata": {
    "collapsed": true
   },
   "outputs": [],
   "source": [
    "api = ElasticApi(elasticsearch.Elasticsearch(), \n",
    "                samples_index='samples_dev',\n",
    "                series_index='series_dev')"
   ]
  },
  {
   "cell_type": "code",
   "execution_count": null,
   "metadata": {
    "collapsed": false
   },
   "outputs": [],
   "source": [
    "it = api.search_series(platform=FRMA_PLATFORMS, preprocessed_exists=0, data_source='geo', organism='Homo sapiens')"
   ]
  },
  {
   "cell_type": "code",
   "execution_count": null,
   "metadata": {
    "collapsed": false
   },
   "outputs": [],
   "source": [
    "type(it)"
   ]
  },
  {
   "cell_type": "code",
   "execution_count": null,
   "metadata": {
    "collapsed": false
   },
   "outputs": [],
   "source": [
    "len(it)"
   ]
  },
  {
   "cell_type": "code",
   "execution_count": null,
   "metadata": {
    "collapsed": false
   },
   "outputs": [],
   "source": [
    "%store it"
   ]
  },
  {
   "cell_type": "code",
   "execution_count": null,
   "metadata": {
    "collapsed": true
   },
   "outputs": [],
   "source": [
    "it4080 = it[40:80]"
   ]
  },
  {
   "cell_type": "code",
   "execution_count": null,
   "metadata": {
    "collapsed": true
   },
   "outputs": [],
   "source": [
    "it = None\n",
    "del it"
   ]
  },
  {
   "cell_type": "code",
   "execution_count": null,
   "metadata": {
    "collapsed": false
   },
   "outputs": [],
   "source": [
    "import gc\n",
    "gc.collect()"
   ]
  },
  {
   "cell_type": "code",
   "execution_count": null,
   "metadata": {
    "collapsed": true
   },
   "outputs": [],
   "source": [
    "def create_tasks_from_series(series):\n",
    "    if not series['supplementary_files']:\n",
    "        return []\n",
    "\n",
    "    it = (dict(samples=[s['accession'] for s in series['samples'] if s['platform'] == platform],\n",
    "                 accession=series['accession'],\n",
    "                 platform=platform,\n",
    "                 supplementary_files=[f['name'] for f in series['supplementary_files']]\n",
    "                )\n",
    "            for platform in series['platforms'])\n",
    "    return [d for d in it if len(d['samples'])]\n"
   ]
  },
  {
   "cell_type": "code",
   "execution_count": null,
   "metadata": {
    "collapsed": true
   },
   "outputs": [],
   "source": [
    "import service\n",
    "import messages\n",
    "from preproc_manager import config\n"
   ]
  },
  {
   "cell_type": "code",
   "execution_count": null,
   "metadata": {
    "collapsed": false
   },
   "outputs": [],
   "source": [
    "manager = service.ServiceProxy(\n",
    "    push_port=config.manager_pull_port,\n",
    "    subscribe_port=config.manager_pub_port\n",
    ")"
   ]
  },
  {
   "cell_type": "code",
   "execution_count": null,
   "metadata": {
    "collapsed": false
   },
   "outputs": [],
   "source": [
    "for series in it[40:80]:\n",
    "    for task in create_tasks_from_series(series):\n",
    "            manager.send(messages.PreprocDatasetMessage(id='', **task))"
   ]
  }
 ],
 "metadata": {
  "kernelspec": {
   "display_name": "Python 3",
   "language": "python",
   "name": "python3"
  },
  "language_info": {
   "codemirror_mode": {
    "name": "ipython",
    "version": 3
   },
   "file_extension": ".py",
   "mimetype": "text/x-python",
   "name": "python",
   "nbconvert_exporter": "python",
   "pygments_lexer": "ipython3",
   "version": "3.4.0"
  }
 },
 "nbformat": 4,
 "nbformat_minor": 0
}
