{
 "cells": [
  {
   "cell_type": "code",
   "execution_count": 5,
   "metadata": {
    "collapsed": true
   },
   "outputs": [],
   "source": [
    "import pandas as pd\n",
    "import pymonad\n",
    "from pymonad.List import List"
   ]
  },
  {
   "cell_type": "code",
   "execution_count": 6,
   "metadata": {
    "collapsed": true
   },
   "outputs": [],
   "source": [
    "import sys\n",
    "sys.path.append('..')"
   ]
  },
  {
   "cell_type": "code",
   "execution_count": 7,
   "metadata": {
    "collapsed": false
   },
   "outputs": [],
   "source": [
    "from lib import utils"
   ]
  },
  {
   "cell_type": "code",
   "execution_count": 2,
   "metadata": {
    "collapsed": false
   },
   "outputs": [
    {
     "name": "stdout",
     "output_type": "stream",
     "text": [
      "    1527\r\n"
     ]
    }
   ],
   "source": [
    "! ls -1 ../data/preproc/intermediate/illfilestat/ | wc -l"
   ]
  },
  {
   "cell_type": "code",
   "execution_count": 15,
   "metadata": {
    "collapsed": true
   },
   "outputs": [],
   "source": [
    "def read_dataset(accession):\n",
    "    with open('../data/preproc/intermediate/illfilestat/'+accession) as f:\n",
    "        res = []\n",
    "        for line in f:\n",
    "            line = line.rstrip('\\n').rstrip('\\r').rstrip('\\t')\n",
    "            if not line or line.startswith(\"#\") or line.startswith('\"# Values that should be'):\n",
    "                continue\n",
    "            res.append(line.split('\\t'))\n",
    "\n",
    "        return res"
   ]
  },
  {
   "cell_type": "code",
   "execution_count": 17,
   "metadata": {
    "collapsed": false
   },
   "outputs": [
    {
     "data": {
      "text/plain": [
       "[['ID_REF',\n",
       "  'SAMPLE 13',\n",
       "  'Detection Pval',\n",
       "  'SAMPLE 14',\n",
       "  'Detection Pval',\n",
       "  'SAMPLE 15',\n",
       "  'Detection Pval',\n",
       "  'SAMPLE 16',\n",
       "  'Detection Pval',\n",
       "  'SAMPLE 17',\n",
       "  'Detection Pval',\n",
       "  'SAMPLE 18',\n",
       "  'Detection Pval'],\n",
       " ['ILMN_1343291',\n",
       "  '32545.97',\n",
       "  '0',\n",
       "  '32995.24',\n",
       "  '0',\n",
       "  '34307.06',\n",
       "  '0',\n",
       "  '29865.8',\n",
       "  '0',\n",
       "  '29052.86',\n",
       "  '0',\n",
       "  '29012.86',\n",
       "  '0'],\n",
       " ['ILMN_1343295',\n",
       "  '12109.73',\n",
       "  '0',\n",
       "  '10680.7',\n",
       "  '0',\n",
       "  '11345.47',\n",
       "  '0',\n",
       "  '17510.41',\n",
       "  '0',\n",
       "  '16444.12',\n",
       "  '0',\n",
       "  '15190.56',\n",
       "  '0']]"
      ]
     },
     "execution_count": 17,
     "metadata": {},
     "output_type": "execute_result"
    }
   ],
   "source": [
    "ls = read_dataset('GSE22433')\n",
    "ls[:3]"
   ]
  },
  {
   "cell_type": "code",
   "execution_count": 20,
   "metadata": {
    "collapsed": true
   },
   "outputs": [],
   "source": [
    "import pandas as pd\n",
    "import pymonad\n",
    "# from pymonad.List import List\n",
    "from functools import reduce\n",
    "import fastnumbers\n",
    "\n",
    "def chain_calls(functions):\n",
    "    def func(args):\n",
    "        return reduce((lambda args, func: func(args)), functions, args)\n",
    "    return func\n",
    "    \n",
    "\n",
    "def values(ls):\n",
    "    return map(lambda l: l.split('\\t'), ls)\n",
    "\n",
    "\n",
    "def is_float(s):\n",
    "    return fastnumbers.isfloat(s)\n",
    "\n",
    "def is_not_float(s):\n",
    "    return not fastnumbers.isfloat(s)\n",
    "    \n",
    "\n",
    "def line_is_header(l):\n",
    "    return all(map(is_not_float, l))\n",
    "\n",
    "def line_is_values(start_col, l):\n",
    "    return all(map(is_float, l[start_col:]))# and all(is_not_float * l[:start_col])\n",
    "\n",
    "\n",
    "def n_lines_is_header(ls, nlines):\n",
    "    return all(map(line_is_header, ls[:nlines]))\n",
    "\n",
    "\n",
    "def rest_lines_is_values(ls, start_row, start_col):\n",
    "    return all(map(lambda l: line_is_values(start_col, l), ls[start_row:]))\n",
    "\n",
    "\n",
    "def col_count_match_samples(table, count, start_row, start_col, multiplyer):\n",
    "    def line_match_samples(l):\n",
    "        return len(l[start_col:]) == count * multiplyer\n",
    "    return all(map(line_match_samples, table[start_row:]))\n",
    "\n",
    "\n",
    "def gen_model(samples_count_func, header_rows, header_cols, multiplyer):\n",
    "    def model(accession, table):\n",
    "        count = samples_count_func(accession)\n",
    "        return all([\n",
    "                n_lines_is_header(table, \n",
    "                                  nlines=header_rows),\n",
    "                rest_lines_is_values(table, \n",
    "                                     start_row=header_rows, \n",
    "                                     start_col=header_cols),\n",
    "                col_count_match_samples(table, \n",
    "                                        count, \n",
    "                                        start_row=header_rows-1, \n",
    "                                        start_col=header_cols, \n",
    "                                        multiplyer=multiplyer),\n",
    "            ])\n",
    "    return ((header_rows, header_cols, multiplyer), model)\n",
    "\n",
    "\n",
    "def gen_models(samples_count_func):\n",
    "    return [gen_model(samples_count_func=samples_count_func,\n",
    "                      header_rows=header_rows, \n",
    "                      header_cols=header_cols, \n",
    "                      multiplyer=multiplyer)\n",
    "            for multiplyer in (1, 2)\n",
    "            for header_rows in (1, 2)\n",
    "            for header_cols in (1, 2)]\n"
   ]
  },
  {
   "cell_type": "code",
   "execution_count": 18,
   "metadata": {
    "collapsed": true
   },
   "outputs": [],
   "source": [
    "import pickle\n",
    "with open('../data/preproc/intermediate/series_samples_count.dict.pickle', 'rb') as f:\n",
    "    samples_count = pickle.load(f)"
   ]
  },
  {
   "cell_type": "code",
   "execution_count": 21,
   "metadata": {
    "collapsed": false
   },
   "outputs": [],
   "source": [
    "models = gen_models(samples_count.get)"
   ]
  },
  {
   "cell_type": "code",
   "execution_count": 36,
   "metadata": {
    "collapsed": true
   },
   "outputs": [],
   "source": [
    "import pymongo\n",
    "db = pymongo.MongoClient().scraper_meta"
   ]
  },
  {
   "cell_type": "code",
   "execution_count": 22,
   "metadata": {
    "collapsed": true
   },
   "outputs": [],
   "source": [
    "accessions = !ls -1 ../data/preproc/intermediate/illfilestat/\n",
    "tables = list(map(lambda acc: (acc, read_dataset(acc)), accessions))"
   ]
  },
  {
   "cell_type": "code",
   "execution_count": 23,
   "metadata": {
    "collapsed": false
   },
   "outputs": [
    {
     "name": "stdout",
     "output_type": "stream",
     "text": [
      "Stored 'samples_count' (dict)\n"
     ]
    }
   ],
   "source": [
    "%store samples_count"
   ]
  },
  {
   "cell_type": "code",
   "execution_count": 25,
   "metadata": {
    "collapsed": false
   },
   "outputs": [
    {
     "name": "stdout",
     "output_type": "stream",
     "text": [
      "Stored 'tables' (list)\n"
     ]
    }
   ],
   "source": [
    "%store tables"
   ]
  },
  {
   "cell_type": "code",
   "execution_count": 28,
   "metadata": {
    "collapsed": false
   },
   "outputs": [],
   "source": [
    "res = [[model_func(accession, table) for params, model_func in models]\n",
    "  for accession, table in tables\n",
    "]"
   ]
  },
  {
   "cell_type": "code",
   "execution_count": 29,
   "metadata": {
    "collapsed": true
   },
   "outputs": [],
   "source": [
    "params = [params for params, model_func in models]\n",
    "accessions_index = [accession for accession, table in tables]"
   ]
  },
  {
   "cell_type": "code",
   "execution_count": 30,
   "metadata": {
    "collapsed": false
   },
   "outputs": [
    {
     "name": "stdout",
     "output_type": "stream",
     "text": [
      "(1527, 8)\n"
     ]
    }
   ],
   "source": [
    "res_df = pd.DataFrame.from_records(res, columns=params, index=accessions_index).applymap(int)\n",
    "print(res_df.shape)"
   ]
  },
  {
   "cell_type": "code",
   "execution_count": 32,
   "metadata": {
    "collapsed": false
   },
   "outputs": [
    {
     "name": "stdout",
     "output_type": "stream",
     "text": [
      "Stored 'res_df' (DataFrame)\n"
     ]
    }
   ],
   "source": [
    "%store res_df"
   ]
  },
  {
   "cell_type": "code",
   "execution_count": 31,
   "metadata": {
    "collapsed": false
   },
   "outputs": [
    {
     "data": {
      "text/html": [
       "<div>\n",
       "<table border=\"1\" class=\"dataframe\">\n",
       "  <thead>\n",
       "    <tr style=\"text-align: right;\">\n",
       "      <th></th>\n",
       "      <th>(1, 1, 1)</th>\n",
       "      <th>(1, 2, 1)</th>\n",
       "      <th>(2, 1, 1)</th>\n",
       "      <th>(2, 2, 1)</th>\n",
       "      <th>(1, 1, 2)</th>\n",
       "      <th>(1, 2, 2)</th>\n",
       "      <th>(2, 1, 2)</th>\n",
       "      <th>(2, 2, 2)</th>\n",
       "    </tr>\n",
       "  </thead>\n",
       "  <tbody>\n",
       "    <tr>\n",
       "      <th>GSE15390</th>\n",
       "      <td>0</td>\n",
       "      <td>0</td>\n",
       "      <td>0</td>\n",
       "      <td>0</td>\n",
       "      <td>1</td>\n",
       "      <td>0</td>\n",
       "      <td>0</td>\n",
       "      <td>0</td>\n",
       "    </tr>\n",
       "    <tr>\n",
       "      <th>GSE15530</th>\n",
       "      <td>1</td>\n",
       "      <td>0</td>\n",
       "      <td>0</td>\n",
       "      <td>0</td>\n",
       "      <td>0</td>\n",
       "      <td>0</td>\n",
       "      <td>0</td>\n",
       "      <td>0</td>\n",
       "    </tr>\n",
       "    <tr>\n",
       "      <th>GSE15550</th>\n",
       "      <td>0</td>\n",
       "      <td>0</td>\n",
       "      <td>0</td>\n",
       "      <td>0</td>\n",
       "      <td>0</td>\n",
       "      <td>0</td>\n",
       "      <td>0</td>\n",
       "      <td>0</td>\n",
       "    </tr>\n",
       "    <tr>\n",
       "      <th>GSE15678</th>\n",
       "      <td>0</td>\n",
       "      <td>0</td>\n",
       "      <td>0</td>\n",
       "      <td>0</td>\n",
       "      <td>1</td>\n",
       "      <td>0</td>\n",
       "      <td>0</td>\n",
       "      <td>0</td>\n",
       "    </tr>\n",
       "    <tr>\n",
       "      <th>GSE16099</th>\n",
       "      <td>1</td>\n",
       "      <td>0</td>\n",
       "      <td>0</td>\n",
       "      <td>0</td>\n",
       "      <td>0</td>\n",
       "      <td>0</td>\n",
       "      <td>0</td>\n",
       "      <td>0</td>\n",
       "    </tr>\n",
       "  </tbody>\n",
       "</table>\n",
       "</div>"
      ],
      "text/plain": [
       "          (1, 1, 1)  (1, 2, 1)  (2, 1, 1)  (2, 2, 1)  (1, 1, 2)  (1, 2, 2)  \\\n",
       "GSE15390          0          0          0          0          1          0   \n",
       "GSE15530          1          0          0          0          0          0   \n",
       "GSE15550          0          0          0          0          0          0   \n",
       "GSE15678          0          0          0          0          1          0   \n",
       "GSE16099          1          0          0          0          0          0   \n",
       "\n",
       "          (2, 1, 2)  (2, 2, 2)  \n",
       "GSE15390          0          0  \n",
       "GSE15530          0          0  \n",
       "GSE15550          0          0  \n",
       "GSE15678          0          0  \n",
       "GSE16099          0          0  "
      ]
     },
     "execution_count": 31,
     "metadata": {},
     "output_type": "execute_result"
    }
   ],
   "source": [
    "res_df.head()"
   ]
  },
  {
   "cell_type": "code",
   "execution_count": 92,
   "metadata": {
    "collapsed": false
   },
   "outputs": [
    {
     "data": {
      "text/html": [
       "<div>\n",
       "<table border=\"1\" class=\"dataframe\">\n",
       "  <thead>\n",
       "    <tr style=\"text-align: right;\">\n",
       "      <th></th>\n",
       "      <th>(1, 1, 1)</th>\n",
       "      <th>(1, 2, 1)</th>\n",
       "      <th>(2, 1, 1)</th>\n",
       "      <th>(2, 2, 1)</th>\n",
       "      <th>(1, 1, 2)</th>\n",
       "      <th>(1, 2, 2)</th>\n",
       "      <th>(2, 1, 2)</th>\n",
       "      <th>(2, 2, 2)</th>\n",
       "    </tr>\n",
       "  </thead>\n",
       "  <tbody>\n",
       "    <tr>\n",
       "      <th>GSE15550</th>\n",
       "      <td>0</td>\n",
       "      <td>0</td>\n",
       "      <td>0</td>\n",
       "      <td>0</td>\n",
       "      <td>0</td>\n",
       "      <td>0</td>\n",
       "      <td>0</td>\n",
       "      <td>0</td>\n",
       "    </tr>\n",
       "    <tr>\n",
       "      <th>GSE16484</th>\n",
       "      <td>0</td>\n",
       "      <td>0</td>\n",
       "      <td>0</td>\n",
       "      <td>0</td>\n",
       "      <td>0</td>\n",
       "      <td>0</td>\n",
       "      <td>0</td>\n",
       "      <td>0</td>\n",
       "    </tr>\n",
       "    <tr>\n",
       "      <th>GSE16517</th>\n",
       "      <td>0</td>\n",
       "      <td>0</td>\n",
       "      <td>0</td>\n",
       "      <td>0</td>\n",
       "      <td>0</td>\n",
       "      <td>0</td>\n",
       "      <td>0</td>\n",
       "      <td>0</td>\n",
       "    </tr>\n",
       "    <tr>\n",
       "      <th>GSE17503</th>\n",
       "      <td>0</td>\n",
       "      <td>0</td>\n",
       "      <td>0</td>\n",
       "      <td>0</td>\n",
       "      <td>0</td>\n",
       "      <td>0</td>\n",
       "      <td>0</td>\n",
       "      <td>0</td>\n",
       "    </tr>\n",
       "    <tr>\n",
       "      <th>GSE17516</th>\n",
       "      <td>0</td>\n",
       "      <td>0</td>\n",
       "      <td>0</td>\n",
       "      <td>0</td>\n",
       "      <td>0</td>\n",
       "      <td>0</td>\n",
       "      <td>0</td>\n",
       "      <td>0</td>\n",
       "    </tr>\n",
       "  </tbody>\n",
       "</table>\n",
       "</div>"
      ],
      "text/plain": [
       "          (1, 1, 1)  (1, 2, 1)  (2, 1, 1)  (2, 2, 1)  (1, 1, 2)  (1, 2, 2)  \\\n",
       "GSE15550          0          0          0          0          0          0   \n",
       "GSE16484          0          0          0          0          0          0   \n",
       "GSE16517          0          0          0          0          0          0   \n",
       "GSE17503          0          0          0          0          0          0   \n",
       "GSE17516          0          0          0          0          0          0   \n",
       "\n",
       "          (2, 1, 2)  (2, 2, 2)  \n",
       "GSE15550          0          0  \n",
       "GSE16484          0          0  \n",
       "GSE16517          0          0  \n",
       "GSE17503          0          0  \n",
       "GSE17516          0          0  "
      ]
     },
     "execution_count": 92,
     "metadata": {},
     "output_type": "execute_result"
    }
   ],
   "source": [
    "res_df[~res_df.apply(any, axis=1)].head()"
   ]
  },
  {
   "cell_type": "code",
   "execution_count": 33,
   "metadata": {
    "collapsed": false
   },
   "outputs": [
    {
     "data": {
      "text/html": [
       "<div>\n",
       "<table border=\"1\" class=\"dataframe\">\n",
       "  <thead>\n",
       "    <tr style=\"text-align: right;\">\n",
       "      <th></th>\n",
       "      <th>0</th>\n",
       "    </tr>\n",
       "  </thead>\n",
       "  <tbody>\n",
       "    <tr>\n",
       "      <th>(1, 1, 1)</th>\n",
       "      <td>128</td>\n",
       "    </tr>\n",
       "    <tr>\n",
       "      <th>(1, 2, 1)</th>\n",
       "      <td>18</td>\n",
       "    </tr>\n",
       "    <tr>\n",
       "      <th>(2, 1, 1)</th>\n",
       "      <td>10</td>\n",
       "    </tr>\n",
       "    <tr>\n",
       "      <th>(2, 2, 1)</th>\n",
       "      <td>1</td>\n",
       "    </tr>\n",
       "    <tr>\n",
       "      <th>(1, 1, 2)</th>\n",
       "      <td>840</td>\n",
       "    </tr>\n",
       "    <tr>\n",
       "      <th>(1, 2, 2)</th>\n",
       "      <td>51</td>\n",
       "    </tr>\n",
       "    <tr>\n",
       "      <th>(2, 1, 2)</th>\n",
       "      <td>84</td>\n",
       "    </tr>\n",
       "    <tr>\n",
       "      <th>(2, 2, 2)</th>\n",
       "      <td>7</td>\n",
       "    </tr>\n",
       "    <tr>\n",
       "      <th>none</th>\n",
       "      <td>388</td>\n",
       "    </tr>\n",
       "  </tbody>\n",
       "</table>\n",
       "</div>"
      ],
      "text/plain": [
       "             0\n",
       "(1, 1, 1)  128\n",
       "(1, 2, 1)   18\n",
       "(2, 1, 1)   10\n",
       "(2, 2, 1)    1\n",
       "(1, 1, 2)  840\n",
       "(1, 2, 2)   51\n",
       "(2, 1, 2)   84\n",
       "(2, 2, 2)    7\n",
       "none       388"
      ]
     },
     "execution_count": 33,
     "metadata": {},
     "output_type": "execute_result"
    }
   ],
   "source": [
    "_t = res_df.T.sum()\n",
    "# _t[_t == 0]\n",
    "# res_df[_t.map(bool)]\n",
    "res_df.assign(none=_t.map(lambda x: int(not x))).sum().to_frame()\n",
    "# res_df.T.loc[_t[_t == 0]]\n",
    "# res_df.sum().to_frame()"
   ]
  },
  {
   "cell_type": "code",
   "execution_count": 100,
   "metadata": {
    "collapsed": false
   },
   "outputs": [
    {
     "data": {
      "text/html": [
       "<div>\n",
       "<table border=\"1\" class=\"dataframe\">\n",
       "  <thead>\n",
       "    <tr style=\"text-align: right;\">\n",
       "      <th></th>\n",
       "      <th>(1, 1, 1)</th>\n",
       "      <th>(1, 2, 1)</th>\n",
       "      <th>(2, 1, 1)</th>\n",
       "      <th>(2, 2, 1)</th>\n",
       "      <th>(1, 1, 2)</th>\n",
       "      <th>(1, 2, 2)</th>\n",
       "      <th>(2, 1, 2)</th>\n",
       "      <th>(2, 2, 2)</th>\n",
       "    </tr>\n",
       "  </thead>\n",
       "  <tbody>\n",
       "    <tr>\n",
       "      <th>GSE15390</th>\n",
       "      <td>0</td>\n",
       "      <td>0</td>\n",
       "      <td>0</td>\n",
       "      <td>0</td>\n",
       "      <td>1</td>\n",
       "      <td>0</td>\n",
       "      <td>0</td>\n",
       "      <td>0</td>\n",
       "    </tr>\n",
       "    <tr>\n",
       "      <th>GSE15678</th>\n",
       "      <td>0</td>\n",
       "      <td>0</td>\n",
       "      <td>0</td>\n",
       "      <td>0</td>\n",
       "      <td>1</td>\n",
       "      <td>0</td>\n",
       "      <td>0</td>\n",
       "      <td>0</td>\n",
       "    </tr>\n",
       "    <tr>\n",
       "      <th>GSE16186</th>\n",
       "      <td>0</td>\n",
       "      <td>0</td>\n",
       "      <td>0</td>\n",
       "      <td>0</td>\n",
       "      <td>1</td>\n",
       "      <td>0</td>\n",
       "      <td>0</td>\n",
       "      <td>0</td>\n",
       "    </tr>\n",
       "    <tr>\n",
       "      <th>GSE16421</th>\n",
       "      <td>0</td>\n",
       "      <td>0</td>\n",
       "      <td>0</td>\n",
       "      <td>0</td>\n",
       "      <td>1</td>\n",
       "      <td>0</td>\n",
       "      <td>0</td>\n",
       "      <td>0</td>\n",
       "    </tr>\n",
       "    <tr>\n",
       "      <th>GSE17579</th>\n",
       "      <td>0</td>\n",
       "      <td>0</td>\n",
       "      <td>0</td>\n",
       "      <td>0</td>\n",
       "      <td>1</td>\n",
       "      <td>0</td>\n",
       "      <td>0</td>\n",
       "      <td>0</td>\n",
       "    </tr>\n",
       "  </tbody>\n",
       "</table>\n",
       "</div>"
      ],
      "text/plain": [
       "          (1, 1, 1)  (1, 2, 1)  (2, 1, 1)  (2, 2, 1)  (1, 1, 2)  (1, 2, 2)  \\\n",
       "GSE15390          0          0          0          0          1          0   \n",
       "GSE15678          0          0          0          0          1          0   \n",
       "GSE16186          0          0          0          0          1          0   \n",
       "GSE16421          0          0          0          0          1          0   \n",
       "GSE17579          0          0          0          0          1          0   \n",
       "\n",
       "          (2, 1, 2)  (2, 2, 2)  \n",
       "GSE15390          0          0  \n",
       "GSE15678          0          0  \n",
       "GSE16186          0          0  \n",
       "GSE16421          0          0  \n",
       "GSE17579          0          0  "
      ]
     },
     "execution_count": 100,
     "metadata": {},
     "output_type": "execute_result"
    }
   ],
   "source": [
    "res_df[res_df[(1, 1, 2)].map(bool)].head()"
   ]
  },
  {
   "cell_type": "code",
   "execution_count": 34,
   "metadata": {
    "collapsed": false
   },
   "outputs": [
    {
     "data": {
      "text/plain": [
       "(1139, 1527)"
      ]
     },
     "execution_count": 34,
     "metadata": {},
     "output_type": "execute_result"
    }
   ],
   "source": [
    "res_df.T.sum().sum(), res_df.shape[0]"
   ]
  },
  {
   "cell_type": "code",
   "execution_count": 58,
   "metadata": {
    "collapsed": false
   },
   "outputs": [],
   "source": [
    "series_GPL10558_GPL6947 = pd.DataFrame(list(db.series.find({'accession': {'$in': accessions}, \n",
    "                                                    'platforms': {'$in':['GPL10558', 'GPL6947']}}, {'_id':0, 'accession':1, 'platforms': 1})))"
   ]
  },
  {
   "cell_type": "code",
   "execution_count": 59,
   "metadata": {
    "collapsed": false
   },
   "outputs": [
    {
     "name": "stdout",
     "output_type": "stream",
     "text": [
      "Stored 'series_GPL10558_GPL6947' (DataFrame)\n"
     ]
    }
   ],
   "source": [
    "%store series_GPL10558_GPL6947"
   ]
  },
  {
   "cell_type": "code",
   "execution_count": 60,
   "metadata": {
    "collapsed": false
   },
   "outputs": [
    {
     "data": {
      "text/html": [
       "<div>\n",
       "<table border=\"1\" class=\"dataframe\">\n",
       "  <thead>\n",
       "    <tr style=\"text-align: right;\">\n",
       "      <th></th>\n",
       "      <th>accession</th>\n",
       "      <th>platforms</th>\n",
       "    </tr>\n",
       "  </thead>\n",
       "  <tbody>\n",
       "    <tr>\n",
       "      <th>18</th>\n",
       "      <td>GSE55319</td>\n",
       "      <td>[GPL6884, GPL10558]</td>\n",
       "    </tr>\n",
       "    <tr>\n",
       "      <th>273</th>\n",
       "      <td>GSE25772</td>\n",
       "      <td>[GPL6884, GPL10558]</td>\n",
       "    </tr>\n",
       "    <tr>\n",
       "      <th>551</th>\n",
       "      <td>GSE38900</td>\n",
       "      <td>[GPL6884, GPL10558]</td>\n",
       "    </tr>\n",
       "    <tr>\n",
       "      <th>748</th>\n",
       "      <td>GSE32964</td>\n",
       "      <td>[GPL6947, GPL6985]</td>\n",
       "    </tr>\n",
       "    <tr>\n",
       "      <th>779</th>\n",
       "      <td>GSE28384</td>\n",
       "      <td>[GPL6887, GPL6947]</td>\n",
       "    </tr>\n",
       "    <tr>\n",
       "      <th>780</th>\n",
       "      <td>GSE28319</td>\n",
       "      <td>[GPL6947, GPL9115]</td>\n",
       "    </tr>\n",
       "    <tr>\n",
       "      <th>807</th>\n",
       "      <td>GSE22577</td>\n",
       "      <td>[GPL6804, GPL6947]</td>\n",
       "    </tr>\n",
       "    <tr>\n",
       "      <th>830</th>\n",
       "      <td>GSE43208</td>\n",
       "      <td>[GPL6884, GPL6947]</td>\n",
       "    </tr>\n",
       "    <tr>\n",
       "      <th>906</th>\n",
       "      <td>GSE38226</td>\n",
       "      <td>[GPL6947, GPL8179]</td>\n",
       "    </tr>\n",
       "  </tbody>\n",
       "</table>\n",
       "</div>"
      ],
      "text/plain": [
       "    accession            platforms\n",
       "18   GSE55319  [GPL6884, GPL10558]\n",
       "273  GSE25772  [GPL6884, GPL10558]\n",
       "551  GSE38900  [GPL6884, GPL10558]\n",
       "748  GSE32964   [GPL6947, GPL6985]\n",
       "779  GSE28384   [GPL6887, GPL6947]\n",
       "780  GSE28319   [GPL6947, GPL9115]\n",
       "807  GSE22577   [GPL6804, GPL6947]\n",
       "830  GSE43208   [GPL6884, GPL6947]\n",
       "906  GSE38226   [GPL6947, GPL8179]"
      ]
     },
     "execution_count": 60,
     "metadata": {},
     "output_type": "execute_result"
    }
   ],
   "source": [
    "series_GPL10558_GPL6947[series_GPL10558_GPL6947.platforms.map(len) == 2]"
   ]
  },
  {
   "cell_type": "code",
   "execution_count": 61,
   "metadata": {
    "collapsed": true
   },
   "outputs": [],
   "source": [
    "accessions_only_GPL10558_GPL6947 = series_GPL10558_GPL6947[series_GPL10558_GPL6947.platforms.map(len) == 1].accession.tolist()"
   ]
  },
  {
   "cell_type": "code",
   "execution_count": 45,
   "metadata": {
    "collapsed": false
   },
   "outputs": [
    {
     "data": {
      "text/html": [
       "<div>\n",
       "<table border=\"1\" class=\"dataframe\">\n",
       "  <thead>\n",
       "    <tr style=\"text-align: right;\">\n",
       "      <th></th>\n",
       "      <th>(1, 1, 1)</th>\n",
       "      <th>(1, 2, 1)</th>\n",
       "      <th>(2, 1, 1)</th>\n",
       "      <th>(2, 2, 1)</th>\n",
       "      <th>(1, 1, 2)</th>\n",
       "      <th>(1, 2, 2)</th>\n",
       "      <th>(2, 1, 2)</th>\n",
       "      <th>(2, 2, 2)</th>\n",
       "    </tr>\n",
       "  </thead>\n",
       "  <tbody>\n",
       "    <tr>\n",
       "      <th>GSE22427</th>\n",
       "      <td>0</td>\n",
       "      <td>0</td>\n",
       "      <td>0</td>\n",
       "      <td>0</td>\n",
       "      <td>1</td>\n",
       "      <td>0</td>\n",
       "      <td>0</td>\n",
       "      <td>0</td>\n",
       "    </tr>\n",
       "    <tr>\n",
       "      <th>GSE25154</th>\n",
       "      <td>0</td>\n",
       "      <td>0</td>\n",
       "      <td>0</td>\n",
       "      <td>0</td>\n",
       "      <td>1</td>\n",
       "      <td>0</td>\n",
       "      <td>0</td>\n",
       "      <td>0</td>\n",
       "    </tr>\n",
       "    <tr>\n",
       "      <th>GSE27124</th>\n",
       "      <td>0</td>\n",
       "      <td>0</td>\n",
       "      <td>0</td>\n",
       "      <td>0</td>\n",
       "      <td>1</td>\n",
       "      <td>0</td>\n",
       "      <td>0</td>\n",
       "      <td>0</td>\n",
       "    </tr>\n",
       "    <tr>\n",
       "      <th>GSE28655</th>\n",
       "      <td>0</td>\n",
       "      <td>0</td>\n",
       "      <td>0</td>\n",
       "      <td>0</td>\n",
       "      <td>1</td>\n",
       "      <td>0</td>\n",
       "      <td>0</td>\n",
       "      <td>0</td>\n",
       "    </tr>\n",
       "    <tr>\n",
       "      <th>GSE28656</th>\n",
       "      <td>0</td>\n",
       "      <td>0</td>\n",
       "      <td>0</td>\n",
       "      <td>0</td>\n",
       "      <td>1</td>\n",
       "      <td>0</td>\n",
       "      <td>0</td>\n",
       "      <td>0</td>\n",
       "    </tr>\n",
       "  </tbody>\n",
       "</table>\n",
       "</div>"
      ],
      "text/plain": [
       "          (1, 1, 1)  (1, 2, 1)  (2, 1, 1)  (2, 2, 1)  (1, 1, 2)  (1, 2, 2)  \\\n",
       "GSE22427          0          0          0          0          1          0   \n",
       "GSE25154          0          0          0          0          1          0   \n",
       "GSE27124          0          0          0          0          1          0   \n",
       "GSE28655          0          0          0          0          1          0   \n",
       "GSE28656          0          0          0          0          1          0   \n",
       "\n",
       "          (2, 1, 2)  (2, 2, 2)  \n",
       "GSE22427          0          0  \n",
       "GSE25154          0          0  \n",
       "GSE27124          0          0  \n",
       "GSE28655          0          0  \n",
       "GSE28656          0          0  "
      ]
     },
     "execution_count": 45,
     "metadata": {},
     "output_type": "execute_result"
    }
   ],
   "source": [
    "res_df[res_df[(1, 1, 2)].map(bool) & res_df.index.isin(accessions_only_GPL10558)].head()"
   ]
  },
  {
   "cell_type": "code",
   "execution_count": 46,
   "metadata": {
    "collapsed": false
   },
   "outputs": [
    {
     "data": {
      "text/html": [
       "<div>\n",
       "<table border=\"1\" class=\"dataframe\">\n",
       "  <thead>\n",
       "    <tr style=\"text-align: right;\">\n",
       "      <th></th>\n",
       "      <th>name</th>\n",
       "      <th>type</th>\n",
       "      <th>suffix</th>\n",
       "    </tr>\n",
       "    <tr>\n",
       "      <th>accession</th>\n",
       "      <th></th>\n",
       "      <th></th>\n",
       "      <th></th>\n",
       "    </tr>\n",
       "  </thead>\n",
       "  <tbody>\n",
       "    <tr>\n",
       "      <th>GSE21715</th>\n",
       "      <td>GSE21715_non-normalized.txt.gz</td>\n",
       "      <td>TXT</td>\n",
       "      <td>non-normalized.txt.gz</td>\n",
       "    </tr>\n",
       "    <tr>\n",
       "      <th>GSE54293</th>\n",
       "      <td>GSE54293_Non_normalized_data.txt.gz</td>\n",
       "      <td>TXT</td>\n",
       "      <td>Non_normalized_data.txt.gz</td>\n",
       "    </tr>\n",
       "    <tr>\n",
       "      <th>GSE54326</th>\n",
       "      <td>GSE54326_non_normalized.txt.gz</td>\n",
       "      <td>TXT</td>\n",
       "      <td>non_normalized.txt.gz</td>\n",
       "    </tr>\n",
       "    <tr>\n",
       "      <th>GSE54350</th>\n",
       "      <td>GSE54350_non-normalized.txt.gz</td>\n",
       "      <td>TXT</td>\n",
       "      <td>non-normalized.txt.gz</td>\n",
       "    </tr>\n",
       "    <tr>\n",
       "      <th>GSE54400</th>\n",
       "      <td>GSE54400_Non-normalized_data.txt.gz</td>\n",
       "      <td>TXT</td>\n",
       "      <td>Non-normalized_data.txt.gz</td>\n",
       "    </tr>\n",
       "  </tbody>\n",
       "</table>\n",
       "</div>"
      ],
      "text/plain": [
       "                                          name type  \\\n",
       "accession                                             \n",
       "GSE21715        GSE21715_non-normalized.txt.gz  TXT   \n",
       "GSE54293   GSE54293_Non_normalized_data.txt.gz  TXT   \n",
       "GSE54326        GSE54326_non_normalized.txt.gz  TXT   \n",
       "GSE54350        GSE54350_non-normalized.txt.gz  TXT   \n",
       "GSE54400   GSE54400_Non-normalized_data.txt.gz  TXT   \n",
       "\n",
       "                               suffix  \n",
       "accession                              \n",
       "GSE21715        non-normalized.txt.gz  \n",
       "GSE54293   Non_normalized_data.txt.gz  \n",
       "GSE54326        non_normalized.txt.gz  \n",
       "GSE54350        non-normalized.txt.gz  \n",
       "GSE54400   Non-normalized_data.txt.gz  "
      ]
     },
     "execution_count": 46,
     "metadata": {},
     "output_type": "execute_result"
    }
   ],
   "source": [
    "series_suppls = pd.read_pickle('../data/preproc/intermediate/illumina_platforms_suppls.v1.pickle').set_index('accession')\n",
    "series_suppls.head()"
   ]
  },
  {
   "cell_type": "code",
   "execution_count": 47,
   "metadata": {
    "collapsed": false
   },
   "outputs": [
    {
     "name": "stdout",
     "output_type": "stream",
     "text": [
      "Stored 'series_suppls' (DataFrame)\n"
     ]
    }
   ],
   "source": [
    "%store series_suppls"
   ]
  },
  {
   "cell_type": "code",
   "execution_count": 63,
   "metadata": {
    "collapsed": false
   },
   "outputs": [
    {
     "data": {
      "text/plain": [
       "Index(['GSE15530', 'GSE17048', 'GSE17065', 'GSE17579', 'GSE17822'], dtype='object')"
      ]
     },
     "execution_count": 63,
     "metadata": {},
     "output_type": "execute_result"
    }
   ],
   "source": [
    "series_only_GPL10558_GPL6947 = res_df[res_df.index.isin(accessions_only_GPL10558_GPL6947)].index\n",
    "series_only_GPL10558_GPL6947[:5]"
   ]
  },
  {
   "cell_type": "code",
   "execution_count": 52,
   "metadata": {
    "collapsed": true
   },
   "outputs": [],
   "source": [
    "def task_for_series(accession, platform):\n",
    "    return {\n",
    "        'name': '{}_{}'.format(accession, platform),\n",
    "        'type': 'preproc',\n",
    "        'meta':{\n",
    "            'accession': accession,\n",
    "            'platform': platform,\n",
    "            'samples_count': int(samples_count[accession]),\n",
    "            'suppl_file': series_suppls.loc[accession]['name']\n",
    "        }\n",
    "    }"
   ]
  },
  {
   "cell_type": "code",
   "execution_count": 53,
   "metadata": {
    "collapsed": false
   },
   "outputs": [
    {
     "data": {
      "text/plain": [
       "{'meta': {'accession': 'GSE22427',\n",
       "  'platform': 'GPL10558',\n",
       "  'samples_count': 12,\n",
       "  'suppl_file': 'GSE22427_non-normalized.txt.gz'},\n",
       " 'name': 'GSE22427_GPL10558',\n",
       " 'type': 'preproc'}"
      ]
     },
     "execution_count": 53,
     "metadata": {},
     "output_type": "execute_result"
    }
   ],
   "source": [
    "t = task_for_series('GSE22427', 'GPL10558')\n",
    "t"
   ]
  },
  {
   "cell_type": "code",
   "execution_count": 69,
   "metadata": {
    "collapsed": false
   },
   "outputs": [],
   "source": [
    "get_platform = lambda  accession: series_GPL10558_GPL6947[series_GPL10558_GPL6947.accession == accession].iloc[0].platforms[0]\n",
    "# get_platform('GSE54293')\n",
    "tasks = [task_for_series(series, get_platform(series)) for series in series_only_GPL10558_GPL6947]"
   ]
  },
  {
   "cell_type": "code",
   "execution_count": 70,
   "metadata": {
    "collapsed": true
   },
   "outputs": [],
   "source": [
    "utils.write_json(tasks, '../data/preproc/intermediate/ill.tasks.v4.json')"
   ]
  },
  {
   "cell_type": "code",
   "execution_count": 71,
   "metadata": {
    "collapsed": false
   },
   "outputs": [
    {
     "name": "stdout",
     "output_type": "stream",
     "text": [
      "\r",
      "ill.tasks.v4.json                               0%    0     0.0KB/s   --:-- ETA\r",
      "ill.tasks.v4.json                             100%  160KB 160.4KB/s   00:00    \r\n"
     ]
    }
   ],
   "source": [
    "!scp ../data/preproc/intermediate/ill.tasks.v4.json npryanichnikov@ui2.computing.kiae.ru:ls2/preproc/tmp"
   ]
  },
  {
   "cell_type": "code",
   "execution_count": 107,
   "metadata": {
    "collapsed": true
   },
   "outputs": [],
   "source": [
    "from shutil import copyfile"
   ]
  },
  {
   "cell_type": "code",
   "execution_count": 108,
   "metadata": {
    "collapsed": true
   },
   "outputs": [],
   "source": [
    "!mkdir ../data/preproc/intermediate/illfilestat_GPL10558"
   ]
  },
  {
   "cell_type": "code",
   "execution_count": 114,
   "metadata": {
    "collapsed": false
   },
   "outputs": [],
   "source": [
    "for index, accession in series_GPL10558.accession.iteritems():\n",
    "    copyfile('../data/preproc/intermediate/illfilestat/{}'.format(accession), '../data/preproc/intermediate/illfilestat_GPL10558/{}'.format(accession))"
   ]
  },
  {
   "cell_type": "code",
   "execution_count": 72,
   "metadata": {
    "collapsed": false
   },
   "outputs": [
    {
     "data": {
      "text/html": [
       "<div>\n",
       "<table border=\"1\" class=\"dataframe\">\n",
       "  <thead>\n",
       "    <tr style=\"text-align: right;\">\n",
       "      <th></th>\n",
       "      <th>accession</th>\n",
       "      <th>model1</th>\n",
       "      <th>model2</th>\n",
       "      <th>model3</th>\n",
       "    </tr>\n",
       "  </thead>\n",
       "  <tbody>\n",
       "  </tbody>\n",
       "</table>\n",
       "</div>"
      ],
      "text/plain": [
       "Empty DataFrame\n",
       "Columns: [accession, model1, model2, model3]\n",
       "Index: []"
      ]
     },
     "execution_count": 72,
     "metadata": {},
     "output_type": "execute_result"
    }
   ],
   "source": [
    "res_df.query('model1 and model2')"
   ]
  },
  {
   "cell_type": "code",
   "execution_count": 144,
   "metadata": {
    "collapsed": false
   },
   "outputs": [
    {
     "data": {
      "text/html": [
       "<div>\n",
       "<table border=\"1\" class=\"dataframe\">\n",
       "  <thead>\n",
       "    <tr style=\"text-align: right;\">\n",
       "      <th></th>\n",
       "      <th>accession</th>\n",
       "      <th>model1</th>\n",
       "      <th>model2</th>\n",
       "      <th>model3</th>\n",
       "    </tr>\n",
       "  </thead>\n",
       "  <tbody>\n",
       "    <tr>\n",
       "      <th>5</th>\n",
       "      <td>GSE16170</td>\n",
       "      <td>False</td>\n",
       "      <td>True</td>\n",
       "      <td>True</td>\n",
       "    </tr>\n",
       "    <tr>\n",
       "      <th>43</th>\n",
       "      <td>GSE19274</td>\n",
       "      <td>False</td>\n",
       "      <td>True</td>\n",
       "      <td>True</td>\n",
       "    </tr>\n",
       "    <tr>\n",
       "      <th>112</th>\n",
       "      <td>GSE22792</td>\n",
       "      <td>False</td>\n",
       "      <td>True</td>\n",
       "      <td>True</td>\n",
       "    </tr>\n",
       "    <tr>\n",
       "      <th>120</th>\n",
       "      <td>GSE22955</td>\n",
       "      <td>False</td>\n",
       "      <td>True</td>\n",
       "      <td>False</td>\n",
       "    </tr>\n",
       "    <tr>\n",
       "      <th>126</th>\n",
       "      <td>GSE23135</td>\n",
       "      <td>False</td>\n",
       "      <td>True</td>\n",
       "      <td>True</td>\n",
       "    </tr>\n",
       "    <tr>\n",
       "      <th>127</th>\n",
       "      <td>GSE23136</td>\n",
       "      <td>False</td>\n",
       "      <td>True</td>\n",
       "      <td>True</td>\n",
       "    </tr>\n",
       "    <tr>\n",
       "      <th>128</th>\n",
       "      <td>GSE23137</td>\n",
       "      <td>False</td>\n",
       "      <td>True</td>\n",
       "      <td>True</td>\n",
       "    </tr>\n",
       "    <tr>\n",
       "      <th>129</th>\n",
       "      <td>GSE23138</td>\n",
       "      <td>False</td>\n",
       "      <td>True</td>\n",
       "      <td>True</td>\n",
       "    </tr>\n",
       "    <tr>\n",
       "      <th>130</th>\n",
       "      <td>GSE23139</td>\n",
       "      <td>False</td>\n",
       "      <td>True</td>\n",
       "      <td>True</td>\n",
       "    </tr>\n",
       "    <tr>\n",
       "      <th>131</th>\n",
       "      <td>GSE23289</td>\n",
       "      <td>False</td>\n",
       "      <td>True</td>\n",
       "      <td>True</td>\n",
       "    </tr>\n",
       "    <tr>\n",
       "      <th>133</th>\n",
       "      <td>GSE23350</td>\n",
       "      <td>False</td>\n",
       "      <td>True</td>\n",
       "      <td>True</td>\n",
       "    </tr>\n",
       "    <tr>\n",
       "      <th>148</th>\n",
       "      <td>GSE23706</td>\n",
       "      <td>False</td>\n",
       "      <td>True</td>\n",
       "      <td>True</td>\n",
       "    </tr>\n",
       "    <tr>\n",
       "      <th>154</th>\n",
       "      <td>GSE23904</td>\n",
       "      <td>False</td>\n",
       "      <td>True</td>\n",
       "      <td>True</td>\n",
       "    </tr>\n",
       "    <tr>\n",
       "      <th>156</th>\n",
       "      <td>GSE23991</td>\n",
       "      <td>False</td>\n",
       "      <td>True</td>\n",
       "      <td>True</td>\n",
       "    </tr>\n",
       "    <tr>\n",
       "      <th>167</th>\n",
       "      <td>GSE24520</td>\n",
       "      <td>False</td>\n",
       "      <td>True</td>\n",
       "      <td>True</td>\n",
       "    </tr>\n",
       "    <tr>\n",
       "      <th>168</th>\n",
       "      <td>GSE24526</td>\n",
       "      <td>False</td>\n",
       "      <td>True</td>\n",
       "      <td>True</td>\n",
       "    </tr>\n",
       "    <tr>\n",
       "      <th>180</th>\n",
       "      <td>GSE24896</td>\n",
       "      <td>False</td>\n",
       "      <td>True</td>\n",
       "      <td>True</td>\n",
       "    </tr>\n",
       "    <tr>\n",
       "      <th>183</th>\n",
       "      <td>GSE24975</td>\n",
       "      <td>False</td>\n",
       "      <td>True</td>\n",
       "      <td>True</td>\n",
       "    </tr>\n",
       "    <tr>\n",
       "      <th>184</th>\n",
       "      <td>GSE24993</td>\n",
       "      <td>False</td>\n",
       "      <td>True</td>\n",
       "      <td>True</td>\n",
       "    </tr>\n",
       "    <tr>\n",
       "      <th>205</th>\n",
       "      <td>GSE25744</td>\n",
       "      <td>False</td>\n",
       "      <td>True</td>\n",
       "      <td>True</td>\n",
       "    </tr>\n",
       "    <tr>\n",
       "      <th>207</th>\n",
       "      <td>GSE25837</td>\n",
       "      <td>False</td>\n",
       "      <td>True</td>\n",
       "      <td>True</td>\n",
       "    </tr>\n",
       "    <tr>\n",
       "      <th>230</th>\n",
       "      <td>GSE26566</td>\n",
       "      <td>False</td>\n",
       "      <td>True</td>\n",
       "      <td>False</td>\n",
       "    </tr>\n",
       "    <tr>\n",
       "      <th>232</th>\n",
       "      <td>GSE26595</td>\n",
       "      <td>False</td>\n",
       "      <td>True</td>\n",
       "      <td>True</td>\n",
       "    </tr>\n",
       "    <tr>\n",
       "      <th>256</th>\n",
       "      <td>GSE27276</td>\n",
       "      <td>False</td>\n",
       "      <td>True</td>\n",
       "      <td>True</td>\n",
       "    </tr>\n",
       "    <tr>\n",
       "      <th>268</th>\n",
       "      <td>GSE27533</td>\n",
       "      <td>False</td>\n",
       "      <td>True</td>\n",
       "      <td>True</td>\n",
       "    </tr>\n",
       "    <tr>\n",
       "      <th>280</th>\n",
       "      <td>GSE28158</td>\n",
       "      <td>False</td>\n",
       "      <td>True</td>\n",
       "      <td>False</td>\n",
       "    </tr>\n",
       "    <tr>\n",
       "      <th>289</th>\n",
       "      <td>GSE28302</td>\n",
       "      <td>False</td>\n",
       "      <td>True</td>\n",
       "      <td>True</td>\n",
       "    </tr>\n",
       "    <tr>\n",
       "      <th>368</th>\n",
       "      <td>GSE30185</td>\n",
       "      <td>False</td>\n",
       "      <td>True</td>\n",
       "      <td>True</td>\n",
       "    </tr>\n",
       "    <tr>\n",
       "      <th>414</th>\n",
       "      <td>GSE31679</td>\n",
       "      <td>False</td>\n",
       "      <td>True</td>\n",
       "      <td>True</td>\n",
       "    </tr>\n",
       "    <tr>\n",
       "      <th>420</th>\n",
       "      <td>GSE31941</td>\n",
       "      <td>False</td>\n",
       "      <td>True</td>\n",
       "      <td>True</td>\n",
       "    </tr>\n",
       "    <tr>\n",
       "      <th>...</th>\n",
       "      <td>...</td>\n",
       "      <td>...</td>\n",
       "      <td>...</td>\n",
       "      <td>...</td>\n",
       "    </tr>\n",
       "    <tr>\n",
       "      <th>1118</th>\n",
       "      <td>GSE51441</td>\n",
       "      <td>False</td>\n",
       "      <td>True</td>\n",
       "      <td>True</td>\n",
       "    </tr>\n",
       "    <tr>\n",
       "      <th>1123</th>\n",
       "      <td>GSE51495</td>\n",
       "      <td>False</td>\n",
       "      <td>True</td>\n",
       "      <td>True</td>\n",
       "    </tr>\n",
       "    <tr>\n",
       "      <th>1144</th>\n",
       "      <td>GSE52232</td>\n",
       "      <td>False</td>\n",
       "      <td>True</td>\n",
       "      <td>True</td>\n",
       "    </tr>\n",
       "    <tr>\n",
       "      <th>1159</th>\n",
       "      <td>GSE52609</td>\n",
       "      <td>False</td>\n",
       "      <td>True</td>\n",
       "      <td>True</td>\n",
       "    </tr>\n",
       "    <tr>\n",
       "      <th>1173</th>\n",
       "      <td>GSE52991</td>\n",
       "      <td>False</td>\n",
       "      <td>True</td>\n",
       "      <td>True</td>\n",
       "    </tr>\n",
       "    <tr>\n",
       "      <th>1210</th>\n",
       "      <td>GSE54087</td>\n",
       "      <td>False</td>\n",
       "      <td>True</td>\n",
       "      <td>True</td>\n",
       "    </tr>\n",
       "    <tr>\n",
       "      <th>1227</th>\n",
       "      <td>GSE54507</td>\n",
       "      <td>False</td>\n",
       "      <td>True</td>\n",
       "      <td>True</td>\n",
       "    </tr>\n",
       "    <tr>\n",
       "      <th>1238</th>\n",
       "      <td>GSE54648</td>\n",
       "      <td>False</td>\n",
       "      <td>True</td>\n",
       "      <td>True</td>\n",
       "    </tr>\n",
       "    <tr>\n",
       "      <th>1241</th>\n",
       "      <td>GSE54666</td>\n",
       "      <td>False</td>\n",
       "      <td>True</td>\n",
       "      <td>True</td>\n",
       "    </tr>\n",
       "    <tr>\n",
       "      <th>1250</th>\n",
       "      <td>GSE54936</td>\n",
       "      <td>False</td>\n",
       "      <td>True</td>\n",
       "      <td>True</td>\n",
       "    </tr>\n",
       "    <tr>\n",
       "      <th>1291</th>\n",
       "      <td>GSE55977</td>\n",
       "      <td>False</td>\n",
       "      <td>True</td>\n",
       "      <td>True</td>\n",
       "    </tr>\n",
       "    <tr>\n",
       "      <th>1355</th>\n",
       "      <td>GSE58254</td>\n",
       "      <td>False</td>\n",
       "      <td>True</td>\n",
       "      <td>True</td>\n",
       "    </tr>\n",
       "    <tr>\n",
       "      <th>1360</th>\n",
       "      <td>GSE58348</td>\n",
       "      <td>False</td>\n",
       "      <td>True</td>\n",
       "      <td>True</td>\n",
       "    </tr>\n",
       "    <tr>\n",
       "      <th>1361</th>\n",
       "      <td>GSE58349</td>\n",
       "      <td>False</td>\n",
       "      <td>True</td>\n",
       "      <td>True</td>\n",
       "    </tr>\n",
       "    <tr>\n",
       "      <th>1362</th>\n",
       "      <td>GSE58364</td>\n",
       "      <td>False</td>\n",
       "      <td>True</td>\n",
       "      <td>True</td>\n",
       "    </tr>\n",
       "    <tr>\n",
       "      <th>1370</th>\n",
       "      <td>GSE58809</td>\n",
       "      <td>False</td>\n",
       "      <td>True</td>\n",
       "      <td>True</td>\n",
       "    </tr>\n",
       "    <tr>\n",
       "      <th>1371</th>\n",
       "      <td>GSE58844</td>\n",
       "      <td>False</td>\n",
       "      <td>True</td>\n",
       "      <td>True</td>\n",
       "    </tr>\n",
       "    <tr>\n",
       "      <th>1372</th>\n",
       "      <td>GSE58860</td>\n",
       "      <td>False</td>\n",
       "      <td>True</td>\n",
       "      <td>True</td>\n",
       "    </tr>\n",
       "    <tr>\n",
       "      <th>1373</th>\n",
       "      <td>GSE58892</td>\n",
       "      <td>False</td>\n",
       "      <td>True</td>\n",
       "      <td>True</td>\n",
       "    </tr>\n",
       "    <tr>\n",
       "      <th>1377</th>\n",
       "      <td>GSE59055</td>\n",
       "      <td>False</td>\n",
       "      <td>True</td>\n",
       "      <td>True</td>\n",
       "    </tr>\n",
       "    <tr>\n",
       "      <th>1378</th>\n",
       "      <td>GSE59057</td>\n",
       "      <td>False</td>\n",
       "      <td>True</td>\n",
       "      <td>True</td>\n",
       "    </tr>\n",
       "    <tr>\n",
       "      <th>1385</th>\n",
       "      <td>GSE59432</td>\n",
       "      <td>False</td>\n",
       "      <td>True</td>\n",
       "      <td>True</td>\n",
       "    </tr>\n",
       "    <tr>\n",
       "      <th>1395</th>\n",
       "      <td>GSE59805</td>\n",
       "      <td>False</td>\n",
       "      <td>True</td>\n",
       "      <td>True</td>\n",
       "    </tr>\n",
       "    <tr>\n",
       "      <th>1408</th>\n",
       "      <td>GSE60535</td>\n",
       "      <td>False</td>\n",
       "      <td>True</td>\n",
       "      <td>True</td>\n",
       "    </tr>\n",
       "    <tr>\n",
       "      <th>1420</th>\n",
       "      <td>GSE60898</td>\n",
       "      <td>False</td>\n",
       "      <td>True</td>\n",
       "      <td>True</td>\n",
       "    </tr>\n",
       "    <tr>\n",
       "      <th>1422</th>\n",
       "      <td>GSE60970</td>\n",
       "      <td>False</td>\n",
       "      <td>True</td>\n",
       "      <td>True</td>\n",
       "    </tr>\n",
       "    <tr>\n",
       "      <th>1451</th>\n",
       "      <td>GSE62441</td>\n",
       "      <td>False</td>\n",
       "      <td>True</td>\n",
       "      <td>True</td>\n",
       "    </tr>\n",
       "    <tr>\n",
       "      <th>1460</th>\n",
       "      <td>GSE63041</td>\n",
       "      <td>False</td>\n",
       "      <td>True</td>\n",
       "      <td>True</td>\n",
       "    </tr>\n",
       "    <tr>\n",
       "      <th>1476</th>\n",
       "      <td>GSE63988</td>\n",
       "      <td>False</td>\n",
       "      <td>True</td>\n",
       "      <td>True</td>\n",
       "    </tr>\n",
       "    <tr>\n",
       "      <th>1477</th>\n",
       "      <td>GSE64000</td>\n",
       "      <td>False</td>\n",
       "      <td>True</td>\n",
       "      <td>True</td>\n",
       "    </tr>\n",
       "  </tbody>\n",
       "</table>\n",
       "<p>89 rows × 4 columns</p>\n",
       "</div>"
      ],
      "text/plain": [
       "     accession model1 model2 model3\n",
       "5     GSE16170  False   True   True\n",
       "43    GSE19274  False   True   True\n",
       "112   GSE22792  False   True   True\n",
       "120   GSE22955  False   True  False\n",
       "126   GSE23135  False   True   True\n",
       "127   GSE23136  False   True   True\n",
       "128   GSE23137  False   True   True\n",
       "129   GSE23138  False   True   True\n",
       "130   GSE23139  False   True   True\n",
       "131   GSE23289  False   True   True\n",
       "133   GSE23350  False   True   True\n",
       "148   GSE23706  False   True   True\n",
       "154   GSE23904  False   True   True\n",
       "156   GSE23991  False   True   True\n",
       "167   GSE24520  False   True   True\n",
       "168   GSE24526  False   True   True\n",
       "180   GSE24896  False   True   True\n",
       "183   GSE24975  False   True   True\n",
       "184   GSE24993  False   True   True\n",
       "205   GSE25744  False   True   True\n",
       "207   GSE25837  False   True   True\n",
       "230   GSE26566  False   True  False\n",
       "232   GSE26595  False   True   True\n",
       "256   GSE27276  False   True   True\n",
       "268   GSE27533  False   True   True\n",
       "280   GSE28158  False   True  False\n",
       "289   GSE28302  False   True   True\n",
       "368   GSE30185  False   True   True\n",
       "414   GSE31679  False   True   True\n",
       "420   GSE31941  False   True   True\n",
       "...        ...    ...    ...    ...\n",
       "1118  GSE51441  False   True   True\n",
       "1123  GSE51495  False   True   True\n",
       "1144  GSE52232  False   True   True\n",
       "1159  GSE52609  False   True   True\n",
       "1173  GSE52991  False   True   True\n",
       "1210  GSE54087  False   True   True\n",
       "1227  GSE54507  False   True   True\n",
       "1238  GSE54648  False   True   True\n",
       "1241  GSE54666  False   True   True\n",
       "1250  GSE54936  False   True   True\n",
       "1291  GSE55977  False   True   True\n",
       "1355  GSE58254  False   True   True\n",
       "1360  GSE58348  False   True   True\n",
       "1361  GSE58349  False   True   True\n",
       "1362  GSE58364  False   True   True\n",
       "1370  GSE58809  False   True   True\n",
       "1371  GSE58844  False   True   True\n",
       "1372  GSE58860  False   True   True\n",
       "1373  GSE58892  False   True   True\n",
       "1377  GSE59055  False   True   True\n",
       "1378  GSE59057  False   True   True\n",
       "1385  GSE59432  False   True   True\n",
       "1395  GSE59805  False   True   True\n",
       "1408  GSE60535  False   True   True\n",
       "1420  GSE60898  False   True   True\n",
       "1422  GSE60970  False   True   True\n",
       "1451  GSE62441  False   True   True\n",
       "1460  GSE63041  False   True   True\n",
       "1476  GSE63988  False   True   True\n",
       "1477  GSE64000  False   True   True\n",
       "\n",
       "[89 rows x 4 columns]"
      ]
     },
     "execution_count": 144,
     "metadata": {},
     "output_type": "execute_result"
    }
   ],
   "source": [
    "res_df.query('model2')"
   ]
  },
  {
   "cell_type": "code",
   "execution_count": 61,
   "metadata": {
    "collapsed": false
   },
   "outputs": [
    {
     "name": "stdout",
     "output_type": "stream",
     "text": [
      "True\n",
      "True\n"
     ]
    }
   ],
   "source": [
    "table = values * read_clean('GSE16170')\n",
    "print(first_line_is_header(table))\n",
    "print(rest_lines_is_values(table, start_row=1, start_col=2))\n"
   ]
  },
  {
   "cell_type": "code",
   "execution_count": 53,
   "metadata": {
    "collapsed": false
   },
   "outputs": [
    {
     "data": {
      "text/plain": [
       "[['ID_REF',\n",
       "  'SYMBOL',\n",
       "  'SAMPLE 1 (Average signal)',\n",
       "  'SAMPLE 1 (p-Value)',\n",
       "  'SAMPLE 2 (Average signal)',\n",
       "  'SAMPLE 2 (p-Value)',\n",
       "  'SAMPLE 3 (Average signal)',\n",
       "  'SAMPLE 3 (p-Value)',\n",
       "  'SAMPLE 4 (Average signal)',\n",
       "  'SAMPLE 4 (p-Value)',\n",
       "  'SAMPLE 5 (Average signal)',\n",
       "  'SAMPLE 5 (p-Value)',\n",
       "  'SAMPLE 6 (Average signal)',\n",
       "  'SAMPLE 6 (p-Value)',\n",
       "  '',\n",
       "  ''],\n",
       " ['ILMN_1809034',\n",
       "  '15E1.2',\n",
       "  '426.9661',\n",
       "  '0',\n",
       "  '362.5882',\n",
       "  '0',\n",
       "  '474.5491',\n",
       "  '0',\n",
       "  '580.3371',\n",
       "  '0',\n",
       "  '512.84',\n",
       "  '0',\n",
       "  '449.0536',\n",
       "  '0',\n",
       "  '',\n",
       "  ''],\n",
       " ['ILMN_1660305',\n",
       "  \"2'-PDE\",\n",
       "  '494.7791',\n",
       "  '0',\n",
       "  '302.9382',\n",
       "  '0',\n",
       "  '471.6671',\n",
       "  '0',\n",
       "  '461.2837',\n",
       "  '0',\n",
       "  '361.888',\n",
       "  '0',\n",
       "  '341.4054',\n",
       "  '0',\n",
       "  '',\n",
       "  ''],\n",
       " ['ILMN_1762337',\n",
       "  '7A5',\n",
       "  '76.51974',\n",
       "  '0.8328313',\n",
       "  '74.14654',\n",
       "  '0.876506',\n",
       "  '92.10452',\n",
       "  '0.2740964',\n",
       "  '74.74339',\n",
       "  '0.8870482',\n",
       "  '83.25055',\n",
       "  '0.6716868',\n",
       "  '82.63262',\n",
       "  '0.5798193',\n",
       "  '',\n",
       "  ''],\n",
       " ['ILMN_2055271',\n",
       "  'A1BG',\n",
       "  '117.1434',\n",
       "  '0.04216867',\n",
       "  '95.63122',\n",
       "  '0.2048193',\n",
       "  '110.0739',\n",
       "  '0.06777108',\n",
       "  '121.0941',\n",
       "  '0.04518072',\n",
       "  '129.044',\n",
       "  '0.0376506',\n",
       "  '117.1093',\n",
       "  '0.05421687',\n",
       "  '',\n",
       "  ''],\n",
       " ['ILMN_1814316',\n",
       "  'A2BP1',\n",
       "  '71.51961',\n",
       "  '0.9472892',\n",
       "  '74.61415',\n",
       "  '0.8539157',\n",
       "  '77.5058',\n",
       "  '0.7409639',\n",
       "  '72.71141',\n",
       "  '0.9246988',\n",
       "  '77.80893',\n",
       "  '0.8433735',\n",
       "  '77.84913',\n",
       "  '0.7786145',\n",
       "  '',\n",
       "  ''],\n",
       " ['ILMN_2359168',\n",
       "  'A2BP1',\n",
       "  '95.0515',\n",
       "  '0.2274096',\n",
       "  '93.73884',\n",
       "  '0.2530121',\n",
       "  '87.10406',\n",
       "  '0.3930723',\n",
       "  '90.35371',\n",
       "  '0.3493976',\n",
       "  '105.7634',\n",
       "  '0.128012',\n",
       "  '87.08289',\n",
       "  '0.4307229',\n",
       "  '',\n",
       "  ''],\n",
       " ['ILMN_1731507',\n",
       "  'A2BP1',\n",
       "  '74.26746',\n",
       "  '0.9066265',\n",
       "  '73.5993',\n",
       "  '0.8840361',\n",
       "  '65.95557',\n",
       "  '0.9939759',\n",
       "  '79.63602',\n",
       "  '0.7349398',\n",
       "  '77.00198',\n",
       "  '0.8795181',\n",
       "  '85.97488',\n",
       "  '0.4593374',\n",
       "  '',\n",
       "  '']]"
      ]
     },
     "execution_count": 53,
     "metadata": {},
     "output_type": "execute_result"
    }
   ],
   "source": [
    "table"
   ]
  },
  {
   "cell_type": "code",
   "execution_count": 38,
   "metadata": {
    "collapsed": false
   },
   "outputs": [
    {
     "data": {
      "text/plain": [
       "[False, False, False, False, False, False, False, False, False]"
      ]
     },
     "execution_count": 38,
     "metadata": {},
     "output_type": "execute_result"
    }
   ],
   "source": [
    "line_is_values(1) * table[1:]"
   ]
  },
  {
   "cell_type": "code",
   "execution_count": 40,
   "metadata": {
    "collapsed": false
   },
   "outputs": [
    {
     "name": "stdout",
     "output_type": "stream",
     "text": [
      "[True, True, True, True, False, False, False, False, False, False, False, False, False, False, False]\n",
      "[True]\n"
     ]
    }
   ],
   "source": [
    "print(is_float * table[1][1:])\n",
    "print(is_not_float * table[1][:1])"
   ]
  }
 ],
 "metadata": {
  "kernelspec": {
   "display_name": "Python 3",
   "language": "python",
   "name": "python3"
  },
  "language_info": {
   "codemirror_mode": {
    "name": "ipython",
    "version": 3
   },
   "file_extension": ".py",
   "mimetype": "text/x-python",
   "name": "python",
   "nbconvert_exporter": "python",
   "pygments_lexer": "ipython3",
   "version": "3.4.3"
  }
 },
 "nbformat": 4,
 "nbformat_minor": 0
}
