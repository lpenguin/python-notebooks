{
 "cells": [
  {
   "cell_type": "code",
   "execution_count": 11,
   "metadata": {
    "collapsed": false
   },
   "outputs": [],
   "source": [
    "%run ../misc/pandas-monkey.ipynb\n",
    "\n",
    "import pymongo\n",
    "db = pymongo.MongoClient().scraper_meta"
   ]
  },
  {
   "cell_type": "code",
   "execution_count": 5,
   "metadata": {
    "collapsed": false
   },
   "outputs": [
    {
     "data": {
      "text/plain": [
       "6213"
      ]
     },
     "execution_count": 5,
     "metadata": {},
     "output_type": "execute_result"
    }
   ],
   "source": [
    "db.samples.count({'platform': 'GPL97'})"
   ]
  },
  {
   "cell_type": "code",
   "execution_count": 20,
   "metadata": {
    "collapsed": false
   },
   "outputs": [
    {
     "data": {
      "text/html": [
       "<div>\n",
       "<table border=\"1\" class=\"dataframe\">\n",
       "  <thead>\n",
       "    <tr style=\"text-align: right;\">\n",
       "      <th></th>\n",
       "      <th>_id</th>\n",
       "      <th>accession</th>\n",
       "      <th>platform</th>\n",
       "      <th>series</th>\n",
       "    </tr>\n",
       "  </thead>\n",
       "  <tbody>\n",
       "    <tr>\n",
       "      <th>0</th>\n",
       "      <td>556ded1fa1385724d69f10c4</td>\n",
       "      <td>GSM3921</td>\n",
       "      <td>GPL96</td>\n",
       "      <td>GSE473</td>\n",
       "    </tr>\n",
       "  </tbody>\n",
       "</table>\n",
       "</div>"
      ],
      "text/plain": [
       "                        _id accession platform  series\n",
       "0  556ded1fa1385724d69f10c4   GSM3921    GPL96  GSE473"
      ]
     },
     "execution_count": 20,
     "metadata": {},
     "output_type": "execute_result"
    }
   ],
   "source": [
    "import pandas as pd\n",
    "\n",
    "s = pd.DataFrame(list(db.samples.find({'platform': 'GPL96'}, \n",
    "                                      {'accession': 1, 'series': 1, 'platform': 1})))\\\n",
    "    .expand('series')\n",
    "s[:1]"
   ]
  },
  {
   "cell_type": "code",
   "execution_count": 28,
   "metadata": {
    "collapsed": false
   },
   "outputs": [
    {
     "data": {
      "text/html": [
       "<div>\n",
       "<table border=\"1\" class=\"dataframe\">\n",
       "  <thead>\n",
       "    <tr style=\"text-align: right;\">\n",
       "      <th></th>\n",
       "      <th>platform</th>\n",
       "      <th>accession</th>\n",
       "      <th>samples</th>\n",
       "    </tr>\n",
       "  </thead>\n",
       "  <tbody>\n",
       "    <tr>\n",
       "      <th>0</th>\n",
       "      <td>GPL96</td>\n",
       "      <td>GSE1000</td>\n",
       "      <td>GSM15785,GSM15786,GSM15788,GSM15789,GSM15790,G...</td>\n",
       "    </tr>\n",
       "    <tr>\n",
       "      <th>1</th>\n",
       "      <td>GPL96</td>\n",
       "      <td>GSE10024</td>\n",
       "      <td>GSM253283,GSM253284,GSM253285,GSM253286,GSM253...</td>\n",
       "    </tr>\n",
       "    <tr>\n",
       "      <th>2</th>\n",
       "      <td>GPL96</td>\n",
       "      <td>GSE10043</td>\n",
       "      <td>GSM253743,GSM253744,GSM253745,GSM253746</td>\n",
       "    </tr>\n",
       "    <tr>\n",
       "      <th>3</th>\n",
       "      <td>GPL96</td>\n",
       "      <td>GSE10072</td>\n",
       "      <td>GSM254625,GSM254626,GSM254627,GSM254628,GSM254...</td>\n",
       "    </tr>\n",
       "    <tr>\n",
       "      <th>4</th>\n",
       "      <td>GPL96</td>\n",
       "      <td>GSE10089</td>\n",
       "      <td>GSM94303,GSM94304,GSM94305,GSM94306,GSM94307,G...</td>\n",
       "    </tr>\n",
       "  </tbody>\n",
       "</table>\n",
       "</div>"
      ],
      "text/plain": [
       "  platform accession                                            samples\n",
       "0    GPL96   GSE1000  GSM15785,GSM15786,GSM15788,GSM15789,GSM15790,G...\n",
       "1    GPL96  GSE10024  GSM253283,GSM253284,GSM253285,GSM253286,GSM253...\n",
       "2    GPL96  GSE10043            GSM253743,GSM253744,GSM253745,GSM253746\n",
       "3    GPL96  GSE10072  GSM254625,GSM254626,GSM254627,GSM254628,GSM254...\n",
       "4    GPL96  GSE10089  GSM94303,GSM94304,GSM94305,GSM94306,GSM94307,G..."
      ]
     },
     "execution_count": 28,
     "metadata": {},
     "output_type": "execute_result"
    }
   ],
   "source": [
    "samples_by_series = (s.groupby(['platform', 'series'])['accession']\n",
    "  .apply(','.join).reset_index()\n",
    "  .rename(columns={'series': 'accession', 'accession': 'samples'})\n",
    ")\n",
    "samples_by_series[:5]\n"
   ]
  },
  {
   "cell_type": "code",
   "execution_count": 32,
   "metadata": {
    "collapsed": true
   },
   "outputs": [],
   "source": [
    "samples_by_series.to_csv('series_gpl96.csv', index=False, header=True)"
   ]
  },
  {
   "cell_type": "code",
   "execution_count": 36,
   "metadata": {
    "collapsed": false
   },
   "outputs": [
    {
     "name": "stdout",
     "output_type": "stream",
     "text": [
      "-rw-r--r--  1 nikita  staff   433K 31 июл 17:21 series_gpl96.csv\r\n"
     ]
    }
   ],
   "source": [
    "!ls -lah series_gpl96.csv"
   ]
  },
  {
   "cell_type": "code",
   "execution_count": 39,
   "metadata": {
    "collapsed": false
   },
   "outputs": [
    {
     "name": "stdout",
     "output_type": "stream",
     "text": [
      "\r",
      "series_gpl96.csv                                0%    0     0.0KB/s   --:-- ETA\r",
      "series_gpl96.csv                              100%  433KB 432.8KB/s   00:00    \r\n"
     ]
    }
   ],
   "source": [
    "!scp series_gpl96.csv npryanichnikov@ui2.computing.kiae.ru:/home/users/npryanichnikov/ls2/preproc/"
   ]
  },
  {
   "cell_type": "code",
   "execution_count": 40,
   "metadata": {
    "collapsed": false
   },
   "outputs": [
    {
     "name": "stdout",
     "output_type": "stream",
     "text": [
      "On branch master\r\n",
      "Your branch is up-to-date with 'origin/master'.\r\n",
      "\r\n",
      "Untracked files:\r\n",
      "  (use \"git add <file>...\" to include in what will be committed)\r\n",
      "\r\n",
      "\t\u001b[31m../data/pharm-atlas/\u001b[m\r\n",
      "\t\u001b[31m../data/stargeo_train_set.csv\u001b[m\r\n",
      "\t\u001b[31m../data/stargeo_train_set.csv.zip\u001b[m\r\n",
      "\t\u001b[31m../data/tags.csv\u001b[m\r\n",
      "\t\u001b[31m../elasitc-annotation/\u001b[m\r\n",
      "\t\u001b[31m../misc/\u001b[m\r\n",
      "\t\u001b[31m../pharm-atlas.ipynb\u001b[m\r\n",
      "\t\u001b[31m./\u001b[m\r\n",
      "\t\u001b[31m../stargeo-annotation.ipynb\u001b[m\r\n",
      "\r\n",
      "nothing added to commit but untracked files present (use \"git add\" to track)\r\n"
     ]
    }
   ],
   "source": [
    "!git add ../elasitc-annotation/ ../misc/ ../stargeo-annotation.ipynb"
   ]
  }
 ],
 "metadata": {
  "kernelspec": {
   "display_name": "Python 3",
   "language": "python",
   "name": "python3"
  },
  "language_info": {
   "codemirror_mode": {
    "name": "ipython",
    "version": 3
   },
   "file_extension": ".py",
   "mimetype": "text/x-python",
   "name": "python",
   "nbconvert_exporter": "python",
   "pygments_lexer": "ipython3",
   "version": "3.4.3"
  }
 },
 "nbformat": 4,
 "nbformat_minor": 0
}
