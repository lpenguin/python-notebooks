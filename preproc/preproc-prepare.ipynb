{
 "cells": [
  {
   "cell_type": "code",
   "execution_count": 1,
   "metadata": {
    "collapsed": false
   },
   "outputs": [],
   "source": [
    "%run ../misc/pandas-monkey.ipynb\n",
    "\n",
    "import pymongo\n",
    "db = pymongo.MongoClient().scraper_meta"
   ]
  },
  {
   "cell_type": "code",
   "execution_count": 4,
   "metadata": {
    "collapsed": false
   },
   "outputs": [
    {
     "data": {
      "text/plain": [
       "97405"
      ]
     },
     "execution_count": 4,
     "metadata": {},
     "output_type": "execute_result"
    }
   ],
   "source": [
    "platforms = ['GPL' + str(x) for x in [\n",
    "            571, 1261,\n",
    "            # 6244, getting strange errors\n",
    "            6246, 90, 3921, 5175,\n",
    "            # 5188, getting strange errors\n",
    "            8321\n",
    "        ]]\n",
    "db.samples.count({'platform': {'$in': platforms}})"
   ]
  },
  {
   "cell_type": "code",
   "execution_count": 1,
   "metadata": {
    "collapsed": false
   },
   "outputs": [
    {
     "data": {
      "text/plain": [
       "6.764236111111111"
      ]
     },
     "execution_count": 1,
     "metadata": {},
     "output_type": "execute_result"
    }
   ],
   "source": [
    "(97405 * 300) / (50) / (3600 * 24)\n",
    "# Семь суток будут препроцессится все семплы для аффиметриксовых платформ"
   ]
  },
  {
   "cell_type": "code",
   "execution_count": 5,
   "metadata": {
    "collapsed": false
   },
   "outputs": [
    {
     "data": {
      "text/html": [
       "<div>\n",
       "<table border=\"1\" class=\"dataframe\">\n",
       "  <thead>\n",
       "    <tr style=\"text-align: right;\">\n",
       "      <th></th>\n",
       "      <th>_id</th>\n",
       "      <th>accession</th>\n",
       "      <th>platform</th>\n",
       "      <th>series</th>\n",
       "    </tr>\n",
       "  </thead>\n",
       "  <tbody>\n",
       "    <tr>\n",
       "      <th>0</th>\n",
       "      <td>556deee7a1385724d69f79b9</td>\n",
       "      <td>GSM24056</td>\n",
       "      <td>GPL1261</td>\n",
       "      <td>GSE1435</td>\n",
       "    </tr>\n",
       "  </tbody>\n",
       "</table>\n",
       "</div>"
      ],
      "text/plain": [
       "                        _id accession platform   series\n",
       "0  556deee7a1385724d69f79b9  GSM24056  GPL1261  GSE1435"
      ]
     },
     "execution_count": 5,
     "metadata": {},
     "output_type": "execute_result"
    }
   ],
   "source": [
    "import pandas as pd\n",
    "\n",
    "s = pd.DataFrame(list(db.samples.find({'platform': {'$in': platforms}}, \n",
    "                                      {'accession': 1, 'series': 1, 'platform': 1})))\\\n",
    "    .expand('series')\n",
    "s[:1]"
   ]
  },
  {
   "cell_type": "code",
   "execution_count": 7,
   "metadata": {
    "collapsed": false
   },
   "outputs": [
    {
     "name": "stdout",
     "output_type": "stream",
     "text": [
      "(6213, 3)\n"
     ]
    },
    {
     "data": {
      "text/html": [
       "<div>\n",
       "<table border=\"1\" class=\"dataframe\">\n",
       "  <thead>\n",
       "    <tr style=\"text-align: right;\">\n",
       "      <th></th>\n",
       "      <th>platform</th>\n",
       "      <th>accession</th>\n",
       "      <th>samples</th>\n",
       "    </tr>\n",
       "  </thead>\n",
       "  <tbody>\n",
       "    <tr>\n",
       "      <th>0</th>\n",
       "      <td>GPL1261</td>\n",
       "      <td>GSE10000</td>\n",
       "      <td>GSM44658,GSM44659,GSM44660,GSM44661,GSM44662,G...</td>\n",
       "    </tr>\n",
       "    <tr>\n",
       "      <th>1</th>\n",
       "      <td>GPL1261</td>\n",
       "      <td>GSE10011</td>\n",
       "      <td>GSM252936,GSM252937,GSM252938,GSM252939,GSM252...</td>\n",
       "    </tr>\n",
       "    <tr>\n",
       "      <th>2</th>\n",
       "      <td>GPL1261</td>\n",
       "      <td>GSE10017</td>\n",
       "      <td>GSM253173,GSM253174</td>\n",
       "    </tr>\n",
       "    <tr>\n",
       "      <th>3</th>\n",
       "      <td>GPL1261</td>\n",
       "      <td>GSE10026</td>\n",
       "      <td>GSM252180,GSM252181,GSM252182,GSM252183,GSM252...</td>\n",
       "    </tr>\n",
       "    <tr>\n",
       "      <th>4</th>\n",
       "      <td>GPL1261</td>\n",
       "      <td>GSE10071</td>\n",
       "      <td>GSM190542,GSM190546,GSM190547,GSM190548,GSM190...</td>\n",
       "    </tr>\n",
       "  </tbody>\n",
       "</table>\n",
       "</div>"
      ],
      "text/plain": [
       "  platform accession                                            samples\n",
       "0  GPL1261  GSE10000  GSM44658,GSM44659,GSM44660,GSM44661,GSM44662,G...\n",
       "1  GPL1261  GSE10011  GSM252936,GSM252937,GSM252938,GSM252939,GSM252...\n",
       "2  GPL1261  GSE10017                                GSM253173,GSM253174\n",
       "3  GPL1261  GSE10026  GSM252180,GSM252181,GSM252182,GSM252183,GSM252...\n",
       "4  GPL1261  GSE10071  GSM190542,GSM190546,GSM190547,GSM190548,GSM190..."
      ]
     },
     "execution_count": 7,
     "metadata": {},
     "output_type": "execute_result"
    }
   ],
   "source": [
    "samples_by_series = (s.groupby(['platform', 'series'])['accession']\n",
    "  .apply(','.join).reset_index()\n",
    "  .rename(columns={'series': 'accession', 'accession': 'samples'})\n",
    ")\n",
    "print(samples_by_series.shape)\n",
    "samples_by_series[:5]\n"
   ]
  },
  {
   "cell_type": "code",
   "execution_count": 10,
   "metadata": {
    "collapsed": true
   },
   "outputs": [],
   "source": [
    "samples_by_series.to_csv('series_affy.csv', index=False, header=True)"
   ]
  },
  {
   "cell_type": "code",
   "execution_count": 12,
   "metadata": {
    "collapsed": false
   },
   "outputs": [
    {
     "name": "stdout",
     "output_type": "stream",
     "text": [
      "-rw-r--r--  1 nikita  staff   1,2M  3 авг 14:14 series_affy.csv\r\n",
      "-rw-r--r--  1 nikita  staff   433K 31 июл 17:21 series_gpl96.csv\r\n"
     ]
    }
   ],
   "source": [
    "!ls -lah *.csv"
   ]
  },
  {
   "cell_type": "code",
   "execution_count": 13,
   "metadata": {
    "collapsed": false
   },
   "outputs": [
    {
     "name": "stdout",
     "output_type": "stream",
     "text": [
      "series_affy.csv                               100% 1258KB   1.2MB/s   00:00    \n",
      "series_gpl96.csv                              100%  433KB 432.8KB/s   00:00    \n"
     ]
    }
   ],
   "source": [
    "!scp *.csv npryanichnikov@ui2.computing.kiae.ru:/home/users/npryanichnikov/ls2/preproc/"
   ]
  },
  {
   "cell_type": "code",
   "execution_count": 42,
   "metadata": {
    "collapsed": false
   },
   "outputs": [],
   "source": [
    "!git add ../elasitc-annotation/ ../misc/ ../stargeo-annotation.ipynb ../data/pharm-atlas/"
   ]
  },
  {
   "cell_type": "code",
   "execution_count": 44,
   "metadata": {
    "collapsed": true
   },
   "outputs": [],
   "source": [
    "!git add preproc-prepare.ipynb"
   ]
  },
  {
   "cell_type": "code",
   "execution_count": 46,
   "metadata": {
    "collapsed": false
   },
   "outputs": [
    {
     "name": "stdout",
     "output_type": "stream",
     "text": [
      "On branch master\r\n",
      "Your branch is ahead of 'origin/master' by 1 commit.\r\n",
      "  (use \"git push\" to publish your local commits)\r\n",
      "\r\n",
      "Untracked files:\r\n",
      "\t\u001b[31m../data/stargeo_train_set.csv\u001b[m\r\n",
      "\t\u001b[31m../data/stargeo_train_set.csv.zip\u001b[m\r\n",
      "\t\u001b[31m../data/tags.csv\u001b[m\r\n",
      "\t\u001b[31m../pharm-atlas.ipynb\u001b[m\r\n",
      "\t\u001b[31mpreproc.ipynb\u001b[m\r\n",
      "\t\u001b[31mseries_gpl96.csv\u001b[m\r\n",
      "\r\n",
      "nothing added to commit but untracked files present\r\n"
     ]
    }
   ],
   "source": [
    "!git commit -am 'preproc prepare'"
   ]
  },
  {
   "cell_type": "code",
   "execution_count": 47,
   "metadata": {
    "collapsed": false
   },
   "outputs": [
    {
     "name": "stdout",
     "output_type": "stream",
     "text": [
      "Counting objects: 15, done.\n",
      "Delta compression using up to 4 threads.\n",
      "Compressing objects: 100% (10/10), done.\n",
      "Writing objects: 100% (13/13), 980.45 KiB | 0 bytes/s, done.\n",
      "Total 13 (delta 3), reused 0 (delta 0)\n",
      "error: RPC failed; result=55, HTTP code = 200\n",
      "fatal: The remote end hung up unexpectedly\n",
      "fatal: The remote end hung up unexpectedly\n",
      "Everything up-to-date\n"
     ]
    }
   ],
   "source": [
    "!git push origin master"
   ]
  }
 ],
 "metadata": {
  "kernelspec": {
   "display_name": "Python 3",
   "language": "python",
   "name": "python3"
  },
  "language_info": {
   "codemirror_mode": {
    "name": "ipython",
    "version": 3
   },
   "file_extension": ".py",
   "mimetype": "text/x-python",
   "name": "python",
   "nbconvert_exporter": "python",
   "pygments_lexer": "ipython3",
   "version": "3.4.3"
  }
 },
 "nbformat": 4,
 "nbformat_minor": 0
}
