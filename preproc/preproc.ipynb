{
 "cells": [
  {
   "cell_type": "code",
   "execution_count": 2,
   "metadata": {
    "collapsed": true
   },
   "outputs": [],
   "source": [
    "import pandas as pd\n"
   ]
  },
  {
   "cell_type": "code",
   "execution_count": 30,
   "metadata": {
    "collapsed": false
   },
   "outputs": [
    {
     "data": {
      "text/plain": [
       "['/Users/nikita/Data/preproc/GSE19864_GPL570/out/GSM496089.expr',\n",
       " '/Users/nikita/Data/preproc/GSE19864_GPL570/out/GSM496090.expr',\n",
       " '/Users/nikita/Data/preproc/GSE19864_GPL570/out/GSM496091.expr',\n",
       " '/Users/nikita/Data/preproc/GSE19864_GPL570/out/GSM496092.expr',\n",
       " '/Users/nikita/Data/preproc/GSE19864_GPL570/out/GSM496093.expr',\n",
       " '/Users/nikita/Data/preproc/GSE19864_GPL570/out/GSM496094.expr',\n",
       " '/Users/nikita/Data/preproc/GSE19864_GPL570/out/GSM496095.expr',\n",
       " '/Users/nikita/Data/preproc/GSE19864_GPL570/out/GSM496096.expr',\n",
       " '/Users/nikita/Data/preproc/GSE19864_GPL570/out/GSM496097.expr',\n",
       " '/Users/nikita/Data/preproc/GSE19864_GPL570/out/GSM496098.expr']"
      ]
     },
     "execution_count": 30,
     "metadata": {},
     "output_type": "execute_result"
    }
   ],
   "source": [
    "exprs = !ls -1 /Users/nikita/Data/preproc/GSE19864_GPL570/out/*.expr\n",
    "exprs[:10]"
   ]
  },
  {
   "cell_type": "code",
   "execution_count": 35,
   "metadata": {
    "collapsed": false
   },
   "outputs": [],
   "source": [
    "samples = []\n",
    "for e in exprs:\n",
    "    samples.append(pd.read_csv(e, skiprows=1, sep=' ', names=['probe', 'expr']))"
   ]
  },
  {
   "cell_type": "code",
   "execution_count": 36,
   "metadata": {
    "collapsed": false
   },
   "outputs": [
    {
     "data": {
      "text/html": [
       "<div>\n",
       "<table border=\"1\" class=\"dataframe\">\n",
       "  <thead>\n",
       "    <tr style=\"text-align: right;\">\n",
       "      <th></th>\n",
       "      <th>probe</th>\n",
       "      <th>expr</th>\n",
       "    </tr>\n",
       "  </thead>\n",
       "  <tbody>\n",
       "    <tr>\n",
       "      <th>0</th>\n",
       "      <td>1007_s_at</td>\n",
       "      <td>303.244516</td>\n",
       "    </tr>\n",
       "    <tr>\n",
       "      <th>1</th>\n",
       "      <td>1053_at</td>\n",
       "      <td>66.793174</td>\n",
       "    </tr>\n",
       "    <tr>\n",
       "      <th>2</th>\n",
       "      <td>117_at</td>\n",
       "      <td>57.692653</td>\n",
       "    </tr>\n",
       "    <tr>\n",
       "      <th>3</th>\n",
       "      <td>121_at</td>\n",
       "      <td>409.035096</td>\n",
       "    </tr>\n",
       "    <tr>\n",
       "      <th>4</th>\n",
       "      <td>1255_g_at</td>\n",
       "      <td>11.738109</td>\n",
       "    </tr>\n",
       "    <tr>\n",
       "      <th>5</th>\n",
       "      <td>1294_at</td>\n",
       "      <td>79.103901</td>\n",
       "    </tr>\n",
       "    <tr>\n",
       "      <th>6</th>\n",
       "      <td>1316_at</td>\n",
       "      <td>43.823432</td>\n",
       "    </tr>\n",
       "    <tr>\n",
       "      <th>7</th>\n",
       "      <td>1320_at</td>\n",
       "      <td>19.775184</td>\n",
       "    </tr>\n",
       "    <tr>\n",
       "      <th>8</th>\n",
       "      <td>1405_i_at</td>\n",
       "      <td>10.796360</td>\n",
       "    </tr>\n",
       "    <tr>\n",
       "      <th>9</th>\n",
       "      <td>1431_at</td>\n",
       "      <td>12.744064</td>\n",
       "    </tr>\n",
       "  </tbody>\n",
       "</table>\n",
       "</div>"
      ],
      "text/plain": [
       "       probe        expr\n",
       "0  1007_s_at  303.244516\n",
       "1    1053_at   66.793174\n",
       "2     117_at   57.692653\n",
       "3     121_at  409.035096\n",
       "4  1255_g_at   11.738109\n",
       "5    1294_at   79.103901\n",
       "6    1316_at   43.823432\n",
       "7    1320_at   19.775184\n",
       "8  1405_i_at   10.796360\n",
       "9    1431_at   12.744064"
      ]
     },
     "execution_count": 36,
     "metadata": {},
     "output_type": "execute_result"
    }
   ],
   "source": [
    "samples[1][:10]"
   ]
  },
  {
   "cell_type": "code",
   "execution_count": 37,
   "metadata": {
    "collapsed": false
   },
   "outputs": [
    {
     "name": "stdout",
     "output_type": "stream",
     "text": [
      "202.187545663\n",
      "199.708160639\n",
      "197.049729998\n",
      "207.59181009\n",
      "203.767367366\n",
      "198.286800607\n",
      "209.688342751\n",
      "196.536990873\n",
      "189.132770244\n",
      "200.658317567\n",
      "198.21997248\n",
      "200.436689022\n",
      "203.759512528\n",
      "202.589314656\n",
      "205.128109036\n",
      "206.856980008\n",
      "215.775897697\n",
      "215.11593673\n",
      "202.269860219\n",
      "211.672790598\n",
      "214.560430934\n",
      "215.478572096\n",
      "214.490706873\n",
      "213.931144039\n",
      "209.823092851\n",
      "207.263437004\n",
      "204.348725865\n",
      "204.768771406\n",
      "204.246270101\n",
      "212.785371037\n",
      "213.88667226\n",
      "205.086852054\n",
      "225.251232404\n",
      "222.191551428\n",
      "220.523328702\n",
      "220.312159638\n",
      "219.534561021\n",
      "220.39816585\n"
     ]
    }
   ],
   "source": [
    "for s in samples:\n",
    "    print(s['expr'].mean())"
   ]
  },
  {
   "cell_type": "code",
   "execution_count": null,
   "metadata": {
    "collapsed": true
   },
   "outputs": [],
   "source": []
  }
 ],
 "metadata": {
  "kernelspec": {
   "display_name": "Python 3",
   "language": "python",
   "name": "python3"
  },
  "language_info": {
   "codemirror_mode": {
    "name": "ipython",
    "version": 3
   },
   "file_extension": ".py",
   "mimetype": "text/x-python",
   "name": "python",
   "nbconvert_exporter": "python",
   "pygments_lexer": "ipython3",
   "version": "3.4.3"
  }
 },
 "nbformat": 4,
 "nbformat_minor": 0
}
