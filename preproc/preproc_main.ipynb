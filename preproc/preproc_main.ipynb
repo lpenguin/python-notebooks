{
 "cells": [
  {
   "cell_type": "code",
   "execution_count": 1,
   "metadata": {
    "collapsed": true
   },
   "outputs": [],
   "source": [
    "import sys\n",
    "sys.path.append('..')"
   ]
  },
  {
   "cell_type": "code",
   "execution_count": 2,
   "metadata": {
    "collapsed": true
   },
   "outputs": [],
   "source": [
    "FRMA_PLATFORMS = ['GPL' + str(x) for x in [\n",
    "    570, 571, 96,\n",
    "    1261,  # organism Mus musculus\n",
    "    6244,  # getting strange errors. data in matrix\n",
    "    # 1355,  # NO FRMA, Rattus norvegicus,\n",
    "    6246,  # no frma package (?). read.affybatch: The affy package can process data from the Gene ST 1.x series of arrays,\n",
    "    # but you should consider using either the oligo or xps packages, which are specifically\n",
    "    # designed for these arrays.\n",
    "    # there is no package called ‘mogene10stv1frmavecs’\n",
    "\n",
    "    90, # organism Saccharomyces cerevisiae\n",
    "    3921,\n",
    "    # 5175, # no frma package (?). read.affybatch: The affy package is not designed for this array type. \n",
    "    # Please use either the oligo or xps package.\n",
    "    # 5188, # no cdf frma packages\n",
    "    8321,  # organism Mus musculus\n",
    "]]\n",
    "\n",
    "AGLIENT_2CH_PLATFORMS = ['GPL4133', 'GPL6480', 'GPL15849', 'GPL1708', 'GPL887', 'GPL4091', 'GPL9128', 'GPL7264', 'GPL11387',\n",
    "             'GPL8687', 'GPL6848', 'GPL2879', 'GPL5477', 'GPL8841', 'GPL10123', 'GPL4093', 'GPL11386', 'GPL10806',\n",
    "             'GPL8269', 'GPL10150', 'GPL8583', 'GPL15931', 'GPL4126', 'GPL10152', 'GPL16050', 'GPL2567', 'GPL9053',\n",
    "             'GPL14550', 'GPL5325', 'GPL10808', 'GPL13691', 'GPL9075', 'GPL8736', 'GPL885', 'GPL9777', 'GPL7504',\n",
    "             'GPL8693', 'GPL2873', 'GPL17077', 'GPL10734', 'GPL13953', 'GPL13607', 'GPL13685', 'GPL7015', 'GPL15560',\n",
    "             'GPL18623', 'GPL10481', 'GPL16280', 'GPL8737', 'GPL11068']\n",
    "\n",
    "ILLUMINA_PLATFORMS = list(map('GPL{}'.format, [\n",
    "   10558, 6947\n",
    "]))"
   ]
  },
  {
   "cell_type": "code",
   "execution_count": 3,
   "metadata": {
    "collapsed": true
   },
   "outputs": [],
   "source": [
    "from lib.annotation_api import Api"
   ]
  },
  {
   "cell_type": "code",
   "execution_count": 4,
   "metadata": {
    "collapsed": true
   },
   "outputs": [],
   "source": [
    "api = Api('scraper_test_dev')"
   ]
  },
  {
   "cell_type": "code",
   "execution_count": 5,
   "metadata": {
    "collapsed": true
   },
   "outputs": [],
   "source": [
    "import pandas as pd"
   ]
  },
  {
   "cell_type": "code",
   "execution_count": 11,
   "metadata": {
    "collapsed": false
   },
   "outputs": [
    {
     "data": {
      "text/html": [
       "<div>\n",
       "<table border=\"1\" class=\"dataframe\">\n",
       "  <thead>\n",
       "    <tr style=\"text-align: right;\">\n",
       "      <th></th>\n",
       "      <th>accession</th>\n",
       "      <th>annotation</th>\n",
       "      <th>channel</th>\n",
       "      <th>characteristics</th>\n",
       "      <th>characteristics_raw</th>\n",
       "      <th>data_source</th>\n",
       "      <th>description</th>\n",
       "      <th>extracted_molecule</th>\n",
       "      <th>instrument_model</th>\n",
       "      <th>label</th>\n",
       "      <th>...</th>\n",
       "      <th>protocols</th>\n",
       "      <th>relations</th>\n",
       "      <th>sample_type</th>\n",
       "      <th>scrap_date</th>\n",
       "      <th>series</th>\n",
       "      <th>source_name</th>\n",
       "      <th>status</th>\n",
       "      <th>submission_date</th>\n",
       "      <th>supplementary_files</th>\n",
       "      <th>title</th>\n",
       "    </tr>\n",
       "  </thead>\n",
       "  <tbody>\n",
       "    <tr>\n",
       "      <th>0</th>\n",
       "      <td>GSM1690912</td>\n",
       "      <td>NaN</td>\n",
       "      <td>NaN</td>\n",
       "      <td>{'genotype': 'ighv unknown myd88 wt', 'age': '...</td>\n",
       "      <td>[tissue: Peripheral Blood, genotype: IGHV unkn...</td>\n",
       "      <td>geo</td>\n",
       "      <td>[Gene expression data from CLL patients]</td>\n",
       "      <td>total RNA</td>\n",
       "      <td>NaN</td>\n",
       "      <td>Biotin</td>\n",
       "      <td>...</td>\n",
       "      <td>[{'type': 'data_processing_protocol', 'text': ...</td>\n",
       "      <td>{}</td>\n",
       "      <td>RNA</td>\n",
       "      <td>2015-09-22 18:11:15.749</td>\n",
       "      <td>[GSE69034]</td>\n",
       "      <td>CLL Cells</td>\n",
       "      <td>Public on Jun 01 2015</td>\n",
       "      <td>2015-05-19</td>\n",
       "      <td>[]</td>\n",
       "      <td>CLL Patient Sample 49_CW210</td>\n",
       "    </tr>\n",
       "    <tr>\n",
       "      <th>1</th>\n",
       "      <td>GSM1690914</td>\n",
       "      <td>NaN</td>\n",
       "      <td>NaN</td>\n",
       "      <td>{'genotype': 'ighv unknown myd88 wt', 'age': '...</td>\n",
       "      <td>[tissue: Peripheral Blood, genotype: IGHV unkn...</td>\n",
       "      <td>geo</td>\n",
       "      <td>[Gene expression data from CLL patients]</td>\n",
       "      <td>total RNA</td>\n",
       "      <td>NaN</td>\n",
       "      <td>Biotin</td>\n",
       "      <td>...</td>\n",
       "      <td>[{'type': 'data_processing_protocol', 'text': ...</td>\n",
       "      <td>{}</td>\n",
       "      <td>RNA</td>\n",
       "      <td>2015-09-22 18:11:15.773</td>\n",
       "      <td>[GSE69034]</td>\n",
       "      <td>CLL Cells</td>\n",
       "      <td>Public on Jun 01 2015</td>\n",
       "      <td>2015-05-19</td>\n",
       "      <td>[]</td>\n",
       "      <td>CLL Patient Sample 82_CW258</td>\n",
       "    </tr>\n",
       "    <tr>\n",
       "      <th>2</th>\n",
       "      <td>GSM1690909</td>\n",
       "      <td>NaN</td>\n",
       "      <td>NaN</td>\n",
       "      <td>{'genotype': 'ighv unmutated myd88 wt', 'age':...</td>\n",
       "      <td>[tissue: Peripheral Blood, genotype: IGHV unmu...</td>\n",
       "      <td>geo</td>\n",
       "      <td>[Gene expression data from CLL patients]</td>\n",
       "      <td>total RNA</td>\n",
       "      <td>NaN</td>\n",
       "      <td>Biotin</td>\n",
       "      <td>...</td>\n",
       "      <td>[{'type': 'data_processing_protocol', 'text': ...</td>\n",
       "      <td>{}</td>\n",
       "      <td>RNA</td>\n",
       "      <td>2015-09-22 18:11:15.717</td>\n",
       "      <td>[GSE69034]</td>\n",
       "      <td>CLL Cells</td>\n",
       "      <td>Public on Jun 01 2015</td>\n",
       "      <td>2015-05-19</td>\n",
       "      <td>[]</td>\n",
       "      <td>CLL Patient Sample JB2009091005</td>\n",
       "    </tr>\n",
       "    <tr>\n",
       "      <th>3</th>\n",
       "      <td>GSM1690911</td>\n",
       "      <td>NaN</td>\n",
       "      <td>NaN</td>\n",
       "      <td>{'genotype': 'ighv unmutated myd88 wt', 'age':...</td>\n",
       "      <td>[tissue: Peripheral Blood, genotype: IGHV unmu...</td>\n",
       "      <td>geo</td>\n",
       "      <td>[Gene expression data from CLL patients]</td>\n",
       "      <td>total RNA</td>\n",
       "      <td>NaN</td>\n",
       "      <td>Biotin</td>\n",
       "      <td>...</td>\n",
       "      <td>[{'type': 'data_processing_protocol', 'text': ...</td>\n",
       "      <td>{}</td>\n",
       "      <td>RNA</td>\n",
       "      <td>2015-09-22 18:11:15.739</td>\n",
       "      <td>[GSE69034]</td>\n",
       "      <td>CLL Cells</td>\n",
       "      <td>Public on Jun 01 2015</td>\n",
       "      <td>2015-05-19</td>\n",
       "      <td>[]</td>\n",
       "      <td>CLL Patient Sample JB2009091022</td>\n",
       "    </tr>\n",
       "    <tr>\n",
       "      <th>4</th>\n",
       "      <td>GSM1690809</td>\n",
       "      <td>NaN</td>\n",
       "      <td>NaN</td>\n",
       "      <td>{'genotype': 'ighv mutated myd88 wt', 'age': '...</td>\n",
       "      <td>[tissue: Peripheral Blood, genotype: IGHV muta...</td>\n",
       "      <td>geo</td>\n",
       "      <td>[Gene expression data from CLL patients]</td>\n",
       "      <td>total RNA</td>\n",
       "      <td>NaN</td>\n",
       "      <td>Biotin</td>\n",
       "      <td>...</td>\n",
       "      <td>[{'type': 'data_processing_protocol', 'text': ...</td>\n",
       "      <td>{}</td>\n",
       "      <td>RNA</td>\n",
       "      <td>2015-09-22 18:11:14.532</td>\n",
       "      <td>[GSE69034]</td>\n",
       "      <td>CLL Cells</td>\n",
       "      <td>Public on Jun 01 2015</td>\n",
       "      <td>2015-05-19</td>\n",
       "      <td>[]</td>\n",
       "      <td>CLL Patient Sample JB2009091021</td>\n",
       "    </tr>\n",
       "  </tbody>\n",
       "</table>\n",
       "<p>5 rows × 27 columns</p>\n",
       "</div>"
      ],
      "text/plain": [
       "    accession annotation  channel  \\\n",
       "0  GSM1690912        NaN      NaN   \n",
       "1  GSM1690914        NaN      NaN   \n",
       "2  GSM1690909        NaN      NaN   \n",
       "3  GSM1690911        NaN      NaN   \n",
       "4  GSM1690809        NaN      NaN   \n",
       "\n",
       "                                     characteristics  \\\n",
       "0  {'genotype': 'ighv unknown myd88 wt', 'age': '...   \n",
       "1  {'genotype': 'ighv unknown myd88 wt', 'age': '...   \n",
       "2  {'genotype': 'ighv unmutated myd88 wt', 'age':...   \n",
       "3  {'genotype': 'ighv unmutated myd88 wt', 'age':...   \n",
       "4  {'genotype': 'ighv mutated myd88 wt', 'age': '...   \n",
       "\n",
       "                                 characteristics_raw data_source  \\\n",
       "0  [tissue: Peripheral Blood, genotype: IGHV unkn...         geo   \n",
       "1  [tissue: Peripheral Blood, genotype: IGHV unkn...         geo   \n",
       "2  [tissue: Peripheral Blood, genotype: IGHV unmu...         geo   \n",
       "3  [tissue: Peripheral Blood, genotype: IGHV unmu...         geo   \n",
       "4  [tissue: Peripheral Blood, genotype: IGHV muta...         geo   \n",
       "\n",
       "                                description extracted_molecule  \\\n",
       "0  [Gene expression data from CLL patients]          total RNA   \n",
       "1  [Gene expression data from CLL patients]          total RNA   \n",
       "2  [Gene expression data from CLL patients]          total RNA   \n",
       "3  [Gene expression data from CLL patients]          total RNA   \n",
       "4  [Gene expression data from CLL patients]          total RNA   \n",
       "\n",
       "   instrument_model   label               ...                 \\\n",
       "0               NaN  Biotin               ...                  \n",
       "1               NaN  Biotin               ...                  \n",
       "2               NaN  Biotin               ...                  \n",
       "3               NaN  Biotin               ...                  \n",
       "4               NaN  Biotin               ...                  \n",
       "\n",
       "                                           protocols  relations  sample_type  \\\n",
       "0  [{'type': 'data_processing_protocol', 'text': ...         {}          RNA   \n",
       "1  [{'type': 'data_processing_protocol', 'text': ...         {}          RNA   \n",
       "2  [{'type': 'data_processing_protocol', 'text': ...         {}          RNA   \n",
       "3  [{'type': 'data_processing_protocol', 'text': ...         {}          RNA   \n",
       "4  [{'type': 'data_processing_protocol', 'text': ...         {}          RNA   \n",
       "\n",
       "               scrap_date      series source_name                 status  \\\n",
       "0 2015-09-22 18:11:15.749  [GSE69034]   CLL Cells  Public on Jun 01 2015   \n",
       "1 2015-09-22 18:11:15.773  [GSE69034]   CLL Cells  Public on Jun 01 2015   \n",
       "2 2015-09-22 18:11:15.717  [GSE69034]   CLL Cells  Public on Jun 01 2015   \n",
       "3 2015-09-22 18:11:15.739  [GSE69034]   CLL Cells  Public on Jun 01 2015   \n",
       "4 2015-09-22 18:11:14.532  [GSE69034]   CLL Cells  Public on Jun 01 2015   \n",
       "\n",
       "  submission_date supplementary_files                            title  \n",
       "0      2015-05-19                  []      CLL Patient Sample 49_CW210  \n",
       "1      2015-05-19                  []      CLL Patient Sample 82_CW258  \n",
       "2      2015-05-19                  []  CLL Patient Sample JB2009091005  \n",
       "3      2015-05-19                  []  CLL Patient Sample JB2009091022  \n",
       "4      2015-05-19                  []  CLL Patient Sample JB2009091021  \n",
       "\n",
       "[5 rows x 27 columns]"
      ]
     },
     "execution_count": 11,
     "metadata": {},
     "output_type": "execute_result"
    }
   ],
   "source": [
    "frma_not_processed = pd.DataFrame(list(api.search_samples(platform=FRMA_PLATFORMS, preprocessed_exists=0)))\n",
    "frma_not_processed.head()"
   ]
  },
  {
   "cell_type": "code",
   "execution_count": 17,
   "metadata": {
    "collapsed": false
   },
   "outputs": [
    {
     "data": {
      "text/plain": [
       "(109980,)"
      ]
     },
     "execution_count": 17,
     "metadata": {},
     "output_type": "execute_result"
    }
   ],
   "source": [
    "frma_not_processed.accession.unique().shape"
   ]
  },
  {
   "cell_type": "code",
   "execution_count": 19,
   "metadata": {
    "collapsed": false
   },
   "outputs": [
    {
     "data": {
      "text/plain": [
       "23521"
      ]
     },
     "execution_count": 19,
     "metadata": {},
     "output_type": "execute_result"
    }
   ],
   "source": [
    "sum(map(lambda x: 1, api.search_samples(platform=AGLIENT_PLATFORMS, preprocessed=1)))"
   ]
  },
  {
   "cell_type": "code",
   "execution_count": 51,
   "metadata": {
    "collapsed": false
   },
   "outputs": [],
   "source": [
    "from sh import rsync\n",
    "\n",
    "def get_series_for_search(api, **kvargs):\n",
    "    series = {\n",
    "        (se, s['platform'])\n",
    "        for s in api.search_samples(**kvargs)\n",
    "        for se in s['series']\n",
    "    }\n",
    "    return series\n",
    "    \n",
    "def download_series(series, platform, dest):\n",
    "    target = 'npryanichnikov@ui2.computing.kiae.ru:/s/ls2/groups/g0064/preproc/data/{}_{}/out/'.format(\n",
    "        series, platform\n",
    "    )\n",
    "    series_platform = '{}_{}'.format(series, platform)\n",
    "    !mkdir \"$dest/$series_platform\"\n",
    "    !rsync -avz \"$target\" \"$dest/$series_platform\"\n",
    "#     for l in rsync(target, dest, a=True, v=True, z=True, _iter=True):\n",
    "#         print(l)\n",
    "    "
   ]
  },
  {
   "cell_type": "code",
   "execution_count": 8,
   "metadata": {
    "collapsed": false
   },
   "outputs": [],
   "source": [
    "series_illumina = list(api.search_series(platform=ILLUMINA_PLATFORMS, preprocessed=1))"
   ]
  },
  {
   "cell_type": "code",
   "execution_count": 10,
   "metadata": {
    "collapsed": false
   },
   "outputs": [
    {
     "data": {
      "text/plain": [
       "716"
      ]
     },
     "execution_count": 10,
     "metadata": {},
     "output_type": "execute_result"
    }
   ],
   "source": [
    "len(series_illumina)"
   ]
  },
  {
   "cell_type": "code",
   "execution_count": 11,
   "metadata": {
    "collapsed": true
   },
   "outputs": [],
   "source": [
    "with open('ill.list', 'w') as f:\n",
    "    t = '\\n'.join([\"/s/ls2/groups/g0064/preproc/data/{}_{}\".format(series['accession'], platform) \n",
    "                   for series in series_illumina\n",
    "                   for platform in series['platforms']\n",
    "                   if platform in ILLUMINA_PLATFORMS])\n",
    "    f.write(t)\n",
    "    #download_series(series, platform, '/data/rawdata/agil_datasets')"
   ]
  },
  {
   "cell_type": "code",
   "execution_count": 12,
   "metadata": {
    "collapsed": false
   },
   "outputs": [
    {
     "name": "stdout",
     "output_type": "stream",
     "text": [
      "\r",
      "ill.list                                        0%    0     0.0KB/s   --:-- ETA\r",
      "ill.list                                      100%   36KB  35.8KB/s   00:00    \r\n"
     ]
    }
   ],
   "source": [
    "!scp /home/ubuntu/python-notebooks/preproc/ill.list npryanichnikov@ui2.computing.kiae.ru:. "
   ]
  },
  {
   "cell_type": "code",
   "execution_count": 26,
   "metadata": {
    "collapsed": true
   },
   "outputs": [],
   "source": [
    "agil_series = get_series_for_search(api, platform=AGLIENT_PLATFORMS, preprocessed=1)"
   ]
  },
  {
   "cell_type": "code",
   "execution_count": 27,
   "metadata": {
    "collapsed": false
   },
   "outputs": [
    {
     "data": {
      "text/plain": [
       "967"
      ]
     },
     "execution_count": 27,
     "metadata": {},
     "output_type": "execute_result"
    }
   ],
   "source": [
    "len(agil_series)"
   ]
  },
  {
   "cell_type": "code",
   "execution_count": 28,
   "metadata": {
    "collapsed": false
   },
   "outputs": [
    {
     "data": {
      "text/plain": [
       "('GSE19324', 'GPL4133')"
      ]
     },
     "execution_count": 28,
     "metadata": {},
     "output_type": "execute_result"
    }
   ],
   "source": [
    "next(iter(agil_series))"
   ]
  },
  {
   "cell_type": "code",
   "execution_count": 52,
   "metadata": {
    "collapsed": false
   },
   "outputs": [
    {
     "name": "stdout",
     "output_type": "stream",
     "text": [
      "mkdir: cannot create directory ‘/data/rawdata//GSE19324_GPL4133’: No space left on device\n",
      "receiving incremental file list\n",
      "rsync: mkdir \"/data/rawdata//GSE19324_GPL4133\" failed: No space left on device (28)\n",
      "rsync error: error in file IO (code 11) at main.c(674) [Receiver=3.1.0]\n"
     ]
    }
   ],
   "source": [
    "download_series('GSE19324', 'GPL4133', '/data/rawdata/')"
   ]
  },
  {
   "cell_type": "code",
   "execution_count": 45,
   "metadata": {
    "collapsed": true
   },
   "outputs": [],
   "source": [
    "!mkdir /data/rawdata/agil_datasets"
   ]
  },
  {
   "cell_type": "code",
   "execution_count": 111,
   "metadata": {
    "collapsed": false
   },
   "outputs": [
    {
     "data": {
      "text/plain": [
       "'/home/ubuntu/python-notebooks/preproc'"
      ]
     },
     "execution_count": 111,
     "metadata": {},
     "output_type": "execute_result"
    }
   ],
   "source": [
    "pwd"
   ]
  },
  {
   "cell_type": "code",
   "execution_count": 105,
   "metadata": {
    "collapsed": false
   },
   "outputs": [],
   "source": [
    "with open('agil.list', 'w') as f:\n",
    "    t = '\\n'.join([\"/s/ls2/groups/g0064/preproc/data/{}_{}\".format(series, platform) for series, platform in agil_series])\n",
    "    f.write(t)\n",
    "    #download_series(series, platform, '/data/rawdata/agil_datasets')"
   ]
  },
  {
   "cell_type": "code",
   "execution_count": 110,
   "metadata": {
    "collapsed": false
   },
   "outputs": [
    {
     "name": "stdout",
     "output_type": "stream",
     "text": [
      "The authenticity of host 'hpc.mipt.ru (93.175.29.144)' can't be established.\n",
      "RSA key fingerprint is 03:17:31:07:b4:13:20:0e:db:9e:dd:56:00:78:43:3a.\n",
      "Are you sure you want to continue connecting (yes/no)? ^C\n"
     ]
    }
   ],
   "source": [
    "!scp -P 15166 /home/ubuntu/python-notebooks/preproc/agil.list lpenguin@hpc.mipt.ru:. "
   ]
  },
  {
   "cell_type": "code",
   "execution_count": 113,
   "metadata": {
    "collapsed": false
   },
   "outputs": [
    {
     "name": "stdout",
     "output_type": "stream",
     "text": [
      "\r",
      "agil.list                                       0%    0     0.0KB/s   --:-- ETA\r",
      "agil.list                                     100%   47KB  47.2KB/s   00:00    \r\n"
     ]
    }
   ],
   "source": [
    "!scp /home/ubuntu/python-notebooks/preproc/agil.list npryanichnikov@ui2.computing.kiae.ru:. "
   ]
  },
  {
   "cell_type": "code",
   "execution_count": 101,
   "metadata": {
    "collapsed": false
   },
   "outputs": [
    {
     "name": "stdout",
     "output_type": "stream",
     "text": [
      "Filesystem      Size  Used Avail Use% Mounted on\r\n",
      "/dev/xvda1      7.8G  6.2G  1.3G  84% /\r\n",
      "none            4.0K     0  4.0K   0% /sys/fs/cgroup\r\n",
      "udev            2.0G   12K  2.0G   1% /dev\r\n",
      "tmpfs           396M  368K  395M   1% /run\r\n",
      "none            5.0M   12K  5.0M   1% /run/lock\r\n",
      "none            2.0G     0  2.0G   0% /run/shm\r\n",
      "none            100M   12K  100M   1% /run/user\r\n",
      "/dev/xvdi       197G  146G   41G  79% /data\r\n",
      "/dev/xvdg       4.8G   10M  4.6G   1% /journal\r\n",
      "/dev/xvdh       4.8G  136M  4.4G   3% /log\r\n"
     ]
    }
   ],
   "source": [
    "!df -h"
   ]
  },
  {
   "cell_type": "code",
   "execution_count": 63,
   "metadata": {
    "collapsed": true
   },
   "outputs": [],
   "source": [
    "rm -rf /data/rawdata/SRR361238.sra"
   ]
  },
  {
   "cell_type": "code",
   "execution_count": 95,
   "metadata": {
    "collapsed": false
   },
   "outputs": [
    {
     "name": "stdout",
     "output_type": "stream",
     "text": [
      "68K\t/data/rawdata/classified_datasets_by_accession.json\r\n",
      "2.1M\t/data/rawdata/classified_samples.json\r\n",
      "1.3M\t/data/rawdata/datasets.json\r\n",
      "176K\t/data/rawdata/datasets.tar.gz\r\n",
      "328K\t/data/rawdata/Disease-all.csv\r\n",
      "104K\t/data/rawdata/Disease.json\r\n",
      "112K\t/data/rawdata/Dis.ipynb\r\n",
      "du: cannot access ‘/data/rawdata/DO’: No such file or directory\r\n",
      "du: cannot access ‘remote.ipynb’: No such file or directory\r\n",
      "4.0K\t/data/rawdata/end.date\r\n",
      "4.0K\t/data/rawdata/features.ipynb\r\n",
      "18G\t/data/rawdata/GEO.all.platforms\r\n",
      "15M\t/data/rawdata/graph-tool-2.2.42.tar.bz2\r\n",
      "4.0K\t/data/rawdata/in\r\n",
      "17G\t/data/rawdata/metamap\r\n",
      "8.0K\t/data/rawdata/nm.ipynb\r\n",
      "4.0K\t/data/rawdata/nm.list\r\n",
      "4.0K\t/data/rawdata/nm-samples.list\r\n",
      "4.0K\t/data/rawdata/nm-sra.list\r\n",
      "0\t/data/rawdata/ok\r\n",
      "8.6M\t/data/rawdata/out\r\n",
      "190M\t/data/rawdata/p\r\n",
      "2.3G\t/data/rawdata/public_mm_linux_main_2014.tar.bz2\r\n",
      "815M\t/data/rawdata/python-notebooks\r\n",
      "60K\t/data/rawdata/samples-100.csv\r\n",
      "21M\t/data/rawdata/samples-all.csv\r\n",
      "1.6M\t/data/rawdata/samples_class.csv\r\n",
      "146M\t/data/rawdata/scraper-dump.tar\r\n",
      "101M\t/data/rawdata/scraper-meta\r\n",
      "2.8M\t/data/rawdata/scraper_platforms.json.gz\r\n",
      "117M\t/data/rawdata/scraper_sample.json.gz\r\n",
      "27M\t/data/rawdata/scraper_series.json.gz\r\n",
      "124K\t/data/rawdata/series-100.csv\r\n",
      "24K\t/data/rawdata/series-teach.json\r\n",
      "4.7G\t/data/rawdata/snapshots\r\n",
      "4.0K\t/data/rawdata/start.date\r\n",
      "4.0K\t/data/rawdata/stderr\r\n",
      "4.0K\t/data/rawdata/stdout\r\n",
      "4.0K\t/data/rawdata/tmp\r\n"
     ]
    }
   ],
   "source": [
    "!ls -1d /data/rawdata/* | grep -v cache | xargs du -sh"
   ]
  },
  {
   "cell_type": "code",
   "execution_count": 100,
   "metadata": {
    "collapsed": false
   },
   "outputs": [],
   "source": [
    "!rm -rf  /data/rawdata/metamap/"
   ]
  },
  {
   "cell_type": "code",
   "execution_count": 56,
   "metadata": {
    "collapsed": false
   },
   "outputs": [
    {
     "name": "stdout",
     "output_type": "stream",
     "text": [
      "total 57G\r\n",
      "drwxr-xr-x  6 mongodb       mongodb       4.0K Oct 27 14:44 .\r\n",
      "drwxr-xr-x 26 root          root          4.0K Oct 23 18:46 ..\r\n",
      "-rw-------  1 mongodb       mongodb        64M Jun  5 14:01 admin.0\r\n",
      "-rw-------  1 mongodb       mongodb        16M Jun  5 14:01 admin.ns\r\n",
      "drwxr-xr-x  3 elasticsearch elasticsearch 4.0K Jun  5 17:01 elasticsearch\r\n",
      "drwxr-xr-x  2 mongodb       mongodb       4.0K Oct 27 14:44 journal\r\n",
      "-rw-------  1 mongodb       mongodb        64M Oct 27 14:43 local.0\r\n",
      "-rw-------  1 mongodb       mongodb        16M Oct 27 14:43 local.ns\r\n",
      "-rwxr-xr-x  1 mongodb       mongodb          6 Oct 27 14:43 mongod.lock\r\n",
      "-rw-------  1 mongodb       nogroup        64M Oct 27 19:44 preproc.0\r\n",
      "-rw-------  1 mongodb       nogroup        16M Oct 27 19:44 preproc.ns\r\n",
      "drwxr-xr-x 14 ubuntu        ubuntu        4.0K Oct 27 19:29 rawdata\r\n",
      "-rw-------  1 mongodb       nogroup        64M Jun 18 15:33 scraper_class.0\r\n",
      "-rw-------  1 mongodb       nogroup        16M Jun 18 15:33 scraper_class.ns\r\n",
      "-rw-------  1 mongodb       nogroup        64M Jul 20 19:39 scraper_pharm.0\r\n",
      "-rw-------  1 mongodb       nogroup       128M Aug 24 16:31 scraper_pharm.1\r\n",
      "-rw-------  1 mongodb       nogroup       256M Aug 24 16:31 scraper_pharm.2\r\n",
      "-rw-------  1 mongodb       nogroup        16M Aug 24 16:31 scraper_pharm.ns\r\n",
      "-rw-------  1 mongodb       nogroup        64M Oct 20 18:07 scraper_series_email.0\r\n",
      "-rw-------  1 mongodb       nogroup       128M Oct 12 17:28 scraper_series_email.1\r\n",
      "-rw-------  1 mongodb       nogroup       256M Oct 22 14:04 scraper_series_email.2\r\n",
      "-rw-------  1 mongodb       nogroup       512M Oct 12 17:34 scraper_series_email.3\r\n",
      "-rw-------  1 mongodb       nogroup       1.0G Oct 12 17:32 scraper_series_email.4\r\n",
      "-rw-------  1 mongodb       nogroup       2.0G Oct 20 17:48 scraper_series_email.5\r\n",
      "-rw-------  1 mongodb       nogroup       2.0G Oct 20 18:08 scraper_series_email.6\r\n",
      "-rw-------  1 mongodb       nogroup        16M Oct 22 14:04 scraper_series_email.ns\r\n",
      "-rw-------  1 mongodb       mongodb        64M Jul 20 13:46 scraper_test.0\r\n",
      "-rw-------  1 mongodb       mongodb       128M Jul 20 13:46 scraper_test.1\r\n",
      "-rw-------  1 mongodb       mongodb       2.0G Jul  7 14:56 scraper_test.10\r\n",
      "-rw-------  1 mongodb       mongodb       2.0G Jul  7 14:56 scraper_test.11\r\n",
      "-rw-------  1 mongodb       mongodb       2.0G Jul 20 13:46 scraper_test.12\r\n",
      "-rw-------  1 mongodb       nogroup       2.0G Jul  7 14:56 scraper_test.13\r\n",
      "-rw-------  1 mongodb       nogroup       2.0G Jul  7 14:41 scraper_test.14\r\n",
      "-rw-------  1 mongodb       nogroup       2.0G Jul  7 14:56 scraper_test.15\r\n",
      "-rw-------  1 mongodb       nogroup       2.0G Jul  7 14:56 scraper_test.16\r\n",
      "-rw-------  1 mongodb       nogroup       2.0G Jul  9 12:42 scraper_test.17\r\n",
      "-rw-------  1 mongodb       mongodb       256M Jul  7 14:56 scraper_test.2\r\n",
      "-rw-------  1 mongodb       nogroup        64M Jul  2 11:57 scraper_test2.0\r\n",
      "-rw-------  1 mongodb       nogroup       128M Jul  2 11:57 scraper_test2.1\r\n",
      "-rw-------  1 mongodb       nogroup        16M Jul  2 11:57 scraper_test2.ns\r\n",
      "-rw-------  1 mongodb       mongodb       512M Jul  7 14:56 scraper_test.3\r\n",
      "-rw-------  1 mongodb       mongodb       1.0G Jul  7 14:56 scraper_test.4\r\n",
      "-rw-------  1 mongodb       mongodb       2.0G Jul  7 14:56 scraper_test.5\r\n",
      "-rw-------  1 mongodb       mongodb       2.0G Jul  7 14:56 scraper_test.6\r\n",
      "-rw-------  1 mongodb       mongodb       2.0G Jul 20 13:46 scraper_test.7\r\n",
      "-rw-------  1 mongodb       mongodb       2.0G Jul 20 13:46 scraper_test.8\r\n",
      "-rw-------  1 mongodb       mongodb       2.0G Jul  7 14:56 scraper_test.9\r\n",
      "-rw-------  1 mongodb       nogroup        64M Oct 25 14:29 scraper_test_dev.0\r\n",
      "-rw-------  1 mongodb       nogroup       128M Oct 20 18:40 scraper_test_dev.1\r\n",
      "-rw-------  1 mongodb       nogroup       2.0G Oct 27 18:45 scraper_test_dev.10\r\n",
      "-rw-------  1 mongodb       nogroup       2.0G Oct 27 18:45 scraper_test_dev.11\r\n",
      "-rw-------  1 mongodb       nogroup       2.0G Oct 27 18:45 scraper_test_dev.12\r\n",
      "-rw-------  1 mongodb       nogroup       2.0G Oct 27 18:45 scraper_test_dev.13\r\n",
      "-rw-------  1 mongodb       nogroup       2.0G Oct 27 18:45 scraper_test_dev.14\r\n",
      "-rw-------  1 mongodb       nogroup       256M Oct 27 18:45 scraper_test_dev.2\r\n",
      "-rw-------  1 mongodb       nogroup       512M Oct 27 18:45 scraper_test_dev.3\r\n",
      "-rw-------  1 mongodb       nogroup       1.0G Oct 27 18:45 scraper_test_dev.4\r\n",
      "-rw-------  1 mongodb       nogroup       2.0G Oct 27 18:45 scraper_test_dev.5\r\n",
      "-rw-------  1 mongodb       nogroup       2.0G Oct 27 18:45 scraper_test_dev.6\r\n",
      "-rw-------  1 mongodb       nogroup       2.0G Oct 27 18:45 scraper_test_dev.7\r\n",
      "-rw-------  1 mongodb       nogroup       2.0G Oct 27 18:45 scraper_test_dev.8\r\n",
      "-rw-------  1 mongodb       nogroup       2.0G Oct 27 18:45 scraper_test_dev.9\r\n",
      "-rw-------  1 mongodb       nogroup        16M Oct 27 18:45 scraper_test_dev.ns\r\n",
      "-rw-------  1 mongodb       mongodb        16M Jul 20 13:46 scraper_test.ns\r\n",
      "-rw-r--r--  1 mongodb       mongodb         69 Jun  5 14:02 storage.bson\r\n",
      "-rw-------  1 mongodb       nogroup        64M Sep 10 13:42 t.0\r\n",
      "-rw-------  1 mongodb       nogroup        64M Jun 11 14:14 test.0\r\n",
      "-rw-------  1 mongodb       nogroup        16M Jun 10 15:24 test.ns\r\n",
      "drwxr-xr-x  2 mongodb       nogroup       4.0K Oct 27 14:44 _tmp\r\n",
      "-rw-------  1 mongodb       nogroup        16M Sep 10 13:42 t.ns\r\n"
     ]
    }
   ],
   "source": [
    "!ls -lah  /data/"
   ]
  },
  {
   "cell_type": "code",
   "execution_count": 54,
   "metadata": {
    "collapsed": false
   },
   "outputs": [
    {
     "name": "stdout",
     "output_type": "stream",
     "text": [
      "^C\r\n"
     ]
    }
   ],
   "source": [
    "!du -sh /data/rawdata/"
   ]
  },
  {
   "cell_type": "code",
   "execution_count": 38,
   "metadata": {
    "collapsed": true
   },
   "outputs": [],
   "source": [
    "!rm //data/rawdata/snapshots/mongo/samples.tmp.json"
   ]
  }
 ],
 "metadata": {
  "kernelspec": {
   "display_name": "Python 3",
   "language": "python",
   "name": "python3"
  },
  "language_info": {
   "codemirror_mode": {
    "name": "ipython",
    "version": 3
   },
   "file_extension": ".py",
   "mimetype": "text/x-python",
   "name": "python",
   "nbconvert_exporter": "python",
   "pygments_lexer": "ipython3",
   "version": "3.4.0"
  }
 },
 "nbformat": 4,
 "nbformat_minor": 0
}
