{
 "cells": [
  {
   "cell_type": "code",
   "execution_count": 23,
   "metadata": {
    "collapsed": false
   },
   "outputs": [],
   "source": [
    "import pandas as pd\n",
    "import numpy as np\n",
    "from rpy2.robjects import r\n",
    "from rpy2.robjects import pandas2ri\n",
    "from rpy2.robjects.packages import importr\n",
    "import rpy2.robjects.numpy2ri\n",
    "rpy2.robjects.numpy2ri.activate()\n",
    "pandas2ri.activate()"
   ]
  },
  {
   "cell_type": "code",
   "execution_count": 3,
   "metadata": {
    "collapsed": false
   },
   "outputs": [
    {
     "name": "stdout",
     "output_type": "stream",
     "text": [
      "GSE64007.txt                                  100% 4546KB 454.6KB/s   00:10    \n"
     ]
    }
   ],
   "source": [
    "!scp npryanichnikov@ui2.computing.kiae.ru:/s/ls2/groups/g0064/preproc/data/GSE64007_GPL10558/out/GSE64007.txt \\\n",
    "    ../data/preproc/intermediate/GSE64007.txt"
   ]
  },
  {
   "cell_type": "code",
   "execution_count": 5,
   "metadata": {
    "collapsed": true
   },
   "outputs": [],
   "source": []
  },
  {
   "cell_type": "code",
   "execution_count": 6,
   "metadata": {
    "collapsed": false
   },
   "outputs": [
    {
     "data": {
      "text/html": [
       "<div>\n",
       "<table border=\"1\" class=\"dataframe\">\n",
       "  <thead>\n",
       "    <tr style=\"text-align: right;\">\n",
       "      <th></th>\n",
       "      <th>9236415037_A</th>\n",
       "      <th>9236415037_B</th>\n",
       "      <th>9236415037_C</th>\n",
       "      <th>9236415037_D</th>\n",
       "      <th>9236415037_E</th>\n",
       "      <th>9236415037_F</th>\n",
       "      <th>9236415037_G</th>\n",
       "      <th>9236415037_H</th>\n",
       "      <th>9236415037_I</th>\n",
       "      <th>9236415037_J</th>\n",
       "      <th>9236415037_K</th>\n",
       "      <th>9236415037_L</th>\n",
       "    </tr>\n",
       "  </thead>\n",
       "  <tbody>\n",
       "    <tr>\n",
       "      <th>A1BG</th>\n",
       "      <td>18.565382</td>\n",
       "      <td>22.524659</td>\n",
       "      <td>20.233816</td>\n",
       "      <td>21.384873</td>\n",
       "      <td>25.411259</td>\n",
       "      <td>25.640372</td>\n",
       "      <td>25.109518</td>\n",
       "      <td>24.164729</td>\n",
       "      <td>21.162178</td>\n",
       "      <td>20.223151</td>\n",
       "      <td>20.951111</td>\n",
       "      <td>28.138678</td>\n",
       "    </tr>\n",
       "    <tr>\n",
       "      <th>A1BG-AS1</th>\n",
       "      <td>19.658814</td>\n",
       "      <td>23.941468</td>\n",
       "      <td>25.237676</td>\n",
       "      <td>25.105887</td>\n",
       "      <td>26.441173</td>\n",
       "      <td>29.842302</td>\n",
       "      <td>30.474708</td>\n",
       "      <td>25.728424</td>\n",
       "      <td>27.592593</td>\n",
       "      <td>23.472636</td>\n",
       "      <td>28.007686</td>\n",
       "      <td>27.809805</td>\n",
       "    </tr>\n",
       "    <tr>\n",
       "      <th>A1CF</th>\n",
       "      <td>13.269887</td>\n",
       "      <td>18.999255</td>\n",
       "      <td>19.371043</td>\n",
       "      <td>20.730398</td>\n",
       "      <td>20.607641</td>\n",
       "      <td>20.083719</td>\n",
       "      <td>23.371468</td>\n",
       "      <td>20.692281</td>\n",
       "      <td>16.962775</td>\n",
       "      <td>16.113815</td>\n",
       "      <td>16.703099</td>\n",
       "      <td>19.310967</td>\n",
       "    </tr>\n",
       "    <tr>\n",
       "      <th>A2ML1</th>\n",
       "      <td>18.233574</td>\n",
       "      <td>8.641905</td>\n",
       "      <td>20.955775</td>\n",
       "      <td>25.241062</td>\n",
       "      <td>24.128612</td>\n",
       "      <td>28.446432</td>\n",
       "      <td>16.683041</td>\n",
       "      <td>15.389816</td>\n",
       "      <td>14.646037</td>\n",
       "      <td>15.143279</td>\n",
       "      <td>15.222171</td>\n",
       "      <td>15.559232</td>\n",
       "    </tr>\n",
       "    <tr>\n",
       "      <th>A3GALT2</th>\n",
       "      <td>9.288346</td>\n",
       "      <td>14.160431</td>\n",
       "      <td>19.537395</td>\n",
       "      <td>16.703937</td>\n",
       "      <td>23.030106</td>\n",
       "      <td>21.720149</td>\n",
       "      <td>20.115003</td>\n",
       "      <td>15.134882</td>\n",
       "      <td>13.354474</td>\n",
       "      <td>11.805925</td>\n",
       "      <td>12.009788</td>\n",
       "      <td>16.800276</td>\n",
       "    </tr>\n",
       "  </tbody>\n",
       "</table>\n",
       "</div>"
      ],
      "text/plain": [
       "          9236415037_A  9236415037_B  9236415037_C  9236415037_D  \\\n",
       "A1BG         18.565382     22.524659     20.233816     21.384873   \n",
       "A1BG-AS1     19.658814     23.941468     25.237676     25.105887   \n",
       "A1CF         13.269887     18.999255     19.371043     20.730398   \n",
       "A2ML1        18.233574      8.641905     20.955775     25.241062   \n",
       "A3GALT2       9.288346     14.160431     19.537395     16.703937   \n",
       "\n",
       "          9236415037_E  9236415037_F  9236415037_G  9236415037_H  \\\n",
       "A1BG         25.411259     25.640372     25.109518     24.164729   \n",
       "A1BG-AS1     26.441173     29.842302     30.474708     25.728424   \n",
       "A1CF         20.607641     20.083719     23.371468     20.692281   \n",
       "A2ML1        24.128612     28.446432     16.683041     15.389816   \n",
       "A3GALT2      23.030106     21.720149     20.115003     15.134882   \n",
       "\n",
       "          9236415037_I  9236415037_J  9236415037_K  9236415037_L  \n",
       "A1BG         21.162178     20.223151     20.951111     28.138678  \n",
       "A1BG-AS1     27.592593     23.472636     28.007686     27.809805  \n",
       "A1CF         16.962775     16.113815     16.703099     19.310967  \n",
       "A2ML1        14.646037     15.143279     15.222171     15.559232  \n",
       "A3GALT2      13.354474     11.805925     12.009788     16.800276  "
      ]
     },
     "execution_count": 6,
     "metadata": {},
     "output_type": "execute_result"
    }
   ],
   "source": [
    "d = pd.read_table('../data/preproc/intermediate/GSE64007.txt')\n",
    "d.head()"
   ]
  },
  {
   "cell_type": "code",
   "execution_count": 10,
   "metadata": {
    "collapsed": false
   },
   "outputs": [
    {
     "name": "stderr",
     "output_type": "stream",
     "text": [
      "/usr/local/lib/python3.4/site-packages/rpy2/robjects/functions.py:106: UserWarning: Bioconductor version 3.2 (BiocInstaller 1.20.0), ?biocLite for help\n",
      "\n",
      "  res = super(Function, self).__call__(*new_args, **new_kwargs)\n"
     ]
    },
    {
     "data": {
      "text/plain": [
       "<ListVector - Python:0x1106d7d48 / R:0x7fd4fd5389c8>\n",
       "[RNULLType, Vector]\n",
       "  value: <class 'rpy2.rinterface.RNULLType'>\n",
       "  rpy2.rinterface.NULL\n",
       "  visible: <class 'rpy2.robjects.vectors.Vector'>\n",
       "  <Vector - Python:0x1106d7cc8 / R:0x7fd4fb9efd28>\n",
       "[       0]"
      ]
     },
     "execution_count": 10,
     "metadata": {},
     "output_type": "execute_result"
    }
   ],
   "source": [
    "r.source('http://bioconductor.org/biocLite.R')"
   ]
  },
  {
   "cell_type": "code",
   "execution_count": 13,
   "metadata": {
    "collapsed": false
   },
   "outputs": [
    {
     "name": "stderr",
     "output_type": "stream",
     "text": [
      "/usr/local/lib/python3.4/site-packages/rpy2/robjects/functions.py:106: UserWarning: BioC_mirror: http://bioconductor.org\n",
      "\n",
      "  res = super(Function, self).__call__(*new_args, **new_kwargs)\n",
      "/usr/local/lib/python3.4/site-packages/rpy2/robjects/functions.py:106: UserWarning: Using Bioconductor 3.2 (BiocInstaller 1.20.0), R 3.2.1 (2015-06-18).\n",
      "\n",
      "  res = super(Function, self).__call__(*new_args, **new_kwargs)\n",
      "/usr/local/lib/python3.4/site-packages/rpy2/robjects/functions.py:106: UserWarning: Installing package(s) ‘preprocessCore’\n",
      "\n",
      "  res = super(Function, self).__call__(*new_args, **new_kwargs)\n",
      "/usr/local/lib/python3.4/site-packages/rpy2/robjects/functions.py:106: UserWarning: пробую URL 'http://bioconductor.org/packages/3.2/bioc/src/contrib/preprocessCore_1.32.0.tar.gz'\n",
      "\n",
      "  res = super(Function, self).__call__(*new_args, **new_kwargs)\n",
      "/usr/local/lib/python3.4/site-packages/rpy2/robjects/functions.py:106: UserWarning: Content type 'application/x-gzip'\n",
      "  res = super(Function, self).__call__(*new_args, **new_kwargs)\n",
      "/usr/local/lib/python3.4/site-packages/rpy2/robjects/functions.py:106: UserWarning:  length 122736 bytes (119 KB)\n",
      "\n",
      "  res = super(Function, self).__call__(*new_args, **new_kwargs)\n",
      "/usr/local/lib/python3.4/site-packages/rpy2/robjects/functions.py:106: UserWarning: =\n",
      "  res = super(Function, self).__call__(*new_args, **new_kwargs)\n",
      "/usr/local/lib/python3.4/site-packages/rpy2/robjects/functions.py:106: UserWarning: \n",
      "\n",
      "  res = super(Function, self).__call__(*new_args, **new_kwargs)\n",
      "/usr/local/lib/python3.4/site-packages/rpy2/robjects/functions.py:106: UserWarning: downloaded 119 KB\n",
      "\n",
      "\n",
      "  res = super(Function, self).__call__(*new_args, **new_kwargs)\n",
      "/usr/local/lib/python3.4/site-packages/rpy2/robjects/functions.py:106: UserWarning: Old packages: 'affxparser', 'affy', 'affydata', 'affyio', 'annotate',\n",
      "  'Biobase', 'evaluate', 'fields', 'foreach', 'fpc', 'genefilter', 'GEOquery',\n",
      "  'hgu133a2.db', 'hgu133a2cdf', 'hgu133a2probe', 'hgu133plus2.db',\n",
      "  'hgu133plus2cdf', 'hthgu133a.db', 'iterators', 'jsonlite', 'maps',\n",
      "  'mouse4302.db', 'mouse430a2.db', 'multtest', 'oligo', 'oligoClasses',\n",
      "  'org.Hs.eg.db', 'org.Mm.eg.db', 'R.utils', 'Rcpp', 'SCAN.UPC', 'spam', 'sva',\n",
      "  'testthat', 'zlibbioc', 'class', 'foreign', 'MASS', 'nlme', 'nnet', 'spatial'\n",
      "\n",
      "  res = super(Function, self).__call__(*new_args, **new_kwargs)\n"
     ]
    },
    {
     "name": "stdout",
     "output_type": "stream",
     "text": [
      "\n",
      "\n",
      "\n",
      "The downloaded source packages are in\n",
      "\t‘/private/var/folders/tb/xyv8hchn7f798gmwzkqg1yv80000gn/T/RtmpRR6qJK/downloaded_packages’\n",
      "\n",
      "\n",
      "\n",
      "Update all/some/none? [a/s/n]: \n",
      "n\n"
     ]
    },
    {
     "data": {
      "text/plain": [
       "<StrVector - Python:0x10eb9b848 / R:0x7fd4fe5c2158>\n",
       "['preprocessCore']"
      ]
     },
     "execution_count": 13,
     "metadata": {},
     "output_type": "execute_result"
    }
   ],
   "source": [
    "r.biocLite('preprocessCore', suppressUpdates=False)"
   ]
  },
  {
   "cell_type": "code",
   "execution_count": 15,
   "metadata": {
    "collapsed": true
   },
   "outputs": [],
   "source": [
    "preprocessCore = importr('preprocessCore')"
   ]
  },
  {
   "cell_type": "code",
   "execution_count": 29,
   "metadata": {
    "collapsed": false,
    "scrolled": true
   },
   "outputs": [
    {
     "data": {
      "text/html": [
       "<div>\n",
       "<table border=\"1\" class=\"dataframe\">\n",
       "  <thead>\n",
       "    <tr style=\"text-align: right;\">\n",
       "      <th></th>\n",
       "      <th>9236415037_A</th>\n",
       "      <th>9236415037_B</th>\n",
       "      <th>9236415037_C</th>\n",
       "      <th>9236415037_D</th>\n",
       "      <th>9236415037_E</th>\n",
       "      <th>9236415037_F</th>\n",
       "      <th>9236415037_G</th>\n",
       "      <th>9236415037_H</th>\n",
       "      <th>9236415037_I</th>\n",
       "      <th>9236415037_J</th>\n",
       "      <th>9236415037_K</th>\n",
       "      <th>9236415037_L</th>\n",
       "    </tr>\n",
       "  </thead>\n",
       "  <tbody>\n",
       "    <tr>\n",
       "      <th>A1BG</th>\n",
       "      <td>18.565382</td>\n",
       "      <td>22.524659</td>\n",
       "      <td>20.233816</td>\n",
       "      <td>21.384873</td>\n",
       "      <td>25.411259</td>\n",
       "      <td>25.640372</td>\n",
       "      <td>25.109518</td>\n",
       "      <td>24.164729</td>\n",
       "      <td>21.162178</td>\n",
       "      <td>20.223151</td>\n",
       "      <td>20.951111</td>\n",
       "      <td>28.138678</td>\n",
       "    </tr>\n",
       "    <tr>\n",
       "      <th>A1BG-AS1</th>\n",
       "      <td>19.658814</td>\n",
       "      <td>23.941468</td>\n",
       "      <td>25.237676</td>\n",
       "      <td>25.105887</td>\n",
       "      <td>26.441173</td>\n",
       "      <td>29.842302</td>\n",
       "      <td>30.474708</td>\n",
       "      <td>25.728424</td>\n",
       "      <td>27.592593</td>\n",
       "      <td>23.472636</td>\n",
       "      <td>28.007686</td>\n",
       "      <td>27.809805</td>\n",
       "    </tr>\n",
       "    <tr>\n",
       "      <th>A1CF</th>\n",
       "      <td>13.269887</td>\n",
       "      <td>18.999255</td>\n",
       "      <td>19.371043</td>\n",
       "      <td>20.730398</td>\n",
       "      <td>20.607641</td>\n",
       "      <td>20.083719</td>\n",
       "      <td>23.371468</td>\n",
       "      <td>20.692281</td>\n",
       "      <td>16.962775</td>\n",
       "      <td>16.113815</td>\n",
       "      <td>16.703099</td>\n",
       "      <td>19.310967</td>\n",
       "    </tr>\n",
       "    <tr>\n",
       "      <th>A2ML1</th>\n",
       "      <td>18.233574</td>\n",
       "      <td>8.641905</td>\n",
       "      <td>20.955775</td>\n",
       "      <td>25.241062</td>\n",
       "      <td>24.128612</td>\n",
       "      <td>28.446432</td>\n",
       "      <td>16.683041</td>\n",
       "      <td>15.389816</td>\n",
       "      <td>14.646037</td>\n",
       "      <td>15.143279</td>\n",
       "      <td>15.222171</td>\n",
       "      <td>15.559232</td>\n",
       "    </tr>\n",
       "    <tr>\n",
       "      <th>A3GALT2</th>\n",
       "      <td>9.288346</td>\n",
       "      <td>14.160431</td>\n",
       "      <td>19.537395</td>\n",
       "      <td>16.703937</td>\n",
       "      <td>23.030106</td>\n",
       "      <td>21.720149</td>\n",
       "      <td>20.115003</td>\n",
       "      <td>15.134882</td>\n",
       "      <td>13.354474</td>\n",
       "      <td>11.805925</td>\n",
       "      <td>12.009788</td>\n",
       "      <td>16.800276</td>\n",
       "    </tr>\n",
       "  </tbody>\n",
       "</table>\n",
       "</div>"
      ],
      "text/plain": [
       "          9236415037_A  9236415037_B  9236415037_C  9236415037_D  \\\n",
       "A1BG         18.565382     22.524659     20.233816     21.384873   \n",
       "A1BG-AS1     19.658814     23.941468     25.237676     25.105887   \n",
       "A1CF         13.269887     18.999255     19.371043     20.730398   \n",
       "A2ML1        18.233574      8.641905     20.955775     25.241062   \n",
       "A3GALT2       9.288346     14.160431     19.537395     16.703937   \n",
       "\n",
       "          9236415037_E  9236415037_F  9236415037_G  9236415037_H  \\\n",
       "A1BG         25.411259     25.640372     25.109518     24.164729   \n",
       "A1BG-AS1     26.441173     29.842302     30.474708     25.728424   \n",
       "A1CF         20.607641     20.083719     23.371468     20.692281   \n",
       "A2ML1        24.128612     28.446432     16.683041     15.389816   \n",
       "A3GALT2      23.030106     21.720149     20.115003     15.134882   \n",
       "\n",
       "          9236415037_I  9236415037_J  9236415037_K  9236415037_L  \n",
       "A1BG         21.162178     20.223151     20.951111     28.138678  \n",
       "A1BG-AS1     27.592593     23.472636     28.007686     27.809805  \n",
       "A1CF         16.962775     16.113815     16.703099     19.310967  \n",
       "A2ML1        14.646037     15.143279     15.222171     15.559232  \n",
       "A3GALT2      13.354474     11.805925     12.009788     16.800276  "
      ]
     },
     "execution_count": 29,
     "metadata": {},
     "output_type": "execute_result"
    }
   ],
   "source": [
    "d.head()"
   ]
  },
  {
   "cell_type": "code",
   "execution_count": 28,
   "metadata": {
    "collapsed": false
   },
   "outputs": [
    {
     "data": {
      "text/html": [
       "<div>\n",
       "<table border=\"1\" class=\"dataframe\">\n",
       "  <thead>\n",
       "    <tr style=\"text-align: right;\">\n",
       "      <th></th>\n",
       "      <th>9236415037_A</th>\n",
       "      <th>9236415037_B</th>\n",
       "      <th>9236415037_C</th>\n",
       "      <th>9236415037_D</th>\n",
       "      <th>9236415037_E</th>\n",
       "      <th>9236415037_F</th>\n",
       "      <th>9236415037_G</th>\n",
       "      <th>9236415037_H</th>\n",
       "      <th>9236415037_I</th>\n",
       "      <th>9236415037_J</th>\n",
       "      <th>9236415037_K</th>\n",
       "      <th>9236415037_L</th>\n",
       "    </tr>\n",
       "  </thead>\n",
       "  <tbody>\n",
       "    <tr>\n",
       "      <th>A1BG</th>\n",
       "      <td>21.993325</td>\n",
       "      <td>24.085122</td>\n",
       "      <td>19.654626</td>\n",
       "      <td>20.955926</td>\n",
       "      <td>23.986999</td>\n",
       "      <td>22.527217</td>\n",
       "      <td>23.226001</td>\n",
       "      <td>22.767069</td>\n",
       "      <td>23.769502</td>\n",
       "      <td>21.888848</td>\n",
       "      <td>21.482160</td>\n",
       "      <td>27.431438</td>\n",
       "    </tr>\n",
       "    <tr>\n",
       "      <th>A1BG-AS1</th>\n",
       "      <td>22.968228</td>\n",
       "      <td>25.395125</td>\n",
       "      <td>24.703116</td>\n",
       "      <td>24.720914</td>\n",
       "      <td>24.950690</td>\n",
       "      <td>26.558813</td>\n",
       "      <td>28.816525</td>\n",
       "      <td>24.319643</td>\n",
       "      <td>30.790628</td>\n",
       "      <td>25.354765</td>\n",
       "      <td>28.934759</td>\n",
       "      <td>27.114145</td>\n",
       "    </tr>\n",
       "    <tr>\n",
       "      <th>A1CF</th>\n",
       "      <td>17.437295</td>\n",
       "      <td>20.710692</td>\n",
       "      <td>18.755434</td>\n",
       "      <td>20.275961</td>\n",
       "      <td>18.996771</td>\n",
       "      <td>16.697201</td>\n",
       "      <td>21.444348</td>\n",
       "      <td>19.151487</td>\n",
       "      <td>19.646935</td>\n",
       "      <td>17.808214</td>\n",
       "      <td>17.126294</td>\n",
       "      <td>18.165033</td>\n",
       "    </tr>\n",
       "    <tr>\n",
       "      <th>A2ML1</th>\n",
       "      <td>21.692473</td>\n",
       "      <td>11.002021</td>\n",
       "      <td>20.360584</td>\n",
       "      <td>24.848636</td>\n",
       "      <td>22.650361</td>\n",
       "      <td>25.167015</td>\n",
       "      <td>14.472724</td>\n",
       "      <td>13.480389</td>\n",
       "      <td>17.514900</td>\n",
       "      <td>16.890945</td>\n",
       "      <td>15.721952</td>\n",
       "      <td>14.130342</td>\n",
       "    </tr>\n",
       "    <tr>\n",
       "      <th>A3GALT2</th>\n",
       "      <td>14.121388</td>\n",
       "      <td>16.145990</td>\n",
       "      <td>18.910712</td>\n",
       "      <td>16.086440</td>\n",
       "      <td>21.549077</td>\n",
       "      <td>18.516360</td>\n",
       "      <td>18.088652</td>\n",
       "      <td>13.218055</td>\n",
       "      <td>16.310949</td>\n",
       "      <td>13.749024</td>\n",
       "      <td>12.438495</td>\n",
       "      <td>15.410989</td>\n",
       "    </tr>\n",
       "  </tbody>\n",
       "</table>\n",
       "</div>"
      ],
      "text/plain": [
       "          9236415037_A  9236415037_B  9236415037_C  9236415037_D  \\\n",
       "A1BG         21.993325     24.085122     19.654626     20.955926   \n",
       "A1BG-AS1     22.968228     25.395125     24.703116     24.720914   \n",
       "A1CF         17.437295     20.710692     18.755434     20.275961   \n",
       "A2ML1        21.692473     11.002021     20.360584     24.848636   \n",
       "A3GALT2      14.121388     16.145990     18.910712     16.086440   \n",
       "\n",
       "          9236415037_E  9236415037_F  9236415037_G  9236415037_H  \\\n",
       "A1BG         23.986999     22.527217     23.226001     22.767069   \n",
       "A1BG-AS1     24.950690     26.558813     28.816525     24.319643   \n",
       "A1CF         18.996771     16.697201     21.444348     19.151487   \n",
       "A2ML1        22.650361     25.167015     14.472724     13.480389   \n",
       "A3GALT2      21.549077     18.516360     18.088652     13.218055   \n",
       "\n",
       "          9236415037_I  9236415037_J  9236415037_K  9236415037_L  \n",
       "A1BG         23.769502     21.888848     21.482160     27.431438  \n",
       "A1BG-AS1     30.790628     25.354765     28.934759     27.114145  \n",
       "A1CF         19.646935     17.808214     17.126294     18.165033  \n",
       "A2ML1        17.514900     16.890945     15.721952     14.130342  \n",
       "A3GALT2      16.310949     13.749024     12.438495     15.410989  "
      ]
     },
     "execution_count": 28,
     "metadata": {},
     "output_type": "execute_result"
    }
   ],
   "source": [
    "normalized_array = np.array(preprocessCore.normalize_quantiles(d.as_matrix()))\n",
    "normalized_df = pd.DataFrame(normalized_array, columns=d.columns, index=d.index)\n",
    "normalized_df.head()"
   ]
  }
 ],
 "metadata": {
  "kernelspec": {
   "display_name": "Python 3",
   "language": "python",
   "name": "python3"
  },
  "language_info": {
   "codemirror_mode": {
    "name": "ipython",
    "version": 3
   },
   "file_extension": ".py",
   "mimetype": "text/x-python",
   "name": "python",
   "nbconvert_exporter": "python",
   "pygments_lexer": "ipython3",
   "version": "3.4.3"
  }
 },
 "nbformat": 4,
 "nbformat_minor": 0
}
