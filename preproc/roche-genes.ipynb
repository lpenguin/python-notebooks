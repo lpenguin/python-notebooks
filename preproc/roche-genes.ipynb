{
 "cells": [
  {
   "cell_type": "code",
   "execution_count": 1,
   "metadata": {
    "collapsed": true
   },
   "outputs": [],
   "source": [
    "import sqlite3\n"
   ]
  },
  {
   "cell_type": "code",
   "execution_count": 2,
   "metadata": {
    "collapsed": true
   },
   "outputs": [],
   "source": [
    "conn = sqlite3.connect('../../preproc/tmp/preproc.sqlite3')"
   ]
  },
  {
   "cell_type": "code",
   "execution_count": 3,
   "metadata": {
    "collapsed": false
   },
   "outputs": [
    {
     "data": {
      "text/plain": [
       "<sqlite3.Cursor at 0x109ce9ce0>"
      ]
     },
     "execution_count": 3,
     "metadata": {},
     "output_type": "execute_result"
    }
   ],
   "source": [
    "c = conn.cursor()\n",
    "c.execute(\"select * from task\")"
   ]
  },
  {
   "cell_type": "code",
   "execution_count": 4,
   "metadata": {
    "collapsed": false
   },
   "outputs": [
    {
     "data": {
      "text/plain": [
       "['id',\n",
       " 'name',\n",
       " 'status',\n",
       " 'meta',\n",
       " 'type',\n",
       " 'error',\n",
       " 'creation_date',\n",
       " 'submission_date',\n",
       " 'run_date',\n",
       " 'done_date']"
      ]
     },
     "execution_count": 4,
     "metadata": {},
     "output_type": "execute_result"
    }
   ],
   "source": [
    "columns = [c for c, *_ in c.description]\n",
    "columns"
   ]
  },
  {
   "cell_type": "code",
   "execution_count": 5,
   "metadata": {
    "collapsed": true
   },
   "outputs": [],
   "source": [
    "data = [row for row in c.fetchall()]"
   ]
  },
  {
   "cell_type": "code",
   "execution_count": 6,
   "metadata": {
    "collapsed": false
   },
   "outputs": [],
   "source": [
    "values = [dict(zip(columns, row)) for row in data]"
   ]
  },
  {
   "cell_type": "code",
   "execution_count": null,
   "metadata": {
    "collapsed": false
   },
   "outputs": [],
   "source": [
    "values[:2]"
   ]
  },
  {
   "cell_type": "code",
   "execution_count": 7,
   "metadata": {
    "collapsed": false
   },
   "outputs": [
    {
     "data": {
      "text/html": [
       "<div>\n",
       "<table border=\"1\" class=\"dataframe\">\n",
       "  <thead>\n",
       "    <tr style=\"text-align: right;\">\n",
       "      <th></th>\n",
       "      <th>creation_date</th>\n",
       "      <th>done_date</th>\n",
       "      <th>error</th>\n",
       "      <th>id</th>\n",
       "      <th>meta</th>\n",
       "      <th>name</th>\n",
       "      <th>run_date</th>\n",
       "      <th>status</th>\n",
       "      <th>submission_date</th>\n",
       "      <th>type</th>\n",
       "      <th>samples</th>\n",
       "      <th>platform</th>\n",
       "    </tr>\n",
       "  </thead>\n",
       "  <tbody>\n",
       "    <tr>\n",
       "      <th>0</th>\n",
       "      <td>2015-08-21 18:46:27.696759</td>\n",
       "      <td>None</td>\n",
       "      <td>None</td>\n",
       "      <td>1</td>\n",
       "      <td>{'platform': 'GPL570', 'accession': 'GSE53224'...</td>\n",
       "      <td>GSE53224_GPL570</td>\n",
       "      <td>None</td>\n",
       "      <td>done</td>\n",
       "      <td>None</td>\n",
       "      <td>preproc</td>\n",
       "      <td>[GSM1287918, GSM1287919, GSM1287920, GSM128792...</td>\n",
       "      <td>GPL570</td>\n",
       "    </tr>\n",
       "    <tr>\n",
       "      <th>1</th>\n",
       "      <td>2015-08-21 18:46:27.698587</td>\n",
       "      <td>None</td>\n",
       "      <td>None</td>\n",
       "      <td>2</td>\n",
       "      <td>{'platform': 'GPL570', 'accession': 'GSE53183'...</td>\n",
       "      <td>GSE53183_GPL570</td>\n",
       "      <td>None</td>\n",
       "      <td>done</td>\n",
       "      <td>None</td>\n",
       "      <td>preproc</td>\n",
       "      <td>[GSM1286097, GSM1286098, GSM1286099, GSM128610...</td>\n",
       "      <td>GPL570</td>\n",
       "    </tr>\n",
       "    <tr>\n",
       "      <th>2</th>\n",
       "      <td>2015-08-21 18:46:27.699732</td>\n",
       "      <td>None</td>\n",
       "      <td>None</td>\n",
       "      <td>3</td>\n",
       "      <td>{'platform': 'GPL570', 'accession': 'GSE53157'...</td>\n",
       "      <td>GSE53157_GPL570</td>\n",
       "      <td>None</td>\n",
       "      <td>done</td>\n",
       "      <td>None</td>\n",
       "      <td>preproc</td>\n",
       "      <td>[GSM1283115, GSM1283116, GSM1283117, GSM128311...</td>\n",
       "      <td>GPL570</td>\n",
       "    </tr>\n",
       "    <tr>\n",
       "      <th>3</th>\n",
       "      <td>2015-08-21 18:46:27.700555</td>\n",
       "      <td>None</td>\n",
       "      <td>None</td>\n",
       "      <td>4</td>\n",
       "      <td>{'platform': 'GPL5082', 'accession': 'GSE65721...</td>\n",
       "      <td>GSE65721_GPL5082</td>\n",
       "      <td>None</td>\n",
       "      <td>skip</td>\n",
       "      <td>None</td>\n",
       "      <td>preproc</td>\n",
       "      <td>[GSM1603234, GSM1603235, GSM1603236, GSM160323...</td>\n",
       "      <td>GPL5082</td>\n",
       "    </tr>\n",
       "    <tr>\n",
       "      <th>4</th>\n",
       "      <td>2015-08-21 18:46:27.701362</td>\n",
       "      <td>None</td>\n",
       "      <td>None</td>\n",
       "      <td>5</td>\n",
       "      <td>{'platform': 'GPL570', 'accession': 'GSE65721'...</td>\n",
       "      <td>GSE65721_GPL570</td>\n",
       "      <td>None</td>\n",
       "      <td>done</td>\n",
       "      <td>None</td>\n",
       "      <td>preproc</td>\n",
       "      <td>[GSM1603354, GSM1603355, GSM1603356, GSM160335...</td>\n",
       "      <td>GPL570</td>\n",
       "    </tr>\n",
       "    <tr>\n",
       "      <th>5</th>\n",
       "      <td>2015-08-21 18:46:27.702123</td>\n",
       "      <td>None</td>\n",
       "      <td>None</td>\n",
       "      <td>6</td>\n",
       "      <td>{'platform': 'GPL570', 'accession': 'GSE53092'...</td>\n",
       "      <td>GSE53092_GPL570</td>\n",
       "      <td>None</td>\n",
       "      <td>done</td>\n",
       "      <td>None</td>\n",
       "      <td>preproc</td>\n",
       "      <td>[GSM1282316, GSM1282317, GSM1282318, GSM1282319]</td>\n",
       "      <td>GPL570</td>\n",
       "    </tr>\n",
       "    <tr>\n",
       "      <th>6</th>\n",
       "      <td>2015-08-21 18:46:27.702899</td>\n",
       "      <td>None</td>\n",
       "      <td>None</td>\n",
       "      <td>7</td>\n",
       "      <td>{'platform': 'GPL570', 'accession': 'GSE65707'...</td>\n",
       "      <td>GSE65707_GPL570</td>\n",
       "      <td>None</td>\n",
       "      <td>done</td>\n",
       "      <td>None</td>\n",
       "      <td>preproc</td>\n",
       "      <td>[GSM1603354, GSM1603355, GSM1603356, GSM160335...</td>\n",
       "      <td>GPL570</td>\n",
       "    </tr>\n",
       "    <tr>\n",
       "      <th>7</th>\n",
       "      <td>2015-08-21 18:46:27.703622</td>\n",
       "      <td>None</td>\n",
       "      <td>None</td>\n",
       "      <td>8</td>\n",
       "      <td>{'platform': 'GPL570', 'accession': 'GSE53059'...</td>\n",
       "      <td>GSE53059_GPL570</td>\n",
       "      <td>None</td>\n",
       "      <td>done</td>\n",
       "      <td>None</td>\n",
       "      <td>preproc</td>\n",
       "      <td>[GSM1281432, GSM1281433, GSM1281434, GSM128143...</td>\n",
       "      <td>GPL570</td>\n",
       "    </tr>\n",
       "    <tr>\n",
       "      <th>8</th>\n",
       "      <td>2015-08-21 18:46:27.704425</td>\n",
       "      <td>None</td>\n",
       "      <td>None</td>\n",
       "      <td>9</td>\n",
       "      <td>{'platform': 'GPL570', 'accession': 'GSE53046'...</td>\n",
       "      <td>GSE53046_GPL570</td>\n",
       "      <td>None</td>\n",
       "      <td>done</td>\n",
       "      <td>None</td>\n",
       "      <td>preproc</td>\n",
       "      <td>[GSM1281025, GSM1281026, GSM1281027, GSM128102...</td>\n",
       "      <td>GPL570</td>\n",
       "    </tr>\n",
       "    <tr>\n",
       "      <th>9</th>\n",
       "      <td>2015-08-21 18:46:27.705136</td>\n",
       "      <td>None</td>\n",
       "      <td>None</td>\n",
       "      <td>10</td>\n",
       "      <td>{'platform': 'GPL570', 'accession': 'GSE53012'...</td>\n",
       "      <td>GSE53012_GPL570</td>\n",
       "      <td>None</td>\n",
       "      <td>done</td>\n",
       "      <td>None</td>\n",
       "      <td>preproc</td>\n",
       "      <td>[GSM1280329, GSM1280330, GSM1280331, GSM128033...</td>\n",
       "      <td>GPL570</td>\n",
       "    </tr>\n",
       "  </tbody>\n",
       "</table>\n",
       "</div>"
      ],
      "text/plain": [
       "                creation_date done_date error  id  \\\n",
       "0  2015-08-21 18:46:27.696759      None  None   1   \n",
       "1  2015-08-21 18:46:27.698587      None  None   2   \n",
       "2  2015-08-21 18:46:27.699732      None  None   3   \n",
       "3  2015-08-21 18:46:27.700555      None  None   4   \n",
       "4  2015-08-21 18:46:27.701362      None  None   5   \n",
       "5  2015-08-21 18:46:27.702123      None  None   6   \n",
       "6  2015-08-21 18:46:27.702899      None  None   7   \n",
       "7  2015-08-21 18:46:27.703622      None  None   8   \n",
       "8  2015-08-21 18:46:27.704425      None  None   9   \n",
       "9  2015-08-21 18:46:27.705136      None  None  10   \n",
       "\n",
       "                                                meta              name  \\\n",
       "0  {'platform': 'GPL570', 'accession': 'GSE53224'...   GSE53224_GPL570   \n",
       "1  {'platform': 'GPL570', 'accession': 'GSE53183'...   GSE53183_GPL570   \n",
       "2  {'platform': 'GPL570', 'accession': 'GSE53157'...   GSE53157_GPL570   \n",
       "3  {'platform': 'GPL5082', 'accession': 'GSE65721...  GSE65721_GPL5082   \n",
       "4  {'platform': 'GPL570', 'accession': 'GSE65721'...   GSE65721_GPL570   \n",
       "5  {'platform': 'GPL570', 'accession': 'GSE53092'...   GSE53092_GPL570   \n",
       "6  {'platform': 'GPL570', 'accession': 'GSE65707'...   GSE65707_GPL570   \n",
       "7  {'platform': 'GPL570', 'accession': 'GSE53059'...   GSE53059_GPL570   \n",
       "8  {'platform': 'GPL570', 'accession': 'GSE53046'...   GSE53046_GPL570   \n",
       "9  {'platform': 'GPL570', 'accession': 'GSE53012'...   GSE53012_GPL570   \n",
       "\n",
       "  run_date status submission_date     type  \\\n",
       "0     None   done            None  preproc   \n",
       "1     None   done            None  preproc   \n",
       "2     None   done            None  preproc   \n",
       "3     None   skip            None  preproc   \n",
       "4     None   done            None  preproc   \n",
       "5     None   done            None  preproc   \n",
       "6     None   done            None  preproc   \n",
       "7     None   done            None  preproc   \n",
       "8     None   done            None  preproc   \n",
       "9     None   done            None  preproc   \n",
       "\n",
       "                                             samples platform  \n",
       "0  [GSM1287918, GSM1287919, GSM1287920, GSM128792...   GPL570  \n",
       "1  [GSM1286097, GSM1286098, GSM1286099, GSM128610...   GPL570  \n",
       "2  [GSM1283115, GSM1283116, GSM1283117, GSM128311...   GPL570  \n",
       "3  [GSM1603234, GSM1603235, GSM1603236, GSM160323...  GPL5082  \n",
       "4  [GSM1603354, GSM1603355, GSM1603356, GSM160335...   GPL570  \n",
       "5   [GSM1282316, GSM1282317, GSM1282318, GSM1282319]   GPL570  \n",
       "6  [GSM1603354, GSM1603355, GSM1603356, GSM160335...   GPL570  \n",
       "7  [GSM1281432, GSM1281433, GSM1281434, GSM128143...   GPL570  \n",
       "8  [GSM1281025, GSM1281026, GSM1281027, GSM128102...   GPL570  \n",
       "9  [GSM1280329, GSM1280330, GSM1280331, GSM128033...   GPL570  "
      ]
     },
     "execution_count": 7,
     "metadata": {},
     "output_type": "execute_result"
    }
   ],
   "source": [
    "import pandas as pd\n",
    "import numpy as np\n",
    "import json\n",
    "data = (\n",
    "    pd.DataFrame(values)\n",
    "    .assign(meta=lambda d: d.meta.map(json.loads))\n",
    "    .assign(samples=lambda d: d.meta.map(lambda m: m.get('samples', [])))\n",
    "    .assign(platform=lambda d: d.meta.map(lambda m: m.get('platform', np.nan)))\n",
    ")\n",
    "data[:10]"
   ]
  },
  {
   "cell_type": "code",
   "execution_count": null,
   "metadata": {
    "collapsed": false,
    "scrolled": false
   },
   "outputs": [],
   "source": [
    "import seaborn\n",
    "%matplotlib inline\n",
    "(data\n",
    " .query(\"platform == 'GPL570' and type == 'preproc' and status == 'done'\")\n",
    " .samples.map(len)\n",
    " .value_counts()\n",
    ")"
   ]
  },
  {
   "cell_type": "code",
   "execution_count": null,
   "metadata": {
    "collapsed": false
   },
   "outputs": [],
   "source": [
    "data.query(\"platform == 'GPL570'\").status.value_counts()[:10]"
   ]
  },
  {
   "cell_type": "code",
   "execution_count": null,
   "metadata": {
    "collapsed": false
   },
   "outputs": [],
   "source": [
    "data.query(\"platform=='GPL97'\")['status'].value_counts()"
   ]
  },
  {
   "cell_type": "code",
   "execution_count": null,
   "metadata": {
    "collapsed": false
   },
   "outputs": [],
   "source": [
    "data.platform.value_counts().plot(kind='pie')"
   ]
  },
  {
   "cell_type": "code",
   "execution_count": null,
   "metadata": {
    "collapsed": false
   },
   "outputs": [],
   "source": [
    "(data\n",
    " .query(\"platform == 'GPL1261' and type == 'preproc' and status == 'done'\")\n",
    " .name.to_csv(path='/Users/nikita/mnt/ls2/preproc/tmp/roshe-genes-corr/to_preroc-1261.txt', index=False)\n",
    ")"
   ]
  },
  {
   "cell_type": "code",
   "execution_count": null,
   "metadata": {
    "collapsed": true
   },
   "outputs": [],
   "source": [
    "?pd.read_table"
   ]
  },
  {
   "cell_type": "code",
   "execution_count": null,
   "metadata": {
    "collapsed": true
   },
   "outputs": [],
   "source": [
    "!mkdir -p /Users/nikita/mnt/ls2/preproc/tmp/roshe-genes-corr/"
   ]
  },
  {
   "cell_type": "code",
   "execution_count": null,
   "metadata": {
    "collapsed": false
   },
   "outputs": [],
   "source": [
    "drug = pd.read_table('/Users/nikita/Downloads/Archive/mcf7_0.04_mean.txt', skiprows=2, header=None, index_col=0)[1]\n",
    "drug[:10]"
   ]
  },
  {
   "cell_type": "code",
   "execution_count": null,
   "metadata": {
    "collapsed": false
   },
   "outputs": [],
   "source": [
    "sample = pd.read_table('../data/roshe-genes-corr/GSM1419638_YX_U133Plus_2_44T.expr', sep=' ', index_col=0)\n",
    "sample = sample[sample.columns[0]]\n",
    "sample[:10]"
   ]
  },
  {
   "cell_type": "code",
   "execution_count": null,
   "metadata": {
    "collapsed": false
   },
   "outputs": [],
   "source": [
    "drug.shape, sample.shape"
   ]
  },
  {
   "cell_type": "code",
   "execution_count": null,
   "metadata": {
    "collapsed": true
   },
   "outputs": [],
   "source": [
    "import scipy\n",
    "import numpy as np"
   ]
  },
  {
   "cell_type": "code",
   "execution_count": null,
   "metadata": {
    "collapsed": false
   },
   "outputs": [],
   "source": [
    "drug.hist(bins=30)"
   ]
  },
  {
   "cell_type": "code",
   "execution_count": null,
   "metadata": {
    "collapsed": true
   },
   "outputs": [],
   "source": [
    "sample = sample.map(np.log2)"
   ]
  },
  {
   "cell_type": "code",
   "execution_count": null,
   "metadata": {
    "collapsed": false
   },
   "outputs": [],
   "source": [
    "sample.hist(bins=30)"
   ]
  },
  {
   "cell_type": "code",
   "execution_count": null,
   "metadata": {
    "collapsed": false
   },
   "outputs": [],
   "source": [
    "d = pd.DataFrame(dict(sample=sample, drug=drug)).dropna()\n",
    "d.shape"
   ]
  },
  {
   "cell_type": "code",
   "execution_count": null,
   "metadata": {
    "collapsed": false
   },
   "outputs": [],
   "source": [
    "d.corr()"
   ]
  },
  {
   "cell_type": "code",
   "execution_count": null,
   "metadata": {
    "collapsed": false
   },
   "outputs": [],
   "source": [
    "sample.corr(drug)"
   ]
  },
  {
   "cell_type": "code",
   "execution_count": null,
   "metadata": {
    "collapsed": false
   },
   "outputs": [],
   "source": [
    "scipy.stats.pearsonr(d.drug.values, d['sample'].values)"
   ]
  },
  {
   "cell_type": "code",
   "execution_count": null,
   "metadata": {
    "collapsed": false
   },
   "outputs": [],
   "source": [
    "pd.read_csv('../data/roshe-genes-corr/out/GSE27716_GPL570.csv', index_col=0)"
   ]
  },
  {
   "cell_type": "code",
   "execution_count": null,
   "metadata": {
    "collapsed": true
   },
   "outputs": [],
   "source": [
    "from glob import glob\n",
    "from os.path import basename\n",
    "datasets = [pd.read_csv(f, index_col=0).assign(series=basename(f)) for f in glob('../data/roshe-genes-corr/out/*.csv')]"
   ]
  },
  {
   "cell_type": "code",
   "execution_count": null,
   "metadata": {
    "collapsed": false
   },
   "outputs": [],
   "source": [
    "corrs = (pd.concat(datasets)\n",
    "         .reset_index()\n",
    "         .dropna()\n",
    "         .assign(platform=lambda d: d.series\n",
    "                                     .str.split('_')\n",
    "                                     .str.get(1)\n",
    "                                     .str.replace('.csv', ''))\n",
    "         .assign(series=lambda d: d.series\n",
    "                                     .str.split('_')\n",
    "                                     .str.get(0))\n",
    "        )"
   ]
  },
  {
   "cell_type": "code",
   "execution_count": null,
   "metadata": {
    "collapsed": false
   },
   "outputs": [],
   "source": [
    "(corrs\n",
    " .sort(columns=['corr'], ascending=False)\n",
    " .drop('index', 1) \n",
    "#  .to_csv('../data/roshe-genes-corr/roshe-corrs-GPL570.csv', index=False)\n",
    ")"
   ]
  },
  {
   "cell_type": "code",
   "execution_count": null,
   "metadata": {
    "collapsed": false
   },
   "outputs": [],
   "source": [
    "corrs.platform.value_counts()"
   ]
  },
  {
   "cell_type": "code",
   "execution_count": null,
   "metadata": {
    "collapsed": false
   },
   "outputs": [],
   "source": [
    "def cell():\n",
    "    done = data.query(\"type == 'preproc' and status == 'done'\").assign(samples=lambda d: d['samples'].map(len))\n",
    "    t = done.groupby('platform')['samples'].sum()\n",
    "    t.sort(ascending=False)\n",
    "    return t\n",
    "\n",
    "cell()"
   ]
  },
  {
   "cell_type": "code",
   "execution_count": null,
   "metadata": {
    "collapsed": false
   },
   "outputs": [],
   "source": [
    "data['type'].value_counts()"
   ]
  },
  {
   "cell_type": "code",
   "execution_count": null,
   "metadata": {
    "collapsed": false
   },
   "outputs": [],
   "source": [
    "data.query(\"type == 'convert-merge'\").apply(lambda x: x['meta']['task'].split('_')[1], axis=1).value_counts()"
   ]
  },
  {
   "cell_type": "code",
   "execution_count": null,
   "metadata": {
    "collapsed": false
   },
   "outputs": [],
   "source": [
    "data.query(\"type == 'convert-merge'\").status.value_counts()"
   ]
  },
  {
   "cell_type": "code",
   "execution_count": null,
   "metadata": {
    "collapsed": false
   },
   "outputs": [],
   "source": [
    "data.query(\"type == 'preproc' and status =='done'\").platform.value_counts()[:10]"
   ]
  },
  {
   "cell_type": "code",
   "execution_count": null,
   "metadata": {
    "collapsed": false
   },
   "outputs": [],
   "source": [
    "data.query(\"type == 'convert-merge'\").meta.map(lambda x: x['task']).to_csv('/Users/nikita/mnt/ls2/preproc/tmp/roshe-genes-corr/to_preroc-genes-570-96-571.txt', index=False)"
   ]
  },
  {
   "cell_type": "code",
   "execution_count": null,
   "metadata": {
    "collapsed": false
   },
   "outputs": [],
   "source": [
    "data.query(\"type == 'convert-merge' and status=='done' and platform == 'GPL570'\")"
   ]
  },
  {
   "cell_type": "code",
   "execution_count": 8,
   "metadata": {
    "collapsed": false
   },
   "outputs": [
    {
     "data": {
      "text/html": [
       "<div>\n",
       "<table border=\"1\" class=\"dataframe\">\n",
       "  <thead>\n",
       "    <tr style=\"text-align: right;\">\n",
       "      <th></th>\n",
       "      <th>task</th>\n",
       "      <th>platform</th>\n",
       "      <th>series</th>\n",
       "    </tr>\n",
       "  </thead>\n",
       "  <tbody>\n",
       "    <tr>\n",
       "      <th>13842</th>\n",
       "      <td>GSE65835_GPL570</td>\n",
       "      <td>GPL570</td>\n",
       "      <td>GSE65835</td>\n",
       "    </tr>\n",
       "    <tr>\n",
       "      <th>13843</th>\n",
       "      <td>GSE53224_GPL570</td>\n",
       "      <td>GPL570</td>\n",
       "      <td>GSE53224</td>\n",
       "    </tr>\n",
       "    <tr>\n",
       "      <th>13844</th>\n",
       "      <td>GSE53183_GPL570</td>\n",
       "      <td>GPL570</td>\n",
       "      <td>GSE53183</td>\n",
       "    </tr>\n",
       "    <tr>\n",
       "      <th>13845</th>\n",
       "      <td>GSE53157_GPL570</td>\n",
       "      <td>GPL570</td>\n",
       "      <td>GSE53157</td>\n",
       "    </tr>\n",
       "    <tr>\n",
       "      <th>13846</th>\n",
       "      <td>GSE65721_GPL570</td>\n",
       "      <td>GPL570</td>\n",
       "      <td>GSE65721</td>\n",
       "    </tr>\n",
       "    <tr>\n",
       "      <th>13847</th>\n",
       "      <td>GSE53092_GPL570</td>\n",
       "      <td>GPL570</td>\n",
       "      <td>GSE53092</td>\n",
       "    </tr>\n",
       "    <tr>\n",
       "      <th>13848</th>\n",
       "      <td>GSE65707_GPL570</td>\n",
       "      <td>GPL570</td>\n",
       "      <td>GSE65707</td>\n",
       "    </tr>\n",
       "    <tr>\n",
       "      <th>13849</th>\n",
       "      <td>GSE53059_GPL570</td>\n",
       "      <td>GPL570</td>\n",
       "      <td>GSE53059</td>\n",
       "    </tr>\n",
       "    <tr>\n",
       "      <th>13850</th>\n",
       "      <td>GSE53046_GPL570</td>\n",
       "      <td>GPL570</td>\n",
       "      <td>GSE53046</td>\n",
       "    </tr>\n",
       "    <tr>\n",
       "      <th>13851</th>\n",
       "      <td>GSE53012_GPL570</td>\n",
       "      <td>GPL570</td>\n",
       "      <td>GSE53012</td>\n",
       "    </tr>\n",
       "    <tr>\n",
       "      <th>13852</th>\n",
       "      <td>GSE52980_GPL570</td>\n",
       "      <td>GPL570</td>\n",
       "      <td>GSE52980</td>\n",
       "    </tr>\n",
       "    <tr>\n",
       "      <th>13853</th>\n",
       "      <td>GSE49243_GPL570</td>\n",
       "      <td>GPL570</td>\n",
       "      <td>GSE49243</td>\n",
       "    </tr>\n",
       "    <tr>\n",
       "      <th>13854</th>\n",
       "      <td>GSE65647_GPL570</td>\n",
       "      <td>GPL570</td>\n",
       "      <td>GSE65647</td>\n",
       "    </tr>\n",
       "    <tr>\n",
       "      <th>13855</th>\n",
       "      <td>GSE49232_GPL570</td>\n",
       "      <td>GPL570</td>\n",
       "      <td>GSE49232</td>\n",
       "    </tr>\n",
       "    <tr>\n",
       "      <th>13856</th>\n",
       "      <td>GSE52896_GPL570</td>\n",
       "      <td>GPL570</td>\n",
       "      <td>GSE52896</td>\n",
       "    </tr>\n",
       "    <tr>\n",
       "      <th>13857</th>\n",
       "      <td>GSE52892_GPL570</td>\n",
       "      <td>GPL570</td>\n",
       "      <td>GSE52892</td>\n",
       "    </tr>\n",
       "    <tr>\n",
       "      <th>13858</th>\n",
       "      <td>GSE52889_GPL570</td>\n",
       "      <td>GPL570</td>\n",
       "      <td>GSE52889</td>\n",
       "    </tr>\n",
       "    <tr>\n",
       "      <th>13859</th>\n",
       "      <td>GSE52847_GPL570</td>\n",
       "      <td>GPL570</td>\n",
       "      <td>GSE52847</td>\n",
       "    </tr>\n",
       "    <tr>\n",
       "      <th>13860</th>\n",
       "      <td>GSE52735_GPL570</td>\n",
       "      <td>GPL570</td>\n",
       "      <td>GSE52735</td>\n",
       "    </tr>\n",
       "    <tr>\n",
       "      <th>13861</th>\n",
       "      <td>GSE52717_GPL570</td>\n",
       "      <td>GPL570</td>\n",
       "      <td>GSE52717</td>\n",
       "    </tr>\n",
       "    <tr>\n",
       "      <th>13862</th>\n",
       "      <td>GSE52712_GPL570</td>\n",
       "      <td>GPL570</td>\n",
       "      <td>GSE52712</td>\n",
       "    </tr>\n",
       "    <tr>\n",
       "      <th>13863</th>\n",
       "      <td>GSE52707_GPL570</td>\n",
       "      <td>GPL570</td>\n",
       "      <td>GSE52707</td>\n",
       "    </tr>\n",
       "    <tr>\n",
       "      <th>13864</th>\n",
       "      <td>GSE52658_GPL570</td>\n",
       "      <td>GPL570</td>\n",
       "      <td>GSE52658</td>\n",
       "    </tr>\n",
       "    <tr>\n",
       "      <th>13865</th>\n",
       "      <td>GSE65433_GPL570</td>\n",
       "      <td>GPL570</td>\n",
       "      <td>GSE65433</td>\n",
       "    </tr>\n",
       "    <tr>\n",
       "      <th>13866</th>\n",
       "      <td>GSE52361_GPL570</td>\n",
       "      <td>GPL570</td>\n",
       "      <td>GSE52361</td>\n",
       "    </tr>\n",
       "    <tr>\n",
       "      <th>13867</th>\n",
       "      <td>GSE52360_GPL570</td>\n",
       "      <td>GPL570</td>\n",
       "      <td>GSE52360</td>\n",
       "    </tr>\n",
       "    <tr>\n",
       "      <th>13868</th>\n",
       "      <td>GSE52327_GPL570</td>\n",
       "      <td>GPL570</td>\n",
       "      <td>GSE52327</td>\n",
       "    </tr>\n",
       "    <tr>\n",
       "      <th>13869</th>\n",
       "      <td>GSE52322_GPL570</td>\n",
       "      <td>GPL570</td>\n",
       "      <td>GSE52322</td>\n",
       "    </tr>\n",
       "    <tr>\n",
       "      <th>13870</th>\n",
       "      <td>GSE52262_GPL570</td>\n",
       "      <td>GPL570</td>\n",
       "      <td>GSE52262</td>\n",
       "    </tr>\n",
       "    <tr>\n",
       "      <th>13871</th>\n",
       "      <td>GSE48060_GPL570</td>\n",
       "      <td>GPL570</td>\n",
       "      <td>GSE48060</td>\n",
       "    </tr>\n",
       "    <tr>\n",
       "      <th>...</th>\n",
       "      <td>...</td>\n",
       "      <td>...</td>\n",
       "      <td>...</td>\n",
       "    </tr>\n",
       "    <tr>\n",
       "      <th>18613</th>\n",
       "      <td>GSE9854_GPL96</td>\n",
       "      <td>GPL96</td>\n",
       "      <td>GSE9854</td>\n",
       "    </tr>\n",
       "    <tr>\n",
       "      <th>18614</th>\n",
       "      <td>GSE9874_GPL96</td>\n",
       "      <td>GPL96</td>\n",
       "      <td>GSE9874</td>\n",
       "    </tr>\n",
       "    <tr>\n",
       "      <th>18615</th>\n",
       "      <td>GSE9877_GPL96</td>\n",
       "      <td>GPL96</td>\n",
       "      <td>GSE9877</td>\n",
       "    </tr>\n",
       "    <tr>\n",
       "      <th>18616</th>\n",
       "      <td>GSE9936_GPL96</td>\n",
       "      <td>GPL96</td>\n",
       "      <td>GSE9936</td>\n",
       "    </tr>\n",
       "    <tr>\n",
       "      <th>18617</th>\n",
       "      <td>GSE9939_GPL96</td>\n",
       "      <td>GPL96</td>\n",
       "      <td>GSE9939</td>\n",
       "    </tr>\n",
       "    <tr>\n",
       "      <th>18618</th>\n",
       "      <td>GSE9946_GPL96</td>\n",
       "      <td>GPL96</td>\n",
       "      <td>GSE9946</td>\n",
       "    </tr>\n",
       "    <tr>\n",
       "      <th>18619</th>\n",
       "      <td>GSE9963_GPL96</td>\n",
       "      <td>GPL96</td>\n",
       "      <td>GSE9963</td>\n",
       "    </tr>\n",
       "    <tr>\n",
       "      <th>18620</th>\n",
       "      <td>GSE9971_GPL96</td>\n",
       "      <td>GPL96</td>\n",
       "      <td>GSE9971</td>\n",
       "    </tr>\n",
       "    <tr>\n",
       "      <th>18621</th>\n",
       "      <td>GSE9992_GPL96</td>\n",
       "      <td>GPL96</td>\n",
       "      <td>GSE9992</td>\n",
       "    </tr>\n",
       "    <tr>\n",
       "      <th>18622</th>\n",
       "      <td>GSE11450_GPL96</td>\n",
       "      <td>GPL96</td>\n",
       "      <td>GSE11450</td>\n",
       "    </tr>\n",
       "    <tr>\n",
       "      <th>18623</th>\n",
       "      <td>GSE12417_GPL96</td>\n",
       "      <td>GPL96</td>\n",
       "      <td>GSE12417</td>\n",
       "    </tr>\n",
       "    <tr>\n",
       "      <th>18624</th>\n",
       "      <td>GSE13041_GPL96</td>\n",
       "      <td>GPL96</td>\n",
       "      <td>GSE13041</td>\n",
       "    </tr>\n",
       "    <tr>\n",
       "      <th>18625</th>\n",
       "      <td>GSE14618_GPL96</td>\n",
       "      <td>GPL96</td>\n",
       "      <td>GSE14618</td>\n",
       "    </tr>\n",
       "    <tr>\n",
       "      <th>18626</th>\n",
       "      <td>GSE15072_GPL96</td>\n",
       "      <td>GPL96</td>\n",
       "      <td>GSE15072</td>\n",
       "    </tr>\n",
       "    <tr>\n",
       "      <th>18627</th>\n",
       "      <td>GSE15460_GPL96</td>\n",
       "      <td>GPL96</td>\n",
       "      <td>GSE15460</td>\n",
       "    </tr>\n",
       "    <tr>\n",
       "      <th>18628</th>\n",
       "      <td>GSE16024_GPL96</td>\n",
       "      <td>GPL96</td>\n",
       "      <td>GSE16024</td>\n",
       "    </tr>\n",
       "    <tr>\n",
       "      <th>18629</th>\n",
       "      <td>GSE16716_GPL96</td>\n",
       "      <td>GPL96</td>\n",
       "      <td>GSE16716</td>\n",
       "    </tr>\n",
       "    <tr>\n",
       "      <th>18630</th>\n",
       "      <td>GSE22762_GPL96</td>\n",
       "      <td>GPL96</td>\n",
       "      <td>GSE22762</td>\n",
       "    </tr>\n",
       "    <tr>\n",
       "      <th>18631</th>\n",
       "      <td>GSE2328_GPL96</td>\n",
       "      <td>GPL96</td>\n",
       "      <td>GSE2328</td>\n",
       "    </tr>\n",
       "    <tr>\n",
       "      <th>18632</th>\n",
       "      <td>GSE26682_GPL96</td>\n",
       "      <td>GPL96</td>\n",
       "      <td>GSE26682</td>\n",
       "    </tr>\n",
       "    <tr>\n",
       "      <th>18633</th>\n",
       "      <td>GSE3284_GPL96</td>\n",
       "      <td>GPL96</td>\n",
       "      <td>GSE3284</td>\n",
       "    </tr>\n",
       "    <tr>\n",
       "      <th>18634</th>\n",
       "      <td>GSE4780_GPL96</td>\n",
       "      <td>GPL96</td>\n",
       "      <td>GSE4780</td>\n",
       "    </tr>\n",
       "    <tr>\n",
       "      <th>18635</th>\n",
       "      <td>GSE4824_GPL96</td>\n",
       "      <td>GPL96</td>\n",
       "      <td>GSE4824</td>\n",
       "    </tr>\n",
       "    <tr>\n",
       "      <th>18636</th>\n",
       "      <td>GSE6269_GPL96</td>\n",
       "      <td>GPL96</td>\n",
       "      <td>GSE6269</td>\n",
       "    </tr>\n",
       "    <tr>\n",
       "      <th>18637</th>\n",
       "      <td>GSE6532_GPL96</td>\n",
       "      <td>GPL96</td>\n",
       "      <td>GSE6532</td>\n",
       "    </tr>\n",
       "    <tr>\n",
       "      <th>18638</th>\n",
       "      <td>GSE6565_GPL96</td>\n",
       "      <td>GPL96</td>\n",
       "      <td>GSE6565</td>\n",
       "    </tr>\n",
       "    <tr>\n",
       "      <th>18639</th>\n",
       "      <td>GSE66708_GPL96</td>\n",
       "      <td>GPL96</td>\n",
       "      <td>GSE66708</td>\n",
       "    </tr>\n",
       "    <tr>\n",
       "      <th>18640</th>\n",
       "      <td>GSE7382_GPL96</td>\n",
       "      <td>GPL96</td>\n",
       "      <td>GSE7382</td>\n",
       "    </tr>\n",
       "    <tr>\n",
       "      <th>18641</th>\n",
       "      <td>GSE7454_GPL96</td>\n",
       "      <td>GPL96</td>\n",
       "      <td>GSE7454</td>\n",
       "    </tr>\n",
       "    <tr>\n",
       "      <th>18642</th>\n",
       "      <td>GSE8166_GPL96</td>\n",
       "      <td>GPL96</td>\n",
       "      <td>GSE8166</td>\n",
       "    </tr>\n",
       "  </tbody>\n",
       "</table>\n",
       "<p>4801 rows × 3 columns</p>\n",
       "</div>"
      ],
      "text/plain": [
       "                  task platform    series\n",
       "13842  GSE65835_GPL570   GPL570  GSE65835\n",
       "13843  GSE53224_GPL570   GPL570  GSE53224\n",
       "13844  GSE53183_GPL570   GPL570  GSE53183\n",
       "13845  GSE53157_GPL570   GPL570  GSE53157\n",
       "13846  GSE65721_GPL570   GPL570  GSE65721\n",
       "13847  GSE53092_GPL570   GPL570  GSE53092\n",
       "13848  GSE65707_GPL570   GPL570  GSE65707\n",
       "13849  GSE53059_GPL570   GPL570  GSE53059\n",
       "13850  GSE53046_GPL570   GPL570  GSE53046\n",
       "13851  GSE53012_GPL570   GPL570  GSE53012\n",
       "13852  GSE52980_GPL570   GPL570  GSE52980\n",
       "13853  GSE49243_GPL570   GPL570  GSE49243\n",
       "13854  GSE65647_GPL570   GPL570  GSE65647\n",
       "13855  GSE49232_GPL570   GPL570  GSE49232\n",
       "13856  GSE52896_GPL570   GPL570  GSE52896\n",
       "13857  GSE52892_GPL570   GPL570  GSE52892\n",
       "13858  GSE52889_GPL570   GPL570  GSE52889\n",
       "13859  GSE52847_GPL570   GPL570  GSE52847\n",
       "13860  GSE52735_GPL570   GPL570  GSE52735\n",
       "13861  GSE52717_GPL570   GPL570  GSE52717\n",
       "13862  GSE52712_GPL570   GPL570  GSE52712\n",
       "13863  GSE52707_GPL570   GPL570  GSE52707\n",
       "13864  GSE52658_GPL570   GPL570  GSE52658\n",
       "13865  GSE65433_GPL570   GPL570  GSE65433\n",
       "13866  GSE52361_GPL570   GPL570  GSE52361\n",
       "13867  GSE52360_GPL570   GPL570  GSE52360\n",
       "13868  GSE52327_GPL570   GPL570  GSE52327\n",
       "13869  GSE52322_GPL570   GPL570  GSE52322\n",
       "13870  GSE52262_GPL570   GPL570  GSE52262\n",
       "13871  GSE48060_GPL570   GPL570  GSE48060\n",
       "...                ...      ...       ...\n",
       "18613    GSE9854_GPL96    GPL96   GSE9854\n",
       "18614    GSE9874_GPL96    GPL96   GSE9874\n",
       "18615    GSE9877_GPL96    GPL96   GSE9877\n",
       "18616    GSE9936_GPL96    GPL96   GSE9936\n",
       "18617    GSE9939_GPL96    GPL96   GSE9939\n",
       "18618    GSE9946_GPL96    GPL96   GSE9946\n",
       "18619    GSE9963_GPL96    GPL96   GSE9963\n",
       "18620    GSE9971_GPL96    GPL96   GSE9971\n",
       "18621    GSE9992_GPL96    GPL96   GSE9992\n",
       "18622   GSE11450_GPL96    GPL96  GSE11450\n",
       "18623   GSE12417_GPL96    GPL96  GSE12417\n",
       "18624   GSE13041_GPL96    GPL96  GSE13041\n",
       "18625   GSE14618_GPL96    GPL96  GSE14618\n",
       "18626   GSE15072_GPL96    GPL96  GSE15072\n",
       "18627   GSE15460_GPL96    GPL96  GSE15460\n",
       "18628   GSE16024_GPL96    GPL96  GSE16024\n",
       "18629   GSE16716_GPL96    GPL96  GSE16716\n",
       "18630   GSE22762_GPL96    GPL96  GSE22762\n",
       "18631    GSE2328_GPL96    GPL96   GSE2328\n",
       "18632   GSE26682_GPL96    GPL96  GSE26682\n",
       "18633    GSE3284_GPL96    GPL96   GSE3284\n",
       "18634    GSE4780_GPL96    GPL96   GSE4780\n",
       "18635    GSE4824_GPL96    GPL96   GSE4824\n",
       "18636    GSE6269_GPL96    GPL96   GSE6269\n",
       "18637    GSE6532_GPL96    GPL96   GSE6532\n",
       "18638    GSE6565_GPL96    GPL96   GSE6565\n",
       "18639   GSE66708_GPL96    GPL96  GSE66708\n",
       "18640    GSE7382_GPL96    GPL96   GSE7382\n",
       "18641    GSE7454_GPL96    GPL96   GSE7454\n",
       "18642    GSE8166_GPL96    GPL96   GSE8166\n",
       "\n",
       "[4801 rows x 3 columns]"
      ]
     },
     "execution_count": 8,
     "metadata": {},
     "output_type": "execute_result"
    }
   ],
   "source": [
    "converted_tasks = (\n",
    "    pd.DataFrame(data\n",
    "     .query(\"type == 'convert-merge' and status=='done' \")\n",
    "     .apply(lambda x: x['meta']['task'], axis=1),\n",
    "    columns=['task']             \n",
    "    )\n",
    "    .assign(platform=lambda d: d['task'].map(lambda t: t.split('_')[1]))\n",
    "    .assign(series=lambda d: d['task'].map(lambda t: t.split('_')[0]))\n",
    "#     .query(\"platform == 'GPL570'\")\n",
    ")\n",
    "\n",
    "converted_tasks"
   ]
  },
  {
   "cell_type": "code",
   "execution_count": 10,
   "metadata": {
    "collapsed": false
   },
   "outputs": [
    {
     "data": {
      "text/plain": [
       "GPL570    3672\n",
       "GPL96      693\n",
       "GPL571     436\n",
       "dtype: int64"
      ]
     },
     "execution_count": 10,
     "metadata": {},
     "output_type": "execute_result"
    }
   ],
   "source": [
    "converted_tasks.platform.value_counts()"
   ]
  },
  {
   "cell_type": "code",
   "execution_count": null,
   "metadata": {
    "collapsed": true
   },
   "outputs": [],
   "source": [
    "converted_tasks[['series', 'platform']].to_csv('../data/preproc/converted_tasks.csv', index=False)"
   ]
  }
 ],
 "metadata": {
  "kernelspec": {
   "display_name": "Python 3",
   "language": "python",
   "name": "python3"
  },
  "language_info": {
   "codemirror_mode": {
    "name": "ipython",
    "version": 3
   },
   "file_extension": ".py",
   "mimetype": "text/x-python",
   "name": "python",
   "nbconvert_exporter": "python",
   "pygments_lexer": "ipython3",
   "version": "3.4.3"
  }
 },
 "nbformat": 4,
 "nbformat_minor": 0
}
