{
 "cells": [
  {
   "cell_type": "code",
   "execution_count": 47,
   "metadata": {
    "collapsed": false
   },
   "outputs": [],
   "source": [
    "step = 0"
   ]
  },
  {
   "cell_type": "code",
   "execution_count": 62,
   "metadata": {
    "collapsed": false
   },
   "outputs": [
    {
     "data": {
      "text/plain": [
       "{1: 'm',\n",
       " 2: 'n',\n",
       " 3: 'o',\n",
       " 4: 'p',\n",
       " 5: 'q',\n",
       " 6: 'r',\n",
       " 7: 's',\n",
       " 8: 't',\n",
       " 9: 'u',\n",
       " 10: 'v',\n",
       " 11: 'w',\n",
       " 12: 'x',\n",
       " 13: 'y',\n",
       " 14: 'z',\n",
       " 15: 'a',\n",
       " 16: 'b',\n",
       " 17: 'c',\n",
       " 18: 'd',\n",
       " 19: 'e',\n",
       " 20: 'f',\n",
       " 21: 'g',\n",
       " 22: 'h',\n",
       " 23: 'i',\n",
       " 24: 'j',\n",
       " 25: 'k',\n",
       " 26: 'l'}"
      ]
     },
     "execution_count": 62,
     "metadata": {},
     "output_type": "execute_result"
    }
   ],
   "source": [
    "def getm():\n",
    "    return dict([(i+1 , chr((i+step)%26 + ord('a'))) for i, c in list(enumerate(range(ord('a'), ord('z')+1)))])\n",
    "m = getm()\n",
    "m"
   ]
  },
  {
   "cell_type": "code",
   "execution_count": 20,
   "metadata": {
    "collapsed": false
   },
   "outputs": [],
   "source": [
    "def trans(word):\n",
    "    return ''.join(m.get(w) or w for w in word)\n",
    "\n",
    "def trans_code(code):\n",
    "    return ' '.join(trans(c) for c in code)"
   ]
  },
  {
   "cell_type": "code",
   "execution_count": 21,
   "metadata": {
    "collapsed": false
   },
   "outputs": [
    {
     "data": {
      "text/plain": [
       "'but who stole the capers?'"
      ]
     },
     "execution_count": 21,
     "metadata": {},
     "output_type": "execute_result"
    }
   ],
   "source": [
    "trans_code([[2, 21, 20], [23,8,15], [19,20,15,12,5], [20, 8, 5], [3,1,16, 5,18,19, '?']])"
   ]
  },
  {
   "cell_type": "code",
   "execution_count": null,
   "metadata": {
    "collapsed": false
   },
   "outputs": [],
   "source": [
    "trans_code([[22, 9, 22, 1, 14], [12, 15, 19], [16, 1, 20, 15, 19], [4, 5], [12, 1], [16,9,19,3,9,14,1]])"
   ]
  },
  {
   "cell_type": "code",
   "execution_count": null,
   "metadata": {
    "collapsed": false
   },
   "outputs": [],
   "source": [
    "trans_code([[14,5,24,20], [21,16, ':'], ['\"', 6,15,15,20,2,15,20], [20,23,15, ':'], [7,18,21,14,11,12,5, \"'\",19], [7,18,5,22,5,14,7,5, '\"']])"
   ]
  },
  {
   "cell_type": "code",
   "execution_count": null,
   "metadata": {
    "collapsed": false
   },
   "outputs": [],
   "source": [
    "help(dict.get)"
   ]
  },
  {
   "cell_type": "code",
   "execution_count": null,
   "metadata": {
    "collapsed": false
   },
   "outputs": [],
   "source": [
    "code =[[22, 9, 22, 1, 14], [12, 15, 19], [16, 1, 20, 15, 19], [4, 5], [12, 1], [16,9,19,3,9,14,1]]\n",
    "' '.join(['-'.join([str(y) for y in x]) for x in code])"
   ]
  },
  {
   "cell_type": "code",
   "execution_count": 167,
   "metadata": {
    "collapsed": false
   },
   "outputs": [],
   "source": [
    "sent = '22-9-22-1-14 12-15-19 16-1-20-15-19: piska 4-5 12-1 16-9-19-3-9-14-1'\n",
    "\n",
    "import re\n",
    "def t(sent, m):\n",
    "#     global step, m\n",
    "#     step += 1\n",
    "#     print(step%26)\n",
    "#     m = getm()\n",
    "    return re.sub(r'(\\d+)', (lambda x: m.get(int(x.group(1))) or x.group(1)), sent)\n",
    "# t(sent)"
   ]
  },
  {
   "cell_type": "code",
   "execution_count": 140,
   "metadata": {
    "collapsed": false
   },
   "outputs": [
    {
     "data": {
      "text/plain": [
       "325.0"
      ]
     },
     "execution_count": 140,
     "metadata": {},
     "output_type": "execute_result"
    }
   ],
   "source": [
    "import math\n",
    "from math import factorial as f\n",
    "\n",
    "f(26)/ f(24)/f(2)"
   ]
  },
  {
   "cell_type": "code",
   "execution_count": 137,
   "metadata": {
    "collapsed": false
   },
   "outputs": [
    {
     "name": "stdout",
     "output_type": "stream",
     "text": [
      "2\n"
     ]
    },
    {
     "data": {
      "text/plain": [
       "'fru myl vkclgfyqhg qg duha wnuduh wyl ru rqvu rqg jnylg tkhuduh?'"
      ]
     },
     "execution_count": 137,
     "metadata": {},
     "output_type": "execute_result"
    }
   ],
   "source": [
    "t('4-16-19 11-23-10 20-9-1-10-5-4-23-15-6-5 15-5 2-19-6-25 21-12-19-2-19-6 '+\n",
    "  '21-23-10 16-19 16-15-20-19 16-15-5 8-12-23-10-5 18-9-6-19-2-19-6?')"
   ]
  },
  {
   "cell_type": "code",
   "execution_count": 26,
   "metadata": {
    "collapsed": false
   },
   "outputs": [
    {
     "data": {
      "text/plain": [
       "'okhfihsf ces ir kwupojsfy uiclt lswt di cddsf uwdwedfihpi'"
      ]
     },
     "execution_count": 26,
     "metadata": {},
     "output_type": "execute_result"
    }
   ],
   "source": [
    "t('15-11-8-6-9-8-19-6 3-5-19 9-18 11-23-21-16-15-10-19-6-25 21-9-3-12-20 '+\n",
    "  '12-19-23-20 4-9 3-4-4-19-6 21-23-4-23-5-4-6-9-8-16-9')"
   ]
  },
  {
   "cell_type": "code",
   "execution_count": 25,
   "metadata": {
    "collapsed": false
   },
   "outputs": [
    {
     "data": {
      "text/plain": [
       "\"ilt kwj elsshojq ij dps qfssj / uwj'd pslh vcd aijtsf apwd ps'e essj\""
      ]
     },
     "execution_count": 25,
     "metadata": {},
     "output_type": "execute_result"
    }
   ],
   "source": [
    "t('9-12-20 11-23-10 5-12-19-19-8-15-10-17 9-10 4-16-19 17-6-19-19-10 / 21-23-10\\'4 '+\n",
    "   '16-19-12-8 22-3-4 1-9-10-20-19-6 1-16-23-4 16-19\\'5 5-19-19-10')"
   ]
  },
  {
   "cell_type": "code",
   "execution_count": 1,
   "metadata": {
    "collapsed": false
   },
   "outputs": [
    {
     "ename": "NameError",
     "evalue": "name 're' is not defined",
     "output_type": "error",
     "traceback": [
      "\u001b[0;31m---------------------------------------------------------------------------\u001b[0m",
      "\u001b[0;31mNameError\u001b[0m                                 Traceback (most recent call last)",
      "\u001b[0;32m<ipython-input-1-358f28905aa6>\u001b[0m in \u001b[0;36m<module>\u001b[0;34m()\u001b[0m\n\u001b[1;32m     19\u001b[0m \u001b[0;34m'9-12-20 11-23-10 5-12-19-19-8-15-10-17 9-10 4-16-19 17-6-19-19-10 / 21-23-10\\'4 '\u001b[0m\u001b[0;34m+\u001b[0m\u001b[0;34m\u001b[0m\u001b[0m\n\u001b[1;32m     20\u001b[0m    '16-19-12-8 22-3-4 1-9-10-20-19-6 1-16-23-4 16-19\\'5 5-19-19-10\\n')\n\u001b[0;32m---> 21\u001b[0;31m \u001b[0msave_letters\u001b[0m\u001b[0;34m(\u001b[0m\u001b[0ms\u001b[0m\u001b[0;34m)\u001b[0m\u001b[0;34m\u001b[0m\u001b[0m\n\u001b[0m\u001b[1;32m     22\u001b[0m \u001b[0;32mdef\u001b[0m \u001b[0mt\u001b[0m\u001b[0;34m(\u001b[0m\u001b[0msent\u001b[0m\u001b[0;34m,\u001b[0m \u001b[0mm\u001b[0m\u001b[0;34m)\u001b[0m\u001b[0;34m:\u001b[0m\u001b[0;34m\u001b[0m\u001b[0m\n\u001b[1;32m     23\u001b[0m     \u001b[0;32mreturn\u001b[0m \u001b[0mre\u001b[0m\u001b[0;34m.\u001b[0m\u001b[0msub\u001b[0m\u001b[0;34m(\u001b[0m\u001b[0;34mr'(\\d+)-*'\u001b[0m\u001b[0;34m,\u001b[0m \u001b[0;34m(\u001b[0m\u001b[0;32mlambda\u001b[0m \u001b[0mx\u001b[0m\u001b[0;34m:\u001b[0m \u001b[0mm\u001b[0m\u001b[0;34m.\u001b[0m\u001b[0mget\u001b[0m\u001b[0;34m(\u001b[0m\u001b[0mint\u001b[0m\u001b[0;34m(\u001b[0m\u001b[0mx\u001b[0m\u001b[0;34m.\u001b[0m\u001b[0mgroup\u001b[0m\u001b[0;34m(\u001b[0m\u001b[0;36m1\u001b[0m\u001b[0;34m)\u001b[0m\u001b[0;34m)\u001b[0m\u001b[0;34m)\u001b[0m \u001b[0;32mor\u001b[0m \u001b[0mx\u001b[0m\u001b[0;34m.\u001b[0m\u001b[0mgroup\u001b[0m\u001b[0;34m(\u001b[0m\u001b[0;36m1\u001b[0m\u001b[0;34m)\u001b[0m\u001b[0;34m)\u001b[0m\u001b[0;34m,\u001b[0m \u001b[0msent\u001b[0m\u001b[0;34m)\u001b[0m\u001b[0;34m\u001b[0m\u001b[0m\n",
      "\u001b[0;32m<ipython-input-1-358f28905aa6>\u001b[0m in \u001b[0;36msave_letters\u001b[0;34m(sent)\u001b[0m\n\u001b[1;32m      8\u001b[0m         \u001b[0mletters\u001b[0m\u001b[0;34m[\u001b[0m\u001b[0mint\u001b[0m\u001b[0;34m(\u001b[0m\u001b[0mx\u001b[0m\u001b[0;34m.\u001b[0m\u001b[0mgroup\u001b[0m\u001b[0;34m(\u001b[0m\u001b[0;36m1\u001b[0m\u001b[0;34m)\u001b[0m\u001b[0;34m)\u001b[0m\u001b[0;34m]\u001b[0m \u001b[0;34m+=\u001b[0m \u001b[0;36m1\u001b[0m\u001b[0;34m\u001b[0m\u001b[0m\n\u001b[1;32m      9\u001b[0m         \u001b[0;32mreturn\u001b[0m \u001b[0;34m''\u001b[0m\u001b[0;34m\u001b[0m\u001b[0m\n\u001b[0;32m---> 10\u001b[0;31m     \u001b[0;32mreturn\u001b[0m \u001b[0mre\u001b[0m\u001b[0;34m.\u001b[0m\u001b[0msub\u001b[0m\u001b[0;34m(\u001b[0m\u001b[0;34mr'(\\d+)-*'\u001b[0m\u001b[0;34m,\u001b[0m \u001b[0m_s\u001b[0m\u001b[0;34m,\u001b[0m \u001b[0msent\u001b[0m\u001b[0;34m)\u001b[0m\u001b[0;34m\u001b[0m\u001b[0m\n\u001b[0m\u001b[1;32m     11\u001b[0m \u001b[0;34m\u001b[0m\u001b[0m\n\u001b[1;32m     12\u001b[0m \u001b[0;34m\u001b[0m\u001b[0m\n",
      "\u001b[0;31mNameError\u001b[0m: name 're' is not defined"
     ]
    }
   ],
   "source": [
    "from collections import defaultdict\n",
    "\n",
    "letters = defaultdict(int)\n",
    "\n",
    "def save_letters(sent):\n",
    "    def _s(x):\n",
    "        global letters\n",
    "        letters[int(x.group(1))] += 1\n",
    "        return ''\n",
    "    return re.sub(r'(\\d+)-*', _s, sent)\n",
    "\n",
    "\n",
    "s = ('4-16-19 11-23-10 20-9-1-10-5-4-23-15-6-5 15-5 2-19-6-25 21-12-19-2-19-6 '+\n",
    "   '21-23-10 16-19 16-15-20-19 16-15-5 8-12-23-10-5 18-9-6-19-2-19-6?\\n\\n'+\n",
    "     \n",
    "'15-11-8-6-9-8-19-6 3-5-19 9-18 11-23-21-16-15-10-19-6-25 21-9-3-12-20 '+\n",
    "  '12-19-23-20 4-9 3-4-4-19-6 21-23-4-23-5-4-6-9-8-16-19\\n\\n'+\n",
    "     \n",
    "'9-12-20 11-23-10 5-12-19-19-8-15-10-17 9-10 4-16-19 17-6-19-19-10 / 21-23-10\\'4 '+\n",
    "   '16-19-12-8 22-3-4 1-9-10-20-19-6 1-16-23-4 16-19\\'5 5-19-19-10\\n')\n",
    "save_letters(s)\n",
    "def t(sent, m):\n",
    "    return re.sub(r'(\\d+)-*', (lambda x: m.get(int(x.group(1))) or x.group(1)), sent)\n",
    "\n",
    "m = {\n",
    "    19: 'e',\n",
    "    4: 't',\n",
    "    16: 'h',\n",
    "    21:'c',\n",
    "    23:'a',\n",
    "    10: 'n',\n",
    "    5:'s',\n",
    "    9:'o',\n",
    "    18:'f',\n",
    "    12:'l',\n",
    "    8:'p',\n",
    "    1: 'w',\n",
    "    20: 'd',\n",
    "    6: 'r',\n",
    "    11: 'm',\n",
    "    15: 'i',\n",
    "    17: 'g',\n",
    "    2: 'v',\n",
    "    25: 'y',\n",
    "    3: 'u',\n",
    "    22: 'b'\n",
    "}\n",
    "print('')\n",
    "print(t(s, m))\n",
    "import pandas as pd\n",
    "letters = pd.DataFrame.from_records(list(letters.items()),\n",
    "                                    columns=['code', 'Freq']).set_index('code')#(dict(letter=list(letters.keys()), freq=list(letters.values())))\n",
    "m = pd.DataFrame.from_records(data=list(m.items()), columns=['code', 'letter']).set_index('code')\n",
    "letters.join(m).sort('Freq', ascending=False)"
   ]
  },
  {
   "cell_type": "code",
   "execution_count": 196,
   "metadata": {
    "collapsed": false
   },
   "outputs": [
    {
     "data": {
      "text/plain": [
       "[(1, 'w'),\n",
       " (2, 'v'),\n",
       " (3, 'u'),\n",
       " (4, 't'),\n",
       " (5, 's'),\n",
       " (6, 'r'),\n",
       " (8, 'p'),\n",
       " (9, 'o'),\n",
       " (10, 'n'),\n",
       " (11, 'm'),\n",
       " (12, 'l'),\n",
       " (15, 'i'),\n",
       " (16, 'h'),\n",
       " (17, 'g'),\n",
       " (18, 'f'),\n",
       " (19, 'e'),\n",
       " (20, 'd'),\n",
       " (21, 'c'),\n",
       " (22, 'b'),\n",
       " (23, 'a'),\n",
       " (25, 'y')]"
      ]
     },
     "execution_count": 196,
     "metadata": {},
     "output_type": "execute_result"
    }
   ],
   "source": [
    "list(m.items())"
   ]
  }
 ],
 "metadata": {
  "kernelspec": {
   "display_name": "Python 3",
   "language": "python",
   "name": "python3"
  },
  "language_info": {
   "codemirror_mode": {
    "name": "ipython",
    "version": 3
   },
   "file_extension": ".py",
   "mimetype": "text/x-python",
   "name": "python",
   "nbconvert_exporter": "python",
   "pygments_lexer": "ipython3",
   "version": "3.4.3"
  }
 },
 "nbformat": 4,
 "nbformat_minor": 0
}
