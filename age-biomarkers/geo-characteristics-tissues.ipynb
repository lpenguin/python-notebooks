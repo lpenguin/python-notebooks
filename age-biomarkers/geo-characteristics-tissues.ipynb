{
 "cells": [
  {
   "cell_type": "code",
   "execution_count": 1,
   "metadata": {},
   "outputs": [],
   "source": [
    "from pymongo import MongoClient\n",
    "\n",
    "db = MongoClient().scraper_meta"
   ]
  },
  {
   "cell_type": "code",
   "execution_count": 53,
   "metadata": {},
   "outputs": [],
   "source": [
    "c = db.samples.aggregate([{'$match': {'organism': 'Homo sapiens'}},\n",
    "        {'$group':{\n",
    "                '_id': '$characteristics.tissue',\n",
    "                'count': {'$sum': 1}\n",
    "            }}\n",
    "    , {\n",
    "        '$match': {'count': {'$gt': 1}}\n",
    "    }, {\n",
    "        '$sort': {'count': -1}\n",
    "    }])"
   ]
  },
  {
   "cell_type": "code",
   "execution_count": 54,
   "metadata": {},
   "outputs": [],
   "source": [
    "import pandas as pd\n",
    "\n",
    "tissues_raw = pd.DataFrame(list(c))"
   ]
  },
  {
   "cell_type": "code",
   "execution_count": 55,
   "metadata": {},
   "outputs": [],
   "source": [
    "tissues_raw.to_pickle('../data/age-biomarkers/geo-characterisitcs-tissues.pd3.pickle')\n",
    "# tissues_raw = pd.read_pickle('../data/age-biomarkers/geo-characterisitcs-tissues.pd3.pickle')"
   ]
  },
  {
   "cell_type": "code",
   "execution_count": 56,
   "metadata": {},
   "outputs": [],
   "source": [
    "tissues_raw['tissue'] = tissues_raw['_id'].str.lower()\n",
    "tissues = pd.DataFrame(tissues_raw.groupby('tissue')['count'].sum()).sort(columns='count', ascending=False)"
   ]
  },
  {
   "cell_type": "code",
   "execution_count": 57,
   "metadata": {},
   "outputs": [
    {
     "data": {
      "text/html": [
       "<script type=\"text/javascript\">\n",
       "if ($(\"#dg-css\").length == 0){\n",
       "    $(\"head\").append([\n",
       "        \"<link href='/nbextensions/qgridjs/lib/slick.grid.css' rel='stylesheet'>\",\n",
       "        \"<link href='/nbextensions/qgridjs/lib/slick-default-theme.css' rel='stylesheet'>\",\n",
       "        \"<link href='http://cdnjs.cloudflare.com/ajax/libs/jqueryui/1.10.4/css/jquery-ui.min.css' rel='stylesheet'>\",\n",
       "        \"<link id='dg-css' href='/nbextensions/qgridjs/qgrid.css' rel='stylesheet'>\"\n",
       "    ]);\n",
       "}\n",
       "</script>\n",
       "<div class='q-grid-container'>\n",
       "<div id='2ee287d5-c46f-445e-b670-ae9671491e7e' class='q-grid'></div>\n",
       "</div>"
      ]
     },
     "output_type": "execute_result",
     "metadata": {}
    },
    {
     "metadata": {}
    }
   ],
   "source": [
    "import qgrid\n",
    "qgrid.show_grid(tissues)"
   ]
  },
  {
   "cell_type": "code",
   "execution_count": 58,
   "metadata": {},
   "outputs": [
    {
     "data": {
      "text/html": [
       "<script type=\"text/javascript\">\n",
       "if ($(\"#dg-css\").length == 0){\n",
       "    $(\"head\").append([\n",
       "        \"<link href='/nbextensions/qgridjs/lib/slick.grid.css' rel='stylesheet'>\",\n",
       "        \"<link href='/nbextensions/qgridjs/lib/slick-default-theme.css' rel='stylesheet'>\",\n",
       "        \"<link href='http://cdnjs.cloudflare.com/ajax/libs/jqueryui/1.10.4/css/jquery-ui.min.css' rel='stylesheet'>\",\n",
       "        \"<link id='dg-css' href='/nbextensions/qgridjs/qgrid.css' rel='stylesheet'>\"\n",
       "    ]);\n",
       "}\n",
       "</script>\n",
       "<div class='q-grid-container'>\n",
       "<div id='0fc41ded-580b-45f8-a1c5-e0c4c78aa43e' class='q-grid'></div>\n",
       "</div>"
      ]
     },
     "output_type": "execute_result",
     "metadata": {}
    },
    {
     "metadata": {}
    }
   ],
   "source": [
    "qgrid.show_grid(tissues_raw[tissues_raw['tissue'] == 'liver'])"
   ]
  },
  {
   "cell_type": "code",
   "execution_count": 59,
   "metadata": {},
   "outputs": [],
   "source": [
    "c = db.samples.aggregate([\n",
    "                {'$match':{\n",
    "                'characteristics.tissue': {'$in': ['liver', 'Liver', 'LIVER']},\n",
    "                'organism': 'Homo sapiens'\n",
    "            }}, {'$group':{\n",
    "                '_id': '$platform',\n",
    "                'count': {'$sum': 1}\n",
    "            }}, {'$sort':{\n",
    "                'count': -1\n",
    "            }}])"
   ]
  },
  {
   "cell_type": "code",
   "execution_count": 60,
   "metadata": {},
   "outputs": [
    {
     "data": {
      "text/html": [
       "<script type=\"text/javascript\">\n",
       "if ($(\"#dg-css\").length == 0){\n",
       "    $(\"head\").append([\n",
       "        \"<link href='/nbextensions/qgridjs/lib/slick.grid.css' rel='stylesheet'>\",\n",
       "        \"<link href='/nbextensions/qgridjs/lib/slick-default-theme.css' rel='stylesheet'>\",\n",
       "        \"<link href='http://cdnjs.cloudflare.com/ajax/libs/jqueryui/1.10.4/css/jquery-ui.min.css' rel='stylesheet'>\",\n",
       "        \"<link id='dg-css' href='/nbextensions/qgridjs/qgrid.css' rel='stylesheet'>\"\n",
       "    ]);\n",
       "}\n",
       "</script>\n",
       "<div class='q-grid-container'>\n",
       "<div id='4c976bb7-fa7a-4e40-b533-8e3a6e9c7bcf' class='q-grid'></div>\n",
       "</div>"
      ]
     },
     "output_type": "execute_result",
     "metadata": {}
    },
    {
     "metadata": {}
    }
   ],
   "source": [
    "liver_platforms = pd.DataFrame(list(c))\n",
    "qgrid.show_grid(liver_platforms)"
   ]
  },
  {
   "cell_type": "code",
   "execution_count": 62,
   "metadata": {},
   "outputs": [
    {
     "data": {
      "text/plain": [
       "8373"
      ]
     },
     "execution_count": 62,
     "output_type": "execute_result",
     "metadata": {}
    }
   ],
   "source": [
    "db.samples.count({\n",
    "        'organism': 'Homo sapiens',\n",
    "        'characteristics.Age': {'$exists': 1},\n",
    "    })"
   ]
  }
 ],
 "metadata": {
  "kernelspec": {
   "display_name": "Python 3",
   "language": "python",
   "name": "python3"
  },
  "language_info": {
   "codemirror_mode": {
    "name": "ipython",
    "version": 3.0
   },
   "file_extension": ".py",
   "mimetype": "text/x-python",
   "name": "python",
   "nbconvert_exporter": "python",
   "pygments_lexer": "ipython3",
   "version": "3.4.3"
  }
 },
 "nbformat": 4,
 "nbformat_minor": 0
}