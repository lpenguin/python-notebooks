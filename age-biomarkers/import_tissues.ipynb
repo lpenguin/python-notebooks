{
 "cells": [
  {
   "cell_type": "code",
   "execution_count": 6,
   "metadata": {
    "collapsed": true
   },
   "outputs": [],
   "source": [
    "import sys\n",
    "sys.path.append('..')\n",
    "from misc.obo import read_obo\n",
    "import re"
   ]
  },
  {
   "cell_type": "code",
   "execution_count": 7,
   "metadata": {
    "collapsed": true
   },
   "outputs": [],
   "source": [
    "obo_file = '../data/age-biomarkers/brenda-tissue-ontology.obo'\n",
    "header, items = read_obo(obo_file)"
   ]
  },
  {
   "cell_type": "code",
   "execution_count": 8,
   "metadata": {
    "collapsed": false
   },
   "outputs": [],
   "source": [
    "import networkx as nx\n",
    "\n",
    "\n",
    "\n",
    "def get_parent(item):\n",
    "    if item.get('is_a'):\n",
    "        return item['is_a'][0].split(' ! ')[0]\n",
    "    elif item.get('relationship'):\n",
    "        return re.match(r'.*(BTO\\:\\d{7})', item['relationship'][0].split(' ! ')[0]).groups(1)[0]\n",
    "    else:\n",
    "        return None\n",
    "for item in items:\n",
    "    item['parent'] = get_parent(item)\n",
    "    \n",
    "graph = nx.DiGraph()\n",
    "\n",
    "graph.add_nodes_from((item['id'][0], item) for item in items)\n",
    "graph.add_edges_from((item['parent'], item['id'][0]) for item in items if item.get('parent'))\n",
    "# graph.nodes(data=True)[0]"
   ]
  },
  {
   "cell_type": "code",
   "execution_count": 9,
   "metadata": {
    "collapsed": false
   },
   "outputs": [],
   "source": [
    "import matplotlib.pyplot as plt\n",
    "%matplotlib inline"
   ]
  },
  {
   "cell_type": "code",
   "execution_count": 10,
   "metadata": {
    "collapsed": false
   },
   "outputs": [
    {
     "data": {
      "text/plain": [
       "{'def': ['\"The main part of an animal body especially as distinguished from limbs and head.\" [From_Merriam-Webster\\'s_Online_Dictionary_at_www.Merriam-Webster.com:http\\\\://www.m-w.com/cgi-bin/dictionary?book=Dictionary&va=body]'],\n",
       " 'id': ['BTO:0001489'],\n",
       " 'is_a': ['BTO:0000042 ! animal'],\n",
       " 'name': ['whole body'],\n",
       " 'namespace': ['BrendaTissueOBO'],\n",
       " 'parent': 'BTO:0000042',\n",
       " 'synonym': ['\"Koerper\" RELATED GE []']}"
      ]
     },
     "execution_count": 10,
     "metadata": {},
     "output_type": "execute_result"
    }
   ],
   "source": [
    "graph.node['BTO:0001489']"
   ]
  },
  {
   "cell_type": "code",
   "execution_count": 11,
   "metadata": {
    "collapsed": false
   },
   "outputs": [
    {
     "data": {
      "text/plain": [
       "4574"
      ]
     },
     "execution_count": 11,
     "metadata": {},
     "output_type": "execute_result"
    }
   ],
   "source": [
    "len(nx.algorithms.dag.descendants(graph, 'BTO:0001489'))"
   ]
  },
  {
   "cell_type": "code",
   "execution_count": 12,
   "metadata": {
    "collapsed": false
   },
   "outputs": [
    {
     "data": {
      "text/plain": [
       "[defaultdict(list,\n",
       "             {'def': ['\"A structured controlled vocabulary for the source of an enzyme. It comprises terms of tissues, cell lines, cell types and cell cultures from uni- and multicellular organisms.\" [curators:mgr]'],\n",
       "              'id': ['BTO:0000000'],\n",
       "              'name': ['tissues, cell types and enzyme sources'],\n",
       "              'namespace': ['BrendaTissueOBO'],\n",
       "              'parent': None}),\n",
       " defaultdict(list,\n",
       "             {'comment': ['Misspelled in PubMed 12761194. Right term is SW-480 cell.'],\n",
       "              'def': ['\"Colorectal adenocarcinoma cell line.\" [PMID:12761194]'],\n",
       "              'id': ['BTO:0002585'],\n",
       "              'is_obsolete': ['true'],\n",
       "              'name': ['WE-480 cell'],\n",
       "              'namespace': ['BrendaTissueOBO'],\n",
       "              'parent': None,\n",
       "              'synonym': ['\"WE 480 cell\" RELATED []',\n",
       "               '\"WE480 cell\" RELATED []']})]"
      ]
     },
     "execution_count": 12,
     "metadata": {},
     "output_type": "execute_result"
    }
   ],
   "source": [
    "import re\n",
    "re.match(r'BTO\\:(\\d{7})', 'BTO:0000000')\n",
    "\n",
    "[i for i in items if not i['parent'] or not re.match(r'BTO\\:\\d{7}', i['parent'])]"
   ]
  },
  {
   "cell_type": "code",
   "execution_count": 13,
   "metadata": {
    "collapsed": false
   },
   "outputs": [
    {
     "data": {
      "text/plain": [
       "defaultdict(int,\n",
       "            {'alt_id': 3,\n",
       "             'comment': 8,\n",
       "             'created_by': 1361,\n",
       "             'creation_date': 1362,\n",
       "             'def': 4704,\n",
       "             'id': 5660,\n",
       "             'is_a': 3832,\n",
       "             'is_obsolete': 1,\n",
       "             'name': 5660,\n",
       "             'namespace': 5659,\n",
       "             'parent': 5660,\n",
       "             'relationship': 2373,\n",
       "             'synonym': 2590})"
      ]
     },
     "execution_count": 13,
     "metadata": {},
     "output_type": "execute_result"
    }
   ],
   "source": [
    "from collections import defaultdict\n",
    "counts = defaultdict(int)\n",
    "\n",
    "for i in items:\n",
    "    for k in i.keys():\n",
    "        counts[k] += 1\n",
    "counts"
   ]
  },
  {
   "cell_type": "code",
   "execution_count": 14,
   "metadata": {
    "collapsed": false
   },
   "outputs": [
    {
     "data": {
      "text/plain": [
       "{'def': ['\"The main part of an animal body especially as distinguished from limbs and head.\" [From_Merriam-Webster\\'s_Online_Dictionary_at_www.Merriam-Webster.com:http\\\\://www.m-w.com/cgi-bin/dictionary?book=Dictionary&va=body]'],\n",
       " 'id': ['BTO:0001489'],\n",
       " 'is_a': ['BTO:0000042 ! animal'],\n",
       " 'name': ['whole body'],\n",
       " 'namespace': ['BrendaTissueOBO'],\n",
       " 'parent': 'BTO:0000042',\n",
       " 'synonym': ['\"Koerper\" RELATED GE []']}"
      ]
     },
     "execution_count": 14,
     "metadata": {},
     "output_type": "execute_result"
    }
   ],
   "source": [
    "graph.node['BTO:0001489']"
   ]
  },
  {
   "cell_type": "code",
   "execution_count": 15,
   "metadata": {
    "collapsed": false
   },
   "outputs": [
    {
     "name": "stdout",
     "output_type": "stream",
     "text": [
      "mantle muscle\n",
      "head muscle\n",
      "laryngeal muscle\n",
      "epitrochlearis muscle\n",
      "enteric muscle\n",
      "columnella muscle\n",
      "spinal muscle of head\n",
      "tracheal smooth muscle cell\n",
      "tongue muscle\n",
      "smooth muscle\n",
      "molluscan catch muscle\n",
      "iris sphincter muscle\n",
      "flight muscle\n",
      "claw muscle\n",
      "foot muscle\n",
      "radular muscle\n",
      "smooth muscle cell\n",
      "platysma muscle\n",
      "cardiac muscle cell line\n",
      "skeletal muscle cancer cell\n",
      "gluteal muscle\n",
      "pulmonary artery smooth muscle cell\n",
      "pulmonary artery smooth muscle cell line\n",
      "visceral muscle\n",
      "spinal muscle of thorax\n",
      "spinal muscle of neck\n",
      "coronary artery smooth muscle cell line\n",
      "aortic smooth muscle cell\n",
      "umbilical artery smooth muscle\n",
      "iris smooth muscle\n",
      "vascular smooth muscle cell\n",
      "ileum smooth muscle cell\n",
      "vaginal smooth muscle\n",
      "buccal muscle\n",
      "longitudinal smooth muscle\n",
      "arterial smooth muscle\n",
      "coronary artery smooth muscle cell\n",
      "sternocleidomastoid muscle\n",
      "pedal muscle\n",
      "skeletal muscle cell\n",
      "vascular smooth muscle\n",
      "aorta thoracica smooth muscle cell line\n",
      "pectoral muscle\n",
      "bronchial smooth muscle cell\n",
      "muscle fibre\n",
      "anterior adductor muscle\n",
      "skeletal muscle\n",
      "thorax muscle\n",
      "iris dilator muscle\n",
      "striated muscle cell\n",
      "muscle\n",
      "intestinal muscle\n",
      "twitch muscle\n",
      "fast twitch muscle fiber\n",
      "umbilical smooth muscle\n",
      "asynchronous muscle\n",
      "anococcygeus muscle\n",
      "intercostal muscle\n",
      "umbilical vein smooth muscle\n",
      "skeletal muscle fiber\n",
      "forelimb muscle\n",
      "iliopsoas muscle\n",
      "tail muscle\n",
      "pharyngeal muscle\n",
      "respiratory smooth muscle\n",
      "urinary bladder smooth muscle\n",
      "extraocular muscle\n",
      "colon muscle\n",
      "ciliary muscle\n",
      "tracheal smooth muscle\n",
      "vascular smooth muscle cell line\n",
      "slow twitch muscle fiber\n",
      "spinal muscle\n",
      "abdominal muscle\n",
      "fast muscle\n",
      "femoral muscle\n",
      "thigh muscle\n",
      "intermediate muscle fiber\n",
      "gastrointestinal smooth muscle\n",
      "prostate gland smooth muscle\n",
      "body wall muscle\n",
      "slow muscle\n",
      "ileum smooth muscle\n",
      "gizzard smooth muscle\n",
      "arrector pili muscle\n",
      "cardiac muscle\n",
      "circular smooth muscle\n",
      "cardiac muscle fiber\n",
      "hamstring muscle\n",
      "clitoral smooth muscle\n",
      "lantern muscle\n",
      "gracilis muscle\n",
      "aorta smooth muscle cell line\n",
      "corpus cavernosum smooth muscle\n",
      "aortic smooth muscle\n",
      "leg muscle\n",
      "skeletal muscle cell line\n",
      "telson muscle\n",
      "coronary artery smooth muscle\n",
      "bronchial smooth muscle\n",
      "fibrillar flight muscle\n",
      "intersegmental muscle\n",
      "stomach smooth muscle\n",
      "posterior adductor muscle\n",
      "muscle stem cell\n",
      "medial pterygoid muscle\n",
      "aorta thoracica smooth muscle\n"
     ]
    }
   ],
   "source": [
    "for id, i in graph.nodes(data=True):\n",
    "    if 'muscle' in i['name'][0] or i.get('def') and 'muscle' in i['def']:\n",
    "        print(i['name'][0])"
   ]
  },
  {
   "cell_type": "code",
   "execution_count": 96,
   "metadata": {
    "collapsed": false
   },
   "outputs": [
    {
     "name": "stdout",
     "output_type": "stream",
     "text": [
      "BTO:0000000 tissues, cell types and enzyme sources\n",
      "BTO:0001485 muscular system\n",
      "BTO:0000042 animal\n",
      "BTO:0001369 vertebrate muscular system\n",
      "BTO:0001489 whole body\n"
     ]
    },
    {
     "data": {
      "text/plain": [
       "{'BTO:0000000', 'BTO:0000042', 'BTO:0001369', 'BTO:0001485', 'BTO:0001489'}"
      ]
     },
     "execution_count": 96,
     "metadata": {},
     "output_type": "execute_result"
    }
   ],
   "source": [
    "from networkx.algorithms.dag import descendants, ancestors\n",
    "\n",
    "def print_names(graph, ids):\n",
    "    for id in ids:\n",
    "        print(id, graph.node[id]['name'][0])\n",
    "print_names(graph, ancestors(graph, 'BTO:0001103'))\n",
    "ancestors(graph, 'BTO:0001103')"
   ]
  },
  {
   "cell_type": "code",
   "execution_count": 92,
   "metadata": {
    "collapsed": false
   },
   "outputs": [
    {
     "data": {
      "text/plain": [
       "{'def': ['\"A usually voluntary muscle made up of elongated, multinucleated, transversely striated muscle fibers, having principally bony attachments.\" [The_American_Heritage_Dictionary_of_the_English_Language:Fourth_Edition._2000.]'],\n",
       " 'id': ['BTO:0001103'],\n",
       " 'is_a': [],\n",
       " 'name': ['skeletal muscle'],\n",
       " 'namespace': ['BrendaTissueOBO'],\n",
       " 'parent': 'BTO:0001369',\n",
       " 'relationship': ['part_of BTO:0001369 ! vertebrate muscular system',\n",
       "  'part_of BTO:0001486 ! skeletal system'],\n",
       " 'synonym': ['\"skeletal muscle system\" RELATED []',\n",
       "  '\"somatic muscle\" RELATED []',\n",
       "  '\"striated muscle\" RELATED []']}"
      ]
     },
     "execution_count": 92,
     "metadata": {},
     "output_type": "execute_result"
    }
   ],
   "source": [
    "graph.node['BTO:0001103']"
   ]
  }
 ],
 "metadata": {
  "kernelspec": {
   "display_name": "Python 3",
   "language": "python",
   "name": "python3"
  },
  "language_info": {
   "codemirror_mode": {
    "name": "ipython",
    "version": 3
   },
   "file_extension": ".py",
   "mimetype": "text/x-python",
   "name": "python",
   "nbconvert_exporter": "python",
   "pygments_lexer": "ipython3",
   "version": "3.4.3"
  }
 },
 "nbformat": 4,
 "nbformat_minor": 0
}
