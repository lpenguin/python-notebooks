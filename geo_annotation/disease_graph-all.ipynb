{
 "cells": [
  {
   "cell_type": "code",
   "execution_count": 1,
   "metadata": {
    "collapsed": true
   },
   "outputs": [],
   "source": [
    "import sys\n",
    "sys.path.append('..')"
   ]
  },
  {
   "cell_type": "code",
   "execution_count": 2,
   "metadata": {
    "collapsed": false
   },
   "outputs": [],
   "source": [
    "from importlib import reload\n",
    "from os.path import exists\n",
    "\n",
    "import networkx as nx\n",
    "import numpy as np\n",
    "import pandas as pd\n",
    "import lib.obo\n",
    "import lib.classification.elastic\n",
    "import lib.classification.validation\n",
    "import lib.utils\n",
    "import data\n",
    "import pymonad\n",
    "\n",
    "reload(lib.classification.validation)\n",
    "reload(lib.classification.elastic)\n",
    "reload(lib.obo)\n",
    "reload(lib.utils)\n",
    "reload(data)\n",
    "\n",
    "from lib.classification.elastic import annotate_index, collapse_matches, build_synonyms_graph\n",
    "from lib.utils import map_series, expand_dataframe, expand, flatten\n",
    "from lib.classification.validation import correct_ratio, incorrect_ratio, perfect_match\n",
    "from geo_annotation.import_ontology_es import import_ontology\n",
    "from elasticsearch import Elasticsearch\n",
    "from lib.obo import read_ontology, Ontology\n",
    "pd.set_option('display.width', 512)"
   ]
  },
  {
   "cell_type": "code",
   "execution_count": 3,
   "metadata": {
    "collapsed": true
   },
   "outputs": [],
   "source": [
    "import seaborn\n",
    "%matplotlib inline"
   ]
  },
  {
   "cell_type": "code",
   "execution_count": 4,
   "metadata": {
    "collapsed": false
   },
   "outputs": [
    {
     "name": "stdout",
     "output_type": "stream",
     "text": [
      "Read obo graph\n",
      "Name: \n",
      "Type: DiGraph\n",
      "Number of nodes: 6595\n",
      "Number of edges: 6594\n",
      "Average in degree:   0.9998\n",
      "Average out degree:   0.9998\n"
     ]
    }
   ],
   "source": [
    "es = Elasticsearch()\n",
    "ontology = read_ontology('../data/geo-annotation/doid-patched.obo',\n",
    "                         exclude_duplicates=True)"
   ]
  },
  {
   "cell_type": "code",
   "execution_count": 5,
   "metadata": {
    "collapsed": false
   },
   "outputs": [],
   "source": [
    "# Убираем синонимы состоящие только из коротких слов  (len <= 2 )\n",
    "# (вообще ошибка происходит изза стоп-слов в Elasticsearch, но так проще)\n",
    "\n",
    "def cell():\n",
    "    import re\n",
    "    def tokenize(s):\n",
    "        return re.split(r'[^\\w\\d]+', s)\n",
    "    \n",
    "    def all_short(synonym):\n",
    "        return all(len(t) <= 2 for t in tokenize(synonym))\n",
    "    \n",
    "    for item_id, item in ontology.meta.items():\n",
    "        item.synonyms = [s for s in item.synonyms if not all_short(s)]\n",
    "\n",
    "cell()"
   ]
  },
  {
   "cell_type": "code",
   "execution_count": 6,
   "metadata": {
    "collapsed": false
   },
   "outputs": [],
   "source": [
    "import_ontology(ontology, 'disease_ontology')\n",
    "syn_ontology = Ontology(build_synonyms_graph(ontology, es, 'disease_ontology'), list(ontology.items()))"
   ]
  },
  {
   "cell_type": "code",
   "execution_count": null,
   "metadata": {
    "collapsed": true
   },
   "outputs": [],
   "source": [
    "import pymongo\n",
    "db = pymongo.MongoClient().scraper_meta\n",
    "series_ids = [int(d['accession'][3:]) for d in db.series.find({'organism': 'Homo sapiens'}, {'_id': 0, 'accession': 1})]"
   ]
  },
  {
   "cell_type": "code",
   "execution_count": null,
   "metadata": {
    "collapsed": false
   },
   "outputs": [],
   "source": [
    "series_ids[:10]"
   ]
  },
  {
   "cell_type": "code",
   "execution_count": 7,
   "metadata": {
    "collapsed": true
   },
   "outputs": [],
   "source": [
    "annotation_result_file = '../data/geo-annotation/series.disease.res.homo.1.pickle'\n",
    "if not exists(annotation_result_file):\n",
    "    res = annotate_index(client=es,\n",
    "                         ontology=ontology,\n",
    "                         index='series',\n",
    "                         ids=series_ids\n",
    "                        )\n",
    "\n",
    "    res.to_pickle(annotation_result_file)\n",
    "\n",
    "else:\n",
    "    res = pd.read_pickle(annotation_result_file)"
   ]
  },
  {
   "cell_type": "code",
   "execution_count": 8,
   "metadata": {
    "collapsed": false
   },
   "outputs": [
    {
     "data": {
      "text/plain": [
       "12495"
      ]
     },
     "execution_count": 8,
     "metadata": {},
     "output_type": "execute_result"
    }
   ],
   "source": [
    "len(res)"
   ]
  },
  {
   "cell_type": "code",
   "execution_count": 9,
   "metadata": {
    "collapsed": false
   },
   "outputs": [],
   "source": [
    "def doid_id(item_id):\n",
    "    return \"DOID:{:07}\".format(item_id)\n",
    "\n",
    "\n",
    "def ontology_name(item_id):\n",
    "    if item_id not in ontology.meta:\n",
    "        return item_id\n",
    "    return ontology.meta[item_id].name\n",
    "\n",
    "\n",
    "def to_name(series_id):\n",
    "    return \"GSE{}\".format(series_id)\n",
    "\n",
    "def name(item_id):\n",
    "    return '{} ({})'.format(ontology_name(item_id), item_id)\n",
    "\n",
    "def names(df):\n",
    "    return df.applymap(lambda xs: [name(x) for x in xs])\n",
    "\n",
    "def sub_ontology(nodes, ontology):\n",
    "    subset = set(flatten([nx.shortest_path(ontology.graph, 'DOID:4', cls) for cls in nodes]))\n",
    "    for n in nodes:\n",
    "        subset.add(n)\n",
    "    return nx.subgraph(ontology.graph, subset)\n",
    "\n",
    "def matches_graph(matches, vd_classes=None, figsize=None, prog='neato'):\n",
    "    matches = [m for m in matches if m in ontology.graph.nodes()]\n",
    "    vd_classes = vd_classes or []\n",
    "    import matplotlib.pyplot as plt\n",
    "    figsize = figsize or (14, 10)\n",
    "    plt.figure(figsize=figsize) \n",
    "    import networkx as nx\n",
    "    \n",
    "    G = sub_ontology(matches + vd_classes, ontology)\n",
    "    pos=nx.pygraphviz_layout(G, prog=prog) \n",
    "    \n",
    "    labels = dict((k, v) for (k, v) in names_dict.items() if k in G.nodes())\n",
    "    nodes_other = [x for x in G.nodes() if x not in matches]\n",
    "    \n",
    "    nx.draw_networkx(G, labels=labels, \n",
    "            pos=pos, \n",
    "            node_size=400,\n",
    "            node_color='r',\n",
    "             alpha=0.5,\n",
    "            nodelist=matches)\n",
    "    \n",
    "    nx.draw_networkx(G, labels=labels, \n",
    "        pos=pos, \n",
    "        node_size=400,\n",
    "        node_color='w',\n",
    "         alpha=0.8,\n",
    "        nodelist=nodes_other)\n",
    "    \n",
    "    if vd_classes:\n",
    "        nx.draw_networkx(G, labels=labels, \n",
    "            pos=pos, \n",
    "            node_size=400,\n",
    "            node_color='g',\n",
    "            alpha=0.5,\n",
    "#             font_color='g',                     \n",
    "            nodelist=vd_classes)\n",
    "        \n",
    "    plt.show()\n",
    "\n",
    "    \n",
    "names_dict = dict((record.id, record.name) for record in ontology.meta.values())"
   ]
  },
  {
   "cell_type": "code",
   "execution_count": 10,
   "metadata": {
    "collapsed": false
   },
   "outputs": [],
   "source": [
    "cell_type_cancer = 'DOID:0050687'\n",
    "organ_system_cancer = 'DOID:0050686'\n",
    "cell_type_benign_neoplasm = 'DOID:0060084'\n",
    "organ_system_benign_neoplasm = 'DOID:0060085'\n",
    "\n",
    "@pymonad.curry\n",
    "def exclude_similar_branches(ontology, classes):\n",
    "    has_osc = any(ontology.has_path(organ_system_cancer, c) for c in classes)\n",
    "    if has_osc:\n",
    "        return [c for c in classes if not ontology.has_path(cell_type_cancer, c) \n",
    "#                                       and not ontology.has_path(cell_type_benign_neoplasm, c)\n",
    "#                                       and not ontology.has_path(organ_system_benign_neoplasm, c) \n",
    "               ]\n",
    "    else:\n",
    "        return classes"
   ]
  },
  {
   "cell_type": "code",
   "execution_count": 11,
   "metadata": {
    "collapsed": false
   },
   "outputs": [],
   "source": [
    "root_disease = 'DOID:4'\n",
    "\n",
    "@pymonad.curry\n",
    "def exclude_wide_terms(ontology, classes):\n",
    "    threshold = 4\n",
    "    \n",
    "    return [c for c in classes \n",
    "            if len(nx.shortest_path(ontology.graph, root_disease, c)) > threshold]"
   ]
  },
  {
   "cell_type": "code",
   "execution_count": 12,
   "metadata": {
    "collapsed": true
   },
   "outputs": [],
   "source": [
    "results = pd.DataFrame(dict(\n",
    "        odinary=res.classes,\n",
    "        collapsed=res.classes.map(exclude_wide_terms(ontology) *\n",
    "                                  collapse_matches(ontology.graph)),\n",
    "        collapsed_ex=res.classes.map(exclude_wide_terms(ontology) * \n",
    "                                     exclude_similar_branches(ontology) *\n",
    "                                     collapse_matches(ontology.graph)),\n",
    "#         collapsed_syn=res.classes.map(collapse_matches(syn_ontology.graph) *\n",
    "#                                      exclude_wide_terms(ontology) * \n",
    "#                                      exclude_similar_branches(ontology) *\n",
    "#                                      collapse_matches(ontology.graph)),\n",
    "#         larisa=larisa_vd.classes,\n",
    "    )\n",
    ").applymap(lambda x: [] if isinstance(x, float) else x)"
   ]
  },
  {
   "cell_type": "code",
   "execution_count": 13,
   "metadata": {
    "collapsed": false
   },
   "outputs": [
    {
     "data": {
      "text/plain": [
       "array([[<matplotlib.axes._subplots.AxesSubplot object at 0x116ebaa20>,\n",
       "        <matplotlib.axes._subplots.AxesSubplot object at 0x116afa550>,\n",
       "        <matplotlib.axes._subplots.AxesSubplot object at 0x117020be0>]], dtype=object)"
      ]
     },
     "execution_count": 13,
     "metadata": {},
     "output_type": "execute_result"
    },
    {
     "data": {
      "image/png": "[encoded data removed]",
      "text/plain": [
       "<matplotlib.figure.Figure at 0x116f75dd8>"
      ]
     },
     "metadata": {},
     "output_type": "display_data"
    }
   ],
   "source": [
    "(\n",
    "    results\n",
    "    .applymap(len).hist(bins=range(0, 9), \n",
    "                        sharey=True, \n",
    "                        layout=(1, 3),\n",
    "                        figsize=(14, 6))\n",
    " )"
   ]
  },
  {
   "cell_type": "code",
   "execution_count": 57,
   "metadata": {
    "collapsed": false
   },
   "outputs": [
    {
     "data": {
      "text/plain": [
       "24"
      ]
     },
     "execution_count": 57,
     "metadata": {},
     "output_type": "execute_result"
    }
   ],
   "source": [
    "root_node = 'DOID:4'\n",
    "root_node = 'DOID:162'\n",
    "def descendants_level(graph, node, level):\n",
    "    if level == 0:\n",
    "        return [node]\n",
    "    else:\n",
    "        successors = graph.successors(node)\n",
    "        res = []\n",
    "        for succ in successors:\n",
    "            res += descendants_level(graph, succ, level - 1)\n",
    "        return res    \n",
    "higer_nodes = [n for n in descendants_level(ontology.graph, root_node, 2)]\n",
    "len(higer_nodes)"
   ]
  },
  {
   "cell_type": "code",
   "execution_count": 58,
   "metadata": {
    "collapsed": false
   },
   "outputs": [
    {
     "data": {
      "text/html": [
       "<div>\n",
       "<table border=\"1\" class=\"dataframe\">\n",
       "  <thead>\n",
       "    <tr style=\"text-align: right;\">\n",
       "      <th></th>\n",
       "      <th>doid</th>\n",
       "      <th>count</th>\n",
       "      <th>name</th>\n",
       "    </tr>\n",
       "  </thead>\n",
       "  <tbody>\n",
       "    <tr>\n",
       "      <th>10</th>\n",
       "      <td>DOID:5093</td>\n",
       "      <td>1432</td>\n",
       "      <td>thoracic cancer (DOID:5093)</td>\n",
       "    </tr>\n",
       "    <tr>\n",
       "      <th>9</th>\n",
       "      <td>DOID:0060083</td>\n",
       "      <td>1245</td>\n",
       "      <td>immune system cancer (DOID:0060083)</td>\n",
       "    </tr>\n",
       "    <tr>\n",
       "      <th>5</th>\n",
       "      <td>DOID:3119</td>\n",
       "      <td>1093</td>\n",
       "      <td>gastrointestinal system cancer (DOID:3119)</td>\n",
       "    </tr>\n",
       "    <tr>\n",
       "      <th>16</th>\n",
       "      <td>DOID:193</td>\n",
       "      <td>942</td>\n",
       "      <td>reproductive organ cancer (DOID:193)</td>\n",
       "    </tr>\n",
       "    <tr>\n",
       "      <th>1</th>\n",
       "      <td>DOID:0050615</td>\n",
       "      <td>456</td>\n",
       "      <td>respiratory system cancer (DOID:0050615)</td>\n",
       "    </tr>\n",
       "    <tr>\n",
       "      <th>2</th>\n",
       "      <td>DOID:3093</td>\n",
       "      <td>281</td>\n",
       "      <td>nervous system cancer (DOID:3093)</td>\n",
       "    </tr>\n",
       "    <tr>\n",
       "      <th>15</th>\n",
       "      <td>DOID:0060100</td>\n",
       "      <td>270</td>\n",
       "      <td>musculoskeletal system cancer (DOID:0060100)</td>\n",
       "    </tr>\n",
       "    <tr>\n",
       "      <th>12</th>\n",
       "      <td>DOID:1909</td>\n",
       "      <td>257</td>\n",
       "      <td>melanoma (DOID:1909)</td>\n",
       "    </tr>\n",
       "    <tr>\n",
       "      <th>4</th>\n",
       "      <td>DOID:3070</td>\n",
       "      <td>235</td>\n",
       "      <td>malignant glioma (DOID:3070)</td>\n",
       "    </tr>\n",
       "    <tr>\n",
       "      <th>3</th>\n",
       "      <td>DOID:305</td>\n",
       "      <td>234</td>\n",
       "      <td>carcinoma (DOID:305)</td>\n",
       "    </tr>\n",
       "    <tr>\n",
       "      <th>0</th>\n",
       "      <td>DOID:3996</td>\n",
       "      <td>211</td>\n",
       "      <td>urinary system cancer (DOID:3996)</td>\n",
       "    </tr>\n",
       "    <tr>\n",
       "      <th>11</th>\n",
       "      <td>DOID:170</td>\n",
       "      <td>156</td>\n",
       "      <td>endocrine gland cancer (DOID:170)</td>\n",
       "    </tr>\n",
       "    <tr>\n",
       "      <th>14</th>\n",
       "      <td>DOID:11934</td>\n",
       "      <td>79</td>\n",
       "      <td>head and neck cancer (DOID:11934)</td>\n",
       "    </tr>\n",
       "    <tr>\n",
       "      <th>8</th>\n",
       "      <td>DOID:1115</td>\n",
       "      <td>58</td>\n",
       "      <td>sarcoma (DOID:1115)</td>\n",
       "    </tr>\n",
       "    <tr>\n",
       "      <th>18</th>\n",
       "      <td>DOID:0060122</td>\n",
       "      <td>42</td>\n",
       "      <td>integumentary system cancer (DOID:0060122)</td>\n",
       "    </tr>\n",
       "    <tr>\n",
       "      <th>19</th>\n",
       "      <td>DOID:2994</td>\n",
       "      <td>25</td>\n",
       "      <td>germ cell cancer (DOID:2994)</td>\n",
       "    </tr>\n",
       "    <tr>\n",
       "      <th>13</th>\n",
       "      <td>DOID:1790</td>\n",
       "      <td>7</td>\n",
       "      <td>malignant mesothelioma (DOID:1790)</td>\n",
       "    </tr>\n",
       "    <tr>\n",
       "      <th>17</th>\n",
       "      <td>DOID:3350</td>\n",
       "      <td>2</td>\n",
       "      <td>mesenchymal cell neoplasm (DOID:3350)</td>\n",
       "    </tr>\n",
       "    <tr>\n",
       "      <th>7</th>\n",
       "      <td>DOID:154</td>\n",
       "      <td>1</td>\n",
       "      <td>mixed cell type cancer (DOID:154)</td>\n",
       "    </tr>\n",
       "    <tr>\n",
       "      <th>6</th>\n",
       "      <td>DOID:1725</td>\n",
       "      <td>1</td>\n",
       "      <td>peritoneum cancer (DOID:1725)</td>\n",
       "    </tr>\n",
       "  </tbody>\n",
       "</table>\n",
       "</div>"
      ],
      "text/plain": [
       "            doid  count                                          name\n",
       "10     DOID:5093   1432                   thoracic cancer (DOID:5093)\n",
       "9   DOID:0060083   1245           immune system cancer (DOID:0060083)\n",
       "5      DOID:3119   1093    gastrointestinal system cancer (DOID:3119)\n",
       "16      DOID:193    942          reproductive organ cancer (DOID:193)\n",
       "1   DOID:0050615    456      respiratory system cancer (DOID:0050615)\n",
       "2      DOID:3093    281             nervous system cancer (DOID:3093)\n",
       "15  DOID:0060100    270  musculoskeletal system cancer (DOID:0060100)\n",
       "12     DOID:1909    257                          melanoma (DOID:1909)\n",
       "4      DOID:3070    235                  malignant glioma (DOID:3070)\n",
       "3       DOID:305    234                          carcinoma (DOID:305)\n",
       "0      DOID:3996    211             urinary system cancer (DOID:3996)\n",
       "11      DOID:170    156             endocrine gland cancer (DOID:170)\n",
       "14    DOID:11934     79             head and neck cancer (DOID:11934)\n",
       "8      DOID:1115     58                           sarcoma (DOID:1115)\n",
       "18  DOID:0060122     42    integumentary system cancer (DOID:0060122)\n",
       "19     DOID:2994     25                  germ cell cancer (DOID:2994)\n",
       "13     DOID:1790      7            malignant mesothelioma (DOID:1790)\n",
       "17     DOID:3350      2         mesenchymal cell neoplasm (DOID:3350)\n",
       "7       DOID:154      1             mixed cell type cancer (DOID:154)\n",
       "6      DOID:1725      1                 peritoneum cancer (DOID:1725)"
      ]
     },
     "execution_count": 58,
     "metadata": {},
     "output_type": "execute_result"
    }
   ],
   "source": [
    "def cell():\n",
    "    from collections import defaultdict\n",
    "    aggreg = defaultdict(int)\n",
    "    classes = results.collapsed_ex\n",
    "    classes = (\n",
    "        classes[classes.map(lambda x: len(x) == 1)].map(lambda x: x[0]).tolist()\n",
    "    )\n",
    "    \n",
    "    for c in classes:\n",
    "        for n in higer_nodes:\n",
    "            if n == c or ontology.has_path(n, c):\n",
    "                aggreg[n] += 1\n",
    "                \n",
    "    return pd.DataFrame.from_records(list(aggreg.items()), columns=['doid', 'count'])\n",
    "stats = cell().sort(columns=['count'], ascending=False).assign(name=lambda x: x['doid'].map(name))\n",
    "stats\n",
    "    "
   ]
  },
  {
   "cell_type": "code",
   "execution_count": 59,
   "metadata": {
    "collapsed": false
   },
   "outputs": [
    {
     "data": {
      "text/plain": [
       "7027"
      ]
     },
     "execution_count": 59,
     "metadata": {},
     "output_type": "execute_result"
    }
   ],
   "source": [
    "stats['count'].sum()"
   ]
  }
 ],
 "metadata": {
  "kernelspec": {
   "display_name": "Python 3",
   "language": "python",
   "name": "python3"
  },
  "language_info": {
   "codemirror_mode": {
    "name": "ipython",
    "version": 3
   },
   "file_extension": ".py",
   "mimetype": "text/x-python",
   "name": "python",
   "nbconvert_exporter": "python",
   "pygments_lexer": "ipython3",
   "version": "3.4.3"
  }
 },
 "nbformat": 4,
 "nbformat_minor": 0
}
