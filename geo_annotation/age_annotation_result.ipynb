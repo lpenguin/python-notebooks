{
 "cells": [
  {
   "cell_type": "code",
   "execution_count": 1,
   "metadata": {
    "collapsed": true
   },
   "outputs": [],
   "source": [
    "import pandas as pd"
   ]
  },
  {
   "cell_type": "code",
   "execution_count": 2,
   "metadata": {
    "collapsed": false
   },
   "outputs": [],
   "source": [
    "res = pd.read_csv('../data/geo-annotation/age_annotation_result.csv', sep='\\t')"
   ]
  },
  {
   "cell_type": "code",
   "execution_count": 3,
   "metadata": {
    "collapsed": true
   },
   "outputs": [],
   "source": [
    "import seaborn\n",
    "%matplotlib inline"
   ]
  },
  {
   "cell_type": "code",
   "execution_count": 4,
   "metadata": {
    "collapsed": false
   },
   "outputs": [
    {
     "data": {
      "text/html": [
       "<div>\n",
       "<table border=\"1\" class=\"dataframe\">\n",
       "  <thead>\n",
       "    <tr style=\"text-align: right;\">\n",
       "      <th></th>\n",
       "      <th>rid</th>\n",
       "      <th>title</th>\n",
       "      <th>accession</th>\n",
       "      <th>description</th>\n",
       "      <th>age_str</th>\n",
       "      <th>age</th>\n",
       "      <th>detected</th>\n",
       "      <th>detect_crit</th>\n",
       "      <th>is_form_body</th>\n",
       "      <th>is_form_cell_line</th>\n",
       "      <th>datetime</th>\n",
       "      <th>source_name</th>\n",
       "    </tr>\n",
       "  </thead>\n",
       "  <tbody>\n",
       "    <tr>\n",
       "      <th>11780</th>\n",
       "      <td>604503</td>\n",
       "      <td>hK4</td>\n",
       "      <td>GSM1198468</td>\n",
       "      <td>Sample 10|mRNA|Processed data file: 3_species_...</td>\n",
       "      <td>334</td>\n",
       "      <td>334</td>\n",
       "      <td>1</td>\n",
       "      <td>7</td>\n",
       "      <td>1</td>\n",
       "      <td>0</td>\n",
       "      <td>2015-10-01 02:51:09</td>\n",
       "      <td>kidney</td>\n",
       "    </tr>\n",
       "    <tr>\n",
       "      <th>11783</th>\n",
       "      <td>604506</td>\n",
       "      <td>hP1</td>\n",
       "      <td>GSM1198471</td>\n",
       "      <td>Sample 13|mRNA|Processed data file: 3_species_...</td>\n",
       "      <td>341</td>\n",
       "      <td>341</td>\n",
       "      <td>1</td>\n",
       "      <td>7</td>\n",
       "      <td>1</td>\n",
       "      <td>0</td>\n",
       "      <td>2015-10-01 02:51:09</td>\n",
       "      <td>PFC</td>\n",
       "    </tr>\n",
       "    <tr>\n",
       "      <th>11795</th>\n",
       "      <td>604518</td>\n",
       "      <td>hC1</td>\n",
       "      <td>GSM1198483</td>\n",
       "      <td>Sample 25|mRNA|Processed data file: 3_species_...</td>\n",
       "      <td>341</td>\n",
       "      <td>341</td>\n",
       "      <td>1</td>\n",
       "      <td>7</td>\n",
       "      <td>1</td>\n",
       "      <td>0</td>\n",
       "      <td>2015-10-01 02:51:10</td>\n",
       "      <td>CBC</td>\n",
       "    </tr>\n",
       "    <tr>\n",
       "      <th>12116</th>\n",
       "      <td>608072</td>\n",
       "      <td>SEQC NB patient 001</td>\n",
       "      <td>GSM1205238</td>\n",
       "      <td>NaN</td>\n",
       "      <td>987</td>\n",
       "      <td>987</td>\n",
       "      <td>1</td>\n",
       "      <td>7</td>\n",
       "      <td>1</td>\n",
       "      <td>0</td>\n",
       "      <td>2015-10-01 02:52:20</td>\n",
       "      <td>neuroblastoma</td>\n",
       "    </tr>\n",
       "  </tbody>\n",
       "</table>\n",
       "</div>"
      ],
      "text/plain": [
       "          rid                title   accession  \\\n",
       "11780  604503                  hK4  GSM1198468   \n",
       "11783  604506                  hP1  GSM1198471   \n",
       "11795  604518                  hC1  GSM1198483   \n",
       "12116  608072  SEQC NB patient 001  GSM1205238   \n",
       "\n",
       "                                             description age_str  age  \\\n",
       "11780  Sample 10|mRNA|Processed data file: 3_species_...     334  334   \n",
       "11783  Sample 13|mRNA|Processed data file: 3_species_...     341  341   \n",
       "11795  Sample 25|mRNA|Processed data file: 3_species_...     341  341   \n",
       "12116                                                NaN     987  987   \n",
       "\n",
       "       detected  detect_crit  is_form_body  is_form_cell_line  \\\n",
       "11780         1            7             1                  0   \n",
       "11783         1            7             1                  0   \n",
       "11795         1            7             1                  0   \n",
       "12116         1            7             1                  0   \n",
       "\n",
       "                  datetime    source_name  \n",
       "11780  2015-10-01 02:51:09         kidney  \n",
       "11783  2015-10-01 02:51:09            PFC  \n",
       "11795  2015-10-01 02:51:10            CBC  \n",
       "12116  2015-10-01 02:52:20  neuroblastoma  "
      ]
     },
     "execution_count": 4,
     "metadata": {},
     "output_type": "execute_result"
    }
   ],
   "source": [
    "res.query('age > 120')[:4]"
   ]
  },
  {
   "cell_type": "code",
   "execution_count": 5,
   "metadata": {
    "collapsed": false
   },
   "outputs": [],
   "source": [
    "def age_name(age_str):\n",
    "    tokens = age_str.split(' ')\n",
    "    if len(tokens) == 2:\n",
    "        return tokens[1]\n",
    "    else:\n",
    "        if len(tokens) == 1:\n",
    "            return '[=1]'\n",
    "        else: \n",
    "            return '[>2]'"
   ]
  },
  {
   "cell_type": "code",
   "execution_count": 6,
   "metadata": {
    "collapsed": false
   },
   "outputs": [
    {
     "name": "stdout",
     "output_type": "stream",
     "text": [
      "(89059, 12)\n"
     ]
    },
    {
     "data": {
      "text/plain": [
       "[=1]              81369\n",
       "years              3228\n",
       "[>2]               2226\n",
       "y                   502\n",
       "yrs                 461\n",
       "yr                  351\n",
       "days                277\n",
       "weeks               199\n",
       "months              151\n",
       "years;               70\n",
       "year                 47\n",
       "wk                   31\n",
       "yo                   24\n",
       "yrs.                 23\n",
       "y.o.                 22\n",
       "year-old             20\n",
       "y/o                  10\n",
       "month                 8\n",
       "day                   6\n",
       "11m                   5\n",
       "3m                    4\n",
       "5m                    3\n",
       "7m                    3\n",
       "9m                    3\n",
       "week                  3\n",
       "differentiated        2\n",
       "22d                   1\n",
       "(14d)                 1\n",
       "4m                    1\n",
       "2m                    1\n",
       "(6d)                  1\n",
       "m                     1\n",
       "mo                    1\n",
       "yesrs                 1\n",
       "8m                    1\n",
       "years%                1\n",
       "1m                    1\n",
       "dtype: int64"
      ]
     },
     "execution_count": 6,
     "metadata": {},
     "output_type": "execute_result"
    }
   ],
   "source": [
    "print(res.shape)\n",
    "res.age_str.map(age_name).value_counts()"
   ]
  },
  {
   "cell_type": "code",
   "execution_count": 7,
   "metadata": {
    "collapsed": false
   },
   "outputs": [],
   "source": [
    "?pd.cut"
   ]
  },
  {
   "cell_type": "code",
   "execution_count": 8,
   "metadata": {
    "collapsed": false
   },
   "outputs": [
    {
     "data": {
      "text/plain": [
       "1021"
      ]
     },
     "execution_count": 8,
     "metadata": {},
     "output_type": "execute_result"
    }
   ],
   "source": [
    "res.query('age < 0 or age > 100').shape[0]"
   ]
  },
  {
   "cell_type": "code",
   "execution_count": 9,
   "metadata": {
    "collapsed": false
   },
   "outputs": [
    {
     "data": {
      "text/plain": [
       "89059"
      ]
     },
     "execution_count": 9,
     "metadata": {},
     "output_type": "execute_result"
    }
   ],
   "source": [
    "res.shape[0]"
   ]
  },
  {
   "cell_type": "code",
   "execution_count": 10,
   "metadata": {
    "collapsed": false
   },
   "outputs": [
    {
     "data": {
      "text/plain": [
       "87888"
      ]
     },
     "execution_count": 10,
     "metadata": {},
     "output_type": "execute_result"
    }
   ],
   "source": [
    "res.query('0 < age < 100').shape[0]"
   ]
  },
  {
   "cell_type": "code",
   "execution_count": 11,
   "metadata": {
    "collapsed": false
   },
   "outputs": [
    {
     "data": {
      "text/html": [
       "<div>\n",
       "<table border=\"1\" class=\"dataframe\">\n",
       "  <thead>\n",
       "    <tr style=\"text-align: right;\">\n",
       "      <th></th>\n",
       "      <th>age</th>\n",
       "    </tr>\n",
       "    <tr>\n",
       "      <th>age</th>\n",
       "      <th></th>\n",
       "    </tr>\n",
       "  </thead>\n",
       "  <tbody>\n",
       "    <tr>\n",
       "      <th>(0, 10]</th>\n",
       "      <td>7030</td>\n",
       "    </tr>\n",
       "    <tr>\n",
       "      <th>(10, 20]</th>\n",
       "      <td>4856</td>\n",
       "    </tr>\n",
       "    <tr>\n",
       "      <th>(20, 30]</th>\n",
       "      <td>6211</td>\n",
       "    </tr>\n",
       "    <tr>\n",
       "      <th>(30, 40]</th>\n",
       "      <td>8932</td>\n",
       "    </tr>\n",
       "    <tr>\n",
       "      <th>(40, 50]</th>\n",
       "      <td>13886</td>\n",
       "    </tr>\n",
       "    <tr>\n",
       "      <th>(50, 60]</th>\n",
       "      <td>17719</td>\n",
       "    </tr>\n",
       "    <tr>\n",
       "      <th>(60, 70]</th>\n",
       "      <td>16334</td>\n",
       "    </tr>\n",
       "    <tr>\n",
       "      <th>(70, 80]</th>\n",
       "      <td>9316</td>\n",
       "    </tr>\n",
       "    <tr>\n",
       "      <th>(80, 90]</th>\n",
       "      <td>3089</td>\n",
       "    </tr>\n",
       "    <tr>\n",
       "      <th>(90, 100]</th>\n",
       "      <td>519</td>\n",
       "    </tr>\n",
       "  </tbody>\n",
       "</table>\n",
       "</div>"
      ],
      "text/plain": [
       "             age\n",
       "age             \n",
       "(0, 10]     7030\n",
       "(10, 20]    4856\n",
       "(20, 30]    6211\n",
       "(30, 40]    8932\n",
       "(40, 50]   13886\n",
       "(50, 60]   17719\n",
       "(60, 70]   16334\n",
       "(70, 80]    9316\n",
       "(80, 90]    3089\n",
       "(90, 100]    519"
      ]
     },
     "execution_count": 11,
     "metadata": {},
     "output_type": "execute_result"
    }
   ],
   "source": [
    "res.groupby(pd.cut(res.age, bins=[0, 10, 20, 30, 40, 50, 60, 70, 80, 90, 100])).age.count().to_frame()"
   ]
  },
  {
   "cell_type": "code",
   "execution_count": 12,
   "metadata": {
    "collapsed": true
   },
   "outputs": [],
   "source": [
    "import pymongo\n",
    "db = pymongo.MongoClient().scraper_meta"
   ]
  },
  {
   "cell_type": "code",
   "execution_count": 13,
   "metadata": {
    "collapsed": false
   },
   "outputs": [
    {
     "data": {
      "text/html": [
       "<div>\n",
       "<table border=\"1\" class=\"dataframe\">\n",
       "  <thead>\n",
       "    <tr style=\"text-align: right;\">\n",
       "      <th></th>\n",
       "      <th>accession</th>\n",
       "      <th>platform</th>\n",
       "    </tr>\n",
       "  </thead>\n",
       "  <tbody>\n",
       "    <tr>\n",
       "      <th>0</th>\n",
       "      <td>GSM15693</td>\n",
       "      <td>GPL96</td>\n",
       "    </tr>\n",
       "    <tr>\n",
       "      <th>1</th>\n",
       "      <td>GSM15694</td>\n",
       "      <td>GPL96</td>\n",
       "    </tr>\n",
       "    <tr>\n",
       "      <th>2</th>\n",
       "      <td>GSM15722</td>\n",
       "      <td>GPL96</td>\n",
       "    </tr>\n",
       "    <tr>\n",
       "      <th>3</th>\n",
       "      <td>GSM15723</td>\n",
       "      <td>GPL96</td>\n",
       "    </tr>\n",
       "    <tr>\n",
       "      <th>4</th>\n",
       "      <td>GSM15724</td>\n",
       "      <td>GPL96</td>\n",
       "    </tr>\n",
       "  </tbody>\n",
       "</table>\n",
       "</div>"
      ],
      "text/plain": [
       "  accession platform\n",
       "0  GSM15693    GPL96\n",
       "1  GSM15694    GPL96\n",
       "2  GSM15722    GPL96\n",
       "3  GSM15723    GPL96\n",
       "4  GSM15724    GPL96"
      ]
     },
     "execution_count": 13,
     "metadata": {},
     "output_type": "execute_result"
    }
   ],
   "source": [
    "platforms = (\n",
    "    pd.DataFrame(list(db.samples.find(\n",
    "            {'accession': {'$in': res.accession.tolist()}},\n",
    "            {'_id': 0, 'accession' :1, 'platform': 1})))\n",
    ")\n",
    "platforms.head()"
   ]
  },
  {
   "cell_type": "code",
   "execution_count": 14,
   "metadata": {
    "collapsed": false
   },
   "outputs": [
    {
     "data": {
      "text/html": [
       "<div>\n",
       "<table border=\"1\" class=\"dataframe\">\n",
       "  <thead>\n",
       "    <tr style=\"text-align: right;\">\n",
       "      <th></th>\n",
       "      <th>rid</th>\n",
       "      <th>title</th>\n",
       "      <th>accession</th>\n",
       "      <th>description</th>\n",
       "      <th>age_str</th>\n",
       "      <th>age</th>\n",
       "      <th>detected</th>\n",
       "      <th>detect_crit</th>\n",
       "      <th>is_form_body</th>\n",
       "      <th>is_form_cell_line</th>\n",
       "      <th>datetime</th>\n",
       "      <th>source_name</th>\n",
       "      <th>platform</th>\n",
       "    </tr>\n",
       "  </thead>\n",
       "  <tbody>\n",
       "    <tr>\n",
       "      <th>0</th>\n",
       "      <td>513737</td>\n",
       "      <td>Case 8 LNM1</td>\n",
       "      <td>GSM1000061</td>\n",
       "      <td>Twelve non-neoplastic kidney tissues mix was u...</td>\n",
       "      <td>62</td>\n",
       "      <td>62</td>\n",
       "      <td>1</td>\n",
       "      <td>7</td>\n",
       "      <td>1</td>\n",
       "      <td>0</td>\n",
       "      <td>2015-10-01 02:20:03</td>\n",
       "      <td>OSCC neck lymph-node metastasis</td>\n",
       "      <td>GPL5477</td>\n",
       "    </tr>\n",
       "    <tr>\n",
       "      <th>1</th>\n",
       "      <td>513737</td>\n",
       "      <td>Case 8 LNM1</td>\n",
       "      <td>GSM1000061</td>\n",
       "      <td>Twelve non-neoplastic kidney tissues mix was u...</td>\n",
       "      <td>62</td>\n",
       "      <td>62</td>\n",
       "      <td>1</td>\n",
       "      <td>7</td>\n",
       "      <td>1</td>\n",
       "      <td>0</td>\n",
       "      <td>2015-10-01 02:20:03</td>\n",
       "      <td>OSCC neck lymph-node metastasis</td>\n",
       "      <td>GPL5477</td>\n",
       "    </tr>\n",
       "    <tr>\n",
       "      <th>2</th>\n",
       "      <td>513738</td>\n",
       "      <td>Case 8 LNM2</td>\n",
       "      <td>GSM1000062</td>\n",
       "      <td>Twelve non-neoplastic kidney tissues mix was u...</td>\n",
       "      <td>62</td>\n",
       "      <td>62</td>\n",
       "      <td>1</td>\n",
       "      <td>7</td>\n",
       "      <td>1</td>\n",
       "      <td>0</td>\n",
       "      <td>2015-10-01 02:20:03</td>\n",
       "      <td>OSCC neck lymph-node metastasis</td>\n",
       "      <td>GPL5477</td>\n",
       "    </tr>\n",
       "    <tr>\n",
       "      <th>3</th>\n",
       "      <td>513738</td>\n",
       "      <td>Case 8 LNM2</td>\n",
       "      <td>GSM1000062</td>\n",
       "      <td>Twelve non-neoplastic kidney tissues mix was u...</td>\n",
       "      <td>62</td>\n",
       "      <td>62</td>\n",
       "      <td>1</td>\n",
       "      <td>7</td>\n",
       "      <td>1</td>\n",
       "      <td>0</td>\n",
       "      <td>2015-10-01 02:20:03</td>\n",
       "      <td>OSCC neck lymph-node metastasis</td>\n",
       "      <td>GPL5477</td>\n",
       "    </tr>\n",
       "    <tr>\n",
       "      <th>4</th>\n",
       "      <td>513739</td>\n",
       "      <td>cancer preop 1</td>\n",
       "      <td>GSM1000223</td>\n",
       "      <td>files with prefix 1_ are for Hy3 (Cy3) signals...</td>\n",
       "      <td>41 y</td>\n",
       "      <td>41</td>\n",
       "      <td>1</td>\n",
       "      <td>7</td>\n",
       "      <td>1</td>\n",
       "      <td>0</td>\n",
       "      <td>2015-10-01 02:20:03</td>\n",
       "      <td>blood, lung cancer, individual 1</td>\n",
       "      <td>GPL16016</td>\n",
       "    </tr>\n",
       "  </tbody>\n",
       "</table>\n",
       "</div>"
      ],
      "text/plain": [
       "      rid           title   accession  \\\n",
       "0  513737     Case 8 LNM1  GSM1000061   \n",
       "1  513737     Case 8 LNM1  GSM1000061   \n",
       "2  513738     Case 8 LNM2  GSM1000062   \n",
       "3  513738     Case 8 LNM2  GSM1000062   \n",
       "4  513739  cancer preop 1  GSM1000223   \n",
       "\n",
       "                                         description age_str  age  detected  \\\n",
       "0  Twelve non-neoplastic kidney tissues mix was u...      62   62         1   \n",
       "1  Twelve non-neoplastic kidney tissues mix was u...      62   62         1   \n",
       "2  Twelve non-neoplastic kidney tissues mix was u...      62   62         1   \n",
       "3  Twelve non-neoplastic kidney tissues mix was u...      62   62         1   \n",
       "4  files with prefix 1_ are for Hy3 (Cy3) signals...    41 y   41         1   \n",
       "\n",
       "   detect_crit  is_form_body  is_form_cell_line             datetime  \\\n",
       "0            7             1                  0  2015-10-01 02:20:03   \n",
       "1            7             1                  0  2015-10-01 02:20:03   \n",
       "2            7             1                  0  2015-10-01 02:20:03   \n",
       "3            7             1                  0  2015-10-01 02:20:03   \n",
       "4            7             1                  0  2015-10-01 02:20:03   \n",
       "\n",
       "                        source_name  platform  \n",
       "0   OSCC neck lymph-node metastasis   GPL5477  \n",
       "1   OSCC neck lymph-node metastasis   GPL5477  \n",
       "2   OSCC neck lymph-node metastasis   GPL5477  \n",
       "3   OSCC neck lymph-node metastasis   GPL5477  \n",
       "4  blood, lung cancer, individual 1  GPL16016  "
      ]
     },
     "execution_count": 14,
     "metadata": {},
     "output_type": "execute_result"
    }
   ],
   "source": [
    "res_platforms = pd.merge(res, platforms)\n",
    "res_platforms.head()"
   ]
  },
  {
   "cell_type": "code",
   "execution_count": 15,
   "metadata": {
    "collapsed": false
   },
   "outputs": [
    {
     "data": {
      "text/html": [
       "<div>\n",
       "<table border=\"1\" class=\"dataframe\">\n",
       "  <thead>\n",
       "    <tr style=\"text-align: right;\">\n",
       "      <th></th>\n",
       "      <th>count</th>\n",
       "    </tr>\n",
       "  </thead>\n",
       "  <tbody>\n",
       "    <tr>\n",
       "      <th>GPL570</th>\n",
       "      <td>12166</td>\n",
       "    </tr>\n",
       "    <tr>\n",
       "      <th>GPL13534</th>\n",
       "      <td>9494</td>\n",
       "    </tr>\n",
       "    <tr>\n",
       "      <th>GPL96</th>\n",
       "      <td>4785</td>\n",
       "    </tr>\n",
       "    <tr>\n",
       "      <th>GPL8490</th>\n",
       "      <td>4352</td>\n",
       "    </tr>\n",
       "    <tr>\n",
       "      <th>GPL10558</th>\n",
       "      <td>3834</td>\n",
       "    </tr>\n",
       "    <tr>\n",
       "      <th>GPL6244</th>\n",
       "      <td>3807</td>\n",
       "    </tr>\n",
       "    <tr>\n",
       "      <th>GPL6947</th>\n",
       "      <td>3346</td>\n",
       "    </tr>\n",
       "    <tr>\n",
       "      <th>GPL4133</th>\n",
       "      <td>2082</td>\n",
       "    </tr>\n",
       "    <tr>\n",
       "      <th>GPL6480</th>\n",
       "      <td>1719</td>\n",
       "    </tr>\n",
       "    <tr>\n",
       "      <th>GPL9183</th>\n",
       "      <td>1502</td>\n",
       "    </tr>\n",
       "    <tr>\n",
       "      <th>GPL8432</th>\n",
       "      <td>1363</td>\n",
       "    </tr>\n",
       "    <tr>\n",
       "      <th>GPL97</th>\n",
       "      <td>1357</td>\n",
       "    </tr>\n",
       "    <tr>\n",
       "      <th>GPL5175</th>\n",
       "      <td>1347</td>\n",
       "    </tr>\n",
       "    <tr>\n",
       "      <th>GPL11154</th>\n",
       "      <td>1345</td>\n",
       "    </tr>\n",
       "    <tr>\n",
       "      <th>GPL6104</th>\n",
       "      <td>1054</td>\n",
       "    </tr>\n",
       "    <tr>\n",
       "      <th>GPL8179</th>\n",
       "      <td>1033</td>\n",
       "    </tr>\n",
       "    <tr>\n",
       "      <th>GPL6801</th>\n",
       "      <td>992</td>\n",
       "    </tr>\n",
       "    <tr>\n",
       "      <th>GPL5188</th>\n",
       "      <td>975</td>\n",
       "    </tr>\n",
       "    <tr>\n",
       "      <th>GPL13270</th>\n",
       "      <td>966</td>\n",
       "    </tr>\n",
       "    <tr>\n",
       "      <th>GPL1291</th>\n",
       "      <td>936</td>\n",
       "    </tr>\n",
       "  </tbody>\n",
       "</table>\n",
       "</div>"
      ],
      "text/plain": [
       "          count\n",
       "GPL570    12166\n",
       "GPL13534   9494\n",
       "GPL96      4785\n",
       "GPL8490    4352\n",
       "GPL10558   3834\n",
       "GPL6244    3807\n",
       "GPL6947    3346\n",
       "GPL4133    2082\n",
       "GPL6480    1719\n",
       "GPL9183    1502\n",
       "GPL8432    1363\n",
       "GPL97      1357\n",
       "GPL5175    1347\n",
       "GPL11154   1345\n",
       "GPL6104    1054\n",
       "GPL8179    1033\n",
       "GPL6801     992\n",
       "GPL5188     975\n",
       "GPL13270    966\n",
       "GPL1291     936"
      ]
     },
     "execution_count": 15,
     "metadata": {},
     "output_type": "execute_result"
    }
   ],
   "source": [
    "(\n",
    "    res_platforms\n",
    "    .query(' 0< age<100')\n",
    "    .platform\n",
    "    .value_counts()\n",
    "    .to_frame()\n",
    "    .rename(columns={0: 'count'})\n",
    "    .query('count > 200')\n",
    "    [:20]\n",
    ")"
   ]
  },
  {
   "cell_type": "code",
   "execution_count": 17,
   "metadata": {
    "collapsed": true
   },
   "outputs": [],
   "source": [
    "_c = db.samples.find({'accession': {'$in': res.accession.tolist()}},\n",
    "                         {'_id': 0, 'accession' :1, 'series': 1})\n",
    "\n",
    "series_samples = pd.DataFrame.from_records([(x['accession'], series) for x in _c for series in x['series']],\n",
    "                                           columns=['accession', 'series'])\n"
   ]
  },
  {
   "cell_type": "code",
   "execution_count": 19,
   "metadata": {
    "collapsed": true
   },
   "outputs": [],
   "source": [
    "series_samples = series_samples.drop_duplicates()"
   ]
  },
  {
   "cell_type": "code",
   "execution_count": 21,
   "metadata": {
    "collapsed": false
   },
   "outputs": [],
   "source": [
    "res_series = pd.merge(res, series_samples)"
   ]
  },
  {
   "cell_type": "code",
   "execution_count": 22,
   "metadata": {
    "collapsed": true
   },
   "outputs": [],
   "source": [
    "res_series.to_pickle('../data/geo-annotation/series.age.res.1.py3.pickle')"
   ]
  }
 ],
 "metadata": {
  "kernelspec": {
   "display_name": "Python 3",
   "language": "python",
   "name": "python3"
  },
  "language_info": {
   "codemirror_mode": {
    "name": "ipython",
    "version": 3
   },
   "file_extension": ".py",
   "mimetype": "text/x-python",
   "name": "python",
   "nbconvert_exporter": "python",
   "pygments_lexer": "ipython3",
   "version": "3.4.3"
  }
 },
 "nbformat": 4,
 "nbformat_minor": 0
}
