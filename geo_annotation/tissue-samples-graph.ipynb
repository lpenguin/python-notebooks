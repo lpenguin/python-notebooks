{
 "cells": [
  {
   "cell_type": "code",
   "execution_count": 1,
   "metadata": {
    "collapsed": true
   },
   "outputs": [],
   "source": [
    "import sys\n",
    "sys.path.append('..')"
   ]
  },
  {
   "cell_type": "code",
   "execution_count": 2,
   "metadata": {
    "collapsed": false
   },
   "outputs": [],
   "source": [
    "from importlib import reload\n",
    "from os.path import exists\n",
    "\n",
    "import networkx as nx\n",
    "import numpy as np\n",
    "import pandas as pd\n",
    "import lib.obo\n",
    "import lib.classification.elastic\n",
    "import lib.classification.validation\n",
    "import lib.utils\n",
    "import data\n",
    "import pymonad\n",
    "\n",
    "reload(lib.classification.validation)\n",
    "reload(lib.classification.elastic)\n",
    "reload(lib.obo)\n",
    "reload(lib.utils)\n",
    "reload(data)\n",
    "\n",
    "from lib.classification.elastic import annotate_index, collapse_matches, build_synonyms_graph, search_item\n",
    "from lib.utils import map_series, expand_dataframe, expand, flatten\n",
    "from lib.classification.validation import correct_ratio, incorrect_ratio, perfect_match\n",
    "from geo_annotation.import_ontology_es import import_ontology\n",
    "from elasticsearch import Elasticsearch\n",
    "from lib.obo import read_ontology, Ontology\n",
    "pd.set_option('display.width', 512)"
   ]
  },
  {
   "cell_type": "code",
   "execution_count": 3,
   "metadata": {
    "collapsed": true
   },
   "outputs": [],
   "source": [
    "import seaborn\n",
    "%matplotlib inline"
   ]
  },
  {
   "cell_type": "code",
   "execution_count": 108,
   "metadata": {
    "collapsed": true
   },
   "outputs": [],
   "source": [
    "validation_set = pd.read_pickle(\"../data/geo-annotation/val-larisa-tissues.py3.pickle\")"
   ]
  },
  {
   "cell_type": "code",
   "execution_count": 109,
   "metadata": {
    "collapsed": false
   },
   "outputs": [],
   "source": [
    "validation_set.index = validation_set.index.map(lambda i: int(i[3:]))"
   ]
  },
  {
   "cell_type": "code",
   "execution_count": 110,
   "metadata": {
    "collapsed": false
   },
   "outputs": [
    {
     "data": {
      "text/html": [
       "<div>\n",
       "<table border=\"1\" class=\"dataframe\">\n",
       "  <thead>\n",
       "    <tr style=\"text-align: right;\">\n",
       "      <th></th>\n",
       "      <th>classes</th>\n",
       "    </tr>\n",
       "  </thead>\n",
       "  <tbody>\n",
       "  </tbody>\n",
       "</table>\n",
       "</div>"
      ],
      "text/plain": [
       "Empty DataFrame\n",
       "Columns: [classes]\n",
       "Index: []"
      ]
     },
     "execution_count": 110,
     "metadata": {},
     "output_type": "execute_result"
    }
   ],
   "source": [
    "validation_set[validation_set.classes.map(lambda c: len(c) == 0)]"
   ]
  },
  {
   "cell_type": "code",
   "execution_count": 93,
   "metadata": {
    "collapsed": false
   },
   "outputs": [
    {
     "data": {
      "text/html": [
       "<div>\n",
       "<table border=\"1\" class=\"dataframe\">\n",
       "  <thead>\n",
       "    <tr style=\"text-align: right;\">\n",
       "      <th></th>\n",
       "      <th>classes</th>\n",
       "    </tr>\n",
       "  </thead>\n",
       "  <tbody>\n",
       "    <tr>\n",
       "      <th>10245</th>\n",
       "      <td>[BTO:0000763]</td>\n",
       "    </tr>\n",
       "    <tr>\n",
       "      <th>10334</th>\n",
       "      <td>[BTO:0003364]</td>\n",
       "    </tr>\n",
       "    <tr>\n",
       "      <th>10445</th>\n",
       "      <td>[BTO:0000763]</td>\n",
       "    </tr>\n",
       "    <tr>\n",
       "      <th>10714</th>\n",
       "      <td>[BTO:0000271]</td>\n",
       "    </tr>\n",
       "    <tr>\n",
       "      <th>10810</th>\n",
       "      <td>[BTO:0000149]</td>\n",
       "    </tr>\n",
       "    <tr>\n",
       "      <th>10927</th>\n",
       "      <td>[BTO:0000045]</td>\n",
       "    </tr>\n",
       "    <tr>\n",
       "      <th>10961</th>\n",
       "      <td>[BTO:0000759]</td>\n",
       "    </tr>\n",
       "    <tr>\n",
       "      <th>10971</th>\n",
       "      <td>[BTO:0002402]</td>\n",
       "    </tr>\n",
       "    <tr>\n",
       "      <th>11001</th>\n",
       "      <td>[BTO:0000149]</td>\n",
       "    </tr>\n",
       "    <tr>\n",
       "      <th>11151</th>\n",
       "      <td>[BTO:0000343]</td>\n",
       "    </tr>\n",
       "  </tbody>\n",
       "</table>\n",
       "</div>"
      ],
      "text/plain": [
       "             classes\n",
       "10245  [BTO:0000763]\n",
       "10334  [BTO:0003364]\n",
       "10445  [BTO:0000763]\n",
       "10714  [BTO:0000271]\n",
       "10810  [BTO:0000149]\n",
       "10927  [BTO:0000045]\n",
       "10961  [BTO:0000759]\n",
       "10971  [BTO:0002402]\n",
       "11001  [BTO:0000149]\n",
       "11151  [BTO:0000343]"
      ]
     },
     "execution_count": 93,
     "metadata": {},
     "output_type": "execute_result"
    }
   ],
   "source": [
    "validation_set[:10]"
   ]
  },
  {
   "cell_type": "code",
   "execution_count": null,
   "metadata": {
    "collapsed": true
   },
   "outputs": [],
   "source": [
    "# Вытаскиваем все семплы которые есть в валидационном датасете\n",
    "import pymongo\n",
    "db = pymongo.MongoClient().scraper_meta"
   ]
  },
  {
   "cell_type": "code",
   "execution_count": 21,
   "metadata": {
    "collapsed": false
   },
   "outputs": [],
   "source": [
    "_t =  ['GSE{}'.format(v) for v in validation_set.index]\n",
    "c = db.samples.find({\n",
    "        'series': {'$in': _t}\n",
    "    })\n",
    "sample2series = list(c)"
   ]
  },
  {
   "cell_type": "code",
   "execution_count": 23,
   "metadata": {
    "collapsed": false
   },
   "outputs": [],
   "source": [
    "sample2series = dict([(c['accession'], c['series']) for c in sample2series])"
   ]
  },
  {
   "cell_type": "code",
   "execution_count": null,
   "metadata": {
    "collapsed": true
   },
   "outputs": [],
   "source": [
    "sample2series = pd.DataFrame.from_records(list(sample2series.items()), columns=['sample', 'series'])"
   ]
  },
  {
   "cell_type": "code",
   "execution_count": 28,
   "metadata": {
    "collapsed": false
   },
   "outputs": [
    {
     "data": {
      "text/html": [
       "<div>\n",
       "<table border=\"1\" class=\"dataframe\">\n",
       "  <thead>\n",
       "    <tr style=\"text-align: right;\">\n",
       "      <th></th>\n",
       "      <th>sample</th>\n",
       "      <th>series</th>\n",
       "    </tr>\n",
       "  </thead>\n",
       "  <tbody>\n",
       "    <tr>\n",
       "      <th>0</th>\n",
       "      <td>GSM1031004</td>\n",
       "      <td>[GSE42038, GSE42040]</td>\n",
       "    </tr>\n",
       "    <tr>\n",
       "      <th>1</th>\n",
       "      <td>GSM337226</td>\n",
       "      <td>[GSE13355]</td>\n",
       "    </tr>\n",
       "    <tr>\n",
       "      <th>2</th>\n",
       "      <td>GSM915156</td>\n",
       "      <td>[GSE37265]</td>\n",
       "    </tr>\n",
       "    <tr>\n",
       "      <th>3</th>\n",
       "      <td>GSM1233014</td>\n",
       "      <td>[GSE50948]</td>\n",
       "    </tr>\n",
       "    <tr>\n",
       "      <th>4</th>\n",
       "      <td>GSM523325</td>\n",
       "      <td>[GSE20916]</td>\n",
       "    </tr>\n",
       "  </tbody>\n",
       "</table>\n",
       "</div>"
      ],
      "text/plain": [
       "       sample                series\n",
       "0  GSM1031004  [GSE42038, GSE42040]\n",
       "1   GSM337226            [GSE13355]\n",
       "2   GSM915156            [GSE37265]\n",
       "3  GSM1233014            [GSE50948]\n",
       "4   GSM523325            [GSE20916]"
      ]
     },
     "execution_count": 28,
     "metadata": {},
     "output_type": "execute_result"
    }
   ],
   "source": [
    "sample2series.head()"
   ]
  },
  {
   "cell_type": "code",
   "execution_count": 46,
   "metadata": {
    "collapsed": true
   },
   "outputs": [],
   "source": [
    "sample2series = sample2series.set_index('sample')"
   ]
  },
  {
   "cell_type": "code",
   "execution_count": 39,
   "metadata": {
    "collapsed": false
   },
   "outputs": [],
   "source": [
    "validation_set_ids = [int(x[3:]) for x in sample2series['sample'].tolist()]"
   ]
  },
  {
   "cell_type": "code",
   "execution_count": 32,
   "metadata": {
    "collapsed": false
   },
   "outputs": [
    {
     "data": {
      "text/plain": [
       "19849"
      ]
     },
     "execution_count": 32,
     "metadata": {},
     "output_type": "execute_result"
    }
   ],
   "source": [
    "len(validation_set_ids)"
   ]
  },
  {
   "cell_type": "code",
   "execution_count": 34,
   "metadata": {
    "collapsed": false
   },
   "outputs": [
    {
     "name": "stdout",
     "output_type": "stream",
     "text": [
      "Read obo graph\n",
      "Name: \n",
      "Type: DiGraph\n",
      "Number of nodes: 5659\n",
      "Number of edges: 6430\n",
      "Average in degree:   1.1362\n",
      "Average out degree:   1.1362\n"
     ]
    }
   ],
   "source": [
    "es = Elasticsearch()\n",
    "ontology = read_ontology('../data/geo-annotation/brenda-tissue-ontology.obo',\n",
    "                         exclude_duplicates=True,\n",
    "                         subgraph='BTO:0001489')"
   ]
  },
  {
   "cell_type": "code",
   "execution_count": 35,
   "metadata": {
    "collapsed": false
   },
   "outputs": [],
   "source": [
    "# Убираем синонимы состоящие только из коротких слов  (len <= 2 )\n",
    "# (вообще ошибка происходит изза стоп-слов в Elasticsearch, но так проще)\n",
    "\n",
    "def cell():\n",
    "    import re\n",
    "    def tokenize(s):\n",
    "        return re.split(r'[^\\w\\d]+', s)\n",
    "    \n",
    "    def all_short(synonym):\n",
    "        return all(len(t) <= 2 for t in tokenize(synonym))\n",
    "    \n",
    "    for item_id, item in ontology.meta.items():\n",
    "        item.synonyms = [s for s in item.synonyms if not all_short(s)]\n",
    "\n",
    "cell()"
   ]
  },
  {
   "cell_type": "code",
   "execution_count": 36,
   "metadata": {
    "collapsed": false
   },
   "outputs": [],
   "source": [
    "import_ontology(ontology, 'tissue_ontology')\n",
    "syn_ontology = Ontology(build_synonyms_graph(ontology, es, 'tissue_ontology'), list(ontology.items()))"
   ]
  },
  {
   "cell_type": "code",
   "execution_count": null,
   "metadata": {
    "collapsed": false
   },
   "outputs": [],
   "source": [
    "# search_item(client=es,\n",
    "#             item=list(ontology.items())[0], \n",
    "#             index='samples', \n",
    "#             debug=True, \n",
    "#             fields=['description', 'title', 'characteristics_raw'],\n",
    "#             ids=validation_set_ids[:10],)"
   ]
  },
  {
   "cell_type": "code",
   "execution_count": 41,
   "metadata": {
    "collapsed": false
   },
   "outputs": [],
   "source": [
    "annotation_result_file = '../data/geo-annotation/samples.tissue.res3.pickle'\n",
    "if not exists(annotation_result_file):\n",
    "    res = annotate_index(client=es,\n",
    "                         ontology=ontology,\n",
    "                         index='samples',\n",
    "                         ids=validation_set_ids,\n",
    "                         fields=['description', 'title', 'characteristics_raw']\n",
    "                        )\n",
    "\n",
    "    res.to_pickle(annotation_result_file)\n",
    "\n",
    "else:\n",
    "    res = pd.read_pickle(annotation_result_file)"
   ]
  },
  {
   "cell_type": "code",
   "execution_count": 42,
   "metadata": {
    "collapsed": false
   },
   "outputs": [
    {
     "data": {
      "text/plain": [
       "(14578, 19849)"
      ]
     },
     "execution_count": 42,
     "metadata": {},
     "output_type": "execute_result"
    }
   ],
   "source": [
    "len(res), len(validation_set_ids)"
   ]
  },
  {
   "cell_type": "code",
   "execution_count": 111,
   "metadata": {
    "collapsed": false,
    "scrolled": true
   },
   "outputs": [
    {
     "data": {
      "text/html": [
       "<div>\n",
       "<table border=\"1\" class=\"dataframe\">\n",
       "  <thead>\n",
       "    <tr style=\"text-align: right;\">\n",
       "      <th></th>\n",
       "      <th>classes</th>\n",
       "    </tr>\n",
       "    <tr>\n",
       "      <th>series</th>\n",
       "      <th></th>\n",
       "    </tr>\n",
       "  </thead>\n",
       "  <tbody>\n",
       "    <tr>\n",
       "      <th>3467</th>\n",
       "      <td>[BTO:0001379]</td>\n",
       "    </tr>\n",
       "    <tr>\n",
       "      <th>3744</th>\n",
       "      <td>[BTO:0000149]</td>\n",
       "    </tr>\n",
       "    <tr>\n",
       "      <th>4183</th>\n",
       "      <td>[BTO:0000269, BTO:0000648]</td>\n",
       "    </tr>\n",
       "    <tr>\n",
       "      <th>4290</th>\n",
       "      <td>[BTO:0000142]</td>\n",
       "    </tr>\n",
       "    <tr>\n",
       "      <th>4757</th>\n",
       "      <td>[BTO:0004345, BTO:0000142]</td>\n",
       "    </tr>\n",
       "    <tr>\n",
       "      <th>5675</th>\n",
       "      <td>[BTO:0000142]</td>\n",
       "    </tr>\n",
       "    <tr>\n",
       "      <th>6004</th>\n",
       "      <td>[BTO:0001379]</td>\n",
       "    </tr>\n",
       "    <tr>\n",
       "      <th>6764</th>\n",
       "      <td>[BTO:0000759]</td>\n",
       "    </tr>\n",
       "    <tr>\n",
       "      <th>7116</th>\n",
       "      <td>[BTO:0000553, BTO:0001025, BTO:0000878, BTO:00...</td>\n",
       "    </tr>\n",
       "    <tr>\n",
       "      <th>7305</th>\n",
       "      <td>[BTO:0001422, BTO:0000975]</td>\n",
       "    </tr>\n",
       "    <tr>\n",
       "      <th>7451</th>\n",
       "      <td>[BTO:0001202]</td>\n",
       "    </tr>\n",
       "    <tr>\n",
       "      <th>7486</th>\n",
       "      <td>[BTO:0000775, BTO:0000089]</td>\n",
       "    </tr>\n",
       "    <tr>\n",
       "      <th>7553</th>\n",
       "      <td>[BTO:0000939, BTO:0000847, BTO:0001253]</td>\n",
       "    </tr>\n",
       "    <tr>\n",
       "      <th>7753</th>\n",
       "      <td>[BTO:0001025]</td>\n",
       "    </tr>\n",
       "    <tr>\n",
       "      <th>8052</th>\n",
       "      <td>[BTO:0000773]</td>\n",
       "    </tr>\n",
       "    <tr>\n",
       "      <th>8514</th>\n",
       "      <td>[BTO:0000047, BTO:0000522]</td>\n",
       "    </tr>\n",
       "    <tr>\n",
       "      <th>8671</th>\n",
       "      <td>[BTO:0000886, BTO:0000270, BTO:0000645, BTO:00...</td>\n",
       "    </tr>\n",
       "    <tr>\n",
       "      <th>8762</th>\n",
       "      <td>[BTO:0000775, BTO:0000089]</td>\n",
       "    </tr>\n",
       "    <tr>\n",
       "      <th>9171</th>\n",
       "      <td>[BTO:0001530, BTO:0000527]</td>\n",
       "    </tr>\n",
       "    <tr>\n",
       "      <th>9452</th>\n",
       "      <td>[BTO:0000269, BTO:0000641]</td>\n",
       "    </tr>\n",
       "    <tr>\n",
       "      <th>9844</th>\n",
       "      <td>[BTO:0001385]</td>\n",
       "    </tr>\n",
       "    <tr>\n",
       "      <th>10245</th>\n",
       "      <td>[BTO:0000763]</td>\n",
       "    </tr>\n",
       "    <tr>\n",
       "      <th>10334</th>\n",
       "      <td>[BTO:0000397, BTO:0001090, BTO:0000140, BTO:00...</td>\n",
       "    </tr>\n",
       "    <tr>\n",
       "      <th>10445</th>\n",
       "      <td>[BTO:0000763]</td>\n",
       "    </tr>\n",
       "    <tr>\n",
       "      <th>10810</th>\n",
       "      <td>[BTO:0000149]</td>\n",
       "    </tr>\n",
       "    <tr>\n",
       "      <th>10927</th>\n",
       "      <td>[BTO:0000045, BTO:0000140, BTO:0001239, BTO:00...</td>\n",
       "    </tr>\n",
       "    <tr>\n",
       "      <th>10961</th>\n",
       "      <td>[BTO:0000759]</td>\n",
       "    </tr>\n",
       "    <tr>\n",
       "      <th>10971</th>\n",
       "      <td>[BTO:0000980, BTO:0000975]</td>\n",
       "    </tr>\n",
       "    <tr>\n",
       "      <th>11001</th>\n",
       "      <td>[BTO:0000149]</td>\n",
       "    </tr>\n",
       "    <tr>\n",
       "      <th>11151</th>\n",
       "      <td>[BTO:0000671, BTO:0000761]</td>\n",
       "    </tr>\n",
       "    <tr>\n",
       "      <th>...</th>\n",
       "      <td>...</td>\n",
       "    </tr>\n",
       "    <tr>\n",
       "      <th>50790</th>\n",
       "      <td>[BTO:0001253]</td>\n",
       "    </tr>\n",
       "    <tr>\n",
       "      <th>50948</th>\n",
       "      <td>[BTO:0001435]</td>\n",
       "    </tr>\n",
       "    <tr>\n",
       "      <th>51024</th>\n",
       "      <td>[BTO:0000763, BTO:0001539]</td>\n",
       "    </tr>\n",
       "    <tr>\n",
       "      <th>51450</th>\n",
       "      <td>[BTO:0000149]</td>\n",
       "    </tr>\n",
       "    <tr>\n",
       "      <th>51725</th>\n",
       "      <td>[BTO:0000886]</td>\n",
       "    </tr>\n",
       "    <tr>\n",
       "      <th>52322</th>\n",
       "      <td>[BTO:0000149]</td>\n",
       "    </tr>\n",
       "    <tr>\n",
       "      <th>52478</th>\n",
       "      <td>[BTO:0000829, BTO:0000141, BTO:0004850, BTO:00...</td>\n",
       "    </tr>\n",
       "    <tr>\n",
       "      <th>53552</th>\n",
       "      <td>[BTO:0001253]</td>\n",
       "    </tr>\n",
       "    <tr>\n",
       "      <th>53733</th>\n",
       "      <td>[BTO:0000142]</td>\n",
       "    </tr>\n",
       "    <tr>\n",
       "      <th>53757</th>\n",
       "      <td>[BTO:0000671]</td>\n",
       "    </tr>\n",
       "    <tr>\n",
       "      <th>53795</th>\n",
       "      <td>[BTO:0001253]</td>\n",
       "    </tr>\n",
       "    <tr>\n",
       "      <th>54002</th>\n",
       "      <td>[BTO:0000817, BTO:0000522]</td>\n",
       "    </tr>\n",
       "    <tr>\n",
       "      <th>54043</th>\n",
       "      <td>[BTO:0001732]</td>\n",
       "    </tr>\n",
       "    <tr>\n",
       "      <th>54522</th>\n",
       "      <td>[BTO:0000553, BTO:0001025, BTO:0000878, BTO:00...</td>\n",
       "    </tr>\n",
       "    <tr>\n",
       "      <th>55092</th>\n",
       "      <td>[BTO:0000575, BTO:0000759]</td>\n",
       "    </tr>\n",
       "    <tr>\n",
       "      <th>55201</th>\n",
       "      <td>[BTO:0000089]</td>\n",
       "    </tr>\n",
       "    <tr>\n",
       "      <th>56449</th>\n",
       "      <td>[BTO:0000829, BTO:0001133, BTO:0000141, BTO:00...</td>\n",
       "    </tr>\n",
       "    <tr>\n",
       "      <th>58208</th>\n",
       "      <td>[BTO:0001025, BTO:0000878, BTO:0000089, BTO:00...</td>\n",
       "    </tr>\n",
       "    <tr>\n",
       "      <th>58573</th>\n",
       "      <td>[BTO:0001253]</td>\n",
       "    </tr>\n",
       "    <tr>\n",
       "      <th>58792</th>\n",
       "      <td>[BTO:0000131, BTO:0000149]</td>\n",
       "    </tr>\n",
       "    <tr>\n",
       "      <th>59294</th>\n",
       "      <td>[BTO:0001253]</td>\n",
       "    </tr>\n",
       "    <tr>\n",
       "      <th>60697</th>\n",
       "      <td>[BTO:0000269]</td>\n",
       "    </tr>\n",
       "    <tr>\n",
       "      <th>61635</th>\n",
       "      <td>[BTO:0000089]</td>\n",
       "    </tr>\n",
       "    <tr>\n",
       "      <th>63074</th>\n",
       "      <td>[BTO:0000763]</td>\n",
       "    </tr>\n",
       "    <tr>\n",
       "      <th>64951</th>\n",
       "      <td>[BTO:0001202]</td>\n",
       "    </tr>\n",
       "    <tr>\n",
       "      <th>65144</th>\n",
       "      <td>[BTO:0001379]</td>\n",
       "    </tr>\n",
       "    <tr>\n",
       "      <th>65194</th>\n",
       "      <td>[BTO:0000149]</td>\n",
       "    </tr>\n",
       "    <tr>\n",
       "      <th>66354</th>\n",
       "      <td>[BTO:0001355, BTO:0000233, BTO:0000138, BTO:00...</td>\n",
       "    </tr>\n",
       "    <tr>\n",
       "      <th>68015</th>\n",
       "      <td>[BTO:0001355, BTO:0001829, BTO:0000925, BTO:00...</td>\n",
       "    </tr>\n",
       "    <tr>\n",
       "      <th>68833</th>\n",
       "      <td>[BTO:0000829, BTO:0000141, BTO:0000140, BTO:00...</td>\n",
       "    </tr>\n",
       "  </tbody>\n",
       "</table>\n",
       "<p>240 rows × 1 columns</p>\n",
       "</div>"
      ],
      "text/plain": [
       "                                                  classes\n",
       "series                                                   \n",
       "3467                                        [BTO:0001379]\n",
       "3744                                        [BTO:0000149]\n",
       "4183                           [BTO:0000269, BTO:0000648]\n",
       "4290                                        [BTO:0000142]\n",
       "4757                           [BTO:0004345, BTO:0000142]\n",
       "5675                                        [BTO:0000142]\n",
       "6004                                        [BTO:0001379]\n",
       "6764                                        [BTO:0000759]\n",
       "7116    [BTO:0000553, BTO:0001025, BTO:0000878, BTO:00...\n",
       "7305                           [BTO:0001422, BTO:0000975]\n",
       "7451                                        [BTO:0001202]\n",
       "7486                           [BTO:0000775, BTO:0000089]\n",
       "7553              [BTO:0000939, BTO:0000847, BTO:0001253]\n",
       "7753                                        [BTO:0001025]\n",
       "8052                                        [BTO:0000773]\n",
       "8514                           [BTO:0000047, BTO:0000522]\n",
       "8671    [BTO:0000886, BTO:0000270, BTO:0000645, BTO:00...\n",
       "8762                           [BTO:0000775, BTO:0000089]\n",
       "9171                           [BTO:0001530, BTO:0000527]\n",
       "9452                           [BTO:0000269, BTO:0000641]\n",
       "9844                                        [BTO:0001385]\n",
       "10245                                       [BTO:0000763]\n",
       "10334   [BTO:0000397, BTO:0001090, BTO:0000140, BTO:00...\n",
       "10445                                       [BTO:0000763]\n",
       "10810                                       [BTO:0000149]\n",
       "10927   [BTO:0000045, BTO:0000140, BTO:0001239, BTO:00...\n",
       "10961                                       [BTO:0000759]\n",
       "10971                          [BTO:0000980, BTO:0000975]\n",
       "11001                                       [BTO:0000149]\n",
       "11151                          [BTO:0000671, BTO:0000761]\n",
       "...                                                   ...\n",
       "50790                                       [BTO:0001253]\n",
       "50948                                       [BTO:0001435]\n",
       "51024                          [BTO:0000763, BTO:0001539]\n",
       "51450                                       [BTO:0000149]\n",
       "51725                                       [BTO:0000886]\n",
       "52322                                       [BTO:0000149]\n",
       "52478   [BTO:0000829, BTO:0000141, BTO:0004850, BTO:00...\n",
       "53552                                       [BTO:0001253]\n",
       "53733                                       [BTO:0000142]\n",
       "53757                                       [BTO:0000671]\n",
       "53795                                       [BTO:0001253]\n",
       "54002                          [BTO:0000817, BTO:0000522]\n",
       "54043                                       [BTO:0001732]\n",
       "54522   [BTO:0000553, BTO:0001025, BTO:0000878, BTO:00...\n",
       "55092                          [BTO:0000575, BTO:0000759]\n",
       "55201                                       [BTO:0000089]\n",
       "56449   [BTO:0000829, BTO:0001133, BTO:0000141, BTO:00...\n",
       "58208   [BTO:0001025, BTO:0000878, BTO:0000089, BTO:00...\n",
       "58573                                       [BTO:0001253]\n",
       "58792                          [BTO:0000131, BTO:0000149]\n",
       "59294                                       [BTO:0001253]\n",
       "60697                                       [BTO:0000269]\n",
       "61635                                       [BTO:0000089]\n",
       "63074                                       [BTO:0000763]\n",
       "64951                                       [BTO:0001202]\n",
       "65144                                       [BTO:0001379]\n",
       "65194                                       [BTO:0000149]\n",
       "66354   [BTO:0001355, BTO:0000233, BTO:0000138, BTO:00...\n",
       "68015   [BTO:0001355, BTO:0001829, BTO:0000925, BTO:00...\n",
       "68833   [BTO:0000829, BTO:0000141, BTO:0000140, BTO:00...\n",
       "\n",
       "[240 rows x 1 columns]"
      ]
     },
     "execution_count": 111,
     "metadata": {},
     "output_type": "execute_result"
    }
   ],
   "source": [
    "# Собираем семплы в серии\n",
    "res_series = (\n",
    "  pd.DataFrame.from_records(  \n",
    "    [(int(serie[3:]), cl) for sample_id, classes in res.classes.iteritems() \n",
    "        for cl in classes \n",
    "        for serie in sample2series.series.loc['GSM{}'.format(sample_id)]]\n",
    "    , columns=['series', 'classes'])\n",
    "  .drop_duplicates()\n",
    "  .groupby('series')\n",
    "  .classes\n",
    "  .apply(lambda c: list(set(c)))\n",
    "  .to_frame()  \n",
    ")\n",
    "res_series = res_series[res_series.index.isin(validation_set.index)]\n",
    "res_series\n",
    "\n"
   ]
  },
  {
   "cell_type": "code",
   "execution_count": 74,
   "metadata": {
    "collapsed": false
   },
   "outputs": [],
   "source": [
    "def doid_id(item_id):\n",
    "    return \"BTO:{:07}\".format(item_id)\n",
    "\n",
    "\n",
    "def ontology_name(item_id):\n",
    "    if item_id not in ontology.meta:\n",
    "        return item_id\n",
    "    return ontology.meta[item_id].name\n",
    "\n",
    "\n",
    "def to_name(series_id):\n",
    "    return \"GSE{}\".format(series_id)\n",
    "\n",
    "def name(item_id):\n",
    "    return '{} ({})'.format(ontology_name(item_id), item_id)\n",
    "\n",
    "def names(df):\n",
    "    return df.applymap(lambda xs: [name(x) for x in xs])\n",
    "\n",
    "def sub_ontology(nodes, ontology):\n",
    "    subset = set(flatten([nx.shortest_path(ontology.graph, 'BTO:0001489', cls) for cls in nodes]))\n",
    "    for n in nodes:\n",
    "        subset.add(n)\n",
    "    return nx.subgraph(ontology.graph, subset)\n",
    "\n",
    "def matches_graph(matches, vd_classes=None, figsize=None, prog='neato'):\n",
    "    matches = [m for m in matches if m in ontology.graph.nodes()]\n",
    "    vd_classes = vd_classes or []\n",
    "    import matplotlib.pyplot as plt\n",
    "    figsize = figsize or (14, 10)\n",
    "    plt.figure(figsize=figsize) \n",
    "    import networkx as nx\n",
    "    \n",
    "    G = sub_ontology(matches + vd_classes, ontology)\n",
    "    pos=nx.pygraphviz_layout(G, prog=prog) \n",
    "    \n",
    "    labels = dict((k, v) for (k, v) in names_dict.items() if k in G.nodes())\n",
    "    nodes_other = [x for x in G.nodes() if x not in matches]\n",
    "    \n",
    "    nx.draw_networkx(G, labels=labels, \n",
    "            pos=pos, \n",
    "            node_size=400,\n",
    "            node_color='r',\n",
    "             alpha=0.5,\n",
    "            nodelist=matches)\n",
    "    \n",
    "    nx.draw_networkx(G, labels=labels, \n",
    "        pos=pos, \n",
    "        node_size=400,\n",
    "        node_color='w',\n",
    "         alpha=0.8,\n",
    "        nodelist=nodes_other)\n",
    "    \n",
    "    if vd_classes:\n",
    "        nx.draw_networkx(G, labels=labels, \n",
    "            pos=pos, \n",
    "            node_size=400,\n",
    "            node_color='g',\n",
    "            alpha=0.5,\n",
    "#             font_color='g',                     \n",
    "            nodelist=vd_classes)\n",
    "        \n",
    "    plt.show()\n",
    "\n",
    "    \n",
    "names_dict = dict((record.id, record.name) for record in ontology.meta.values())"
   ]
  },
  {
   "cell_type": "code",
   "execution_count": null,
   "metadata": {
    "collapsed": false
   },
   "outputs": [],
   "source": [
    "# cell_type_cancer = 'DOID:0050687'\n",
    "# organ_system_cancer = 'DOID:0050686'\n",
    "# cell_type_benign_neoplasm = 'DOID:0060084'\n",
    "# organ_system_benign_neoplasm = 'DOID:0060085'\n",
    "\n",
    "# @pymonad.curry\n",
    "# def exclude_similar_branches(ontology, classes):\n",
    "#     has_osc = any(ontology.has_path(organ_system_cancer, c) for c in classes)\n",
    "#     if has_osc:\n",
    "#         return [c for c in classes if not ontology.has_path(cell_type_cancer, c) \n",
    "# #                                       and not ontology.has_path(cell_type_benign_neoplasm, c)\n",
    "# #                                       and not ontology.has_path(organ_system_benign_neoplasm, c) \n",
    "#                ]\n",
    "#     else:\n",
    "#         return classes"
   ]
  },
  {
   "cell_type": "code",
   "execution_count": 62,
   "metadata": {
    "collapsed": false
   },
   "outputs": [],
   "source": [
    "root_disease = 'BTO:0001489'\n",
    "\n",
    "@pymonad.curry\n",
    "def exclude_wide_terms(ontology, classes):\n",
    "    threshold = 2\n",
    "    \n",
    "    return [c for c in classes \n",
    "            if len(nx.shortest_path(ontology.graph, root_disease, c)) > threshold]"
   ]
  },
  {
   "cell_type": "code",
   "execution_count": 112,
   "metadata": {
    "collapsed": true
   },
   "outputs": [],
   "source": [
    "results = pd.DataFrame(dict(\n",
    "        odinary=res_series.classes,\n",
    "        collapsed=res_series.classes.map(#exclude_wide_terms(ontology) *\n",
    "                                  collapse_matches(ontology.graph)),\n",
    "#                                      exclude_similar_branches(ontology) *\n",
    "#                                      collapse_matches(ontology.graph)),\n",
    "#         collapsed_syn=res.classes.map(\n",
    "#                                      exclude_wide_terms(ontology) *\n",
    "#                                      collapse_matches(syn_ontology.graph) *\n",
    "# #                                      exclude_similar_branches(ontology) *\n",
    "#                                      collapse_matches(ontology.graph)),\n",
    "        \n",
    "#         syn=res.classes.map(exclude_wide_terms(ontology) *\n",
    "#                             collapse_matches(syn_ontology.graph)),\n",
    "\n",
    "        validation=validation_set.classes,\n",
    "        \n",
    "    )\n",
    ").applymap(lambda x: [] if isinstance(x, float) else x)"
   ]
  },
  {
   "cell_type": "code",
   "execution_count": 113,
   "metadata": {
    "collapsed": false
   },
   "outputs": [
    {
     "data": {
      "text/plain": [
       "array([[<matplotlib.axes._subplots.AxesSubplot object at 0x110d1b0b8>,\n",
       "        <matplotlib.axes._subplots.AxesSubplot object at 0x1140cd240>,\n",
       "        <matplotlib.axes._subplots.AxesSubplot object at 0x110d720f0>,\n",
       "        <matplotlib.axes._subplots.AxesSubplot object at 0x1114036d8>,\n",
       "        <matplotlib.axes._subplots.AxesSubplot object at 0x1127d0898>]], dtype=object)"
      ]
     },
     "execution_count": 113,
     "metadata": {},
     "output_type": "execute_result"
    },
    {
     "data": {
      "image/png": "[encoded data removed]",
      "text/plain": [
       "<matplotlib.figure.Figure at 0x110d13780>"
      ]
     },
     "metadata": {},
     "output_type": "display_data"
    }
   ],
   "source": [
    "(\n",
    "    results\n",
    "    .applymap(len).hist(bins=range(0, 9), \n",
    "                        sharey=True, \n",
    "                        layout=(1, 5),\n",
    "                        figsize=(14, 6))\n",
    ")"
   ]
  },
  {
   "cell_type": "code",
   "execution_count": 124,
   "metadata": {
    "collapsed": false
   },
   "outputs": [],
   "source": [
    "def cell():\n",
    "    t = perfect.join(results, lsuffix='_perf')\n",
    "    return t[(~t.collapsed_perf) & (t.collapsed.map(lambda c: len(c)==1))]\n",
    "errors = cell()"
   ]
  },
  {
   "cell_type": "code",
   "execution_count": 125,
   "metadata": {
    "collapsed": true
   },
   "outputs": [],
   "source": [
    "i = 0"
   ]
  },
  {
   "cell_type": "code",
   "execution_count": 127,
   "metadata": {
    "collapsed": false
   },
   "outputs": [
    {
     "name": "stdout",
     "output_type": "stream",
     "text": [
      "1\n",
      "collapsed_perf                         False\n",
      "odinary_perf                            True\n",
      "collapsed                      [BTO:0000641]\n",
      "odinary           [BTO:0000269, BTO:0000641]\n",
      "validation                     [BTO:0000271]\n",
      "Name: 9452, dtype: object\n"
     ]
    },
    {
     "data": {
      "image/png": "[encoded data removed]",
      "text/plain": [
       "<matplotlib.figure.Figure at 0x116946cc0>"
      ]
     },
     "metadata": {},
     "output_type": "display_data"
    }
   ],
   "source": [
    "def cell():\n",
    "    global i\n",
    "    row = errors.iloc[i]\n",
    "    print(i)\n",
    "    print(row)\n",
    "    i += 1\n",
    "    matches_graph(row.collapsed, row.validation)\n",
    "    \n",
    "cell()"
   ]
  },
  {
   "cell_type": "code",
   "execution_count": 115,
   "metadata": {
    "collapsed": false
   },
   "outputs": [],
   "source": [
    "def compare(rc, vc):\n",
    "    return ontology.has_path(rc, vc)\n",
    "\n",
    "def compare2(rc, vc):\n",
    "    return ontology.has_path(rc, vc) or ontology.has_path(vc, rc)\n",
    "\n",
    "def compare3(rc, vc):\n",
    "    threshold = 4\n",
    "    if rc == vc:\n",
    "        return True\n",
    "    return ontology.has_path(rc, vc) and (nx.shortest_path_length(ontology.graph, rc, vc) <= threshold)\n",
    "                                \n",
    "def compare4(rc, vc):\n",
    "    if rc == vc:\n",
    "        return True\n",
    "    return compare3(rc, vc) or compare3(vc, rc)\n",
    "\n",
    "def compare0(rc, vc):\n",
    "    return rc == vc\n",
    "\n",
    "\n",
    "@pymonad.curry\n",
    "def cr(vd, res):\n",
    "    return correct_ratio(res, vd, compare_func=compare4)\n",
    "\n",
    "@pymonad.curry\n",
    "def ir(vd, res):\n",
    "    return incorrect_ratio(res, vd, compare_func=compare4)\n",
    "\n",
    "\n",
    "@pymonad.curry\n",
    "def pm(vd, res):\n",
    "    return perfect_match(res, vd, compare_func=compare4)\n",
    "\n",
    "\n",
    "def cell():\n",
    "    global results\n",
    "    correct = pd.DataFrame(data=dict([(c, cr(results.validation, results[c])) for c in results.columns if c != 'validation']))\n",
    "    incorrect = pd.DataFrame(data=dict([(c, ir(results.validation, results[c])) for c in results.columns if c != 'validation']))\n",
    "    perfect = pd.DataFrame(data=dict([(c, pm(results.validation, results[c])) for c in results.columns if c != 'validation']))\n",
    "    return correct, incorrect, perfect\n",
    "    \n",
    "correct, incorrect, perfect = cell()"
   ]
  },
  {
   "cell_type": "markdown",
   "metadata": {},
   "source": [
    "## Сводная таблица"
   ]
  },
  {
   "cell_type": "code",
   "execution_count": 116,
   "metadata": {
    "collapsed": false
   },
   "outputs": [
    {
     "data": {
      "text/html": [
       "<div>\n",
       "<table border=\"1\" class=\"dataframe\">\n",
       "  <thead>\n",
       "    <tr style=\"text-align: right;\">\n",
       "      <th></th>\n",
       "      <th>counts</th>\n",
       "      <th>scores</th>\n",
       "      <th>range</th>\n",
       "    </tr>\n",
       "  </thead>\n",
       "  <tbody>\n",
       "    <tr>\n",
       "      <th>collapsed</th>\n",
       "      <td>160</td>\n",
       "      <td>0.748201</td>\n",
       "      <td>0.555556</td>\n",
       "    </tr>\n",
       "    <tr>\n",
       "      <th>odinary</th>\n",
       "      <td>125</td>\n",
       "      <td>0.589928</td>\n",
       "      <td>0.434028</td>\n",
       "    </tr>\n",
       "  </tbody>\n",
       "</table>\n",
       "</div>"
      ],
      "text/plain": [
       "           counts    scores     range\n",
       "collapsed     160  0.748201  0.555556\n",
       "odinary       125  0.589928  0.434028"
      ]
     },
     "execution_count": 116,
     "metadata": {},
     "output_type": "execute_result"
    }
   ],
   "source": [
    "cols = [c for c in results.columns if c != 'validation']\n",
    "\n",
    "counts = results.applymap(len).apply(lambda x: x.value_counts()).loc[1]\n",
    "pd.DataFrame(dict(scores=[perfect.loc[results[results.validation.map(lambda x: len(x) == 1)].index].mean()[c] for c in cols],\n",
    "                  counts=counts),\n",
    "             index=cols).assign(range=lambda x: x['counts']/validation_set.shape[0])\n"
   ]
  },
  {
   "cell_type": "code",
   "execution_count": null,
   "metadata": {
    "collapsed": true
   },
   "outputs": [],
   "source": []
  }
 ],
 "metadata": {
  "kernelspec": {
   "display_name": "Python 3",
   "language": "python",
   "name": "python3"
  },
  "language_info": {
   "codemirror_mode": {
    "name": "ipython",
    "version": 3
   },
   "file_extension": ".py",
   "mimetype": "text/x-python",
   "name": "python",
   "nbconvert_exporter": "python",
   "pygments_lexer": "ipython3",
   "version": "3.4.3"
  }
 },
 "nbformat": 4,
 "nbformat_minor": 0
}
