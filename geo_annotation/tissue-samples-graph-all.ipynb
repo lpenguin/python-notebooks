{
 "cells": [
  {
   "cell_type": "code",
   "execution_count": 1,
   "metadata": {
    "collapsed": true
   },
   "outputs": [],
   "source": [
    "import sys\n",
    "sys.path.append('..')"
   ]
  },
  {
   "cell_type": "code",
   "execution_count": null,
   "metadata": {
    "collapsed": true
   },
   "outputs": [],
   "source": []
  },
  {
   "cell_type": "code",
   "execution_count": 2,
   "metadata": {
    "collapsed": false
   },
   "outputs": [],
   "source": [
    "from importlib import reload\n",
    "from os.path import exists\n",
    "\n",
    "import networkx as nx\n",
    "import numpy as np\n",
    "import pandas as pd\n",
    "import lib.obo\n",
    "import lib.classification.elastic\n",
    "import lib.classification.validation\n",
    "import lib.utils\n",
    "import data\n",
    "import pymonad\n",
    "\n",
    "reload(lib.classification.validation)\n",
    "reload(lib.classification.elastic)\n",
    "reload(lib.obo)\n",
    "reload(lib.utils)\n",
    "reload(data)\n",
    "\n",
    "from lib.classification.elastic import annotate_index, collapse_matches, build_synonyms_graph, search_item\n",
    "from lib.utils import map_series, expand_dataframe, expand, flatten\n",
    "from lib.classification.validation import correct_ratio, incorrect_ratio, perfect_match\n",
    "from geo_annotation.import_ontology_es import import_ontology\n",
    "from elasticsearch import Elasticsearch\n",
    "from lib.obo import read_ontology, Ontology\n",
    "pd.set_option('display.width', 512)"
   ]
  },
  {
   "cell_type": "code",
   "execution_count": 47,
   "metadata": {
    "collapsed": false
   },
   "outputs": [],
   "source": [
    "import seaborn\n",
    "%matplotlib inline"
   ]
  },
  {
   "cell_type": "code",
   "execution_count": 4,
   "metadata": {
    "collapsed": true
   },
   "outputs": [],
   "source": [
    "# Вытаскиваем все семплы \n",
    "import pymongo\n",
    "db = pymongo.MongoClient().scraper_test_dev"
   ]
  },
  {
   "cell_type": "code",
   "execution_count": 5,
   "metadata": {
    "collapsed": false
   },
   "outputs": [],
   "source": [
    "file_sample2series = '../data/geo-annotation/sample2series.all.res1.pickle'\n",
    "if not exists(file_sample2series):\n",
    "    c = db.samples.find({\n",
    "        }, {\n",
    "            '_id':0,\n",
    "            'accession': 1,\n",
    "            'series': 1\n",
    "        })\n",
    "    sample2series = (\n",
    "        pd.DataFrame.from_records(\n",
    "            [\n",
    "            (x['accession'], series) \n",
    "             for x in c \n",
    "             for series in x['series']],\n",
    "            columns=['sample', 'series']\n",
    "        )\n",
    "        .drop_duplicates()\n",
    "        .set_index('sample')\n",
    "\n",
    "    )\n",
    "    sample2series.to_pickle(file_sample2series)\n",
    "else: \n",
    "    sample2series = pd.read_pickle(file_sample2series)"
   ]
  },
  {
   "cell_type": "code",
   "execution_count": 6,
   "metadata": {
    "collapsed": false
   },
   "outputs": [
    {
     "data": {
      "text/plain": [
       "(2425973, 1)"
      ]
     },
     "execution_count": 6,
     "metadata": {},
     "output_type": "execute_result"
    }
   ],
   "source": [
    "sample2series.shape"
   ]
  },
  {
   "cell_type": "code",
   "execution_count": 7,
   "metadata": {
    "collapsed": false
   },
   "outputs": [
    {
     "name": "stdout",
     "output_type": "stream",
     "text": [
      "Read obo graph\n",
      "Name: \n",
      "Type: DiGraph\n",
      "Number of nodes: 5659\n",
      "Number of edges: 6430\n",
      "Average in degree:   1.1362\n",
      "Average out degree:   1.1362\n"
     ]
    }
   ],
   "source": [
    "es = Elasticsearch()\n",
    "ontology = read_ontology('../data/geo-annotation/brenda-tissue-ontology.obo',\n",
    "                         exclude_duplicates=True,\n",
    "                         subgraph='BTO:0001489')"
   ]
  },
  {
   "cell_type": "code",
   "execution_count": 8,
   "metadata": {
    "collapsed": false
   },
   "outputs": [],
   "source": [
    "# Убираем синонимы состоящие только из коротких слов  (len <= 2 )\n",
    "# (вообще ошибка происходит изза стоп-слов в Elasticsearch, но так проще)\n",
    "\n",
    "def cell():\n",
    "    import re\n",
    "    def tokenize(s):\n",
    "        return re.split(r'[^\\w\\d]+', s)\n",
    "    \n",
    "    def all_short(synonym):\n",
    "        return all(len(t) <= 2 for t in tokenize(synonym))\n",
    "    \n",
    "    for item_id, item in ontology.meta.items():\n",
    "        item.synonyms = [s for s in item.synonyms if not all_short(s)]\n",
    "\n",
    "cell()"
   ]
  },
  {
   "cell_type": "code",
   "execution_count": 9,
   "metadata": {
    "collapsed": false
   },
   "outputs": [],
   "source": [
    "# import_ontology(ontology, 'tissue_ontology')\n",
    "# syn_ontology = Ontology(build_synonyms_graph(ontology, es, 'tissue_ontology'), list(ontology.items()))"
   ]
  },
  {
   "cell_type": "code",
   "execution_count": 51,
   "metadata": {
    "collapsed": false
   },
   "outputs": [],
   "source": [
    "annotation_result_file = '../data/geo-annotation/samples.tissue.all.res6.pickle'\n",
    "if not exists(annotation_result_file):\n",
    "    res = annotate_index(client=es,\n",
    "                         ontology=ontology,\n",
    "                         index='samples',\n",
    "                         fields=['title', 'characteristics_raw', 'source_name'],\n",
    "                         id_field='accession'\n",
    "                        )\n",
    "\n",
    "    res.to_pickle(annotation_result_file)\n",
    "\n",
    "else:\n",
    "    res = pd.read_pickle(annotation_result_file)"
   ]
  },
  {
   "cell_type": "code",
   "execution_count": 52,
   "metadata": {
    "collapsed": false
   },
   "outputs": [
    {
     "data": {
      "text/plain": [
       "1347796"
      ]
     },
     "execution_count": 52,
     "metadata": {},
     "output_type": "execute_result"
    }
   ],
   "source": [
    "# len(res), len(validation_set_ids) 976291\n",
    "len(res)"
   ]
  },
  {
   "cell_type": "code",
   "execution_count": 56,
   "metadata": {
    "collapsed": false
   },
   "outputs": [],
   "source": [
    "res['classes'] = res['classes'].map(lambda xs: list(set(xs)))"
   ]
  },
  {
   "cell_type": "code",
   "execution_count": 57,
   "metadata": {
    "collapsed": false
   },
   "outputs": [
    {
     "data": {
      "text/html": [
       "<div>\n",
       "<table border=\"1\" class=\"dataframe\">\n",
       "  <thead>\n",
       "    <tr style=\"text-align: right;\">\n",
       "      <th></th>\n",
       "      <th>classes</th>\n",
       "    </tr>\n",
       "    <tr>\n",
       "      <th>item</th>\n",
       "      <th></th>\n",
       "    </tr>\n",
       "  </thead>\n",
       "  <tbody>\n",
       "    <tr>\n",
       "      <th>GSM1006272</th>\n",
       "      <td>[BTO:0000759]</td>\n",
       "    </tr>\n",
       "    <tr>\n",
       "      <th>E-MTAB-3099_162</th>\n",
       "      <td>[BTO:0000759]</td>\n",
       "    </tr>\n",
       "    <tr>\n",
       "      <th>GSM645939</th>\n",
       "      <td>[BTO:0000855]</td>\n",
       "    </tr>\n",
       "    <tr>\n",
       "      <th>GSM429771</th>\n",
       "      <td>[BTO:0000848]</td>\n",
       "    </tr>\n",
       "    <tr>\n",
       "      <th>E-MTAB-3732_3998</th>\n",
       "      <td>[BTO:0000876, BTO:0000089]</td>\n",
       "    </tr>\n",
       "    <tr>\n",
       "      <th>GSM1528749</th>\n",
       "      <td>[BTO:0000282]</td>\n",
       "    </tr>\n",
       "    <tr>\n",
       "      <th>GSM929743</th>\n",
       "      <td>[BTO:0004850, BTO:0000140, BTO:0001441, BTO:00...</td>\n",
       "    </tr>\n",
       "    <tr>\n",
       "      <th>GSM29232</th>\n",
       "      <td>[BTO:0001239, BTO:0001583]</td>\n",
       "    </tr>\n",
       "    <tr>\n",
       "      <th>GSM642303</th>\n",
       "      <td>[BTO:0000782, BTO:0001372]</td>\n",
       "    </tr>\n",
       "    <tr>\n",
       "      <th>GSM410889</th>\n",
       "      <td>[BTO:0000705]</td>\n",
       "    </tr>\n",
       "  </tbody>\n",
       "</table>\n",
       "</div>"
      ],
      "text/plain": [
       "                                                            classes\n",
       "item                                                               \n",
       "GSM1006272                                            [BTO:0000759]\n",
       "E-MTAB-3099_162                                       [BTO:0000759]\n",
       "GSM645939                                             [BTO:0000855]\n",
       "GSM429771                                             [BTO:0000848]\n",
       "E-MTAB-3732_3998                         [BTO:0000876, BTO:0000089]\n",
       "GSM1528749                                            [BTO:0000282]\n",
       "GSM929743         [BTO:0004850, BTO:0000140, BTO:0001441, BTO:00...\n",
       "GSM29232                                 [BTO:0001239, BTO:0001583]\n",
       "GSM642303                                [BTO:0000782, BTO:0001372]\n",
       "GSM410889                                             [BTO:0000705]"
      ]
     },
     "execution_count": 57,
     "metadata": {},
     "output_type": "execute_result"
    }
   ],
   "source": [
    "res[:10]"
   ]
  },
  {
   "cell_type": "code",
   "execution_count": 58,
   "metadata": {
    "collapsed": false
   },
   "outputs": [
    {
     "data": {
      "text/html": [
       "<div>\n",
       "<table border=\"1\" class=\"dataframe\">\n",
       "  <thead>\n",
       "    <tr style=\"text-align: right;\">\n",
       "      <th></th>\n",
       "      <th>classes</th>\n",
       "      <th>class_</th>\n",
       "    </tr>\n",
       "    <tr>\n",
       "      <th>item</th>\n",
       "      <th></th>\n",
       "      <th></th>\n",
       "    </tr>\n",
       "  </thead>\n",
       "  <tbody>\n",
       "    <tr>\n",
       "      <th>E-MTAB-3099_162</th>\n",
       "      <td>[BTO:0000759]</td>\n",
       "      <td>liver</td>\n",
       "    </tr>\n",
       "    <tr>\n",
       "      <th>E-MTAB-3732_3998</th>\n",
       "      <td>[BTO:0000876, BTO:0000089]</td>\n",
       "      <td>monocyte</td>\n",
       "    </tr>\n",
       "    <tr>\n",
       "      <th>E-MTAB-764_17</th>\n",
       "      <td>[BTO:0000763]</td>\n",
       "      <td>lung</td>\n",
       "    </tr>\n",
       "    <tr>\n",
       "      <th>E-MTAB-40_2624</th>\n",
       "      <td>[BTO:0000776, BTO:0000775]</td>\n",
       "      <td>b-lymphocyte</td>\n",
       "    </tr>\n",
       "    <tr>\n",
       "      <th>E-TABM-661_2949</th>\n",
       "      <td>[BTO:0004359]</td>\n",
       "      <td>paw</td>\n",
       "    </tr>\n",
       "  </tbody>\n",
       "</table>\n",
       "</div>"
      ],
      "text/plain": [
       "                                     classes        class_\n",
       "item                                                      \n",
       "E-MTAB-3099_162                [BTO:0000759]         liver\n",
       "E-MTAB-3732_3998  [BTO:0000876, BTO:0000089]      monocyte\n",
       "E-MTAB-764_17                  [BTO:0000763]          lung\n",
       "E-MTAB-40_2624    [BTO:0000776, BTO:0000775]  b-lymphocyte\n",
       "E-TABM-661_2949                [BTO:0004359]           paw"
      ]
     },
     "execution_count": 58,
     "metadata": {},
     "output_type": "execute_result"
    }
   ],
   "source": [
    "(\n",
    "    res[~(res.index.str.startswith('GSM'))]\n",
    "    .head()\n",
    "    .assign(class_=lambda d: d.classes.map(lambda x: x[0]))\n",
    "    .assign(class_=lambda d: d.class_.map(ontology.name))\n",
    ")"
   ]
  },
  {
   "cell_type": "code",
   "execution_count": 14,
   "metadata": {
    "collapsed": false
   },
   "outputs": [],
   "source": [
    "# import pymongo \n",
    "# db = pymongo.MongoClient().scraper_meta\n",
    "# file_human_samples = '../data/geo-annotation/human-samples.res1.pickle'\n",
    "    \n",
    "# if not exists(file_human_samples):\n",
    "#     human_samples = pd.DataFrame(dict(sample=[int(s['accession'][3:]) for s in db.samples.find({'organism': 'Homo sapiens'}, {'_id': 0, 'accession': 1})]))\n",
    "#     human_samples.to_pickle(file_human_samples)\n",
    "# else:\n",
    "#     human_samples = pd.read_pickle(file_human_samples)"
   ]
  },
  {
   "cell_type": "code",
   "execution_count": 13,
   "metadata": {
    "collapsed": false
   },
   "outputs": [],
   "source": [
    "# human_samples.set_index('sample')[:5]"
   ]
  },
  {
   "cell_type": "code",
   "execution_count": 15,
   "metadata": {
    "collapsed": false
   },
   "outputs": [],
   "source": [
    "# res_human = pd.merge(res, human_samples.set_index('sample'), left_index=True, right_index=True, how='inner')\n",
    "# res_human[:5]"
   ]
  },
  {
   "cell_type": "code",
   "execution_count": 16,
   "metadata": {
    "collapsed": false
   },
   "outputs": [],
   "source": [
    "# res.shape, res_human.shape"
   ]
  },
  {
   "cell_type": "code",
   "execution_count": 17,
   "metadata": {
    "collapsed": false
   },
   "outputs": [],
   "source": [
    "# Собираем семплы в серии\n",
    "# sample2series.index = sample2series.index.map(lambda s: int(s[3:]))\n",
    "# sample2series.head()"
   ]
  },
  {
   "cell_type": "code",
   "execution_count": 59,
   "metadata": {
    "collapsed": false
   },
   "outputs": [
    {
     "data": {
      "text/html": [
       "<div>\n",
       "<table border=\"1\" class=\"dataframe\">\n",
       "  <thead>\n",
       "    <tr style=\"text-align: right;\">\n",
       "      <th></th>\n",
       "      <th>classes</th>\n",
       "      <th>series</th>\n",
       "    </tr>\n",
       "  </thead>\n",
       "  <tbody>\n",
       "  </tbody>\n",
       "</table>\n",
       "</div>"
      ],
      "text/plain": [
       "Empty DataFrame\n",
       "Columns: [classes, series]\n",
       "Index: []"
      ]
     },
     "execution_count": 59,
     "metadata": {},
     "output_type": "execute_result"
    }
   ],
   "source": [
    "_t = pd.merge(res, sample2series, left_index=True, right_index=True, how='left')\n",
    "_t[_t.series.isnull()]"
   ]
  },
  {
   "cell_type": "code",
   "execution_count": null,
   "metadata": {
    "collapsed": false
   },
   "outputs": [],
   "source": [
    "def flat_set(iterables):\n",
    "    return {x for it in iterables for x in it}\n",
    "\n",
    "res_series = (\n",
    "    pd.merge(res, sample2series, left_index=True, right_index=True)\n",
    "    .reset_index()\n",
    "    .rename(columns=dict(index='annotated_samples'))\n",
    "    .groupby('series')\n",
    "    .agg(dict(classes=flat_set, annotated_samples=lambda x: len(set(x))))\n",
    "#     [['']]\n",
    "#     .apply(flat_set)\n",
    "#     .to_frame()\n",
    ")\n",
    "res_series[:10]"
   ]
  },
  {
   "cell_type": "code",
   "execution_count": 20,
   "metadata": {
    "collapsed": false
   },
   "outputs": [],
   "source": [
    "# # Проверяем все ли семплы у серий аннотированы\n",
    "\n",
    "# series_samples = (\n",
    "#     pd.DataFrame(\n",
    "#         list(db.series.find(\n",
    "#                 {'accession': {'$in': res_series.index.unique().tolist()}},\n",
    "#                 {'_id': 0, 'accession': 1, 'samples': 1}\n",
    "#             ))\n",
    "#     )\n",
    "#     .rename(columns={'samples': 'stored_samples', 'accession': 'series'})\n",
    "#     .assign(stored_samples= lambda d: d.stored_samples.map(len))\n",
    "#     .set_index('series')\n",
    "# )\n",
    "# series_samples.head()"
   ]
  },
  {
   "cell_type": "code",
   "execution_count": 25,
   "metadata": {
    "collapsed": false
   },
   "outputs": [
    {
     "data": {
      "text/html": [
       "<div>\n",
       "<table border=\"1\" class=\"dataframe\">\n",
       "  <thead>\n",
       "    <tr style=\"text-align: right;\">\n",
       "      <th></th>\n",
       "      <th>series</th>\n",
       "    </tr>\n",
       "    <tr>\n",
       "      <th>sample</th>\n",
       "      <th></th>\n",
       "    </tr>\n",
       "  </thead>\n",
       "  <tbody>\n",
       "    <tr>\n",
       "      <th>GSM148280</th>\n",
       "      <td>GSE6448</td>\n",
       "    </tr>\n",
       "    <tr>\n",
       "      <th>GSM1690912</th>\n",
       "      <td>GSE69034</td>\n",
       "    </tr>\n",
       "    <tr>\n",
       "      <th>GSM1690913</th>\n",
       "      <td>GSE69035</td>\n",
       "    </tr>\n",
       "    <tr>\n",
       "      <th>GSM1690914</th>\n",
       "      <td>GSE69034</td>\n",
       "    </tr>\n",
       "    <tr>\n",
       "      <th>GSM148279</th>\n",
       "      <td>GSE6448</td>\n",
       "    </tr>\n",
       "  </tbody>\n",
       "</table>\n",
       "</div>"
      ],
      "text/plain": [
       "              series\n",
       "sample              \n",
       "GSM148280    GSE6448\n",
       "GSM1690912  GSE69034\n",
       "GSM1690913  GSE69035\n",
       "GSM1690914  GSE69034\n",
       "GSM148279    GSE6448"
      ]
     },
     "execution_count": 25,
     "metadata": {},
     "output_type": "execute_result"
    }
   ],
   "source": [
    "sample2series.head()"
   ]
  },
  {
   "cell_type": "code",
   "execution_count": 26,
   "metadata": {
    "collapsed": false
   },
   "outputs": [
    {
     "data": {
      "text/html": [
       "<div>\n",
       "<table border=\"1\" class=\"dataframe\">\n",
       "  <thead>\n",
       "    <tr style=\"text-align: right;\">\n",
       "      <th></th>\n",
       "      <th>stored_samples</th>\n",
       "    </tr>\n",
       "    <tr>\n",
       "      <th>series</th>\n",
       "      <th></th>\n",
       "    </tr>\n",
       "  </thead>\n",
       "  <tbody>\n",
       "    <tr>\n",
       "      <th>E-AFMX-1</th>\n",
       "      <td>21</td>\n",
       "    </tr>\n",
       "    <tr>\n",
       "      <th>E-AFMX-10</th>\n",
       "      <td>6</td>\n",
       "    </tr>\n",
       "    <tr>\n",
       "      <th>E-AFMX-11</th>\n",
       "      <td>55</td>\n",
       "    </tr>\n",
       "    <tr>\n",
       "      <th>E-AFMX-12</th>\n",
       "      <td>49</td>\n",
       "    </tr>\n",
       "    <tr>\n",
       "      <th>E-AFMX-13</th>\n",
       "      <td>12</td>\n",
       "    </tr>\n",
       "  </tbody>\n",
       "</table>\n",
       "</div>"
      ],
      "text/plain": [
       "           stored_samples\n",
       "series                   \n",
       "E-AFMX-1               21\n",
       "E-AFMX-10               6\n",
       "E-AFMX-11              55\n",
       "E-AFMX-12              49\n",
       "E-AFMX-13              12"
      ]
     },
     "execution_count": 26,
     "metadata": {},
     "output_type": "execute_result"
    }
   ],
   "source": [
    "series_samples = (\n",
    "    sample2series\n",
    "    .reset_index()\n",
    "    .rename(columns={'sample': 'stored_samples'})\n",
    "#     .assign(sample= lambda d: d['stored_samples'].map('GSM{}'.format))\n",
    "    .groupby('series')\n",
    "    .stored_samples\n",
    "    .apply(len)\n",
    "    .to_frame()\n",
    ")\n",
    "series_samples.head()"
   ]
  },
  {
   "cell_type": "code",
   "execution_count": 44,
   "metadata": {
    "collapsed": false
   },
   "outputs": [
    {
     "name": "stdout",
     "output_type": "stream",
     "text": [
      "(4223, 2)\n",
      "(3739, 4)\n"
     ]
    },
    {
     "data": {
      "text/html": [
       "<div>\n",
       "<table border=\"1\" class=\"dataframe\">\n",
       "  <thead>\n",
       "    <tr style=\"text-align: right;\">\n",
       "      <th></th>\n",
       "      <th>annotated_samples</th>\n",
       "      <th>classes</th>\n",
       "      <th>stored_samples</th>\n",
       "      <th>annotated_ratio</th>\n",
       "    </tr>\n",
       "    <tr>\n",
       "      <th>series</th>\n",
       "      <th></th>\n",
       "      <th></th>\n",
       "      <th></th>\n",
       "      <th></th>\n",
       "    </tr>\n",
       "  </thead>\n",
       "  <tbody>\n",
       "    <tr>\n",
       "      <th>E-AFMX-1</th>\n",
       "      <td>21</td>\n",
       "      <td>set([BTO:0000484, BTO:0002807, BTO:0000142])</td>\n",
       "      <td>21</td>\n",
       "      <td>1</td>\n",
       "    </tr>\n",
       "    <tr>\n",
       "      <th>E-AFMX-10</th>\n",
       "      <td>6</td>\n",
       "      <td>set([BTO:0001629, BTO:0000562])</td>\n",
       "      <td>6</td>\n",
       "      <td>1</td>\n",
       "    </tr>\n",
       "    <tr>\n",
       "      <th>E-AFMX-11</th>\n",
       "      <td>55</td>\n",
       "      <td>set([BTO:0000759, BTO:0000671, BTO:0001363, BT...</td>\n",
       "      <td>55</td>\n",
       "      <td>1</td>\n",
       "    </tr>\n",
       "    <tr>\n",
       "      <th>E-AFMX-12</th>\n",
       "      <td>49</td>\n",
       "      <td>set([BTO:0001422, BTO:0001424, BTO:0000416])</td>\n",
       "      <td>49</td>\n",
       "      <td>1</td>\n",
       "    </tr>\n",
       "    <tr>\n",
       "      <th>E-AFMX-13</th>\n",
       "      <td>12</td>\n",
       "      <td>set([BTO:0001422, BTO:0001424, BTO:0000416])</td>\n",
       "      <td>12</td>\n",
       "      <td>1</td>\n",
       "    </tr>\n",
       "  </tbody>\n",
       "</table>\n",
       "</div>"
      ],
      "text/plain": [
       "           annotated_samples                                            classes  stored_samples  annotated_ratio\n",
       "series                                                                                                          \n",
       "E-AFMX-1                  21       set([BTO:0000484, BTO:0002807, BTO:0000142])              21                1\n",
       "E-AFMX-10                  6                    set([BTO:0001629, BTO:0000562])               6                1\n",
       "E-AFMX-11                 55  set([BTO:0000759, BTO:0000671, BTO:0001363, BT...              55                1\n",
       "E-AFMX-12                 49       set([BTO:0001422, BTO:0001424, BTO:0000416])              49                1\n",
       "E-AFMX-13                 12       set([BTO:0001422, BTO:0001424, BTO:0000416])              12                1"
      ]
     },
     "execution_count": 44,
     "metadata": {},
     "output_type": "execute_result"
    }
   ],
   "source": [
    "print(res_series.shape)\n",
    "res_series_partial_annotated = (\n",
    "    res_series\n",
    "    .join(series_samples)\n",
    "    .query('annotated_samples <= stored_samples')\n",
    "    .assign(annotated_ratio=lambda d: d.annotated_samples.astype(float).combine(d.stored_samples, lambda a, s: a/s))\n",
    "    .query('annotated_ratio > 0.7')\n",
    "#     .annotated_samples\n",
    "#     .sum()\n",
    "#     .query('annotated_samples < stored_samples and stored_samples < 501')\n",
    "#     .shape\n",
    ")\n",
    "print(res_series_partial_annotated.shape)\n",
    "res_series_partial_annotated.head()"
   ]
  },
  {
   "cell_type": "code",
   "execution_count": 31,
   "metadata": {
    "collapsed": false
   },
   "outputs": [],
   "source": [
    "def doid_id(item_id):\n",
    "    return \"BTO:{:07}\".format(item_id)\n",
    "\n",
    "\n",
    "def ontology_name(item_id):\n",
    "    if item_id not in ontology.meta:\n",
    "        return item_id\n",
    "    return ontology.meta[item_id].name\n",
    "\n",
    "\n",
    "def to_name(series_id):\n",
    "    return \"GSE{}\".format(series_id)\n",
    "\n",
    "def name(item_id):\n",
    "    return '{} ({})'.format(ontology_name(item_id), item_id)\n",
    "\n",
    "def names(df):\n",
    "    return df.applymap(lambda xs: [name(x) for x in xs])\n",
    "\n",
    "def sub_ontology(nodes, ontology):\n",
    "    subset = set(flatten([nx.shortest_path(ontology.graph, 'BTO:0001489', cls) for cls in nodes]))\n",
    "    for n in nodes:\n",
    "        subset.add(n)\n",
    "    return nx.subgraph(ontology.graph, subset)\n",
    "\n",
    "def matches_graph(matches, vd_classes=None, figsize=None, prog='neato'):\n",
    "    matches = [m for m in matches if m in ontology.graph.nodes()]\n",
    "    vd_classes = vd_classes or []\n",
    "    import matplotlib.pyplot as plt\n",
    "    figsize = figsize or (14, 10)\n",
    "    plt.figure(figsize=figsize) \n",
    "    import networkx as nx\n",
    "    \n",
    "    G = sub_ontology(matches + vd_classes, ontology)\n",
    "    pos=nx.pygraphviz_layout(G, prog=prog) \n",
    "    \n",
    "    labels = dict((k, v) for (k, v) in names_dict.items() if k in G.nodes())\n",
    "    nodes_other = [x for x in G.nodes() if x not in matches]\n",
    "    \n",
    "    nx.draw_networkx(G, labels=labels, \n",
    "            pos=pos, \n",
    "            node_size=400,\n",
    "            node_color='r',\n",
    "             alpha=0.5,\n",
    "            nodelist=matches)\n",
    "    \n",
    "    nx.draw_networkx(G, labels=labels, \n",
    "        pos=pos, \n",
    "        node_size=400,\n",
    "        node_color='w',\n",
    "         alpha=0.8,\n",
    "        nodelist=nodes_other)\n",
    "    \n",
    "    if vd_classes:\n",
    "        nx.draw_networkx(G, labels=labels, \n",
    "            pos=pos, \n",
    "            node_size=400,\n",
    "            node_color='g',\n",
    "            alpha=0.5,\n",
    "#             font_color='g',                     \n",
    "            nodelist=vd_classes)\n",
    "        \n",
    "    plt.show()\n",
    "\n",
    "    \n",
    "names_dict = dict((record.id, record.name) for record in ontology.meta.values())"
   ]
  },
  {
   "cell_type": "code",
   "execution_count": null,
   "metadata": {
    "collapsed": false
   },
   "outputs": [],
   "source": [
    "# cell_type_cancer = 'DOID:0050687'\n",
    "# organ_system_cancer = 'DOID:0050686'\n",
    "# cell_type_benign_neoplasm = 'DOID:0060084'\n",
    "# organ_system_benign_neoplasm = 'DOID:0060085'\n",
    "\n",
    "# @pymonad.curry\n",
    "# def exclude_similar_branches(ontology, classes):\n",
    "#     has_osc = any(ontology.has_path(organ_system_cancer, c) for c in classes)\n",
    "#     if has_osc:\n",
    "#         return [c for c in classes if not ontology.has_path(cell_type_cancer, c) \n",
    "# #                                       and not ontology.has_path(cell_type_benign_neoplasm, c)\n",
    "# #                                       and not ontology.has_path(organ_system_benign_neoplasm, c) \n",
    "#                ]\n",
    "#     else:\n",
    "#         return classes"
   ]
  },
  {
   "cell_type": "code",
   "execution_count": 32,
   "metadata": {
    "collapsed": false
   },
   "outputs": [],
   "source": [
    "root_disease = 'BTO:0001489'\n",
    "\n",
    "@pymonad.curry\n",
    "def exclude_wide_terms(ontology, classes):\n",
    "    threshold = 2\n",
    "    \n",
    "    return [c for c in classes \n",
    "            if len(nx.shortest_path(ontology.graph, root_disease, c)) > threshold]"
   ]
  },
  {
   "cell_type": "code",
   "execution_count": 60,
   "metadata": {
    "collapsed": true
   },
   "outputs": [],
   "source": [
    "results = pd.DataFrame(dict(\n",
    "        odinary=res.classes,\n",
    "        collapsed=res.classes.map(#exclude_wide_terms(ontology) *\n",
    "                                  collapse_matches(ontology.graph)),\n",
    "#                                      exclude_similar_branches(ontology) *\n",
    "#                                      collapse_matches(ontology.graph)),\n",
    "#         collapsed_syn=res.classes.map(\n",
    "#                                      exclude_wide_terms(ontology) *\n",
    "#                                      collapse_matches(syn_ontology.graph) *\n",
    "# #                                      exclude_similar_branches(ontology) *\n",
    "#                                      collapse_matches(ontology.graph)),\n",
    "        \n",
    "#         syn=res.classes.map(exclude_wide_terms(ontology) *\n",
    "#                             collapse_matches(syn_ontology.graph)),\n",
    "\n",
    "#         validation=validation_set.classes,\n",
    "        \n",
    "    )\n",
    ").applymap(lambda x: [] if isinstance(x, float) else x)"
   ]
  },
  {
   "cell_type": "code",
   "execution_count": 61,
   "metadata": {
    "collapsed": false
   },
   "outputs": [
    {
     "data": {
      "text/plain": [
       "array([[<matplotlib.axes._subplots.AxesSubplot object at 0x7f9ffe594dd8>,\n",
       "        <matplotlib.axes._subplots.AxesSubplot object at 0x7fa007f562b0>,\n",
       "        <matplotlib.axes._subplots.AxesSubplot object at 0x7fa00cffd630>]], dtype=object)"
      ]
     },
     "execution_count": 61,
     "metadata": {},
     "output_type": "execute_result"
    },
    {
     "data": {
      "image/png": "[encoded data removed]",
      "text/plain": [
       "<matplotlib.figure.Figure at 0x7fa01c6cd048>"
      ]
     },
     "metadata": {},
     "output_type": "display_data"
    }
   ],
   "source": [
    "(\n",
    "    results\n",
    "    .applymap(len).hist(bins=range(0, 9), \n",
    "                        sharey=True, \n",
    "                        layout=(1, 3),\n",
    "                        figsize=(14, 6))\n",
    ")"
   ]
  },
  {
   "cell_type": "code",
   "execution_count": 64,
   "metadata": {
    "collapsed": false
   },
   "outputs": [],
   "source": [
    "# !rm -f ../data/geo-annotation/series.tissue.all.res1.pickle\n",
    "(\n",
    "    results\n",
    "    [results.collapsed.map(len) == 1]\n",
    "    .collapsed\n",
    "    .map(lambda x: x[0])\n",
    "    .rename(dict(collapsed='tissue'))\n",
    "    .to_frame()\n",
    "    .to_pickle('../data/geo-annotation/samples.tissue.cleaned.v1.pickle')\n",
    ")"
   ]
  },
  {
   "cell_type": "code",
   "execution_count": 49,
   "metadata": {
    "collapsed": false
   },
   "outputs": [
    {
     "data": {
      "text/html": [
       "<div>\n",
       "<table border=\"1\" class=\"dataframe\">\n",
       "  <thead>\n",
       "    <tr style=\"text-align: right;\">\n",
       "      <th></th>\n",
       "      <th>collapsed</th>\n",
       "      <th>odinary</th>\n",
       "    </tr>\n",
       "    <tr>\n",
       "      <th>item</th>\n",
       "      <th></th>\n",
       "      <th></th>\n",
       "    </tr>\n",
       "  </thead>\n",
       "  <tbody>\n",
       "    <tr>\n",
       "      <th>E-MTAB-3099_162</th>\n",
       "      <td>[BTO:0000759]</td>\n",
       "      <td>[BTO:0000759]</td>\n",
       "    </tr>\n",
       "    <tr>\n",
       "      <th>E-MEXP-1190_134</th>\n",
       "      <td>[BTO:0000759]</td>\n",
       "      <td>[BTO:0000759]</td>\n",
       "    </tr>\n",
       "    <tr>\n",
       "      <th>E-MTAB-2146_16</th>\n",
       "      <td>[BTO:0000886, BTO:0005257]</td>\n",
       "      <td>[BTO:0005257, BTO:0000886]</td>\n",
       "    </tr>\n",
       "    <tr>\n",
       "      <th>E-MTAB-3732_3998</th>\n",
       "      <td>[BTO:0000876]</td>\n",
       "      <td>[BTO:0000876, BTO:0000089]</td>\n",
       "    </tr>\n",
       "    <tr>\n",
       "      <th>E-TABM-1_5990</th>\n",
       "      <td>[BTO:0000847, BTO:0000420, BTO:0000282]</td>\n",
       "      <td>[BTO:0001253, BTO:0000420, BTO:0000847, BTO:00...</td>\n",
       "    </tr>\n",
       "  </tbody>\n",
       "</table>\n",
       "</div>"
      ],
      "text/plain": [
       "                                                collapsed                                            odinary\n",
       "item                                                                                                        \n",
       "E-MTAB-3099_162                             [BTO:0000759]                                      [BTO:0000759]\n",
       "E-MEXP-1190_134                             [BTO:0000759]                                      [BTO:0000759]\n",
       "E-MTAB-2146_16                 [BTO:0000886, BTO:0005257]                         [BTO:0005257, BTO:0000886]\n",
       "E-MTAB-3732_3998                            [BTO:0000876]                         [BTO:0000876, BTO:0000089]\n",
       "E-TABM-1_5990     [BTO:0000847, BTO:0000420, BTO:0000282]  [BTO:0001253, BTO:0000420, BTO:0000847, BTO:00..."
      ]
     },
     "execution_count": 49,
     "metadata": {},
     "output_type": "execute_result"
    }
   ],
   "source": [
    "results.head()"
   ]
  },
  {
   "cell_type": "code",
   "execution_count": 63,
   "metadata": {
    "collapsed": false
   },
   "outputs": [
    {
     "data": {
      "text/plain": [
       "(1007873, 2)"
      ]
     },
     "execution_count": 63,
     "metadata": {},
     "output_type": "execute_result"
    }
   ],
   "source": [
    "(\n",
    "    results\n",
    "#     .assign(collapsed_len=lambda d: d.collapsed.map(len))\n",
    "#     .query('collapsed_len == 1')\n",
    "    [results.collapsed.map(len) == 1]\n",
    "#     .stored_samples\n",
    "#     .sum()\n",
    "    .shape\n",
    ")"
   ]
  }
 ],
 "metadata": {
  "kernelspec": {
   "display_name": "Python 3",
   "language": "python",
   "name": "python3"
  },
  "language_info": {
   "codemirror_mode": {
    "name": "ipython",
    "version": 3
   },
   "file_extension": ".py",
   "mimetype": "text/x-python",
   "name": "python",
   "nbconvert_exporter": "python",
   "pygments_lexer": "ipython3",
   "version": "3.4.0"
  }
 },
 "nbformat": 4,
 "nbformat_minor": 0
}
