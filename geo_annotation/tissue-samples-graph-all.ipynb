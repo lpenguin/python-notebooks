{
 "cells": [
  {
   "cell_type": "code",
   "execution_count": 1,
   "metadata": {
    "collapsed": true
   },
   "outputs": [],
   "source": [
    "import sys\n",
    "sys.path.append('..')"
   ]
  },
  {
   "cell_type": "code",
   "execution_count": 2,
   "metadata": {
    "collapsed": false
   },
   "outputs": [],
   "source": [
    "from importlib import reload\n",
    "from os.path import exists\n",
    "\n",
    "import networkx as nx\n",
    "import numpy as np\n",
    "import pandas as pd\n",
    "import lib.obo\n",
    "import lib.classification.elastic\n",
    "import lib.classification.validation\n",
    "import lib.utils\n",
    "import data\n",
    "import pymonad\n",
    "\n",
    "reload(lib.classification.validation)\n",
    "reload(lib.classification.elastic)\n",
    "reload(lib.obo)\n",
    "reload(lib.utils)\n",
    "reload(data)\n",
    "\n",
    "from lib.classification.elastic import annotate_index, collapse_matches, build_synonyms_graph, search_item\n",
    "from lib.utils import map_series, expand_dataframe, expand, flatten\n",
    "from lib.classification.validation import correct_ratio, incorrect_ratio, perfect_match\n",
    "from geo_annotation.import_ontology_es import import_ontology\n",
    "from elasticsearch import Elasticsearch\n",
    "from lib.obo import read_ontology, Ontology\n",
    "pd.set_option('display.width', 512)"
   ]
  },
  {
   "cell_type": "code",
   "execution_count": 3,
   "metadata": {
    "collapsed": true
   },
   "outputs": [],
   "source": [
    "import seaborn\n",
    "%matplotlib inline"
   ]
  },
  {
   "cell_type": "code",
   "execution_count": 4,
   "metadata": {
    "collapsed": true
   },
   "outputs": [],
   "source": [
    "# Вытаскиваем все семплы \n",
    "import pymongo\n",
    "db = pymongo.MongoClient().scraper_meta"
   ]
  },
  {
   "cell_type": "code",
   "execution_count": 26,
   "metadata": {
    "collapsed": false
   },
   "outputs": [],
   "source": [
    "file_sample2series = '../data/geo-annotation/sample2series.all.res1.pickle'\n",
    "if not exists(file_sample2series):\n",
    "    c = db.samples.find({\n",
    "        }, {\n",
    "            '_id':0,\n",
    "            'accession': 1,\n",
    "            'series': 1\n",
    "        })\n",
    "    sample2series = (\n",
    "        pd.DataFrame.from_records(\n",
    "            [\n",
    "            (x['accession'], series) \n",
    "             for x in c \n",
    "             for series in x['series']],\n",
    "            columns=['sample', 'series']\n",
    "        )\n",
    "        .drop_duplicates()\n",
    "        .set_index('sample')\n",
    "\n",
    "    )\n",
    "    sample2series.to_pickle(file_sample2series)\n",
    "else: \n",
    "    sample2series = pd.read_pickle(file_sample2series)"
   ]
  },
  {
   "cell_type": "code",
   "execution_count": 6,
   "metadata": {
    "collapsed": false
   },
   "outputs": [
    {
     "data": {
      "text/plain": [
       "(1730022, 1)"
      ]
     },
     "execution_count": 6,
     "metadata": {},
     "output_type": "execute_result"
    }
   ],
   "source": [
    "sample2series.shape"
   ]
  },
  {
   "cell_type": "code",
   "execution_count": 7,
   "metadata": {
    "collapsed": false
   },
   "outputs": [
    {
     "name": "stdout",
     "output_type": "stream",
     "text": [
      "Read obo graph\n",
      "Name: \n",
      "Type: DiGraph\n",
      "Number of nodes: 5659\n",
      "Number of edges: 6430\n",
      "Average in degree:   1.1362\n",
      "Average out degree:   1.1362\n"
     ]
    }
   ],
   "source": [
    "es = Elasticsearch()\n",
    "ontology = read_ontology('../data/geo-annotation/brenda-tissue-ontology.obo',\n",
    "                         exclude_duplicates=True,\n",
    "                         subgraph='BTO:0001489')"
   ]
  },
  {
   "cell_type": "code",
   "execution_count": 8,
   "metadata": {
    "collapsed": false
   },
   "outputs": [],
   "source": [
    "# Убираем синонимы состоящие только из коротких слов  (len <= 2 )\n",
    "# (вообще ошибка происходит изза стоп-слов в Elasticsearch, но так проще)\n",
    "\n",
    "def cell():\n",
    "    import re\n",
    "    def tokenize(s):\n",
    "        return re.split(r'[^\\w\\d]+', s)\n",
    "    \n",
    "    def all_short(synonym):\n",
    "        return all(len(t) <= 2 for t in tokenize(synonym))\n",
    "    \n",
    "    for item_id, item in ontology.meta.items():\n",
    "        item.synonyms = [s for s in item.synonyms if not all_short(s)]\n",
    "\n",
    "cell()"
   ]
  },
  {
   "cell_type": "code",
   "execution_count": 11,
   "metadata": {
    "collapsed": false
   },
   "outputs": [],
   "source": [
    "# import_ontology(ontology, 'tissue_ontology')\n",
    "# syn_ontology = Ontology(build_synonyms_graph(ontology, es, 'tissue_ontology'), list(ontology.items()))"
   ]
  },
  {
   "cell_type": "code",
   "execution_count": 21,
   "metadata": {
    "collapsed": false
   },
   "outputs": [],
   "source": [
    "annotation_result_file = '../data/geo-annotation/samples.tissue.all.res2.pickle'\n",
    "if not exists(annotation_result_file):\n",
    "    res = annotate_index(client=es,\n",
    "                         ontology=ontology,\n",
    "                         index='samples',\n",
    "#                          ids=validation_set_ids,\n",
    "                         fields=['title', 'characteristics_raw', 'source_name']\n",
    "                        )\n",
    "\n",
    "    res.to_pickle(annotation_result_file)\n",
    "\n",
    "else:\n",
    "    res = pd.read_pickle(annotation_result_file)"
   ]
  },
  {
   "cell_type": "code",
   "execution_count": 22,
   "metadata": {
    "collapsed": false
   },
   "outputs": [
    {
     "data": {
      "text/plain": [
       "976096"
      ]
     },
     "execution_count": 22,
     "metadata": {},
     "output_type": "execute_result"
    }
   ],
   "source": [
    "# len(res), len(validation_set_ids)\n",
    "len(res)"
   ]
  },
  {
   "cell_type": "code",
   "execution_count": 23,
   "metadata": {
    "collapsed": false
   },
   "outputs": [],
   "source": [
    "res['classes'] = res['classes'].map(set)"
   ]
  },
  {
   "cell_type": "code",
   "execution_count": 24,
   "metadata": {
    "collapsed": false
   },
   "outputs": [
    {
     "data": {
      "text/html": [
       "<div>\n",
       "<table border=\"1\" class=\"dataframe\">\n",
       "  <thead>\n",
       "    <tr style=\"text-align: right;\">\n",
       "      <th></th>\n",
       "      <th>classes</th>\n",
       "    </tr>\n",
       "    <tr>\n",
       "      <th>item</th>\n",
       "      <th></th>\n",
       "    </tr>\n",
       "  </thead>\n",
       "  <tbody>\n",
       "    <tr>\n",
       "      <th>1</th>\n",
       "      <td>set([BTO:0001239, BTO:0000452, BTO:0001113])</td>\n",
       "    </tr>\n",
       "    <tr>\n",
       "      <th>2</th>\n",
       "      <td>set([BTO:0001239, BTO:0000452, BTO:0001113])</td>\n",
       "    </tr>\n",
       "    <tr>\n",
       "      <th>3</th>\n",
       "      <td>set([BTO:0000534, BTO:0001363])</td>\n",
       "    </tr>\n",
       "    <tr>\n",
       "      <th>4</th>\n",
       "      <td>set([BTO:0001363])</td>\n",
       "    </tr>\n",
       "    <tr>\n",
       "      <th>5</th>\n",
       "      <td>set([BTO:0000534])</td>\n",
       "    </tr>\n",
       "    <tr>\n",
       "      <th>6</th>\n",
       "      <td>set([BTO:0000534])</td>\n",
       "    </tr>\n",
       "    <tr>\n",
       "      <th>7</th>\n",
       "      <td>set([BTO:0000975, BTO:0000534])</td>\n",
       "    </tr>\n",
       "    <tr>\n",
       "      <th>8</th>\n",
       "      <td>set([BTO:0000975, BTO:0000534])</td>\n",
       "    </tr>\n",
       "    <tr>\n",
       "      <th>9</th>\n",
       "      <td>set([BTO:0000534])</td>\n",
       "    </tr>\n",
       "    <tr>\n",
       "      <th>11</th>\n",
       "      <td>set([BTO:0001253])</td>\n",
       "    </tr>\n",
       "  </tbody>\n",
       "</table>\n",
       "</div>"
      ],
      "text/plain": [
       "                                           classes\n",
       "item                                              \n",
       "1     set([BTO:0001239, BTO:0000452, BTO:0001113])\n",
       "2     set([BTO:0001239, BTO:0000452, BTO:0001113])\n",
       "3                  set([BTO:0000534, BTO:0001363])\n",
       "4                               set([BTO:0001363])\n",
       "5                               set([BTO:0000534])\n",
       "6                               set([BTO:0000534])\n",
       "7                  set([BTO:0000975, BTO:0000534])\n",
       "8                  set([BTO:0000975, BTO:0000534])\n",
       "9                               set([BTO:0000534])\n",
       "11                              set([BTO:0001253])"
      ]
     },
     "execution_count": 24,
     "metadata": {},
     "output_type": "execute_result"
    }
   ],
   "source": [
    "res[:10]"
   ]
  },
  {
   "cell_type": "code",
   "execution_count": 14,
   "metadata": {
    "collapsed": false
   },
   "outputs": [],
   "source": [
    "# import pymongo \n",
    "# db = pymongo.MongoClient().scraper_meta\n",
    "# file_human_samples = '../data/geo-annotation/human-samples.res1.pickle'\n",
    "    \n",
    "# if not exists(file_human_samples):\n",
    "#     human_samples = pd.DataFrame(dict(sample=[int(s['accession'][3:]) for s in db.samples.find({'organism': 'Homo sapiens'}, {'_id': 0, 'accession': 1})]))\n",
    "#     human_samples.to_pickle(file_human_samples)\n",
    "# else:\n",
    "#     human_samples = pd.read_pickle(file_human_samples)"
   ]
  },
  {
   "cell_type": "code",
   "execution_count": 13,
   "metadata": {
    "collapsed": false
   },
   "outputs": [],
   "source": [
    "# human_samples.set_index('sample')[:5]"
   ]
  },
  {
   "cell_type": "code",
   "execution_count": 15,
   "metadata": {
    "collapsed": false
   },
   "outputs": [],
   "source": [
    "# res_human = pd.merge(res, human_samples.set_index('sample'), left_index=True, right_index=True, how='inner')\n",
    "# res_human[:5]"
   ]
  },
  {
   "cell_type": "code",
   "execution_count": 16,
   "metadata": {
    "collapsed": false
   },
   "outputs": [],
   "source": [
    "# res.shape, res_human.shape"
   ]
  },
  {
   "cell_type": "code",
   "execution_count": 27,
   "metadata": {
    "collapsed": false
   },
   "outputs": [
    {
     "data": {
      "text/html": [
       "<div>\n",
       "<table border=\"1\" class=\"dataframe\">\n",
       "  <thead>\n",
       "    <tr style=\"text-align: right;\">\n",
       "      <th></th>\n",
       "      <th>series</th>\n",
       "    </tr>\n",
       "  </thead>\n",
       "  <tbody>\n",
       "    <tr>\n",
       "      <th>1</th>\n",
       "      <td>GSE506</td>\n",
       "    </tr>\n",
       "    <tr>\n",
       "      <th>2</th>\n",
       "      <td>GSE506</td>\n",
       "    </tr>\n",
       "    <tr>\n",
       "      <th>3</th>\n",
       "      <td>GSE462</td>\n",
       "    </tr>\n",
       "    <tr>\n",
       "      <th>4</th>\n",
       "      <td>GSE462</td>\n",
       "    </tr>\n",
       "    <tr>\n",
       "      <th>5</th>\n",
       "      <td>GSE462</td>\n",
       "    </tr>\n",
       "  </tbody>\n",
       "</table>\n",
       "</div>"
      ],
      "text/plain": [
       "   series\n",
       "1  GSE506\n",
       "2  GSE506\n",
       "3  GSE462\n",
       "4  GSE462\n",
       "5  GSE462"
      ]
     },
     "execution_count": 27,
     "metadata": {},
     "output_type": "execute_result"
    }
   ],
   "source": [
    "# Собираем семплы в серии\n",
    "sample2series.index = sample2series.index.map(lambda s: int(s[3:]))\n",
    "sample2series.head()"
   ]
  },
  {
   "cell_type": "code",
   "execution_count": 19,
   "metadata": {
    "collapsed": false
   },
   "outputs": [
    {
     "data": {
      "text/html": [
       "<div>\n",
       "<table border=\"1\" class=\"dataframe\">\n",
       "  <thead>\n",
       "    <tr style=\"text-align: right;\">\n",
       "      <th></th>\n",
       "      <th>classes</th>\n",
       "      <th>series</th>\n",
       "    </tr>\n",
       "  </thead>\n",
       "  <tbody>\n",
       "  </tbody>\n",
       "</table>\n",
       "</div>"
      ],
      "text/plain": [
       "Empty DataFrame\n",
       "Columns: [classes, series]\n",
       "Index: []"
      ]
     },
     "execution_count": 19,
     "metadata": {},
     "output_type": "execute_result"
    }
   ],
   "source": [
    "_t = pd.merge(res, sample2series, left_index=True, right_index=True, how='left')\n",
    "_t[_t.series.isnull()]"
   ]
  },
  {
   "cell_type": "code",
   "execution_count": 28,
   "metadata": {
    "collapsed": false
   },
   "outputs": [
    {
     "data": {
      "text/html": [
       "<div>\n",
       "<table border=\"1\" class=\"dataframe\">\n",
       "  <thead>\n",
       "    <tr style=\"text-align: right;\">\n",
       "      <th></th>\n",
       "      <th>classes</th>\n",
       "      <th>annotated_samples</th>\n",
       "    </tr>\n",
       "    <tr>\n",
       "      <th>series</th>\n",
       "      <th></th>\n",
       "      <th></th>\n",
       "    </tr>\n",
       "  </thead>\n",
       "  <tbody>\n",
       "    <tr>\n",
       "      <th>GSE1</th>\n",
       "      <td>set([BTO:0000149, BTO:0001379, BTO:0000420, BT...</td>\n",
       "      <td>28</td>\n",
       "    </tr>\n",
       "    <tr>\n",
       "      <th>GSE10</th>\n",
       "      <td>set([BTO:0001177, BTO:0000416, BTO:0001175, BT...</td>\n",
       "      <td>4</td>\n",
       "    </tr>\n",
       "    <tr>\n",
       "      <th>GSE10000</th>\n",
       "      <td>set([BTO:0000135, BTO:0002010, BTO:0002976])</td>\n",
       "      <td>35</td>\n",
       "    </tr>\n",
       "    <tr>\n",
       "      <th>GSE10001</th>\n",
       "      <td>set([BTO:0000759])</td>\n",
       "      <td>12</td>\n",
       "    </tr>\n",
       "    <tr>\n",
       "      <th>GSE10002</th>\n",
       "      <td>set([BTO:0001471, BTO:0000371, BTO:0000414])</td>\n",
       "      <td>8</td>\n",
       "    </tr>\n",
       "    <tr>\n",
       "      <th>GSE10003</th>\n",
       "      <td>set([BTO:0000763, BTO:0000551, BTO:0000762])</td>\n",
       "      <td>4</td>\n",
       "    </tr>\n",
       "    <tr>\n",
       "      <th>GSE10005</th>\n",
       "      <td>set([BTO:0000282])</td>\n",
       "      <td>48</td>\n",
       "    </tr>\n",
       "    <tr>\n",
       "      <th>GSE10006</th>\n",
       "      <td>set([BTO:0000414, BTO:0004533])</td>\n",
       "      <td>87</td>\n",
       "    </tr>\n",
       "    <tr>\n",
       "      <th>GSE10007</th>\n",
       "      <td>set([BTO:0000142, BTO:0001573])</td>\n",
       "      <td>4</td>\n",
       "    </tr>\n",
       "    <tr>\n",
       "      <th>GSE1001</th>\n",
       "      <td>set([BTO:0001175])</td>\n",
       "      <td>18</td>\n",
       "    </tr>\n",
       "  </tbody>\n",
       "</table>\n",
       "</div>"
      ],
      "text/plain": [
       "                                                    classes  annotated_samples\n",
       "series                                                                        \n",
       "GSE1      set([BTO:0000149, BTO:0001379, BTO:0000420, BT...                 28\n",
       "GSE10     set([BTO:0001177, BTO:0000416, BTO:0001175, BT...                  4\n",
       "GSE10000       set([BTO:0000135, BTO:0002010, BTO:0002976])                 35\n",
       "GSE10001                                 set([BTO:0000759])                 12\n",
       "GSE10002       set([BTO:0001471, BTO:0000371, BTO:0000414])                  8\n",
       "GSE10003       set([BTO:0000763, BTO:0000551, BTO:0000762])                  4\n",
       "GSE10005                                 set([BTO:0000282])                 48\n",
       "GSE10006                    set([BTO:0000414, BTO:0004533])                 87\n",
       "GSE10007                    set([BTO:0000142, BTO:0001573])                  4\n",
       "GSE1001                                  set([BTO:0001175])                 18"
      ]
     },
     "execution_count": 28,
     "metadata": {},
     "output_type": "execute_result"
    }
   ],
   "source": [
    "def flat_set(iterables):\n",
    "    return {x for it in iterables for x in it}\n",
    "\n",
    "res_series = (\n",
    "    pd.merge(res, sample2series, left_index=True, right_index=True)\n",
    "    .reset_index()\n",
    "    .rename(columns=dict(index='annotated_samples'))\n",
    "    .groupby('series')\n",
    "    .agg(dict(classes=flat_set, annotated_samples=lambda x: len(set(x))))\n",
    "#     [['']]\n",
    "#     .apply(flat_set)\n",
    "#     .to_frame()\n",
    ")\n",
    "res_series[:10]"
   ]
  },
  {
   "cell_type": "code",
   "execution_count": 47,
   "metadata": {
    "collapsed": false
   },
   "outputs": [
    {
     "data": {
      "text/html": [
       "<div>\n",
       "<table border=\"1\" class=\"dataframe\">\n",
       "  <thead>\n",
       "    <tr style=\"text-align: right;\">\n",
       "      <th></th>\n",
       "      <th>stored_samples</th>\n",
       "    </tr>\n",
       "    <tr>\n",
       "      <th>series</th>\n",
       "      <th></th>\n",
       "    </tr>\n",
       "  </thead>\n",
       "  <tbody>\n",
       "    <tr>\n",
       "      <th>GSE1</th>\n",
       "      <td>38</td>\n",
       "    </tr>\n",
       "    <tr>\n",
       "      <th>GSE10</th>\n",
       "      <td>4</td>\n",
       "    </tr>\n",
       "    <tr>\n",
       "      <th>GSE10003</th>\n",
       "      <td>4</td>\n",
       "    </tr>\n",
       "    <tr>\n",
       "      <th>GSE10006</th>\n",
       "      <td>87</td>\n",
       "    </tr>\n",
       "    <tr>\n",
       "      <th>GSE10007</th>\n",
       "      <td>4</td>\n",
       "    </tr>\n",
       "  </tbody>\n",
       "</table>\n",
       "</div>"
      ],
      "text/plain": [
       "          stored_samples\n",
       "series                  \n",
       "GSE1                  38\n",
       "GSE10                  4\n",
       "GSE10003               4\n",
       "GSE10006              87\n",
       "GSE10007               4"
      ]
     },
     "execution_count": 47,
     "metadata": {},
     "output_type": "execute_result"
    }
   ],
   "source": [
    "# # Проверяем все ли семплы у серий аннотированы\n",
    "\n",
    "# series_samples = (\n",
    "#     pd.DataFrame(\n",
    "#         list(db.series.find(\n",
    "#                 {'accession': {'$in': res_series.index.unique().tolist()}},\n",
    "#                 {'_id': 0, 'accession': 1, 'samples': 1}\n",
    "#             ))\n",
    "#     )\n",
    "#     .rename(columns={'samples': 'stored_samples', 'accession': 'series'})\n",
    "#     .assign(stored_samples= lambda d: d.stored_samples.map(len))\n",
    "#     .set_index('series')\n",
    "# )\n",
    "# series_samples.head()"
   ]
  },
  {
   "cell_type": "code",
   "execution_count": 29,
   "metadata": {
    "collapsed": false
   },
   "outputs": [
    {
     "data": {
      "text/html": [
       "<div>\n",
       "<table border=\"1\" class=\"dataframe\">\n",
       "  <thead>\n",
       "    <tr style=\"text-align: right;\">\n",
       "      <th></th>\n",
       "      <th>stored_samples</th>\n",
       "    </tr>\n",
       "    <tr>\n",
       "      <th>series</th>\n",
       "      <th></th>\n",
       "    </tr>\n",
       "  </thead>\n",
       "  <tbody>\n",
       "    <tr>\n",
       "      <th>GSE1</th>\n",
       "      <td>38</td>\n",
       "    </tr>\n",
       "    <tr>\n",
       "      <th>GSE10</th>\n",
       "      <td>4</td>\n",
       "    </tr>\n",
       "    <tr>\n",
       "      <th>GSE100</th>\n",
       "      <td>4</td>\n",
       "    </tr>\n",
       "    <tr>\n",
       "      <th>GSE1000</th>\n",
       "      <td>10</td>\n",
       "    </tr>\n",
       "    <tr>\n",
       "      <th>GSE10000</th>\n",
       "      <td>35</td>\n",
       "    </tr>\n",
       "  </tbody>\n",
       "</table>\n",
       "</div>"
      ],
      "text/plain": [
       "          stored_samples\n",
       "series                  \n",
       "GSE1                  38\n",
       "GSE10                  4\n",
       "GSE100                 4\n",
       "GSE1000               10\n",
       "GSE10000              35"
      ]
     },
     "execution_count": 29,
     "metadata": {},
     "output_type": "execute_result"
    }
   ],
   "source": [
    "series_samples = (\n",
    "    sample2series\n",
    "    .reset_index()\n",
    "    .rename(columns={'index': 'stored_samples'})\n",
    "#     .assign(sample= lambda d: d['stored_samples'].map('GSM{}'.format))\n",
    "    .groupby('series')\n",
    "    .stored_samples\n",
    "    .apply(len)\n",
    "    .to_frame()\n",
    ")\n",
    "series_samples.head()"
   ]
  },
  {
   "cell_type": "code",
   "execution_count": 30,
   "metadata": {
    "collapsed": false
   },
   "outputs": [
    {
     "name": "stdout",
     "output_type": "stream",
     "text": [
      "(37485, 2)\n",
      "(37485, 4)\n"
     ]
    },
    {
     "data": {
      "text/html": [
       "<div>\n",
       "<table border=\"1\" class=\"dataframe\">\n",
       "  <thead>\n",
       "    <tr style=\"text-align: right;\">\n",
       "      <th></th>\n",
       "      <th>classes</th>\n",
       "      <th>annotated_samples</th>\n",
       "      <th>stored_samples</th>\n",
       "      <th>annotated_ratio</th>\n",
       "    </tr>\n",
       "    <tr>\n",
       "      <th>series</th>\n",
       "      <th></th>\n",
       "      <th></th>\n",
       "      <th></th>\n",
       "      <th></th>\n",
       "    </tr>\n",
       "  </thead>\n",
       "  <tbody>\n",
       "    <tr>\n",
       "      <th>GSE1</th>\n",
       "      <td>set([BTO:0000149, BTO:0001379, BTO:0000420, BT...</td>\n",
       "      <td>28</td>\n",
       "      <td>38</td>\n",
       "      <td>0.736842</td>\n",
       "    </tr>\n",
       "    <tr>\n",
       "      <th>GSE10</th>\n",
       "      <td>set([BTO:0001177, BTO:0000416, BTO:0001175, BT...</td>\n",
       "      <td>4</td>\n",
       "      <td>4</td>\n",
       "      <td>1.000000</td>\n",
       "    </tr>\n",
       "    <tr>\n",
       "      <th>GSE10000</th>\n",
       "      <td>set([BTO:0000135, BTO:0002010, BTO:0002976])</td>\n",
       "      <td>35</td>\n",
       "      <td>35</td>\n",
       "      <td>1.000000</td>\n",
       "    </tr>\n",
       "    <tr>\n",
       "      <th>GSE10001</th>\n",
       "      <td>set([BTO:0000759])</td>\n",
       "      <td>12</td>\n",
       "      <td>12</td>\n",
       "      <td>1.000000</td>\n",
       "    </tr>\n",
       "    <tr>\n",
       "      <th>GSE10002</th>\n",
       "      <td>set([BTO:0001471, BTO:0000371, BTO:0000414])</td>\n",
       "      <td>8</td>\n",
       "      <td>8</td>\n",
       "      <td>1.000000</td>\n",
       "    </tr>\n",
       "  </tbody>\n",
       "</table>\n",
       "</div>"
      ],
      "text/plain": [
       "                                                    classes  annotated_samples  stored_samples  annotated_ratio\n",
       "series                                                                                                         \n",
       "GSE1      set([BTO:0000149, BTO:0001379, BTO:0000420, BT...                 28              38         0.736842\n",
       "GSE10     set([BTO:0001177, BTO:0000416, BTO:0001175, BT...                  4               4         1.000000\n",
       "GSE10000       set([BTO:0000135, BTO:0002010, BTO:0002976])                 35              35         1.000000\n",
       "GSE10001                                 set([BTO:0000759])                 12              12         1.000000\n",
       "GSE10002       set([BTO:0001471, BTO:0000371, BTO:0000414])                  8               8         1.000000"
      ]
     },
     "execution_count": 30,
     "metadata": {},
     "output_type": "execute_result"
    }
   ],
   "source": [
    "print(res_series.shape)\n",
    "res_series_partial_annotated = (\n",
    "    res_series\n",
    "    .join(series_samples)\n",
    "    .query('annotated_samples <= stored_samples')\n",
    "    .assign(annotated_ratio=lambda d: d.annotated_samples.astype(float).combine(d.stored_samples, lambda a, s: a/s))\n",
    "#     .query('annotated_ratio > 0.2')\n",
    "#     .annotated_samples\n",
    "#     .sum()\n",
    "#     .query('annotated_samples < stored_samples and stored_samples < 501')\n",
    "#     .shape\n",
    ")\n",
    "print(res_series_partial_annotated.shape)\n",
    "res_series_partial_annotated.head()"
   ]
  },
  {
   "cell_type": "code",
   "execution_count": 31,
   "metadata": {
    "collapsed": false
   },
   "outputs": [],
   "source": [
    "def doid_id(item_id):\n",
    "    return \"BTO:{:07}\".format(item_id)\n",
    "\n",
    "\n",
    "def ontology_name(item_id):\n",
    "    if item_id not in ontology.meta:\n",
    "        return item_id\n",
    "    return ontology.meta[item_id].name\n",
    "\n",
    "\n",
    "def to_name(series_id):\n",
    "    return \"GSE{}\".format(series_id)\n",
    "\n",
    "def name(item_id):\n",
    "    return '{} ({})'.format(ontology_name(item_id), item_id)\n",
    "\n",
    "def names(df):\n",
    "    return df.applymap(lambda xs: [name(x) for x in xs])\n",
    "\n",
    "def sub_ontology(nodes, ontology):\n",
    "    subset = set(flatten([nx.shortest_path(ontology.graph, 'BTO:0001489', cls) for cls in nodes]))\n",
    "    for n in nodes:\n",
    "        subset.add(n)\n",
    "    return nx.subgraph(ontology.graph, subset)\n",
    "\n",
    "def matches_graph(matches, vd_classes=None, figsize=None, prog='neato'):\n",
    "    matches = [m for m in matches if m in ontology.graph.nodes()]\n",
    "    vd_classes = vd_classes or []\n",
    "    import matplotlib.pyplot as plt\n",
    "    figsize = figsize or (14, 10)\n",
    "    plt.figure(figsize=figsize) \n",
    "    import networkx as nx\n",
    "    \n",
    "    G = sub_ontology(matches + vd_classes, ontology)\n",
    "    pos=nx.pygraphviz_layout(G, prog=prog) \n",
    "    \n",
    "    labels = dict((k, v) for (k, v) in names_dict.items() if k in G.nodes())\n",
    "    nodes_other = [x for x in G.nodes() if x not in matches]\n",
    "    \n",
    "    nx.draw_networkx(G, labels=labels, \n",
    "            pos=pos, \n",
    "            node_size=400,\n",
    "            node_color='r',\n",
    "             alpha=0.5,\n",
    "            nodelist=matches)\n",
    "    \n",
    "    nx.draw_networkx(G, labels=labels, \n",
    "        pos=pos, \n",
    "        node_size=400,\n",
    "        node_color='w',\n",
    "         alpha=0.8,\n",
    "        nodelist=nodes_other)\n",
    "    \n",
    "    if vd_classes:\n",
    "        nx.draw_networkx(G, labels=labels, \n",
    "            pos=pos, \n",
    "            node_size=400,\n",
    "            node_color='g',\n",
    "            alpha=0.5,\n",
    "#             font_color='g',                     \n",
    "            nodelist=vd_classes)\n",
    "        \n",
    "    plt.show()\n",
    "\n",
    "    \n",
    "names_dict = dict((record.id, record.name) for record in ontology.meta.values())"
   ]
  },
  {
   "cell_type": "code",
   "execution_count": null,
   "metadata": {
    "collapsed": false
   },
   "outputs": [],
   "source": [
    "# cell_type_cancer = 'DOID:0050687'\n",
    "# organ_system_cancer = 'DOID:0050686'\n",
    "# cell_type_benign_neoplasm = 'DOID:0060084'\n",
    "# organ_system_benign_neoplasm = 'DOID:0060085'\n",
    "\n",
    "# @pymonad.curry\n",
    "# def exclude_similar_branches(ontology, classes):\n",
    "#     has_osc = any(ontology.has_path(organ_system_cancer, c) for c in classes)\n",
    "#     if has_osc:\n",
    "#         return [c for c in classes if not ontology.has_path(cell_type_cancer, c) \n",
    "# #                                       and not ontology.has_path(cell_type_benign_neoplasm, c)\n",
    "# #                                       and not ontology.has_path(organ_system_benign_neoplasm, c) \n",
    "#                ]\n",
    "#     else:\n",
    "#         return classes"
   ]
  },
  {
   "cell_type": "code",
   "execution_count": 32,
   "metadata": {
    "collapsed": false
   },
   "outputs": [],
   "source": [
    "root_disease = 'BTO:0001489'\n",
    "\n",
    "@pymonad.curry\n",
    "def exclude_wide_terms(ontology, classes):\n",
    "    threshold = 2\n",
    "    \n",
    "    return [c for c in classes \n",
    "            if len(nx.shortest_path(ontology.graph, root_disease, c)) > threshold]"
   ]
  },
  {
   "cell_type": "code",
   "execution_count": 33,
   "metadata": {
    "collapsed": true
   },
   "outputs": [],
   "source": [
    "results = pd.DataFrame(dict(\n",
    "        odinary=res_series_partial_annotated.classes,\n",
    "        collapsed=res_series_partial_annotated.classes.map(#exclude_wide_terms(ontology) *\n",
    "                                  collapse_matches(ontology.graph)),\n",
    "#                                      exclude_similar_branches(ontology) *\n",
    "#                                      collapse_matches(ontology.graph)),\n",
    "#         collapsed_syn=res.classes.map(\n",
    "#                                      exclude_wide_terms(ontology) *\n",
    "#                                      collapse_matches(syn_ontology.graph) *\n",
    "# #                                      exclude_similar_branches(ontology) *\n",
    "#                                      collapse_matches(ontology.graph)),\n",
    "        \n",
    "#         syn=res.classes.map(exclude_wide_terms(ontology) *\n",
    "#                             collapse_matches(syn_ontology.graph)),\n",
    "\n",
    "#         validation=validation_set.classes,\n",
    "        \n",
    "    )\n",
    ").applymap(lambda x: [] if isinstance(x, float) else x)"
   ]
  },
  {
   "cell_type": "code",
   "execution_count": 34,
   "metadata": {
    "collapsed": false
   },
   "outputs": [
    {
     "data": {
      "text/plain": [
       "array([[<matplotlib.axes._subplots.AxesSubplot object at 0x110c740f0>,\n",
       "        <matplotlib.axes._subplots.AxesSubplot object at 0x119a9ad30>,\n",
       "        <matplotlib.axes._subplots.AxesSubplot object at 0x1112c9eb8>]], dtype=object)"
      ]
     },
     "execution_count": 34,
     "metadata": {},
     "output_type": "execute_result"
    },
    {
     "data": {
      "image/png": "[encoded data removed]",
      "text/plain": [
       "<matplotlib.figure.Figure at 0x1130deeb8>"
      ]
     },
     "metadata": {},
     "output_type": "display_data"
    }
   ],
   "source": [
    "(\n",
    "    results\n",
    "    .applymap(len).hist(bins=range(0, 9), \n",
    "                        sharey=True, \n",
    "                        layout=(1, 3),\n",
    "                        figsize=(14, 6))\n",
    ")"
   ]
  },
  {
   "cell_type": "code",
   "execution_count": 35,
   "metadata": {
    "collapsed": false
   },
   "outputs": [],
   "source": [
    "# !rm -f ../data/geo-annotation/series.tissue.all.res1.pickle\n",
    "(\n",
    "    results\n",
    "    [results.collapsed.map(len) == 1]\n",
    "    .collapsed\n",
    "    .map(lambda x: x[0])\n",
    "    .rename(dict(collapsed='tissue'))\n",
    "    .to_frame()\n",
    "    .to_pickle('../data/geo-annotation/series.tissue.all.res3.pickle')\n",
    ")"
   ]
  },
  {
   "cell_type": "code",
   "execution_count": 36,
   "metadata": {
    "collapsed": false
   },
   "outputs": [
    {
     "data": {
      "text/html": [
       "<div>\n",
       "<table border=\"1\" class=\"dataframe\">\n",
       "  <thead>\n",
       "    <tr style=\"text-align: right;\">\n",
       "      <th></th>\n",
       "      <th>collapsed</th>\n",
       "      <th>odinary</th>\n",
       "    </tr>\n",
       "    <tr>\n",
       "      <th>series</th>\n",
       "      <th></th>\n",
       "      <th></th>\n",
       "    </tr>\n",
       "  </thead>\n",
       "  <tbody>\n",
       "    <tr>\n",
       "      <th>GSE1</th>\n",
       "      <td>[BTO:0000887, BTO:0000149, BTO:0000975, BTO:00...</td>\n",
       "      <td>set([BTO:0000149, BTO:0001379, BTO:0000420, BT...</td>\n",
       "    </tr>\n",
       "    <tr>\n",
       "      <th>GSE10</th>\n",
       "      <td>[BTO:0001177]</td>\n",
       "      <td>set([BTO:0001177, BTO:0000416, BTO:0001175, BT...</td>\n",
       "    </tr>\n",
       "    <tr>\n",
       "      <th>GSE10000</th>\n",
       "      <td>[BTO:0002976, BTO:0002010]</td>\n",
       "      <td>set([BTO:0000135, BTO:0002010, BTO:0002976])</td>\n",
       "    </tr>\n",
       "    <tr>\n",
       "      <th>GSE10001</th>\n",
       "      <td>[BTO:0000759]</td>\n",
       "      <td>set([BTO:0000759])</td>\n",
       "    </tr>\n",
       "    <tr>\n",
       "      <th>GSE10002</th>\n",
       "      <td>[BTO:0001471, BTO:0000371, BTO:0000414]</td>\n",
       "      <td>set([BTO:0001471, BTO:0000371, BTO:0000414])</td>\n",
       "    </tr>\n",
       "  </tbody>\n",
       "</table>\n",
       "</div>"
      ],
      "text/plain": [
       "                                                  collapsed                                            odinary\n",
       "series                                                                                                        \n",
       "GSE1      [BTO:0000887, BTO:0000149, BTO:0000975, BTO:00...  set([BTO:0000149, BTO:0001379, BTO:0000420, BT...\n",
       "GSE10                                         [BTO:0001177]  set([BTO:0001177, BTO:0000416, BTO:0001175, BT...\n",
       "GSE10000                         [BTO:0002976, BTO:0002010]       set([BTO:0000135, BTO:0002010, BTO:0002976])\n",
       "GSE10001                                      [BTO:0000759]                                 set([BTO:0000759])\n",
       "GSE10002            [BTO:0001471, BTO:0000371, BTO:0000414]       set([BTO:0001471, BTO:0000371, BTO:0000414])"
      ]
     },
     "execution_count": 36,
     "metadata": {},
     "output_type": "execute_result"
    }
   ],
   "source": [
    "results.head()"
   ]
  },
  {
   "cell_type": "code",
   "execution_count": 37,
   "metadata": {
    "collapsed": false
   },
   "outputs": [
    {
     "data": {
      "text/plain": [
       "646239"
      ]
     },
     "execution_count": 37,
     "metadata": {},
     "output_type": "execute_result"
    }
   ],
   "source": [
    "(\n",
    "    results.join(res_series_partial_annotated)\n",
    "#     .assign(collapsed_len=lambda d: d.collapsed.map(len))\n",
    "#     .query('collapsed_len == 1')\n",
    "    [results.collapsed.map(len) == 1]\n",
    "    .stored_samples\n",
    "    .sum()\n",
    ")"
   ]
  },
  {
   "cell_type": "code",
   "execution_count": 38,
   "metadata": {
    "collapsed": false
   },
   "outputs": [
    {
     "data": {
      "text/plain": [
       "(21553, 2)"
      ]
     },
     "execution_count": 38,
     "metadata": {},
     "output_type": "execute_result"
    }
   ],
   "source": [
    "(\n",
    "    results\n",
    "#     .assign(collapsed_len=lambda d: d.collapsed.map(len))\n",
    "#     .query('collapsed_len == 1')\n",
    "    [results.collapsed.map(len) == 1]\n",
    "    .shape\n",
    ")"
   ]
  }
 ],
 "metadata": {
  "kernelspec": {
   "display_name": "Python 3",
   "language": "python",
   "name": "python3"
  },
  "language_info": {
   "codemirror_mode": {
    "name": "ipython",
    "version": 3
   },
   "file_extension": ".py",
   "mimetype": "text/x-python",
   "name": "python",
   "nbconvert_exporter": "python",
   "pygments_lexer": "ipython3",
   "version": "3.4.3"
  }
 },
 "nbformat": 4,
 "nbformat_minor": 0
}
