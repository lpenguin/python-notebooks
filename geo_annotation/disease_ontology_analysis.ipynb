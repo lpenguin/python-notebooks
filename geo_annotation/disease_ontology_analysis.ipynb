{
 "cells": [
  {
   "cell_type": "code",
   "execution_count": 1,
   "metadata": {
    "collapsed": true
   },
   "outputs": [],
   "source": [
    "import sys\n",
    "sys.path.append('..')"
   ]
  },
  {
   "cell_type": "code",
   "execution_count": 2,
   "metadata": {
    "collapsed": true
   },
   "outputs": [],
   "source": [
    "from elasticsearch import Elasticsearch\n",
    "es = Elasticsearch()\n",
    "from lib.classification.elastic import search_item, build_synonyms_graph, analyze_digraph\n",
    "from lib.obo import read_ontology, Ontology\n",
    "from geo_annotation.import_ontology_es import import_ontology\n",
    "import networkx as nx\n",
    "import pandas as pd\n",
    "pd.set_option('display.width', 512)"
   ]
  },
  {
   "cell_type": "code",
   "execution_count": 3,
   "metadata": {
    "collapsed": false
   },
   "outputs": [
    {
     "data": {
      "text/plain": [
       "<module 'lib.classification.elastic' from '../lib/classification/elastic.py'>"
      ]
     },
     "execution_count": 3,
     "metadata": {},
     "output_type": "execute_result"
    }
   ],
   "source": [
    "from importlib import reload\n",
    "import lib.classification.elastic\n",
    "reload(lib.classification.elastic)"
   ]
  },
  {
   "cell_type": "code",
   "execution_count": 37,
   "metadata": {
    "collapsed": false
   },
   "outputs": [
    {
     "name": "stdout",
     "output_type": "stream",
     "text": [
      "Read obo graph\n",
      "Name: \n",
      "Type: DiGraph\n",
      "Number of nodes: 6593\n",
      "Number of edges: 6591\n",
      "Average in degree:   0.9997\n",
      "Average out degree:   0.9997\n"
     ]
    }
   ],
   "source": [
    "ontology = read_ontology('../data/geo-annotation/doid-patched.obo',\n",
    "                         exclude_duplicates=True)"
   ]
  },
  {
   "cell_type": "code",
   "execution_count": 38,
   "metadata": {
    "collapsed": true
   },
   "outputs": [],
   "source": [
    "# Убираем синонимы состоящие только из коротких слов  (len <= 2 )\n",
    "# (вообще ошибка происходит изза стоп-слов в Elasticsearch, но так проще)\n",
    "\n",
    "def cell():\n",
    "    import re\n",
    "    def tokenize(s):\n",
    "        return re.split(r'[^\\w\\d]+', s)\n",
    "    \n",
    "    def all_short(synonym):\n",
    "        return all(len(t) <= 2 for t in tokenize(synonym))\n",
    "    \n",
    "    for item_id, item in ontology.meta.items():\n",
    "        item.synonyms = [s for s in item.synonyms if not all_short(s)]\n",
    "\n",
    "cell()"
   ]
  },
  {
   "cell_type": "code",
   "execution_count": 39,
   "metadata": {
    "collapsed": false
   },
   "outputs": [
    {
     "data": {
      "text/plain": [
       "(6592, [])"
      ]
     },
     "execution_count": 39,
     "metadata": {},
     "output_type": "execute_result"
    }
   ],
   "source": [
    "import_ontology(ontology, 'disease_ontology')"
   ]
  },
  {
   "cell_type": "code",
   "execution_count": 44,
   "metadata": {
    "collapsed": false
   },
   "outputs": [],
   "source": [
    "syn_ontology = Ontology(build_synonyms_graph(ontology, es, 'disease_ontology'), list(ontology.items()))"
   ]
  },
  {
   "cell_type": "code",
   "execution_count": 45,
   "metadata": {
    "collapsed": false
   },
   "outputs": [
    {
     "name": "stdout",
     "output_type": "stream",
     "text": [
      "Name: \n",
      "Type: DiGraph\n",
      "Number of nodes: 5259\n",
      "Number of edges: 7083\n",
      "Average in degree:   1.3468\n",
      "Average out degree:   1.3468\n"
     ]
    }
   ],
   "source": [
    "print(nx.info(syn_ontology.graph))"
   ]
  },
  {
   "cell_type": "code",
   "execution_count": 46,
   "metadata": {
    "collapsed": false
   },
   "outputs": [
    {
     "data": {
      "text/plain": [
       "[]"
      ]
     },
     "execution_count": 46,
     "metadata": {},
     "output_type": "execute_result"
    }
   ],
   "source": [
    "bad_components = list(x for x in nx.strongly_connected_components(syn_ontology.graph) if len(x) > 1)\n",
    "bad_components"
   ]
  },
  {
   "cell_type": "code",
   "execution_count": 29,
   "metadata": {
    "collapsed": true
   },
   "outputs": [],
   "source": [
    "index = 0"
   ]
  },
  {
   "cell_type": "code",
   "execution_count": 23,
   "metadata": {
    "collapsed": true
   },
   "outputs": [],
   "source": []
  },
  {
   "cell_type": "code",
   "execution_count": 35,
   "metadata": {
    "collapsed": false
   },
   "outputs": [
    {
     "name": "stdout",
     "output_type": "stream",
     "text": [
      "components #3: {'DOID:3627', 'DOID:7693'}\n",
      "\n",
      "DOID:3627\n",
      "aortic aneurysm\n",
      "abdominal aortic aneurysm, ruptured\n",
      "aortic aneurysm of unspecified site, ruptured\n",
      "aortic aneurysm of unspecified site, ruptured (disorder)\n",
      "ruptured abdominal aortic aneurysm (disorder)\n",
      "ruptured aortic aneurysm (disorder)\n",
      "ruptured aortic aneurysm nos\n",
      "ruptured aortic aneurysm nos (disorder)\n",
      "ruptured thoracic aneurysm\n",
      "ruptured thoracic aortic aneurysm\n",
      "ruptured thoracic aortic aneurysm (disorder)\n",
      "ruptured thoracoabdominal aortic aneurysm\n",
      "thoracic aortic aneurysm which has ruptured (disorder)\n",
      "thoracic aortic aneurysm, ruptured\n",
      "thoracoabdominal aortic aneurysm, ruptured (disorder)\n",
      "\n",
      "DOID:7693\n",
      "abdominal aortic aneurysm\n",
      "aortic aneurysm, familial abdominal 1\n",
      "\n"
     ]
    }
   ],
   "source": [
    "def cell():\n",
    "    global index\n",
    "    comp = bad_components[index]\n",
    "    print('components #{}: {}'.format(index, comp))\n",
    "    print()\n",
    "    for node in comp:\n",
    "        print(node)\n",
    "        print('\\n'.join(syn_ontology.meta[node].names()))\n",
    "        print()\n",
    "    index += 1\n",
    "        \n",
    "cell()"
   ]
  },
  {
   "cell_type": "code",
   "execution_count": 36,
   "metadata": {
    "collapsed": false
   },
   "outputs": [
    {
     "data": {
      "image/png": "[encoded data removed]",
      "text/plain": [
       "<matplotlib.figure.Figure at 0x10de05eb8>"
      ]
     },
     "metadata": {},
     "output_type": "display_data"
    },
    {
     "data": {
      "image/png": "[encoded data removed]",
      "text/plain": [
       "<matplotlib.figure.Figure at 0x10dd200b8>"
      ]
     },
     "metadata": {},
     "output_type": "display_data"
    }
   ],
   "source": [
    "%matplotlib inline\n",
    "nx.draw(nx.subgraph(syn_ontology.graph, bad_components[index-1]), with_labels=True)\n",
    "matches_graph(ontology, bad_components[index-1])"
   ]
  },
  {
   "cell_type": "code",
   "execution_count": 15,
   "metadata": {
    "collapsed": true
   },
   "outputs": [],
   "source": [
    "from lib.utils import map_series, expand_dataframe, expand, flatten\n",
    "\n",
    "def sub_ontology(nodes, ontology):\n",
    "    subset = set(flatten([nx.shortest_path(ontology.graph, 'DOID:4', cls) for cls in nodes]))\n",
    "    for n in nodes:\n",
    "        subset.add(n)\n",
    "    return nx.subgraph(ontology.graph, subset)\n",
    "def matches_graph(ontology, matches, vd_classes=None, figsize=None, prog='neato'):\n",
    "    names_dict = dict([(item.id, item.name) for item in ontology.items()])\n",
    "    matches = [m for m in matches if m in ontology.graph.nodes()]\n",
    "    vd_classes = vd_classes or []\n",
    "    import matplotlib.pyplot as plt\n",
    "    figsize = figsize or (14, 10)\n",
    "    plt.figure(figsize=figsize) \n",
    "    import networkx as nx\n",
    "    \n",
    "    G = sub_ontology(list(matches) + vd_classes, ontology)\n",
    "    pos=nx.pygraphviz_layout(G, prog=prog) \n",
    "    \n",
    "    labels = dict((k, v) for (k, v) in names_dict.items() if k in G.nodes())\n",
    "    nodes_other = [x for x in G.nodes() if x not in matches]\n",
    "    \n",
    "    nx.draw_networkx(G, labels=labels, \n",
    "            pos=pos, \n",
    "            node_size=400,\n",
    "            node_color='r',\n",
    "             alpha=0.5,\n",
    "            nodelist=matches)\n",
    "    \n",
    "    nx.draw_networkx(G, labels=labels, \n",
    "        pos=pos, \n",
    "        node_size=400,\n",
    "        node_color='w',\n",
    "         alpha=0.8,\n",
    "        nodelist=nodes_other)\n",
    "    \n",
    "    if vd_classes:\n",
    "        nx.draw_networkx(G, labels=labels, \n",
    "            pos=pos, \n",
    "            node_size=400,\n",
    "            node_color='g',\n",
    "            alpha=0.5,\n",
    "#             font_color='g',                     \n",
    "            nodelist=vd_classes)\n",
    "        \n",
    "    plt.show()"
   ]
  },
  {
   "cell_type": "code",
   "execution_count": null,
   "metadata": {
    "collapsed": false
   },
   "outputs": [],
   "source": [
    "def cell():\n",
    "    q = errors[0:2]\n",
    "    d1 = q[0]\n",
    "    d2 = q[1]\n",
    "    def patch(d):\n",
    "        d = d.copy()\n",
    "        columns = ['first', 'second']\n",
    "        name = ', '.join(d.columns)\n",
    "        d.index = pd.MultiIndex.from_tuples([(name, n) for n in range(d.shape[0])])\n",
    "        d.columns = columns\n",
    "        return d\n",
    "    return pd.concat([patch(d) for d in errors])    \n",
    "import qgrid\n",
    "\n",
    "qgrid.show_grid(cell())\n"
   ]
  },
  {
   "cell_type": "code",
   "execution_count": null,
   "metadata": {
    "collapsed": false
   },
   "outputs": [],
   "source": [
    "for e in errors:\n",
    "    print(e)\n",
    "    print()"
   ]
  },
  {
   "cell_type": "code",
   "execution_count": null,
   "metadata": {
    "collapsed": true
   },
   "outputs": [],
   "source": []
  }
 ],
 "metadata": {
  "kernelspec": {
   "display_name": "Python 3",
   "language": "python",
   "name": "python3"
  },
  "language_info": {
   "codemirror_mode": {
    "name": "ipython",
    "version": 3
   },
   "file_extension": ".py",
   "mimetype": "text/x-python",
   "name": "python",
   "nbconvert_exporter": "python",
   "pygments_lexer": "ipython3",
   "version": "3.4.3"
  }
 },
 "nbformat": 4,
 "nbformat_minor": 0
}
