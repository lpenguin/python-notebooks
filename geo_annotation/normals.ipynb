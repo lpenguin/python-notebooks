{
 "cells": [
  {
   "cell_type": "markdown",
   "metadata": {},
   "source": [
    "## Поиск норм"
   ]
  },
  {
   "cell_type": "code",
   "execution_count": 3,
   "metadata": {
    "collapsed": true
   },
   "outputs": [],
   "source": [
    "import pandas as pd\n",
    "import pymongo as pm\n",
    "import elasticsearch"
   ]
  },
  {
   "cell_type": "code",
   "execution_count": 4,
   "metadata": {
    "collapsed": true
   },
   "outputs": [],
   "source": [
    "import sys\n",
    "sys.path.append('..')\n",
    "from importlib import reload\n",
    "from os.path import exists\n",
    "\n",
    "import networkx as nx\n",
    "import numpy as np\n",
    "import pandas as pd\n",
    "import lib.obo\n",
    "import lib.classification.elastic\n",
    "import lib.classification.validation\n",
    "import lib.utils\n",
    "import data\n",
    "import pymonad\n",
    "\n",
    "reload(lib.classification.validation)\n",
    "reload(lib.classification.elastic)\n",
    "reload(lib.obo)\n",
    "reload(lib.utils)\n",
    "reload(data)\n",
    "\n",
    "from lib.classification.elastic import annotate_index, collapse_matches, build_synonyms_graph, search_term\n",
    "from lib.utils import map_series, expand_dataframe, expand, flatten\n",
    "from lib.classification.validation import correct_ratio, incorrect_ratio, perfect_match\n",
    "from geo_annotation.import_ontology_es import import_ontology\n",
    "from elasticsearch import Elasticsearch\n",
    "from lib.obo import read_ontology, Ontology\n",
    "pd.set_option('display.width', 512)"
   ]
  },
  {
   "cell_type": "code",
   "execution_count": 5,
   "metadata": {
    "collapsed": true
   },
   "outputs": [],
   "source": [
    "es = elasticsearch.Elasticsearch()"
   ]
  },
  {
   "cell_type": "code",
   "execution_count": 6,
   "metadata": {
    "collapsed": true
   },
   "outputs": [],
   "source": [
    "normal_terms = ['normal', 'control', 'reference', 'healthy']"
   ]
  },
  {
   "cell_type": "code",
   "execution_count": 5,
   "metadata": {
    "collapsed": true
   },
   "outputs": [],
   "source": [
    "norms = search_term(es=es,\n",
    "                    term=normal_terms,\n",
    "                    index='samples',\n",
    "                    id_field='accession',\n",
    "                    fields=['title', 'characteristics_raw', 'source_name'])"
   ]
  },
  {
   "cell_type": "code",
   "execution_count": 6,
   "metadata": {
    "collapsed": false
   },
   "outputs": [
    {
     "data": {
      "text/plain": [
       "376742"
      ]
     },
     "execution_count": 6,
     "metadata": {},
     "output_type": "execute_result"
    }
   ],
   "source": [
    "len(norms)"
   ]
  },
  {
   "cell_type": "code",
   "execution_count": 10,
   "metadata": {
    "collapsed": false
   },
   "outputs": [
    {
     "data": {
      "text/html": [
       "<div>\n",
       "<table border=\"1\" class=\"dataframe\">\n",
       "  <thead>\n",
       "    <tr style=\"text-align: right;\">\n",
       "      <th></th>\n",
       "      <th>accession</th>\n",
       "    </tr>\n",
       "  </thead>\n",
       "  <tbody>\n",
       "    <tr>\n",
       "      <th>0</th>\n",
       "      <td>GSM1422840</td>\n",
       "    </tr>\n",
       "    <tr>\n",
       "      <th>1</th>\n",
       "      <td>GSM1422847</td>\n",
       "    </tr>\n",
       "    <tr>\n",
       "      <th>2</th>\n",
       "      <td>GSM1422852</td>\n",
       "    </tr>\n",
       "    <tr>\n",
       "      <th>3</th>\n",
       "      <td>GSM1422846</td>\n",
       "    </tr>\n",
       "    <tr>\n",
       "      <th>4</th>\n",
       "      <td>GSM1422851</td>\n",
       "    </tr>\n",
       "  </tbody>\n",
       "</table>\n",
       "</div>"
      ],
      "text/plain": [
       "    accession\n",
       "0  GSM1422840\n",
       "1  GSM1422847\n",
       "2  GSM1422852\n",
       "3  GSM1422846\n",
       "4  GSM1422851"
      ]
     },
     "execution_count": 10,
     "metadata": {},
     "output_type": "execute_result"
    }
   ],
   "source": [
    "norms_df = pd.DataFrame(dict(accession=norms))\n",
    "norms_df.head()"
   ]
  },
  {
   "cell_type": "code",
   "execution_count": 11,
   "metadata": {
    "collapsed": true
   },
   "outputs": [],
   "source": [
    "norms_df.to_pickle('../data/geo-annotation/norms.v1.pickle')"
   ]
  },
  {
   "cell_type": "code",
   "execution_count": 7,
   "metadata": {
    "collapsed": true
   },
   "outputs": [],
   "source": [
    "norms_df = pd.read_pickle('../data/geo-annotation/norms.v1.pickle')"
   ]
  },
  {
   "cell_type": "code",
   "execution_count": 13,
   "metadata": {
    "collapsed": false
   },
   "outputs": [],
   "source": [
    "samples_series = (\n",
    "    pd.read_pickle('../data/geo-annotation/samples_series.v1.pickle')\n",
    "    .rename(columns={0: 'accession', 1: 'series'})\n",
    ")"
   ]
  },
  {
   "cell_type": "code",
   "execution_count": 14,
   "metadata": {
    "collapsed": false
   },
   "outputs": [
    {
     "data": {
      "text/html": [
       "<div>\n",
       "<table border=\"1\" class=\"dataframe\">\n",
       "  <thead>\n",
       "    <tr style=\"text-align: right;\">\n",
       "      <th></th>\n",
       "      <th>accession</th>\n",
       "      <th>series</th>\n",
       "    </tr>\n",
       "  </thead>\n",
       "  <tbody>\n",
       "    <tr>\n",
       "      <th>0</th>\n",
       "      <td>GSM1</td>\n",
       "      <td>GSE506</td>\n",
       "    </tr>\n",
       "    <tr>\n",
       "      <th>1</th>\n",
       "      <td>GSM2</td>\n",
       "      <td>GSE506</td>\n",
       "    </tr>\n",
       "    <tr>\n",
       "      <th>2</th>\n",
       "      <td>GSM3</td>\n",
       "      <td>GSE462</td>\n",
       "    </tr>\n",
       "    <tr>\n",
       "      <th>3</th>\n",
       "      <td>GSM4</td>\n",
       "      <td>GSE462</td>\n",
       "    </tr>\n",
       "    <tr>\n",
       "      <th>4</th>\n",
       "      <td>GSM5</td>\n",
       "      <td>GSE462</td>\n",
       "    </tr>\n",
       "  </tbody>\n",
       "</table>\n",
       "</div>"
      ],
      "text/plain": [
       "  accession  series\n",
       "0      GSM1  GSE506\n",
       "1      GSM2  GSE506\n",
       "2      GSM3  GSE462\n",
       "3      GSM4  GSE462\n",
       "4      GSM5  GSE462"
      ]
     },
     "execution_count": 14,
     "metadata": {},
     "output_type": "execute_result"
    }
   ],
   "source": [
    "samples_series.head()"
   ]
  },
  {
   "cell_type": "code",
   "execution_count": null,
   "metadata": {
    "collapsed": true
   },
   "outputs": [],
   "source": [
    "s"
   ]
  },
  {
   "cell_type": "code",
   "execution_count": 11,
   "metadata": {
    "collapsed": false
   },
   "outputs": [
    {
     "data": {
      "text/html": [
       "<div>\n",
       "<table border=\"1\" class=\"dataframe\">\n",
       "  <thead>\n",
       "    <tr style=\"text-align: right;\">\n",
       "      <th></th>\n",
       "      <th>accession</th>\n",
       "      <th>norm</th>\n",
       "    </tr>\n",
       "  </thead>\n",
       "  <tbody>\n",
       "    <tr>\n",
       "      <th>0</th>\n",
       "      <td>GSM1422840</td>\n",
       "      <td>1</td>\n",
       "    </tr>\n",
       "    <tr>\n",
       "      <th>1</th>\n",
       "      <td>GSM1422847</td>\n",
       "      <td>1</td>\n",
       "    </tr>\n",
       "    <tr>\n",
       "      <th>2</th>\n",
       "      <td>GSM1422852</td>\n",
       "      <td>1</td>\n",
       "    </tr>\n",
       "    <tr>\n",
       "      <th>3</th>\n",
       "      <td>GSM1422846</td>\n",
       "      <td>1</td>\n",
       "    </tr>\n",
       "    <tr>\n",
       "      <th>4</th>\n",
       "      <td>GSM1422851</td>\n",
       "      <td>1</td>\n",
       "    </tr>\n",
       "  </tbody>\n",
       "</table>\n",
       "</div>"
      ],
      "text/plain": [
       "    accession  norm\n",
       "0  GSM1422840     1\n",
       "1  GSM1422847     1\n",
       "2  GSM1422852     1\n",
       "3  GSM1422846     1\n",
       "4  GSM1422851     1"
      ]
     },
     "execution_count": 11,
     "metadata": {},
     "output_type": "execute_result"
    }
   ],
   "source": [
    "norms_df['norm'] = 1\n",
    "norms_df.head()"
   ]
  },
  {
   "cell_type": "code",
   "execution_count": 15,
   "metadata": {
    "collapsed": false
   },
   "outputs": [
    {
     "name": "stdout",
     "output_type": "stream",
     "text": [
      "(2425973, 3)\n"
     ]
    },
    {
     "data": {
      "text/html": [
       "<div>\n",
       "<table border=\"1\" class=\"dataframe\">\n",
       "  <thead>\n",
       "    <tr style=\"text-align: right;\">\n",
       "      <th></th>\n",
       "      <th>accession</th>\n",
       "      <th>norm</th>\n",
       "      <th>series</th>\n",
       "    </tr>\n",
       "  </thead>\n",
       "  <tbody>\n",
       "    <tr>\n",
       "      <th>0</th>\n",
       "      <td>GSM1422840</td>\n",
       "      <td>1</td>\n",
       "      <td>GSE58949</td>\n",
       "    </tr>\n",
       "    <tr>\n",
       "      <th>1</th>\n",
       "      <td>GSM1422847</td>\n",
       "      <td>1</td>\n",
       "      <td>GSE58949</td>\n",
       "    </tr>\n",
       "    <tr>\n",
       "      <th>2</th>\n",
       "      <td>GSM1422852</td>\n",
       "      <td>1</td>\n",
       "      <td>GSE58949</td>\n",
       "    </tr>\n",
       "    <tr>\n",
       "      <th>3</th>\n",
       "      <td>GSM1422846</td>\n",
       "      <td>1</td>\n",
       "      <td>GSE58949</td>\n",
       "    </tr>\n",
       "    <tr>\n",
       "      <th>4</th>\n",
       "      <td>GSM1422851</td>\n",
       "      <td>1</td>\n",
       "      <td>GSE58949</td>\n",
       "    </tr>\n",
       "  </tbody>\n",
       "</table>\n",
       "</div>"
      ],
      "text/plain": [
       "    accession  norm    series\n",
       "0  GSM1422840     1  GSE58949\n",
       "1  GSM1422847     1  GSE58949\n",
       "2  GSM1422852     1  GSE58949\n",
       "3  GSM1422846     1  GSE58949\n",
       "4  GSM1422851     1  GSE58949"
      ]
     },
     "execution_count": 15,
     "metadata": {},
     "output_type": "execute_result"
    }
   ],
   "source": [
    "samples_with_norms = (\n",
    "    pd.merge(norms_df, samples_series, how='right')\n",
    "    .drop_duplicates(subset=['accession', 'series'])\n",
    "    .fillna(0)\n",
    ")\n",
    "print(samples_with_norms.shape)\n",
    "samples_with_norms.head()"
   ]
  },
  {
   "cell_type": "markdown",
   "metadata": {},
   "source": [
    "## Norms count in dataset analysis"
   ]
  },
  {
   "cell_type": "code",
   "execution_count": 17,
   "metadata": {
    "collapsed": false
   },
   "outputs": [
    {
     "data": {
      "text/plain": [
       "(66842,)"
      ]
     },
     "execution_count": 17,
     "metadata": {},
     "output_type": "execute_result"
    }
   ],
   "source": [
    "samples_with_norms.series.unique().shape"
   ]
  },
  {
   "cell_type": "code",
   "execution_count": 16,
   "metadata": {
    "collapsed": false
   },
   "outputs": [
    {
     "data": {
      "text/plain": [
       "(21017, 2)"
      ]
     },
     "execution_count": 16,
     "metadata": {},
     "output_type": "execute_result"
    }
   ],
   "source": [
    "(\n",
    "    samples_with_norms\n",
    "    .groupby('series')\n",
    "    .agg(dict(norm=lambda norms: sum(norms)/len(norms), accession=len))\n",
    "    .query('norm > 0')\n",
    "#     .accession\n",
    "#     .sum()\n",
    "    .shape\n",
    ")"
   ]
  },
  {
   "cell_type": "code",
   "execution_count": 20,
   "metadata": {
    "collapsed": false
   },
   "outputs": [
    {
     "data": {
      "text/plain": [
       "(15191, 2)"
      ]
     },
     "execution_count": 20,
     "metadata": {},
     "output_type": "execute_result"
    }
   ],
   "source": [
    "(\n",
    "    samples_with_norms\n",
    "    .groupby('series')\n",
    "    .agg(dict(norm=lambda norms: sum(norms)/len(norms), accession=len))\n",
    "    .query('0 < norm < 0.8')\n",
    "    .shape\n",
    ")"
   ]
  },
  {
   "cell_type": "code",
   "execution_count": 29,
   "metadata": {
    "collapsed": false
   },
   "outputs": [],
   "source": [
    "shapes = [(\n",
    "    samples_with_norms\n",
    "    .groupby('series')\n",
    "    .agg(dict(norm=lambda norms: sum(norms)/len(norms), accession=len))\n",
    "    .query('0 < norm < {}'.format(float(i/10)))\n",
    "    .shape[0]\n",
    ") for i in range(0, 11, 1)]"
   ]
  },
  {
   "cell_type": "code",
   "execution_count": 30,
   "metadata": {
    "collapsed": false
   },
   "outputs": [
    {
     "data": {
      "text/plain": [
       "[(0, 2),\n",
       " (797, 2),\n",
       " (2267, 2),\n",
       " (4590, 2),\n",
       " (7033, 2),\n",
       " (8191, 2),\n",
       " (14285, 2),\n",
       " (14878, 2),\n",
       " (15191, 2),\n",
       " (15362, 2),\n",
       " (15448, 2)]"
      ]
     },
     "execution_count": 30,
     "metadata": {},
     "output_type": "execute_result"
    }
   ],
   "source": [
    "shapes"
   ]
  },
  {
   "cell_type": "code",
   "execution_count": 34,
   "metadata": {
    "collapsed": false
   },
   "outputs": [],
   "source": [
    "good_series = (\n",
    "    samples_with_norms\n",
    "    .groupby('series')\n",
    "    .agg(dict(norm=lambda norms: sum(norms)/len(norms), accession=len))\n",
    "    .query('0 < norm < 0.7')\n",
    "    .index\n",
    ")"
   ]
  },
  {
   "cell_type": "code",
   "execution_count": 39,
   "metadata": {
    "collapsed": false
   },
   "outputs": [],
   "source": [
    "(\n",
    "    samples_with_norms\n",
    "    [samples_with_norms.series.isin(good_series)]\n",
    "    .drop('series', axis=1)\n",
    "    .drop_duplicates()\n",
    "#     .shape\n",
    "    .to_pickle('../data/geo-annotation/samples.norms.07.res4.pickle')\n",
    ")"
   ]
  },
  {
   "cell_type": "code",
   "execution_count": 40,
   "metadata": {
    "collapsed": true
   },
   "outputs": [],
   "source": [
    "# samples_with_norms = pd.read_pickle('../data/geo-annotation/samples.norms.res3.pickle')"
   ]
  }
 ],
 "metadata": {
  "kernelspec": {
   "display_name": "Python 3",
   "language": "python",
   "name": "python3"
  },
  "language_info": {
   "codemirror_mode": {
    "name": "ipython",
    "version": 3
   },
   "file_extension": ".py",
   "mimetype": "text/x-python",
   "name": "python",
   "nbconvert_exporter": "python",
   "pygments_lexer": "ipython3",
   "version": "3.4.0"
  }
 },
 "nbformat": 4,
 "nbformat_minor": 0
}
