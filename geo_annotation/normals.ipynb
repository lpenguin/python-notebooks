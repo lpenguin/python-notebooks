{
 "cells": [
  {
   "cell_type": "code",
   "execution_count": 1,
   "metadata": {
    "collapsed": true
   },
   "outputs": [],
   "source": [
    "import pandas as pd\n",
    "import pymongo as pm\n",
    "import elasticsearch"
   ]
  },
  {
   "cell_type": "code",
   "execution_count": 2,
   "metadata": {
    "collapsed": true
   },
   "outputs": [],
   "source": [
    "import sys\n",
    "sys.path.append('..')\n",
    "from importlib import reload\n",
    "from os.path import exists\n",
    "\n",
    "import networkx as nx\n",
    "import numpy as np\n",
    "import pandas as pd\n",
    "import lib.obo\n",
    "import lib.classification.elastic\n",
    "import lib.classification.validation\n",
    "import lib.utils\n",
    "import data\n",
    "import pymonad\n",
    "\n",
    "reload(lib.classification.validation)\n",
    "reload(lib.classification.elastic)\n",
    "reload(lib.obo)\n",
    "reload(lib.utils)\n",
    "reload(data)\n",
    "\n",
    "from lib.classification.elastic import annotate_index, collapse_matches, build_synonyms_graph, search_term\n",
    "from lib.utils import map_series, expand_dataframe, expand, flatten\n",
    "from lib.classification.validation import correct_ratio, incorrect_ratio, perfect_match\n",
    "from geo_annotation.import_ontology_es import import_ontology\n",
    "from elasticsearch import Elasticsearch\n",
    "from lib.obo import read_ontology, Ontology\n",
    "pd.set_option('display.width', 512)"
   ]
  },
  {
   "cell_type": "code",
   "execution_count": 3,
   "metadata": {
    "collapsed": true
   },
   "outputs": [],
   "source": [
    "es = elasticsearch.Elasticsearch()"
   ]
  },
  {
   "cell_type": "code",
   "execution_count": 4,
   "metadata": {
    "collapsed": true
   },
   "outputs": [],
   "source": [
    "normal_terms = ['normal', 'control', 'reference', 'healthy']"
   ]
  },
  {
   "cell_type": "code",
   "execution_count": 5,
   "metadata": {
    "collapsed": true
   },
   "outputs": [],
   "source": [
    "norms = search_term(es=es,\n",
    "            term=normal_terms,\n",
    "            index='samples',\n",
    "            fields=['title', 'characteristics_raw', 'source_name'])"
   ]
  },
  {
   "cell_type": "code",
   "execution_count": 6,
   "metadata": {
    "collapsed": false
   },
   "outputs": [
    {
     "data": {
      "text/plain": [
       "315535"
      ]
     },
     "execution_count": 6,
     "metadata": {},
     "output_type": "execute_result"
    }
   ],
   "source": [
    "len(norms)"
   ]
  },
  {
   "cell_type": "code",
   "execution_count": 8,
   "metadata": {
    "collapsed": false
   },
   "outputs": [
    {
     "data": {
      "text/plain": [
       "409931"
      ]
     },
     "execution_count": 8,
     "metadata": {},
     "output_type": "execute_result"
    }
   ],
   "source": [
    "norms_all = search_term(es=es,\n",
    "            term=normal_terms,\n",
    "            fields=['title', 'characteristics_raw', 'source_name', 'description'],\n",
    "            index='samples')\n",
    "len(norms_all)"
   ]
  },
  {
   "cell_type": "code",
   "execution_count": 9,
   "metadata": {
    "collapsed": false
   },
   "outputs": [
    {
     "data": {
      "text/html": [
       "<div>\n",
       "<table border=\"1\" class=\"dataframe\">\n",
       "  <thead>\n",
       "    <tr style=\"text-align: right;\">\n",
       "      <th></th>\n",
       "      <th>accession</th>\n",
       "    </tr>\n",
       "  </thead>\n",
       "  <tbody>\n",
       "    <tr>\n",
       "      <th>0</th>\n",
       "      <td>GSM305072</td>\n",
       "    </tr>\n",
       "    <tr>\n",
       "      <th>1</th>\n",
       "      <td>GSM305305</td>\n",
       "    </tr>\n",
       "    <tr>\n",
       "      <th>2</th>\n",
       "      <td>GSM305310</td>\n",
       "    </tr>\n",
       "    <tr>\n",
       "      <th>3</th>\n",
       "      <td>GSM1422841</td>\n",
       "    </tr>\n",
       "    <tr>\n",
       "      <th>4</th>\n",
       "      <td>GSM1422846</td>\n",
       "    </tr>\n",
       "  </tbody>\n",
       "</table>\n",
       "</div>"
      ],
      "text/plain": [
       "    accession\n",
       "0   GSM305072\n",
       "1   GSM305305\n",
       "2   GSM305310\n",
       "3  GSM1422841\n",
       "4  GSM1422846"
      ]
     },
     "execution_count": 9,
     "metadata": {},
     "output_type": "execute_result"
    }
   ],
   "source": [
    "norms_df = pd.DataFrame(dict(accession=list(map('GSM{}'.format, norms))))\n",
    "norms_df.head()"
   ]
  },
  {
   "cell_type": "code",
   "execution_count": 11,
   "metadata": {
    "collapsed": false
   },
   "outputs": [
    {
     "data": {
      "text/html": [
       "<div>\n",
       "<table border=\"1\" class=\"dataframe\">\n",
       "  <thead>\n",
       "    <tr style=\"text-align: right;\">\n",
       "      <th></th>\n",
       "      <th>accession</th>\n",
       "    </tr>\n",
       "  </thead>\n",
       "  <tbody>\n",
       "    <tr>\n",
       "      <th>0</th>\n",
       "      <td>GSM1063144</td>\n",
       "    </tr>\n",
       "    <tr>\n",
       "      <th>1</th>\n",
       "      <td>GSM855974</td>\n",
       "    </tr>\n",
       "    <tr>\n",
       "      <th>2</th>\n",
       "      <td>GSM305072</td>\n",
       "    </tr>\n",
       "    <tr>\n",
       "      <th>3</th>\n",
       "      <td>GSM305305</td>\n",
       "    </tr>\n",
       "    <tr>\n",
       "      <th>4</th>\n",
       "      <td>GSM305310</td>\n",
       "    </tr>\n",
       "  </tbody>\n",
       "</table>\n",
       "</div>"
      ],
      "text/plain": [
       "    accession\n",
       "0  GSM1063144\n",
       "1   GSM855974\n",
       "2   GSM305072\n",
       "3   GSM305305\n",
       "4   GSM305310"
      ]
     },
     "execution_count": 11,
     "metadata": {},
     "output_type": "execute_result"
    }
   ],
   "source": [
    "norms_all_df = pd.DataFrame(dict(accession=list(map('GSM{}'.format, norms_all))))\n",
    "norms_all_df.head()"
   ]
  },
  {
   "cell_type": "code",
   "execution_count": 13,
   "metadata": {
    "collapsed": true
   },
   "outputs": [],
   "source": [
    "norms_df.to_pickle('../data/geo-annotation/norms.py.pickle')"
   ]
  },
  {
   "cell_type": "code",
   "execution_count": 12,
   "metadata": {
    "collapsed": false
   },
   "outputs": [],
   "source": [
    "norms_all_df.to_pickle('../data/geo-annotation/norms_all.py.pickle')"
   ]
  },
  {
   "cell_type": "code",
   "execution_count": 15,
   "metadata": {
    "collapsed": true
   },
   "outputs": [],
   "source": [
    "db = pm.MongoClient().scraper_meta"
   ]
  },
  {
   "cell_type": "code",
   "execution_count": 16,
   "metadata": {
    "collapsed": false
   },
   "outputs": [
    {
     "data": {
      "text/html": [
       "<div>\n",
       "<table border=\"1\" class=\"dataframe\">\n",
       "  <thead>\n",
       "    <tr style=\"text-align: right;\">\n",
       "      <th></th>\n",
       "      <th>accession</th>\n",
       "      <th>series</th>\n",
       "    </tr>\n",
       "  </thead>\n",
       "  <tbody>\n",
       "    <tr>\n",
       "      <th>0</th>\n",
       "      <td>GSM1</td>\n",
       "      <td>[GSE506]</td>\n",
       "    </tr>\n",
       "    <tr>\n",
       "      <th>1</th>\n",
       "      <td>GSM2</td>\n",
       "      <td>[GSE506]</td>\n",
       "    </tr>\n",
       "    <tr>\n",
       "      <th>2</th>\n",
       "      <td>GSM3</td>\n",
       "      <td>[GSE462]</td>\n",
       "    </tr>\n",
       "    <tr>\n",
       "      <th>3</th>\n",
       "      <td>GSM4</td>\n",
       "      <td>[GSE462]</td>\n",
       "    </tr>\n",
       "    <tr>\n",
       "      <th>4</th>\n",
       "      <td>GSM5</td>\n",
       "      <td>[GSE462]</td>\n",
       "    </tr>\n",
       "  </tbody>\n",
       "</table>\n",
       "</div>"
      ],
      "text/plain": [
       "  accession    series\n",
       "0      GSM1  [GSE506]\n",
       "1      GSM2  [GSE506]\n",
       "2      GSM3  [GSE462]\n",
       "3      GSM4  [GSE462]\n",
       "4      GSM5  [GSE462]"
      ]
     },
     "execution_count": 16,
     "metadata": {},
     "output_type": "execute_result"
    }
   ],
   "source": [
    "samples = pd.DataFrame(list(db.samples.find({}, {'_id': 0, 'accession': 1, 'series': 1})))\n",
    "samples.head()"
   ]
  },
  {
   "cell_type": "code",
   "execution_count": 17,
   "metadata": {
    "collapsed": true
   },
   "outputs": [],
   "source": [
    "samples_series = pd.DataFrame.from_records([(accession, serie) \n",
    "                                      for _, (accession, series) in samples.iterrows() \n",
    "                                      for serie in series],\n",
    "                                    columns=['accession', 'series'])\n",
    "samples_series.head()"
   ]
  },
  {
   "cell_type": "code",
   "execution_count": 18,
   "metadata": {
    "collapsed": false
   },
   "outputs": [
    {
     "data": {
      "text/html": [
       "<div>\n",
       "<table border=\"1\" class=\"dataframe\">\n",
       "  <thead>\n",
       "    <tr style=\"text-align: right;\">\n",
       "      <th></th>\n",
       "      <th>accession</th>\n",
       "      <th>series</th>\n",
       "    </tr>\n",
       "  </thead>\n",
       "  <tbody>\n",
       "    <tr>\n",
       "      <th>0</th>\n",
       "      <td>GSM1</td>\n",
       "      <td>GSE506</td>\n",
       "    </tr>\n",
       "    <tr>\n",
       "      <th>1</th>\n",
       "      <td>GSM2</td>\n",
       "      <td>GSE506</td>\n",
       "    </tr>\n",
       "    <tr>\n",
       "      <th>2</th>\n",
       "      <td>GSM3</td>\n",
       "      <td>GSE462</td>\n",
       "    </tr>\n",
       "    <tr>\n",
       "      <th>3</th>\n",
       "      <td>GSM4</td>\n",
       "      <td>GSE462</td>\n",
       "    </tr>\n",
       "    <tr>\n",
       "      <th>4</th>\n",
       "      <td>GSM5</td>\n",
       "      <td>GSE462</td>\n",
       "    </tr>\n",
       "  </tbody>\n",
       "</table>\n",
       "</div>"
      ],
      "text/plain": [
       "  accession  series\n",
       "0      GSM1  GSE506\n",
       "1      GSM2  GSE506\n",
       "2      GSM3  GSE462\n",
       "3      GSM4  GSE462\n",
       "4      GSM5  GSE462"
      ]
     },
     "execution_count": 18,
     "metadata": {},
     "output_type": "execute_result"
    }
   ],
   "source": []
  },
  {
   "cell_type": "code",
   "execution_count": 20,
   "metadata": {
    "collapsed": false
   },
   "outputs": [
    {
     "data": {
      "text/html": [
       "<div>\n",
       "<table border=\"1\" class=\"dataframe\">\n",
       "  <thead>\n",
       "    <tr style=\"text-align: right;\">\n",
       "      <th></th>\n",
       "      <th>accession</th>\n",
       "      <th>norm</th>\n",
       "    </tr>\n",
       "  </thead>\n",
       "  <tbody>\n",
       "    <tr>\n",
       "      <th>0</th>\n",
       "      <td>GSM305072</td>\n",
       "      <td>1</td>\n",
       "    </tr>\n",
       "    <tr>\n",
       "      <th>1</th>\n",
       "      <td>GSM305305</td>\n",
       "      <td>1</td>\n",
       "    </tr>\n",
       "    <tr>\n",
       "      <th>2</th>\n",
       "      <td>GSM305310</td>\n",
       "      <td>1</td>\n",
       "    </tr>\n",
       "    <tr>\n",
       "      <th>3</th>\n",
       "      <td>GSM1422841</td>\n",
       "      <td>1</td>\n",
       "    </tr>\n",
       "    <tr>\n",
       "      <th>4</th>\n",
       "      <td>GSM1422846</td>\n",
       "      <td>1</td>\n",
       "    </tr>\n",
       "  </tbody>\n",
       "</table>\n",
       "</div>"
      ],
      "text/plain": [
       "    accession  norm\n",
       "0   GSM305072     1\n",
       "1   GSM305305     1\n",
       "2   GSM305310     1\n",
       "3  GSM1422841     1\n",
       "4  GSM1422846     1"
      ]
     },
     "execution_count": 20,
     "metadata": {},
     "output_type": "execute_result"
    }
   ],
   "source": [
    "norms_df['norm'] = 1\n",
    "norms_df.head()"
   ]
  },
  {
   "cell_type": "code",
   "execution_count": 19,
   "metadata": {
    "collapsed": false
   },
   "outputs": [
    {
     "data": {
      "text/html": [
       "<div>\n",
       "<table border=\"1\" class=\"dataframe\">\n",
       "  <thead>\n",
       "    <tr style=\"text-align: right;\">\n",
       "      <th></th>\n",
       "      <th>accession</th>\n",
       "      <th>norm</th>\n",
       "    </tr>\n",
       "  </thead>\n",
       "  <tbody>\n",
       "    <tr>\n",
       "      <th>0</th>\n",
       "      <td>GSM1063144</td>\n",
       "      <td>1</td>\n",
       "    </tr>\n",
       "    <tr>\n",
       "      <th>1</th>\n",
       "      <td>GSM855974</td>\n",
       "      <td>1</td>\n",
       "    </tr>\n",
       "    <tr>\n",
       "      <th>2</th>\n",
       "      <td>GSM305072</td>\n",
       "      <td>1</td>\n",
       "    </tr>\n",
       "    <tr>\n",
       "      <th>3</th>\n",
       "      <td>GSM305305</td>\n",
       "      <td>1</td>\n",
       "    </tr>\n",
       "    <tr>\n",
       "      <th>4</th>\n",
       "      <td>GSM305310</td>\n",
       "      <td>1</td>\n",
       "    </tr>\n",
       "  </tbody>\n",
       "</table>\n",
       "</div>"
      ],
      "text/plain": [
       "    accession  norm\n",
       "0  GSM1063144     1\n",
       "1   GSM855974     1\n",
       "2   GSM305072     1\n",
       "3   GSM305305     1\n",
       "4   GSM305310     1"
      ]
     },
     "execution_count": 19,
     "metadata": {},
     "output_type": "execute_result"
    }
   ],
   "source": [
    "norms_all_df['norm'] = 1\n",
    "norms_all_df.head()"
   ]
  },
  {
   "cell_type": "code",
   "execution_count": 33,
   "metadata": {
    "collapsed": false
   },
   "outputs": [
    {
     "name": "stdout",
     "output_type": "stream",
     "text": [
      "(1730022, 3)\n"
     ]
    },
    {
     "data": {
      "text/html": [
       "<div>\n",
       "<table border=\"1\" class=\"dataframe\">\n",
       "  <thead>\n",
       "    <tr style=\"text-align: right;\">\n",
       "      <th></th>\n",
       "      <th>accession</th>\n",
       "      <th>norm</th>\n",
       "      <th>series</th>\n",
       "    </tr>\n",
       "  </thead>\n",
       "  <tbody>\n",
       "    <tr>\n",
       "      <th>0</th>\n",
       "      <td>GSM305072</td>\n",
       "      <td>1</td>\n",
       "      <td>GSE12103</td>\n",
       "    </tr>\n",
       "    <tr>\n",
       "      <th>4</th>\n",
       "      <td>GSM305305</td>\n",
       "      <td>1</td>\n",
       "      <td>GSE12103</td>\n",
       "    </tr>\n",
       "    <tr>\n",
       "      <th>8</th>\n",
       "      <td>GSM305310</td>\n",
       "      <td>1</td>\n",
       "      <td>GSE12103</td>\n",
       "    </tr>\n",
       "    <tr>\n",
       "      <th>12</th>\n",
       "      <td>GSM1422841</td>\n",
       "      <td>1</td>\n",
       "      <td>GSE58949</td>\n",
       "    </tr>\n",
       "    <tr>\n",
       "      <th>13</th>\n",
       "      <td>GSM1422846</td>\n",
       "      <td>1</td>\n",
       "      <td>GSE58949</td>\n",
       "    </tr>\n",
       "  </tbody>\n",
       "</table>\n",
       "</div>"
      ],
      "text/plain": [
       "     accession  norm    series\n",
       "0    GSM305072     1  GSE12103\n",
       "4    GSM305305     1  GSE12103\n",
       "8    GSM305310     1  GSE12103\n",
       "12  GSM1422841     1  GSE58949\n",
       "13  GSM1422846     1  GSE58949"
      ]
     },
     "execution_count": 33,
     "metadata": {},
     "output_type": "execute_result"
    }
   ],
   "source": [
    "samples_with_norms = (\n",
    "    pd.merge(norms_df, samples_series, how='right')\n",
    "    .drop_duplicates(subset=['accession', 'series'])\n",
    "    .fillna(0)\n",
    ")\n",
    "print(samples_with_norms.shape)\n",
    "samples_with_norms.head()"
   ]
  },
  {
   "cell_type": "markdown",
   "metadata": {},
   "source": [
    "## Norms count in dataset analysis"
   ]
  },
  {
   "cell_type": "code",
   "execution_count": 36,
   "metadata": {
    "collapsed": false
   },
   "outputs": [
    {
     "data": {
      "text/plain": [
       "(19646, 2)"
      ]
     },
     "execution_count": 36,
     "metadata": {},
     "output_type": "execute_result"
    }
   ],
   "source": [
    "(\n",
    "    samples_with_norms\n",
    "    .groupby('series')\n",
    "    .agg(dict(norm=lambda norms: sum(norms)/len(norms), accession=len))\n",
    "    .query('norm > 0')\n",
    "#     .accession\n",
    "#     .sum()\n",
    "    .shape\n",
    ")"
   ]
  },
  {
   "cell_type": "code",
   "execution_count": 41,
   "metadata": {
    "collapsed": false
   },
   "outputs": [
    {
     "data": {
      "text/html": [
       "<div>\n",
       "<table border=\"1\" class=\"dataframe\">\n",
       "  <thead>\n",
       "    <tr style=\"text-align: right;\">\n",
       "      <th></th>\n",
       "      <th>accession</th>\n",
       "      <th>norm</th>\n",
       "    </tr>\n",
       "    <tr>\n",
       "      <th>series</th>\n",
       "      <th></th>\n",
       "      <th></th>\n",
       "    </tr>\n",
       "  </thead>\n",
       "  <tbody>\n",
       "    <tr>\n",
       "      <th>GSE10004</th>\n",
       "      <td>3</td>\n",
       "      <td>1.000000</td>\n",
       "    </tr>\n",
       "    <tr>\n",
       "      <th>GSE10005</th>\n",
       "      <td>48</td>\n",
       "      <td>1.000000</td>\n",
       "    </tr>\n",
       "    <tr>\n",
       "      <th>GSE10008</th>\n",
       "      <td>38</td>\n",
       "      <td>0.578947</td>\n",
       "    </tr>\n",
       "    <tr>\n",
       "      <th>GSE10010</th>\n",
       "      <td>6</td>\n",
       "      <td>1.000000</td>\n",
       "    </tr>\n",
       "    <tr>\n",
       "      <th>GSE10025</th>\n",
       "      <td>137</td>\n",
       "      <td>1.000000</td>\n",
       "    </tr>\n",
       "  </tbody>\n",
       "</table>\n",
       "</div>"
      ],
      "text/plain": [
       "          accession      norm\n",
       "series                       \n",
       "GSE10004          3  1.000000\n",
       "GSE10005         48  1.000000\n",
       "GSE10008         38  0.578947\n",
       "GSE10010          6  1.000000\n",
       "GSE10025        137  1.000000"
      ]
     },
     "execution_count": 41,
     "metadata": {},
     "output_type": "execute_result"
    }
   ],
   "source": [
    "(\n",
    "    samples_with_norms\n",
    "    .groupby('series')\n",
    "    .agg(dict(norm=lambda norms: sum(norms)/len(norms), accession=len))\n",
    "    .query('norm > 0.5')\n",
    "#     .accession\n",
    "#     .sum()\n",
    "    .head()\n",
    "#     .shape\n",
    ")"
   ]
  },
  {
   "cell_type": "code",
   "execution_count": 42,
   "metadata": {
    "collapsed": false
   },
   "outputs": [
    {
     "data": {
      "text/html": [
       "<div>\n",
       "<table border=\"1\" class=\"dataframe\">\n",
       "  <thead>\n",
       "    <tr style=\"text-align: right;\">\n",
       "      <th></th>\n",
       "      <th>accession</th>\n",
       "      <th>norm</th>\n",
       "      <th>series</th>\n",
       "    </tr>\n",
       "  </thead>\n",
       "  <tbody>\n",
       "    <tr>\n",
       "      <th>142136</th>\n",
       "      <td>GSM252280</td>\n",
       "      <td>1</td>\n",
       "      <td>GSE10005</td>\n",
       "    </tr>\n",
       "    <tr>\n",
       "      <th>142138</th>\n",
       "      <td>GSM252295</td>\n",
       "      <td>1</td>\n",
       "      <td>GSE10005</td>\n",
       "    </tr>\n",
       "    <tr>\n",
       "      <th>142140</th>\n",
       "      <td>GSM252301</td>\n",
       "      <td>1</td>\n",
       "      <td>GSE10005</td>\n",
       "    </tr>\n",
       "    <tr>\n",
       "      <th>142142</th>\n",
       "      <td>GSM252309</td>\n",
       "      <td>1</td>\n",
       "      <td>GSE10005</td>\n",
       "    </tr>\n",
       "    <tr>\n",
       "      <th>142144</th>\n",
       "      <td>GSM252316</td>\n",
       "      <td>1</td>\n",
       "      <td>GSE10005</td>\n",
       "    </tr>\n",
       "    <tr>\n",
       "      <th>142146</th>\n",
       "      <td>GSM252320</td>\n",
       "      <td>1</td>\n",
       "      <td>GSE10005</td>\n",
       "    </tr>\n",
       "    <tr>\n",
       "      <th>142148</th>\n",
       "      <td>GSM252323</td>\n",
       "      <td>1</td>\n",
       "      <td>GSE10005</td>\n",
       "    </tr>\n",
       "    <tr>\n",
       "      <th>142150</th>\n",
       "      <td>GSM252325</td>\n",
       "      <td>1</td>\n",
       "      <td>GSE10005</td>\n",
       "    </tr>\n",
       "    <tr>\n",
       "      <th>142152</th>\n",
       "      <td>GSM252332</td>\n",
       "      <td>1</td>\n",
       "      <td>GSE10005</td>\n",
       "    </tr>\n",
       "    <tr>\n",
       "      <th>142154</th>\n",
       "      <td>GSM252337</td>\n",
       "      <td>1</td>\n",
       "      <td>GSE10005</td>\n",
       "    </tr>\n",
       "    <tr>\n",
       "      <th>144412</th>\n",
       "      <td>GSM252260</td>\n",
       "      <td>1</td>\n",
       "      <td>GSE10005</td>\n",
       "    </tr>\n",
       "    <tr>\n",
       "      <th>144414</th>\n",
       "      <td>GSM252294</td>\n",
       "      <td>1</td>\n",
       "      <td>GSE10005</td>\n",
       "    </tr>\n",
       "    <tr>\n",
       "      <th>144416</th>\n",
       "      <td>GSM252297</td>\n",
       "      <td>1</td>\n",
       "      <td>GSE10005</td>\n",
       "    </tr>\n",
       "    <tr>\n",
       "      <th>144418</th>\n",
       "      <td>GSM252303</td>\n",
       "      <td>1</td>\n",
       "      <td>GSE10005</td>\n",
       "    </tr>\n",
       "    <tr>\n",
       "      <th>144420</th>\n",
       "      <td>GSM252311</td>\n",
       "      <td>1</td>\n",
       "      <td>GSE10005</td>\n",
       "    </tr>\n",
       "    <tr>\n",
       "      <th>144422</th>\n",
       "      <td>GSM252314</td>\n",
       "      <td>1</td>\n",
       "      <td>GSE10005</td>\n",
       "    </tr>\n",
       "    <tr>\n",
       "      <th>144424</th>\n",
       "      <td>GSM252317</td>\n",
       "      <td>1</td>\n",
       "      <td>GSE10005</td>\n",
       "    </tr>\n",
       "    <tr>\n",
       "      <th>144426</th>\n",
       "      <td>GSM252322</td>\n",
       "      <td>1</td>\n",
       "      <td>GSE10005</td>\n",
       "    </tr>\n",
       "    <tr>\n",
       "      <th>144428</th>\n",
       "      <td>GSM252327</td>\n",
       "      <td>1</td>\n",
       "      <td>GSE10005</td>\n",
       "    </tr>\n",
       "    <tr>\n",
       "      <th>144430</th>\n",
       "      <td>GSM252334</td>\n",
       "      <td>1</td>\n",
       "      <td>GSE10005</td>\n",
       "    </tr>\n",
       "    <tr>\n",
       "      <th>147969</th>\n",
       "      <td>GSM252257</td>\n",
       "      <td>1</td>\n",
       "      <td>GSE10005</td>\n",
       "    </tr>\n",
       "    <tr>\n",
       "      <th>147971</th>\n",
       "      <td>GSM252274</td>\n",
       "      <td>1</td>\n",
       "      <td>GSE10005</td>\n",
       "    </tr>\n",
       "    <tr>\n",
       "      <th>147973</th>\n",
       "      <td>GSM252307</td>\n",
       "      <td>1</td>\n",
       "      <td>GSE10005</td>\n",
       "    </tr>\n",
       "    <tr>\n",
       "      <th>147975</th>\n",
       "      <td>GSM252312</td>\n",
       "      <td>1</td>\n",
       "      <td>GSE10005</td>\n",
       "    </tr>\n",
       "    <tr>\n",
       "      <th>147977</th>\n",
       "      <td>GSM252318</td>\n",
       "      <td>1</td>\n",
       "      <td>GSE10005</td>\n",
       "    </tr>\n",
       "    <tr>\n",
       "      <th>147979</th>\n",
       "      <td>GSM252326</td>\n",
       "      <td>1</td>\n",
       "      <td>GSE10005</td>\n",
       "    </tr>\n",
       "    <tr>\n",
       "      <th>147981</th>\n",
       "      <td>GSM252328</td>\n",
       "      <td>1</td>\n",
       "      <td>GSE10005</td>\n",
       "    </tr>\n",
       "    <tr>\n",
       "      <th>147983</th>\n",
       "      <td>GSM252330</td>\n",
       "      <td>1</td>\n",
       "      <td>GSE10005</td>\n",
       "    </tr>\n",
       "    <tr>\n",
       "      <th>147985</th>\n",
       "      <td>GSM252333</td>\n",
       "      <td>1</td>\n",
       "      <td>GSE10005</td>\n",
       "    </tr>\n",
       "    <tr>\n",
       "      <th>147987</th>\n",
       "      <td>GSM252335</td>\n",
       "      <td>1</td>\n",
       "      <td>GSE10005</td>\n",
       "    </tr>\n",
       "    <tr>\n",
       "      <th>150094</th>\n",
       "      <td>GSM252262</td>\n",
       "      <td>1</td>\n",
       "      <td>GSE10005</td>\n",
       "    </tr>\n",
       "    <tr>\n",
       "      <th>150096</th>\n",
       "      <td>GSM252306</td>\n",
       "      <td>1</td>\n",
       "      <td>GSE10005</td>\n",
       "    </tr>\n",
       "    <tr>\n",
       "      <th>150098</th>\n",
       "      <td>GSM252313</td>\n",
       "      <td>1</td>\n",
       "      <td>GSE10005</td>\n",
       "    </tr>\n",
       "    <tr>\n",
       "      <th>150100</th>\n",
       "      <td>GSM252319</td>\n",
       "      <td>1</td>\n",
       "      <td>GSE10005</td>\n",
       "    </tr>\n",
       "    <tr>\n",
       "      <th>150102</th>\n",
       "      <td>GSM252324</td>\n",
       "      <td>1</td>\n",
       "      <td>GSE10005</td>\n",
       "    </tr>\n",
       "    <tr>\n",
       "      <th>150104</th>\n",
       "      <td>GSM252329</td>\n",
       "      <td>1</td>\n",
       "      <td>GSE10005</td>\n",
       "    </tr>\n",
       "    <tr>\n",
       "      <th>150106</th>\n",
       "      <td>GSM252331</td>\n",
       "      <td>1</td>\n",
       "      <td>GSE10005</td>\n",
       "    </tr>\n",
       "    <tr>\n",
       "      <th>150108</th>\n",
       "      <td>GSM252336</td>\n",
       "      <td>1</td>\n",
       "      <td>GSE10005</td>\n",
       "    </tr>\n",
       "    <tr>\n",
       "      <th>151601</th>\n",
       "      <td>GSM252264</td>\n",
       "      <td>1</td>\n",
       "      <td>GSE10005</td>\n",
       "    </tr>\n",
       "    <tr>\n",
       "      <th>151603</th>\n",
       "      <td>GSM252277</td>\n",
       "      <td>1</td>\n",
       "      <td>GSE10005</td>\n",
       "    </tr>\n",
       "    <tr>\n",
       "      <th>151605</th>\n",
       "      <td>GSM252286</td>\n",
       "      <td>1</td>\n",
       "      <td>GSE10005</td>\n",
       "    </tr>\n",
       "    <tr>\n",
       "      <th>151607</th>\n",
       "      <td>GSM252293</td>\n",
       "      <td>1</td>\n",
       "      <td>GSE10005</td>\n",
       "    </tr>\n",
       "    <tr>\n",
       "      <th>151609</th>\n",
       "      <td>GSM252299</td>\n",
       "      <td>1</td>\n",
       "      <td>GSE10005</td>\n",
       "    </tr>\n",
       "    <tr>\n",
       "      <th>151611</th>\n",
       "      <td>GSM252305</td>\n",
       "      <td>1</td>\n",
       "      <td>GSE10005</td>\n",
       "    </tr>\n",
       "    <tr>\n",
       "      <th>151613</th>\n",
       "      <td>GSM252308</td>\n",
       "      <td>1</td>\n",
       "      <td>GSE10005</td>\n",
       "    </tr>\n",
       "    <tr>\n",
       "      <th>151615</th>\n",
       "      <td>GSM252310</td>\n",
       "      <td>1</td>\n",
       "      <td>GSE10005</td>\n",
       "    </tr>\n",
       "    <tr>\n",
       "      <th>151617</th>\n",
       "      <td>GSM252315</td>\n",
       "      <td>1</td>\n",
       "      <td>GSE10005</td>\n",
       "    </tr>\n",
       "    <tr>\n",
       "      <th>151619</th>\n",
       "      <td>GSM252321</td>\n",
       "      <td>1</td>\n",
       "      <td>GSE10005</td>\n",
       "    </tr>\n",
       "  </tbody>\n",
       "</table>\n",
       "</div>"
      ],
      "text/plain": [
       "        accession  norm    series\n",
       "142136  GSM252280     1  GSE10005\n",
       "142138  GSM252295     1  GSE10005\n",
       "142140  GSM252301     1  GSE10005\n",
       "142142  GSM252309     1  GSE10005\n",
       "142144  GSM252316     1  GSE10005\n",
       "142146  GSM252320     1  GSE10005\n",
       "142148  GSM252323     1  GSE10005\n",
       "142150  GSM252325     1  GSE10005\n",
       "142152  GSM252332     1  GSE10005\n",
       "142154  GSM252337     1  GSE10005\n",
       "144412  GSM252260     1  GSE10005\n",
       "144414  GSM252294     1  GSE10005\n",
       "144416  GSM252297     1  GSE10005\n",
       "144418  GSM252303     1  GSE10005\n",
       "144420  GSM252311     1  GSE10005\n",
       "144422  GSM252314     1  GSE10005\n",
       "144424  GSM252317     1  GSE10005\n",
       "144426  GSM252322     1  GSE10005\n",
       "144428  GSM252327     1  GSE10005\n",
       "144430  GSM252334     1  GSE10005\n",
       "147969  GSM252257     1  GSE10005\n",
       "147971  GSM252274     1  GSE10005\n",
       "147973  GSM252307     1  GSE10005\n",
       "147975  GSM252312     1  GSE10005\n",
       "147977  GSM252318     1  GSE10005\n",
       "147979  GSM252326     1  GSE10005\n",
       "147981  GSM252328     1  GSE10005\n",
       "147983  GSM252330     1  GSE10005\n",
       "147985  GSM252333     1  GSE10005\n",
       "147987  GSM252335     1  GSE10005\n",
       "150094  GSM252262     1  GSE10005\n",
       "150096  GSM252306     1  GSE10005\n",
       "150098  GSM252313     1  GSE10005\n",
       "150100  GSM252319     1  GSE10005\n",
       "150102  GSM252324     1  GSE10005\n",
       "150104  GSM252329     1  GSE10005\n",
       "150106  GSM252331     1  GSE10005\n",
       "150108  GSM252336     1  GSE10005\n",
       "151601  GSM252264     1  GSE10005\n",
       "151603  GSM252277     1  GSE10005\n",
       "151605  GSM252286     1  GSE10005\n",
       "151607  GSM252293     1  GSE10005\n",
       "151609  GSM252299     1  GSE10005\n",
       "151611  GSM252305     1  GSE10005\n",
       "151613  GSM252308     1  GSE10005\n",
       "151615  GSM252310     1  GSE10005\n",
       "151617  GSM252315     1  GSE10005\n",
       "151619  GSM252321     1  GSE10005"
      ]
     },
     "execution_count": 42,
     "metadata": {},
     "output_type": "execute_result"
    }
   ],
   "source": [
    "samples_with_norms.query('series == \"GSE10005\"')"
   ]
  },
  {
   "cell_type": "code",
   "execution_count": 44,
   "metadata": {
    "collapsed": true
   },
   "outputs": [],
   "source": [
    "samples_with_norms.to_pickle('../data/geo-annotation/samples.norms.res2.pickle')"
   ]
  },
  {
   "cell_type": "code",
   "execution_count": 3,
   "metadata": {
    "collapsed": true
   },
   "outputs": [],
   "source": [
    "samples_with_norms = pd.read_pickle('../data/geo-annotation/samples.norms.res2.pickle')"
   ]
  },
  {
   "cell_type": "code",
   "execution_count": 5,
   "metadata": {
    "collapsed": false
   },
   "outputs": [
    {
     "data": {
      "text/html": [
       "<div>\n",
       "<table border=\"1\" class=\"dataframe\">\n",
       "  <thead>\n",
       "    <tr style=\"text-align: right;\">\n",
       "      <th></th>\n",
       "      <th>accession</th>\n",
       "      <th>norm</th>\n",
       "      <th>series</th>\n",
       "    </tr>\n",
       "  </thead>\n",
       "  <tbody>\n",
       "    <tr>\n",
       "      <th>570289</th>\n",
       "      <td>GSM253288</td>\n",
       "      <td>1</td>\n",
       "      <td>GSE10024</td>\n",
       "    </tr>\n",
       "    <tr>\n",
       "      <th>571112</th>\n",
       "      <td>GSM253287</td>\n",
       "      <td>1</td>\n",
       "      <td>GSE10024</td>\n",
       "    </tr>\n",
       "    <tr>\n",
       "      <th>852154</th>\n",
       "      <td>GSM253283</td>\n",
       "      <td>0</td>\n",
       "      <td>GSE10024</td>\n",
       "    </tr>\n",
       "    <tr>\n",
       "      <th>852155</th>\n",
       "      <td>GSM253284</td>\n",
       "      <td>0</td>\n",
       "      <td>GSE10024</td>\n",
       "    </tr>\n",
       "    <tr>\n",
       "      <th>852156</th>\n",
       "      <td>GSM253285</td>\n",
       "      <td>0</td>\n",
       "      <td>GSE10024</td>\n",
       "    </tr>\n",
       "    <tr>\n",
       "      <th>852157</th>\n",
       "      <td>GSM253286</td>\n",
       "      <td>0</td>\n",
       "      <td>GSE10024</td>\n",
       "    </tr>\n",
       "  </tbody>\n",
       "</table>\n",
       "</div>"
      ],
      "text/plain": [
       "        accession  norm    series\n",
       "570289  GSM253288     1  GSE10024\n",
       "571112  GSM253287     1  GSE10024\n",
       "852154  GSM253283     0  GSE10024\n",
       "852155  GSM253284     0  GSE10024\n",
       "852156  GSM253285     0  GSE10024\n",
       "852157  GSM253286     0  GSE10024"
      ]
     },
     "execution_count": 5,
     "metadata": {},
     "output_type": "execute_result"
    }
   ],
   "source": [
    "samples_with_norms.query('series == \"GSE10024\"')"
   ]
  }
 ],
 "metadata": {
  "kernelspec": {
   "display_name": "Python 3",
   "language": "python",
   "name": "python3"
  },
  "language_info": {
   "codemirror_mode": {
    "name": "ipython",
    "version": 3
   },
   "file_extension": ".py",
   "mimetype": "text/x-python",
   "name": "python",
   "nbconvert_exporter": "python",
   "pygments_lexer": "ipython3",
   "version": "3.4.3"
  }
 },
 "nbformat": 4,
 "nbformat_minor": 0
}
