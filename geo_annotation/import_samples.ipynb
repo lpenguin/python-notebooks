{
 "cells": [
  {
   "cell_type": "markdown",
   "metadata": {},
   "source": [
    "## Importing all samples into elastic search index"
   ]
  },
  {
   "cell_type": "code",
   "execution_count": 1,
   "metadata": {
    "collapsed": true
   },
   "outputs": [],
   "source": [
    "import sys\n",
    "sys.path.append('..')"
   ]
  },
  {
   "cell_type": "code",
   "execution_count": 2,
   "metadata": {
    "collapsed": false
   },
   "outputs": [],
   "source": [
    "from elasticsearch import Elasticsearch\n",
    "from elasticsearch.client import IndicesClient\n",
    "from elasticsearch_dsl import Mapping, String, Integer\n",
    "from elasticsearch.helpers import bulk\n",
    "import pymongo\n",
    "from time import sleep\n",
    "from lib.utils import iter_bucket"
   ]
  },
  {
   "cell_type": "code",
   "execution_count": 16,
   "metadata": {
    "collapsed": true
   },
   "outputs": [],
   "source": [
    "es = Elasticsearch()\n",
    "ies = IndicesClient(es)\n",
    "db = pymongo.MongoClient().scraper_test_dev"
   ]
  },
  {
   "cell_type": "code",
   "execution_count": 18,
   "metadata": {
    "collapsed": false
   },
   "outputs": [
    {
     "data": {
      "text/plain": [
       "2438491"
      ]
     },
     "execution_count": 18,
     "metadata": {},
     "output_type": "execute_result"
    }
   ],
   "source": [
    "db.samples.count()"
   ]
  },
  {
   "cell_type": "code",
   "execution_count": 50,
   "metadata": {
    "collapsed": true
   },
   "outputs": [],
   "source": [
    "index_name = 'samples'"
   ]
  },
  {
   "cell_type": "markdown",
   "metadata": {},
   "source": [
    "## Dropping and creating index"
   ]
  },
  {
   "cell_type": "code",
   "execution_count": 59,
   "metadata": {
    "collapsed": false
   },
   "outputs": [],
   "source": [
    "if ies.exists(index_name):\n",
    "    ies.delete(index_name)\n",
    "ies.create(index_name)\n",
    "sleep(1)"
   ]
  },
  {
   "cell_type": "markdown",
   "metadata": {},
   "source": [
    "## Creating mapping and settings"
   ]
  },
  {
   "cell_type": "code",
   "execution_count": 60,
   "metadata": {
    "collapsed": false
   },
   "outputs": [
    {
     "data": {
      "text/plain": [
       "{'acknowledged': True}"
      ]
     },
     "execution_count": 60,
     "metadata": {},
     "output_type": "execute_result"
    }
   ],
   "source": [
    "ies.close(index_name)\n",
    "m = Mapping(index_name)\n",
    "\n",
    "m.field('accession', String(index='not_analyzed'))\n",
    "m.field('id', Integer())\n",
    "m.field('organism', String(index='not_analyzed'))\n",
    "m.field('platform', String(index='not_analyzed'))\n",
    "m.field('series', String(index='not_analyzed'))\n",
    "\n",
    "m.field('title', String())\n",
    "m.field('description', String())\n",
    "m.field('source_name', String())\n",
    "# m.field('characteristics', String())\n",
    "m.field('characteristics_raw', String())\n",
    "\n",
    "m.save(index_name, using=es)\n",
    "\n",
    "ies.put_settings(index=index_name, body={\n",
    "    \"analysis\":{\n",
    "      \"analyzer\":{\n",
    "        \"default\":{\n",
    "          \"type\":\"custom\",\n",
    "          \"tokenizer\":\"standard\",\n",
    "          \"filter\":[ \"standard\", \"lowercase\", \"stop\", \"kstem\" ]\n",
    "        }\n",
    "      }\n",
    "    }\n",
    "})\n",
    "sleep(1)\n",
    "ies.open(index_name)"
   ]
  },
  {
   "cell_type": "code",
   "execution_count": 61,
   "metadata": {
    "collapsed": true
   },
   "outputs": [],
   "source": [
    "def fields(fields_list):\n",
    "    return dict((f, 1) for f in fields_list)\n",
    "\n",
    "def del_id(item):\n",
    "    if '_id' in item:\n",
    "        del item['_id']\n",
    "    return item\n",
    "    \n",
    "\n",
    "def make_raw_chars(item):\n",
    "    if 'characteristics_raw' in item:\n",
    "        return item\n",
    "    if not item.get('characteristics'):\n",
    "        return item\n",
    "#     print(item)\n",
    "\n",
    "    ch_raw = []\n",
    "    for k, v in item['characteristics'].items():\n",
    "        if isinstance(v, list):\n",
    "            v = ','.join(v)\n",
    "        v = v.strip(\" \")\n",
    "        if not v:\n",
    "            continue\n",
    "            \n",
    "        ch_raw.append('{}: {}'.format(k, v))\n",
    "                      \n",
    "    item['characteristics_raw'] = ch_raw\n",
    "    \n",
    "    del item['characteristics']\n",
    "    return item\n"
   ]
  },
  {
   "cell_type": "markdown",
   "metadata": {},
   "source": [
    "## Inserting data"
   ]
  },
  {
   "cell_type": "markdown",
   "metadata": {},
   "source": [
    "### Using only fields in mapping"
   ]
  },
  {
   "cell_type": "code",
   "execution_count": null,
   "metadata": {
    "collapsed": true
   },
   "outputs": [],
   "source": [
    "b = 0\n",
    "fields_list = list(m.to_dict()[index_name]['properties'].keys())\n",
    "fs = fields(fields_list)\n",
    "fs['_id'] = 0"
   ]
  },
  {
   "cell_type": "markdown",
   "metadata": {},
   "source": [
    "### Importing from geo data source"
   ]
  },
  {
   "cell_type": "code",
   "execution_count": 65,
   "metadata": {
    "collapsed": false
   },
   "outputs": [
    {
     "name": "stdout",
     "output_type": "stream",
     "text": [
      "1742540\n"
     ]
    }
   ],
   "source": [
    "for bucket in iter_bucket(db.samples.find({'data_source': 'geo'}, fs)):\n",
    "    actions = [dict(\n",
    "                _index=index_name,\n",
    "                _type=index_name,\n",
    "                _source=s\n",
    "                ) for s in bucket]\n",
    "#     print(actions)\n",
    "    b += len(actions)\n",
    "    bulk(es, actions)\n",
    "print(b)"
   ]
  },
  {
   "cell_type": "code",
   "execution_count": 67,
   "metadata": {
    "collapsed": false
   },
   "outputs": [
    {
     "data": {
      "text/plain": [
       "1742540"
      ]
     },
     "execution_count": 67,
     "metadata": {},
     "output_type": "execute_result"
    }
   ],
   "source": [
    "b"
   ]
  },
  {
   "cell_type": "markdown",
   "metadata": {},
   "source": [
    "### Importing from array-express data source"
   ]
  },
  {
   "cell_type": "code",
   "execution_count": 63,
   "metadata": {
    "collapsed": false
   },
   "outputs": [
    {
     "name": "stdout",
     "output_type": "stream",
     "text": [
      "695951\n"
     ]
    }
   ],
   "source": [
    "b = 0\n",
    "fs['characteristics'] = 1\n",
    "for bucket in iter_bucket(db.samples.find({'data_source': 'array-express'}, fs)):\n",
    "    actions = [dict(\n",
    "                _index=index_name,\n",
    "                _type=index_name,\n",
    "                _source=make_raw_chars(s)\n",
    "                ) for s in bucket]\n",
    "#     print(actions)\n",
    "    b += len(actions)\n",
    "    bulk(es, actions)\n",
    "print(b)"
   ]
  },
  {
   "cell_type": "code",
   "execution_count": 64,
   "metadata": {
    "collapsed": false
   },
   "outputs": [
    {
     "data": {
      "text/plain": [
       "695951"
      ]
     },
     "execution_count": 64,
     "metadata": {},
     "output_type": "execute_result"
    }
   ],
   "source": [
    "b"
   ]
  },
  {
   "cell_type": "code",
   "execution_count": null,
   "metadata": {
    "collapsed": true
   },
   "outputs": [],
   "source": []
  }
 ],
 "metadata": {
  "kernelspec": {
   "display_name": "Python 3",
   "language": "python",
   "name": "python3"
  },
  "language_info": {
   "codemirror_mode": {
    "name": "ipython",
    "version": 3
   },
   "file_extension": ".py",
   "mimetype": "text/x-python",
   "name": "python",
   "nbconvert_exporter": "python",
   "pygments_lexer": "ipython3",
   "version": "3.4.0"
  }
 },
 "nbformat": 4,
 "nbformat_minor": 0
}
