{
 "cells": [
  {
   "cell_type": "markdown",
   "metadata": {},
   "source": [
    "## Importing all samples into elastic search index"
   ]
  },
  {
   "cell_type": "code",
   "execution_count": 2,
   "metadata": {
    "collapsed": true
   },
   "outputs": [],
   "source": [
    "import sys\n",
    "sys.path.append('..')"
   ]
  },
  {
   "cell_type": "code",
   "execution_count": 3,
   "metadata": {
    "collapsed": false
   },
   "outputs": [],
   "source": [
    "from elasticsearch import Elasticsearch\n",
    "from elasticsearch.client import IndicesClient\n",
    "from elasticsearch_dsl import Mapping, String, Integer\n",
    "from elasticsearch.helpers import bulk\n",
    "import pymongo\n",
    "from time import sleep\n",
    "from lib.utils import iter_bucket"
   ]
  },
  {
   "cell_type": "code",
   "execution_count": 4,
   "metadata": {
    "collapsed": true
   },
   "outputs": [],
   "source": [
    "es = Elasticsearch()\n",
    "ies = IndicesClient(es)\n",
    "db = pymongo.MongoClient().scraper_meta"
   ]
  },
  {
   "cell_type": "code",
   "execution_count": null,
   "metadata": {
    "collapsed": true
   },
   "outputs": [],
   "source": [
    "index_name = 'samples'"
   ]
  },
  {
   "cell_type": "markdown",
   "metadata": {},
   "source": [
    "## Dropping and creating index"
   ]
  },
  {
   "cell_type": "code",
   "execution_count": null,
   "metadata": {
    "collapsed": true
   },
   "outputs": [],
   "source": [
    "if ies.exists(index_name):\n",
    "    ies.delete(index_name)\n",
    "ies.create(index_name)\n",
    "sleep(1)"
   ]
  },
  {
   "cell_type": "markdown",
   "metadata": {},
   "source": [
    "## Creating mapping and settings"
   ]
  },
  {
   "cell_type": "code",
   "execution_count": null,
   "metadata": {
    "collapsed": true
   },
   "outputs": [],
   "source": [
    "ies.close(index_name)\n",
    "m = Mapping(index_name)\n",
    "\n",
    "m.field('accession', String(index='not_analyzed'))\n",
    "m.field('id', Integer())\n",
    "m.field('organism', String(index='not_analyzed'))\n",
    "m.field('platform', String(index='not_analyzed'))\n",
    "m.field('series', String(index='not_analyzed'))\n",
    "\n",
    "m.field('title', String())\n",
    "m.field('description', String())\n",
    "m.field('source_name', String())\n",
    "# m.field('characteristics', String())\n",
    "m.field('characteristics_raw', String())\n",
    "\n",
    "m.save(index_name, using=es)\n",
    "\n",
    "ies.put_settings(index=index_name, body={\n",
    "    \"analysis\":{\n",
    "      \"analyzer\":{\n",
    "        \"default\":{\n",
    "          \"type\":\"custom\",\n",
    "          \"tokenizer\":\"standard\",\n",
    "          \"filter\":[ \"standard\", \"lowercase\", \"stop\", \"kstem\" ]\n",
    "        }\n",
    "      }\n",
    "    }\n",
    "})\n",
    "sleep(1)\n",
    "ies.open(index_name)"
   ]
  },
  {
   "cell_type": "code",
   "execution_count": null,
   "metadata": {
    "collapsed": true
   },
   "outputs": [],
   "source": [
    "def fields(fields_list):\n",
    "    return dict((f, 1) for f in fields_list)"
   ]
  },
  {
   "cell_type": "markdown",
   "metadata": {},
   "source": [
    "## Inserting data"
   ]
  },
  {
   "cell_type": "code",
   "execution_count": null,
   "metadata": {
    "collapsed": true
   },
   "outputs": [],
   "source": [
    "fields_list = list(m.to_dict()[index_name]['properties'].keys())\n",
    "for bucket in iter_bucket(db.samples.find({}, fields(fields_list))):\n",
    "    actions = [dict(\n",
    "                _index=index_name,\n",
    "                _type=index_name,\n",
    "                _source=dict([('id', int(s['accession'][3:]))] + list((k, v) for (k, v) in s.items() if k != '_id'))\n",
    "                ) for s in bucket]\n",
    "    print('inserting')\n",
    "    bulk(es, actions)"
   ]
  }
 ],
 "metadata": {
  "kernelspec": {
   "display_name": "Python 3",
   "language": "python",
   "name": "python3"
  },
  "language_info": {
   "codemirror_mode": {
    "name": "ipython",
    "version": 3
   },
   "file_extension": ".py",
   "mimetype": "text/x-python",
   "name": "python",
   "nbconvert_exporter": "python",
   "pygments_lexer": "ipython3",
   "version": "3.4.3"
  }
 },
 "nbformat": 4,
 "nbformat_minor": 0
}
