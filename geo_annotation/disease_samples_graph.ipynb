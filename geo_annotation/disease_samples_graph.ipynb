{
 "cells": [
  {
   "cell_type": "code",
   "execution_count": 4,
   "metadata": {},
   "outputs": [],
   "source": [
    "import sys\n",
    "sys.path.append('..')"
   ]
  },
  {
   "cell_type": "code",
   "execution_count": 8,
   "metadata": {},
   "outputs": [],
   "source": [
    "from importlib import reload\n",
    "from os.path import exists\n",
    "\n",
    "import networkx as nx\n",
    "import numpy as np\n",
    "import pandas as pd\n",
    "from elasticsearch import Elasticsearch\n",
    "\n",
    "from misc.obo import read_ontology\n",
    "import misc.obo\n",
    "import geo_annotation.search_utils\n",
    "from geo_annotation.search_utils import search_ontology\n",
    "from misc.utils import collapse_matches, zip_map_series\n",
    "import pymongo\n",
    "import pickle\n",
    "import qgrid\n",
    "\n",
    "reload(geo_annotation.search_utils)\n",
    "reload(misc.obo)\n",
    "reload(misc.utils)\n",
    "pd.set_option('display.width', 512)"
   ]
  },
  {
   "cell_type": "code",
   "execution_count": 6,
   "metadata": {},
   "outputs": [
    {
     "name": "stdout",
     "output_type": "stream",
     "text": [
      "Read obo graph\n",
      "Name: \n",
      "Type: DiGraph\n",
      "Number of nodes: 6595\n",
      "Number of edges: 6594\n",
      "Average in degree:   0.9998\n",
      "Average out degree:   0.9998\n"
     ]
    }
   ],
   "source": [
    "larisa_vd = pd.read_pickle('../data/larisa_set_uncleaned.pickle')\n",
    "larisa_vd['series'] = larisa_vd['dataset_name'].str.split('_').str.get(0).str.split(' ').str.get(0)\n",
    "larisa_vd['id'] = larisa_vd['series'].map(lambda s: int(s[3:]))\n",
    "larisa_vd_ids = [int(x) for x in larisa_vd['id'].unique()]\n",
    "\n",
    "es = Elasticsearch()\n",
    "db = pymongo.MongoClient().scraper_meta\n",
    "ontology = read_ontology('../data/geo-annotation/doid.obo',\n",
    "                         exclude_duplicates=True)"
   ]
  },
  {
   "cell_type": "code",
   "execution_count": 12,
   "metadata": {},
   "outputs": [
    {
     "data": {
      "text/plain": [
       "22524"
      ]
     },
     "execution_count": 12,
     "output_type": "execute_result",
     "metadata": {}
    }
   ],
   "source": [
    "larisa_vd_samples_ids_file = '../data/geo-annotation/larisa_vd_samples_ids.res1.pickle'\n",
    "if not exists(larisa_vd_samples_ids_file):\n",
    "    larisa_vd_samples_ids = [int(d['accession'][3:]) for d in db.samples.find({'series': {'$in': ['GSE{}'.format(i) for i in larisa_vd_ids]}},\n",
    "                                        {'accession': 1})]\n",
    "    with open(larisa_vd_samples_ids_file, 'wb') as f:\n",
    "        pickle.dump(larisa_vd_samples_ids, f)\n",
    "else:\n",
    "    with open(larisa_vd_samples_ids_file, 'rb') as f:\n",
    "        larisa_vd_samples_ids = pickle.load(f)\n",
    "len(larisa_vd_samples_ids)"
   ]
  },
  {
   "cell_type": "code",
   "execution_count": 15,
   "metadata": {},
   "outputs": [],
   "source": [
    "annotation_result_file = '../data/geo-annotation/samples.disease.res1.pickle'\n",
    "if not exists(annotation_result_file):\n",
    "    res = search_ontology(client=es,\n",
    "                          ontology=ontology,\n",
    "                          index='samples',\n",
    "                          ids=larisa_vd_samples_ids)\n",
    "\n",
    "    print(len(res))\n",
    "\n",
    "    import pickle\n",
    "\n",
    "    with open(annotation_result_file, 'wb') as f:\n",
    "        pickle.dump(res, f)\n",
    "\n",
    "else:\n",
    "    with open(annotation_result_file, 'rb') as f:\n",
    "        res = pickle.load(f)"
   ]
  },
  {
   "cell_type": "code",
   "execution_count": 16,
   "metadata": {},
   "outputs": [],
   "source": [
    "def doid_id(item_id):\n",
    "    return \"DOID:{:07}\".format(item_id)\n",
    "\n",
    "\n",
    "def ontology_name(item_id):\n",
    "    return ontology.meta[item_id].name\n",
    "\n",
    "\n",
    "def to_name(series_id):\n",
    "    return \"GSM{}\".format(series_id)"
   ]
  },
  {
   "cell_type": "code",
   "execution_count": 18,
   "metadata": {},
   "outputs": [],
   "source": [
    "view = pd.DataFrame.from_records(list(res.items()), columns=('id', 'matches'))\n",
    "view['name'] = view['id'].map(to_name)\n",
    "view['matches_names'] = view['matches'].map(lambda matches: [ontology_name(m) for m in matches])\n",
    "view['matches_count'] = view['matches'].map(len)\n",
    "view.set_index('name', inplace=True)"
   ]
  },
  {
   "cell_type": "code",
   "execution_count": 20,
   "metadata": {},
   "outputs": [
    {
     "data": {
      "text/plain": [
       "disease                          1726\n",
       "cancer                            630\n",
       "breast cancer                     626\n",
       "leukemia                          288\n",
       "melanoma                          269\n",
       "psoriasis                         257\n",
       "hepatocellular carcinoma          245\n",
       "endometriosis                     158\n",
       "obesity                           130\n",
       "brain glioblastoma multiforme      80\n",
       "dtype: int64"
      ]
     },
     "execution_count": 20,
     "output_type": "execute_result",
     "metadata": {}
    }
   ],
   "source": [
    "_t = view[view['matches_count'] == 1].matches_names.map(lambda x: x[0])\n",
    "_t.value_counts()[:10]"
   ]
  },
  {
   "cell_type": "code",
   "execution_count": 36,
   "metadata": {},
   "outputs": [
    {
     "data": {
      "text/html": [
       "<script type=\"text/javascript\">\n",
       "if ($(\"#dg-css\").length == 0){\n",
       "    $(\"head\").append([\n",
       "        \"<link href='/nbextensions/qgridjs/lib/slick.grid.css' rel='stylesheet'>\",\n",
       "        \"<link href='/nbextensions/qgridjs/lib/slick-default-theme.css' rel='stylesheet'>\",\n",
       "        \"<link href='http://cdnjs.cloudflare.com/ajax/libs/jqueryui/1.10.4/css/jquery-ui.min.css' rel='stylesheet'>\",\n",
       "        \"<link id='dg-css' href='/nbextensions/qgridjs/qgrid.css' rel='stylesheet'>\"\n",
       "    ]);\n",
       "}\n",
       "</script>\n",
       "<div class='q-grid-container'>\n",
       "<div id='b4ba3034-f8d4-4bde-b392-fec10d497b57' class='q-grid'></div>\n",
       "</div>"
      ]
     },
     "output_type": "execute_result",
     "metadata": {}
    },
    {
     "metadata": {}
    }
   ],
   "source": [
    "view['collapsed_matches'] = view['matches'].map(collapse_matches(ontology.graph))\n",
    "view['collapsed_matches_count'] = view['collapsed_matches'].map(len)\n",
    "view['collapsed_matches_names'] = view['collapsed_matches'].map(lambda matches: [ontology_name(m) for m in matches])\n",
    "\n",
    "qgrid.show_grid(view[['collapsed_matches', 'collapsed_matches_count', 'collapsed_matches_names']])"
   ]
  },
  {
   "cell_type": "code",
   "execution_count": null,
   "metadata": {},
   "outputs": [],
   "source": [
    "# Очень много отсутсвующих путей по онтологии\n",
    "# renal clear cell carcinoma, carcinoma\n",
    "# sarcoma, peripheral primitive neuroectodermal...\n",
    "# adenocarcinoma, colorectal adenocarcinoma"
   ]
  },
  {
   "cell_type": "code",
   "execution_count": 33,
   "metadata": {},
   "outputs": [
    {
     "data": {
      "text/plain": [
       "name\n",
       "GSM1540096                    adenocarcinoma\n",
       "GSM1540096              large cell carcinoma\n",
       "GSM1540096           squamous cell carcinoma\n",
       "GSM1540096              small cell carcinoma\n",
       "GSM1540096    tongue squamous cell carcinoma\n",
       "GSM1540096     non-small cell lung carcinoma\n",
       "GSM1540096         lung small cell carcinoma\n",
       "GSM1540096                               NaN\n",
       "GSM1540096                               NaN\n",
       "dtype: object"
      ]
     },
     "execution_count": 33,
     "output_type": "execute_result",
     "metadata": {}
    }
   ],
   "source": [
    "# Много мусора из description\n",
    "_t = view[['collapsed_matches_names']]\n",
    "_t = _t.collapsed_matches_names.apply(lambda x: pd.Series(x)).unstack().reset_index(level=0, drop=True)\n",
    "_t.loc['GSM1540096']"
   ]
  },
  {
   "cell_type": "code",
   "execution_count": 35,
   "metadata": {},
   "outputs": [
    {
     "data": {
      "text/plain": [
       "{'alt_ids': [],\n",
       " 'defs': ['A tongue cancer that is located_in the squamous cells of the tongue.'],\n",
       " 'id': 'DOID:0050865',\n",
       " 'is_a': 'DOID:8649',\n",
       " 'is_obsolete': None,\n",
       " 'name': 'tongue squamous cell carcinoma',\n",
       " 'relationships': [],\n",
       " 'subsets': [],\n",
       " 'synonyms': ['squamous-cell carcinoma'],\n",
       " 'xrefs': ['ICD10:C44', 'MSH:D002294']}"
      ]
     },
     "execution_count": 35,
     "output_type": "execute_result",
     "metadata": {}
    }
   ],
   "source": [
    "# Вадафак! tongue squamous cell carcinoma == squamous-cell carcinoma ???\n",
    "# такие гадости в онтологии можно отловить, если построить граф синонимов\n",
    "# У таких нодов будут ребра из одного в другое и из другого в одно\n",
    "ontology.meta['DOID:0050865'].dict()"
   ]
  },
  {
   "cell_type": "code",
   "execution_count": 24,
   "metadata": {},
   "outputs": [
    {
     "data": {
      "text/html": [
       "<script type=\"text/javascript\">\n",
       "if ($(\"#dg-css\").length == 0){\n",
       "    $(\"head\").append([\n",
       "        \"<link href='/nbextensions/qgridjs/lib/slick.grid.css' rel='stylesheet'>\",\n",
       "        \"<link href='/nbextensions/qgridjs/lib/slick-default-theme.css' rel='stylesheet'>\",\n",
       "        \"<link href='http://cdnjs.cloudflare.com/ajax/libs/jqueryui/1.10.4/css/jquery-ui.min.css' rel='stylesheet'>\",\n",
       "        \"<link id='dg-css' href='/nbextensions/qgridjs/qgrid.css' rel='stylesheet'>\"\n",
       "    ]);\n",
       "}\n",
       "</script>\n",
       "<div class='q-grid-container'>\n",
       "<div id='f10b83e6-19b3-415d-876a-f34b5cc70d47' class='q-grid'></div>\n",
       "</div>"
      ]
     },
     "output_type": "execute_result",
     "metadata": {}
    },
    {
     "metadata": {}
    }
   ],
   "source": [
    "import qgrid\n",
    "qgrid.show_grid(view[['collapsed_matches_names']])"
   ]
  },
  {
   "cell_type": "code",
   "execution_count": null,
   "metadata": {},
   "outputs": [],
   "source": [
    ""
   ]
  }
 ],
 "metadata": {
  "kernelspec": {
   "display_name": "Python 3",
   "language": "python",
   "name": "python3"
  },
  "language_info": {
   "codemirror_mode": {
    "name": "ipython",
    "version": 3.0
   },
   "file_extension": ".py",
   "mimetype": "text/x-python",
   "name": "python",
   "nbconvert_exporter": "python",
   "pygments_lexer": "ipython3",
   "version": "3.4.3"
  }
 },
 "nbformat": 4,
 "nbformat_minor": 0
}