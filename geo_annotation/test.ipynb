{
 "cells": [
  {
   "cell_type": "code",
   "execution_count": 1,
   "metadata": {
    "collapsed": true
   },
   "outputs": [],
   "source": [
    "import sys\n",
    "sys.path.append('..')"
   ]
  },
  {
   "cell_type": "code",
   "execution_count": 2,
   "metadata": {
    "collapsed": false
   },
   "outputs": [],
   "source": [
    "from elasticsearch import Elasticsearch\n",
    "es = Elasticsearch()\n",
    "from lib.classification.elastic import search_item\n",
    "from lib.obo import read_ontology\n",
    "\n"
   ]
  },
  {
   "cell_type": "code",
   "execution_count": 3,
   "metadata": {
    "collapsed": false
   },
   "outputs": [
    {
     "name": "stdout",
     "output_type": "stream",
     "text": [
      "Read obo graph\n",
      "Name: \n",
      "Type: DiGraph\n",
      "Number of nodes: 6595\n",
      "Number of edges: 6594\n",
      "Average in degree:   0.9998\n",
      "Average out degree:   0.9998\n"
     ]
    }
   ],
   "source": [
    "ontology = read_ontology('../data/geo-annotation/doid.obo',\n",
    "                         exclude_duplicates=True)"
   ]
  },
  {
   "cell_type": "code",
   "execution_count": 4,
   "metadata": {
    "collapsed": true
   },
   "outputs": [],
   "source": [
    "es =Elasticsearch()"
   ]
  },
  {
   "cell_type": "code",
   "execution_count": 10,
   "metadata": {
    "collapsed": false
   },
   "outputs": [
    {
     "data": {
      "text/plain": [
       "{'id': 'DOID:1520', 'is_a': 'DOID:219', 'is_obsolete': None, 'name': 'colon carcinoma', 'relationships': [], 'synonyms': ['carcinoma of colon (disorder)', 'colonic carcinoma'], 'alt_ids': [], 'xrefs': ['NCI:C4910', 'OMIM:114500', 'SNOMEDCT_2010_1_31:154454005', 'SNOMEDCT_2010_1_31:269533000', 'UMLS_CUI:C0699790'], 'subsets': [], 'defs': ['A colon cancer that has_material_basis_in abnormally proliferating cells derives_from epithelial cells.']}"
      ]
     },
     "execution_count": 10,
     "metadata": {},
     "output_type": "execute_result"
    }
   ],
   "source": [
    "item = ontology.meta['DOID:1520']\n",
    "item"
   ]
  },
  {
   "cell_type": "code",
   "execution_count": 11,
   "metadata": {
    "collapsed": false
   },
   "outputs": [
    {
     "name": "stdout",
     "output_type": "stream",
     "text": [
      "{'fields': ['id'], 'query': {'filtered': {'filter': {'terms': {'id': [18462]}}, 'query': {'bool': {'should': [{'multi_match': {'fields': ['_all'], 'type': 'phrase', 'query': 'colon carcinoma', 'slop': 3}}, {'multi_match': {'fields': ['_all'], 'type': 'phrase', 'query': 'carcinoma of colon (disorder)', 'slop': 3}}, {'multi_match': {'fields': ['_all'], 'type': 'phrase', 'query': 'colonic carcinoma', 'slop': 3}}]}}}}}\n"
     ]
    },
    {
     "data": {
      "text/plain": [
       "[18462]"
      ]
     },
     "execution_count": 11,
     "metadata": {},
     "output_type": "execute_result"
    }
   ],
   "source": [
    "search_item(client=es, item=item, index='series', ids=[18462], debug=True)"
   ]
  },
  {
   "cell_type": "code",
   "execution_count": 8,
   "metadata": {
    "collapsed": false
   },
   "outputs": [
    {
     "data": {
      "text/plain": [
       "{'id': 'DOID:1520', 'is_a': 'DOID:219', 'is_obsolete': None, 'name': 'colon carcinoma', 'relationships': [], 'synonyms': ['carcinoma of colon (disorder)', 'colonic carcinoma'], 'alt_ids': [], 'xrefs': ['NCI:C4910', 'OMIM:114500', 'SNOMEDCT_2010_1_31:154454005', 'SNOMEDCT_2010_1_31:269533000', 'UMLS_CUI:C0699790'], 'subsets': [], 'defs': ['A colon cancer that has_material_basis_in abnormally proliferating cells derives_from epithelial cells.']}"
      ]
     },
     "execution_count": 8,
     "metadata": {},
     "output_type": "execute_result"
    }
   ],
   "source": [
    "ontology.meta['DOID:1520']"
   ]
  },
  {
   "cell_type": "code",
   "execution_count": null,
   "metadata": {
    "collapsed": true
   },
   "outputs": [],
   "source": []
  }
 ],
 "metadata": {
  "kernelspec": {
   "display_name": "Python 3",
   "language": "python",
   "name": "python3"
  },
  "language_info": {
   "codemirror_mode": {
    "name": "ipython",
    "version": 3
   },
   "file_extension": ".py",
   "mimetype": "text/x-python",
   "name": "python",
   "nbconvert_exporter": "python",
   "pygments_lexer": "ipython3",
   "version": "3.4.3"
  }
 },
 "nbformat": 4,
 "nbformat_minor": 0
}
