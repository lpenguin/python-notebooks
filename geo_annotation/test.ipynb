{
 "cells": [
  {
   "cell_type": "code",
   "execution_count": 1,
   "metadata": {
    "collapsed": true
   },
   "outputs": [],
   "source": [
    "import sys\n",
    "sys.path.append('..')"
   ]
  },
  {
   "cell_type": "code",
   "execution_count": null,
   "metadata": {
    "collapsed": true
   },
   "outputs": [],
   "source": []
  },
  {
   "cell_type": "code",
   "execution_count": 2,
   "metadata": {
    "collapsed": false
   },
   "outputs": [],
   "source": [
    "from elasticsearch import Elasticsearch\n",
    "es = Elasticsearch()\n",
    "from lib.classification.elastic import search_item\n",
    "from lib.obo import read_ontology\n",
    "\n"
   ]
  },
  {
   "cell_type": "code",
   "execution_count": 12,
   "metadata": {
    "collapsed": false
   },
   "outputs": [
    {
     "name": "stdout",
     "output_type": "stream",
     "text": [
      "Read obo graph\n",
      "Name: \n",
      "Type: DiGraph\n",
      "Number of nodes: 6595\n",
      "Number of edges: 6594\n",
      "Average in degree:   0.9998\n",
      "Average out degree:   0.9998\n"
     ]
    }
   ],
   "source": [
    "ontology = read_ontology('../data/geo-annotation/doid.obo',\n",
    "                         exclude_duplicates=True)"
   ]
  },
  {
   "cell_type": "code",
   "execution_count": 14,
   "metadata": {
    "collapsed": false
   },
   "outputs": [
    {
     "data": {
      "text/plain": [
       "{'alt_ids': [],\n",
       " 'defs': ['A large intestine cancer that is located_in the colon and/or located_in the rectum.'],\n",
       " 'id': 'DOID:9256',\n",
       " 'is_a': 'DOID:5672',\n",
       " 'is_obsolete': None,\n",
       " 'name': 'colorectal cancer',\n",
       " 'relationships': [],\n",
       " 'subsets': ['DO_MGI_slim'],\n",
       " 'synonyms': [],\n",
       " 'xrefs': ['KEGG:05210',\n",
       "  'MSH:D015179',\n",
       "  'OMIM:114500',\n",
       "  'OMIM:608812',\n",
       "  'OMIM:611469',\n",
       "  'OMIM:612229',\n",
       "  'OMIM:612230',\n",
       "  'OMIM:612231',\n",
       "  'OMIM:612232',\n",
       "  'OMIM:612589',\n",
       "  'OMIM:612590',\n",
       "  'OMIM:612591',\n",
       "  'OMIM:612592',\n",
       "  'OMIM:615083',\n",
       "  'UMLS_CUI:C1527249']}"
      ]
     },
     "execution_count": 14,
     "metadata": {},
     "output_type": "execute_result"
    }
   ],
   "source": [
    "ontology.meta['DOID:9256'].dict()"
   ]
  },
  {
   "cell_type": "code",
   "execution_count": 4,
   "metadata": {
    "collapsed": true
   },
   "outputs": [],
   "source": [
    "es =Elasticsearch()"
   ]
  },
  {
   "cell_type": "code",
   "execution_count": 10,
   "metadata": {
    "collapsed": false
   },
   "outputs": [
    {
     "data": {
      "text/plain": [
       "{'id': 'DOID:1520', 'is_a': 'DOID:219', 'is_obsolete': None, 'name': 'colon carcinoma', 'relationships': [], 'synonyms': ['carcinoma of colon (disorder)', 'colonic carcinoma'], 'alt_ids': [], 'xrefs': ['NCI:C4910', 'OMIM:114500', 'SNOMEDCT_2010_1_31:154454005', 'SNOMEDCT_2010_1_31:269533000', 'UMLS_CUI:C0699790'], 'subsets': [], 'defs': ['A colon cancer that has_material_basis_in abnormally proliferating cells derives_from epithelial cells.']}"
      ]
     },
     "execution_count": 10,
     "metadata": {},
     "output_type": "execute_result"
    }
   ],
   "source": [
    "item = ontology.meta['DOID:1520']\n",
    "item"
   ]
  },
  {
   "cell_type": "code",
   "execution_count": 11,
   "metadata": {
    "collapsed": false
   },
   "outputs": [
    {
     "name": "stdout",
     "output_type": "stream",
     "text": [
      "{'fields': ['id'], 'query': {'filtered': {'filter': {'terms': {'id': [18462]}}, 'query': {'bool': {'should': [{'multi_match': {'fields': ['_all'], 'type': 'phrase', 'query': 'colon carcinoma', 'slop': 3}}, {'multi_match': {'fields': ['_all'], 'type': 'phrase', 'query': 'carcinoma of colon (disorder)', 'slop': 3}}, {'multi_match': {'fields': ['_all'], 'type': 'phrase', 'query': 'colonic carcinoma', 'slop': 3}}]}}}}}\n"
     ]
    },
    {
     "data": {
      "text/plain": [
       "[18462]"
      ]
     },
     "execution_count": 11,
     "metadata": {},
     "output_type": "execute_result"
    }
   ],
   "source": [
    "search_item(client=es, item=item, index='series', ids=[18462], debug=True)"
   ]
  },
  {
   "cell_type": "code",
   "execution_count": 8,
   "metadata": {
    "collapsed": false
   },
   "outputs": [
    {
     "data": {
      "text/plain": [
       "{'id': 'DOID:1520', 'is_a': 'DOID:219', 'is_obsolete': None, 'name': 'colon carcinoma', 'relationships': [], 'synonyms': ['carcinoma of colon (disorder)', 'colonic carcinoma'], 'alt_ids': [], 'xrefs': ['NCI:C4910', 'OMIM:114500', 'SNOMEDCT_2010_1_31:154454005', 'SNOMEDCT_2010_1_31:269533000', 'UMLS_CUI:C0699790'], 'subsets': [], 'defs': ['A colon cancer that has_material_basis_in abnormally proliferating cells derives_from epithelial cells.']}"
      ]
     },
     "execution_count": 8,
     "metadata": {},
     "output_type": "execute_result"
    }
   ],
   "source": [
    "ontology.meta['DOID:1520']"
   ]
  },
  {
   "cell_type": "code",
   "execution_count": 16,
   "metadata": {
    "collapsed": false
   },
   "outputs": [
    {
     "data": {
      "text/plain": [
       "{'.marvel-2015.09.06': {'settings': {'index': {'analysis': {'analyzer': {'default': {'stopwords': '_none_',\n",
       "       'type': 'standard'}}},\n",
       "    'creation_date': '1441538703803',\n",
       "    'mapper': {'dynamic': 'true'},\n",
       "    'marvel': {'index_format': '6'},\n",
       "    'number_of_replicas': '1',\n",
       "    'number_of_shards': '1',\n",
       "    'uuid': 'EgEx9OVhT06l_SnL7FaHFQ',\n",
       "    'version': {'created': '1070199'}}}},\n",
       " '.marvel-2015.09.07': {'settings': {'index': {'analysis': {'analyzer': {'default': {'stopwords': '_none_',\n",
       "       'type': 'standard'}}},\n",
       "    'creation_date': '1441624664604',\n",
       "    'mapper': {'dynamic': 'true'},\n",
       "    'marvel': {'index_format': '6'},\n",
       "    'number_of_replicas': '1',\n",
       "    'number_of_shards': '1',\n",
       "    'uuid': 'b9eyQL09TimarUnG2XMZ4Q',\n",
       "    'version': {'created': '1070199'}}}},\n",
       " '.marvel-2015.09.08': {'settings': {'index': {'analysis': {'analyzer': {'default': {'stopwords': '_none_',\n",
       "       'type': 'standard'}}},\n",
       "    'creation_date': '1441696443886',\n",
       "    'mapper': {'dynamic': 'true'},\n",
       "    'marvel': {'index_format': '6'},\n",
       "    'number_of_replicas': '1',\n",
       "    'number_of_shards': '1',\n",
       "    'uuid': '6q4HelSiRxiZZSCHOTaTIw',\n",
       "    'version': {'created': '1070199'}}}},\n",
       " '.marvel-2015.09.22': {'settings': {'index': {'analysis': {'analyzer': {'default': {'stopwords': '_none_',\n",
       "       'type': 'standard'}}},\n",
       "    'creation_date': '1442924101697',\n",
       "    'mapper': {'dynamic': 'true'},\n",
       "    'marvel': {'index_format': '6'},\n",
       "    'number_of_replicas': '1',\n",
       "    'number_of_shards': '1',\n",
       "    'uuid': 'rhb8TnKUQFSCCTfT4m_0ug',\n",
       "    'version': {'created': '1070199'}}}},\n",
       " '.marvel-2015.09.23': {'settings': {'index': {'analysis': {'analyzer': {'default': {'stopwords': '_none_',\n",
       "       'type': 'standard'}}},\n",
       "    'creation_date': '1443002250587',\n",
       "    'mapper': {'dynamic': 'true'},\n",
       "    'marvel': {'index_format': '6'},\n",
       "    'number_of_replicas': '1',\n",
       "    'number_of_shards': '1',\n",
       "    'uuid': 'dPv_qMPNRfye8Y9JH6UkaA',\n",
       "    'version': {'created': '1070199'}}}},\n",
       " '.marvel-2015.09.24': {'settings': {'index': {'analysis': {'analyzer': {'default': {'stopwords': '_none_',\n",
       "       'type': 'standard'}}},\n",
       "    'creation_date': '1443102784651',\n",
       "    'mapper': {'dynamic': 'true'},\n",
       "    'marvel': {'index_format': '6'},\n",
       "    'number_of_replicas': '1',\n",
       "    'number_of_shards': '1',\n",
       "    'uuid': 'vh2N0MWYTdOHh-I2hTaP8Q',\n",
       "    'version': {'created': '1070199'}}}},\n",
       " '.marvel-2015.09.25': {'settings': {'index': {'analysis': {'analyzer': {'default': {'stopwords': '_none_',\n",
       "       'type': 'standard'}}},\n",
       "    'creation_date': '1443161100657',\n",
       "    'mapper': {'dynamic': 'true'},\n",
       "    'marvel': {'index_format': '6'},\n",
       "    'number_of_replicas': '1',\n",
       "    'number_of_shards': '1',\n",
       "    'uuid': 'Yn__02oqTDyPKMFFeLceHg',\n",
       "    'version': {'created': '1070199'}}}},\n",
       " '.marvel-2015.09.26': {'settings': {'index': {'analysis': {'analyzer': {'default': {'stopwords': '_none_',\n",
       "       'type': 'standard'}}},\n",
       "    'creation_date': '1443245436290',\n",
       "    'mapper': {'dynamic': 'true'},\n",
       "    'marvel': {'index_format': '6'},\n",
       "    'number_of_replicas': '1',\n",
       "    'number_of_shards': '1',\n",
       "    'uuid': '64CVlBFlTRKdSSpAxOWxKw',\n",
       "    'version': {'created': '1070199'}}}},\n",
       " '.marvel-2015.09.27': {'settings': {'index': {'analysis': {'analyzer': {'default': {'stopwords': '_none_',\n",
       "       'type': 'standard'}}},\n",
       "    'creation_date': '1443371591910',\n",
       "    'mapper': {'dynamic': 'true'},\n",
       "    'marvel': {'index_format': '6'},\n",
       "    'number_of_replicas': '1',\n",
       "    'number_of_shards': '1',\n",
       "    'uuid': 'oh6Vi9KsSvKmZqEiyMGQYg',\n",
       "    'version': {'created': '1070199'}}}},\n",
       " '.marvel-2015.09.28': {'settings': {'index': {'analysis': {'analyzer': {'default': {'stopwords': '_none_',\n",
       "       'type': 'standard'}}},\n",
       "    'creation_date': '1443429452877',\n",
       "    'mapper': {'dynamic': 'true'},\n",
       "    'marvel': {'index_format': '6'},\n",
       "    'number_of_replicas': '1',\n",
       "    'number_of_shards': '1',\n",
       "    'uuid': 'cpj8jROATRGyn9kx0O86gQ',\n",
       "    'version': {'created': '1070199'}}}},\n",
       " '.marvel-2015.09.29': {'settings': {'index': {'analysis': {'analyzer': {'default': {'stopwords': '_none_',\n",
       "       'type': 'standard'}}},\n",
       "    'creation_date': '1443525765060',\n",
       "    'mapper': {'dynamic': 'true'},\n",
       "    'marvel': {'index_format': '6'},\n",
       "    'number_of_replicas': '1',\n",
       "    'number_of_shards': '1',\n",
       "    'uuid': 'wxC3zyW2TemF7VZv1fsOqw',\n",
       "    'version': {'created': '1070199'}}}},\n",
       " '.marvel-2015.09.30': {'settings': {'index': {'analysis': {'analyzer': {'default': {'stopwords': '_none_',\n",
       "       'type': 'standard'}}},\n",
       "    'creation_date': '1443596632572',\n",
       "    'mapper': {'dynamic': 'true'},\n",
       "    'marvel': {'index_format': '6'},\n",
       "    'number_of_replicas': '1',\n",
       "    'number_of_shards': '1',\n",
       "    'uuid': 'TKO-mmThQZukR2yL_yDo_Q',\n",
       "    'version': {'created': '1070199'}}}},\n",
       " 'brenda-ontology': {'settings': {'index': {'creation_date': '1443113947008',\n",
       "    'number_of_replicas': '1',\n",
       "    'number_of_shards': '5',\n",
       "    'uuid': 'GwN50gdLSkaafgiSXIb9lA',\n",
       "    'version': {'created': '1070199'}}}},\n",
       " 'disease_ontology': {'settings': {'index': {'creation_date': '1443611230656',\n",
       "    'number_of_replicas': '1',\n",
       "    'number_of_shards': '5',\n",
       "    'uuid': 'alhfEnOOTlqi690V2r1v2A',\n",
       "    'version': {'created': '1070199'}}}},\n",
       " 'pha_dataset': {'settings': {'index': {'creation_date': '1439468314752',\n",
       "    'number_of_replicas': '1',\n",
       "    'number_of_shards': '5',\n",
       "    'uuid': '_Lts5L6XTsmB7AZp2RZhiA',\n",
       "    'version': {'created': '1070099'}}}},\n",
       " 'samples': {'settings': {'index': {'analysis': {'analyzer': {'default': {'filter': ['standard',\n",
       "        'lowercase',\n",
       "        'stop',\n",
       "        'kstem'],\n",
       "       'tokenizer': 'standard',\n",
       "       'type': 'custom'}}},\n",
       "    'creation_date': '1443450215869',\n",
       "    'number_of_replicas': '1',\n",
       "    'number_of_shards': '5',\n",
       "    'uuid': 'BEy5mcZ5SBKbMczZOygQTg',\n",
       "    'version': {'created': '1070199'}}}},\n",
       " 'samples1': {'settings': {'index': {'creation_date': '1441113091810',\n",
       "    'number_of_replicas': '1',\n",
       "    'number_of_shards': '5',\n",
       "    'uuid': 'H2WnSCULRfKZ2noxG5o-2g',\n",
       "    'version': {'created': '1070199'}}}},\n",
       " 'series': {'settings': {'index': {'creation_date': '1443601326464',\n",
       "    'number_of_replicas': '1',\n",
       "    'number_of_shards': '5',\n",
       "    'uuid': 'ZXLm4rwDQwimTKuxnh9bWQ',\n",
       "    'version': {'created': '1070199'}}}},\n",
       " 'test': {'settings': {'index': {'analysis': {'analyzer': {'default': {'filter': ['standard',\n",
       "        'lowercase',\n",
       "        'stop',\n",
       "        'kstem'],\n",
       "       'tokenizer': 'standard',\n",
       "       'type': 'custom'}}},\n",
       "    'creation_date': '1443432911218',\n",
       "    'number_of_replicas': '1',\n",
       "    'number_of_shards': '5',\n",
       "    'uuid': 'z9hfJSB9RDSvxrlYpRZIMw',\n",
       "    'version': {'created': '1070199'}}}}}"
      ]
     },
     "execution_count": 16,
     "metadata": {},
     "output_type": "execute_result"
    }
   ],
   "source": [
    "from elasticsearch import Elasticsearch\n",
    "from elasticsearch.client import IndicesClient\n",
    "\n",
    "es  =Elasticsearch()\n",
    "ies = IndicesClient(es)\n",
    "ies.get_settings()"
   ]
  },
  {
   "cell_type": "code",
   "execution_count": 17,
   "metadata": {
    "collapsed": true
   },
   "outputs": [],
   "source": [
    "import pymonad\n",
    "\n",
    "@pymonad.curry\n",
    "def plus(a, b):\n",
    "    return a + b\n",
    "\n",
    "\n",
    "@pymonad.curry\n",
    "def mul(a, b):\n",
    "    return a * b"
   ]
  },
  {
   "cell_type": "code",
   "execution_count": 22,
   "metadata": {
    "collapsed": false
   },
   "outputs": [
    {
     "data": {
      "text/plain": [
       "28"
      ]
     },
     "execution_count": 22,
     "metadata": {},
     "output_type": "execute_result"
    }
   ],
   "source": [
    "mul(2, plus(10, 4))"
   ]
  },
  {
   "cell_type": "code",
   "execution_count": 23,
   "metadata": {
    "collapsed": false
   },
   "outputs": [
    {
     "data": {
      "text/plain": [
       "28"
      ]
     },
     "execution_count": 23,
     "metadata": {},
     "output_type": "execute_result"
    }
   ],
   "source": [
    "(mul(2) * plus(10))(4)"
   ]
  },
  {
   "cell_type": "code",
   "execution_count": 1,
   "metadata": {
    "collapsed": true
   },
   "outputs": [],
   "source": [
    "def levenshtein(s1, s2):\n",
    "    if len(s1) < len(s2):\n",
    "        return levenshtein(s2, s1)\n",
    "\n",
    "    # len(s1) >= len(s2)\n",
    "    if len(s2) == 0:\n",
    "        return len(s1)\n",
    "\n",
    "    previous_row = range(len(s2) + 1)\n",
    "    for i, c1 in enumerate(s1):\n",
    "        current_row = [i + 1]\n",
    "        for j, c2 in enumerate(s2):\n",
    "            insertions = previous_row[j + 1] + 1 # j+1 instead of j since previous_row and current_row are one character longer\n",
    "            deletions = current_row[j] + 1       # than s2\n",
    "            substitutions = previous_row[j] + (c1 != c2)\n",
    "            current_row.append(min(insertions, deletions, substitutions))\n",
    "        previous_row = current_row\n",
    "    \n",
    "    return previous_row[-1]\n"
   ]
  },
  {
   "cell_type": "code",
   "execution_count": 3,
   "metadata": {
    "collapsed": false
   },
   "outputs": [
    {
     "data": {
      "text/plain": [
       "2"
      ]
     },
     "execution_count": 3,
     "metadata": {},
     "output_type": "execute_result"
    }
   ],
   "source": [
    "levenshtein(['abc', 'cde'], ['cde', 'efg'])"
   ]
  }
 ],
 "metadata": {
  "kernelspec": {
   "display_name": "Python 3",
   "language": "python",
   "name": "python3"
  },
  "language_info": {
   "codemirror_mode": {
    "name": "ipython",
    "version": 3
   },
   "file_extension": ".py",
   "mimetype": "text/x-python",
   "name": "python",
   "nbconvert_exporter": "python",
   "pygments_lexer": "ipython3",
   "version": "3.4.3"
  }
 },
 "nbformat": 4,
 "nbformat_minor": 0
}
