{
 "cells": [
  {
   "cell_type": "markdown",
   "metadata": {},
   "source": [
    "## Importing all series into elastic search index"
   ]
  },
  {
   "cell_type": "code",
   "execution_count": null,
   "metadata": {
    "collapsed": true
   },
   "outputs": [],
   "source": [
    "from elasticsearch import Elasticsearch\n",
    "from elasticsearch.client import IndicesClient\n",
    "from elasticsearch_dsl import Mapping, String, Integer\n",
    "from time import sleep\n",
    "import pymongo"
   ]
  },
  {
   "cell_type": "code",
   "execution_count": null,
   "metadata": {
    "collapsed": true
   },
   "outputs": [],
   "source": [
    "es = Elasticsearch()\n",
    "ies = IndicesClient(es)\n",
    "db = pymongo.MongoClient().scraper_meta\n",
    "db.series.count()"
   ]
  },
  {
   "cell_type": "code",
   "execution_count": null,
   "metadata": {
    "collapsed": true
   },
   "outputs": [],
   "source": [
    "if ies.exists('series'):\n",
    "    ies.delete('series')\n",
    "ies.create('series')\n",
    "sleep(1)"
   ]
  },
  {
   "cell_type": "code",
   "execution_count": null,
   "metadata": {
    "collapsed": true
   },
   "outputs": [],
   "source": [
    "ies.close('series')\n",
    "m = Mapping('series')\n",
    "\n",
    "m.field('accession', String(index='not_analyzed'))\n",
    "m.field('id', Integer())\n",
    "m.field('organism', String(index='not_analyzed'))\n",
    "m.field('platforms', String(index='not_analyzed'))\n",
    "m.field('samples', String(index='not_analyzed'))\n",
    "\n",
    "m.field('title', String())\n",
    "m.field('summary', String())\n",
    "m.field('overall_design', String())\n",
    "\n",
    "m.save('series', using=es)\n",
    "\n",
    "# ies.put_settings(index='series', body={\n",
    "#     \"analysis\":{\n",
    "#       \"analyzer\":{\n",
    "#         \"default\":{\n",
    "#           \"type\":\"custom\",\n",
    "#           \"tokenizer\":\"standard\",\n",
    "#           \"filter\":[ \"standard\", \"lowercase\", \"stop\", \"kstem\" ]\n",
    "#         }\n",
    "#       }\n",
    "#     }\n",
    "# })\n",
    "# sleep(1)\n",
    "ies.open('series')"
   ]
  },
  {
   "cell_type": "code",
   "execution_count": null,
   "metadata": {
    "collapsed": true
   },
   "outputs": [],
   "source": [
    "def fields(fields_list):\n",
    "    return dict((f, 1) for f in fields_list)"
   ]
  },
  {
   "cell_type": "code",
   "execution_count": null,
   "metadata": {
    "collapsed": true
   },
   "outputs": [],
   "source": [
    "series = list(db.series.find({}, fields(['accession', 'organism', 'platforms', 'samples', 'title', 'summary', 'overall_design'])))"
   ]
  },
  {
   "cell_type": "code",
   "execution_count": null,
   "metadata": {
    "collapsed": true
   },
   "outputs": [],
   "source": [
    "actions = [dict(\n",
    "            _index='series',\n",
    "            _type='series',\n",
    "            _source=dict([('id', int(s['accession'][3:]))] + list((k, v) for (k, v) in s.items() if k != '_id'))\n",
    "            ) for s in series]\n",
    "\n",
    "\n",
    "from elasticsearch.helpers import bulk\n",
    "\n",
    "bulk(es, actions)"
   ]
  }
 ],
 "metadata": {
  "kernelspec": {
   "display_name": "Python 3",
   "language": "python",
   "name": "python3"
  },
  "language_info": {
   "codemirror_mode": {
    "name": "ipython",
    "version": 3
   },
   "file_extension": ".py",
   "mimetype": "text/x-python",
   "name": "python",
   "nbconvert_exporter": "python",
   "pygments_lexer": "ipython3",
   "version": "3.4.3"
  }
 },
 "nbformat": 4,
 "nbformat_minor": 0
}
