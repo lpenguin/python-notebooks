{
 "cells": [
  {
   "cell_type": "code",
   "execution_count": 1,
   "metadata": {
    "collapsed": true
   },
   "outputs": [],
   "source": [
    "import sys\n",
    "sys.path.append('..')"
   ]
  },
  {
   "cell_type": "code",
   "execution_count": 46,
   "metadata": {
    "collapsed": false
   },
   "outputs": [],
   "source": [
    "from importlib import reload\n",
    "from os.path import exists\n",
    "\n",
    "import networkx as nx\n",
    "import numpy as np\n",
    "import pandas as pd\n",
    "import lib.obo\n",
    "import lib.classification.elastic\n",
    "import lib.classification.validation\n",
    "import lib.utils\n",
    "import data\n",
    "import pymonad\n",
    "\n",
    "reload(lib.classification.validation)\n",
    "reload(lib.classification.elastic)\n",
    "reload(lib.obo)\n",
    "reload(lib.utils)\n",
    "reload(data)\n",
    "\n",
    "from lib.classification.elastic import annotate_index, collapse_matches, build_synonyms_graph\n",
    "from lib.utils import map_series, expand_dataframe, expand, flatten\n",
    "from lib.classification.validation import correct_ratio, incorrect_ratio, perfect_match\n",
    "from geo_annotation.import_ontology_es import import_ontology\n",
    "from elasticsearch import Elasticsearch\n",
    "from lib.obo import read_ontology, Ontology\n",
    "pd.set_option('display.width', 512)"
   ]
  },
  {
   "cell_type": "code",
   "execution_count": 3,
   "metadata": {
    "collapsed": true
   },
   "outputs": [],
   "source": [
    "import seaborn\n",
    "%matplotlib inline"
   ]
  },
  {
   "cell_type": "code",
   "execution_count": 37,
   "metadata": {
    "collapsed": false
   },
   "outputs": [
    {
     "data": {
      "text/html": [
       "<div>\n",
       "<table border=\"1\" class=\"dataframe\">\n",
       "  <thead>\n",
       "    <tr style=\"text-align: right;\">\n",
       "      <th></th>\n",
       "      <th>classes</th>\n",
       "    </tr>\n",
       "    <tr>\n",
       "      <th>id</th>\n",
       "      <th></th>\n",
       "    </tr>\n",
       "  </thead>\n",
       "  <tbody>\n",
       "    <tr>\n",
       "      <th>10213</th>\n",
       "      <td>[BTO:0000089]</td>\n",
       "    </tr>\n",
       "    <tr>\n",
       "      <th>10220</th>\n",
       "      <td>[BTO:0000089]</td>\n",
       "    </tr>\n",
       "    <tr>\n",
       "      <th>10306</th>\n",
       "      <td>[BTO:0001129]</td>\n",
       "    </tr>\n",
       "    <tr>\n",
       "      <th>10358</th>\n",
       "      <td>[BTO:0000141]</td>\n",
       "    </tr>\n",
       "    <tr>\n",
       "      <th>10402</th>\n",
       "      <td>[BTO:0000269]</td>\n",
       "    </tr>\n",
       "    <tr>\n",
       "      <th>10547</th>\n",
       "      <td>[BTO:0000149]</td>\n",
       "    </tr>\n",
       "    <tr>\n",
       "      <th>10612</th>\n",
       "      <td>[BTO:0000089]</td>\n",
       "    </tr>\n",
       "    <tr>\n",
       "      <th>10802</th>\n",
       "      <td>[BTO:0001422]</td>\n",
       "    </tr>\n",
       "    <tr>\n",
       "      <th>10846</th>\n",
       "      <td>[BTO:0000784]</td>\n",
       "    </tr>\n",
       "    <tr>\n",
       "      <th>11247</th>\n",
       "      <td>[BTO:0000089]</td>\n",
       "    </tr>\n",
       "  </tbody>\n",
       "</table>\n",
       "</div>"
      ],
      "text/plain": [
       "             classes\n",
       "id                  \n",
       "10213  [BTO:0000089]\n",
       "10220  [BTO:0000089]\n",
       "10306  [BTO:0001129]\n",
       "10358  [BTO:0000141]\n",
       "10402  [BTO:0000269]\n",
       "10547  [BTO:0000149]\n",
       "10612  [BTO:0000089]\n",
       "10802  [BTO:0001422]\n",
       "10846  [BTO:0000784]\n",
       "11247  [BTO:0000089]"
      ]
     },
     "execution_count": 37,
     "metadata": {},
     "output_type": "execute_result"
    }
   ],
   "source": [
    "validation_set = pd.read_pickle(\"../data/geo-annotation/geo-characteristics-tissue-series.py3.pickle\")\n",
    "validation_set = pd.DataFrame(dict(classes=validation_set.groupby('series')['oid'].apply(list)))\n",
    "validation_set['id'] = validation_set.index.map(lambda s: int(s[3:]))\n",
    "validation_set.set_index('id', inplace=True)\n",
    "\n",
    "validation_set_ids = [int(s) for s in validation_set.index.tolist()]\n",
    "\n",
    "validation_set[:10]"
   ]
  },
  {
   "cell_type": "code",
   "execution_count": 48,
   "metadata": {
    "collapsed": false
   },
   "outputs": [
    {
     "name": "stdout",
     "output_type": "stream",
     "text": [
      "Read obo graph\n",
      "Name: \n",
      "Type: DiGraph\n",
      "Number of nodes: 5659\n",
      "Number of edges: 6430\n",
      "Average in degree:   1.1362\n",
      "Average out degree:   1.1362\n"
     ]
    }
   ],
   "source": [
    "es = Elasticsearch()\n",
    "ontology = read_ontology('../data/geo-annotation/brenda-tissue-ontology.obo',\n",
    "                         exclude_duplicates=True,\n",
    "                         subgraph='BTO:0001489')"
   ]
  },
  {
   "cell_type": "code",
   "execution_count": 15,
   "metadata": {
    "collapsed": false
   },
   "outputs": [],
   "source": [
    "# Убираем синонимы состоящие только из коротких слов  (len <= 2 )\n",
    "# (вообще ошибка происходит изза стоп-слов в Elasticsearch, но так проще)\n",
    "\n",
    "def cell():\n",
    "    import re\n",
    "    def tokenize(s):\n",
    "        return re.split(r'[^\\w\\d]+', s)\n",
    "    \n",
    "    def all_short(synonym):\n",
    "        return all(len(t) <= 2 for t in tokenize(synonym))\n",
    "    \n",
    "    for item_id, item in ontology.meta.items():\n",
    "        item.synonyms = [s for s in item.synonyms if not all_short(s)]\n",
    "\n",
    "cell()"
   ]
  },
  {
   "cell_type": "code",
   "execution_count": 49,
   "metadata": {
    "collapsed": false
   },
   "outputs": [],
   "source": [
    "import_ontology(ontology, 'tissue_ontology')\n",
    "syn_ontology = Ontology(build_synonyms_graph(ontology, es, 'tissue_ontology'), list(ontology.items()))"
   ]
  },
  {
   "cell_type": "code",
   "execution_count": 22,
   "metadata": {
    "collapsed": false
   },
   "outputs": [],
   "source": [
    "annotation_result_file = '../data/geo-annotation/series.tissue.res2.pickle'\n",
    "if not exists(annotation_result_file):\n",
    "    res = annotate_index(client=es,\n",
    "                         ontology=ontology,\n",
    "                         index='series',\n",
    "                         ids=validation_set_ids\n",
    "                        )\n",
    "\n",
    "    res.to_pickle(annotation_result_file)\n",
    "\n",
    "else:\n",
    "    res = pd.read_pickle(annotation_result_file)"
   ]
  },
  {
   "cell_type": "code",
   "execution_count": 23,
   "metadata": {
    "collapsed": false
   },
   "outputs": [
    {
     "data": {
      "text/plain": [
       "1646"
      ]
     },
     "execution_count": 23,
     "metadata": {},
     "output_type": "execute_result"
    }
   ],
   "source": [
    "len(res)"
   ]
  },
  {
   "cell_type": "code",
   "execution_count": 96,
   "metadata": {
    "collapsed": false
   },
   "outputs": [],
   "source": [
    "def doid_id(item_id):\n",
    "    return \"BTO:{:07}\".format(item_id)\n",
    "\n",
    "\n",
    "def ontology_name(item_id):\n",
    "    if item_id not in ontology.meta:\n",
    "        return item_id\n",
    "    return ontology.meta[item_id].name\n",
    "\n",
    "\n",
    "def to_name(series_id):\n",
    "    return \"GSE{}\".format(series_id)\n",
    "\n",
    "def name(item_id):\n",
    "    return '{} ({})'.format(ontology_name(item_id), item_id)\n",
    "\n",
    "def names(df):\n",
    "    return df.applymap(lambda xs: [name(x) for x in xs])\n",
    "\n",
    "def sub_ontology(nodes, ontology):\n",
    "    subset = set(flatten([nx.shortest_path(ontology.graph, 'BTO:0001489', cls) for cls in nodes]))\n",
    "    for n in nodes:\n",
    "        subset.add(n)\n",
    "    return nx.subgraph(ontology.graph, subset)\n",
    "\n",
    "def matches_graph(matches, vd_classes=None, figsize=None, prog='neato'):\n",
    "    matches = [m for m in matches if m in ontology.graph.nodes()]\n",
    "    vd_classes = vd_classes or []\n",
    "    import matplotlib.pyplot as plt\n",
    "    figsize = figsize or (14, 10)\n",
    "    plt.figure(figsize=figsize) \n",
    "    import networkx as nx\n",
    "    \n",
    "    G = sub_ontology(matches + vd_classes, ontology)\n",
    "    pos=nx.pygraphviz_layout(G, prog=prog) \n",
    "    \n",
    "    labels = dict((k, v) for (k, v) in names_dict.items() if k in G.nodes())\n",
    "    nodes_other = [x for x in G.nodes() if x not in matches]\n",
    "    \n",
    "    nx.draw_networkx(G, labels=labels, \n",
    "            pos=pos, \n",
    "            node_size=400,\n",
    "            node_color='r',\n",
    "             alpha=0.5,\n",
    "            nodelist=matches)\n",
    "    \n",
    "    nx.draw_networkx(G, labels=labels, \n",
    "        pos=pos, \n",
    "        node_size=400,\n",
    "        node_color='w',\n",
    "         alpha=0.8,\n",
    "        nodelist=nodes_other)\n",
    "    \n",
    "    if vd_classes:\n",
    "        nx.draw_networkx(G, labels=labels, \n",
    "            pos=pos, \n",
    "            node_size=400,\n",
    "            node_color='g',\n",
    "            alpha=0.5,\n",
    "#             font_color='g',                     \n",
    "            nodelist=vd_classes)\n",
    "        \n",
    "    plt.show()\n",
    "\n",
    "    \n",
    "names_dict = dict((record.id, record.name) for record in ontology.meta.values())"
   ]
  },
  {
   "cell_type": "code",
   "execution_count": null,
   "metadata": {
    "collapsed": false
   },
   "outputs": [],
   "source": [
    "# cell_type_cancer = 'DOID:0050687'\n",
    "# organ_system_cancer = 'DOID:0050686'\n",
    "# cell_type_benign_neoplasm = 'DOID:0060084'\n",
    "# organ_system_benign_neoplasm = 'DOID:0060085'\n",
    "\n",
    "# @pymonad.curry\n",
    "# def exclude_similar_branches(ontology, classes):\n",
    "#     has_osc = any(ontology.has_path(organ_system_cancer, c) for c in classes)\n",
    "#     if has_osc:\n",
    "#         return [c for c in classes if not ontology.has_path(cell_type_cancer, c) \n",
    "# #                                       and not ontology.has_path(cell_type_benign_neoplasm, c)\n",
    "# #                                       and not ontology.has_path(organ_system_benign_neoplasm, c) \n",
    "#                ]\n",
    "#     else:\n",
    "#         return classes"
   ]
  },
  {
   "cell_type": "code",
   "execution_count": 25,
   "metadata": {
    "collapsed": false
   },
   "outputs": [],
   "source": [
    "root_disease = 'BTO:0001489'\n",
    "\n",
    "@pymonad.curry\n",
    "def exclude_wide_terms(ontology, classes):\n",
    "    threshold = 4\n",
    "    \n",
    "    return [c for c in classes \n",
    "            if len(nx.shortest_path(ontology.graph, root_disease, c)) > threshold]"
   ]
  },
  {
   "cell_type": "code",
   "execution_count": 99,
   "metadata": {
    "collapsed": false
   },
   "outputs": [],
   "source": [
    "results = pd.DataFrame(dict(\n",
    "        odinary=res.classes,\n",
    "        collapsed=res.classes.map(\n",
    "                                  collapse_matches(ontology.graph)),\n",
    "#                                      exclude_similar_branches(ontology) *\n",
    "#                                      collapse_matches(ontology.graph)),\n",
    "#         collapsed_syn=res.classes.map(collapse_matches(syn_ontology.graph) *\n",
    "#                                      exclude_similar_branches(ontology) *\n",
    "#                                      collapse_matches(ontology.graph)),\n",
    "        \n",
    "#         syn=res.classes.map(collapse_matches(syn_ontology.graph)),\n",
    "\n",
    "        validation=validation_set.classes,\n",
    "        \n",
    "    )\n",
    ").applymap(lambda x: [] if isinstance(x, float) else x)"
   ]
  },
  {
   "cell_type": "code",
   "execution_count": 100,
   "metadata": {
    "collapsed": false
   },
   "outputs": [
    {
     "data": {
      "text/plain": [
       "array([[<matplotlib.axes._subplots.AxesSubplot object at 0x112642160>,\n",
       "        <matplotlib.axes._subplots.AxesSubplot object at 0x1124ce4a8>,\n",
       "        <matplotlib.axes._subplots.AxesSubplot object at 0x1124f9358>,\n",
       "        <matplotlib.axes._subplots.AxesSubplot object at 0x1125e0c18>,\n",
       "        <matplotlib.axes._subplots.AxesSubplot object at 0x1145fabe0>]], dtype=object)"
      ]
     },
     "execution_count": 100,
     "metadata": {},
     "output_type": "execute_result"
    },
    {
     "data": {
      "image/png": "[encoded data removed]",
      "text/plain": [
       "<matplotlib.figure.Figure at 0x11263af28>"
      ]
     },
     "metadata": {},
     "output_type": "display_data"
    }
   ],
   "source": [
    "(\n",
    "    results\n",
    "    .applymap(len).hist(bins=range(0, 9), \n",
    "                        sharey=True, \n",
    "                        layout=(1, 5),\n",
    "                        figsize=(14, 6))\n",
    ")"
   ]
  },
  {
   "cell_type": "code",
   "execution_count": 92,
   "metadata": {
    "collapsed": false
   },
   "outputs": [],
   "source": [
    "def cell():\n",
    "    t = perfect.join(results, lsuffix='_perf')\n",
    "    return t[(~t.collapsed_syn_perf) & (t.collapsed_syn.map(lambda c: len(c)==1))]\n",
    "errors = cell()"
   ]
  },
  {
   "cell_type": "code",
   "execution_count": 94,
   "metadata": {
    "collapsed": true
   },
   "outputs": [],
   "source": [
    "i = 0"
   ]
  },
  {
   "cell_type": "code",
   "execution_count": 98,
   "metadata": {
    "collapsed": false
   },
   "outputs": [
    {
     "name": "stdout",
     "output_type": "stream",
     "text": [
      "2\n",
      "collapsed_perf                False\n",
      "collapsed_syn_perf            False\n",
      "odinary_perf                  False\n",
      "syn_perf                      False\n",
      "collapsed             [BTO:0000759]\n",
      "collapsed_syn         [BTO:0000759]\n",
      "odinary               [BTO:0000759]\n",
      "syn                   [BTO:0000759]\n",
      "validation            [BTO:0000784]\n",
      "Name: 6857, dtype: object\n"
     ]
    },
    {
     "data": {
      "image/png": "[encoded data removed]",
      "text/plain": [
       "<matplotlib.figure.Figure at 0x11263a588>"
      ]
     },
     "metadata": {},
     "output_type": "display_data"
    }
   ],
   "source": [
    "def cell():\n",
    "    global i\n",
    "    row = errors.iloc[i]\n",
    "    print(i)\n",
    "    print(row)\n",
    "    i += 1\n",
    "    matches_graph(row.collapsed_syn, row.validation)\n",
    "    \n",
    "cell()"
   ]
  },
  {
   "cell_type": "code",
   "execution_count": 81,
   "metadata": {
    "collapsed": false
   },
   "outputs": [],
   "source": [
    "def compare(rc, vc):\n",
    "    return ontology.has_path(rc, vc)\n",
    "\n",
    "def compare2(rc, vc):\n",
    "    return ontology.has_path(rc, vc) or ontology.has_path(vc, rc)\n",
    "\n",
    "def compare3(rc, vc):\n",
    "    threshold = 4\n",
    "    if rc == vc:\n",
    "        return True\n",
    "    return ontology.has_path(rc, vc) and (nx.shortest_path_length(ontology.graph, rc, vc) <= threshold)\n",
    "                                \n",
    "def compare4(rc, vc):\n",
    "    if rc == vc:\n",
    "        return True\n",
    "    return compare3(rc, vc) or compare3(vc, rc)\n",
    "\n",
    "\n",
    "\n",
    "@pymonad.curry\n",
    "def cr(vd, res):\n",
    "    return correct_ratio(res, vd, compare_func=compare4)\n",
    "\n",
    "@pymonad.curry\n",
    "def ir(vd, res):\n",
    "    return incorrect_ratio(res, vd, compare_func=compare4)\n",
    "\n",
    "\n",
    "@pymonad.curry\n",
    "def pm(vd, res):\n",
    "    return perfect_match(res, vd, compare_func=compare4)\n",
    "\n",
    "\n",
    "def cell():\n",
    "    global results\n",
    "    correct = pd.DataFrame(data=dict([(c, cr(results.validation, results[c])) for c in results.columns if c != 'validation']))\n",
    "    incorrect = pd.DataFrame(data=dict([(c, ir(results.validation, results[c])) for c in results.columns if c != 'validation']))\n",
    "    perfect = pd.DataFrame(data=dict([(c, pm(results.validation, results[c])) for c in results.columns if c != 'validation']))\n",
    "    return correct, incorrect, perfect\n",
    "    \n",
    "correct, incorrect, perfect = cell()"
   ]
  },
  {
   "cell_type": "code",
   "execution_count": 56,
   "metadata": {
    "collapsed": false
   },
   "outputs": [
    {
     "data": {
      "text/plain": [
       "collapsed        0.246544\n",
       "collapsed_syn    0.643936\n",
       "odinary          0.660252\n",
       "dtype: float64"
      ]
     },
     "execution_count": 56,
     "metadata": {},
     "output_type": "execute_result"
    }
   ],
   "source": [
    "correct.mean()\n"
   ]
  },
  {
   "cell_type": "code",
   "execution_count": 57,
   "metadata": {
    "collapsed": false
   },
   "outputs": [
    {
     "data": {
      "text/plain": [
       "collapsed        0.215492\n",
       "collapsed_syn    0.316114\n",
       "odinary          0.310050\n",
       "dtype: float64"
      ]
     },
     "execution_count": 57,
     "metadata": {},
     "output_type": "execute_result"
    }
   ],
   "source": [
    "incorrect.mean()"
   ]
  },
  {
   "cell_type": "code",
   "execution_count": 82,
   "metadata": {
    "collapsed": false
   },
   "outputs": [
    {
     "data": {
      "text/plain": [
       "collapsed        0.598971\n",
       "collapsed_syn    0.600374\n",
       "odinary          0.400562\n",
       "syn              0.552176\n",
       "dtype: float64"
      ]
     },
     "execution_count": 82,
     "metadata": {},
     "output_type": "execute_result"
    }
   ],
   "source": [
    "perfect.mean()"
   ]
  },
  {
   "cell_type": "markdown",
   "metadata": {},
   "source": [
    "## Сводная таблица"
   ]
  },
  {
   "cell_type": "code",
   "execution_count": 83,
   "metadata": {
    "collapsed": false
   },
   "outputs": [
    {
     "data": {
      "text/html": [
       "<div>\n",
       "<table border=\"1\" class=\"dataframe\">\n",
       "  <thead>\n",
       "    <tr style=\"text-align: right;\">\n",
       "      <th></th>\n",
       "      <th>counts</th>\n",
       "      <th>scores</th>\n",
       "      <th>range</th>\n",
       "    </tr>\n",
       "  </thead>\n",
       "  <tbody>\n",
       "    <tr>\n",
       "      <th>collapsed</th>\n",
       "      <td>841</td>\n",
       "      <td>0.633422</td>\n",
       "      <td>0.393542</td>\n",
       "    </tr>\n",
       "    <tr>\n",
       "      <th>collapsed_syn</th>\n",
       "      <td>887</td>\n",
       "      <td>0.635544</td>\n",
       "      <td>0.415068</td>\n",
       "    </tr>\n",
       "    <tr>\n",
       "      <th>odinary</th>\n",
       "      <td>592</td>\n",
       "      <td>0.423873</td>\n",
       "      <td>0.277024</td>\n",
       "    </tr>\n",
       "    <tr>\n",
       "      <th>syn</th>\n",
       "      <td>817</td>\n",
       "      <td>0.586207</td>\n",
       "      <td>0.382312</td>\n",
       "    </tr>\n",
       "  </tbody>\n",
       "</table>\n",
       "</div>"
      ],
      "text/plain": [
       "               counts    scores     range\n",
       "collapsed         841  0.633422  0.393542\n",
       "collapsed_syn     887  0.635544  0.415068\n",
       "odinary           592  0.423873  0.277024\n",
       "syn               817  0.586207  0.382312"
      ]
     },
     "execution_count": 83,
     "metadata": {},
     "output_type": "execute_result"
    }
   ],
   "source": [
    "cols = [c for c in results.columns if c != 'validation']\n",
    "\n",
    "counts = results.applymap(len).apply(lambda x: x.value_counts()).loc[1]\n",
    "pd.DataFrame(dict(scores=[perfect.loc[results[results.validation.map(lambda x: len(x) == 1)].index].mean()[c] for c in cols],\n",
    "                  counts=counts),\n",
    "             index=cols).assign(range=lambda x: x['counts']/validation_set.shape[0])\n"
   ]
  }
 ],
 "metadata": {
  "kernelspec": {
   "display_name": "Python 3",
   "language": "python",
   "name": "python3"
  },
  "language_info": {
   "codemirror_mode": {
    "name": "ipython",
    "version": 3
   },
   "file_extension": ".py",
   "mimetype": "text/x-python",
   "name": "python",
   "nbconvert_exporter": "python",
   "pygments_lexer": "ipython3",
   "version": "3.4.3"
  }
 },
 "nbformat": 4,
 "nbformat_minor": 0
}
