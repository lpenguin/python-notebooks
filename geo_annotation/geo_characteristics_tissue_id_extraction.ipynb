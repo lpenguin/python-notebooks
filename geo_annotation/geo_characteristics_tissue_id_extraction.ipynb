{
 "cells": [
  {
   "cell_type": "code",
   "execution_count": 13,
   "metadata": {
    "collapsed": true
   },
   "outputs": [],
   "source": [
    "import sys\n",
    "sys.path.append('..')"
   ]
  },
  {
   "cell_type": "code",
   "execution_count": 14,
   "metadata": {
    "collapsed": false
   },
   "outputs": [],
   "source": [
    "import lib\n",
    "from lib import utils\n",
    "\n",
    "import pandas as pd\n",
    "import numpy as np\n",
    "\n",
    "from lib.obo import read_ontology"
   ]
  },
  {
   "cell_type": "code",
   "execution_count": 15,
   "metadata": {
    "collapsed": true
   },
   "outputs": [],
   "source": [
    "import pymongo\n",
    "db = pymongo.MongoClient().scraper_meta"
   ]
  },
  {
   "cell_type": "code",
   "execution_count": 16,
   "metadata": {
    "collapsed": true
   },
   "outputs": [],
   "source": [
    "data = (pd.DataFrame(list(db.samples.find({\n",
    "                'characteristics.tissue': {'$exists': 1},\n",
    "                'organism': 'Homo sapiens'    \n",
    "            }, {\n",
    "                '_id': 0,\n",
    "                'accession': 1,\n",
    "                'characteristics': 1,\n",
    "                'series': 1\n",
    "            })))\n",
    "        .assign(tissue=lambda data: data['characteristics'].map(lambda c: c['tissue'] if c['tissue'] else np.nan))\n",
    "        .dropna()\n",
    "       )"
   ]
  },
  {
   "cell_type": "code",
   "execution_count": 17,
   "metadata": {
    "collapsed": false
   },
   "outputs": [
    {
     "data": {
      "text/plain": [
       "(243692, 4)"
      ]
     },
     "execution_count": 17,
     "metadata": {},
     "output_type": "execute_result"
    }
   ],
   "source": [
    "data.shape"
   ]
  },
  {
   "cell_type": "code",
   "execution_count": 18,
   "metadata": {
    "collapsed": false
   },
   "outputs": [
    {
     "data": {
      "text/plain": [
       "whole blood            20499\n",
       "blood                  20239\n",
       "peripheral blood       15348\n",
       "liver                   7328\n",
       "lung                    4391\n",
       "breast                  3932\n",
       "bone marrow             3776\n",
       "breast tumor            3002\n",
       "brain                   2730\n",
       "breast cancer tumor     2636\n",
       "dtype: int64"
      ]
     },
     "execution_count": 18,
     "metadata": {},
     "output_type": "execute_result"
    }
   ],
   "source": [
    "data['tissue'].value_counts()[:10]"
   ]
  },
  {
   "cell_type": "code",
   "execution_count": 19,
   "metadata": {
    "collapsed": false
   },
   "outputs": [
    {
     "name": "stdout",
     "output_type": "stream",
     "text": [
      "Read obo graph\n",
      "Name: \n",
      "Type: DiGraph\n",
      "Number of nodes: 5659\n",
      "Number of edges: 6430\n",
      "Average in degree:   1.1362\n",
      "Average out degree:   1.1362\n"
     ]
    }
   ],
   "source": [
    "ontology = read_ontology('../data/geo-annotation/brenda-tissue-ontology.obo', exclude_duplicates=True, subgraph='BTO:0001489')"
   ]
  },
  {
   "cell_type": "code",
   "execution_count": 20,
   "metadata": {
    "collapsed": false
   },
   "outputs": [],
   "source": [
    "t = data.tissue.value_counts()\n",
    "tissues = t[t > 100].index.tolist()\n",
    "matched = dict((tissue, item.id) \n",
    "               for item in ontology.items()\n",
    "               for tissue in tissues \n",
    "               for name in item.names() \n",
    "               if name.replace('tissue', '').strip() == tissue)"
   ]
  },
  {
   "cell_type": "code",
   "execution_count": 21,
   "metadata": {
    "collapsed": false
   },
   "outputs": [
    {
     "data": {
      "text/plain": [
       "(63, 312, 4659)"
      ]
     },
     "execution_count": 21,
     "metadata": {},
     "output_type": "execute_result"
    }
   ],
   "source": [
    "len(matched), len(tissues), len(ontology.items())"
   ]
  },
  {
   "cell_type": "code",
   "execution_count": 22,
   "metadata": {
    "collapsed": false
   },
   "outputs": [],
   "source": [
    "series = set(utils.flatten(data[data.tissue.map(lambda t: t in tissues)].series.tolist()))"
   ]
  },
  {
   "cell_type": "code",
   "execution_count": 23,
   "metadata": {
    "collapsed": false
   },
   "outputs": [
    {
     "data": {
      "text/plain": [
       "3167"
      ]
     },
     "execution_count": 23,
     "metadata": {},
     "output_type": "execute_result"
    }
   ],
   "source": [
    "len(series)"
   ]
  },
  {
   "cell_type": "code",
   "execution_count": 25,
   "metadata": {
    "collapsed": false
   },
   "outputs": [],
   "source": [
    "data_expanded = utils.expand(data, 'series').dropna()"
   ]
  },
  {
   "cell_type": "code",
   "execution_count": 26,
   "metadata": {
    "collapsed": true
   },
   "outputs": [],
   "source": [
    "data_expanded.to_pickle('../data/geo-annotation/geo-characteristics-tissue-expanded.py3.pickle')"
   ]
  },
  {
   "cell_type": "code",
   "execution_count": 27,
   "metadata": {
    "collapsed": false
   },
   "outputs": [
    {
     "data": {
      "text/html": [
       "<div>\n",
       "<table border=\"1\" class=\"dataframe\">\n",
       "  <thead>\n",
       "    <tr style=\"text-align: right;\">\n",
       "      <th></th>\n",
       "      <th>accession</th>\n",
       "      <th>characteristics</th>\n",
       "      <th>tissue</th>\n",
       "      <th>series</th>\n",
       "    </tr>\n",
       "  </thead>\n",
       "  <tbody>\n",
       "    <tr>\n",
       "      <th>0</th>\n",
       "      <td>GSM15684</td>\n",
       "      <td>{'tissue': 'bronchial epithelium'}</td>\n",
       "      <td>bronchial epithelium</td>\n",
       "      <td>GSE994</td>\n",
       "    </tr>\n",
       "    <tr>\n",
       "      <th>1</th>\n",
       "      <td>GSM15685</td>\n",
       "      <td>{'tissue': 'bronchial epithelium'}</td>\n",
       "      <td>bronchial epithelium</td>\n",
       "      <td>GSE994</td>\n",
       "    </tr>\n",
       "    <tr>\n",
       "      <th>2</th>\n",
       "      <td>GSM15686</td>\n",
       "      <td>{'tissue': 'bronchial epithelium'}</td>\n",
       "      <td>bronchial epithelium</td>\n",
       "      <td>GSE994</td>\n",
       "    </tr>\n",
       "    <tr>\n",
       "      <th>3</th>\n",
       "      <td>GSM15688</td>\n",
       "      <td>{'tissue': 'bronchial epithelium'}</td>\n",
       "      <td>bronchial epithelium</td>\n",
       "      <td>GSE994</td>\n",
       "    </tr>\n",
       "    <tr>\n",
       "      <th>4</th>\n",
       "      <td>GSM15687</td>\n",
       "      <td>{'tissue': 'bronchial epithelium'}</td>\n",
       "      <td>bronchial epithelium</td>\n",
       "      <td>GSE994</td>\n",
       "    </tr>\n",
       "    <tr>\n",
       "      <th>5</th>\n",
       "      <td>GSM15689</td>\n",
       "      <td>{'tissue': 'bronchial epithelium'}</td>\n",
       "      <td>bronchial epithelium</td>\n",
       "      <td>GSE994</td>\n",
       "    </tr>\n",
       "    <tr>\n",
       "      <th>6</th>\n",
       "      <td>GSM15691</td>\n",
       "      <td>{'tissue': 'bronchial epithelium'}</td>\n",
       "      <td>bronchial epithelium</td>\n",
       "      <td>GSE994</td>\n",
       "    </tr>\n",
       "    <tr>\n",
       "      <th>7</th>\n",
       "      <td>GSM15690</td>\n",
       "      <td>{'tissue': 'bronchial epithelium'}</td>\n",
       "      <td>bronchial epithelium</td>\n",
       "      <td>GSE994</td>\n",
       "    </tr>\n",
       "    <tr>\n",
       "      <th>8</th>\n",
       "      <td>GSM15692</td>\n",
       "      <td>{'tissue': 'bronchial epithelium'}</td>\n",
       "      <td>bronchial epithelium</td>\n",
       "      <td>GSE994</td>\n",
       "    </tr>\n",
       "    <tr>\n",
       "      <th>9</th>\n",
       "      <td>GSM15693</td>\n",
       "      <td>{'age': '32', 'status': 'snc', 'history': 'cur...</td>\n",
       "      <td>bronchial epithelium</td>\n",
       "      <td>GSE994</td>\n",
       "    </tr>\n",
       "  </tbody>\n",
       "</table>\n",
       "</div>"
      ],
      "text/plain": [
       "  accession                                    characteristics  \\\n",
       "0  GSM15684                 {'tissue': 'bronchial epithelium'}   \n",
       "1  GSM15685                 {'tissue': 'bronchial epithelium'}   \n",
       "2  GSM15686                 {'tissue': 'bronchial epithelium'}   \n",
       "3  GSM15688                 {'tissue': 'bronchial epithelium'}   \n",
       "4  GSM15687                 {'tissue': 'bronchial epithelium'}   \n",
       "5  GSM15689                 {'tissue': 'bronchial epithelium'}   \n",
       "6  GSM15691                 {'tissue': 'bronchial epithelium'}   \n",
       "7  GSM15690                 {'tissue': 'bronchial epithelium'}   \n",
       "8  GSM15692                 {'tissue': 'bronchial epithelium'}   \n",
       "9  GSM15693  {'age': '32', 'status': 'snc', 'history': 'cur...   \n",
       "\n",
       "                 tissue  series  \n",
       "0  bronchial epithelium  GSE994  \n",
       "1  bronchial epithelium  GSE994  \n",
       "2  bronchial epithelium  GSE994  \n",
       "3  bronchial epithelium  GSE994  \n",
       "4  bronchial epithelium  GSE994  \n",
       "5  bronchial epithelium  GSE994  \n",
       "6  bronchial epithelium  GSE994  \n",
       "7  bronchial epithelium  GSE994  \n",
       "8  bronchial epithelium  GSE994  \n",
       "9  bronchial epithelium  GSE994  "
      ]
     },
     "execution_count": 27,
     "metadata": {},
     "output_type": "execute_result"
    }
   ],
   "source": [
    "data_expanded[:10]"
   ]
  },
  {
   "cell_type": "code",
   "execution_count": 33,
   "metadata": {
    "collapsed": false
   },
   "outputs": [],
   "source": [
    "samples_tissues = data_expanded[['accession', 'tissue']].drop_duplicates()"
   ]
  },
  {
   "cell_type": "code",
   "execution_count": 34,
   "metadata": {
    "collapsed": false
   },
   "outputs": [
    {
     "data": {
      "text/html": [
       "<div>\n",
       "<table border=\"1\" class=\"dataframe\">\n",
       "  <thead>\n",
       "    <tr style=\"text-align: right;\">\n",
       "      <th></th>\n",
       "      <th>accession</th>\n",
       "      <th>tissue</th>\n",
       "      <th>oid</th>\n",
       "    </tr>\n",
       "  </thead>\n",
       "  <tbody>\n",
       "    <tr>\n",
       "      <th>0</th>\n",
       "      <td>GSM15684</td>\n",
       "      <td>bronchial epithelium</td>\n",
       "      <td>BTO:0001845</td>\n",
       "    </tr>\n",
       "    <tr>\n",
       "      <th>1</th>\n",
       "      <td>GSM15685</td>\n",
       "      <td>bronchial epithelium</td>\n",
       "      <td>BTO:0001845</td>\n",
       "    </tr>\n",
       "    <tr>\n",
       "      <th>2</th>\n",
       "      <td>GSM15686</td>\n",
       "      <td>bronchial epithelium</td>\n",
       "      <td>BTO:0001845</td>\n",
       "    </tr>\n",
       "    <tr>\n",
       "      <th>3</th>\n",
       "      <td>GSM15688</td>\n",
       "      <td>bronchial epithelium</td>\n",
       "      <td>BTO:0001845</td>\n",
       "    </tr>\n",
       "    <tr>\n",
       "      <th>4</th>\n",
       "      <td>GSM15687</td>\n",
       "      <td>bronchial epithelium</td>\n",
       "      <td>BTO:0001845</td>\n",
       "    </tr>\n",
       "    <tr>\n",
       "      <th>5</th>\n",
       "      <td>GSM15689</td>\n",
       "      <td>bronchial epithelium</td>\n",
       "      <td>BTO:0001845</td>\n",
       "    </tr>\n",
       "    <tr>\n",
       "      <th>6</th>\n",
       "      <td>GSM15691</td>\n",
       "      <td>bronchial epithelium</td>\n",
       "      <td>BTO:0001845</td>\n",
       "    </tr>\n",
       "    <tr>\n",
       "      <th>7</th>\n",
       "      <td>GSM15690</td>\n",
       "      <td>bronchial epithelium</td>\n",
       "      <td>BTO:0001845</td>\n",
       "    </tr>\n",
       "    <tr>\n",
       "      <th>8</th>\n",
       "      <td>GSM15692</td>\n",
       "      <td>bronchial epithelium</td>\n",
       "      <td>BTO:0001845</td>\n",
       "    </tr>\n",
       "    <tr>\n",
       "      <th>9</th>\n",
       "      <td>GSM15693</td>\n",
       "      <td>bronchial epithelium</td>\n",
       "      <td>BTO:0001845</td>\n",
       "    </tr>\n",
       "  </tbody>\n",
       "</table>\n",
       "</div>"
      ],
      "text/plain": [
       "  accession                tissue          oid\n",
       "0  GSM15684  bronchial epithelium  BTO:0001845\n",
       "1  GSM15685  bronchial epithelium  BTO:0001845\n",
       "2  GSM15686  bronchial epithelium  BTO:0001845\n",
       "3  GSM15688  bronchial epithelium  BTO:0001845\n",
       "4  GSM15687  bronchial epithelium  BTO:0001845\n",
       "5  GSM15689  bronchial epithelium  BTO:0001845\n",
       "6  GSM15691  bronchial epithelium  BTO:0001845\n",
       "7  GSM15690  bronchial epithelium  BTO:0001845\n",
       "8  GSM15692  bronchial epithelium  BTO:0001845\n",
       "9  GSM15693  bronchial epithelium  BTO:0001845"
      ]
     },
     "execution_count": 34,
     "metadata": {},
     "output_type": "execute_result"
    }
   ],
   "source": [
    "samples_tissues['oid'] = samples_tissues['tissue'].map(lambda t: matched.get(t, np.nan))\n",
    "samples_tissues[:10]"
   ]
  },
  {
   "cell_type": "code",
   "execution_count": 36,
   "metadata": {
    "collapsed": true
   },
   "outputs": [],
   "source": [
    "samples_tissues.to_pickle('../data/geo-annotation/geo-characteristics-tissue-samples.more-tissues.py3.pickle')"
   ]
  },
  {
   "cell_type": "code",
   "execution_count": null,
   "metadata": {
    "collapsed": false
   },
   "outputs": [],
   "source": [
    "series_tissue = data_expanded[['series', 'tissue']].drop_duplicates()"
   ]
  },
  {
   "cell_type": "code",
   "execution_count": null,
   "metadata": {
    "collapsed": true
   },
   "outputs": [],
   "source": [
    "series_tissue['oid'] = series_tissue['tissue'].map(lambda t: matched.get(t, np.nan))"
   ]
  },
  {
   "cell_type": "code",
   "execution_count": null,
   "metadata": {
    "collapsed": false
   },
   "outputs": [],
   "source": [
    "series_tissue = series_tissue.dropna()"
   ]
  },
  {
   "cell_type": "code",
   "execution_count": null,
   "metadata": {
    "collapsed": false
   },
   "outputs": [],
   "source": [
    "series_tissue[:10]"
   ]
  },
  {
   "cell_type": "code",
   "execution_count": null,
   "metadata": {
    "collapsed": true
   },
   "outputs": [],
   "source": [
    "series_tissue.to_pickle('../data/geo-annotation/geo-characteristics-tissue-series.more-tissues.py3.pickle')"
   ]
  },
  {
   "cell_type": "code",
   "execution_count": null,
   "metadata": {
    "collapsed": true
   },
   "outputs": [],
   "source": []
  }
 ],
 "metadata": {
  "kernelspec": {
   "display_name": "Python 3",
   "language": "python",
   "name": "python3"
  },
  "language_info": {
   "codemirror_mode": {
    "name": "ipython",
    "version": 3
   },
   "file_extension": ".py",
   "mimetype": "text/x-python",
   "name": "python",
   "nbconvert_exporter": "python",
   "pygments_lexer": "ipython3",
   "version": "3.4.3"
  }
 },
 "nbformat": 4,
 "nbformat_minor": 0
}
