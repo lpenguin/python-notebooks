{
 "cells": [
  {
   "cell_type": "code",
   "execution_count": 3,
   "metadata": {
    "collapsed": true,
    "scrolled": true
   },
   "outputs": [],
   "source": [
    "import sys\n",
    "sys.path.append('..')"
   ]
  },
  {
   "cell_type": "code",
   "execution_count": 4,
   "metadata": {
    "collapsed": true,
    "scrolled": true
   },
   "outputs": [],
   "source": [
    "from importlib import reload\n",
    "from os.path import exists\n",
    "\n",
    "import networkx as nx\n",
    "import numpy as np\n",
    "import pandas as pd\n",
    "import lib.obo\n",
    "import lib.classification.elastic\n",
    "import lib.classification.validation\n",
    "import lib.utils\n",
    "import data\n",
    "import pymonad\n",
    "\n",
    "reload(lib.classification.validation)\n",
    "reload(lib.classification.elastic)\n",
    "reload(lib.obo)\n",
    "reload(lib.utils)\n",
    "reload(data)\n",
    "\n",
    "from lib.classification.elastic import annotate_index, collapse_matches, build_synonyms_graph, search_item\n",
    "from lib.utils import map_series, expand_dataframe, expand, flatten\n",
    "from lib.classification.validation import correct_ratio, incorrect_ratio, perfect_match\n",
    "from geo_annotation.import_ontology_es import import_ontology\n",
    "from elasticsearch import Elasticsearch\n",
    "from lib.obo import read_ontology, Ontology\n",
    "pd.set_option('display.width', 512)"
   ]
  },
  {
   "cell_type": "code",
   "execution_count": 5,
   "metadata": {
    "collapsed": true
   },
   "outputs": [],
   "source": [
    "import json"
   ]
  },
  {
   "cell_type": "code",
   "execution_count": 44,
   "metadata": {
    "collapsed": true
   },
   "outputs": [],
   "source": [
    "def read_export(file_name, read_cols):\n",
    "    res = []\n",
    "    lines_read = 0\n",
    "    with open(file_name) as f:\n",
    "        for l in f:\n",
    "            lines_read += 1\n",
    "            if lines_read % 10000 == 0:\n",
    "                print(\"Read #{} lines\".format(lines_read))\n",
    "            l = l.rstrip(\"\\n\")\n",
    "            data = json.loads(l)\n",
    "            yield [data.get(c, np.nan) for c in read_cols]     "
   ]
  },
  {
   "cell_type": "code",
   "execution_count": 14,
   "metadata": {
    "collapsed": true
   },
   "outputs": [],
   "source": [
    "uc_file = '/data/rawdata/snapshots/mongo/scraper_test_dev.samples.age.uc.json'\n",
    "lc_file = '/data/rawdata/snapshots/mongo/scraper_test_dev.samples.age.lc.json'"
   ]
  },
  {
   "cell_type": "code",
   "execution_count": 20,
   "metadata": {
    "collapsed": true
   },
   "outputs": [],
   "source": [
    "from itertools import chain"
   ]
  },
  {
   "cell_type": "code",
   "execution_count": 45,
   "metadata": {
    "collapsed": false
   },
   "outputs": [
    {
     "name": "stdout",
     "output_type": "stream",
     "text": [
      "Read #10000 lines\n",
      "Read #20000 lines\n",
      "Read #30000 lines\n",
      "Read #40000 lines\n",
      "Read #50000 lines\n",
      "Read #60000 lines\n",
      "Read #70000 lines\n",
      "Read #80000 lines\n",
      "Read #90000 lines\n",
      "Read #100000 lines\n",
      "Read #110000 lines\n",
      "Read #120000 lines\n",
      "Read #130000 lines\n",
      "Read #140000 lines\n",
      "Read #150000 lines\n",
      "Read #160000 lines\n",
      "Read #10000 lines\n",
      "Read #20000 lines\n",
      "Read #30000 lines\n",
      "Read #40000 lines\n",
      "Read #50000 lines\n",
      "Read #60000 lines\n",
      "Read #70000 lines\n",
      "Read #80000 lines\n",
      "Read #90000 lines\n",
      "Read #100000 lines\n",
      "Read #110000 lines\n",
      "Read #120000 lines\n",
      "Read #130000 lines\n",
      "Read #140000 lines\n",
      "Read #150000 lines\n",
      "Read #160000 lines\n",
      "Read #170000 lines\n",
      "Read #180000 lines\n",
      "Read #190000 lines\n",
      "Read #200000 lines\n",
      "Read #210000 lines\n",
      "Read #220000 lines\n",
      "Read #230000 lines\n",
      "Read #240000 lines\n",
      "Read #250000 lines\n",
      "Read #260000 lines\n"
     ]
    }
   ],
   "source": [
    "columns =  ['accession', 'characteristics', 'series', 'platform', 'organism']\n",
    "res = pd.DataFrame.from_records(data=chain(read_export(uc_file, columns), read_export(lc_file, columns)), columns=columns)"
   ]
  },
  {
   "cell_type": "code",
   "execution_count": 46,
   "metadata": {
    "collapsed": false
   },
   "outputs": [
    {
     "data": {
      "text/html": [
       "<div>\n",
       "<table border=\"1\" class=\"dataframe\">\n",
       "  <thead>\n",
       "    <tr style=\"text-align: right;\">\n",
       "      <th></th>\n",
       "      <th>accession</th>\n",
       "      <th>characteristics</th>\n",
       "      <th>series</th>\n",
       "      <th>platform</th>\n",
       "      <th>organism</th>\n",
       "    </tr>\n",
       "  </thead>\n",
       "  <tbody>\n",
       "    <tr>\n",
       "      <th>0</th>\n",
       "      <td>E-MTAB-452_10</td>\n",
       "      <td>{'Organism': 'Mus musculus', 'Age': ' ', 'Cell...</td>\n",
       "      <td>[E-MTAB-452]</td>\n",
       "      <td>A-AFFY-23</td>\n",
       "      <td>Mus musculus</td>\n",
       "    </tr>\n",
       "    <tr>\n",
       "      <th>1</th>\n",
       "      <td>E-MTAB-3152_0</td>\n",
       "      <td>{'initial time point': '  ', 'Age': '  ', 'tis...</td>\n",
       "      <td>[E-MTAB-3152]</td>\n",
       "      <td>A-MTAB-535</td>\n",
       "      <td>Homo sapiens</td>\n",
       "    </tr>\n",
       "    <tr>\n",
       "      <th>2</th>\n",
       "      <td>E-MTAB-3152_2</td>\n",
       "      <td>{'initial time point': '  ', 'Age': '  ', 'tis...</td>\n",
       "      <td>[E-MTAB-3152]</td>\n",
       "      <td>A-MTAB-535</td>\n",
       "      <td>Homo sapiens</td>\n",
       "    </tr>\n",
       "    <tr>\n",
       "      <th>3</th>\n",
       "      <td>E-MTAB-3152_1</td>\n",
       "      <td>{'initial time point': '  ', 'Age': '  ', 'tis...</td>\n",
       "      <td>[E-MTAB-3152]</td>\n",
       "      <td>A-MTAB-535</td>\n",
       "      <td>Homo sapiens</td>\n",
       "    </tr>\n",
       "    <tr>\n",
       "      <th>4</th>\n",
       "      <td>E-MTAB-3152_3</td>\n",
       "      <td>{'initial time point': '  ', 'Age': '  ', 'tis...</td>\n",
       "      <td>[E-MTAB-3152]</td>\n",
       "      <td>A-MTAB-535</td>\n",
       "      <td>Homo sapiens</td>\n",
       "    </tr>\n",
       "  </tbody>\n",
       "</table>\n",
       "</div>"
      ],
      "text/plain": [
       "       accession                                    characteristics         series    platform      organism\n",
       "0  E-MTAB-452_10  {'Organism': 'Mus musculus', 'Age': ' ', 'Cell...   [E-MTAB-452]   A-AFFY-23  Mus musculus\n",
       "1  E-MTAB-3152_0  {'initial time point': '  ', 'Age': '  ', 'tis...  [E-MTAB-3152]  A-MTAB-535  Homo sapiens\n",
       "2  E-MTAB-3152_2  {'initial time point': '  ', 'Age': '  ', 'tis...  [E-MTAB-3152]  A-MTAB-535  Homo sapiens\n",
       "3  E-MTAB-3152_1  {'initial time point': '  ', 'Age': '  ', 'tis...  [E-MTAB-3152]  A-MTAB-535  Homo sapiens\n",
       "4  E-MTAB-3152_3  {'initial time point': '  ', 'Age': '  ', 'tis...  [E-MTAB-3152]  A-MTAB-535  Homo sapiens"
      ]
     },
     "execution_count": 46,
     "metadata": {},
     "output_type": "execute_result"
    }
   ],
   "source": [
    "res.head()"
   ]
  },
  {
   "cell_type": "code",
   "execution_count": 52,
   "metadata": {
    "collapsed": true
   },
   "outputs": [],
   "source": [
    "def get_age(c):\n",
    "    age = c.get('age') or c.get('Age', '')\n",
    "    if isinstance(age, list):\n",
    "        age = age[0]\n",
    "    age = age.strip(' ')\n",
    "    return age if age else np.nan\n",
    "\n",
    "def get_organism(o):\n",
    "    return o if not isinstance(o, list) else o[0]\n"
   ]
  },
  {
   "cell_type": "code",
   "execution_count": 53,
   "metadata": {
    "collapsed": false
   },
   "outputs": [],
   "source": [
    "res['age'] = res['characteristics'].map(get_age)\n",
    "res['organism'] = res['organism'].map(get_organism)"
   ]
  },
  {
   "cell_type": "code",
   "execution_count": 48,
   "metadata": {
    "collapsed": false
   },
   "outputs": [
    {
     "data": {
      "text/html": [
       "<div>\n",
       "<table border=\"1\" class=\"dataframe\">\n",
       "  <thead>\n",
       "    <tr style=\"text-align: right;\">\n",
       "      <th></th>\n",
       "      <th>accession</th>\n",
       "      <th>characteristics</th>\n",
       "      <th>series</th>\n",
       "      <th>platform</th>\n",
       "      <th>organism</th>\n",
       "      <th>age</th>\n",
       "    </tr>\n",
       "  </thead>\n",
       "  <tbody>\n",
       "    <tr>\n",
       "      <th>0</th>\n",
       "      <td>E-MTAB-452_10</td>\n",
       "      <td>{'Organism': 'Mus musculus', 'Age': ' ', 'Cell...</td>\n",
       "      <td>[E-MTAB-452]</td>\n",
       "      <td>A-AFFY-23</td>\n",
       "      <td>Mus musculus</td>\n",
       "      <td>NaN</td>\n",
       "    </tr>\n",
       "    <tr>\n",
       "      <th>1</th>\n",
       "      <td>E-MTAB-3152_0</td>\n",
       "      <td>{'initial time point': '  ', 'Age': '  ', 'tis...</td>\n",
       "      <td>[E-MTAB-3152]</td>\n",
       "      <td>A-MTAB-535</td>\n",
       "      <td>Homo sapiens</td>\n",
       "      <td>NaN</td>\n",
       "    </tr>\n",
       "    <tr>\n",
       "      <th>2</th>\n",
       "      <td>E-MTAB-3152_2</td>\n",
       "      <td>{'initial time point': '  ', 'Age': '  ', 'tis...</td>\n",
       "      <td>[E-MTAB-3152]</td>\n",
       "      <td>A-MTAB-535</td>\n",
       "      <td>Homo sapiens</td>\n",
       "      <td>NaN</td>\n",
       "    </tr>\n",
       "    <tr>\n",
       "      <th>3</th>\n",
       "      <td>E-MTAB-3152_1</td>\n",
       "      <td>{'initial time point': '  ', 'Age': '  ', 'tis...</td>\n",
       "      <td>[E-MTAB-3152]</td>\n",
       "      <td>A-MTAB-535</td>\n",
       "      <td>Homo sapiens</td>\n",
       "      <td>NaN</td>\n",
       "    </tr>\n",
       "    <tr>\n",
       "      <th>4</th>\n",
       "      <td>E-MTAB-3152_3</td>\n",
       "      <td>{'initial time point': '  ', 'Age': '  ', 'tis...</td>\n",
       "      <td>[E-MTAB-3152]</td>\n",
       "      <td>A-MTAB-535</td>\n",
       "      <td>Homo sapiens</td>\n",
       "      <td>NaN</td>\n",
       "    </tr>\n",
       "  </tbody>\n",
       "</table>\n",
       "</div>"
      ],
      "text/plain": [
       "       accession                                    characteristics         series    platform      organism  age\n",
       "0  E-MTAB-452_10  {'Organism': 'Mus musculus', 'Age': ' ', 'Cell...   [E-MTAB-452]   A-AFFY-23  Mus musculus  NaN\n",
       "1  E-MTAB-3152_0  {'initial time point': '  ', 'Age': '  ', 'tis...  [E-MTAB-3152]  A-MTAB-535  Homo sapiens  NaN\n",
       "2  E-MTAB-3152_2  {'initial time point': '  ', 'Age': '  ', 'tis...  [E-MTAB-3152]  A-MTAB-535  Homo sapiens  NaN\n",
       "3  E-MTAB-3152_1  {'initial time point': '  ', 'Age': '  ', 'tis...  [E-MTAB-3152]  A-MTAB-535  Homo sapiens  NaN\n",
       "4  E-MTAB-3152_3  {'initial time point': '  ', 'Age': '  ', 'tis...  [E-MTAB-3152]  A-MTAB-535  Homo sapiens  NaN"
      ]
     },
     "execution_count": 48,
     "metadata": {},
     "output_type": "execute_result"
    }
   ],
   "source": [
    "res.head()"
   ]
  },
  {
   "cell_type": "code",
   "execution_count": 49,
   "metadata": {
    "collapsed": false
   },
   "outputs": [
    {
     "data": {
      "text/plain": [
       "(405833, 6)"
      ]
     },
     "execution_count": 49,
     "metadata": {},
     "output_type": "execute_result"
    }
   ],
   "source": [
    "res.dropna(subset=['age']).shape"
   ]
  },
  {
   "cell_type": "code",
   "execution_count": 54,
   "metadata": {
    "collapsed": true
   },
   "outputs": [],
   "source": [
    "res.to_pickle('../data/geo-annotation/samples.age.uncleaned.v2.pickle')"
   ]
  },
  {
   "cell_type": "code",
   "execution_count": 55,
   "metadata": {
    "collapsed": false
   },
   "outputs": [
    {
     "data": {
      "text/plain": [
       "(176150, 6)"
      ]
     },
     "execution_count": 55,
     "metadata": {},
     "output_type": "execute_result"
    }
   ],
   "source": [
    "res.dropna(subset=['age']).query(\"organism == 'Homo sapiens'\").shape"
   ]
  },
  {
   "cell_type": "code",
   "execution_count": 56,
   "metadata": {
    "collapsed": true
   },
   "outputs": [],
   "source": [
    "res = res.dropna(subset=['age']).query(\"organism == 'Homo sapiens'\")"
   ]
  },
  {
   "cell_type": "code",
   "execution_count": 57,
   "metadata": {
    "collapsed": false
   },
   "outputs": [
    {
     "data": {
      "text/html": [
       "<div>\n",
       "<table border=\"1\" class=\"dataframe\">\n",
       "  <thead>\n",
       "    <tr style=\"text-align: right;\">\n",
       "      <th></th>\n",
       "      <th>accession</th>\n",
       "      <th>characteristics</th>\n",
       "      <th>series</th>\n",
       "      <th>platform</th>\n",
       "      <th>organism</th>\n",
       "      <th>age</th>\n",
       "    </tr>\n",
       "  </thead>\n",
       "  <tbody>\n",
       "    <tr>\n",
       "      <th>22831</th>\n",
       "      <td>E-MTAB-62_4017</td>\n",
       "      <td>{'4 meta-groups': 'disease', 'DataSource': 'GS...</td>\n",
       "      <td>[E-MTAB-62]</td>\n",
       "      <td>A-AFFY-33</td>\n",
       "      <td>Homo sapiens</td>\n",
       "      <td>\"0,91\"</td>\n",
       "    </tr>\n",
       "    <tr>\n",
       "      <th>22869</th>\n",
       "      <td>E-MTAB-872_0</td>\n",
       "      <td>{'Organism': 'Homo sapiens', 'CellType': 'embr...</td>\n",
       "      <td>[E-MTAB-872]</td>\n",
       "      <td>A-GEOD-10558</td>\n",
       "      <td>Homo sapiens</td>\n",
       "      <td>0</td>\n",
       "    </tr>\n",
       "    <tr>\n",
       "      <th>22870</th>\n",
       "      <td>E-MTAB-872_1</td>\n",
       "      <td>{'Organism': 'Homo sapiens', 'CellType': 'embr...</td>\n",
       "      <td>[E-MTAB-872]</td>\n",
       "      <td>A-GEOD-10558</td>\n",
       "      <td>Homo sapiens</td>\n",
       "      <td>0</td>\n",
       "    </tr>\n",
       "    <tr>\n",
       "      <th>22871</th>\n",
       "      <td>E-MTAB-872_2</td>\n",
       "      <td>{'Organism': 'Homo sapiens', 'CellType': 'embr...</td>\n",
       "      <td>[E-MTAB-872]</td>\n",
       "      <td>A-GEOD-10558</td>\n",
       "      <td>Homo sapiens</td>\n",
       "      <td>0</td>\n",
       "    </tr>\n",
       "    <tr>\n",
       "      <th>22890</th>\n",
       "      <td>E-MTAB-487_0</td>\n",
       "      <td>{'Organism': 'Homo sapiens', 'OrganismPart': '...</td>\n",
       "      <td>[E-MTAB-487]</td>\n",
       "      <td>A-GEOD-8490</td>\n",
       "      <td>Homo sapiens</td>\n",
       "      <td>0</td>\n",
       "    </tr>\n",
       "  </tbody>\n",
       "</table>\n",
       "</div>"
      ],
      "text/plain": [
       "            accession                                    characteristics        series      platform      organism     age\n",
       "22831  E-MTAB-62_4017  {'4 meta-groups': 'disease', 'DataSource': 'GS...   [E-MTAB-62]     A-AFFY-33  Homo sapiens  \"0,91\"\n",
       "22869    E-MTAB-872_0  {'Organism': 'Homo sapiens', 'CellType': 'embr...  [E-MTAB-872]  A-GEOD-10558  Homo sapiens       0\n",
       "22870    E-MTAB-872_1  {'Organism': 'Homo sapiens', 'CellType': 'embr...  [E-MTAB-872]  A-GEOD-10558  Homo sapiens       0\n",
       "22871    E-MTAB-872_2  {'Organism': 'Homo sapiens', 'CellType': 'embr...  [E-MTAB-872]  A-GEOD-10558  Homo sapiens       0\n",
       "22890    E-MTAB-487_0  {'Organism': 'Homo sapiens', 'OrganismPart': '...  [E-MTAB-487]   A-GEOD-8490  Homo sapiens       0"
      ]
     },
     "execution_count": 57,
     "metadata": {},
     "output_type": "execute_result"
    }
   ],
   "source": [
    "res.head()"
   ]
  },
  {
   "cell_type": "code",
   "execution_count": 59,
   "metadata": {
    "collapsed": false
   },
   "outputs": [],
   "source": [
    "res['age'] = res['age'].astype(str)"
   ]
  },
  {
   "cell_type": "code",
   "execution_count": 60,
   "metadata": {
    "collapsed": true
   },
   "outputs": [],
   "source": [
    "res['age'] = res['age'].str.replace(',', '.')"
   ]
  },
  {
   "cell_type": "code",
   "execution_count": 61,
   "metadata": {
    "collapsed": true
   },
   "outputs": [],
   "source": [
    "import fastnumbers as fn"
   ]
  },
  {
   "cell_type": "code",
   "execution_count": 62,
   "metadata": {
    "collapsed": true
   },
   "outputs": [],
   "source": [
    "res['isfloat'] = res['age'].map(fn.isfloat)"
   ]
  },
  {
   "cell_type": "code",
   "execution_count": 63,
   "metadata": {
    "collapsed": false
   },
   "outputs": [
    {
     "data": {
      "text/plain": [
       "True     139273\n",
       "False     36877\n",
       "dtype: int64"
      ]
     },
     "execution_count": 63,
     "metadata": {},
     "output_type": "execute_result"
    }
   ],
   "source": [
    "res['isfloat'].value_counts()"
   ]
  },
  {
   "cell_type": "code",
   "execution_count": 65,
   "metadata": {
    "collapsed": false
   },
   "outputs": [
    {
     "data": {
      "text/plain": [
       "na                           1607\n",
       "n/a                           846\n",
       "NA                            789\n",
       "adult                         728\n",
       "not available                 665\n",
       "--                            658\n",
       ">=60 years                    445\n",
       "not collected                 376\n",
       "50-59 years                   298\n",
       "newborn                       256\n",
       "12 yrs                        247\n",
       "unknown                       245\n",
       "day 4 embryo                  240\n",
       "not applicable                233\n",
       "60-69 years                   233\n",
       "21 pcw                        206\n",
       ">= 60 years                   200\n",
       "12 pcw                        186\n",
       "<60 years                     185\n",
       "20-45                         184\n",
       "13 pcw                        174\n",
       "43 years                      172\n",
       "40-49 years                   171\n",
       "56 years                      169\n",
       "young                         165\n",
       "46 years                      165\n",
       "49 years                      164\n",
       "4 pmonth                      160\n",
       "none                          160\n",
       "55 years                      154\n",
       "                             ... \n",
       "10y                             1\n",
       "74**                            1\n",
       "23 y.o.                         1\n",
       "61 yrs (middle-aged)            1\n",
       "91.4 years                      1\n",
       "24 week                         1\n",
       "5  years                        1\n",
       "59 y.o.                         1\n",
       "1 year and 6 months             1\n",
       "51.5 yr                         1\n",
       "5 yr                            1\n",
       "57.68 years                     1\n",
       "19.9 years                      1\n",
       "13.03 years                     1\n",
       "53 year old patient             1\n",
       "43years                         1\n",
       "6.41 y                          1\n",
       "0.2m (6d)                       1\n",
       "17.9 years                      1\n",
       "206 months                      1\n",
       "54 yo                           1\n",
       "53 yeasr                        1\n",
       "14024 days                      1\n",
       "65. 55. 66                      1\n",
       "24 caucasians. ages 16-70       1\n",
       "6384 days                       1\n",
       "3.5 years                       1\n",
       "24.4 years                      1\n",
       "50 months                       1\n",
       "63.24 years                     1\n",
       "dtype: int64"
      ]
     },
     "execution_count": 65,
     "metadata": {},
     "output_type": "execute_result"
    }
   ],
   "source": [
    "res[res['isfloat'] == False].age.value_counts()"
   ]
  },
  {
   "cell_type": "code",
   "execution_count": 66,
   "metadata": {
    "collapsed": true
   },
   "outputs": [],
   "source": [
    "res[res['isfloat']].to_pickle('../data/geo-annotation/samples.age.cleaned.v1.pickle')"
   ]
  }
 ],
 "metadata": {
  "kernelspec": {
   "display_name": "Python 3",
   "language": "python",
   "name": "python3"
  },
  "language_info": {
   "codemirror_mode": {
    "name": "ipython",
    "version": 3
   },
   "file_extension": ".py",
   "mimetype": "text/x-python",
   "name": "python",
   "nbconvert_exporter": "python",
   "pygments_lexer": "ipython3",
   "version": "3.4.0"
  }
 },
 "nbformat": 4,
 "nbformat_minor": 0
}
