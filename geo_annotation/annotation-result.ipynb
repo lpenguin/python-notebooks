{
 "cells": [
  {
   "cell_type": "markdown",
   "metadata": {},
   "source": [
    "## Сводные результаты аннотации по болезням, тканям, годам, статусу препроцессинга"
   ]
  },
  {
   "cell_type": "code",
   "execution_count": 1,
   "metadata": {
    "collapsed": true
   },
   "outputs": [],
   "source": [
    "import pandas as pd\n",
    "import pymongo as pm\n",
    "\n",
    "db = pm.MongoClient().scraper_meta"
   ]
  },
  {
   "cell_type": "code",
   "execution_count": 2,
   "metadata": {
    "collapsed": false
   },
   "outputs": [
    {
     "data": {
      "text/html": [
       "<div>\n",
       "<table border=\"1\" class=\"dataframe\">\n",
       "  <thead>\n",
       "    <tr style=\"text-align: right;\">\n",
       "      <th></th>\n",
       "      <th>series</th>\n",
       "      <th>doid</th>\n",
       "      <th>disease</th>\n",
       "      <th>samples_count</th>\n",
       "    </tr>\n",
       "  </thead>\n",
       "  <tbody>\n",
       "    <tr>\n",
       "      <th>0</th>\n",
       "      <td>GSE430</td>\n",
       "      <td>DOID:6000</td>\n",
       "      <td>congestive heart failure</td>\n",
       "      <td>14</td>\n",
       "    </tr>\n",
       "    <tr>\n",
       "      <th>1</th>\n",
       "      <td>GSE473</td>\n",
       "      <td>DOID:2841</td>\n",
       "      <td>asthma</td>\n",
       "      <td>175</td>\n",
       "    </tr>\n",
       "    <tr>\n",
       "      <th>2</th>\n",
       "      <td>GSE474</td>\n",
       "      <td>DOID:9970</td>\n",
       "      <td>obesity</td>\n",
       "      <td>24</td>\n",
       "    </tr>\n",
       "    <tr>\n",
       "      <th>3</th>\n",
       "      <td>GSE475</td>\n",
       "      <td>DOID:3083</td>\n",
       "      <td>chronic obstructive pulmonary disease</td>\n",
       "      <td>7</td>\n",
       "    </tr>\n",
       "    <tr>\n",
       "      <th>4</th>\n",
       "      <td>GSE567</td>\n",
       "      <td>DOID:2228</td>\n",
       "      <td>thrombocytosis</td>\n",
       "      <td>2</td>\n",
       "    </tr>\n",
       "  </tbody>\n",
       "</table>\n",
       "</div>"
      ],
      "text/plain": [
       "   series       doid                                disease  samples_count\n",
       "0  GSE430  DOID:6000               congestive heart failure             14\n",
       "1  GSE473  DOID:2841                                 asthma            175\n",
       "2  GSE474  DOID:9970                                obesity             24\n",
       "3  GSE475  DOID:3083  chronic obstructive pulmonary disease              7\n",
       "4  GSE567  DOID:2228                         thrombocytosis              2"
      ]
     },
     "execution_count": 2,
     "metadata": {},
     "output_type": "execute_result"
    }
   ],
   "source": [
    "pd.read_csv('../data/preproc/res.series-disease.preprocessed.2.csv').head()"
   ]
  },
  {
   "cell_type": "code",
   "execution_count": 3,
   "metadata": {
    "collapsed": false
   },
   "outputs": [
    {
     "data": {
      "text/html": [
       "<div>\n",
       "<table border=\"1\" class=\"dataframe\">\n",
       "  <thead>\n",
       "    <tr style=\"text-align: right;\">\n",
       "      <th></th>\n",
       "      <th>series</th>\n",
       "      <th>doid</th>\n",
       "      <th>disease</th>\n",
       "      <th>samples_count</th>\n",
       "      <th>platforms</th>\n",
       "    </tr>\n",
       "  </thead>\n",
       "  <tbody>\n",
       "    <tr>\n",
       "      <th>0</th>\n",
       "      <td>GSE3</td>\n",
       "      <td>DOID:4467</td>\n",
       "      <td>renal clear cell carcinoma</td>\n",
       "      <td>342</td>\n",
       "      <td>[GPL9, GPL10]</td>\n",
       "    </tr>\n",
       "    <tr>\n",
       "      <th>2</th>\n",
       "      <td>GSE16</td>\n",
       "      <td>DOID:1612</td>\n",
       "      <td>breast cancer</td>\n",
       "      <td>25</td>\n",
       "      <td>[GPL28]</td>\n",
       "    </tr>\n",
       "    <tr>\n",
       "      <th>3</th>\n",
       "      <td>GSE17</td>\n",
       "      <td>DOID:440</td>\n",
       "      <td>neuromuscular disease</td>\n",
       "      <td>2</td>\n",
       "      <td>[GPL4]</td>\n",
       "    </tr>\n",
       "    <tr>\n",
       "      <th>5</th>\n",
       "      <td>GSE31</td>\n",
       "      <td>DOID:161</td>\n",
       "      <td>keratosis</td>\n",
       "      <td>5</td>\n",
       "      <td>[GPL4]</td>\n",
       "    </tr>\n",
       "    <tr>\n",
       "      <th>9</th>\n",
       "      <td>GSE49</td>\n",
       "      <td>DOID:1612</td>\n",
       "      <td>breast cancer</td>\n",
       "      <td>10</td>\n",
       "      <td>[GPL179]</td>\n",
       "    </tr>\n",
       "  </tbody>\n",
       "</table>\n",
       "</div>"
      ],
      "text/plain": [
       "  series       doid                     disease  samples_count      platforms\n",
       "0   GSE3  DOID:4467  renal clear cell carcinoma            342  [GPL9, GPL10]\n",
       "2  GSE16  DOID:1612               breast cancer             25        [GPL28]\n",
       "3  GSE17   DOID:440       neuromuscular disease              2         [GPL4]\n",
       "5  GSE31   DOID:161                   keratosis              5         [GPL4]\n",
       "9  GSE49  DOID:1612               breast cancer             10       [GPL179]"
      ]
     },
     "execution_count": 3,
     "metadata": {},
     "output_type": "execute_result"
    }
   ],
   "source": [
    "series_disease = pd.read_pickle('../data/geo-annotation/series_disease.pickle')\n",
    "# print(series_disease)\n",
    "series_disease.head()"
   ]
  },
  {
   "cell_type": "code",
   "execution_count": 6,
   "metadata": {
    "collapsed": false
   },
   "outputs": [
    {
     "data": {
      "text/html": [
       "<div>\n",
       "<table border=\"1\" class=\"dataframe\">\n",
       "  <thead>\n",
       "    <tr style=\"text-align: right;\">\n",
       "      <th></th>\n",
       "      <th>series</th>\n",
       "      <th>collapsed</th>\n",
       "    </tr>\n",
       "  </thead>\n",
       "  <tbody>\n",
       "    <tr>\n",
       "      <th>0</th>\n",
       "      <td>GSE10</td>\n",
       "      <td>BTO:0001177</td>\n",
       "    </tr>\n",
       "    <tr>\n",
       "      <th>1</th>\n",
       "      <td>GSE10001</td>\n",
       "      <td>BTO:0000759</td>\n",
       "    </tr>\n",
       "    <tr>\n",
       "      <th>2</th>\n",
       "      <td>GSE10003</td>\n",
       "      <td>BTO:0000762</td>\n",
       "    </tr>\n",
       "    <tr>\n",
       "      <th>3</th>\n",
       "      <td>GSE10005</td>\n",
       "      <td>BTO:0000282</td>\n",
       "    </tr>\n",
       "    <tr>\n",
       "      <th>4</th>\n",
       "      <td>GSE10007</td>\n",
       "      <td>BTO:0001573</td>\n",
       "    </tr>\n",
       "  </tbody>\n",
       "</table>\n",
       "</div>"
      ],
      "text/plain": [
       "     series    collapsed\n",
       "0     GSE10  BTO:0001177\n",
       "1  GSE10001  BTO:0000759\n",
       "2  GSE10003  BTO:0000762\n",
       "3  GSE10005  BTO:0000282\n",
       "4  GSE10007  BTO:0001573"
      ]
     },
     "execution_count": 6,
     "metadata": {},
     "output_type": "execute_result"
    }
   ],
   "source": [
    "res_tissues = pd.read_pickle('../data/geo-annotation/series.tissue.all.res3.pickle').reset_index()\n",
    "res_tissues.head()"
   ]
  },
  {
   "cell_type": "code",
   "execution_count": 7,
   "metadata": {
    "collapsed": false
   },
   "outputs": [
    {
     "data": {
      "text/html": [
       "<div>\n",
       "<table border=\"1\" class=\"dataframe\">\n",
       "  <thead>\n",
       "    <tr style=\"text-align: right;\">\n",
       "      <th></th>\n",
       "      <th>series</th>\n",
       "      <th>platforms</th>\n",
       "      <th>tissue_id</th>\n",
       "    </tr>\n",
       "  </thead>\n",
       "  <tbody>\n",
       "    <tr>\n",
       "      <th>0</th>\n",
       "      <td>GSE10</td>\n",
       "      <td>[GPL4]</td>\n",
       "      <td>BTO:0001177</td>\n",
       "    </tr>\n",
       "    <tr>\n",
       "      <th>1</th>\n",
       "      <td>GSE10001</td>\n",
       "      <td>[GPL6246]</td>\n",
       "      <td>BTO:0000759</td>\n",
       "    </tr>\n",
       "    <tr>\n",
       "      <th>2</th>\n",
       "      <td>GSE10003</td>\n",
       "      <td>[GPL6104]</td>\n",
       "      <td>BTO:0000762</td>\n",
       "    </tr>\n",
       "    <tr>\n",
       "      <th>3</th>\n",
       "      <td>GSE10005</td>\n",
       "      <td>[GPL6298]</td>\n",
       "      <td>BTO:0000282</td>\n",
       "    </tr>\n",
       "    <tr>\n",
       "      <th>4</th>\n",
       "      <td>GSE10007</td>\n",
       "      <td>[GPL2005]</td>\n",
       "      <td>BTO:0001573</td>\n",
       "    </tr>\n",
       "  </tbody>\n",
       "</table>\n",
       "</div>"
      ],
      "text/plain": [
       "     series  platforms    tissue_id\n",
       "0     GSE10     [GPL4]  BTO:0001177\n",
       "1  GSE10001  [GPL6246]  BTO:0000759\n",
       "2  GSE10003  [GPL6104]  BTO:0000762\n",
       "3  GSE10005  [GPL6298]  BTO:0000282\n",
       "4  GSE10007  [GPL2005]  BTO:0001573"
      ]
     },
     "execution_count": 7,
     "metadata": {},
     "output_type": "execute_result"
    }
   ],
   "source": [
    "_t = db.series.find({\n",
    "        'accession': {'$in': res_tissues.series.unique().tolist()}\n",
    "    },{\n",
    "        '_id': 0,\n",
    "        'accession': 1,\n",
    "#         'samples': 1,\n",
    "        'platforms': 1\n",
    "    })\n",
    "\n",
    "series_tissue = (\n",
    "    pd.DataFrame.from_records([(c['accession'], c['platforms']) for c in _t],\n",
    "                             columns=['series', 'platforms'])\n",
    "    .set_index('series')\n",
    "    .join(res_tissues.set_index('series'))\n",
    "    .reset_index()\n",
    "    .rename(columns=dict(collapsed='tissue_id'))\n",
    "#     .assign(samples=lambda d: d['samples'].map(len))\n",
    ")\n",
    "series_tissue.head()"
   ]
  },
  {
   "cell_type": "code",
   "execution_count": 9,
   "metadata": {
    "collapsed": false
   },
   "outputs": [
    {
     "data": {
      "text/html": [
       "<div>\n",
       "<table border=\"1\" class=\"dataframe\">\n",
       "  <thead>\n",
       "    <tr style=\"text-align: right;\">\n",
       "      <th></th>\n",
       "      <th>accession</th>\n",
       "      <th>age</th>\n",
       "    </tr>\n",
       "  </thead>\n",
       "  <tbody>\n",
       "    <tr>\n",
       "      <th>0</th>\n",
       "      <td>GSM1000061</td>\n",
       "      <td>62</td>\n",
       "    </tr>\n",
       "    <tr>\n",
       "      <th>1</th>\n",
       "      <td>GSM1000062</td>\n",
       "      <td>62</td>\n",
       "    </tr>\n",
       "    <tr>\n",
       "      <th>2</th>\n",
       "      <td>GSM1000223</td>\n",
       "      <td>41</td>\n",
       "    </tr>\n",
       "    <tr>\n",
       "      <th>3</th>\n",
       "      <td>GSM1000224</td>\n",
       "      <td>48</td>\n",
       "    </tr>\n",
       "    <tr>\n",
       "      <th>4</th>\n",
       "      <td>GSM1000225</td>\n",
       "      <td>53</td>\n",
       "    </tr>\n",
       "  </tbody>\n",
       "</table>\n",
       "</div>"
      ],
      "text/plain": [
       "    accession  age\n",
       "0  GSM1000061   62\n",
       "1  GSM1000062   62\n",
       "2  GSM1000223   41\n",
       "3  GSM1000224   48\n",
       "4  GSM1000225   53"
      ]
     },
     "execution_count": 9,
     "metadata": {},
     "output_type": "execute_result"
    }
   ],
   "source": [
    "samples_age = pd.read_pickle('../data/geo-annotation/series.age.res.1.py3.pickle')[['accession', 'age']].drop_duplicates()\n",
    "samples_age.head()"
   ]
  },
  {
   "cell_type": "markdown",
   "metadata": {},
   "source": [
    "## Samples series"
   ]
  },
  {
   "cell_type": "code",
   "execution_count": 11,
   "metadata": {
    "collapsed": false
   },
   "outputs": [
    {
     "data": {
      "text/html": [
       "<div>\n",
       "<table border=\"1\" class=\"dataframe\">\n",
       "  <thead>\n",
       "    <tr style=\"text-align: right;\">\n",
       "      <th></th>\n",
       "      <th>accession</th>\n",
       "      <th>series</th>\n",
       "      <th>platform</th>\n",
       "    </tr>\n",
       "  </thead>\n",
       "  <tbody>\n",
       "    <tr>\n",
       "      <th>0</th>\n",
       "      <td>GSM1</td>\n",
       "      <td>GSE506</td>\n",
       "      <td>GPL4</td>\n",
       "    </tr>\n",
       "    <tr>\n",
       "      <th>1</th>\n",
       "      <td>GSM2</td>\n",
       "      <td>GSE506</td>\n",
       "      <td>GPL4</td>\n",
       "    </tr>\n",
       "    <tr>\n",
       "      <th>2</th>\n",
       "      <td>GSM3</td>\n",
       "      <td>GSE462</td>\n",
       "      <td>GPL5</td>\n",
       "    </tr>\n",
       "    <tr>\n",
       "      <th>3</th>\n",
       "      <td>GSM4</td>\n",
       "      <td>GSE462</td>\n",
       "      <td>GPL5</td>\n",
       "    </tr>\n",
       "    <tr>\n",
       "      <th>4</th>\n",
       "      <td>GSM5</td>\n",
       "      <td>GSE462</td>\n",
       "      <td>GPL5</td>\n",
       "    </tr>\n",
       "  </tbody>\n",
       "</table>\n",
       "</div>"
      ],
      "text/plain": [
       "  accession  series platform\n",
       "0      GSM1  GSE506     GPL4\n",
       "1      GSM2  GSE506     GPL4\n",
       "2      GSM3  GSE462     GPL5\n",
       "3      GSM4  GSE462     GPL5\n",
       "4      GSM5  GSE462     GPL5"
      ]
     },
     "execution_count": 11,
     "metadata": {},
     "output_type": "execute_result"
    }
   ],
   "source": [
    "samples_series = (\n",
    "    pd.DataFrame.from_records(\n",
    "        [(s['accession'], series, s['platform'])\n",
    "            for s in db.samples.find({}, {'_id': 0, 'accession': 1, 'series': 1, 'platform': 1})\n",
    "            for series in s['series']],\n",
    "        columns=['accession', 'series', 'platform']\n",
    "    )\n",
    "    .drop_duplicates()\n",
    ")\n",
    "samples_series.head()"
   ]
  },
  {
   "cell_type": "code",
   "execution_count": 12,
   "metadata": {
    "collapsed": false
   },
   "outputs": [
    {
     "name": "stdout",
     "output_type": "stream",
     "text": [
      "(2344928, 4)\n"
     ]
    },
    {
     "data": {
      "text/html": [
       "<div>\n",
       "<table border=\"1\" class=\"dataframe\">\n",
       "  <thead>\n",
       "    <tr style=\"text-align: right;\">\n",
       "      <th></th>\n",
       "      <th>accession</th>\n",
       "      <th>norm</th>\n",
       "      <th>series</th>\n",
       "      <th>platform</th>\n",
       "    </tr>\n",
       "  </thead>\n",
       "  <tbody>\n",
       "    <tr>\n",
       "      <th>0</th>\n",
       "      <td>GSM305072</td>\n",
       "      <td>1</td>\n",
       "      <td>GSE12103</td>\n",
       "      <td>GPL6848</td>\n",
       "    </tr>\n",
       "    <tr>\n",
       "      <th>1</th>\n",
       "      <td>GSM305305</td>\n",
       "      <td>1</td>\n",
       "      <td>GSE12103</td>\n",
       "      <td>GPL6848</td>\n",
       "    </tr>\n",
       "    <tr>\n",
       "      <th>2</th>\n",
       "      <td>GSM305310</td>\n",
       "      <td>1</td>\n",
       "      <td>GSE12103</td>\n",
       "      <td>GPL6848</td>\n",
       "    </tr>\n",
       "    <tr>\n",
       "      <th>3</th>\n",
       "      <td>GSM1422841</td>\n",
       "      <td>1</td>\n",
       "      <td>GSE58949</td>\n",
       "      <td>GPL18883</td>\n",
       "    </tr>\n",
       "    <tr>\n",
       "      <th>4</th>\n",
       "      <td>GSM1422846</td>\n",
       "      <td>1</td>\n",
       "      <td>GSE58949</td>\n",
       "      <td>GPL18883</td>\n",
       "    </tr>\n",
       "  </tbody>\n",
       "</table>\n",
       "</div>"
      ],
      "text/plain": [
       "    accession  norm    series  platform\n",
       "0   GSM305072     1  GSE12103   GPL6848\n",
       "1   GSM305305     1  GSE12103   GPL6848\n",
       "2   GSM305310     1  GSE12103   GPL6848\n",
       "3  GSM1422841     1  GSE58949  GPL18883\n",
       "4  GSM1422846     1  GSE58949  GPL18883"
      ]
     },
     "execution_count": 12,
     "metadata": {},
     "output_type": "execute_result"
    }
   ],
   "source": [
    "samples_norms = pd.read_pickle('../data/geo-annotation/samples.norms.res2.pickle').drop_duplicates().merge(samples_series[['accession', 'platform']])\n",
    "print(samples_norms.shape)\n",
    "samples_norms.head()"
   ]
  },
  {
   "cell_type": "markdown",
   "metadata": {},
   "source": [
    "## Samples disease"
   ]
  },
  {
   "cell_type": "code",
   "execution_count": 13,
   "metadata": {
    "collapsed": false
   },
   "outputs": [
    {
     "data": {
      "text/html": [
       "<div>\n",
       "<table border=\"1\" class=\"dataframe\">\n",
       "  <thead>\n",
       "    <tr style=\"text-align: right;\">\n",
       "      <th></th>\n",
       "      <th>accession</th>\n",
       "      <th>series</th>\n",
       "      <th>doid</th>\n",
       "    </tr>\n",
       "  </thead>\n",
       "  <tbody>\n",
       "    <tr>\n",
       "      <th>0</th>\n",
       "      <td>GSM81</td>\n",
       "      <td>GSE3</td>\n",
       "      <td>DOID:4467</td>\n",
       "    </tr>\n",
       "    <tr>\n",
       "      <th>1</th>\n",
       "      <td>GSM82</td>\n",
       "      <td>GSE3</td>\n",
       "      <td>DOID:4467</td>\n",
       "    </tr>\n",
       "    <tr>\n",
       "      <th>2</th>\n",
       "      <td>GSM83</td>\n",
       "      <td>GSE3</td>\n",
       "      <td>DOID:4467</td>\n",
       "    </tr>\n",
       "    <tr>\n",
       "      <th>3</th>\n",
       "      <td>GSM84</td>\n",
       "      <td>GSE3</td>\n",
       "      <td>DOID:4467</td>\n",
       "    </tr>\n",
       "    <tr>\n",
       "      <th>4</th>\n",
       "      <td>GSM85</td>\n",
       "      <td>GSE3</td>\n",
       "      <td>DOID:4467</td>\n",
       "    </tr>\n",
       "  </tbody>\n",
       "</table>\n",
       "</div>"
      ],
      "text/plain": [
       "  accession series       doid\n",
       "0     GSM81   GSE3  DOID:4467\n",
       "1     GSM82   GSE3  DOID:4467\n",
       "2     GSM83   GSE3  DOID:4467\n",
       "3     GSM84   GSE3  DOID:4467\n",
       "4     GSM85   GSE3  DOID:4467"
      ]
     },
     "execution_count": 13,
     "metadata": {},
     "output_type": "execute_result"
    }
   ],
   "source": [
    "samples_disease = pd.merge(samples_series, series_disease)[['accession', 'series', 'doid']].drop_duplicates()\n",
    "samples_disease.head()"
   ]
  },
  {
   "cell_type": "markdown",
   "metadata": {},
   "source": [
    "## Проверка что если семпл в разных сериях, то болезни проставлены одинаковые"
   ]
  },
  {
   "cell_type": "code",
   "execution_count": 14,
   "metadata": {
    "collapsed": false
   },
   "outputs": [
    {
     "data": {
      "text/plain": [
       "((422311, 3), (422311, 3), (367979,))"
      ]
     },
     "execution_count": 14,
     "metadata": {},
     "output_type": "execute_result"
    }
   ],
   "source": [
    "samples_disease.shape, samples_disease.drop_duplicates().shape, samples_disease.accession.unique().shape\n"
   ]
  },
  {
   "cell_type": "code",
   "execution_count": 15,
   "metadata": {
    "collapsed": false
   },
   "outputs": [],
   "source": [
    "_t = (\n",
    "    samples_disease\n",
    "    .groupby('accession')\n",
    "    .agg({'series': lambda s: set(s), 'doid': lambda s: set(s)})\n",
    ")"
   ]
  },
  {
   "cell_type": "code",
   "execution_count": 16,
   "metadata": {
    "collapsed": false
   },
   "outputs": [
    {
     "name": "stdout",
     "output_type": "stream",
     "text": [
      "(357183, 3)\n"
     ]
    },
    {
     "data": {
      "text/html": [
       "<div>\n",
       "<table border=\"1\" class=\"dataframe\">\n",
       "  <thead>\n",
       "    <tr style=\"text-align: right;\">\n",
       "      <th></th>\n",
       "      <th>accession</th>\n",
       "      <th>doid</th>\n",
       "      <th>platform</th>\n",
       "    </tr>\n",
       "  </thead>\n",
       "  <tbody>\n",
       "    <tr>\n",
       "      <th>0</th>\n",
       "      <td>GSM100</td>\n",
       "      <td>DOID:4467</td>\n",
       "      <td>GPL9</td>\n",
       "    </tr>\n",
       "    <tr>\n",
       "      <th>1</th>\n",
       "      <td>GSM1000061</td>\n",
       "      <td>DOID:0050866</td>\n",
       "      <td>GPL5477</td>\n",
       "    </tr>\n",
       "    <tr>\n",
       "      <th>2</th>\n",
       "      <td>GSM1000062</td>\n",
       "      <td>DOID:0050866</td>\n",
       "      <td>GPL5477</td>\n",
       "    </tr>\n",
       "    <tr>\n",
       "      <th>3</th>\n",
       "      <td>GSM1000612</td>\n",
       "      <td>DOID:3070</td>\n",
       "      <td>GPL570</td>\n",
       "    </tr>\n",
       "    <tr>\n",
       "      <th>4</th>\n",
       "      <td>GSM1000613</td>\n",
       "      <td>DOID:3070</td>\n",
       "      <td>GPL570</td>\n",
       "    </tr>\n",
       "  </tbody>\n",
       "</table>\n",
       "</div>"
      ],
      "text/plain": [
       "    accession          doid platform\n",
       "0      GSM100     DOID:4467     GPL9\n",
       "1  GSM1000061  DOID:0050866  GPL5477\n",
       "2  GSM1000062  DOID:0050866  GPL5477\n",
       "3  GSM1000612     DOID:3070   GPL570\n",
       "4  GSM1000613     DOID:3070   GPL570"
      ]
     },
     "execution_count": 16,
     "metadata": {},
     "output_type": "execute_result"
    }
   ],
   "source": [
    "samples_disease = (\n",
    "    _t\n",
    "    .assign(doid_len=_t.doid.map(len))\n",
    "    .query('doid_len == 1')\n",
    "    .assign(doid=lambda d: d['doid'].map(lambda x: list(x)[0]))\n",
    "    [['doid']]\n",
    "    .reset_index()\n",
    "    .merge(samples_series[['accession', 'platform']].drop_duplicates())\n",
    ")\n",
    "print(samples_disease.shape)\n",
    "samples_disease.head()"
   ]
  },
  {
   "cell_type": "markdown",
   "metadata": {},
   "source": [
    "## Samples tissue"
   ]
  },
  {
   "cell_type": "code",
   "execution_count": 17,
   "metadata": {
    "collapsed": false
   },
   "outputs": [
    {
     "data": {
      "text/html": [
       "<div>\n",
       "<table border=\"1\" class=\"dataframe\">\n",
       "  <thead>\n",
       "    <tr style=\"text-align: right;\">\n",
       "      <th></th>\n",
       "      <th>accession</th>\n",
       "      <th>series</th>\n",
       "      <th>tissue_id</th>\n",
       "    </tr>\n",
       "  </thead>\n",
       "  <tbody>\n",
       "    <tr>\n",
       "      <th>0</th>\n",
       "      <td>GSM50</td>\n",
       "      <td>GSE2</td>\n",
       "      <td>BTO:0000232</td>\n",
       "    </tr>\n",
       "    <tr>\n",
       "      <th>1</th>\n",
       "      <td>GSM51</td>\n",
       "      <td>GSE2</td>\n",
       "      <td>BTO:0000232</td>\n",
       "    </tr>\n",
       "    <tr>\n",
       "      <th>2</th>\n",
       "      <td>GSM52</td>\n",
       "      <td>GSE2</td>\n",
       "      <td>BTO:0000232</td>\n",
       "    </tr>\n",
       "    <tr>\n",
       "      <th>3</th>\n",
       "      <td>GSM53</td>\n",
       "      <td>GSE2</td>\n",
       "      <td>BTO:0000232</td>\n",
       "    </tr>\n",
       "    <tr>\n",
       "      <th>4</th>\n",
       "      <td>GSM54</td>\n",
       "      <td>GSE2</td>\n",
       "      <td>BTO:0000232</td>\n",
       "    </tr>\n",
       "  </tbody>\n",
       "</table>\n",
       "</div>"
      ],
      "text/plain": [
       "  accession series    tissue_id\n",
       "0     GSM50   GSE2  BTO:0000232\n",
       "1     GSM51   GSE2  BTO:0000232\n",
       "2     GSM52   GSE2  BTO:0000232\n",
       "3     GSM53   GSE2  BTO:0000232\n",
       "4     GSM54   GSE2  BTO:0000232"
      ]
     },
     "execution_count": 17,
     "metadata": {},
     "output_type": "execute_result"
    }
   ],
   "source": [
    "samples_tissue = pd.merge(samples_series, series_tissue)[['accession', 'series', 'tissue_id']].drop_duplicates()\n",
    "samples_tissue.head()"
   ]
  },
  {
   "cell_type": "markdown",
   "metadata": {},
   "source": [
    "## Проверка что если семпл в разных сериях, то ткани проставлены одинаковые"
   ]
  },
  {
   "cell_type": "code",
   "execution_count": 18,
   "metadata": {
    "collapsed": false
   },
   "outputs": [
    {
     "data": {
      "text/plain": [
       "((627508, 3), (627508, 3), (554244,))"
      ]
     },
     "execution_count": 18,
     "metadata": {},
     "output_type": "execute_result"
    }
   ],
   "source": [
    "samples_tissue.shape, samples_tissue.drop_duplicates().shape, samples_tissue.accession.unique().shape\n"
   ]
  },
  {
   "cell_type": "code",
   "execution_count": 19,
   "metadata": {
    "collapsed": true
   },
   "outputs": [],
   "source": [
    "_t = (\n",
    "    samples_tissue\n",
    "    .groupby('accession')\n",
    "    .agg({'series': lambda s: set(s), 'tissue_id': lambda s: set(s)})\n",
    ")"
   ]
  },
  {
   "cell_type": "code",
   "execution_count": 20,
   "metadata": {
    "collapsed": false
   },
   "outputs": [
    {
     "data": {
      "text/html": [
       "<div>\n",
       "<table border=\"1\" class=\"dataframe\">\n",
       "  <thead>\n",
       "    <tr style=\"text-align: right;\">\n",
       "      <th></th>\n",
       "      <th>series</th>\n",
       "      <th>tissue_id</th>\n",
       "    </tr>\n",
       "    <tr>\n",
       "      <th>accession</th>\n",
       "      <th></th>\n",
       "      <th></th>\n",
       "    </tr>\n",
       "  </thead>\n",
       "  <tbody>\n",
       "    <tr>\n",
       "      <th>GSM10000</th>\n",
       "      <td>set([GSE665])</td>\n",
       "      <td>set([BTO:0000759])</td>\n",
       "    </tr>\n",
       "    <tr>\n",
       "      <th>GSM1000000</th>\n",
       "      <td>set([GSE40732, GSE40736])</td>\n",
       "      <td>set([BTO:0001025])</td>\n",
       "    </tr>\n",
       "    <tr>\n",
       "      <th>GSM1000001</th>\n",
       "      <td>set([GSE40732, GSE40736])</td>\n",
       "      <td>set([BTO:0001025])</td>\n",
       "    </tr>\n",
       "    <tr>\n",
       "      <th>GSM1000002</th>\n",
       "      <td>set([GSE40732, GSE40736])</td>\n",
       "      <td>set([BTO:0001025])</td>\n",
       "    </tr>\n",
       "    <tr>\n",
       "      <th>GSM1000003</th>\n",
       "      <td>set([GSE40732, GSE40736])</td>\n",
       "      <td>set([BTO:0001025])</td>\n",
       "    </tr>\n",
       "  </tbody>\n",
       "</table>\n",
       "</div>"
      ],
      "text/plain": [
       "                               series           tissue_id\n",
       "accession                                                \n",
       "GSM10000                set([GSE665])  set([BTO:0000759])\n",
       "GSM1000000  set([GSE40732, GSE40736])  set([BTO:0001025])\n",
       "GSM1000001  set([GSE40732, GSE40736])  set([BTO:0001025])\n",
       "GSM1000002  set([GSE40732, GSE40736])  set([BTO:0001025])\n",
       "GSM1000003  set([GSE40732, GSE40736])  set([BTO:0001025])"
      ]
     },
     "execution_count": 20,
     "metadata": {},
     "output_type": "execute_result"
    }
   ],
   "source": [
    "_t.head()"
   ]
  },
  {
   "cell_type": "code",
   "execution_count": 21,
   "metadata": {
    "collapsed": false
   },
   "outputs": [
    {
     "name": "stdout",
     "output_type": "stream",
     "text": [
      "(550745, 3)\n"
     ]
    },
    {
     "data": {
      "text/html": [
       "<div>\n",
       "<table border=\"1\" class=\"dataframe\">\n",
       "  <thead>\n",
       "    <tr style=\"text-align: right;\">\n",
       "      <th></th>\n",
       "      <th>accession</th>\n",
       "      <th>tissue_id</th>\n",
       "      <th>platform</th>\n",
       "    </tr>\n",
       "  </thead>\n",
       "  <tbody>\n",
       "    <tr>\n",
       "      <th>0</th>\n",
       "      <td>GSM10000</td>\n",
       "      <td>BTO:0000759</td>\n",
       "      <td>GPL85</td>\n",
       "    </tr>\n",
       "    <tr>\n",
       "      <th>1</th>\n",
       "      <td>GSM1000000</td>\n",
       "      <td>BTO:0001025</td>\n",
       "      <td>GPL16025</td>\n",
       "    </tr>\n",
       "    <tr>\n",
       "      <th>2</th>\n",
       "      <td>GSM1000001</td>\n",
       "      <td>BTO:0001025</td>\n",
       "      <td>GPL16025</td>\n",
       "    </tr>\n",
       "    <tr>\n",
       "      <th>3</th>\n",
       "      <td>GSM1000002</td>\n",
       "      <td>BTO:0001025</td>\n",
       "      <td>GPL16025</td>\n",
       "    </tr>\n",
       "    <tr>\n",
       "      <th>4</th>\n",
       "      <td>GSM1000003</td>\n",
       "      <td>BTO:0001025</td>\n",
       "      <td>GPL16025</td>\n",
       "    </tr>\n",
       "  </tbody>\n",
       "</table>\n",
       "</div>"
      ],
      "text/plain": [
       "    accession    tissue_id  platform\n",
       "0    GSM10000  BTO:0000759     GPL85\n",
       "1  GSM1000000  BTO:0001025  GPL16025\n",
       "2  GSM1000001  BTO:0001025  GPL16025\n",
       "3  GSM1000002  BTO:0001025  GPL16025\n",
       "4  GSM1000003  BTO:0001025  GPL16025"
      ]
     },
     "execution_count": 21,
     "metadata": {},
     "output_type": "execute_result"
    }
   ],
   "source": [
    "samples_tissue = (\n",
    "    _t\n",
    "    .assign(_len=_t.tissue_id.map(len))\n",
    "    .query('_len == 1')\n",
    "    .assign(tissue_id=lambda d: d['tissue_id'].map(lambda x: list(x)[0]))\n",
    "    [['tissue_id']]\n",
    "    .reset_index()\n",
    "    .merge(samples_series[['accession', 'platform']].drop_duplicates())\n",
    ")\n",
    "print(samples_tissue.shape)\n",
    "samples_tissue.head()"
   ]
  },
  {
   "cell_type": "markdown",
   "metadata": {},
   "source": [
    "## Препроцессинг"
   ]
  },
  {
   "cell_type": "code",
   "execution_count": 22,
   "metadata": {
    "collapsed": false
   },
   "outputs": [
    {
     "name": "stdout",
     "output_type": "stream",
     "text": [
      "(4801, 2)\n"
     ]
    },
    {
     "data": {
      "text/html": [
       "<div>\n",
       "<table border=\"1\" class=\"dataframe\">\n",
       "  <thead>\n",
       "    <tr style=\"text-align: right;\">\n",
       "      <th></th>\n",
       "      <th>series</th>\n",
       "      <th>preprocessed</th>\n",
       "    </tr>\n",
       "    <tr>\n",
       "      <th>id</th>\n",
       "      <th></th>\n",
       "      <th></th>\n",
       "    </tr>\n",
       "  </thead>\n",
       "  <tbody>\n",
       "    <tr>\n",
       "      <th>13843</th>\n",
       "      <td>GSE65835</td>\n",
       "      <td>1</td>\n",
       "    </tr>\n",
       "    <tr>\n",
       "      <th>13844</th>\n",
       "      <td>GSE53224</td>\n",
       "      <td>1</td>\n",
       "    </tr>\n",
       "    <tr>\n",
       "      <th>13845</th>\n",
       "      <td>GSE53183</td>\n",
       "      <td>1</td>\n",
       "    </tr>\n",
       "    <tr>\n",
       "      <th>13846</th>\n",
       "      <td>GSE53157</td>\n",
       "      <td>1</td>\n",
       "    </tr>\n",
       "    <tr>\n",
       "      <th>13847</th>\n",
       "      <td>GSE65721</td>\n",
       "      <td>1</td>\n",
       "    </tr>\n",
       "  </tbody>\n",
       "</table>\n",
       "</div>"
      ],
      "text/plain": [
       "         series  preprocessed\n",
       "id                           \n",
       "13843  GSE65835             1\n",
       "13844  GSE53224             1\n",
       "13845  GSE53183             1\n",
       "13846  GSE53157             1\n",
       "13847  GSE65721             1"
      ]
     },
     "execution_count": 22,
     "metadata": {},
     "output_type": "execute_result"
    }
   ],
   "source": [
    "series_preprocessed = pd.read_pickle('../data/preproc/series.converted.res1.pickle').assign(preprocessed=lambda d: 1).drop('platform', axis=1)\n",
    "print(series_preprocessed.shape)\n",
    "series_preprocessed.head()"
   ]
  },
  {
   "cell_type": "code",
   "execution_count": 23,
   "metadata": {
    "collapsed": false
   },
   "outputs": [
    {
     "name": "stdout",
     "output_type": "stream",
     "text": [
      "(178707, 4)\n"
     ]
    },
    {
     "data": {
      "text/html": [
       "<div>\n",
       "<table border=\"1\" class=\"dataframe\">\n",
       "  <thead>\n",
       "    <tr style=\"text-align: right;\">\n",
       "      <th></th>\n",
       "      <th>series</th>\n",
       "      <th>preprocessed</th>\n",
       "      <th>accession</th>\n",
       "      <th>platform</th>\n",
       "    </tr>\n",
       "  </thead>\n",
       "  <tbody>\n",
       "    <tr>\n",
       "      <th>0</th>\n",
       "      <td>GSE65835</td>\n",
       "      <td>1</td>\n",
       "      <td>GSM1607354</td>\n",
       "      <td>GPL570</td>\n",
       "    </tr>\n",
       "    <tr>\n",
       "      <th>1</th>\n",
       "      <td>GSE65835</td>\n",
       "      <td>1</td>\n",
       "      <td>GSM1607355</td>\n",
       "      <td>GPL570</td>\n",
       "    </tr>\n",
       "    <tr>\n",
       "      <th>2</th>\n",
       "      <td>GSE65835</td>\n",
       "      <td>1</td>\n",
       "      <td>GSM1607356</td>\n",
       "      <td>GPL570</td>\n",
       "    </tr>\n",
       "    <tr>\n",
       "      <th>3</th>\n",
       "      <td>GSE65835</td>\n",
       "      <td>1</td>\n",
       "      <td>GSM1607357</td>\n",
       "      <td>GPL570</td>\n",
       "    </tr>\n",
       "    <tr>\n",
       "      <th>4</th>\n",
       "      <td>GSE65835</td>\n",
       "      <td>1</td>\n",
       "      <td>GSM1607358</td>\n",
       "      <td>GPL570</td>\n",
       "    </tr>\n",
       "  </tbody>\n",
       "</table>\n",
       "</div>"
      ],
      "text/plain": [
       "     series  preprocessed   accession platform\n",
       "0  GSE65835             1  GSM1607354   GPL570\n",
       "1  GSE65835             1  GSM1607355   GPL570\n",
       "2  GSE65835             1  GSM1607356   GPL570\n",
       "3  GSE65835             1  GSM1607357   GPL570\n",
       "4  GSE65835             1  GSM1607358   GPL570"
      ]
     },
     "execution_count": 23,
     "metadata": {},
     "output_type": "execute_result"
    }
   ],
   "source": [
    "samples_preprocessed = series_preprocessed.merge(samples_series[['series', 'accession', 'platform']])\n",
    "print(samples_preprocessed.shape)\n",
    "samples_preprocessed.head()"
   ]
  },
  {
   "cell_type": "markdown",
   "metadata": {},
   "source": [
    "## Сводная таблица"
   ]
  },
  {
   "cell_type": "code",
   "execution_count": 24,
   "metadata": {
    "collapsed": false,
    "scrolled": true
   },
   "outputs": [
    {
     "name": "stdout",
     "output_type": "stream",
     "text": [
      "(1730022, 7)\n"
     ]
    },
    {
     "data": {
      "text/html": [
       "<div>\n",
       "<table border=\"1\" class=\"dataframe\">\n",
       "  <thead>\n",
       "    <tr style=\"text-align: right;\">\n",
       "      <th></th>\n",
       "      <th>accession</th>\n",
       "      <th>norm</th>\n",
       "      <th>series</th>\n",
       "      <th>platform</th>\n",
       "      <th>age</th>\n",
       "      <th>tissue_id</th>\n",
       "      <th>preprocessed</th>\n",
       "    </tr>\n",
       "  </thead>\n",
       "  <tbody>\n",
       "    <tr>\n",
       "      <th>0</th>\n",
       "      <td>GSM305072</td>\n",
       "      <td>1</td>\n",
       "      <td>GSE12103</td>\n",
       "      <td>GPL6848</td>\n",
       "      <td>NaN</td>\n",
       "      <td>BTO:0000089</td>\n",
       "      <td>NaN</td>\n",
       "    </tr>\n",
       "    <tr>\n",
       "      <th>1</th>\n",
       "      <td>GSM305305</td>\n",
       "      <td>1</td>\n",
       "      <td>GSE12103</td>\n",
       "      <td>GPL6848</td>\n",
       "      <td>NaN</td>\n",
       "      <td>BTO:0000089</td>\n",
       "      <td>NaN</td>\n",
       "    </tr>\n",
       "    <tr>\n",
       "      <th>2</th>\n",
       "      <td>GSM305310</td>\n",
       "      <td>1</td>\n",
       "      <td>GSE12103</td>\n",
       "      <td>GPL6848</td>\n",
       "      <td>NaN</td>\n",
       "      <td>BTO:0000089</td>\n",
       "      <td>NaN</td>\n",
       "    </tr>\n",
       "    <tr>\n",
       "      <th>3</th>\n",
       "      <td>GSM1422841</td>\n",
       "      <td>1</td>\n",
       "      <td>GSE58949</td>\n",
       "      <td>GPL18883</td>\n",
       "      <td>NaN</td>\n",
       "      <td>NaN</td>\n",
       "      <td>NaN</td>\n",
       "    </tr>\n",
       "    <tr>\n",
       "      <th>4</th>\n",
       "      <td>GSM1422846</td>\n",
       "      <td>1</td>\n",
       "      <td>GSE58949</td>\n",
       "      <td>GPL18883</td>\n",
       "      <td>NaN</td>\n",
       "      <td>NaN</td>\n",
       "      <td>NaN</td>\n",
       "    </tr>\n",
       "  </tbody>\n",
       "</table>\n",
       "</div>"
      ],
      "text/plain": [
       "    accession  norm    series  platform  age    tissue_id  preprocessed\n",
       "0   GSM305072     1  GSE12103   GPL6848  NaN  BTO:0000089           NaN\n",
       "1   GSM305305     1  GSE12103   GPL6848  NaN  BTO:0000089           NaN\n",
       "2   GSM305310     1  GSE12103   GPL6848  NaN  BTO:0000089           NaN\n",
       "3  GSM1422841     1  GSE58949  GPL18883  NaN          NaN           NaN\n",
       "4  GSM1422846     1  GSE58949  GPL18883  NaN          NaN           NaN"
      ]
     },
     "execution_count": 24,
     "metadata": {},
     "output_type": "execute_result"
    }
   ],
   "source": [
    "samples_annot = (\n",
    "    samples_norms\n",
    "    .merge(samples_age, how='left')\n",
    "    .merge(samples_tissue, how='left')\n",
    "    .merge(samples_norms, how='left')\n",
    "    .merge(samples_preprocessed, how='left')\n",
    "    .drop_duplicates()\n",
    ")\n",
    "print(samples_annot.shape)\n",
    "samples_annot.head()"
   ]
  },
  {
   "cell_type": "code",
   "execution_count": 69,
   "metadata": {
    "collapsed": false
   },
   "outputs": [
    {
     "data": {
      "text/plain": [
       "((1730022, 3), (1430868,))"
      ]
     },
     "execution_count": 69,
     "metadata": {},
     "output_type": "execute_result"
    }
   ],
   "source": [
    "samples_series.shape, samples_series.accession.unique().shape"
   ]
  },
  {
   "cell_type": "markdown",
   "metadata": {},
   "source": [
    "## Запись результатов"
   ]
  },
  {
   "cell_type": "code",
   "execution_count": 26,
   "metadata": {
    "collapsed": true
   },
   "outputs": [],
   "source": [
    "samples_annot.to_pickle('../data/geo-annotation/samples.annot.res6.pickle')"
   ]
  },
  {
   "cell_type": "code",
   "execution_count": 4,
   "metadata": {
    "collapsed": false
   },
   "outputs": [],
   "source": [
    "samples_annot = pd.read_pickle('../data/geo-annotation/samples.annot.res6.pickle')"
   ]
  }
 ],
 "metadata": {
  "kernelspec": {
   "display_name": "Python 3",
   "language": "python",
   "name": "python3"
  },
  "language_info": {
   "codemirror_mode": {
    "name": "ipython",
    "version": 3
   },
   "file_extension": ".py",
   "mimetype": "text/x-python",
   "name": "python",
   "nbconvert_exporter": "python",
   "pygments_lexer": "ipython3",
   "version": "3.4.3"
  }
 },
 "nbformat": 4,
 "nbformat_minor": 0
}
