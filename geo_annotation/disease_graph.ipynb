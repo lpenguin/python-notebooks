{
 "cells": [
  {
   "cell_type": "code",
   "execution_count": 1,
   "metadata": {},
   "outputs": [],
   "source": [
    "import sys\n",
    "sys.path.append('..')"
   ]
  },
  {
   "cell_type": "code",
   "execution_count": 2,
   "metadata": {},
   "outputs": [],
   "source": [
    "from importlib import reload\n",
    "from os.path import exists\n",
    "\n",
    "import networkx as nx\n",
    "import numpy as np\n",
    "import pandas as pd\n",
    "import lib.obo\n",
    "import lib.classification.elastic\n",
    "import lib.classification.validation\n",
    "import lib.utils\n",
    "import data\n",
    "import pymonad\n",
    "\n",
    "reload(lib.classification.validation)\n",
    "reload(lib.classification.elastic)\n",
    "reload(lib.obo)\n",
    "reload(lib.utils)\n",
    "reload(data)\n",
    "\n",
    "from lib.classification.elastic import annotate_index, collapse_matches, build_synonyms_graph\n",
    "from lib.utils import map_series, expand_dataframe, expand, flatten\n",
    "from lib.classification.validation import correct_ratio, incorrect_ratio, perfect_match\n",
    "from geo_annotation.import_ontology_es import import_ontology\n",
    "from elasticsearch import Elasticsearch\n",
    "from lib.obo import read_ontology, Ontology\n",
    "pd.set_option('display.width', 512)"
   ]
  },
  {
   "cell_type": "code",
   "execution_count": 3,
   "metadata": {},
   "outputs": [],
   "source": [
    "import seaborn\n",
    "%matplotlib inline"
   ]
  },
  {
   "cell_type": "code",
   "execution_count": 4,
   "metadata": {},
   "outputs": [
    {
     "ename": "AttributeError",
     "evalue": "'module' object has no attribute 'larisa_series'",
     "output_type": "error",
     "traceback": [
      "\u001b[0;31m---------------------------------------------------------------------------\u001b[0m",
      "\u001b[0;31mAttributeError\u001b[0m                            Traceback (most recent call last)",
      "\u001b[0;32m<ipython-input-4-9d993bbb9648>\u001b[0m in \u001b[0;36m<module>\u001b[0;34m()\u001b[0m\n\u001b[0;32m----> 1\u001b[0;31m \u001b[0mlarisa_series\u001b[0m \u001b[0;34m=\u001b[0m \u001b[0mdata\u001b[0m\u001b[0;34m.\u001b[0m\u001b[0mlarisa_series\u001b[0m\u001b[0;34m(\u001b[0m\u001b[0;34m)\u001b[0m\u001b[0;34m\u001b[0m\u001b[0m\n\u001b[0m\u001b[1;32m      2\u001b[0m \u001b[0;34m\u001b[0m\u001b[0m\n\u001b[1;32m      3\u001b[0m \u001b[0mlarisa_ids\u001b[0m \u001b[0;34m=\u001b[0m \u001b[0mlist\u001b[0m\u001b[0;34m(\u001b[0m\u001b[0mmap\u001b[0m\u001b[0;34m(\u001b[0m\u001b[0mint\u001b[0m\u001b[0;34m,\u001b[0m \u001b[0mlarisa_series\u001b[0m\u001b[0;34m.\u001b[0m\u001b[0mindex\u001b[0m\u001b[0;34m.\u001b[0m\u001b[0munique\u001b[0m\u001b[0;34m(\u001b[0m\u001b[0;34m)\u001b[0m\u001b[0;34m)\u001b[0m\u001b[0;34m)\u001b[0m\u001b[0;34m\u001b[0m\u001b[0m\n\u001b[1;32m      4\u001b[0m larisa_vd = pd.DataFrame(dict(classes=larisa_series[['doid']]\n\u001b[1;32m      5\u001b[0m                          \u001b[0;34m.\u001b[0m\u001b[0mreset_index\u001b[0m\u001b[0;34m(\u001b[0m\u001b[0;34m)\u001b[0m\u001b[0;34m\u001b[0m\u001b[0m\n",
      "\u001b[0;31mAttributeError\u001b[0m: 'module' object has no attribute 'larisa_series'"
     ]
    }
   ],
   "source": [
    "larisa_series = data.larisa_series()\n",
    "\n",
    "larisa_ids = list(map(int, larisa_series.index.unique()))\n",
    "larisa_vd = pd.DataFrame(dict(classes=larisa_series[['doid']]\n",
    "                         .reset_index()\n",
    "                         .groupby('id')['doid']\n",
    "                         .apply(lambda x: list(set(x)))))\n",
    "larisa_vd[:7]"
   ]
  },
  {
   "cell_type": "code",
   "execution_count": 443,
   "metadata": {},
   "outputs": [
    {
     "name": "stdout",
     "output_type": "stream",
     "text": [
      "Read obo graph\n",
      "Name: \n",
      "Type: DiGraph\n",
      "Number of nodes: 6595\n",
      "Number of edges: 6594\n",
      "Average in degree:   0.9998\n",
      "Average out degree:   0.9998\n"
     ]
    }
   ],
   "source": [
    "es = Elasticsearch()\n",
    "ontology = read_ontology('../data/geo-annotation/doid-patched.obo',\n",
    "                         exclude_duplicates=True)"
   ]
  },
  {
   "cell_type": "code",
   "execution_count": 7,
   "metadata": {},
   "outputs": [],
   "source": [
    "# Убираем синонимы состоящие только из коротких слов  (len <= 2 )\n",
    "# (вообще ошибка происходит изза стоп-слов в Elasticsearch, но так проще)\n",
    "\n",
    "def cell():\n",
    "    import re\n",
    "    def tokenize(s):\n",
    "        return re.split(r'[^\\w\\d]+', s)\n",
    "    \n",
    "    def all_short(synonym):\n",
    "        return all(len(t) <= 2 for t in tokenize(synonym))\n",
    "    \n",
    "    for item_id, item in ontology.meta.items():\n",
    "        item.synonyms = [s for s in item.synonyms if not all_short(s)]\n",
    "\n",
    "cell()"
   ]
  },
  {
   "cell_type": "code",
   "execution_count": 16,
   "metadata": {},
   "outputs": [],
   "source": [
    "import_ontology(ontology, 'disease_ontology')\n",
    "syn_ontology = Ontology(build_synonyms_graph(ontology, es, 'disease_ontology'), list(ontology.items()))"
   ]
  },
  {
   "cell_type": "code",
   "execution_count": 437,
   "metadata": {},
   "outputs": [],
   "source": [
    "import pymongo\n",
    "db = pymongo.MongoClient().scraper_meta\n",
    "series_ids = [int(d['accession'][3:]) for d in db.series.find({'organism': 'Homo sapiens'}, {'_id': 0, 'accession': 1})]"
   ]
  },
  {
   "cell_type": "code",
   "execution_count": 439,
   "metadata": {},
   "outputs": [
    {
     "data": {
      "text/plain": [
       "[43950, 7547, 7563, 7606, 43860, 43862, 43876, 43878, 43880, 43881]"
      ]
     },
     "execution_count": 439,
     "output_type": "execute_result",
     "metadata": {}
    }
   ],
   "source": [
    "series_ids[:10]"
   ]
  },
  {
   "cell_type": "code",
   "execution_count": 450,
   "metadata": {},
   "outputs": [],
   "source": [
    "annotation_result_file = '../data/geo-annotation/series.disease.res4.pickle'\n",
    "if not exists(annotation_result_file):\n",
    "    res = annotate_index(client=es,\n",
    "                         ontology=ontology,\n",
    "                         index='series',\n",
    "                         ids=larisa_ids\n",
    "                        )\n",
    "\n",
    "    res.to_pickle(annotation_result_file)\n",
    "\n",
    "else:\n",
    "    res = pd.read_pickle(annotation_result_file)"
   ]
  },
  {
   "cell_type": "code",
   "execution_count": 451,
   "metadata": {},
   "outputs": [
    {
     "data": {
      "text/plain": [
       "324"
      ]
     },
     "execution_count": 451,
     "output_type": "execute_result",
     "metadata": {}
    }
   ],
   "source": [
    "len(res)"
   ]
  },
  {
   "cell_type": "code",
   "execution_count": 18,
   "metadata": {},
   "outputs": [],
   "source": [
    "def doid_id(item_id):\n",
    "    return \"DOID:{:07}\".format(item_id)\n",
    "\n",
    "\n",
    "def ontology_name(item_id):\n",
    "    if item_id not in ontology.meta:\n",
    "        return item_id\n",
    "    return ontology.meta[item_id].name\n",
    "\n",
    "\n",
    "def to_name(series_id):\n",
    "    return \"GSE{}\".format(series_id)\n",
    "\n",
    "def name(item_id):\n",
    "    return '{} ({})'.format(ontology_name(item_id), item_id)\n",
    "\n",
    "def names(df):\n",
    "    return df.applymap(lambda xs: [name(x) for x in xs])\n",
    "\n",
    "def sub_ontology(nodes, ontology):\n",
    "    subset = set(flatten([nx.shortest_path(ontology.graph, 'DOID:4', cls) for cls in nodes]))\n",
    "    for n in nodes:\n",
    "        subset.add(n)\n",
    "    return nx.subgraph(ontology.graph, subset)\n",
    "\n",
    "def matches_graph(matches, vd_classes=None, figsize=None, prog='neato'):\n",
    "    matches = [m for m in matches if m in ontology.graph.nodes()]\n",
    "    vd_classes = vd_classes or []\n",
    "    import matplotlib.pyplot as plt\n",
    "    figsize = figsize or (14, 10)\n",
    "    plt.figure(figsize=figsize) \n",
    "    import networkx as nx\n",
    "    \n",
    "    G = sub_ontology(matches + vd_classes, ontology)\n",
    "    pos=nx.pygraphviz_layout(G, prog=prog) \n",
    "    \n",
    "    labels = dict((k, v) for (k, v) in names_dict.items() if k in G.nodes())\n",
    "    nodes_other = [x for x in G.nodes() if x not in matches]\n",
    "    \n",
    "    nx.draw_networkx(G, labels=labels, \n",
    "            pos=pos, \n",
    "            node_size=400,\n",
    "            node_color='r',\n",
    "             alpha=0.5,\n",
    "            nodelist=matches)\n",
    "    \n",
    "    nx.draw_networkx(G, labels=labels, \n",
    "        pos=pos, \n",
    "        node_size=400,\n",
    "        node_color='w',\n",
    "         alpha=0.8,\n",
    "        nodelist=nodes_other)\n",
    "    \n",
    "    if vd_classes:\n",
    "        nx.draw_networkx(G, labels=labels, \n",
    "            pos=pos, \n",
    "            node_size=400,\n",
    "            node_color='g',\n",
    "            alpha=0.5,\n",
    "#             font_color='g',                     \n",
    "            nodelist=vd_classes)\n",
    "        \n",
    "    plt.show()\n",
    "\n",
    "    \n",
    "names_dict = dict((record.id, record.name) for record in ontology.meta.values())"
   ]
  },
  {
   "cell_type": "code",
   "execution_count": 375,
   "metadata": {},
   "outputs": [],
   "source": [
    "cell_type_cancer = 'DOID:0050687'\n",
    "organ_system_cancer = 'DOID:0050686'\n",
    "cell_type_benign_neoplasm = 'DOID:0060084'\n",
    "organ_system_benign_neoplasm = 'DOID:0060085'\n",
    "\n",
    "@pymonad.curry\n",
    "def exclude_similar_branches(ontology, classes):\n",
    "    has_osc = any(ontology.has_path(organ_system_cancer, c) for c in classes)\n",
    "    if has_osc:\n",
    "        return [c for c in classes if not ontology.has_path(cell_type_cancer, c) \n",
    "#                                       and not ontology.has_path(cell_type_benign_neoplasm, c)\n",
    "#                                       and not ontology.has_path(organ_system_benign_neoplasm, c) \n",
    "               ]\n",
    "    else:\n",
    "        return classes"
   ]
  },
  {
   "cell_type": "code",
   "execution_count": 390,
   "metadata": {},
   "outputs": [],
   "source": [
    "root_disease = 'DOID:4'\n",
    "\n",
    "@pymonad.curry\n",
    "def exclude_wide_terms(ontology, classes):\n",
    "    threshold = 4\n",
    "    \n",
    "    return [c for c in classes \n",
    "            if len(nx.shortest_path(ontology.graph, root_disease, c)) > threshold]"
   ]
  },
  {
   "cell_type": "code",
   "execution_count": 452,
   "metadata": {},
   "outputs": [],
   "source": [
    "results = pd.DataFrame(dict(\n",
    "        odinary=res.classes,\n",
    "        collapsed=res.classes.map(exclude_wide_terms(ontology) *\n",
    "                                  collapse_matches(ontology.graph)),\n",
    "        collapsed_ex=res.classes.map(exclude_wide_terms(ontology) * \n",
    "                                     exclude_similar_branches(ontology) *\n",
    "                                     collapse_matches(ontology.graph)),\n",
    "#         collapsed_syn=res.classes.map(collapse_matches(syn_ontology.graph) *\n",
    "#                                      exclude_wide_terms(ontology) * \n",
    "#                                      exclude_similar_branches(ontology) *\n",
    "#                                      collapse_matches(ontology.graph)),\n",
    "        larisa=larisa_vd.classes,\n",
    "    )\n",
    ").applymap(lambda x: [] if isinstance(x, float) else x)"
   ]
  },
  {
   "cell_type": "code",
   "execution_count": 89,
   "metadata": {},
   "outputs": [],
   "source": [
    "?pd.DataFrame.hist"
   ]
  },
  {
   "cell_type": "code",
   "execution_count": 453,
   "metadata": {},
   "outputs": [
    {
     "data": {
      "text/plain": [
       "array([[<matplotlib.axes._subplots.AxesSubplot object at 0x111c094a8>,\n",
       "        <matplotlib.axes._subplots.AxesSubplot object at 0x110815c50>,\n",
       "        <matplotlib.axes._subplots.AxesSubplot object at 0x111e46048>,\n",
       "        <matplotlib.axes._subplots.AxesSubplot object at 0x112047f28>]], dtype=object)"
      ]
     },
     "execution_count": 453,
     "output_type": "execute_result",
     "metadata": {}
    },
    {
     "data": {
      "image/png": "[encoded data removed]"
     },
     "output_type": "display_data",
     "metadata": {}
    }
   ],
   "source": [
    "(\n",
    "    results\n",
    "    .applymap(len).hist(bins=range(0, 9), \n",
    "                        sharey=True, \n",
    "                        layout=(1, 4),\n",
    "                        figsize=(14, 6))\n",
    " )"
   ]
  },
  {
   "cell_type": "code",
   "execution_count": 431,
   "metadata": {},
   "outputs": [],
   "source": [
    "i = 6"
   ]
  },
  {
   "cell_type": "code",
   "execution_count": 432,
   "metadata": {},
   "outputs": [
    {
     "name": "stdout",
     "output_type": "stream",
     "text": [
      "6\n",
      "larisa                        [DOID:0050865]\n",
      "collapsed_ex    [DOID:0050865, DOID:0050866]\n",
      "Name: 9844, dtype: object\n"
     ]
    },
    {
     "data": {
      "image/png": "[encoded data removed]"
     },
     "output_type": "display_data",
     "metadata": {}
    }
   ],
   "source": [
    "def cell():\n",
    "    global i\n",
    "    row = two_classes.iloc[i]\n",
    "    print(i)\n",
    "    print(row)\n",
    "    i += 1\n",
    "    matches_graph(row.collapsed_ex, row.larisa)\n",
    "    \n",
    "cell()"
   ]
  },
  {
   "cell_type": "code",
   "execution_count": 393,
   "metadata": {},
   "outputs": [],
   "source": [
    "results = results[results.larisa.map(lambda cls: 'DOID:9675/DOID:3770' not in cls)]"
   ]
  },
  {
   "cell_type": "code",
   "execution_count": 411,
   "metadata": {},
   "outputs": [],
   "source": [
    "def compare(rc, vc):\n",
    "    return ontology.has_path(rc, vc)\n",
    "\n",
    "def compare2(rc, vc):\n",
    "    return ontology.has_path(rc, vc) or ontology.has_path(vc, rc)\n",
    "\n",
    "def compare3(rc, vc):\n",
    "    threshold = 4\n",
    "    if rc == vc:\n",
    "        return True\n",
    "    return ontology.has_path(rc, vc) and (nx.shortest_path_length(ontology.graph, rc, vc) <= threshold)\n",
    "                                \n",
    "def compare4(rc, vc):\n",
    "    if rc == vc:\n",
    "        return True\n",
    "    return compare3(rc, vc) or compare3(vc, rc)\n",
    "\n",
    "\n",
    "\n",
    "@pymonad.curry\n",
    "def cr(vd, res):\n",
    "    return correct_ratio(res, vd, compare_func=compare4)\n",
    "\n",
    "@pymonad.curry\n",
    "def ir(vd, res):\n",
    "    return incorrect_ratio(res, vd, compare_func=compare4)\n",
    "\n",
    "\n",
    "@pymonad.curry\n",
    "def pm(vd, res):\n",
    "    return perfect_match(res, vd, compare_func=compare4)\n",
    "\n",
    "\n",
    "def cell():\n",
    "    global results\n",
    "    correct = pd.DataFrame(data=dict([(c, cr(results.larisa, results[c])) for c in results.columns if c != 'larisa']))\n",
    "    incorrect = pd.DataFrame(data=dict([(c, ir(results.larisa, results[c])) for c in results.columns if c != 'larisa']))\n",
    "    perfect = pd.DataFrame(data=dict([(c, pm(results.larisa, results[c])) for c in results.columns if c != 'larisa']))\n",
    "    return correct, incorrect, perfect\n",
    "    \n",
    "correct, incorrect, perfect = cell()"
   ]
  },
  {
   "cell_type": "code",
   "execution_count": 412,
   "metadata": {},
   "outputs": [
    {
     "data": {
      "text/plain": [
       "collapsed        0.826301\n",
       "collapsed_ex     0.819075\n",
       "collapsed_syn    0.816185\n",
       "odinary          0.843064\n",
       "dtype: float64"
      ]
     },
     "execution_count": 412,
     "output_type": "execute_result",
     "metadata": {}
    }
   ],
   "source": [
    "correct.mean()"
   ]
  },
  {
   "cell_type": "code",
   "execution_count": 413,
   "metadata": {},
   "outputs": [
    {
     "data": {
      "text/plain": [
       "collapsed        0.328565\n",
       "collapsed_ex     0.254721\n",
       "collapsed_syn    0.238343\n",
       "odinary          0.417047\n",
       "dtype: float64"
      ]
     },
     "execution_count": 413,
     "output_type": "execute_result",
     "metadata": {}
    }
   ],
   "source": [
    "incorrect.mean()"
   ]
  },
  {
   "cell_type": "code",
   "execution_count": 414,
   "metadata": {},
   "outputs": [
    {
     "data": {
      "text/plain": [
       "collapsed        0.803468\n",
       "collapsed_ex     0.794798\n",
       "collapsed_syn    0.791908\n",
       "odinary          0.367052\n",
       "dtype: float64"
      ]
     },
     "execution_count": 414,
     "output_type": "execute_result",
     "metadata": {}
    }
   ],
   "source": [
    "perfect.mean()"
   ]
  },
  {
   "cell_type": "code",
   "execution_count": 417,
   "metadata": {},
   "outputs": [
    {
     "data": {
      "text/html": [
       "<div>\n",
       "<table border=\"1\" class=\"dataframe\">\n",
       "  <thead>\n",
       "    <tr style=\"text-align: right;\">\n",
       "      <th></th>\n",
       "      <th>collapsed</th>\n",
       "      <th>collapsed_ex</th>\n",
       "      <th>collapsed_syn</th>\n",
       "      <th>larisa</th>\n",
       "      <th>odinary</th>\n",
       "    </tr>\n",
       "  </thead>\n",
       "  <tbody>\n",
       "    <tr>\n",
       "      <th>0</th>\n",
       "      <td>26</td>\n",
       "      <td>26</td>\n",
       "      <td>26</td>\n",
       "      <td>NaN</td>\n",
       "      <td>23</td>\n",
       "    </tr>\n",
       "    <tr>\n",
       "      <th>1</th>\n",
       "      <td>181</td>\n",
       "      <td>234</td>\n",
       "      <td>247</td>\n",
       "      <td>300</td>\n",
       "      <td>41</td>\n",
       "    </tr>\n",
       "    <tr>\n",
       "      <th>2</th>\n",
       "      <td>98</td>\n",
       "      <td>68</td>\n",
       "      <td>58</td>\n",
       "      <td>25</td>\n",
       "      <td>102</td>\n",
       "    </tr>\n",
       "    <tr>\n",
       "      <th>3</th>\n",
       "      <td>32</td>\n",
       "      <td>13</td>\n",
       "      <td>10</td>\n",
       "      <td>17</td>\n",
       "      <td>97</td>\n",
       "    </tr>\n",
       "    <tr>\n",
       "      <th>4</th>\n",
       "      <td>7</td>\n",
       "      <td>4</td>\n",
       "      <td>4</td>\n",
       "      <td>NaN</td>\n",
       "      <td>44</td>\n",
       "    </tr>\n",
       "    <tr>\n",
       "      <th>5</th>\n",
       "      <td>2</td>\n",
       "      <td>1</td>\n",
       "      <td>1</td>\n",
       "      <td>2</td>\n",
       "      <td>18</td>\n",
       "    </tr>\n",
       "    <tr>\n",
       "      <th>6</th>\n",
       "      <td>NaN</td>\n",
       "      <td>NaN</td>\n",
       "      <td>NaN</td>\n",
       "      <td>NaN</td>\n",
       "      <td>18</td>\n",
       "    </tr>\n",
       "    <tr>\n",
       "      <th>7</th>\n",
       "      <td>NaN</td>\n",
       "      <td>NaN</td>\n",
       "      <td>NaN</td>\n",
       "      <td>NaN</td>\n",
       "      <td>2</td>\n",
       "    </tr>\n",
       "    <tr>\n",
       "      <th>9</th>\n",
       "      <td>NaN</td>\n",
       "      <td>NaN</td>\n",
       "      <td>NaN</td>\n",
       "      <td>1</td>\n",
       "      <td>NaN</td>\n",
       "    </tr>\n",
       "    <tr>\n",
       "      <th>10</th>\n",
       "      <td>NaN</td>\n",
       "      <td>NaN</td>\n",
       "      <td>NaN</td>\n",
       "      <td>1</td>\n",
       "      <td>NaN</td>\n",
       "    </tr>\n",
       "    <tr>\n",
       "      <th>11</th>\n",
       "      <td>NaN</td>\n",
       "      <td>NaN</td>\n",
       "      <td>NaN</td>\n",
       "      <td>NaN</td>\n",
       "      <td>1</td>\n",
       "    </tr>\n",
       "  </tbody>\n",
       "</table>\n",
       "</div>"
      ]
     },
     "output_type": "execute_result",
     "metadata": {}
    }
   ],
   "source": [
    "results.applymap(len).apply(lambda x: x.value_counts())"
   ]
  },
  {
   "cell_type": "code",
   "execution_count": 366,
   "metadata": {},
   "outputs": [
    {
     "data": {
      "text/plain": [
       "collapsed        0.853333\n",
       "collapsed_ex     0.840000\n",
       "collapsed_syn    0.836667\n",
       "odinary          0.870000\n",
       "dtype: float64"
      ]
     },
     "execution_count": 366,
     "output_type": "execute_result",
     "metadata": {}
    }
   ],
   "source": [
    "correct.loc[results[results.larisa.map(lambda x: len(x) == 1)].index].mean()"
   ]
  },
  {
   "cell_type": "code",
   "execution_count": 415,
   "metadata": {},
   "outputs": [
    {
     "data": {
      "text/plain": [
       "collapsed        0.270611\n",
       "collapsed_ex     0.190444\n",
       "collapsed_syn    0.171556\n",
       "odinary          0.373439\n",
       "dtype: float64"
      ]
     },
     "execution_count": 415,
     "output_type": "execute_result",
     "metadata": {}
    }
   ],
   "source": [
    "incorrect.loc[results[results.larisa.map(lambda x: len(x) == 1)].index].mean()"
   ]
  },
  {
   "cell_type": "code",
   "execution_count": 368,
   "metadata": {},
   "outputs": [
    {
     "data": {
      "text/plain": [
       "collapsed        0.853333\n",
       "collapsed_ex     0.840000\n",
       "collapsed_syn    0.836667\n",
       "odinary          0.306667\n",
       "dtype: float64"
      ]
     },
     "execution_count": 368,
     "output_type": "execute_result",
     "metadata": {}
    }
   ],
   "source": [
    "perfect.loc[results[results.larisa.map(lambda x: len(x) == 1)].index].mean()"
   ]
  },
  {
   "cell_type": "markdown",
   "metadata": {},
   "source": [
    "## Сводная таблица"
   ]
  },
  {
   "cell_type": "code",
   "execution_count": 430,
   "metadata": {},
   "outputs": [
    {
     "data": {
      "text/html": [
       "<div>\n",
       "<table border=\"1\" class=\"dataframe\">\n",
       "  <thead>\n",
       "    <tr style=\"text-align: right;\">\n",
       "      <th></th>\n",
       "      <th>counts</th>\n",
       "      <th>scores</th>\n",
       "      <th>range</th>\n",
       "    </tr>\n",
       "  </thead>\n",
       "  <tbody>\n",
       "    <tr>\n",
       "      <th>collapsed</th>\n",
       "      <td>181</td>\n",
       "      <td>0.850000</td>\n",
       "      <td>0.521614</td>\n",
       "    </tr>\n",
       "    <tr>\n",
       "      <th>collapsed_ex</th>\n",
       "      <td>234</td>\n",
       "      <td>0.843333</td>\n",
       "      <td>0.674352</td>\n",
       "    </tr>\n",
       "    <tr>\n",
       "      <th>collapsed_syn</th>\n",
       "      <td>247</td>\n",
       "      <td>0.840000</td>\n",
       "      <td>0.711816</td>\n",
       "    </tr>\n",
       "    <tr>\n",
       "      <th>odinary</th>\n",
       "      <td>41</td>\n",
       "      <td>0.386667</td>\n",
       "      <td>0.118156</td>\n",
       "    </tr>\n",
       "  </tbody>\n",
       "</table>\n",
       "</div>"
      ]
     },
     "output_type": "execute_result",
     "metadata": {}
    }
   ],
   "source": [
    "cols = [c for c in results.columns if c != 'larisa']\n",
    "\n",
    "counts = results.applymap(len).apply(lambda x: x.value_counts()).loc[1]\n",
    "pd.DataFrame(dict(scores=[perfect.loc[results[results.larisa.map(lambda x: len(x) == 1)].index].mean()[c] for c in cols],\n",
    "                  counts=counts),\n",
    "             index=cols).assign(range=lambda x: x['counts']/larisa_vd.shape[0])"
   ]
  },
  {
   "cell_type": "code",
   "execution_count": 244,
   "metadata": {},
   "outputs": [
    {
     "data": {
      "text/html": [
       "<div>\n",
       "<table border=\"1\" class=\"dataframe\">\n",
       "  <thead>\n",
       "    <tr style=\"text-align: right;\">\n",
       "      <th></th>\n",
       "      <th>collapsed_ex</th>\n",
       "    </tr>\n",
       "  </thead>\n",
       "  <tbody>\n",
       "    <tr>\n",
       "      <th>2817</th>\n",
       "      <td>False</td>\n",
       "    </tr>\n",
       "    <tr>\n",
       "      <th>7553</th>\n",
       "      <td>False</td>\n",
       "    </tr>\n",
       "    <tr>\n",
       "      <th>8671</th>\n",
       "      <td>False</td>\n",
       "    </tr>\n",
       "    <tr>\n",
       "      <th>10245</th>\n",
       "      <td>False</td>\n",
       "    </tr>\n",
       "    <tr>\n",
       "      <th>10334</th>\n",
       "      <td>False</td>\n",
       "    </tr>\n",
       "    <tr>\n",
       "      <th>10927</th>\n",
       "      <td>False</td>\n",
       "    </tr>\n",
       "    <tr>\n",
       "      <th>10971</th>\n",
       "      <td>False</td>\n",
       "    </tr>\n",
       "    <tr>\n",
       "      <th>12090</th>\n",
       "      <td>False</td>\n",
       "    </tr>\n",
       "    <tr>\n",
       "      <th>12102</th>\n",
       "      <td>False</td>\n",
       "    </tr>\n",
       "    <tr>\n",
       "      <th>13787</th>\n",
       "      <td>False</td>\n",
       "    </tr>\n",
       "  </tbody>\n",
       "</table>\n",
       "</div>"
      ]
     },
     "output_type": "execute_result",
     "metadata": {}
    }
   ],
   "source": [
    "one_perf = perfect[['collapsed_ex']].loc[results[results.collapsed_ex.map(lambda x: len(x) == 1)].index]\n",
    "one_perf[~one_perf.collapsed_ex][:10]"
   ]
  },
  {
   "cell_type": "code",
   "execution_count": 271,
   "metadata": {},
   "outputs": [
    {
     "data": {
      "text/html": [
       "<div>\n",
       "<table border=\"1\" class=\"dataframe\">\n",
       "  <thead>\n",
       "    <tr style=\"text-align: right;\">\n",
       "      <th></th>\n",
       "      <th>collapsed_ex</th>\n",
       "      <th>larisa</th>\n",
       "    </tr>\n",
       "  </thead>\n",
       "  <tbody>\n",
       "    <tr>\n",
       "      <th>2817</th>\n",
       "      <td>[malignant glioma (DOID:3070)]</td>\n",
       "      <td>[brain glioma (DOID:0060108)]</td>\n",
       "    </tr>\n",
       "    <tr>\n",
       "      <th>7553</th>\n",
       "      <td>[melanoma (DOID:1909)]</td>\n",
       "      <td>[basal cell carcinoma (DOID:2513), skin squamo...</td>\n",
       "    </tr>\n",
       "    <tr>\n",
       "      <th>8671</th>\n",
       "      <td>[adenoma (DOID:657)]</td>\n",
       "      <td>[colorectal adenoma (DOID:0050860)]</td>\n",
       "    </tr>\n",
       "    <tr>\n",
       "      <th>10245</th>\n",
       "      <td>[lung cancer (DOID:1324)]</td>\n",
       "      <td>[lung adenocarcinoma (DOID:3910), lung squamou...</td>\n",
       "    </tr>\n",
       "    <tr>\n",
       "      <th>10334</th>\n",
       "      <td>[aggressive periodontitis (DOID:1474)]</td>\n",
       "      <td>[periodontitis (DOID:824)]</td>\n",
       "    </tr>\n",
       "    <tr>\n",
       "      <th>10927</th>\n",
       "      <td>[adenoma (DOID:657)]</td>\n",
       "      <td>[adrenal cortical adenoma (DOID:0050891), adre...</td>\n",
       "    </tr>\n",
       "    <tr>\n",
       "      <th>10971</th>\n",
       "      <td>[serous cystadenocarcinoma (DOID:3114)]</td>\n",
       "      <td>[fallopian tube serous adenocarcinoma (DOID:55...</td>\n",
       "    </tr>\n",
       "    <tr>\n",
       "      <th>12090</th>\n",
       "      <td>[chromophobe adenocarcinoma (DOID:4471)]</td>\n",
       "      <td>[renal oncocytoma (DOID:6245), chromophobe ade...</td>\n",
       "    </tr>\n",
       "    <tr>\n",
       "      <th>12102</th>\n",
       "      <td>[sarcoma (DOID:1115)]</td>\n",
       "      <td>[bone ewing's sarcoma (DOID:3368)]</td>\n",
       "    </tr>\n",
       "    <tr>\n",
       "      <th>13787</th>\n",
       "      <td>[breast cancer (DOID:1612)]</td>\n",
       "      <td>[breast carcinoma (DOID:3459), her2-receptor p...</td>\n",
       "    </tr>\n",
       "    <tr>\n",
       "      <th>15824</th>\n",
       "      <td>[glioblastoma multiforme (DOID:3068)]</td>\n",
       "      <td>[oligodendroglioma (DOID:3181), astrocytoma (D...</td>\n",
       "    </tr>\n",
       "    <tr>\n",
       "      <th>15960</th>\n",
       "      <td>[colorectal cancer (DOID:9256)]</td>\n",
       "      <td>[colorectal cancer (DOID:9256), colorectal ade...</td>\n",
       "    </tr>\n",
       "    <tr>\n",
       "      <th>16461</th>\n",
       "      <td>[relapsing-remitting multiple sclerosis (DOID:...</td>\n",
       "      <td>[multiple sclerosis (DOID:2377)]</td>\n",
       "    </tr>\n",
       "    <tr>\n",
       "      <th>17351</th>\n",
       "      <td>[squamous cell carcinoma (DOID:1749)]</td>\n",
       "      <td>[esophagus squamous cell carcinoma (DOID:3748)]</td>\n",
       "    </tr>\n",
       "    <tr>\n",
       "      <th>18309</th>\n",
       "      <td>[dementia (DOID:1307)]</td>\n",
       "      <td>[alzheimer's disease (DOID:10652)]</td>\n",
       "    </tr>\n",
       "    <tr>\n",
       "      <th>18462</th>\n",
       "      <td>[carcinoma (DOID:305)]</td>\n",
       "      <td>[colorectal adenocarcinoma (DOID:0050861)]</td>\n",
       "    </tr>\n",
       "    <tr>\n",
       "      <th>19072</th>\n",
       "      <td>[colon adenocarcinoma (DOID:234)]</td>\n",
       "      <td>[colon adenoma (DOID:0050912)]</td>\n",
       "    </tr>\n",
       "    <tr>\n",
       "      <th>19578</th>\n",
       "      <td>[malignant glioma (DOID:3070)]</td>\n",
       "      <td>[oligodendroglioma (DOID:3181), astrocytoma (D...</td>\n",
       "    </tr>\n",
       "    <tr>\n",
       "      <th>19650</th>\n",
       "      <td>[pancreatic cancer (DOID:1793)]</td>\n",
       "      <td>[pancreatic invasive intraductal papillary-muc...</td>\n",
       "    </tr>\n",
       "    <tr>\n",
       "      <th>19982</th>\n",
       "      <td>[chromophobe adenocarcinoma (DOID:4471)]</td>\n",
       "      <td>[renal cell carcinoma (DOID:4450), renal oncoc...</td>\n",
       "    </tr>\n",
       "    <tr>\n",
       "      <th>20266</th>\n",
       "      <td>[invasive ductal carcinoma (DOID:3008)]</td>\n",
       "      <td>[breast cancer (DOID:1612)]</td>\n",
       "    </tr>\n",
       "    <tr>\n",
       "      <th>21422</th>\n",
       "      <td>[breast carcinoma (DOID:3459)]</td>\n",
       "      <td>[ductal carcinoma in situ (DOID:0060074), inva...</td>\n",
       "    </tr>\n",
       "    <tr>\n",
       "      <th>22780</th>\n",
       "      <td>[pancreas adenocarcinoma (DOID:4074)]</td>\n",
       "      <td>[pancreatic cancer (DOID:1793)]</td>\n",
       "    </tr>\n",
       "    <tr>\n",
       "      <th>22840</th>\n",
       "      <td>[carcinoma (DOID:305)]</td>\n",
       "      <td>[breast ductal carcinoma (DOID:3007)]</td>\n",
       "    </tr>\n",
       "    <tr>\n",
       "      <th>22927</th>\n",
       "      <td>[astrocytoma (DOID:3069)]</td>\n",
       "      <td>[brain glioma (DOID:0060108)]</td>\n",
       "    </tr>\n",
       "    <tr>\n",
       "      <th>24752</th>\n",
       "      <td>[essential hypertension (DOID:10825)]</td>\n",
       "      <td>[malignant essential hypertension (DOID:10823)]</td>\n",
       "    </tr>\n",
       "    <tr>\n",
       "      <th>26576</th>\n",
       "      <td>[malignant glioma (DOID:3070)]</td>\n",
       "      <td>[brain glioma (DOID:0060108)]</td>\n",
       "    </tr>\n",
       "    <tr>\n",
       "      <th>26910</th>\n",
       "      <td>[prostate carcinoma (DOID:10286)]</td>\n",
       "      <td>[prostate cancer (DOID:10283), breast cancer (...</td>\n",
       "    </tr>\n",
       "    <tr>\n",
       "      <th>27262</th>\n",
       "      <td>[lung adenocarcinoma (DOID:3910)]</td>\n",
       "      <td>[non-small cell lung carcinoma (DOID:3908)]</td>\n",
       "    </tr>\n",
       "    <tr>\n",
       "      <th>29330</th>\n",
       "      <td>[head and neck squamous cell carcinoma (DOID:5...</td>\n",
       "      <td>[head and neck cancer (DOID:11934)]</td>\n",
       "    </tr>\n",
       "    <tr>\n",
       "      <th>30195</th>\n",
       "      <td>[acute myeloid leukemia (DOID:9119)]</td>\n",
       "      <td>[myelodysplastic syndrome (DOID:0050908)]</td>\n",
       "    </tr>\n",
       "    <tr>\n",
       "      <th>31210</th>\n",
       "      <td>[adenocarcinoma (DOID:299)]</td>\n",
       "      <td>[lung adenocarcinoma (DOID:3910)]</td>\n",
       "    </tr>\n",
       "    <tr>\n",
       "      <th>31879</th>\n",
       "      <td>[skin cancer (DOID:4159)]</td>\n",
       "      <td>[melanoma (DOID:1909)]</td>\n",
       "    </tr>\n",
       "    <tr>\n",
       "      <th>32057</th>\n",
       "      <td>[anemia (DOID:2355)]</td>\n",
       "      <td>[schwachman diamond type metaphyseal dysplasia...</td>\n",
       "    </tr>\n",
       "    <tr>\n",
       "      <th>34800</th>\n",
       "      <td>[peripheral primitive neuroectodermal tumor (D...</td>\n",
       "      <td>[bone ewing's sarcoma (DOID:3368), sarcoma (DO...</td>\n",
       "    </tr>\n",
       "    <tr>\n",
       "      <th>35640</th>\n",
       "      <td>[lung cancer (DOID:1324)]</td>\n",
       "      <td>[melanoma (DOID:1909)]</td>\n",
       "    </tr>\n",
       "    <tr>\n",
       "      <th>37364</th>\n",
       "      <td>[colorectal cancer (DOID:9256)]</td>\n",
       "      <td>[colorectal cancer (DOID:9256), colorectal ade...</td>\n",
       "    </tr>\n",
       "    <tr>\n",
       "      <th>38396</th>\n",
       "      <td>[dermatitis (DOID:2723)]</td>\n",
       "      <td>[type 2 diabetes mellitus (DOID:9352)]</td>\n",
       "    </tr>\n",
       "    <tr>\n",
       "      <th>38517</th>\n",
       "      <td>[oral squamous cell carcinoma (DOID:0050866)]</td>\n",
       "      <td>[oral squamous cell carcinoma (DOID:0050866), ...</td>\n",
       "    </tr>\n",
       "    <tr>\n",
       "      <th>39409</th>\n",
       "      <td>[adenocarcinoma (DOID:299)]</td>\n",
       "      <td>[pancreas adenocarcinoma (DOID:4074)]</td>\n",
       "    </tr>\n",
       "    <tr>\n",
       "      <th>39454</th>\n",
       "      <td>[myositis (DOID:633)]</td>\n",
       "      <td>[myopathy (DOID:423), dermatomyositis (DOID:10...</td>\n",
       "    </tr>\n",
       "    <tr>\n",
       "      <th>39582</th>\n",
       "      <td>[colon cancer (DOID:219)]</td>\n",
       "      <td>[colorectal adenocarcinoma (DOID:0050861)]</td>\n",
       "    </tr>\n",
       "    <tr>\n",
       "      <th>42568</th>\n",
       "      <td>[invasive ductal carcinoma (DOID:3008)]</td>\n",
       "      <td>[breast cancer (DOID:1612)]</td>\n",
       "    </tr>\n",
       "    <tr>\n",
       "      <th>42806</th>\n",
       "      <td>[distal muscular dystrophy (DOID:11720)]</td>\n",
       "      <td>[muscular dystrophy (DOID:9884)]</td>\n",
       "    </tr>\n",
       "    <tr>\n",
       "      <th>43358</th>\n",
       "      <td>[breast cancer (DOID:1612)]</td>\n",
       "      <td>[estrogen-receptor positive breast cancer (DOI...</td>\n",
       "    </tr>\n",
       "    <tr>\n",
       "      <th>43365</th>\n",
       "      <td>[breast carcinoma (DOID:3459)]</td>\n",
       "      <td>[breast cancer (DOID:1612)]</td>\n",
       "    </tr>\n",
       "    <tr>\n",
       "      <th>43580</th>\n",
       "      <td>[lung cancer (DOID:1324)]</td>\n",
       "      <td>[lung adenocarcinoma (DOID:3910), lung squamou...</td>\n",
       "    </tr>\n",
       "    <tr>\n",
       "      <th>43591</th>\n",
       "      <td>[relapsing-remitting multiple sclerosis (DOID:...</td>\n",
       "      <td>[multiple sclerosis (DOID:2377)]</td>\n",
       "    </tr>\n",
       "    <tr>\n",
       "      <th>45270</th>\n",
       "      <td>[colon cancer (DOID:219)]</td>\n",
       "      <td>[adenoma (DOID:657)]</td>\n",
       "    </tr>\n",
       "    <tr>\n",
       "      <th>45921</th>\n",
       "      <td>[malignant glioma (DOID:3070)]</td>\n",
       "      <td>[brain glioma (DOID:0060108)]</td>\n",
       "    </tr>\n",
       "    <tr>\n",
       "      <th>50385</th>\n",
       "      <td>[pediatric ependymoma (DOID:5509)]</td>\n",
       "      <td>[brain ependymoma (DOID:7497)]</td>\n",
       "    </tr>\n",
       "    <tr>\n",
       "      <th>50948</th>\n",
       "      <td>[breast cancer (DOID:1612)]</td>\n",
       "      <td>[her2-receptor positive breast cancer (DOID:00...</td>\n",
       "    </tr>\n",
       "    <tr>\n",
       "      <th>51105</th>\n",
       "      <td>[ovarian cancer (DOID:2394)]</td>\n",
       "      <td>[stomach cancer (DOID:10534)]</td>\n",
       "    </tr>\n",
       "    <tr>\n",
       "      <th>51450</th>\n",
       "      <td>[breast cancer (DOID:1612)]</td>\n",
       "      <td>[estrogen-receptor negative breast cancer (DOI...</td>\n",
       "    </tr>\n",
       "    <tr>\n",
       "      <th>52139</th>\n",
       "      <td>[secondary progressive multiple sclerosis (DOI...</td>\n",
       "      <td>[multiple sclerosis (DOID:2377)]</td>\n",
       "    </tr>\n",
       "    <tr>\n",
       "      <th>65194</th>\n",
       "      <td>[breast cancer (DOID:1612)]</td>\n",
       "      <td>[estrogen-receptor positive breast cancer (DOI...</td>\n",
       "    </tr>\n",
       "    <tr>\n",
       "      <th>66354</th>\n",
       "      <td>[brain cancer (DOID:1319)]</td>\n",
       "      <td>[medulloblastoma (DOID:0050902), brain ependym...</td>\n",
       "    </tr>\n",
       "    <tr>\n",
       "      <th>68015</th>\n",
       "      <td>[craniopharyngioma (DOID:3840)]</td>\n",
       "      <td>[brain ependymoma (DOID:7497), adamantinous cr...</td>\n",
       "    </tr>\n",
       "  </tbody>\n",
       "</table>\n",
       "</div>"
      ]
     },
     "output_type": "execute_result",
     "metadata": {}
    }
   ],
   "source": [
    "names(results.loc[one_perf[~one_perf.collapsed_ex].index][['collapsed_ex', 'larisa']])"
   ]
  },
  {
   "cell_type": "code",
   "execution_count": null,
   "metadata": {},
   "outputs": [],
   "source": [
    "names(compare).loc[18842].classes_res"
   ]
  },
  {
   "cell_type": "code",
   "execution_count": null,
   "metadata": {},
   "outputs": [],
   "source": [
    "ontology.meta['DOID:0050865'].dict()"
   ]
  },
  {
   "cell_type": "code",
   "execution_count": null,
   "metadata": {},
   "outputs": [],
   "source": [
    "matches_graph(list(expand(larisa_vd.classes).unique()), figsize=(40, 40))"
   ]
  },
  {
   "cell_type": "code",
   "execution_count": null,
   "metadata": {},
   "outputs": [],
   "source": [
    "import qgrid\n",
    "def cell():\n",
    "    print(metrics[metrics.correct_ratio == 0].shape)\n",
    "    return metrics[metrics.correct_ratio == 0]\n",
    "qgrid.show_grid(cell())"
   ]
  },
  {
   "cell_type": "code",
   "execution_count": null,
   "metadata": {},
   "outputs": [],
   "source": [
    "index = 22"
   ]
  },
  {
   "cell_type": "code",
   "execution_count": null,
   "metadata": {},
   "outputs": [],
   "source": [
    "def cell():\n",
    "    global index\n",
    "    m = metrics[metrics.correct_ratio == 0].copy()\n",
    "    i = m.index[index]\n",
    "    row = compare.loc[i]\n",
    "    \n",
    "    print(index)\n",
    "    print(m.index[index])\n",
    "    print(names(compare).loc[i])\n",
    "    index += 1\n",
    "    matches_graph(row.classes_res, row.classes_vd, figsize=(14, 9))\n",
    "    \n",
    "cell()"
   ]
  },
  {
   "cell_type": "code",
   "execution_count": null,
   "metadata": {},
   "outputs": [],
   "source": [
    "len(nx.descendants(ontology.graph, 'DOID:0050687')) # cell type cancer,\n",
    "# A cancer that is classified by the type of cell from which it is derived."
   ]
  },
  {
   "cell_type": "code",
   "execution_count": null,
   "metadata": {},
   "outputs": [],
   "source": [
    "len(nx.descendants(ontology.graph, 'DOID:0050686')) # organ system cancer,\n",
    "# A cancer that is classified based on the organ it starts in."
   ]
  },
  {
   "cell_type": "code",
   "execution_count": null,
   "metadata": {},
   "outputs": [],
   "source": [
    "(metrics.incorrect_ratio > 0).hist()"
   ]
  },
  {
   "cell_type": "code",
   "execution_count": null,
   "metadata": {},
   "outputs": [],
   "source": [
    "# Проверка на коротнкие синонимы"
   ]
  },
  {
   "cell_type": "code",
   "execution_count": null,
   "metadata": {},
   "outputs": [],
   "source": [
    "import re\n",
    "def tokenize(s):\n",
    "    return re.split(r'[^\\w\\d]+', s)"
   ]
  },
  {
   "cell_type": "code",
   "execution_count": null,
   "metadata": {},
   "outputs": [],
   "source": [
    "item_tokens = pd.DataFrame.from_records(((item.id, list(set(token for token in tokenize(name) if token))) for item in ontology.items() for name in item.names()),\n",
    "                                        columns=['id', 'tokens'])\n",
    "print(item_tokens.shape)\n",
    "item_tokens[:10]"
   ]
  },
  {
   "cell_type": "code",
   "execution_count": null,
   "metadata": {},
   "outputs": [],
   "source": [
    "item_tokens[item_tokens['tokens'].map(lambda tokens: all(len(t)<= 2 for t in tokens))]"
   ]
  },
  {
   "cell_type": "code",
   "execution_count": null,
   "metadata": {},
   "outputs": [],
   "source": [
    "item_tokens.iloc[5928].tokens"
   ]
  },
  {
   "cell_type": "code",
   "execution_count": null,
   "metadata": {},
   "outputs": [],
   "source": [
    "expand(metrics[metrics.incorrect_ratio>0].join(names(compare)), column_name='classes_res')"
   ]
  },
  {
   "cell_type": "code",
   "execution_count": null,
   "metadata": {},
   "outputs": [],
   "source": [
    "view = pd.DataFrame.from_records(list(res.items()), columns=('id', 'matches'))\n",
    "view['name'] = view['id'].map(to_name)\n",
    "view['matches_names'] = view['matches'].map(lambda matches: [ontology_name(m) for m in matches])\n",
    "view['matches_count'] = view['matches'].map(len)\n",
    "view.set_index('name', inplace=True)\n",
    "view[view['matches_count'] > 1]\n",
    "\n",
    "\n",
    "# Попытаемся построить графы из заматчивших тканей\n",
    "ids = view.loc['GSE50081']['matches']\n",
    "\n",
    "view['collapsed_matches'] = view['matches'].map(collapse_matches(ontology.graph))\n",
    "view['collapsed_matches_count'] = view['collapsed_matches'].map(len)\n",
    "view['collapsed_matches_names'] = view['collapsed_matches'].map(lambda matches: [ontology_name(m) for m in matches])\n",
    "# view['collapsed_matches_syns'] = view['collapsed_matches'].map(collapse_matches(synonyms_graph))\n",
    "# view['collapsed_matches_syns_count'] = view['collapsed_matches_syns'].map(len)\n",
    "# nx.has_path(synonyms_graph, 'BTO:0000887', 'BTO:0001149')\n",
    "\n",
    "\n",
    "view.shape[0], view[view.matches_count == 1].shape[0], view[view.collapsed_matches_count == 1].shape[0]\n",
    "# (289, 107, 149, 166)\n",
    "# Ок примерно до половины остается с одной тканью, пока все.\n",
    "view_m1 = view[view.collapsed_matches_count == 1].copy()\n",
    "\n",
    "vd = larisa_series[['doid', 'series']].copy()\n",
    "vd = pd.DataFrame(vd.groupby('series').doid.apply(lambda x: list(set(x)))).reset_index()\n",
    "\n",
    "check_m1 = pd.merge(view_m1, vd.set_index('series'), left_index=True, right_index=True)\n",
    "check_m1.shape, check_m1[check_m1['collapsed_matches'] == check_m1['doid']].shape\n",
    "\n",
    "# ((121, 8), (82, 8)) многовато ошибок\n",
    "\n",
    "check_m1['doid_names'] = check_m1['doid'].map(lambda matches: [ontology_name(m.strip()) for m in matches])\n",
    "\n",
    "check_m1[check_m1['collapsed_matches'] != check_m1['doid']][\n",
    "    ['collapsed_matches', 'doid', 'collapsed_matches_names', 'doid_names']]\n",
    "check_m1.loc['GSE42252']\n",
    "\n",
    "\n",
    "# id                                               42252\n",
    "# matches                          [DOID:1793, DOID:162]\n",
    "# matches_names              [pancreatic cancer, cancer]\n",
    "# matches_count                                        2\n",
    "# collapsed_matches                          [DOID:1793]\n",
    "# collapsed_matches_count                              1\n",
    "# collapsed_matches_names            [pancreatic cancer]\n",
    "# doid                                      [DOID:10534]\n",
    "# doid_names                            [stomach cancer]\n",
    "\n",
    "\n",
    "# Если открыть GEO то высветится еще gastric cancer, которого нет в DOID\n",
    "# Скорее всего изза синонимии gaster и stomach,\n",
    "# однако, в синонимах DOID это не проставлено\n",
    "def path_length(graph, id1, id2):\n",
    "    if id1 in graph.nodes() and \\\n",
    "                    id2 in graph.nodes() and \\\n",
    "            nx.has_path(graph, id1, id2):\n",
    "        return len(nx.shortest_path(graph, id1, id2)) - 1 if id1 != id2 else 0\n",
    "    else:\n",
    "        return np.nan\n",
    "\n",
    "\n",
    "check_m11 = check_m1[check_m1['doid'].map(lambda d: len(d) == 1)].copy()\n",
    "check_m11['has_path_res_vd'] = map_series(lambda matches, doid: doid[0] in ontology.graph.nodes() and\n",
    "                                                                ontology.has_path(matches[0], doid[0]),\n",
    "                                          [check_m11['collapsed_matches'], check_m11['doid']])\n",
    "\n",
    "check_m11['absolute_match'] = map_series(lambda matches, doid: matches[0] == doid[0],\n",
    "                                         [check_m11['collapsed_matches'], check_m11['doid']])\n",
    "\n",
    "check_m11['path_res_vd'] = map_series(lambda m, d: path_length(ontology.graph, m[0], d[0]),\n",
    "                                      [check_m11['collapsed_matches'], check_m11['doid']])\n",
    "check_m11[~check_m11['has_path_res_vd']]\n",
    "check_m11.loc['GSE51725']\n",
    "# matches                          [DOID:162]\n",
    "# matches_names                      [cancer]\n",
    "# matches_count                             1\n",
    "# collapsed_matches                [DOID:162]\n",
    "# collapsed_matches_count                   1\n",
    "# collapsed_matches_names            [cancer]\n",
    "# doid                           [DOID:10534]\n",
    "# doid_names                 [stomach cancer]\n",
    "# has_path_res_vd                        True\n",
    "\n",
    "# Опять траблы с gastric == stomach\n",
    "# Наверное надо модифицировать синонимы\n",
    "\n",
    "# Плюс надо просерить насколько длинный путь от полученного до проверочного\n",
    "\n",
    "check_m11.loc['GSE51105']\n",
    "# matches                       [DOID:162, DOID:2394]\n",
    "# matches_names              [cancer, ovarian cancer]\n",
    "# matches_count                                     2\n",
    "# collapsed_matches                       [DOID:2394]\n",
    "# collapsed_matches_count                           1\n",
    "# collapsed_matches_names            [ovarian cancer]\n",
    "# doid                                   [DOID:10534]\n",
    "# doid_names                         [stomach cancer]\n",
    "# has_path_res_vd                                True\n",
    "\n",
    "\n",
    "# check_m11[check_m11.path_res_vd == 3]\n",
    "#              id     matches matches_names  matches_count collapsed_matches  collapsed_matches_count collapsed_matches_names          doid        doid_names has_path_res_vd absolute_match  path_res_vd\n",
    "# GSE15459  15459  [DOID:162]      [cancer]              1        [DOID:162]                        1                [cancer]  [DOID:10534]  [stomach cancer]            True          False            3\n",
    "# GSE19826  19826  [DOID:162]      [cancer]              1        [DOID:162]                        1                [cancer]  [DOID:10534]  [stomach cancer]            True          False            3\n",
    "# GSE51725  51725  [DOID:162]      [cancer]              1        [DOID:162]                        1                [cancer]  [DOID:10534]  [stomach cancer]            True          False            3\n",
    "# GSE57303  57303  [DOID:162]      [cancer]              1        [DOID:162]                        1                [cancer]  [DOID:10534]  [stomach cancer]            True          False            3\n",
    "\n",
    "# Не нашел gastric\n",
    "\n",
    "\n",
    "check_m11[check_m11.path_res_vd == 0].shape, check_m11.shape\n",
    "# ((82, 12), (112, 12))\n",
    "# Очень неплохие результаты - прямых попаданий 82 из 112\n",
    "\n",
    "check_m11[check_m11.path_res_vd == 4]\n",
    "#              id                        matches                             matches_names  matches_count collapsed_matches  collapsed_matches_count  collapsed_matches_names         doid          doid_names has_path_res_vd absolute_match  path_res_vd\n",
    "# GSE21687  21687  [DOID:162, DOID:3093, DOID:4]  [cancer, nervous system cancer, disease]              3       [DOID:3093]                        1  [nervous system cancer]  [DOID:7497]  [brain ependymoma]            True          False            4\n",
    "\n",
    "# !!! тупо нет в тексте brain ependymoma, есть просто ependymoma\n",
    "\n",
    "# Идея как еще можно померить точность: размер входящих подболезней в онтологии\n",
    "# Такая метрика даст приблизительную оценку насколько \"обща\" проставленная болезнь\n",
    "\n",
    "# Теперь сделаем анализ всех попаданий"
   ]
  },
  {
   "cell_type": "code",
   "execution_count": null,
   "metadata": {},
   "outputs": [],
   "source": [
    ""
   ]
  }
 ],
 "metadata": {
  "kernelspec": {
   "display_name": "Python 3",
   "language": "python",
   "name": "python3"
  },
  "language_info": {
   "codemirror_mode": {
    "name": "ipython",
    "version": 3.0
   },
   "file_extension": ".py",
   "mimetype": "text/x-python",
   "name": "python",
   "nbconvert_exporter": "python",
   "pygments_lexer": "ipython3",
   "version": "3.4.3"
  }
 },
 "nbformat": 4,
 "nbformat_minor": 0
}