{
 "cells": [
  {
   "cell_type": "code",
   "execution_count": 1,
   "metadata": {
    "collapsed": true
   },
   "outputs": [],
   "source": [
    "import sys\n",
    "sys.path.append('../../')"
   ]
  },
  {
   "cell_type": "code",
   "execution_count": 2,
   "metadata": {
    "collapsed": true
   },
   "outputs": [],
   "source": [
    "import pandas as pd\n",
    "import numpy as np\n",
    "import data\n"
   ]
  },
  {
   "cell_type": "code",
   "execution_count": 3,
   "metadata": {
    "collapsed": true
   },
   "outputs": [],
   "source": [
    "samples_age = pd.read_pickle('../../data/geo-annotation/samples.age.cleaned.v1.pickle')"
   ]
  },
  {
   "cell_type": "code",
   "execution_count": 4,
   "metadata": {
    "collapsed": true
   },
   "outputs": [],
   "source": [
    "samples_tissue = pd.read_pickle('../../data/geo-annotation/samples.tissue.cleaned.v1.pickle')"
   ]
  },
  {
   "cell_type": "code",
   "execution_count": 5,
   "metadata": {
    "collapsed": true
   },
   "outputs": [],
   "source": [
    "samples_norms = pd.read_pickle('../../data/geo-annotation/samples.norms.07.res4.pickle')"
   ]
  },
  {
   "cell_type": "code",
   "execution_count": 19,
   "metadata": {
    "collapsed": false
   },
   "outputs": [
    {
     "data": {
      "text/plain": [
       "(544916, 2)"
      ]
     },
     "execution_count": 19,
     "metadata": {},
     "output_type": "execute_result"
    }
   ],
   "source": [
    "samples_norms.shape"
   ]
  },
  {
   "cell_type": "code",
   "execution_count": 20,
   "metadata": {
    "collapsed": false
   },
   "outputs": [
    {
     "data": {
      "text/plain": [
       "(169884, 2)"
      ]
     },
     "execution_count": 20,
     "metadata": {},
     "output_type": "execute_result"
    }
   ],
   "source": [
    "samples_norms.query(\"norm == 1\").shape"
   ]
  },
  {
   "cell_type": "code",
   "execution_count": 6,
   "metadata": {
    "collapsed": false
   },
   "outputs": [
    {
     "data": {
      "text/html": [
       "<div>\n",
       "<table border=\"1\" class=\"dataframe\">\n",
       "  <thead>\n",
       "    <tr style=\"text-align: right;\">\n",
       "      <th></th>\n",
       "      <th>accession</th>\n",
       "      <th>characteristics</th>\n",
       "      <th>series</th>\n",
       "      <th>platform</th>\n",
       "      <th>organism</th>\n",
       "      <th>age</th>\n",
       "      <th>isfloat</th>\n",
       "    </tr>\n",
       "  </thead>\n",
       "  <tbody>\n",
       "    <tr>\n",
       "      <th>22869</th>\n",
       "      <td>E-MTAB-872_0</td>\n",
       "      <td>{'InitialTimePoint': 'differentiation', 'Organ...</td>\n",
       "      <td>[E-MTAB-872]</td>\n",
       "      <td>A-GEOD-10558</td>\n",
       "      <td>Homo sapiens</td>\n",
       "      <td>0</td>\n",
       "      <td>True</td>\n",
       "    </tr>\n",
       "    <tr>\n",
       "      <th>22870</th>\n",
       "      <td>E-MTAB-872_1</td>\n",
       "      <td>{'InitialTimePoint': 'differentiation', 'Organ...</td>\n",
       "      <td>[E-MTAB-872]</td>\n",
       "      <td>A-GEOD-10558</td>\n",
       "      <td>Homo sapiens</td>\n",
       "      <td>0</td>\n",
       "      <td>True</td>\n",
       "    </tr>\n",
       "    <tr>\n",
       "      <th>22871</th>\n",
       "      <td>E-MTAB-872_2</td>\n",
       "      <td>{'InitialTimePoint': 'differentiation', 'Organ...</td>\n",
       "      <td>[E-MTAB-872]</td>\n",
       "      <td>A-GEOD-10558</td>\n",
       "      <td>Homo sapiens</td>\n",
       "      <td>0</td>\n",
       "      <td>True</td>\n",
       "    </tr>\n",
       "    <tr>\n",
       "      <th>22890</th>\n",
       "      <td>E-MTAB-487_0</td>\n",
       "      <td>{'Organism': 'Homo sapiens', 'CellType': 'CD34...</td>\n",
       "      <td>[E-MTAB-487]</td>\n",
       "      <td>A-GEOD-8490</td>\n",
       "      <td>Homo sapiens</td>\n",
       "      <td>0</td>\n",
       "      <td>True</td>\n",
       "    </tr>\n",
       "    <tr>\n",
       "      <th>22891</th>\n",
       "      <td>E-MTAB-487_1</td>\n",
       "      <td>{'Organism': 'Homo sapiens', 'CellType': 'CD34...</td>\n",
       "      <td>[E-MTAB-487]</td>\n",
       "      <td>A-GEOD-8490</td>\n",
       "      <td>Homo sapiens</td>\n",
       "      <td>0</td>\n",
       "      <td>True</td>\n",
       "    </tr>\n",
       "  </tbody>\n",
       "</table>\n",
       "</div>"
      ],
      "text/plain": [
       "          accession                                    characteristics  \\\n",
       "22869  E-MTAB-872_0  {'InitialTimePoint': 'differentiation', 'Organ...   \n",
       "22870  E-MTAB-872_1  {'InitialTimePoint': 'differentiation', 'Organ...   \n",
       "22871  E-MTAB-872_2  {'InitialTimePoint': 'differentiation', 'Organ...   \n",
       "22890  E-MTAB-487_0  {'Organism': 'Homo sapiens', 'CellType': 'CD34...   \n",
       "22891  E-MTAB-487_1  {'Organism': 'Homo sapiens', 'CellType': 'CD34...   \n",
       "\n",
       "             series      platform      organism age isfloat  \n",
       "22869  [E-MTAB-872]  A-GEOD-10558  Homo sapiens   0    True  \n",
       "22870  [E-MTAB-872]  A-GEOD-10558  Homo sapiens   0    True  \n",
       "22871  [E-MTAB-872]  A-GEOD-10558  Homo sapiens   0    True  \n",
       "22890  [E-MTAB-487]   A-GEOD-8490  Homo sapiens   0    True  \n",
       "22891  [E-MTAB-487]   A-GEOD-8490  Homo sapiens   0    True  "
      ]
     },
     "execution_count": 6,
     "metadata": {},
     "output_type": "execute_result"
    }
   ],
   "source": [
    "samples_age.head()"
   ]
  },
  {
   "cell_type": "code",
   "execution_count": 7,
   "metadata": {
    "collapsed": false
   },
   "outputs": [
    {
     "data": {
      "text/html": [
       "<div>\n",
       "<table border=\"1\" class=\"dataframe\">\n",
       "  <thead>\n",
       "    <tr style=\"text-align: right;\">\n",
       "      <th></th>\n",
       "      <th>collapsed</th>\n",
       "    </tr>\n",
       "    <tr>\n",
       "      <th>item</th>\n",
       "      <th></th>\n",
       "    </tr>\n",
       "  </thead>\n",
       "  <tbody>\n",
       "    <tr>\n",
       "      <th>GSM1006272</th>\n",
       "      <td>BTO:0000759</td>\n",
       "    </tr>\n",
       "    <tr>\n",
       "      <th>E-MTAB-3099_162</th>\n",
       "      <td>BTO:0000759</td>\n",
       "    </tr>\n",
       "    <tr>\n",
       "      <th>GSM645939</th>\n",
       "      <td>BTO:0000855</td>\n",
       "    </tr>\n",
       "    <tr>\n",
       "      <th>GSM429771</th>\n",
       "      <td>BTO:0000848</td>\n",
       "    </tr>\n",
       "    <tr>\n",
       "      <th>E-MTAB-3732_3998</th>\n",
       "      <td>BTO:0000876</td>\n",
       "    </tr>\n",
       "  </tbody>\n",
       "</table>\n",
       "</div>"
      ],
      "text/plain": [
       "                    collapsed\n",
       "item                         \n",
       "GSM1006272        BTO:0000759\n",
       "E-MTAB-3099_162   BTO:0000759\n",
       "GSM645939         BTO:0000855\n",
       "GSM429771         BTO:0000848\n",
       "E-MTAB-3732_3998  BTO:0000876"
      ]
     },
     "execution_count": 7,
     "metadata": {},
     "output_type": "execute_result"
    }
   ],
   "source": [
    "samples_tissue.head()"
   ]
  },
  {
   "cell_type": "code",
   "execution_count": 8,
   "metadata": {
    "collapsed": false
   },
   "outputs": [
    {
     "data": {
      "text/plain": [
       "(139273, 7)"
      ]
     },
     "execution_count": 8,
     "metadata": {},
     "output_type": "execute_result"
    }
   ],
   "source": [
    "samples = (\n",
    "    samples_age\n",
    "    .set_index('accession')\n",
    "    .join(samples_tissue)\n",
    ")\n",
    "samples.shape"
   ]
  },
  {
   "cell_type": "code",
   "execution_count": 9,
   "metadata": {
    "collapsed": false
   },
   "outputs": [
    {
     "data": {
      "text/html": [
       "<div>\n",
       "<table border=\"1\" class=\"dataframe\">\n",
       "  <thead>\n",
       "    <tr style=\"text-align: right;\">\n",
       "      <th></th>\n",
       "      <th>characteristics</th>\n",
       "      <th>series</th>\n",
       "      <th>platform</th>\n",
       "      <th>organism</th>\n",
       "      <th>age</th>\n",
       "      <th>isfloat</th>\n",
       "      <th>collapsed</th>\n",
       "    </tr>\n",
       "    <tr>\n",
       "      <th>accession</th>\n",
       "      <th></th>\n",
       "      <th></th>\n",
       "      <th></th>\n",
       "      <th></th>\n",
       "      <th></th>\n",
       "      <th></th>\n",
       "      <th></th>\n",
       "    </tr>\n",
       "  </thead>\n",
       "  <tbody>\n",
       "    <tr>\n",
       "      <th>E-MTAB-872_0</th>\n",
       "      <td>{'InitialTimePoint': 'differentiation', 'Organ...</td>\n",
       "      <td>[E-MTAB-872]</td>\n",
       "      <td>A-GEOD-10558</td>\n",
       "      <td>Homo sapiens</td>\n",
       "      <td>0</td>\n",
       "      <td>True</td>\n",
       "      <td>NaN</td>\n",
       "    </tr>\n",
       "    <tr>\n",
       "      <th>E-MTAB-872_1</th>\n",
       "      <td>{'InitialTimePoint': 'differentiation', 'Organ...</td>\n",
       "      <td>[E-MTAB-872]</td>\n",
       "      <td>A-GEOD-10558</td>\n",
       "      <td>Homo sapiens</td>\n",
       "      <td>0</td>\n",
       "      <td>True</td>\n",
       "      <td>NaN</td>\n",
       "    </tr>\n",
       "    <tr>\n",
       "      <th>E-MTAB-872_2</th>\n",
       "      <td>{'InitialTimePoint': 'differentiation', 'Organ...</td>\n",
       "      <td>[E-MTAB-872]</td>\n",
       "      <td>A-GEOD-10558</td>\n",
       "      <td>Homo sapiens</td>\n",
       "      <td>0</td>\n",
       "      <td>True</td>\n",
       "      <td>NaN</td>\n",
       "    </tr>\n",
       "    <tr>\n",
       "      <th>E-MTAB-487_0</th>\n",
       "      <td>{'Organism': 'Homo sapiens', 'CellType': 'CD34...</td>\n",
       "      <td>[E-MTAB-487]</td>\n",
       "      <td>A-GEOD-8490</td>\n",
       "      <td>Homo sapiens</td>\n",
       "      <td>0</td>\n",
       "      <td>True</td>\n",
       "      <td>BTO:0000725</td>\n",
       "    </tr>\n",
       "    <tr>\n",
       "      <th>E-MTAB-487_1</th>\n",
       "      <td>{'Organism': 'Homo sapiens', 'CellType': 'CD34...</td>\n",
       "      <td>[E-MTAB-487]</td>\n",
       "      <td>A-GEOD-8490</td>\n",
       "      <td>Homo sapiens</td>\n",
       "      <td>0</td>\n",
       "      <td>True</td>\n",
       "      <td>BTO:0000725</td>\n",
       "    </tr>\n",
       "  </tbody>\n",
       "</table>\n",
       "</div>"
      ],
      "text/plain": [
       "                                                characteristics        series  \\\n",
       "accession                                                                       \n",
       "E-MTAB-872_0  {'InitialTimePoint': 'differentiation', 'Organ...  [E-MTAB-872]   \n",
       "E-MTAB-872_1  {'InitialTimePoint': 'differentiation', 'Organ...  [E-MTAB-872]   \n",
       "E-MTAB-872_2  {'InitialTimePoint': 'differentiation', 'Organ...  [E-MTAB-872]   \n",
       "E-MTAB-487_0  {'Organism': 'Homo sapiens', 'CellType': 'CD34...  [E-MTAB-487]   \n",
       "E-MTAB-487_1  {'Organism': 'Homo sapiens', 'CellType': 'CD34...  [E-MTAB-487]   \n",
       "\n",
       "                  platform      organism age isfloat    collapsed  \n",
       "accession                                                          \n",
       "E-MTAB-872_0  A-GEOD-10558  Homo sapiens   0    True          NaN  \n",
       "E-MTAB-872_1  A-GEOD-10558  Homo sapiens   0    True          NaN  \n",
       "E-MTAB-872_2  A-GEOD-10558  Homo sapiens   0    True          NaN  \n",
       "E-MTAB-487_0   A-GEOD-8490  Homo sapiens   0    True  BTO:0000725  \n",
       "E-MTAB-487_1   A-GEOD-8490  Homo sapiens   0    True  BTO:0000725  "
      ]
     },
     "execution_count": 9,
     "metadata": {},
     "output_type": "execute_result"
    }
   ],
   "source": [
    "samples.head()"
   ]
  },
  {
   "cell_type": "code",
   "execution_count": 10,
   "metadata": {
    "collapsed": false
   },
   "outputs": [
    {
     "name": "stdout",
     "output_type": "stream",
     "text": [
      "Read obo graph\n",
      "Name: \n",
      "Type: DiGraph\n",
      "Number of nodes: 5659\n",
      "Number of edges: 6430\n",
      "Average in degree:   1.1362\n",
      "Average out degree:   1.1362\n"
     ]
    }
   ],
   "source": [
    "tissue_ontology = data.tissue_ontology()"
   ]
  },
  {
   "cell_type": "code",
   "execution_count": 11,
   "metadata": {
    "collapsed": false
   },
   "outputs": [
    {
     "data": {
      "text/html": [
       "<div>\n",
       "<table border=\"1\" class=\"dataframe\">\n",
       "  <thead>\n",
       "    <tr style=\"text-align: right;\">\n",
       "      <th></th>\n",
       "      <th>characteristics</th>\n",
       "      <th>series</th>\n",
       "      <th>platform</th>\n",
       "      <th>organism</th>\n",
       "      <th>age</th>\n",
       "      <th>isfloat</th>\n",
       "      <th>collapsed</th>\n",
       "      <th>skin_tissue_id</th>\n",
       "    </tr>\n",
       "    <tr>\n",
       "      <th>accession</th>\n",
       "      <th></th>\n",
       "      <th></th>\n",
       "      <th></th>\n",
       "      <th></th>\n",
       "      <th></th>\n",
       "      <th></th>\n",
       "      <th></th>\n",
       "      <th></th>\n",
       "    </tr>\n",
       "  </thead>\n",
       "  <tbody>\n",
       "    <tr>\n",
       "      <th>E-MEXP-1130_1</th>\n",
       "      <td>{'InitialTimePoint': '  ', 'Organism': 'Homo s...</td>\n",
       "      <td>[E-MEXP-1130]</td>\n",
       "      <td>A-AFFY-33</td>\n",
       "      <td>Homo sapiens</td>\n",
       "      <td>10</td>\n",
       "      <td>True</td>\n",
       "      <td>BTO:0000667</td>\n",
       "      <td>BTO:0000404</td>\n",
       "    </tr>\n",
       "    <tr>\n",
       "      <th>E-MEXP-1130_6</th>\n",
       "      <td>{'InitialTimePoint': '  ', 'Organism': 'Homo s...</td>\n",
       "      <td>[E-MEXP-1130]</td>\n",
       "      <td>A-AFFY-33</td>\n",
       "      <td>Homo sapiens</td>\n",
       "      <td>10</td>\n",
       "      <td>True</td>\n",
       "      <td>BTO:0000667</td>\n",
       "      <td>BTO:0000404</td>\n",
       "    </tr>\n",
       "    <tr>\n",
       "      <th>E-MEXP-1130_11</th>\n",
       "      <td>{'InitialTimePoint': '  ', 'Organism': 'Homo s...</td>\n",
       "      <td>[E-MEXP-1130]</td>\n",
       "      <td>A-AFFY-33</td>\n",
       "      <td>Homo sapiens</td>\n",
       "      <td>10</td>\n",
       "      <td>True</td>\n",
       "      <td>BTO:0000667</td>\n",
       "      <td>BTO:0000404</td>\n",
       "    </tr>\n",
       "    <tr>\n",
       "      <th>E-MTAB-625_7</th>\n",
       "      <td>{'Age': '18', 'Origin': 'Ghana', 'BioSourcePro...</td>\n",
       "      <td>[E-MTAB-625]</td>\n",
       "      <td>A-GEOD-8490</td>\n",
       "      <td>Homo sapiens</td>\n",
       "      <td>18</td>\n",
       "      <td>True</td>\n",
       "      <td>BTO:0000404</td>\n",
       "      <td>BTO:0000404</td>\n",
       "    </tr>\n",
       "    <tr>\n",
       "      <th>E-MTAB-625_9</th>\n",
       "      <td>{'Age': '18', 'Origin': 'Eritrea', 'BioSourceP...</td>\n",
       "      <td>[E-MTAB-625]</td>\n",
       "      <td>A-GEOD-8490</td>\n",
       "      <td>Homo sapiens</td>\n",
       "      <td>18</td>\n",
       "      <td>True</td>\n",
       "      <td>BTO:0000404</td>\n",
       "      <td>BTO:0000404</td>\n",
       "    </tr>\n",
       "  </tbody>\n",
       "</table>\n",
       "</div>"
      ],
      "text/plain": [
       "                                                  characteristics  \\\n",
       "accession                                                           \n",
       "E-MEXP-1130_1   {'InitialTimePoint': '  ', 'Organism': 'Homo s...   \n",
       "E-MEXP-1130_6   {'InitialTimePoint': '  ', 'Organism': 'Homo s...   \n",
       "E-MEXP-1130_11  {'InitialTimePoint': '  ', 'Organism': 'Homo s...   \n",
       "E-MTAB-625_7    {'Age': '18', 'Origin': 'Ghana', 'BioSourcePro...   \n",
       "E-MTAB-625_9    {'Age': '18', 'Origin': 'Eritrea', 'BioSourceP...   \n",
       "\n",
       "                       series     platform      organism  age isfloat  \\\n",
       "accession                                                               \n",
       "E-MEXP-1130_1   [E-MEXP-1130]    A-AFFY-33  Homo sapiens   10    True   \n",
       "E-MEXP-1130_6   [E-MEXP-1130]    A-AFFY-33  Homo sapiens   10    True   \n",
       "E-MEXP-1130_11  [E-MEXP-1130]    A-AFFY-33  Homo sapiens   10    True   \n",
       "E-MTAB-625_7     [E-MTAB-625]  A-GEOD-8490  Homo sapiens   18    True   \n",
       "E-MTAB-625_9     [E-MTAB-625]  A-GEOD-8490  Homo sapiens   18    True   \n",
       "\n",
       "                  collapsed skin_tissue_id  \n",
       "accession                                   \n",
       "E-MEXP-1130_1   BTO:0000667    BTO:0000404  \n",
       "E-MEXP-1130_6   BTO:0000667    BTO:0000404  \n",
       "E-MEXP-1130_11  BTO:0000667    BTO:0000404  \n",
       "E-MTAB-625_7    BTO:0000404    BTO:0000404  \n",
       "E-MTAB-625_9    BTO:0000404    BTO:0000404  "
      ]
     },
     "execution_count": 11,
     "metadata": {},
     "output_type": "execute_result"
    }
   ],
   "source": [
    "skin_id = 'BTO:0001253'\n",
    "\n",
    "descendants = tissue_ontology.descendants(skin_id)\n",
    "map_f = tissue_ontology.to_parent_f(descendants)\n",
    "\n",
    "samples_skin = (\n",
    "    samples\n",
    "    .assign(skin_tissue_id=lambda d: d['collapsed'].map(map_f))\n",
    "    .dropna(subset=['skin_tissue_id'])\n",
    "    .assign(age=lambda d: d['age'].astype(float))\n",
    "    .query('1 < age < 80')\n",
    ")\n",
    "samples_skin.head()"
   ]
  },
  {
   "cell_type": "code",
   "execution_count": 12,
   "metadata": {
    "collapsed": false
   },
   "outputs": [
    {
     "data": {
      "text/plain": [
       "(1053, 8)"
      ]
     },
     "execution_count": 12,
     "metadata": {},
     "output_type": "execute_result"
    }
   ],
   "source": [
    "samples_skin.shape"
   ]
  },
  {
   "cell_type": "code",
   "execution_count": 22,
   "metadata": {
    "collapsed": false
   },
   "outputs": [
    {
     "data": {
      "text/plain": [
       "(287, 10)"
      ]
     },
     "execution_count": 22,
     "metadata": {},
     "output_type": "execute_result"
    }
   ],
   "source": [
    "(\n",
    "    samples_skin\n",
    "    .merge(samples_norms, left_index=True, right_on='accession')\n",
    "#     .query('norm == 1')\n",
    "    .shape\n",
    ")"
   ]
  },
  {
   "cell_type": "code",
   "execution_count": 23,
   "metadata": {
    "collapsed": false
   },
   "outputs": [
    {
     "data": {
      "text/html": [
       "<div>\n",
       "<table border=\"1\" class=\"dataframe\">\n",
       "  <thead>\n",
       "    <tr style=\"text-align: right;\">\n",
       "      <th></th>\n",
       "      <th>index</th>\n",
       "      <th>0</th>\n",
       "    </tr>\n",
       "  </thead>\n",
       "  <tbody>\n",
       "    <tr>\n",
       "      <th>0</th>\n",
       "      <td>epidermis</td>\n",
       "      <td>736</td>\n",
       "    </tr>\n",
       "    <tr>\n",
       "      <th>1</th>\n",
       "      <td>dermis</td>\n",
       "      <td>151</td>\n",
       "    </tr>\n",
       "    <tr>\n",
       "      <th>2</th>\n",
       "      <td>skin fibroblast</td>\n",
       "      <td>148</td>\n",
       "    </tr>\n",
       "    <tr>\n",
       "      <th>3</th>\n",
       "      <td>skin cancer cell</td>\n",
       "      <td>14</td>\n",
       "    </tr>\n",
       "    <tr>\n",
       "      <th>4</th>\n",
       "      <td>scalp</td>\n",
       "      <td>4</td>\n",
       "    </tr>\n",
       "  </tbody>\n",
       "</table>\n",
       "</div>"
      ],
      "text/plain": [
       "              index    0\n",
       "0         epidermis  736\n",
       "1            dermis  151\n",
       "2   skin fibroblast  148\n",
       "3  skin cancer cell   14\n",
       "4             scalp    4"
      ]
     },
     "execution_count": 23,
     "metadata": {},
     "output_type": "execute_result"
    }
   ],
   "source": [
    "(\n",
    "    samples_skin\n",
    "    .skin_tissue_id\n",
    "    .value_counts()\n",
    "    .to_frame()\n",
    "    .reset_index()\n",
    "    .assign(index=lambda d: d['index'].map(tissue_ontology.name))\n",
    ")"
   ]
  },
  {
   "cell_type": "code",
   "execution_count": null,
   "metadata": {
    "collapsed": false
   },
   "outputs": [],
   "source": [
    "! mkdir -p ../../data/geo-annotation/intermediate"
   ]
  },
  {
   "cell_type": "code",
   "execution_count": null,
   "metadata": {
    "collapsed": false
   },
   "outputs": [],
   "source": [
    "(\n",
    "    samples_skin\n",
    "    .assign(skin_tissue_name=lambda d: d.skin_tissue_id.map(tissue_ontology.name))\n",
    "    .assign(series=lambda d: d['series'].map(','.join))\n",
    "    .assign(platform=lambda d: d['platform'].map(lambda p: p.replace('A-GEOD-', 'GPL')))\n",
    "    .reset_index()\n",
    "    [['accession', 'characteristics', 'series', 'platform', 'organism', 'age', 'skin_tissue_id', 'skin_tissue_name']]\n",
    "    .to_csv('../../data/geo-annotation/intermediate/samples.skin.age.v1.csv', index=False)\n",
    "#     .head()\n",
    ")"
   ]
  },
  {
   "cell_type": "markdown",
   "metadata": {},
   "source": [
    "## Norms"
   ]
  },
  {
   "cell_type": "code",
   "execution_count": null,
   "metadata": {
    "collapsed": false
   },
   "outputs": [],
   "source": [
    "pd.read_pickle"
   ]
  },
  {
   "cell_type": "markdown",
   "metadata": {},
   "source": [
    "## Посмотрим что за платформы"
   ]
  },
  {
   "cell_type": "code",
   "execution_count": 26,
   "metadata": {
    "collapsed": false
   },
   "outputs": [
    {
     "data": {
      "text/html": [
       "<div>\n",
       "<table border=\"1\" class=\"dataframe\">\n",
       "  <thead>\n",
       "    <tr style=\"text-align: right;\">\n",
       "      <th></th>\n",
       "      <th>0</th>\n",
       "    </tr>\n",
       "  </thead>\n",
       "  <tbody>\n",
       "    <tr>\n",
       "      <th>A-AGIL-11</th>\n",
       "      <td>530</td>\n",
       "    </tr>\n",
       "    <tr>\n",
       "      <th>GPL538</th>\n",
       "      <td>96</td>\n",
       "    </tr>\n",
       "    <tr>\n",
       "      <th>GPL8490</th>\n",
       "      <td>80</td>\n",
       "    </tr>\n",
       "    <tr>\n",
       "      <th>GPL570</th>\n",
       "      <td>73</td>\n",
       "    </tr>\n",
       "    <tr>\n",
       "      <th>GPL13534</th>\n",
       "      <td>66</td>\n",
       "    </tr>\n",
       "    <tr>\n",
       "      <th>GPL10558</th>\n",
       "      <td>53</td>\n",
       "    </tr>\n",
       "    <tr>\n",
       "      <th>A-AFFY-44</th>\n",
       "      <td>26</td>\n",
       "    </tr>\n",
       "    <tr>\n",
       "      <th>GPL10335</th>\n",
       "      <td>26</td>\n",
       "    </tr>\n",
       "    <tr>\n",
       "      <th>GPL6244</th>\n",
       "      <td>20</td>\n",
       "    </tr>\n",
       "    <tr>\n",
       "      <th>GPL16384</th>\n",
       "      <td>12</td>\n",
       "    </tr>\n",
       "    <tr>\n",
       "      <th>A-AFFY-33</th>\n",
       "      <td>12</td>\n",
       "    </tr>\n",
       "    <tr>\n",
       "      <th>A-MEXP-2255</th>\n",
       "      <td>11</td>\n",
       "    </tr>\n",
       "    <tr>\n",
       "      <th>A-MEXP-1564</th>\n",
       "      <td>10</td>\n",
       "    </tr>\n",
       "    <tr>\n",
       "      <th>GPL5175</th>\n",
       "      <td>9</td>\n",
       "    </tr>\n",
       "    <tr>\n",
       "      <th>GPL14550</th>\n",
       "      <td>7</td>\n",
       "    </tr>\n",
       "    <tr>\n",
       "      <th>GPL13829</th>\n",
       "      <td>6</td>\n",
       "    </tr>\n",
       "    <tr>\n",
       "      <th>A-MEXP-285</th>\n",
       "      <td>5</td>\n",
       "    </tr>\n",
       "    <tr>\n",
       "      <th>GPL15019</th>\n",
       "      <td>4</td>\n",
       "    </tr>\n",
       "    <tr>\n",
       "      <th>GPL571</th>\n",
       "      <td>3</td>\n",
       "    </tr>\n",
       "    <tr>\n",
       "      <th>A-AGIL-28</th>\n",
       "      <td>2</td>\n",
       "    </tr>\n",
       "    <tr>\n",
       "      <th>GPL14592</th>\n",
       "      <td>1</td>\n",
       "    </tr>\n",
       "    <tr>\n",
       "      <th>A-AGIL-31</th>\n",
       "      <td>1</td>\n",
       "    </tr>\n",
       "  </tbody>\n",
       "</table>\n",
       "</div>"
      ],
      "text/plain": [
       "               0\n",
       "A-AGIL-11    530\n",
       "GPL538        96\n",
       "GPL8490       80\n",
       "GPL570        73\n",
       "GPL13534      66\n",
       "GPL10558      53\n",
       "A-AFFY-44     26\n",
       "GPL10335      26\n",
       "GPL6244       20\n",
       "GPL16384      12\n",
       "A-AFFY-33     12\n",
       "A-MEXP-2255   11\n",
       "A-MEXP-1564   10\n",
       "GPL5175        9\n",
       "GPL14550       7\n",
       "GPL13829       6\n",
       "A-MEXP-285     5\n",
       "GPL15019       4\n",
       "GPL571         3\n",
       "A-AGIL-28      2\n",
       "GPL14592       1\n",
       "A-AGIL-31      1"
      ]
     },
     "execution_count": 26,
     "metadata": {},
     "output_type": "execute_result"
    }
   ],
   "source": [
    "(\n",
    "    samples_skin\n",
    "    .assign(platform=lambda d: d['platform'].map(lambda p: p.replace('A-GEOD-', 'GPL')))\n",
    "    .platform\n",
    "    .value_counts()\n",
    "    .to_frame()\n",
    ")"
   ]
  },
  {
   "cell_type": "code",
   "execution_count": 33,
   "metadata": {
    "collapsed": false
   },
   "outputs": [
    {
     "data": {
      "text/plain": [
       "E-TABM-1_3960    1\n",
       "E-TABM-1_2620    1\n",
       "E-TABM-1_1864    1\n",
       "E-TABM-1_4547    1\n",
       "E-TABM-1_6396    1\n",
       "E-TABM-1_3908    1\n",
       "E-TABM-1_1388    1\n",
       "E-TABM-1_179     1\n",
       "E-TABM-1_589     1\n",
       "E-TABM-1_1808    1\n",
       "E-TABM-1_3026    1\n",
       "E-TABM-1_4380    1\n",
       "E-TABM-1_1612    1\n",
       "E-TABM-1_422     1\n",
       "E-TABM-1_5084    1\n",
       "E-TABM-1_1108    1\n",
       "E-TABM-1_936     1\n",
       "E-TABM-1_3461    1\n",
       "E-TABM-1_4883    1\n",
       "E-TABM-1_5796    1\n",
       "E-TABM-1_1891    1\n",
       "E-TABM-1_3376    1\n",
       "E-TABM-1_1220    1\n",
       "E-TABM-1_86      1\n",
       "E-TABM-1_5057    1\n",
       "E-TABM-1_4552    1\n",
       "E-TABM-1_1178    1\n",
       "E-TABM-1_2186    1\n",
       "E-TABM-1_6564    1\n",
       "E-TABM-1_4579    1\n",
       "                ..\n",
       "E-TABM-1_5728    1\n",
       "E-TABM-1_1849    1\n",
       "E-TABM-1_169     1\n",
       "E-TABM-1_2783    1\n",
       "E-TABM-1_2689    1\n",
       "E-TABM-1_5755    1\n",
       "E-TABM-1_5472    1\n",
       "E-TABM-1_2228    1\n",
       "E-TABM-1_2196    1\n",
       "E-TABM-1_3530    1\n",
       "E-TABM-1_2144    1\n",
       "E-TABM-1_772     1\n",
       "E-TABM-1_4720    1\n",
       "E-TABM-1_5891    1\n",
       "E-TABM-1_2868    1\n",
       "E-TABM-1_4789    1\n",
       "E-TABM-1_1430    1\n",
       "E-TABM-1_6890    1\n",
       "E-TABM-1_5419    1\n",
       "E-TABM-1_6143    1\n",
       "E-TABM-1_2563    1\n",
       "E-TABM-1_1277    1\n",
       "E-TABM-1_6059    1\n",
       "E-TABM-1_4464    1\n",
       "E-TABM-1_3965    1\n",
       "E-TABM-1_5141    1\n",
       "E-TABM-1_6064    1\n",
       "E-TABM-1_599     1\n",
       "E-TABM-1_3208    1\n",
       "E-TABM-1_269     1\n",
       "dtype: int64"
      ]
     },
     "execution_count": 33,
     "metadata": {},
     "output_type": "execute_result"
    }
   ],
   "source": [
    "(\n",
    "    samples_skin\n",
    "    [samples_skin.series.map(lambda s: s == ['E-TABM-1'])]\n",
    "    .reset_index()\n",
    "    .accession\n",
    "    .value_counts()\n",
    "#     .query(\"platform == 'A-AGIL-11'\")\n",
    "#     .series\n",
    "#     .map(','.join)\n",
    "#     .value_counts()\n",
    ")"
   ]
  }
 ],
 "metadata": {
  "kernelspec": {
   "display_name": "Python 3",
   "language": "python",
   "name": "python3"
  },
  "language_info": {
   "codemirror_mode": {
    "name": "ipython",
    "version": 3
   },
   "file_extension": ".py",
   "mimetype": "text/x-python",
   "name": "python",
   "nbconvert_exporter": "python",
   "pygments_lexer": "ipython3",
   "version": "3.4.0"
  }
 },
 "nbformat": 4,
 "nbformat_minor": 0
}
