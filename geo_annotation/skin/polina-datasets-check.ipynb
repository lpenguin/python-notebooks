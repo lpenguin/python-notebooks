{
 "cells": [
  {
   "cell_type": "markdown",
   "metadata": {
    "collapsed": true
   },
   "source": [
    "## Проверка содержимого skin-emails.csv и актуальной информации по аннтотации"
   ]
  },
  {
   "cell_type": "markdown",
   "metadata": {},
   "source": [
    "Только для датасетов с кожей и без возраста"
   ]
  },
  {
   "cell_type": "code",
   "execution_count": 2,
   "metadata": {
    "collapsed": false
   },
   "outputs": [],
   "source": [
    "import pandas as pd\n",
    "import numpy as np\n",
    "import pymongo as pm\n",
    "import sys\n",
    "sys.path.append('../..')\n",
    "import data"
   ]
  },
  {
   "cell_type": "code",
   "execution_count": 3,
   "metadata": {
    "collapsed": false
   },
   "outputs": [
    {
     "data": {
      "text/html": [
       "<div>\n",
       "<table border=\"1\" class=\"dataframe\">\n",
       "  <thead>\n",
       "    <tr style=\"text-align: right;\">\n",
       "      <th></th>\n",
       "      <th>accession</th>\n",
       "      <th>norm</th>\n",
       "      <th>series</th>\n",
       "      <th>platform</th>\n",
       "      <th>age</th>\n",
       "      <th>tissue_id</th>\n",
       "      <th>preprocessed</th>\n",
       "    </tr>\n",
       "  </thead>\n",
       "  <tbody>\n",
       "    <tr>\n",
       "      <th>0</th>\n",
       "      <td>GSM305072</td>\n",
       "      <td>1</td>\n",
       "      <td>GSE12103</td>\n",
       "      <td>GPL6848</td>\n",
       "      <td>NaN</td>\n",
       "      <td>BTO:0000089</td>\n",
       "      <td>NaN</td>\n",
       "    </tr>\n",
       "    <tr>\n",
       "      <th>1</th>\n",
       "      <td>GSM305305</td>\n",
       "      <td>1</td>\n",
       "      <td>GSE12103</td>\n",
       "      <td>GPL6848</td>\n",
       "      <td>NaN</td>\n",
       "      <td>BTO:0000089</td>\n",
       "      <td>NaN</td>\n",
       "    </tr>\n",
       "    <tr>\n",
       "      <th>2</th>\n",
       "      <td>GSM305310</td>\n",
       "      <td>1</td>\n",
       "      <td>GSE12103</td>\n",
       "      <td>GPL6848</td>\n",
       "      <td>NaN</td>\n",
       "      <td>BTO:0000089</td>\n",
       "      <td>NaN</td>\n",
       "    </tr>\n",
       "    <tr>\n",
       "      <th>3</th>\n",
       "      <td>GSM1422841</td>\n",
       "      <td>1</td>\n",
       "      <td>GSE58949</td>\n",
       "      <td>GPL18883</td>\n",
       "      <td>NaN</td>\n",
       "      <td>NaN</td>\n",
       "      <td>NaN</td>\n",
       "    </tr>\n",
       "    <tr>\n",
       "      <th>4</th>\n",
       "      <td>GSM1422846</td>\n",
       "      <td>1</td>\n",
       "      <td>GSE58949</td>\n",
       "      <td>GPL18883</td>\n",
       "      <td>NaN</td>\n",
       "      <td>NaN</td>\n",
       "      <td>NaN</td>\n",
       "    </tr>\n",
       "  </tbody>\n",
       "</table>\n",
       "</div>"
      ],
      "text/plain": [
       "    accession  norm    series  platform  age    tissue_id  preprocessed\n",
       "0   GSM305072     1  GSE12103   GPL6848  NaN  BTO:0000089           NaN\n",
       "1   GSM305305     1  GSE12103   GPL6848  NaN  BTO:0000089           NaN\n",
       "2   GSM305310     1  GSE12103   GPL6848  NaN  BTO:0000089           NaN\n",
       "3  GSM1422841     1  GSE58949  GPL18883  NaN          NaN           NaN\n",
       "4  GSM1422846     1  GSE58949  GPL18883  NaN          NaN           NaN"
      ]
     },
     "execution_count": 3,
     "metadata": {},
     "output_type": "execute_result"
    }
   ],
   "source": [
    "annot = pd.read_pickle('../../data/geo-annotation/samples.annot.res6.pickle')\n",
    "annot.head()"
   ]
  },
  {
   "cell_type": "code",
   "execution_count": 4,
   "metadata": {
    "collapsed": false
   },
   "outputs": [
    {
     "data": {
      "text/html": [
       "<div>\n",
       "<table border=\"1\" class=\"dataframe\">\n",
       "  <thead>\n",
       "    <tr style=\"text-align: right;\">\n",
       "      <th></th>\n",
       "      <th>series</th>\n",
       "      <th>tissue_id</th>\n",
       "      <th>email</th>\n",
       "    </tr>\n",
       "  </thead>\n",
       "  <tbody>\n",
       "    <tr>\n",
       "      <th>0</th>\n",
       "      <td>GSE10123</td>\n",
       "      <td>skin fibroblast (BTO:0001255)</td>\n",
       "      <td>scaffidp@mail.nih.gov</td>\n",
       "    </tr>\n",
       "    <tr>\n",
       "      <th>1</th>\n",
       "      <td>GSE10423</td>\n",
       "      <td>skin (BTO:0001253)</td>\n",
       "      <td>davewong@stanford.edu</td>\n",
       "    </tr>\n",
       "    <tr>\n",
       "      <th>2</th>\n",
       "      <td>GSE10432</td>\n",
       "      <td>dermis (BTO:0000294)</td>\n",
       "      <td>dthiboutot@psu.edu</td>\n",
       "    </tr>\n",
       "    <tr>\n",
       "      <th>3</th>\n",
       "      <td>GSE10433</td>\n",
       "      <td>skin (BTO:0001253)</td>\n",
       "      <td>dthiboutot@psu.edu</td>\n",
       "    </tr>\n",
       "    <tr>\n",
       "      <th>4</th>\n",
       "      <td>GSE10434</td>\n",
       "      <td>dermis (BTO:0000294)</td>\n",
       "      <td>dthiboutot@psu.edu</td>\n",
       "    </tr>\n",
       "  </tbody>\n",
       "</table>\n",
       "</div>"
      ],
      "text/plain": [
       "     series                      tissue_id                  email\n",
       "0  GSE10123  skin fibroblast (BTO:0001255)  scaffidp@mail.nih.gov\n",
       "1  GSE10423             skin (BTO:0001253)  davewong@stanford.edu\n",
       "2  GSE10432           dermis (BTO:0000294)     dthiboutot@psu.edu\n",
       "3  GSE10433             skin (BTO:0001253)     dthiboutot@psu.edu\n",
       "4  GSE10434           dermis (BTO:0000294)     dthiboutot@psu.edu"
      ]
     },
     "execution_count": 4,
     "metadata": {},
     "output_type": "execute_result"
    }
   ],
   "source": [
    "polina_series = pd.read_csv('/Users/nikita/Data/skin-emails.csv')\n",
    "polina_series.head()"
   ]
  },
  {
   "cell_type": "code",
   "execution_count": 5,
   "metadata": {
    "collapsed": false
   },
   "outputs": [
    {
     "data": {
      "text/plain": [
       "epidermis (BTO:0000404)           144\n",
       "skin fibroblast (BTO:0001255)     104\n",
       "skin (BTO:0001253)                 78\n",
       "skin cancer cell (BTO:0001286)     78\n",
       "dermis (BTO:0000294)               31\n",
       "dtype: int64"
      ]
     },
     "execution_count": 5,
     "metadata": {},
     "output_type": "execute_result"
    }
   ],
   "source": [
    "polina_series.tissue_id.value_counts()"
   ]
  },
  {
   "cell_type": "code",
   "execution_count": 6,
   "metadata": {
    "collapsed": false
   },
   "outputs": [
    {
     "data": {
      "text/html": [
       "<div>\n",
       "<table border=\"1\" class=\"dataframe\">\n",
       "  <thead>\n",
       "    <tr style=\"text-align: right;\">\n",
       "      <th></th>\n",
       "      <th>series</th>\n",
       "      <th>tissue_id</th>\n",
       "      <th>l</th>\n",
       "    </tr>\n",
       "  </thead>\n",
       "  <tbody>\n",
       "    <tr>\n",
       "      <th>0</th>\n",
       "      <td>GSE10</td>\n",
       "      <td>[BTO:0001177]</td>\n",
       "      <td>1</td>\n",
       "    </tr>\n",
       "    <tr>\n",
       "      <th>1</th>\n",
       "      <td>GSE10000</td>\n",
       "      <td>[BTO:0000135]</td>\n",
       "      <td>1</td>\n",
       "    </tr>\n",
       "    <tr>\n",
       "      <th>2</th>\n",
       "      <td>GSE10001</td>\n",
       "      <td>[BTO:0000759]</td>\n",
       "      <td>1</td>\n",
       "    </tr>\n",
       "    <tr>\n",
       "      <th>3</th>\n",
       "      <td>GSE10003</td>\n",
       "      <td>[BTO:0000762]</td>\n",
       "      <td>1</td>\n",
       "    </tr>\n",
       "    <tr>\n",
       "      <th>4</th>\n",
       "      <td>GSE10005</td>\n",
       "      <td>[BTO:0000282]</td>\n",
       "      <td>1</td>\n",
       "    </tr>\n",
       "  </tbody>\n",
       "</table>\n",
       "</div>"
      ],
      "text/plain": [
       "     series      tissue_id  l\n",
       "0     GSE10  [BTO:0001177]  1\n",
       "1  GSE10000  [BTO:0000135]  1\n",
       "2  GSE10001  [BTO:0000759]  1\n",
       "3  GSE10003  [BTO:0000762]  1\n",
       "4  GSE10005  [BTO:0000282]  1"
      ]
     },
     "execution_count": 6,
     "metadata": {},
     "output_type": "execute_result"
    }
   ],
   "source": [
    "series_tissues = (\n",
    "    annot\n",
    "    .dropna(subset=['tissue_id'])\n",
    "    .groupby('series')\n",
    "    .agg({'tissue_id': lambda t: list(set(t))})\n",
    "    .assign(l=lambda d: d.tissue_id.map(len))\n",
    "    .reset_index()\n",
    ")\n",
    "series_tissues.head()"
   ]
  },
  {
   "cell_type": "code",
   "execution_count": 7,
   "metadata": {
    "collapsed": false
   },
   "outputs": [
    {
     "data": {
      "text/html": [
       "<div>\n",
       "<table border=\"1\" class=\"dataframe\">\n",
       "  <thead>\n",
       "    <tr style=\"text-align: right;\">\n",
       "      <th></th>\n",
       "      <th>series</th>\n",
       "      <th>tissue_name</th>\n",
       "      <th>email</th>\n",
       "      <th>tissue_id_annot</th>\n",
       "      <th>l</th>\n",
       "      <th>tissue_id</th>\n",
       "    </tr>\n",
       "  </thead>\n",
       "  <tbody>\n",
       "    <tr>\n",
       "      <th>0</th>\n",
       "      <td>GSE10123</td>\n",
       "      <td>skin fibroblast (BTO:0001255)</td>\n",
       "      <td>scaffidp@mail.nih.gov</td>\n",
       "      <td>[BTO:0001619]</td>\n",
       "      <td>1</td>\n",
       "      <td>BTO:0001255</td>\n",
       "    </tr>\n",
       "    <tr>\n",
       "      <th>1</th>\n",
       "      <td>GSE10423</td>\n",
       "      <td>skin (BTO:0001253)</td>\n",
       "      <td>davewong@stanford.edu</td>\n",
       "      <td>[BTO:0001253]</td>\n",
       "      <td>1</td>\n",
       "      <td>BTO:0001253</td>\n",
       "    </tr>\n",
       "    <tr>\n",
       "      <th>2</th>\n",
       "      <td>GSE10432</td>\n",
       "      <td>dermis (BTO:0000294)</td>\n",
       "      <td>dthiboutot@psu.edu</td>\n",
       "      <td>[BTO:0004613]</td>\n",
       "      <td>1</td>\n",
       "      <td>BTO:0000294</td>\n",
       "    </tr>\n",
       "    <tr>\n",
       "      <th>3</th>\n",
       "      <td>GSE10434</td>\n",
       "      <td>dermis (BTO:0000294)</td>\n",
       "      <td>dthiboutot@psu.edu</td>\n",
       "      <td>[BTO:0004613]</td>\n",
       "      <td>1</td>\n",
       "      <td>BTO:0000294</td>\n",
       "    </tr>\n",
       "    <tr>\n",
       "      <th>4</th>\n",
       "      <td>GSE10696</td>\n",
       "      <td>epidermis (BTO:0000404)</td>\n",
       "      <td>emily.wang@vanderbilt.edu</td>\n",
       "      <td>[BTO:0000404]</td>\n",
       "      <td>1</td>\n",
       "      <td>BTO:0000404</td>\n",
       "    </tr>\n",
       "  </tbody>\n",
       "</table>\n",
       "</div>"
      ],
      "text/plain": [
       "     series                    tissue_name                      email  \\\n",
       "0  GSE10123  skin fibroblast (BTO:0001255)      scaffidp@mail.nih.gov   \n",
       "1  GSE10423             skin (BTO:0001253)      davewong@stanford.edu   \n",
       "2  GSE10432           dermis (BTO:0000294)         dthiboutot@psu.edu   \n",
       "3  GSE10434           dermis (BTO:0000294)         dthiboutot@psu.edu   \n",
       "4  GSE10696        epidermis (BTO:0000404)  emily.wang@vanderbilt.edu   \n",
       "\n",
       "  tissue_id_annot  l    tissue_id  \n",
       "0   [BTO:0001619]  1  BTO:0001255  \n",
       "1   [BTO:0001253]  1  BTO:0001253  \n",
       "2   [BTO:0004613]  1  BTO:0000294  \n",
       "3   [BTO:0004613]  1  BTO:0000294  \n",
       "4   [BTO:0000404]  1  BTO:0000404  "
      ]
     },
     "execution_count": 7,
     "metadata": {},
     "output_type": "execute_result"
    }
   ],
   "source": [
    "polina_series_annot = (\n",
    "    polina_series\n",
    "    .rename(columns={'tissue_id': 'tissue_name'})\n",
    "    .merge(series_tissues.rename(columns={'tissue_id': 'tissue_id_annot'}), on='series', suffixes=('', '_annot'))\n",
    "    .assign(tissue_id=lambda d: d.tissue_name.map(lambda n: n.split('(')[1].rstrip(')')))\n",
    ")\n",
    "\n",
    "polina_series_annot.head()"
   ]
  },
  {
   "cell_type": "code",
   "execution_count": 8,
   "metadata": {
    "collapsed": false
   },
   "outputs": [
    {
     "data": {
      "text/html": [
       "<div>\n",
       "<table border=\"1\" class=\"dataframe\">\n",
       "  <thead>\n",
       "    <tr style=\"text-align: right;\">\n",
       "      <th></th>\n",
       "      <th>series</th>\n",
       "      <th>tissue_name</th>\n",
       "      <th>email</th>\n",
       "      <th>tissue_id_annot</th>\n",
       "      <th>l</th>\n",
       "      <th>tissue_id</th>\n",
       "    </tr>\n",
       "  </thead>\n",
       "  <tbody>\n",
       "    <tr>\n",
       "      <th>24</th>\n",
       "      <td>GSE13365</td>\n",
       "      <td>skin fibroblast (BTO:0001255)</td>\n",
       "      <td>yamanaka@cira.kyoto-u.ac.jp</td>\n",
       "      <td>[BTO:0004419, BTO:0004725]</td>\n",
       "      <td>2</td>\n",
       "      <td>BTO:0001255</td>\n",
       "    </tr>\n",
       "    <tr>\n",
       "      <th>119</th>\n",
       "      <td>GSE26431</td>\n",
       "      <td>skin fibroblast (BTO:0001255)</td>\n",
       "      <td>yamanaka@cira.kyoto-u.ac.jp</td>\n",
       "      <td>[BTO:0004419, BTO:0004725]</td>\n",
       "      <td>2</td>\n",
       "      <td>BTO:0001255</td>\n",
       "    </tr>\n",
       "    <tr>\n",
       "      <th>192</th>\n",
       "      <td>GSE35554</td>\n",
       "      <td>skin fibroblast (BTO:0001255)</td>\n",
       "      <td>abara@cfri.ca</td>\n",
       "      <td>[BTO:0000975, BTO:0001255, BTO:0000759]</td>\n",
       "      <td>3</td>\n",
       "      <td>BTO:0001255</td>\n",
       "    </tr>\n",
       "    <tr>\n",
       "      <th>305</th>\n",
       "      <td>GSE52276</td>\n",
       "      <td>epidermis (BTO:0000404)</td>\n",
       "      <td>mori9085@hotmail.com</td>\n",
       "      <td>[BTO:0000759, BTO:0000552, BTO:0001470]</td>\n",
       "      <td>3</td>\n",
       "      <td>BTO:0000404</td>\n",
       "    </tr>\n",
       "  </tbody>\n",
       "</table>\n",
       "</div>"
      ],
      "text/plain": [
       "       series                    tissue_name                        email  \\\n",
       "24   GSE13365  skin fibroblast (BTO:0001255)  yamanaka@cira.kyoto-u.ac.jp   \n",
       "119  GSE26431  skin fibroblast (BTO:0001255)  yamanaka@cira.kyoto-u.ac.jp   \n",
       "192  GSE35554  skin fibroblast (BTO:0001255)                abara@cfri.ca   \n",
       "305  GSE52276        epidermis (BTO:0000404)         mori9085@hotmail.com   \n",
       "\n",
       "                             tissue_id_annot  l    tissue_id  \n",
       "24                [BTO:0004419, BTO:0004725]  2  BTO:0001255  \n",
       "119               [BTO:0004419, BTO:0004725]  2  BTO:0001255  \n",
       "192  [BTO:0000975, BTO:0001255, BTO:0000759]  3  BTO:0001255  \n",
       "305  [BTO:0000759, BTO:0000552, BTO:0001470]  3  BTO:0000404  "
      ]
     },
     "execution_count": 8,
     "metadata": {},
     "output_type": "execute_result"
    }
   ],
   "source": [
    "polina_series_annot.query(\"l > 1\")"
   ]
  },
  {
   "cell_type": "markdown",
   "metadata": {},
   "source": [
    "## Проверяем корректность проставленных tissue_name и tisue_id <-> tissue_id_annot"
   ]
  },
  {
   "cell_type": "code",
   "execution_count": 9,
   "metadata": {
    "collapsed": false
   },
   "outputs": [
    {
     "name": "stdout",
     "output_type": "stream",
     "text": [
      "Read obo graph\n",
      "Name: \n",
      "Type: DiGraph\n",
      "Number of nodes: 5659\n",
      "Number of edges: 6430\n",
      "Average in degree:   1.1362\n",
      "Average out degree:   1.1362\n"
     ]
    }
   ],
   "source": [
    "tissue_ontology = data.tissue_ontology()"
   ]
  },
  {
   "cell_type": "code",
   "execution_count": 10,
   "metadata": {
    "collapsed": false
   },
   "outputs": [
    {
     "data": {
      "text/html": [
       "<div>\n",
       "<table border=\"1\" class=\"dataframe\">\n",
       "  <thead>\n",
       "    <tr style=\"text-align: right;\">\n",
       "      <th></th>\n",
       "      <th>series</th>\n",
       "      <th>tissue_name</th>\n",
       "      <th>email</th>\n",
       "      <th>tissue_id_annot</th>\n",
       "      <th>l</th>\n",
       "      <th>tissue_id</th>\n",
       "      <th>has_path</th>\n",
       "    </tr>\n",
       "  </thead>\n",
       "  <tbody>\n",
       "    <tr>\n",
       "      <th>24</th>\n",
       "      <td>GSE13365</td>\n",
       "      <td>skin fibroblast (BTO:0001255)</td>\n",
       "      <td>yamanaka@cira.kyoto-u.ac.jp</td>\n",
       "      <td>[BTO:0004419, BTO:0004725]</td>\n",
       "      <td>2</td>\n",
       "      <td>BTO:0001255</td>\n",
       "      <td>False</td>\n",
       "    </tr>\n",
       "    <tr>\n",
       "      <th>119</th>\n",
       "      <td>GSE26431</td>\n",
       "      <td>skin fibroblast (BTO:0001255)</td>\n",
       "      <td>yamanaka@cira.kyoto-u.ac.jp</td>\n",
       "      <td>[BTO:0004419, BTO:0004725]</td>\n",
       "      <td>2</td>\n",
       "      <td>BTO:0001255</td>\n",
       "      <td>False</td>\n",
       "    </tr>\n",
       "    <tr>\n",
       "      <th>192</th>\n",
       "      <td>GSE35554</td>\n",
       "      <td>skin fibroblast (BTO:0001255)</td>\n",
       "      <td>abara@cfri.ca</td>\n",
       "      <td>[BTO:0000975, BTO:0001255, BTO:0000759]</td>\n",
       "      <td>3</td>\n",
       "      <td>BTO:0001255</td>\n",
       "      <td>False</td>\n",
       "    </tr>\n",
       "    <tr>\n",
       "      <th>305</th>\n",
       "      <td>GSE52276</td>\n",
       "      <td>epidermis (BTO:0000404)</td>\n",
       "      <td>mori9085@hotmail.com</td>\n",
       "      <td>[BTO:0000759, BTO:0000552, BTO:0001470]</td>\n",
       "      <td>3</td>\n",
       "      <td>BTO:0000404</td>\n",
       "      <td>False</td>\n",
       "    </tr>\n",
       "  </tbody>\n",
       "</table>\n",
       "</div>"
      ],
      "text/plain": [
       "       series                    tissue_name                        email  \\\n",
       "24   GSE13365  skin fibroblast (BTO:0001255)  yamanaka@cira.kyoto-u.ac.jp   \n",
       "119  GSE26431  skin fibroblast (BTO:0001255)  yamanaka@cira.kyoto-u.ac.jp   \n",
       "192  GSE35554  skin fibroblast (BTO:0001255)                abara@cfri.ca   \n",
       "305  GSE52276        epidermis (BTO:0000404)         mori9085@hotmail.com   \n",
       "\n",
       "                             tissue_id_annot  l    tissue_id has_path  \n",
       "24                [BTO:0004419, BTO:0004725]  2  BTO:0001255    False  \n",
       "119               [BTO:0004419, BTO:0004725]  2  BTO:0001255    False  \n",
       "192  [BTO:0000975, BTO:0001255, BTO:0000759]  3  BTO:0001255    False  \n",
       "305  [BTO:0000759, BTO:0000552, BTO:0001470]  3  BTO:0000404    False  "
      ]
     },
     "execution_count": 10,
     "metadata": {},
     "output_type": "execute_result"
    }
   ],
   "source": [
    "# Где не все ткани принадлежат tissue_id\n",
    "(\n",
    "    polina_series_annot\n",
    "    .assign(has_path=lambda d: (\n",
    "            d\n",
    "            .tissue_id\n",
    "            .combine(d.tissue_id_annot, func=(\n",
    "                    lambda t, tas: all(ta == t or tissue_ontology.has_path(t, ta) for ta in tas)\n",
    "            ))\n",
    "        ))\n",
    "    .query('has_path == False')\n",
    ")"
   ]
  },
  {
   "cell_type": "markdown",
   "metadata": {},
   "source": [
    "## Проверяем высланы ли все датасеты\n",
    "\n",
    "т.е. чтобы в выборке *annot* с тканью (skin и уровнем ниже) и **без** возраста все датасеты совпали с *polina_series.series*"
   ]
  },
  {
   "cell_type": "code",
   "execution_count": 11,
   "metadata": {
    "collapsed": false
   },
   "outputs": [
    {
     "data": {
      "text/plain": [
       "(435,)"
      ]
     },
     "execution_count": 11,
     "metadata": {},
     "output_type": "execute_result"
    }
   ],
   "source": [
    "polina_series.series.unique().shape"
   ]
  },
  {
   "cell_type": "code",
   "execution_count": 52,
   "metadata": {
    "collapsed": true
   },
   "outputs": [],
   "source": [
    "from collections import defaultdict\n",
    "\n",
    "def get_parents(ontology, parent_nodes):\n",
    "    mapping = defaultdict(list)\n",
    "    for node in ontology.meta.keys():\n",
    "        for parent_node in parent_nodes:\n",
    "            if ontology.has_path(parent_node, node):\n",
    "                mapping[node].append(parent_node)\n",
    "    return lambda t: mapping.get(t, np.nan)\n",
    "\n",
    "skin_descendants = tissue_ontology.descendants('BTO:0001253')\n",
    "# map_f = tissue_ontology.to_parent_f(['BTO:0001253'] + skin_descendants)\n",
    "map_f_desc = get_parents(tissue_ontology, skin_descendants)\n",
    "map_f_skin = get_parents(tissue_ontology, ['BTO:0001253'])"
   ]
  },
  {
   "cell_type": "code",
   "execution_count": 50,
   "metadata": {
    "collapsed": false
   },
   "outputs": [],
   "source": [
    "_annot_desc = (\n",
    "    annot[annot.age.isnull()]\n",
    "    .assign(parent_tissue_id=lambda d: d.tissue_id.map(map_f_desc))\n",
    ")\n",
    "\n",
    "_annot_skin = (\n",
    "    annot[annot.age.isnull()]\n",
    "    .assign(parent_tissue_id=lambda d: d.tissue_id.map(map_f_skin))\n",
    ")\n",
    "\n",
    "annot_skin_noage = (\n",
    "    _annot_desc.fillna(_annot_skin)\n",
    "    .dropna(subset=['parent_tissue_id'])\n",
    ")\n"
   ]
  },
  {
   "cell_type": "code",
   "execution_count": 51,
   "metadata": {
    "collapsed": false
   },
   "outputs": [
    {
     "data": {
      "text/html": [
       "<div>\n",
       "<table border=\"1\" class=\"dataframe\">\n",
       "  <thead>\n",
       "    <tr style=\"text-align: right;\">\n",
       "      <th></th>\n",
       "      <th>accession</th>\n",
       "      <th>norm</th>\n",
       "      <th>series</th>\n",
       "      <th>platform</th>\n",
       "      <th>age</th>\n",
       "      <th>tissue_id</th>\n",
       "      <th>preprocessed</th>\n",
       "      <th>parent_tissue_id</th>\n",
       "    </tr>\n",
       "  </thead>\n",
       "  <tbody>\n",
       "    <tr>\n",
       "      <th>28</th>\n",
       "      <td>GSM1434757</td>\n",
       "      <td>1</td>\n",
       "      <td>GSE59307</td>\n",
       "      <td>GPL570</td>\n",
       "      <td>NaN</td>\n",
       "      <td>BTO:0001253</td>\n",
       "      <td>1</td>\n",
       "      <td>[BTO:0001253]</td>\n",
       "    </tr>\n",
       "    <tr>\n",
       "      <th>54</th>\n",
       "      <td>GSM1434759</td>\n",
       "      <td>1</td>\n",
       "      <td>GSE59307</td>\n",
       "      <td>GPL570</td>\n",
       "      <td>NaN</td>\n",
       "      <td>BTO:0001253</td>\n",
       "      <td>1</td>\n",
       "      <td>[BTO:0001253]</td>\n",
       "    </tr>\n",
       "    <tr>\n",
       "      <th>55</th>\n",
       "      <td>GSM1434763</td>\n",
       "      <td>1</td>\n",
       "      <td>GSE59307</td>\n",
       "      <td>GPL570</td>\n",
       "      <td>NaN</td>\n",
       "      <td>BTO:0001253</td>\n",
       "      <td>1</td>\n",
       "      <td>[BTO:0001253]</td>\n",
       "    </tr>\n",
       "    <tr>\n",
       "      <th>57</th>\n",
       "      <td>GSM1434762</td>\n",
       "      <td>1</td>\n",
       "      <td>GSE59307</td>\n",
       "      <td>GPL570</td>\n",
       "      <td>NaN</td>\n",
       "      <td>BTO:0001253</td>\n",
       "      <td>1</td>\n",
       "      <td>[BTO:0001253]</td>\n",
       "    </tr>\n",
       "    <tr>\n",
       "      <th>58</th>\n",
       "      <td>GSM1434761</td>\n",
       "      <td>1</td>\n",
       "      <td>GSE59307</td>\n",
       "      <td>GPL570</td>\n",
       "      <td>NaN</td>\n",
       "      <td>BTO:0001253</td>\n",
       "      <td>1</td>\n",
       "      <td>[BTO:0001253]</td>\n",
       "    </tr>\n",
       "  </tbody>\n",
       "</table>\n",
       "</div>"
      ],
      "text/plain": [
       "     accession  norm    series platform  age    tissue_id  preprocessed  \\\n",
       "28  GSM1434757     1  GSE59307   GPL570  NaN  BTO:0001253             1   \n",
       "54  GSM1434759     1  GSE59307   GPL570  NaN  BTO:0001253             1   \n",
       "55  GSM1434763     1  GSE59307   GPL570  NaN  BTO:0001253             1   \n",
       "57  GSM1434762     1  GSE59307   GPL570  NaN  BTO:0001253             1   \n",
       "58  GSM1434761     1  GSE59307   GPL570  NaN  BTO:0001253             1   \n",
       "\n",
       "   parent_tissue_id  \n",
       "28    [BTO:0001253]  \n",
       "54    [BTO:0001253]  \n",
       "55    [BTO:0001253]  \n",
       "57    [BTO:0001253]  \n",
       "58    [BTO:0001253]  "
      ]
     },
     "execution_count": 51,
     "metadata": {},
     "output_type": "execute_result"
    }
   ],
   "source": [
    "annot_skin_noage.head()"
   ]
  },
  {
   "cell_type": "code",
   "execution_count": 20,
   "metadata": {
    "collapsed": true
   },
   "outputs": [],
   "source": [
    "def first(xs):\n",
    "    return next(iter(xs))"
   ]
  },
  {
   "cell_type": "markdown",
   "metadata": {},
   "source": [
    "Выгружаем все поля *email* для серий"
   ]
  },
  {
   "cell_type": "code",
   "execution_count": 21,
   "metadata": {
    "collapsed": false
   },
   "outputs": [
    {
     "data": {
      "text/html": [
       "<div>\n",
       "<table border=\"1\" class=\"dataframe\">\n",
       "  <thead>\n",
       "    <tr style=\"text-align: right;\">\n",
       "      <th></th>\n",
       "      <th>series</th>\n",
       "      <th>email</th>\n",
       "    </tr>\n",
       "  </thead>\n",
       "  <tbody>\n",
       "    <tr>\n",
       "      <th>0</th>\n",
       "      <td>GSE2</td>\n",
       "      <td>ykagami@brain.riken.go.jp</td>\n",
       "    </tr>\n",
       "    <tr>\n",
       "      <th>1</th>\n",
       "      <td>GSE1</td>\n",
       "      <td>mbittner@nhgri.nih.gov</td>\n",
       "    </tr>\n",
       "    <tr>\n",
       "      <th>2</th>\n",
       "      <td>GSE10</td>\n",
       "      <td>dror_sharon@meei.harvard.edu</td>\n",
       "    </tr>\n",
       "    <tr>\n",
       "      <th>3</th>\n",
       "      <td>GSE452</td>\n",
       "      <td>deans@itsa.ucsf.edu</td>\n",
       "    </tr>\n",
       "    <tr>\n",
       "      <th>4</th>\n",
       "      <td>E-ERAD-241</td>\n",
       "      <td>NaN</td>\n",
       "    </tr>\n",
       "  </tbody>\n",
       "</table>\n",
       "</div>"
      ],
      "text/plain": [
       "       series                         email\n",
       "0        GSE2     ykagami@brain.riken.go.jp\n",
       "1        GSE1        mbittner@nhgri.nih.gov\n",
       "2       GSE10  dror_sharon@meei.harvard.edu\n",
       "3      GSE452           deans@itsa.ucsf.edu\n",
       "4  E-ERAD-241                           NaN"
      ]
     },
     "execution_count": 21,
     "metadata": {},
     "output_type": "execute_result"
    }
   ],
   "source": [
    "series_emails = (pd.DataFrame(list(\n",
    "    pm.MongoClient().scraper_series_email.series.find({}, {'_id':0 , 'accession': 1, 'email': 1})\n",
    "))\n",
    "                .rename(columns={'accession': 'series'})\n",
    "                )\n",
    "series_emails.head()"
   ]
  },
  {
   "cell_type": "code",
   "execution_count": 35,
   "metadata": {
    "collapsed": false
   },
   "outputs": [],
   "source": [
    "from itertools import chain\n",
    "def list_set(iterables):\n",
    "    return list(set(iterables))\n",
    "\n",
    "def merge_lists(iterable_of_iterables):\n",
    "    return list(set(chain(*(list(iterable_of_iterables)))))"
   ]
  },
  {
   "cell_type": "markdown",
   "metadata": {},
   "source": [
    "Приводим в вид с подписанными болезнями и мерджим с датасетом *skin-emails*"
   ]
  },
  {
   "cell_type": "code",
   "execution_count": null,
   "metadata": {
    "collapsed": true
   },
   "outputs": [],
   "source": [
    "def cell():\n",
    "    return (\n",
    "            annot_skin_noage\n",
    "            .dropna(subset=['parent_tissue_id'])\n",
    "            .groupby('series', as_index=False)\n",
    "            .agg({'parent_tissue_id': merge_lists,\n",
    "                  'tissue_id': list_set})\n",
    "            .assign(l=lambda d: d.tissue_id.map(len))\n",
    "            .query('l == 1')\n",
    "            .assign(tissue_id=lambda d: d.tissue_id.map(first))\n",
    "            .assign(tissue_name=lambda d: d.tissue_id.map(tissue_ontology.name),\n",
    "                    parent_tissue_name=lambda d: d.parent_tissue_id.map(\n",
    "                        lambda ts: ','.join(map(tissue_ontology.name, ts))\n",
    "                   ))\n",
    "                    \n",
    "            .drop('l', axis=1)\n",
    "            .merge(polina_series, on='series', suffixes=('', '_polina'), how='left')\n",
    "            .rename(columns={'tissue_id_polina': 'was_in_first_dataset'})\n",
    "            .assign(was_in_first_dataset=lambda d: d.was_in_first_dataset.map(lambda x: 1 if pd.notnull(x) else 0))\n",
    "            .assign(parent_tissue_name=lambda d: d.parent_tissue_id.map(\n",
    "                            lambda ts: ','.join(map(lambda t: '{} ({})'.format(tissue_ontology.name(t), t), ts))\n",
    "                        )\n",
    "                   )\n",
    "            .assign(tissue_name=lambda d: d.tissue_name.combine(d.tissue_id, '{} ({})'.format))\n",
    "            .merge(series_emails, how='left')\n",
    "\n",
    "        )\n",
    "\n",
    "series_tissues_email = cell()"
   ]
  },
  {
   "cell_type": "markdown",
   "metadata": {},
   "source": [
    "Видно, что где *email* == *NaN*, то и не отправляли"
   ]
  },
  {
   "cell_type": "code",
   "execution_count": 97,
   "metadata": {
    "collapsed": false
   },
   "outputs": [
    {
     "data": {
      "text/html": [
       "<div>\n",
       "<table border=\"1\" class=\"dataframe\">\n",
       "  <thead>\n",
       "    <tr style=\"text-align: right;\">\n",
       "      <th></th>\n",
       "      <th>series</th>\n",
       "      <th>tissue_id</th>\n",
       "      <th>parent_tissue_id</th>\n",
       "      <th>parent_tissue_name</th>\n",
       "      <th>tissue_name</th>\n",
       "      <th>was_in_first_dataset</th>\n",
       "      <th>email</th>\n",
       "    </tr>\n",
       "  </thead>\n",
       "  <tbody>\n",
       "    <tr>\n",
       "      <th>0</th>\n",
       "      <td>GSE10085</td>\n",
       "      <td>BTO:0001858</td>\n",
       "      <td>[BTO:0000294]</td>\n",
       "      <td>dermis (BTO:0000294)</td>\n",
       "      <td>dermal papilla (BTO:0001858)</td>\n",
       "      <td>0</td>\n",
       "      <td>NaN</td>\n",
       "    </tr>\n",
       "    <tr>\n",
       "      <th>1</th>\n",
       "      <td>GSE10098</td>\n",
       "      <td>BTO:0005055</td>\n",
       "      <td>[BTO:0000404]</td>\n",
       "      <td>epidermis (BTO:0000404)</td>\n",
       "      <td>scale (BTO:0005055)</td>\n",
       "      <td>0</td>\n",
       "      <td>NaN</td>\n",
       "    </tr>\n",
       "    <tr>\n",
       "      <th>2</th>\n",
       "      <td>GSE10118</td>\n",
       "      <td>BTO:0001858</td>\n",
       "      <td>[BTO:0000294]</td>\n",
       "      <td>dermis (BTO:0000294)</td>\n",
       "      <td>dermal papilla (BTO:0001858)</td>\n",
       "      <td>0</td>\n",
       "      <td>NaN</td>\n",
       "    </tr>\n",
       "    <tr>\n",
       "      <th>3</th>\n",
       "      <td>GSE10123</td>\n",
       "      <td>BTO:0001619</td>\n",
       "      <td>[BTO:0001255]</td>\n",
       "      <td>skin fibroblast (BTO:0001255)</td>\n",
       "      <td>skin fibroblast cell line (BTO:0001619)</td>\n",
       "      <td>1</td>\n",
       "      <td>scaffidp@mail.nih.gov</td>\n",
       "    </tr>\n",
       "    <tr>\n",
       "      <th>4</th>\n",
       "      <td>GSE10423</td>\n",
       "      <td>BTO:0001253</td>\n",
       "      <td>[BTO:0001253]</td>\n",
       "      <td>skin (BTO:0001253)</td>\n",
       "      <td>skin (BTO:0001253)</td>\n",
       "      <td>1</td>\n",
       "      <td>davewong@stanford.edu</td>\n",
       "    </tr>\n",
       "  </tbody>\n",
       "</table>\n",
       "</div>"
      ],
      "text/plain": [
       "     series    tissue_id parent_tissue_id             parent_tissue_name  \\\n",
       "0  GSE10085  BTO:0001858    [BTO:0000294]           dermis (BTO:0000294)   \n",
       "1  GSE10098  BTO:0005055    [BTO:0000404]        epidermis (BTO:0000404)   \n",
       "2  GSE10118  BTO:0001858    [BTO:0000294]           dermis (BTO:0000294)   \n",
       "3  GSE10123  BTO:0001619    [BTO:0001255]  skin fibroblast (BTO:0001255)   \n",
       "4  GSE10423  BTO:0001253    [BTO:0001253]             skin (BTO:0001253)   \n",
       "\n",
       "                               tissue_name  was_in_first_dataset  \\\n",
       "0             dermal papilla (BTO:0001858)                     0   \n",
       "1                      scale (BTO:0005055)                     0   \n",
       "2             dermal papilla (BTO:0001858)                     0   \n",
       "3  skin fibroblast cell line (BTO:0001619)                     1   \n",
       "4                       skin (BTO:0001253)                     1   \n",
       "\n",
       "                   email  \n",
       "0                    NaN  \n",
       "1                    NaN  \n",
       "2                    NaN  \n",
       "3  scaffidp@mail.nih.gov  \n",
       "4  davewong@stanford.edu  "
      ]
     },
     "execution_count": 97,
     "metadata": {},
     "output_type": "execute_result"
    }
   ],
   "source": [
    "series_tissues_email.head()"
   ]
  },
  {
   "cell_type": "code",
   "execution_count": null,
   "metadata": {
    "collapsed": true
   },
   "outputs": [],
   "source": [
    "! mkdir -p ../../data/geo-annotation/intermediate/skin"
   ]
  },
  {
   "cell_type": "markdown",
   "metadata": {},
   "source": [
    "## Запись результатов"
   ]
  },
  {
   "cell_type": "code",
   "execution_count": 98,
   "metadata": {
    "collapsed": true
   },
   "outputs": [],
   "source": [
    "(\n",
    "    series_tissues_email\n",
    "    [series_tissues_email.email.isnull()]\n",
    "    [['series', 'tissue_name',  'parent_tissue_name']]\n",
    "    .to_csv('../../data/geo-annotation/intermediate/skin/skin-emails.csv', index=False)\n",
    ")"
   ]
  },
  {
   "cell_type": "markdown",
   "metadata": {},
   "source": [
    "## Сверяем размеры датасетов\n",
    "* Сколько всего датасетов с кожей и без возраста\n",
    "* Сколько всего датасетов с указанным email\n",
    "* Сколько всего датасетов, в высланной таблице полине\n",
    "\n",
    "Видно что из ~ 1000 только 430 имеют *email*,  однако почемуто 5 датасетов пропало в новой выдаче (*series_tissues_email*)"
   ]
  },
  {
   "cell_type": "code",
   "execution_count": 96,
   "metadata": {
    "collapsed": false
   },
   "outputs": [
    {
     "data": {
      "text/plain": [
       "((998, 7), (430, 7), (435, 3))"
      ]
     },
     "execution_count": 96,
     "metadata": {},
     "output_type": "execute_result"
    }
   ],
   "source": [
    "series_tissues_email.shape, series_tissues_email.dropna(subset=['email']).shape, polina_series.shape"
   ]
  },
  {
   "cell_type": "markdown",
   "metadata": {},
   "source": [
    "Сравним что изменилось"
   ]
  },
  {
   "cell_type": "code",
   "execution_count": 70,
   "metadata": {
    "collapsed": false
   },
   "outputs": [
    {
     "data": {
      "text/html": [
       "<div>\n",
       "<table border=\"1\" class=\"dataframe\">\n",
       "  <thead>\n",
       "    <tr style=\"text-align: right;\">\n",
       "      <th></th>\n",
       "      <th>series</th>\n",
       "      <th>tissue_id_new</th>\n",
       "      <th>parent_tissue_id</th>\n",
       "      <th>parent_tissue_name</th>\n",
       "      <th>tissue_name</th>\n",
       "      <th>was_in_first_dataset</th>\n",
       "      <th>email_new</th>\n",
       "      <th>tissue_id_old</th>\n",
       "      <th>email_old</th>\n",
       "    </tr>\n",
       "  </thead>\n",
       "  <tbody>\n",
       "    <tr>\n",
       "      <th>0</th>\n",
       "      <td>GSE10123</td>\n",
       "      <td>BTO:0001619</td>\n",
       "      <td>[BTO:0001255]</td>\n",
       "      <td>skin fibroblast (BTO:0001255)</td>\n",
       "      <td>skin fibroblast cell line (BTO:0001619)</td>\n",
       "      <td>1</td>\n",
       "      <td>scaffidp@mail.nih.gov</td>\n",
       "      <td>skin fibroblast (BTO:0001255)</td>\n",
       "      <td>scaffidp@mail.nih.gov</td>\n",
       "    </tr>\n",
       "    <tr>\n",
       "      <th>1</th>\n",
       "      <td>GSE10423</td>\n",
       "      <td>BTO:0001253</td>\n",
       "      <td>[BTO:0001253]</td>\n",
       "      <td>skin (BTO:0001253)</td>\n",
       "      <td>skin (BTO:0001253)</td>\n",
       "      <td>1</td>\n",
       "      <td>davewong@stanford.edu</td>\n",
       "      <td>skin (BTO:0001253)</td>\n",
       "      <td>davewong@stanford.edu</td>\n",
       "    </tr>\n",
       "    <tr>\n",
       "      <th>2</th>\n",
       "      <td>GSE10432</td>\n",
       "      <td>BTO:0004613</td>\n",
       "      <td>[BTO:0000294]</td>\n",
       "      <td>dermis (BTO:0000294)</td>\n",
       "      <td>sebocyte (BTO:0004613)</td>\n",
       "      <td>1</td>\n",
       "      <td>dthiboutot@psu.edu</td>\n",
       "      <td>dermis (BTO:0000294)</td>\n",
       "      <td>dthiboutot@psu.edu</td>\n",
       "    </tr>\n",
       "    <tr>\n",
       "      <th>3</th>\n",
       "      <td>GSE10434</td>\n",
       "      <td>BTO:0004613</td>\n",
       "      <td>[BTO:0000294]</td>\n",
       "      <td>dermis (BTO:0000294)</td>\n",
       "      <td>sebocyte (BTO:0004613)</td>\n",
       "      <td>1</td>\n",
       "      <td>dthiboutot@psu.edu</td>\n",
       "      <td>dermis (BTO:0000294)</td>\n",
       "      <td>dthiboutot@psu.edu</td>\n",
       "    </tr>\n",
       "    <tr>\n",
       "      <th>4</th>\n",
       "      <td>GSE10696</td>\n",
       "      <td>BTO:0000404</td>\n",
       "      <td>[BTO:0000404]</td>\n",
       "      <td>epidermis (BTO:0000404)</td>\n",
       "      <td>epidermis (BTO:0000404)</td>\n",
       "      <td>1</td>\n",
       "      <td>emily.wang@vanderbilt.edu</td>\n",
       "      <td>epidermis (BTO:0000404)</td>\n",
       "      <td>emily.wang@vanderbilt.edu</td>\n",
       "    </tr>\n",
       "  </tbody>\n",
       "</table>\n",
       "</div>"
      ],
      "text/plain": [
       "     series tissue_id_new parent_tissue_id             parent_tissue_name  \\\n",
       "0  GSE10123   BTO:0001619    [BTO:0001255]  skin fibroblast (BTO:0001255)   \n",
       "1  GSE10423   BTO:0001253    [BTO:0001253]             skin (BTO:0001253)   \n",
       "2  GSE10432   BTO:0004613    [BTO:0000294]           dermis (BTO:0000294)   \n",
       "3  GSE10434   BTO:0004613    [BTO:0000294]           dermis (BTO:0000294)   \n",
       "4  GSE10696   BTO:0000404    [BTO:0000404]        epidermis (BTO:0000404)   \n",
       "\n",
       "                               tissue_name  was_in_first_dataset  \\\n",
       "0  skin fibroblast cell line (BTO:0001619)                     1   \n",
       "1                       skin (BTO:0001253)                     1   \n",
       "2                   sebocyte (BTO:0004613)                     1   \n",
       "3                   sebocyte (BTO:0004613)                     1   \n",
       "4                  epidermis (BTO:0000404)                     1   \n",
       "\n",
       "                   email_new                  tissue_id_old  \\\n",
       "0      scaffidp@mail.nih.gov  skin fibroblast (BTO:0001255)   \n",
       "1      davewong@stanford.edu             skin (BTO:0001253)   \n",
       "2         dthiboutot@psu.edu           dermis (BTO:0000294)   \n",
       "3         dthiboutot@psu.edu           dermis (BTO:0000294)   \n",
       "4  emily.wang@vanderbilt.edu        epidermis (BTO:0000404)   \n",
       "\n",
       "                   email_old  \n",
       "0      scaffidp@mail.nih.gov  \n",
       "1      davewong@stanford.edu  \n",
       "2         dthiboutot@psu.edu  \n",
       "3         dthiboutot@psu.edu  \n",
       "4  emily.wang@vanderbilt.edu  "
      ]
     },
     "execution_count": 70,
     "metadata": {},
     "output_type": "execute_result"
    }
   ],
   "source": [
    "def cell():\n",
    "    return (\n",
    "        series_tissues_email\n",
    "        .dropna(subset=['email'])\n",
    "        .merge(polina_series, how='outer', on='series', suffixes=('_new', '_old'))\n",
    "    )\n",
    "new_vs_old = cell()\n",
    "new_vs_old.head()"
   ]
  },
  {
   "cell_type": "code",
   "execution_count": 71,
   "metadata": {
    "collapsed": false
   },
   "outputs": [
    {
     "data": {
      "text/html": [
       "<div>\n",
       "<table border=\"1\" class=\"dataframe\">\n",
       "  <thead>\n",
       "    <tr style=\"text-align: right;\">\n",
       "      <th></th>\n",
       "      <th>series</th>\n",
       "      <th>tissue_id_new</th>\n",
       "      <th>parent_tissue_id</th>\n",
       "      <th>parent_tissue_name</th>\n",
       "      <th>tissue_name</th>\n",
       "      <th>was_in_first_dataset</th>\n",
       "      <th>email_new</th>\n",
       "      <th>tissue_id_old</th>\n",
       "      <th>email_old</th>\n",
       "    </tr>\n",
       "  </thead>\n",
       "  <tbody>\n",
       "    <tr>\n",
       "      <th>430</th>\n",
       "      <td>GSE10433</td>\n",
       "      <td>NaN</td>\n",
       "      <td>NaN</td>\n",
       "      <td>NaN</td>\n",
       "      <td>NaN</td>\n",
       "      <td>NaN</td>\n",
       "      <td>NaN</td>\n",
       "      <td>skin (BTO:0001253)</td>\n",
       "      <td>dthiboutot@psu.edu</td>\n",
       "    </tr>\n",
       "    <tr>\n",
       "      <th>431</th>\n",
       "      <td>GSE28384</td>\n",
       "      <td>NaN</td>\n",
       "      <td>NaN</td>\n",
       "      <td>NaN</td>\n",
       "      <td>NaN</td>\n",
       "      <td>NaN</td>\n",
       "      <td>NaN</td>\n",
       "      <td>dermis (BTO:0000294)</td>\n",
       "      <td>weidner@molgen.mpg.de</td>\n",
       "    </tr>\n",
       "    <tr>\n",
       "      <th>432</th>\n",
       "      <td>GSE33092</td>\n",
       "      <td>NaN</td>\n",
       "      <td>NaN</td>\n",
       "      <td>NaN</td>\n",
       "      <td>NaN</td>\n",
       "      <td>NaN</td>\n",
       "      <td>NaN</td>\n",
       "      <td>epidermis (BTO:0000404)</td>\n",
       "      <td>kqu@stanford.edu</td>\n",
       "    </tr>\n",
       "    <tr>\n",
       "      <th>433</th>\n",
       "      <td>GSE40122</td>\n",
       "      <td>NaN</td>\n",
       "      <td>NaN</td>\n",
       "      <td>NaN</td>\n",
       "      <td>NaN</td>\n",
       "      <td>NaN</td>\n",
       "      <td>NaN</td>\n",
       "      <td>epidermis (BTO:0000404)</td>\n",
       "      <td>kqu@stanford.edu</td>\n",
       "    </tr>\n",
       "    <tr>\n",
       "      <th>434</th>\n",
       "      <td>GSE52276</td>\n",
       "      <td>NaN</td>\n",
       "      <td>NaN</td>\n",
       "      <td>NaN</td>\n",
       "      <td>NaN</td>\n",
       "      <td>NaN</td>\n",
       "      <td>NaN</td>\n",
       "      <td>epidermis (BTO:0000404)</td>\n",
       "      <td>mori9085@hotmail.com</td>\n",
       "    </tr>\n",
       "  </tbody>\n",
       "</table>\n",
       "</div>"
      ],
      "text/plain": [
       "       series tissue_id_new parent_tissue_id parent_tissue_name tissue_name  \\\n",
       "430  GSE10433           NaN              NaN                NaN         NaN   \n",
       "431  GSE28384           NaN              NaN                NaN         NaN   \n",
       "432  GSE33092           NaN              NaN                NaN         NaN   \n",
       "433  GSE40122           NaN              NaN                NaN         NaN   \n",
       "434  GSE52276           NaN              NaN                NaN         NaN   \n",
       "\n",
       "     was_in_first_dataset email_new            tissue_id_old  \\\n",
       "430                   NaN       NaN       skin (BTO:0001253)   \n",
       "431                   NaN       NaN     dermis (BTO:0000294)   \n",
       "432                   NaN       NaN  epidermis (BTO:0000404)   \n",
       "433                   NaN       NaN  epidermis (BTO:0000404)   \n",
       "434                   NaN       NaN  epidermis (BTO:0000404)   \n",
       "\n",
       "                 email_old  \n",
       "430     dthiboutot@psu.edu  \n",
       "431  weidner@molgen.mpg.de  \n",
       "432       kqu@stanford.edu  \n",
       "433       kqu@stanford.edu  \n",
       "434   mori9085@hotmail.com  "
      ]
     },
     "execution_count": 71,
     "metadata": {},
     "output_type": "execute_result"
    }
   ],
   "source": [
    "new_vs_old[new_vs_old.tissue_id_new.isnull()]"
   ]
  },
  {
   "cell_type": "code",
   "execution_count": 72,
   "metadata": {
    "collapsed": false
   },
   "outputs": [
    {
     "data": {
      "text/html": [
       "<div>\n",
       "<table border=\"1\" class=\"dataframe\">\n",
       "  <thead>\n",
       "    <tr style=\"text-align: right;\">\n",
       "      <th></th>\n",
       "      <th>series</th>\n",
       "      <th>tissue_id_new</th>\n",
       "      <th>parent_tissue_id</th>\n",
       "      <th>parent_tissue_name</th>\n",
       "      <th>tissue_name</th>\n",
       "      <th>was_in_first_dataset</th>\n",
       "      <th>email_new</th>\n",
       "      <th>tissue_id_old</th>\n",
       "      <th>email_old</th>\n",
       "    </tr>\n",
       "  </thead>\n",
       "  <tbody>\n",
       "  </tbody>\n",
       "</table>\n",
       "</div>"
      ],
      "text/plain": [
       "Empty DataFrame\n",
       "Columns: [series, tissue_id_new, parent_tissue_id, parent_tissue_name, tissue_name, was_in_first_dataset, email_new, tissue_id_old, email_old]\n",
       "Index: []"
      ]
     },
     "execution_count": 72,
     "metadata": {},
     "output_type": "execute_result"
    }
   ],
   "source": [
    "new_vs_old[new_vs_old.tissue_id_old.isnull()]"
   ]
  },
  {
   "cell_type": "code",
   "execution_count": 73,
   "metadata": {
    "collapsed": false
   },
   "outputs": [
    {
     "data": {
      "text/html": [
       "<div>\n",
       "<table border=\"1\" class=\"dataframe\">\n",
       "  <thead>\n",
       "    <tr style=\"text-align: right;\">\n",
       "      <th></th>\n",
       "      <th>series</th>\n",
       "      <th>tissue_id_new</th>\n",
       "      <th>parent_tissue_id</th>\n",
       "      <th>parent_tissue_name</th>\n",
       "      <th>tissue_name</th>\n",
       "      <th>was_in_first_dataset</th>\n",
       "      <th>email_new</th>\n",
       "      <th>tissue_id_old</th>\n",
       "      <th>email_old</th>\n",
       "    </tr>\n",
       "  </thead>\n",
       "  <tbody>\n",
       "    <tr>\n",
       "      <th>430</th>\n",
       "      <td>GSE10433</td>\n",
       "      <td>NaN</td>\n",
       "      <td>NaN</td>\n",
       "      <td>NaN</td>\n",
       "      <td>NaN</td>\n",
       "      <td>NaN</td>\n",
       "      <td>NaN</td>\n",
       "      <td>skin (BTO:0001253)</td>\n",
       "      <td>dthiboutot@psu.edu</td>\n",
       "    </tr>\n",
       "    <tr>\n",
       "      <th>431</th>\n",
       "      <td>GSE28384</td>\n",
       "      <td>NaN</td>\n",
       "      <td>NaN</td>\n",
       "      <td>NaN</td>\n",
       "      <td>NaN</td>\n",
       "      <td>NaN</td>\n",
       "      <td>NaN</td>\n",
       "      <td>dermis (BTO:0000294)</td>\n",
       "      <td>weidner@molgen.mpg.de</td>\n",
       "    </tr>\n",
       "    <tr>\n",
       "      <th>432</th>\n",
       "      <td>GSE33092</td>\n",
       "      <td>NaN</td>\n",
       "      <td>NaN</td>\n",
       "      <td>NaN</td>\n",
       "      <td>NaN</td>\n",
       "      <td>NaN</td>\n",
       "      <td>NaN</td>\n",
       "      <td>epidermis (BTO:0000404)</td>\n",
       "      <td>kqu@stanford.edu</td>\n",
       "    </tr>\n",
       "    <tr>\n",
       "      <th>433</th>\n",
       "      <td>GSE40122</td>\n",
       "      <td>NaN</td>\n",
       "      <td>NaN</td>\n",
       "      <td>NaN</td>\n",
       "      <td>NaN</td>\n",
       "      <td>NaN</td>\n",
       "      <td>NaN</td>\n",
       "      <td>epidermis (BTO:0000404)</td>\n",
       "      <td>kqu@stanford.edu</td>\n",
       "    </tr>\n",
       "    <tr>\n",
       "      <th>434</th>\n",
       "      <td>GSE52276</td>\n",
       "      <td>NaN</td>\n",
       "      <td>NaN</td>\n",
       "      <td>NaN</td>\n",
       "      <td>NaN</td>\n",
       "      <td>NaN</td>\n",
       "      <td>NaN</td>\n",
       "      <td>epidermis (BTO:0000404)</td>\n",
       "      <td>mori9085@hotmail.com</td>\n",
       "    </tr>\n",
       "  </tbody>\n",
       "</table>\n",
       "</div>"
      ],
      "text/plain": [
       "       series tissue_id_new parent_tissue_id parent_tissue_name tissue_name  \\\n",
       "430  GSE10433           NaN              NaN                NaN         NaN   \n",
       "431  GSE28384           NaN              NaN                NaN         NaN   \n",
       "432  GSE33092           NaN              NaN                NaN         NaN   \n",
       "433  GSE40122           NaN              NaN                NaN         NaN   \n",
       "434  GSE52276           NaN              NaN                NaN         NaN   \n",
       "\n",
       "     was_in_first_dataset email_new            tissue_id_old  \\\n",
       "430                   NaN       NaN       skin (BTO:0001253)   \n",
       "431                   NaN       NaN     dermis (BTO:0000294)   \n",
       "432                   NaN       NaN  epidermis (BTO:0000404)   \n",
       "433                   NaN       NaN  epidermis (BTO:0000404)   \n",
       "434                   NaN       NaN  epidermis (BTO:0000404)   \n",
       "\n",
       "                 email_old  \n",
       "430     dthiboutot@psu.edu  \n",
       "431  weidner@molgen.mpg.de  \n",
       "432       kqu@stanford.edu  \n",
       "433       kqu@stanford.edu  \n",
       "434   mori9085@hotmail.com  "
      ]
     },
     "execution_count": 73,
     "metadata": {},
     "output_type": "execute_result"
    }
   ],
   "source": [
    "new_vs_old[new_vs_old.email_new.isnull()]"
   ]
  },
  {
   "cell_type": "code",
   "execution_count": 74,
   "metadata": {
    "collapsed": false
   },
   "outputs": [
    {
     "data": {
      "text/html": [
       "<div>\n",
       "<table border=\"1\" class=\"dataframe\">\n",
       "  <thead>\n",
       "    <tr style=\"text-align: right;\">\n",
       "      <th></th>\n",
       "      <th>series</th>\n",
       "      <th>tissue_id_new</th>\n",
       "      <th>parent_tissue_id</th>\n",
       "      <th>parent_tissue_name</th>\n",
       "      <th>tissue_name</th>\n",
       "      <th>was_in_first_dataset</th>\n",
       "      <th>email_new</th>\n",
       "      <th>tissue_id_old</th>\n",
       "      <th>email_old</th>\n",
       "    </tr>\n",
       "  </thead>\n",
       "  <tbody>\n",
       "  </tbody>\n",
       "</table>\n",
       "</div>"
      ],
      "text/plain": [
       "Empty DataFrame\n",
       "Columns: [series, tissue_id_new, parent_tissue_id, parent_tissue_name, tissue_name, was_in_first_dataset, email_new, tissue_id_old, email_old]\n",
       "Index: []"
      ]
     },
     "execution_count": 74,
     "metadata": {},
     "output_type": "execute_result"
    }
   ],
   "source": [
    "new_vs_old[new_vs_old.email_old.isnull()]"
   ]
  },
  {
   "cell_type": "code",
   "execution_count": 84,
   "metadata": {
    "collapsed": false
   },
   "outputs": [
    {
     "data": {
      "text/html": [
       "<div>\n",
       "<table border=\"1\" class=\"dataframe\">\n",
       "  <thead>\n",
       "    <tr style=\"text-align: right;\">\n",
       "      <th></th>\n",
       "      <th>series</th>\n",
       "      <th>tissue_name</th>\n",
       "      <th>parent_tissue_name</th>\n",
       "      <th>tissue_id_old</th>\n",
       "    </tr>\n",
       "  </thead>\n",
       "  <tbody>\n",
       "    <tr>\n",
       "      <th>7</th>\n",
       "      <td>GSE11550</td>\n",
       "      <td>hs-294t cell (BTO:0003467)</td>\n",
       "      <td>epidermis (BTO:0000404),skin cancer cell (BTO:...</td>\n",
       "      <td>skin cancer cell (BTO:0001286)</td>\n",
       "    </tr>\n",
       "    <tr>\n",
       "      <th>8</th>\n",
       "      <td>GSE11551</td>\n",
       "      <td>hs-294t cell (BTO:0003467)</td>\n",
       "      <td>epidermis (BTO:0000404),skin cancer cell (BTO:...</td>\n",
       "      <td>skin cancer cell (BTO:0001286)</td>\n",
       "    </tr>\n",
       "    <tr>\n",
       "      <th>9</th>\n",
       "      <td>GSE11552</td>\n",
       "      <td>hs-294t cell (BTO:0003467)</td>\n",
       "      <td>epidermis (BTO:0000404),skin cancer cell (BTO:...</td>\n",
       "      <td>skin cancer cell (BTO:0001286)</td>\n",
       "    </tr>\n",
       "    <tr>\n",
       "      <th>13</th>\n",
       "      <td>GSE12096</td>\n",
       "      <td>melanoma cell (BTO:0000848)</td>\n",
       "      <td>epidermis (BTO:0000404),skin cancer cell (BTO:...</td>\n",
       "      <td>skin cancer cell (BTO:0001286)</td>\n",
       "    </tr>\n",
       "    <tr>\n",
       "      <th>22</th>\n",
       "      <td>GSE13334</td>\n",
       "      <td>dermal fibroblast (BTO:0004419)</td>\n",
       "      <td>skin fibroblast (BTO:0001255),dermis (BTO:0000...</td>\n",
       "      <td>skin fibroblast (BTO:0001255)</td>\n",
       "    </tr>\n",
       "    <tr>\n",
       "      <th>24</th>\n",
       "      <td>GSE13365</td>\n",
       "      <td>dermal fibroblast (BTO:0004419)</td>\n",
       "      <td>skin fibroblast (BTO:0001255),dermis (BTO:0000...</td>\n",
       "      <td>skin fibroblast (BTO:0001255)</td>\n",
       "    </tr>\n",
       "    <tr>\n",
       "      <th>34</th>\n",
       "      <td>GSE15138</td>\n",
       "      <td>melanoma cell line (BTO:0000849)</td>\n",
       "      <td>epidermis (BTO:0000404),skin cancer cell (BTO:...</td>\n",
       "      <td>skin cancer cell (BTO:0001286)</td>\n",
       "    </tr>\n",
       "    <tr>\n",
       "      <th>36</th>\n",
       "      <td>GSE15281</td>\n",
       "      <td>melanoma cell line (BTO:0000849)</td>\n",
       "      <td>epidermis (BTO:0000404),skin cancer cell (BTO:...</td>\n",
       "      <td>skin cancer cell (BTO:0001286)</td>\n",
       "    </tr>\n",
       "    <tr>\n",
       "      <th>37</th>\n",
       "      <td>GSE15420</td>\n",
       "      <td>melanoma cell line (BTO:0000849)</td>\n",
       "      <td>epidermis (BTO:0000404),skin cancer cell (BTO:...</td>\n",
       "      <td>skin cancer cell (BTO:0001286)</td>\n",
       "    </tr>\n",
       "    <tr>\n",
       "      <th>40</th>\n",
       "      <td>GSE1562</td>\n",
       "      <td>melanoma cell line (BTO:0000849)</td>\n",
       "      <td>epidermis (BTO:0000404),skin cancer cell (BTO:...</td>\n",
       "      <td>skin cancer cell (BTO:0001286)</td>\n",
       "    </tr>\n",
       "    <tr>\n",
       "      <th>42</th>\n",
       "      <td>GSE15802</td>\n",
       "      <td>melanoma cell line (BTO:0000849)</td>\n",
       "      <td>epidermis (BTO:0000404),skin cancer cell (BTO:...</td>\n",
       "      <td>skin cancer cell (BTO:0001286)</td>\n",
       "    </tr>\n",
       "    <tr>\n",
       "      <th>45</th>\n",
       "      <td>GSE16404</td>\n",
       "      <td>melanoma cell line (BTO:0000849)</td>\n",
       "      <td>epidermis (BTO:0000404),skin cancer cell (BTO:...</td>\n",
       "      <td>skin cancer cell (BTO:0001286)</td>\n",
       "    </tr>\n",
       "    <tr>\n",
       "      <th>51</th>\n",
       "      <td>GSE17046</td>\n",
       "      <td>dermal fibroblast (BTO:0004419)</td>\n",
       "      <td>skin fibroblast (BTO:0001255),dermis (BTO:0000...</td>\n",
       "      <td>skin fibroblast (BTO:0001255)</td>\n",
       "    </tr>\n",
       "    <tr>\n",
       "      <th>52</th>\n",
       "      <td>GSE17089</td>\n",
       "      <td>melanoma cell (BTO:0000848)</td>\n",
       "      <td>epidermis (BTO:0000404),skin cancer cell (BTO:...</td>\n",
       "      <td>skin cancer cell (BTO:0001286)</td>\n",
       "    </tr>\n",
       "    <tr>\n",
       "      <th>54</th>\n",
       "      <td>GSE1719</td>\n",
       "      <td>dermal fibroblast (BTO:0004419)</td>\n",
       "      <td>skin fibroblast (BTO:0001255),dermis (BTO:0000...</td>\n",
       "      <td>skin fibroblast (BTO:0001255)</td>\n",
       "    </tr>\n",
       "    <tr>\n",
       "      <th>55</th>\n",
       "      <td>GSE17349</td>\n",
       "      <td>melanoma cell line (BTO:0000849)</td>\n",
       "      <td>epidermis (BTO:0000404),skin cancer cell (BTO:...</td>\n",
       "      <td>skin cancer cell (BTO:0001286)</td>\n",
       "    </tr>\n",
       "    <tr>\n",
       "      <th>56</th>\n",
       "      <td>GSE17359</td>\n",
       "      <td>melanoma cell line (BTO:0000849)</td>\n",
       "      <td>epidermis (BTO:0000404),skin cancer cell (BTO:...</td>\n",
       "      <td>skin cancer cell (BTO:0001286)</td>\n",
       "    </tr>\n",
       "    <tr>\n",
       "      <th>58</th>\n",
       "      <td>GSE17551</td>\n",
       "      <td>melanoma cell line (BTO:0000849)</td>\n",
       "      <td>epidermis (BTO:0000404),skin cancer cell (BTO:...</td>\n",
       "      <td>skin cancer cell (BTO:0001286)</td>\n",
       "    </tr>\n",
       "    <tr>\n",
       "      <th>59</th>\n",
       "      <td>GSE1773</td>\n",
       "      <td>lox cell (BTO:0002170)</td>\n",
       "      <td>epidermis (BTO:0000404),skin cancer cell (BTO:...</td>\n",
       "      <td>skin cancer cell (BTO:0001286)</td>\n",
       "    </tr>\n",
       "    <tr>\n",
       "      <th>62</th>\n",
       "      <td>GSE1792</td>\n",
       "      <td>melanoma cell line (BTO:0000849)</td>\n",
       "      <td>epidermis (BTO:0000404),skin cancer cell (BTO:...</td>\n",
       "      <td>skin cancer cell (BTO:0001286)</td>\n",
       "    </tr>\n",
       "  </tbody>\n",
       "</table>\n",
       "</div>"
      ],
      "text/plain": [
       "      series                       tissue_name  \\\n",
       "7   GSE11550        hs-294t cell (BTO:0003467)   \n",
       "8   GSE11551        hs-294t cell (BTO:0003467)   \n",
       "9   GSE11552        hs-294t cell (BTO:0003467)   \n",
       "13  GSE12096       melanoma cell (BTO:0000848)   \n",
       "22  GSE13334   dermal fibroblast (BTO:0004419)   \n",
       "24  GSE13365   dermal fibroblast (BTO:0004419)   \n",
       "34  GSE15138  melanoma cell line (BTO:0000849)   \n",
       "36  GSE15281  melanoma cell line (BTO:0000849)   \n",
       "37  GSE15420  melanoma cell line (BTO:0000849)   \n",
       "40   GSE1562  melanoma cell line (BTO:0000849)   \n",
       "42  GSE15802  melanoma cell line (BTO:0000849)   \n",
       "45  GSE16404  melanoma cell line (BTO:0000849)   \n",
       "51  GSE17046   dermal fibroblast (BTO:0004419)   \n",
       "52  GSE17089       melanoma cell (BTO:0000848)   \n",
       "54   GSE1719   dermal fibroblast (BTO:0004419)   \n",
       "55  GSE17349  melanoma cell line (BTO:0000849)   \n",
       "56  GSE17359  melanoma cell line (BTO:0000849)   \n",
       "58  GSE17551  melanoma cell line (BTO:0000849)   \n",
       "59   GSE1773            lox cell (BTO:0002170)   \n",
       "62   GSE1792  melanoma cell line (BTO:0000849)   \n",
       "\n",
       "                                   parent_tissue_name  \\\n",
       "7   epidermis (BTO:0000404),skin cancer cell (BTO:...   \n",
       "8   epidermis (BTO:0000404),skin cancer cell (BTO:...   \n",
       "9   epidermis (BTO:0000404),skin cancer cell (BTO:...   \n",
       "13  epidermis (BTO:0000404),skin cancer cell (BTO:...   \n",
       "22  skin fibroblast (BTO:0001255),dermis (BTO:0000...   \n",
       "24  skin fibroblast (BTO:0001255),dermis (BTO:0000...   \n",
       "34  epidermis (BTO:0000404),skin cancer cell (BTO:...   \n",
       "36  epidermis (BTO:0000404),skin cancer cell (BTO:...   \n",
       "37  epidermis (BTO:0000404),skin cancer cell (BTO:...   \n",
       "40  epidermis (BTO:0000404),skin cancer cell (BTO:...   \n",
       "42  epidermis (BTO:0000404),skin cancer cell (BTO:...   \n",
       "45  epidermis (BTO:0000404),skin cancer cell (BTO:...   \n",
       "51  skin fibroblast (BTO:0001255),dermis (BTO:0000...   \n",
       "52  epidermis (BTO:0000404),skin cancer cell (BTO:...   \n",
       "54  skin fibroblast (BTO:0001255),dermis (BTO:0000...   \n",
       "55  epidermis (BTO:0000404),skin cancer cell (BTO:...   \n",
       "56  epidermis (BTO:0000404),skin cancer cell (BTO:...   \n",
       "58  epidermis (BTO:0000404),skin cancer cell (BTO:...   \n",
       "59  epidermis (BTO:0000404),skin cancer cell (BTO:...   \n",
       "62  epidermis (BTO:0000404),skin cancer cell (BTO:...   \n",
       "\n",
       "                     tissue_id_old  \n",
       "7   skin cancer cell (BTO:0001286)  \n",
       "8   skin cancer cell (BTO:0001286)  \n",
       "9   skin cancer cell (BTO:0001286)  \n",
       "13  skin cancer cell (BTO:0001286)  \n",
       "22   skin fibroblast (BTO:0001255)  \n",
       "24   skin fibroblast (BTO:0001255)  \n",
       "34  skin cancer cell (BTO:0001286)  \n",
       "36  skin cancer cell (BTO:0001286)  \n",
       "37  skin cancer cell (BTO:0001286)  \n",
       "40  skin cancer cell (BTO:0001286)  \n",
       "42  skin cancer cell (BTO:0001286)  \n",
       "45  skin cancer cell (BTO:0001286)  \n",
       "51   skin fibroblast (BTO:0001255)  \n",
       "52  skin cancer cell (BTO:0001286)  \n",
       "54   skin fibroblast (BTO:0001255)  \n",
       "55  skin cancer cell (BTO:0001286)  \n",
       "56  skin cancer cell (BTO:0001286)  \n",
       "58  skin cancer cell (BTO:0001286)  \n",
       "59  skin cancer cell (BTO:0001286)  \n",
       "62  skin cancer cell (BTO:0001286)  "
      ]
     },
     "execution_count": 84,
     "metadata": {},
     "output_type": "execute_result"
    }
   ],
   "source": [
    "new_vs_old.query('parent_tissue_name != tissue_id_old') \\\n",
    "[['series', 'tissue_name', 'parent_tissue_name', 'tissue_id_old']][:20]\n"
   ]
  },
  {
   "cell_type": "code",
   "execution_count": 90,
   "metadata": {
    "collapsed": false
   },
   "outputs": [
    {
     "data": {
      "text/html": [
       "<div>\n",
       "<table border=\"1\" class=\"dataframe\">\n",
       "  <thead>\n",
       "    <tr style=\"text-align: right;\">\n",
       "      <th></th>\n",
       "      <th>series</th>\n",
       "      <th>tissue_name</th>\n",
       "      <th>parent_tissue_name</th>\n",
       "      <th>tissue_id_old</th>\n",
       "    </tr>\n",
       "  </thead>\n",
       "  <tbody>\n",
       "    <tr>\n",
       "      <th>430</th>\n",
       "      <td>GSE10433</td>\n",
       "      <td>NaN</td>\n",
       "      <td>NaN</td>\n",
       "      <td>skin (BTO:0001253)</td>\n",
       "    </tr>\n",
       "    <tr>\n",
       "      <th>431</th>\n",
       "      <td>GSE28384</td>\n",
       "      <td>NaN</td>\n",
       "      <td>NaN</td>\n",
       "      <td>dermis (BTO:0000294)</td>\n",
       "    </tr>\n",
       "    <tr>\n",
       "      <th>432</th>\n",
       "      <td>GSE33092</td>\n",
       "      <td>NaN</td>\n",
       "      <td>NaN</td>\n",
       "      <td>epidermis (BTO:0000404)</td>\n",
       "    </tr>\n",
       "    <tr>\n",
       "      <th>433</th>\n",
       "      <td>GSE40122</td>\n",
       "      <td>NaN</td>\n",
       "      <td>NaN</td>\n",
       "      <td>epidermis (BTO:0000404)</td>\n",
       "    </tr>\n",
       "    <tr>\n",
       "      <th>434</th>\n",
       "      <td>GSE52276</td>\n",
       "      <td>NaN</td>\n",
       "      <td>NaN</td>\n",
       "      <td>epidermis (BTO:0000404)</td>\n",
       "    </tr>\n",
       "  </tbody>\n",
       "</table>\n",
       "</div>"
      ],
      "text/plain": [
       "       series tissue_name parent_tissue_name            tissue_id_old\n",
       "430  GSE10433         NaN                NaN       skin (BTO:0001253)\n",
       "431  GSE28384         NaN                NaN     dermis (BTO:0000294)\n",
       "432  GSE33092         NaN                NaN  epidermis (BTO:0000404)\n",
       "433  GSE40122         NaN                NaN  epidermis (BTO:0000404)\n",
       "434  GSE52276         NaN                NaN  epidermis (BTO:0000404)"
      ]
     },
     "execution_count": 90,
     "metadata": {},
     "output_type": "execute_result"
    }
   ],
   "source": [
    "new_vs_old[new_vs_old.email_new.isnull()].query('tissue_id_old not in parent_tissue_name') \\\n",
    "[['series', 'tissue_name', 'parent_tissue_name', 'tissue_id_old']][:60]\n"
   ]
  },
  {
   "cell_type": "code",
   "execution_count": 91,
   "metadata": {
    "collapsed": false
   },
   "outputs": [
    {
     "data": {
      "text/html": [
       "<div>\n",
       "<table border=\"1\" class=\"dataframe\">\n",
       "  <thead>\n",
       "    <tr style=\"text-align: right;\">\n",
       "      <th></th>\n",
       "      <th>series</th>\n",
       "      <th>tissue_name</th>\n",
       "      <th>parent_tissue_name</th>\n",
       "      <th>tissue_id_old</th>\n",
       "    </tr>\n",
       "  </thead>\n",
       "  <tbody>\n",
       "  </tbody>\n",
       "</table>\n",
       "</div>"
      ],
      "text/plain": [
       "Empty DataFrame\n",
       "Columns: [series, tissue_name, parent_tissue_name, tissue_id_old]\n",
       "Index: []"
      ]
     },
     "execution_count": 91,
     "metadata": {},
     "output_type": "execute_result"
    }
   ],
   "source": [
    "new_vs_old.query('tissue_id_old not in parent_tissue_name') \\\n",
    "[['series', 'tissue_name', 'parent_tissue_name', 'tissue_id_old']][:60]\n"
   ]
  }
 ],
 "metadata": {
  "kernelspec": {
   "display_name": "Python 3",
   "language": "python",
   "name": "python3"
  },
  "language_info": {
   "codemirror_mode": {
    "name": "ipython",
    "version": 3
   },
   "file_extension": ".py",
   "mimetype": "text/x-python",
   "name": "python",
   "nbconvert_exporter": "python",
   "pygments_lexer": "ipython3",
   "version": "3.4.3"
  }
 },
 "nbformat": 4,
 "nbformat_minor": 0
}
