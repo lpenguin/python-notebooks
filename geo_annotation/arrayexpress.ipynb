{
 "cells": [
  {
   "cell_type": "code",
   "execution_count": 16,
   "metadata": {
    "collapsed": true
   },
   "outputs": [],
   "source": [
    "import requests as r\n",
    "import pandas as pd\n",
    "import numpy as np"
   ]
  },
  {
   "cell_type": "code",
   "execution_count": 44,
   "metadata": {
    "collapsed": true
   },
   "outputs": [],
   "source": [
    "# \n",
    "def read_ae(url):\n",
    "    return pd.read_table(url,\n",
    "                     na_values=['', '  '])"
   ]
  },
  {
   "cell_type": "code",
   "execution_count": 20,
   "metadata": {
    "collapsed": false
   },
   "outputs": [],
   "source": [
    "d = (\n",
    "        pd.read_table('https://www.ebi.ac.uk/arrayexpress/files/E-ERAD-216/E-ERAD-216.sdrf.txt',\n",
    "                     na_values=['', '  '])\n",
    "        .applymap(lambda x: x if not x == '' else np.nan)\n",
    "    )\n",
    "    "
   ]
  },
  {
   "cell_type": "code",
   "execution_count": 24,
   "metadata": {
    "collapsed": false
   },
   "outputs": [
    {
     "data": {
      "text/plain": [
       "45-49    68\n",
       "40-44    36\n",
       "60-64    16\n",
       "65-69     8\n",
       "50-54     8\n",
       "30-34     4\n",
       "55-59     4\n",
       "dtype: int64"
      ]
     },
     "execution_count": 24,
     "metadata": {},
     "output_type": "execute_result"
    }
   ],
   "source": [
    "d['Characteristics[age]'].dropna().value_counts()"
   ]
  },
  {
   "cell_type": "code",
   "execution_count": 25,
   "metadata": {
    "collapsed": false
   },
   "outputs": [
    {
     "data": {
      "text/plain": [
       "Index(['Source Name', 'Characteristics[organism]', 'Term Source REF',\n",
       "       'Term Accession Number', 'Characteristics[strain]',\n",
       "       'Characteristics[sample description]', 'Characteristics[Gender]',\n",
       "       'Characteristics[phenotype]', 'Characteristics[Donor Id]',\n",
       "       'Comment[BioSD_SAMPLE]', 'Comment[ENA_ALIAS]', 'Comment[ENA_SAMPLE]',\n",
       "       'Characteristics[Material]', 'Characteristics[sex]',\n",
       "       'Characteristics[disease state]', 'Characteristics[project]',\n",
       "       'Characteristics[cell type]', 'Characteristics[date of derivation]',\n",
       "       'Characteristics[method of derivation]',\n",
       "       'Characteristics[growing conditions]', 'Characteristics[sop url]',\n",
       "       'Characteristics[age]', 'Characteristics[ethnicity]', 'Protocol REF',\n",
       "       'Extract Name', 'Comment[LIBRARY_LAYOUT]', 'Comment[LIBRARY_SELECTION]',\n",
       "       'Comment[LIBRARY_SOURCE]', 'Comment[LIBRARY_STRATEGY]',\n",
       "       'Comment[NOMINAL_LENGTH]', 'Comment[NOMINAL_SDEV]', 'Protocol REF.1',\n",
       "       'Performer', 'Assay Name', 'Technology Type', 'Comment[ENA_EXPERIMENT]',\n",
       "       'Scan Name', 'Factor Value[sample description]', 'Factor Value[Gender]',\n",
       "       'Factor Value[Donor Id]', 'Factor Value[sex]', 'Factor Value[project]',\n",
       "       'Factor Value[cell type]', 'Factor Value[date of derivation]',\n",
       "       'Factor Value[method of derivation]',\n",
       "       'Factor Value[growing conditions]', 'Factor Value[age]',\n",
       "       'Factor Value[ethnicity]'],\n",
       "      dtype='object')"
      ]
     },
     "execution_count": 25,
     "metadata": {},
     "output_type": "execute_result"
    }
   ],
   "source": [
    "d.columns"
   ]
  },
  {
   "cell_type": "code",
   "execution_count": 29,
   "metadata": {
    "collapsed": false
   },
   "outputs": [],
   "source": [
    "d2 = (\n",
    "        pd.read_table('https://www.ebi.ac.uk/arrayexpress/files/E-MTAB-62/E-MTAB-62.sdrf.txt',\n",
    "                     na_values=['', '  '])\n",
    "    )"
   ]
  },
  {
   "cell_type": "code",
   "execution_count": 30,
   "metadata": {
    "collapsed": false
   },
   "outputs": [
    {
     "data": {
      "text/plain": [
       "Index(['Source Name', 'Characteristics[OperatorVariation]',\n",
       "       'Characteristics[DataSource]', 'Characteristics[4 meta-groups]',\n",
       "       'Characteristics[15 meta-groups]', 'Characteristics[369 groups]',\n",
       "       'Characteristics[groups with 10 and more replicates]',\n",
       "       'Characteristics[Blood/NonBlood meta-groups]',\n",
       "       'Characteristics[Organism]', 'Characteristics[OrganismPart]',\n",
       "       'Characteristics[CellType]', 'Characteristics[CellLine]',\n",
       "       'Characteristics[DiseaseState]', 'Characteristics[DevelopmentalStage]',\n",
       "       'Characteristics[DiseaseStage]', 'Characteristics[Sex]',\n",
       "       'Characteristics[Age]',\n",
       "       'Characteristics[Generalization 6 on reduced data]',\n",
       "       'Labeled Extract Name', 'Label', 'Hybridization Name',\n",
       "       'Array Design REF', 'Array Data File',\n",
       "       'Comment [ArrayExpress FTP file]', 'Protocol REF',\n",
       "       'Derived Array Data Matrix File',\n",
       "       'Comment [Derived ArrayExpress FTP file]',\n",
       "       'Factor Value[4 meta-groups]', 'Factor Value[15 meta-groups]',\n",
       "       'Factor Value[369 groups]', 'Factor Value[Blood-NonBlood meta-groups]',\n",
       "       'Factor Value[6 meta-groups]',\n",
       "       'Factor Value[4 groups from blood to incompletely diff]',\n",
       "       'Factor Value[96 groups]'],\n",
       "      dtype='object')"
      ]
     },
     "execution_count": 30,
     "metadata": {},
     "output_type": "execute_result"
    }
   ],
   "source": [
    "d2.columns"
   ]
  },
  {
   "cell_type": "code",
   "execution_count": 34,
   "metadata": {
    "collapsed": false
   },
   "outputs": [
    {
     "data": {
      "text/plain": [
       "((691, 34), (5372, 34))"
      ]
     },
     "execution_count": 34,
     "metadata": {},
     "output_type": "execute_result"
    }
   ],
   "source": [
    "d2[d2['Characteristics[Age]'].notnull()].shape, d2.shape"
   ]
  },
  {
   "cell_type": "code",
   "execution_count": 35,
   "metadata": {
    "collapsed": false
   },
   "outputs": [
    {
     "data": {
      "text/plain": [
       "Source Name                                                                                    GSM23227.CEL\n",
       "Characteristics[OperatorVariation]                                                  Richard,Steven,Mitchell\n",
       "Characteristics[DataSource]                                                                         GSE1410\n",
       "Characteristics[4 meta-groups]                                                                    cell line\n",
       "Characteristics[15 meta-groups]                                                    non neoplastic cell line\n",
       "Characteristics[369 groups]                                                                        293t-tva\n",
       "Characteristics[groups with 10 and more replicates]                                                     NaN\n",
       "Characteristics[Blood/NonBlood meta-groups]                                                       non blood\n",
       "Characteristics[Organism]                                                                      Homo sapiens\n",
       "Characteristics[OrganismPart]                                                                        kidney\n",
       "Characteristics[CellType]                                                                               NaN\n",
       "Characteristics[CellLine]                                                                          293t-tva\n",
       "Characteristics[DiseaseState]                                                                           NaN\n",
       "Characteristics[DevelopmentalStage]                                                                  embryo\n",
       "Characteristics[DiseaseStage]                                                                           NaN\n",
       "Characteristics[Sex]                                                                                    NaN\n",
       "Characteristics[Age]                                                                                    NaN\n",
       "Characteristics[Generalization 6 on reduced data]                                                       NaN\n",
       "Labeled Extract Name                                                                         GSM23227.CEL_L\n",
       "Label                                                                                                biotin\n",
       "Hybridization Name                                                                             GSM23227.CEL\n",
       "Array Design REF                                                                                  A-AFFY-33\n",
       "Array Data File                                                                                GSM23227.CEL\n",
       "Comment [ArrayExpress FTP file]                           ftp://ftp.ebi.ac.uk/pub/databases/microarray/d...\n",
       "Protocol REF                                                                                    P-MTAB-2072\n",
       "Derived Array Data Matrix File                                       hgu133a_rma_okFiles_080619_MAGETAB.csv\n",
       "Comment [Derived ArrayExpress FTP file]                   ftp://ftp.ebi.ac.uk/pub/databases/microarray/d...\n",
       "Factor Value[4 meta-groups]                                                                       cell line\n",
       "Factor Value[15 meta-groups]                                                       non neoplastic cell line\n",
       "Factor Value[369 groups]                                                                           293t-tva\n",
       "Factor Value[Blood-NonBlood meta-groups]                                                          non blood\n",
       "Factor Value[6 meta-groups]                                                                             NaN\n",
       "Factor Value[4 groups from blood to incompletely diff]                                             the rest\n",
       "Factor Value[96 groups]                                                                                    \n",
       "Name: 0, dtype: object"
      ]
     },
     "execution_count": 35,
     "metadata": {},
     "output_type": "execute_result"
    }
   ],
   "source": [
    "d2.iloc[0]"
   ]
  },
  {
   "cell_type": "code",
   "execution_count": 39,
   "metadata": {
    "collapsed": false
   },
   "outputs": [
    {
     "data": {
      "text/plain": [
       "GSE5258       324\n",
       "GSE7123       308\n",
       "GSE1159       284\n",
       "GSE4475       213\n",
       "E-AFMX-6      195\n",
       "GSE2990       167\n",
       "GSE1456       144\n",
       "GSE2603       113\n",
       "GSE6532       106\n",
       "GSE6008        97\n",
       "GSE6269        90\n",
       "GSE4922        81\n",
       "E-TABM-90      80\n",
       "GSE4271        77\n",
       "GSE3218        72\n",
       "E-MEXP-353     71\n",
       "GSE4824        66\n",
       "E-TABM-36      65\n",
       "GSE3307        60\n",
       "E-MEXP-313     59\n",
       "dtype: int64"
      ]
     },
     "execution_count": 39,
     "metadata": {},
     "output_type": "execute_result"
    }
   ],
   "source": [
    "d2['Characteristics[DataSource]'].value_counts()[:20]"
   ]
  },
  {
   "cell_type": "code",
   "execution_count": 40,
   "metadata": {
    "collapsed": false
   },
   "outputs": [
    {
     "data": {
      "text/plain": [
       "blood                                                               1089\n",
       "mammary gland                                                       1033\n",
       "bone marrow                                                          733\n",
       "lung                                                                 286\n",
       "brain                                                                166\n",
       "prostate                                                             116\n",
       "ovary                                                                116\n",
       "colon                                                                116\n",
       "kidney                                                                92\n",
       "skeletal muscle                                                       82\n",
       "skin                                                                  79\n",
       "brain caudate nucleus                                                 67\n",
       "liver                                                                 66\n",
       "brain cerebellum                                                      65\n",
       "bone                                                                  57\n",
       "bladder                                                               44\n",
       "cervix                                                                42\n",
       "umbilical vein                                                        42\n",
       "muscle                                                                40\n",
       "brain, frontal cortex, primary motor cortex, Brodmanns Area 4         33\n",
       "cardiac ventricle                                                     32\n",
       "brain, frontal cortex, superior frontal cortex, Brodmanns Area 9      30\n",
       "adipose tissue from abdomen                                           29\n",
       "lung transplant                                                       29\n",
       "atrial myocardium                                                     27\n",
       "thyroid                                                               26\n",
       "esophagus                                                             25\n",
       "uterus                                                                23\n",
       "placenta basal plate                                                  21\n",
       "hypothalamus                                                          20\n",
       "                                                                    ... \n",
       "T5 vertebra                                                            1\n",
       "chest wall                                                             1\n",
       "right buttock                                                          1\n",
       "right humerus                                                          1\n",
       "left leg                                                               1\n",
       "proximal epiphysis of right fibula                                     1\n",
       "right latissimus dorsi                                                 1\n",
       "rib cage                                                               1\n",
       "left tibia                                                             1\n",
       "fetal lung                                                             1\n",
       "peroneal nerve                                                         1\n",
       "lower back                                                             1\n",
       "left femur                                                             1\n",
       "left forearm                                                           1\n",
       "mediastinum                                                            1\n",
       "right axilla                                                           1\n",
       "ray of foot                                                            1\n",
       "pleura                                                                 1\n",
       "larynx                                                                 1\n",
       "vastus lateralis                                                       1\n",
       "uterine tube                                                           1\n",
       "myocardium (left ventricular)                                          1\n",
       "right elbow                                                            1\n",
       "T2 vertebra                                                            1\n",
       "left fibula                                                            1\n",
       "extracranial                                                           1\n",
       "neuroendocrine                                                         1\n",
       "left foot                                                              1\n",
       "iliac fossa                                                            1\n",
       "left calf                                                              1\n",
       "dtype: int64"
      ]
     },
     "execution_count": 40,
     "metadata": {},
     "output_type": "execute_result"
    }
   ],
   "source": [
    "d2['Characteristics[OrganismPart]'].value_counts()"
   ]
  },
  {
   "cell_type": "code",
   "execution_count": 43,
   "metadata": {
    "collapsed": false
   },
   "outputs": [
    {
     "data": {
      "text/plain": [
       "31    3\n",
       "38    2\n",
       "35    1\n",
       "58    1\n",
       "60    1\n",
       "28    1\n",
       "24    1\n",
       "26    1\n",
       "22    1\n",
       "43    1\n",
       "51    1\n",
       "dtype: int64"
      ]
     },
     "execution_count": 43,
     "metadata": {},
     "output_type": "execute_result"
    }
   ],
   "source": [
    "d2[d2['Characteristics[OrganismPart]'] == 'skin']['Characteristics[Age]'].value_counts()"
   ]
  },
  {
   "cell_type": "code",
   "execution_count": 45,
   "metadata": {
    "collapsed": true
   },
   "outputs": [],
   "source": [
    "dafmx5 = read_ae('https://www.ebi.ac.uk/arrayexpress/files/E-AFMX-5/E-AFMX-5.sdrf.txt')"
   ]
  },
  {
   "cell_type": "code",
   "execution_count": 47,
   "metadata": {
    "collapsed": false
   },
   "outputs": [
    {
     "data": {
      "text/plain": [
       "Source Name                                                                     BioSource:92\n",
       "Characteristics [Age]                                                   70 years since birth\n",
       "Term Source REF                                                                           mo\n",
       "Characteristics [Ethnicity]                                                        Caucasian\n",
       "Term Source REF.1                                                                         mo\n",
       "Characteristics [OrganismPart]                                  testis - seminiferous tubule\n",
       "Term Source REF.2                                                                         mo\n",
       "Characteristics [ClinicalHistory]                                                    Aspirin\n",
       "Term Source REF.3                                                                         mo\n",
       "Characteristics [Organism]                                                      Homo sapiens\n",
       "Term Source REF.4                                                                         mo\n",
       "Characteristics [Sex]                                                                   male\n",
       "Term Source REF.5                                                                        NaN\n",
       "Characteristics [BioSourceType]                                                frozen_sample\n",
       "Term Source REF.6                                                                         mo\n",
       "Characteristics [DevelopmentalStage]                                                   adult\n",
       "Characteristics [BioSourceProvider]                                                Clinomics\n",
       "Characteristics [CellType]                                                               NaN\n",
       "Characteristics [TargetedCellType]                                                       NaN\n",
       "Characteristics [DiseaseState]                                                           NaN\n",
       "Characteristics [Observation]                                                            NaN\n",
       "Protocol REF                                                                      P-AFMX-5.1\n",
       "Protocol REF.1                                                                    P-MEXP-709\n",
       "Extract Name                                                            EXTRACT:3AJZ02052114\n",
       "Material Type                                                                   nucleic_acid\n",
       "Protocol REF.2                                                                    P-MEXP-710\n",
       "Labeled Extract Name                                             LabeledExtract:1BJZ02052113\n",
       "Label                                                                                 Biotin\n",
       "Material Type.1                                                              labeled_extract\n",
       "Protocol REF.3                                                                    P-MEXP-719\n",
       "Hybridization Name                                      1BJZ02052113_TestiSeminiferousTubule\n",
       "Array Design REF                                                                   A-AFFY-40\n",
       "Term Source REF.7                                                               ArrayExpress\n",
       "Protocol REF.4                                                                      P-AFFY-6\n",
       "Factor Value [OrganismPart]                                     testis - seminiferous tubule\n",
       "Factor Value [TargetedCellType]                                                          NaN\n",
       "Factor Value [DiseaseState]                                                              NaN\n",
       "Scan Name                                               1BJZ02052113_TestiSeminiferousTubule\n",
       "Array Data File                                     1BJZ02052113_TestiSeminiferousTubule.CEL\n",
       "Comment [ArrayExpress FTP file]            ftp://ftp.ebi.ac.uk/pub/databases/microarray/d...\n",
       "Protocol REF.5                                            Affymetrix:Protocol:ExpressionStat\n",
       "Derived Array Data File                               E-AFMX-5-processed-data-1342292711.txt\n",
       "Comment [Derived ArrayExpress FTP file]    ftp://ftp.ebi.ac.uk/pub/databases/microarray/d...\n",
       "Name: 0, dtype: object"
      ]
     },
     "execution_count": 47,
     "metadata": {},
     "output_type": "execute_result"
    }
   ],
   "source": [
    "dafmx5.iloc[0]"
   ]
  },
  {
   "cell_type": "code",
   "execution_count": 49,
   "metadata": {
    "collapsed": false
   },
   "outputs": [
    {
     "data": {
      "text/plain": [
       "brain                           44\n",
       "testis                          32\n",
       "tumor                           24\n",
       "pancreas                        20\n",
       "tonsil                          16\n",
       "prefrontal cortex               16\n",
       "cingulate cortex                16\n",
       "subthalamic nucleus             16\n",
       "olfactory bulb                  16\n",
       "appendix                        16\n",
       "heart                           16\n",
       "testis - interstitial           16\n",
       "pons                            16\n",
       "skeletal muscle                 16\n",
       "testis - seminiferous tubule    16\n",
       "salivary gland                  16\n",
       "tongue                          12\n",
       "medulla oblongata               12\n",
       "superior cervical ganglion      12\n",
       "skin                            12\n",
       "ciliary ganglion                12\n",
       "dorsal root ganglion            12\n",
       "whole blood                     12\n",
       "adrenal cortex                  12\n",
       "lung                            12\n",
       "pituitary                        8\n",
       "uterus corpus                    8\n",
       "liver                            8\n",
       "ovary                            8\n",
       "cerebellum peduncles             8\n",
       "thyroid                          8\n",
       "trigeminal ganglion              8\n",
       "occipital lobe                   8\n",
       "adipose tissue                   4\n",
       "cerebellum                       4\n",
       "whole brain                      4\n",
       "smooth muscle                    4\n",
       "spinal cord                      4\n",
       "thymus                           4\n",
       "placenta                         4\n",
       "caudate nucleus                  4\n",
       "kidney                           4\n",
       "adrenal gland                    4\n",
       "thalamus                         4\n",
       "hypothalamus                     4\n",
       "prostate                         4\n",
       "trachea                          4\n",
       "uterus                           4\n",
       "lymph node                       4\n",
       "amygdala                         4\n",
       "bone marrow                      4\n",
       "dtype: int64"
      ]
     },
     "execution_count": 49,
     "metadata": {},
     "output_type": "execute_result"
    }
   ],
   "source": [
    "dafmx5[dafmx5['Characteristics [Organism]'] == 'Homo sapiens']['Characteristics [OrganismPart]'].value_counts()"
   ]
  },
  {
   "cell_type": "code",
   "execution_count": 57,
   "metadata": {
    "collapsed": false
   },
   "outputs": [],
   "source": [
    "q = 'https://www.ebi.ac.uk/arrayexpress/xml/v2/experiments?keywords=skin%20age&organism=Homo%20sapiens&exptype%5B0%5D=%22rna%20assay%22&exptype%5B1%5D=&array=&directsub=on&sortby=assays&sortorder=descending'\n",
    "import lxml\n",
    "from lxml import etree\n",
    "with open('../data/geo-annotation/ae-skin-age.xml') as f:\n",
    "    tree = etree.parse(f)\n",
    "\n",
    "# r.get(q).text"
   ]
  },
  {
   "cell_type": "code",
   "execution_count": 63,
   "metadata": {
    "collapsed": false
   },
   "outputs": [],
   "source": [
    "accessions = tree.xpath('//experiment/accession/text()')"
   ]
  },
  {
   "cell_type": "code",
   "execution_count": 66,
   "metadata": {
    "collapsed": true
   },
   "outputs": [],
   "source": [
    "def load_by_accession(accession):\n",
    "    url = 'https://www.ebi.ac.uk/arrayexpress/files/{accession}/{accession}.sdrf.txt'\n",
    "    return (\n",
    "        pd.read_table(url.format(accession=accession),\n",
    "                      na_values=['', '  '])\n",
    "        .assign(accession_id=lambda d: accession)\n",
    "    )"
   ]
  },
  {
   "cell_type": "code",
   "execution_count": 68,
   "metadata": {
    "collapsed": false
   },
   "outputs": [],
   "source": [
    "ds = pd.concat([load_by_accession(accession) for accession in accessions])"
   ]
  },
  {
   "cell_type": "code",
   "execution_count": 71,
   "metadata": {
    "collapsed": false
   },
   "outputs": [
    {
     "data": {
      "text/plain": [
       "['Array Data File',\n",
       " 'Array Design REF',\n",
       " 'Assay Name',\n",
       " 'Characteristics [%_Tumour_Cell_Content]',\n",
       " 'Characteristics [Age]',\n",
       " 'Characteristics [Age_at_Diagnosis]',\n",
       " 'Characteristics [BioSourceProvider]',\n",
       " 'Characteristics [BioSourceType]',\n",
       " 'Characteristics [Block_Age_at_RNA_Extraction_Years]',\n",
       " 'Characteristics [BreslowThickness]',\n",
       " 'Characteristics [CancerSite]',\n",
       " 'Characteristics [Cancer_Recurrence]',\n",
       " 'Characteristics [Cancer_Related_Death]',\n",
       " 'Characteristics [CellLine]',\n",
       " 'Characteristics [CellTy]',\n",
       " 'Characteristics [CellType]',\n",
       " 'Characteristics [ClinicalHistory]',\n",
       " 'Characteristics [ClinicalInformation]',\n",
       " 'Characteristics [Date_of_Cancer_Recurrence]',\n",
       " 'Characteristics [Date_of_Cancer_Related_Death]',\n",
       " 'Characteristics [Date_of_Surgery]',\n",
       " 'Characteristics [DevelopmentalStage]',\n",
       " 'Characteristics [DevelopmentalStage].1',\n",
       " 'Characteristics [Diagnosis Date]',\n",
       " 'Characteristics [DiseaseLocati]',\n",
       " 'Characteristics [DiseaseLocation]',\n",
       " 'Characteristics [DiseaseLocation].1',\n",
       " 'Characteristics [DiseaseOutcome]',\n",
       " 'Characteristics [DiseaseOutcome].1',\n",
       " 'Characteristics [DiseaseStaging]',\n",
       " 'Characteristics [DiseaseStaging].1',\n",
       " 'Characteristics [DiseaseState]',\n",
       " 'Characteristics [ERBB2: Protein expression]',\n",
       " 'Characteristics [ESR1: Protein expression]',\n",
       " 'Characteristics [Ethnicity]',\n",
       " 'Characteristics [Family_History_of_CRC]',\n",
       " 'Characteristics [GeneticModification]',\n",
       " 'Characteristics [Grade: Scarff Bloom Richardson]',\n",
       " 'Characteristics [Haplotype]',\n",
       " 'Characteristics [Histology]',\n",
       " 'Characteristics [Histology].1',\n",
       " 'Characteristics [Histology].2',\n",
       " 'Characteristics [IndividualGeneticCharacteristics]',\n",
       " 'Characteristics [Individual]',\n",
       " 'Characteristics [InitialTimePoint]',\n",
       " 'Characteristics [Last_Followup_Date]',\n",
       " 'Characteristics [Length_of_Followup_Years]',\n",
       " 'Characteristics [Lymphovascular_Invasion]',\n",
       " 'Characteristics [Maximum_Tumour_Diameter_cm]',\n",
       " 'Characteristics [No_Positive_Nodes]',\n",
       " 'Characteristics [No_Regional_Lymph_Nodes_Assessed]',\n",
       " 'Characteristics [Observation]',\n",
       " 'Characteristics [Observation].1',\n",
       " 'Characteristics [Observation].2',\n",
       " 'Characteristics [OrganismPa]',\n",
       " 'Characteristics [OrganismPart]',\n",
       " 'Characteristics [OrganismPart].1',\n",
       " 'Characteristics [OrganismStatus]',\n",
       " 'Characteristics [Organism]',\n",
       " 'Characteristics [OrgansimPart]',\n",
       " 'Characteristics [PGR: Protein expression]',\n",
       " 'Characteristics [Personal_History_of_FAP]',\n",
       " 'Characteristics [Personal_History_of_HNPCC]',\n",
       " 'Characteristics [Phenotype - TP53: Gene mutation: Status]',\n",
       " 'Characteristics [Ploidy]',\n",
       " 'Characteristics [Ploidy].1',\n",
       " 'Characteristics [Primary_Tumour_Location]',\n",
       " 'Characteristics [Prognosis]',\n",
       " 'Characteristics [Recurrence_Site]',\n",
       " 'Characteristics [Relapse: Metastasis Bone]',\n",
       " 'Characteristics [Relapse: Metastasis Central Nervous System]',\n",
       " 'Characteristics [Relapse: Metastasis Date]',\n",
       " 'Characteristics [Relapse: Metastasis]',\n",
       " 'Characteristics [Relapse: Metastatic Bone delay(month)]',\n",
       " 'Characteristics [Relapse: Metastatic Central Nervous System delay months]',\n",
       " 'Characteristics [Relapse: Metastatic Liver delay months]',\n",
       " 'Characteristics [Relapse: Metastatic Liver]',\n",
       " 'Characteristics [Relapse: Metastatic Lung delay months]',\n",
       " 'Characteristics [Relapse: Metastatic Lung]',\n",
       " 'Characteristics [Relapse: Metastatic Lymph node Distant]',\n",
       " 'Characteristics [Relapse: Metastatic Lymph nodes Distant delay months]',\n",
       " 'Characteristics [Relapse: Metastatic Serous membrane]',\n",
       " 'Characteristics [Relapse: Metastatic Skin delay months]',\n",
       " 'Characteristics [Relapse: Metastatic Skin]',\n",
       " 'Characteristics [Relapse: Metastatic delay]',\n",
       " 'Characteristics [Relapse::Metastatic Serous membrane delay months]',\n",
       " 'Characteristics [Sex]',\n",
       " 'Characteristics [StrainOrLine]',\n",
       " 'Characteristics [Survival_Status_at_Last_Followup]',\n",
       " 'Characteristics [TNM::N]',\n",
       " 'Characteristics [TargetedCellTy]',\n",
       " 'Characteristics [TargetedCellType]',\n",
       " 'Characteristics [Test]',\n",
       " 'Characteristics [Test].1',\n",
       " 'Characteristics [Test].2',\n",
       " 'Characteristics [Test].3',\n",
       " 'Characteristics [Test].4',\n",
       " 'Characteristics [Test].5',\n",
       " 'Characteristics [Test].6',\n",
       " 'Characteristics [Test].7',\n",
       " 'Characteristics [Test].8',\n",
       " 'Characteristics [Test].9',\n",
       " 'Characteristics [Test_]',\n",
       " 'Characteristics [TimeToMetastas]',\n",
       " 'Characteristics [TimeToMetastasis]',\n",
       " 'Characteristics [TimeUnit]',\n",
       " 'Characteristics [Time_to_Cancer_Recurrence_Years]',\n",
       " 'Characteristics [Time_to_Cancer_Related_Death_Years]',\n",
       " 'Characteristics [TumorGrading]',\n",
       " 'Characteristics [Tumour_Grade]',\n",
       " 'Characteristics [Tumour_Subtype]',\n",
       " 'Characteristics [age]',\n",
       " 'Characteristics [developmental stage]',\n",
       " 'Characteristics [disease state]',\n",
       " 'Characteristics [injury]',\n",
       " 'Characteristics [organism part]',\n",
       " 'Characteristics [organism]',\n",
       " 'Characteristics [pM_Stage]',\n",
       " 'Characteristics [pN_Stage]',\n",
       " 'Characteristics [pT_Stage]',\n",
       " 'Characteristics [sex]',\n",
       " 'Characteristics [specimen with known storage state]',\n",
       " 'Characteristics[15 meta-groups]',\n",
       " 'Characteristics[369 groups]',\n",
       " 'Characteristics[4 meta-groups]',\n",
       " 'Characteristics[Age]',\n",
       " 'Characteristics[BioSourceType]',\n",
       " 'Characteristics[Blood/NonBlood meta-groups]',\n",
       " 'Characteristics[CIT classification]',\n",
       " 'Characteristics[CellLine]',\n",
       " 'Characteristics[CellType]',\n",
       " 'Characteristics[ClinicalHistory]',\n",
       " 'Characteristics[DataSource]',\n",
       " 'Characteristics[Delay:Metastasis_Free_Survival months]',\n",
       " 'Characteristics[Delay:Overall_Survival months]',\n",
       " 'Characteristics[Derived To]',\n",
       " 'Characteristics[DevelopmentalStage]',\n",
       " 'Characteristics[DiseaseStage]',\n",
       " 'Characteristics[DiseaseStaging]',\n",
       " 'Characteristics[DiseaseState]',\n",
       " 'Characteristics[Donor Id]',\n",
       " 'Characteristics[Ethnicity]',\n",
       " 'Characteristics[Gender]',\n",
       " 'Characteristics[Generalization 6 on reduced data]',\n",
       " 'Characteristics[Genotype]',\n",
       " 'Characteristics[Individual]',\n",
       " 'Characteristics[Material]',\n",
       " 'Characteristics[OperatorVariation]',\n",
       " 'Characteristics[OrganismPart]',\n",
       " 'Characteristics[Organism]',\n",
       " 'Characteristics[RNAi]',\n",
       " 'Characteristics[Sex]',\n",
       " 'Characteristics[TargetedCellType]',\n",
       " 'Characteristics[TimeUnit]',\n",
       " 'Characteristics[age]',\n",
       " 'Characteristics[burn injury]',\n",
       " 'Characteristics[cell line]',\n",
       " 'Characteristics[cell type]',\n",
       " 'Characteristics[clinical history]',\n",
       " 'Characteristics[compound]',\n",
       " 'Characteristics[date of derivation]',\n",
       " 'Characteristics[developmental stage]',\n",
       " 'Characteristics[disease state]',\n",
       " 'Characteristics[disease]',\n",
       " 'Characteristics[ethnicity]',\n",
       " 'Characteristics[freeze media]',\n",
       " 'Characteristics[genotype]',\n",
       " 'Characteristics[gestational age]',\n",
       " 'Characteristics[groups with 10 and more replicates]',\n",
       " 'Characteristics[growing conditions]',\n",
       " 'Characteristics[growth condition]',\n",
       " 'Characteristics[individual]',\n",
       " 'Characteristics[injury type]',\n",
       " 'Characteristics[media]',\n",
       " 'Characteristics[metastatic tissue]',\n",
       " 'Characteristics[metatastic tissue]',\n",
       " 'Characteristics[method of derivation]',\n",
       " 'Characteristics[organism part]',\n",
       " 'Characteristics[organism]',\n",
       " 'Characteristics[phenotype]',\n",
       " 'Characteristics[project]',\n",
       " 'Characteristics[sample description]',\n",
       " 'Characteristics[sample lot number]',\n",
       " 'Characteristics[sex]',\n",
       " 'Characteristics[skin source site]',\n",
       " 'Characteristics[sop url]',\n",
       " 'Characteristics[specimen of known storage type]',\n",
       " 'Characteristics[stimulus]',\n",
       " 'Characteristics[strain]',\n",
       " 'Characteristics[technical replicate] ',\n",
       " 'Characteristics[time since injury]',\n",
       " 'Characteristics[tissue supergroup]',\n",
       " 'Comment [Array Design URI]',\n",
       " 'Comment [ArrayExpress FTP file]',\n",
       " 'Comment [ArrayExpress accession]',\n",
       " 'Comment [Derived ArrayExpress Data Matrix FTP file]',\n",
       " 'Comment [Derived ArrayExpress FTP file]',\n",
       " 'Comment [Derived ArrayExpress FTP file].1',\n",
       " 'Comment[Array serial number]',\n",
       " 'Comment[BioSD_SAMPLE]',\n",
       " 'Comment[Biological Replicates]',\n",
       " 'Comment[CDF]',\n",
       " 'Comment[Center]',\n",
       " 'Comment[ENA_ALIAS]',\n",
       " 'Comment[ENA_EXPERIMENT]',\n",
       " 'Comment[ENA_RUN]',\n",
       " 'Comment[ENA_SAMPLE]',\n",
       " 'Comment[EXP]',\n",
       " 'Comment[FASTQ_URI]',\n",
       " 'Comment[LIBRARY_LAYOUT]',\n",
       " 'Comment[LIBRARY_SELECTION]',\n",
       " 'Comment[LIBRARY_SOURCE]',\n",
       " 'Comment[LIBRARY_STRATEGY]',\n",
       " 'Comment[NOMINAL_LENGTH]',\n",
       " 'Comment[NOMINAL_SDEV]',\n",
       " 'Comment[OD260/230]',\n",
       " 'Comment[OD260/280]',\n",
       " 'Comment[RIKEN library name]',\n",
       " 'Comment[RNA integrity number]',\n",
       " 'Comment[SUBMITTED_FILE_NAME]',\n",
       " 'Comment[catalogue number]',\n",
       " 'Comment[technical replicate group]',\n",
       " 'Derived Array Data File',\n",
       " 'Derived Array Data Matrix File',\n",
       " 'Description',\n",
       " 'Description.1',\n",
       " 'Description.2',\n",
       " 'Extract Name',\n",
       " 'Factor Value [Age]',\n",
       " 'Factor Value [CELL_LINE]',\n",
       " 'Factor Value [COMPOUND]',\n",
       " 'Factor Value [CancerSite]',\n",
       " 'Factor Value [ClinialInformation]',\n",
       " 'Factor Value [ClinicalInformation]',\n",
       " 'Factor Value [Compound1]',\n",
       " 'Factor Value [Compound2]',\n",
       " 'Factor Value [DEVELOPMENTAL STAGE]',\n",
       " 'Factor Value [DISEASESTATE]',\n",
       " 'Factor Value [DISEASE_STATE]',\n",
       " 'Factor Value [DNA index]',\n",
       " 'Factor Value [DOSE]',\n",
       " 'Factor Value [DiseaseStaging - evolution]',\n",
       " 'Factor Value [DiseaseStaging]',\n",
       " 'Factor Value [DiseaseState:4y]',\n",
       " 'Factor Value [DiseaseState]',\n",
       " 'Factor Value [EventFreeSurvival]',\n",
       " 'Factor Value [HISTOLOGY]',\n",
       " 'Factor Value [Individual]',\n",
       " 'Factor Value [MO:CellType]',\n",
       " 'Factor Value [MO:Compound]',\n",
       " 'Factor Value [MO:Genotype]',\n",
       " 'Factor Value [Major S phase]',\n",
       " 'Factor Value [Morphology]',\n",
       " 'Factor Value [ORGANISM PART]',\n",
       " 'Factor Value [ORGANISM]',\n",
       " 'Factor Value [OrganismPart]',\n",
       " 'Factor Value [OverallSurvival]',\n",
       " 'Factor Value [Phenotype]',\n",
       " 'Factor Value [Ploidy]',\n",
       " 'Factor Value [Relapse]',\n",
       " 'Factor Value [TARGETED CELL TYPE]',\n",
       " 'Factor Value [TargetedCellType]',\n",
       " 'Factor Value [Tissue type]',\n",
       " 'Factor Value [age]',\n",
       " 'Factor Value [amplification method]',\n",
       " 'Factor Value [burn injury]',\n",
       " 'Factor Value [cell line]',\n",
       " 'Factor Value [cell type]',\n",
       " 'Factor Value [disease state]',\n",
       " 'Factor Value [organism part]',\n",
       " 'Factor Value [perivascular_pattern]',\n",
       " 'Factor Value [sex]',\n",
       " 'Factor Value[15 meta-groups]',\n",
       " 'Factor Value[369 groups]',\n",
       " 'Factor Value[4 groups from blood to incompletely diff]',\n",
       " 'Factor Value[4 meta-groups]',\n",
       " 'Factor Value[6 meta-groups]',\n",
       " 'Factor Value[96 groups]',\n",
       " 'Factor Value[Blood-NonBlood meta-groups]',\n",
       " 'Factor Value[CANCER_RECURRENCE]',\n",
       " 'Factor Value[COMPOUND]',\n",
       " 'Factor Value[DISEASESTATE]',\n",
       " 'Factor Value[DISEASE_STATE]',\n",
       " 'Factor Value[DOSE]',\n",
       " 'Factor Value[Derived To]',\n",
       " 'Factor Value[Donor Id]',\n",
       " 'Factor Value[Gender]',\n",
       " 'Factor Value[GrowthCondition]',\n",
       " 'Factor Value[PRE-TREATMENT]',\n",
       " 'Factor Value[TIME]',\n",
       " 'Factor Value[Time]',\n",
       " 'Factor Value[age]',\n",
       " 'Factor Value[cell line]',\n",
       " 'Factor Value[cell type]',\n",
       " 'Factor Value[date of derivation]',\n",
       " 'Factor Value[developmental stage]',\n",
       " 'Factor Value[disease state]',\n",
       " 'Factor Value[disease]',\n",
       " 'Factor Value[ethnicity]',\n",
       " 'Factor Value[growing conditions]',\n",
       " 'Factor Value[injury type]',\n",
       " 'Factor Value[method of derivation]',\n",
       " 'Factor Value[organism part]',\n",
       " 'Factor Value[project]',\n",
       " 'Factor Value[sample description]',\n",
       " 'Factor Value[sex]',\n",
       " 'Factor Value[time since injury]',\n",
       " 'FactorValue [developmental stage]',\n",
       " 'FactorValue[COMPOUND]',\n",
       " 'FactorValue[DISEASE_STATE]',\n",
       " 'FactorValue[PRE-TREATMENT]',\n",
       " 'Hybridization Name',\n",
       " 'Label',\n",
       " 'Labeled Extract Name',\n",
       " 'LabeledExtract Name',\n",
       " 'Material Type',\n",
       " 'Material Type.1',\n",
       " 'Material Type.2',\n",
       " 'Material Type.3',\n",
       " 'Normalization Name',\n",
       " 'Parameter Value [Amount of nucleic acid labeled]',\n",
       " 'Parameter Value [Amplification]',\n",
       " 'Parameter Value [Amplification].1',\n",
       " 'Parameter Value [Chamber type]',\n",
       " 'Parameter Value [Extracted product]',\n",
       " 'Parameter Value [First Stain Time (seconds)]',\n",
       " 'Parameter Value [Holding Temperature (C)]',\n",
       " 'Parameter Value [Hybridization Concentration]',\n",
       " 'Parameter Value [Hybridization Temperature]',\n",
       " 'Parameter Value [Hybridization Time]',\n",
       " 'Parameter Value [Hybridization Volume]',\n",
       " 'Parameter Value [Label used]',\n",
       " 'Parameter Value [Labeled Nucleic Acid Amount]',\n",
       " 'Parameter Value [Mixes per Wash A1 Cycle]',\n",
       " 'Parameter Value [Mixes per Wash A2 Cycle]',\n",
       " 'Parameter Value [Mixes per Wash A3 Cycle]',\n",
       " 'Parameter Value [Mixes per Wash B Cycle]',\n",
       " 'Parameter Value [Nucleic Acid Starting Amount]',\n",
       " 'Parameter Value [Number of Wash A1 Cycles]',\n",
       " 'Parameter Value [Number of Wash A2 Cycles]',\n",
       " 'Parameter Value [Number of Wash A3 Cycles]',\n",
       " 'Parameter Value [Number of Wash B Cycles]',\n",
       " 'Parameter Value [Quantity of label target used]',\n",
       " 'Parameter Value [Second Stain Time (seconds)]',\n",
       " 'Parameter Value [Stain Temperature (C)]',\n",
       " 'Parameter Value [Temperature]',\n",
       " 'Parameter Value [Third Stain Time (seconds)]',\n",
       " 'Parameter Value [Time]',\n",
       " 'Parameter Value [Volume]',\n",
       " 'Parameter Value [Wash A1 Recovery Mixes]',\n",
       " 'Parameter Value [Wash A1 Temperature (C)]',\n",
       " 'Parameter Value [Wash A2 Recovery Mixes]',\n",
       " 'Parameter Value [Wash A2 Temperature (C)]',\n",
       " 'Parameter Value [Wash A3 Recovery Mixes]',\n",
       " 'Parameter Value [Wash A3 Temperature (C)]',\n",
       " 'Parameter Value [Wash B Recovery Mixes]',\n",
       " 'Parameter Value [Wash B Temperature (C)]',\n",
       " 'Parameter Value [amount of nucleic acid labeled]',\n",
       " 'Parameter Value [amplification]',\n",
       " 'Parameter Value [chamber type]',\n",
       " 'Parameter Value [duration]',\n",
       " 'Parameter Value [hyb temp]',\n",
       " 'Parameter Value [label used]',\n",
       " 'Parameter Value [media]',\n",
       " 'Parameter Value [min temperature]',\n",
       " 'Parameter Value [product]',\n",
       " 'Parameter Value [quantity of labeled extract used]',\n",
       " 'Parameter Value [scanner type]',\n",
       " 'Parameter Value [start Time]',\n",
       " 'Parameter Value [stop time]',\n",
       " 'Parameter Value [temperature]',\n",
       " 'Parameter Value [time]',\n",
       " 'Parameter Value [volume]',\n",
       " 'Performer',\n",
       " 'Protocol REF',\n",
       " 'Protocol REF.1',\n",
       " 'Protocol REF.2',\n",
       " 'Protocol REF.3',\n",
       " 'Protocol REF.4',\n",
       " 'Protocol REF.5',\n",
       " 'Protocol REF.6',\n",
       " 'Protocol REF.7',\n",
       " 'Protocol REF.8',\n",
       " 'Protocol REF.9',\n",
       " 'Provider',\n",
       " 'Sample Name',\n",
       " 'Scan Name',\n",
       " 'Source Name',\n",
       " 'Technology Type',\n",
       " 'Term Accession Number',\n",
       " 'Term Accession Number.1',\n",
       " 'Term Accession Number.2',\n",
       " 'Term Accession Number.3',\n",
       " 'Term Accession Number.4',\n",
       " 'Term Accession Number.5',\n",
       " 'Term Accession Number.6',\n",
       " 'Term Accession Number.7',\n",
       " 'Term Accession Number.8',\n",
       " 'Term Source REF',\n",
       " 'Term Source REF.1',\n",
       " 'Term Source REF.2',\n",
       " 'Term Source REF.3',\n",
       " 'Term Source REF.4',\n",
       " 'Term Source REF.5',\n",
       " 'Term Source REF.6',\n",
       " 'Term Source REF.7',\n",
       " 'Term Source REF.8',\n",
       " 'Unit [ConcentrationUnit]',\n",
       " 'Unit [MassUnit]',\n",
       " 'Unit [MassUnit].1',\n",
       " 'Unit [TemperatureUnit]',\n",
       " 'Unit [TimeUnit]',\n",
       " 'Unit [VolumeUnit]',\n",
       " 'Unit [age unit]',\n",
       " 'Unit [other]',\n",
       " 'Unit [other].1',\n",
       " 'Unit [time unit]',\n",
       " 'Unit[ConcentrationUnit]',\n",
       " 'Unit[TimeUnit]',\n",
       " 'Unit[TimeUnit].1',\n",
       " 'Unit[TimeUnit].2',\n",
       " 'Unit[other]',\n",
       " 'Unit[time unit]',\n",
       " 'accession_id']"
      ]
     },
     "execution_count": 71,
     "metadata": {},
     "output_type": "execute_result"
    }
   ],
   "source": [
    "ds.columns.tolist()"
   ]
  },
  {
   "cell_type": "code",
   "execution_count": 72,
   "metadata": {
    "collapsed": false
   },
   "outputs": [
    {
     "data": {
      "text/plain": [
       "blood                                                               1089\n",
       "mammary gland                                                       1033\n",
       "bone marrow                                                          733\n",
       "lung                                                                 286\n",
       "skin                                                                 198\n",
       "brain                                                                166\n",
       "colon                                                                116\n",
       "ovary                                                                116\n",
       "prostate                                                             116\n",
       "kidney                                                                92\n",
       "skeletal muscle                                                       82\n",
       "brain caudate nucleus                                                 67\n",
       "liver                                                                 66\n",
       "brain cerebellum                                                      65\n",
       "bone                                                                  57\n",
       "bladder                                                               44\n",
       "umbilical vein                                                        42\n",
       "cervix                                                                42\n",
       "muscle                                                                40\n",
       "brain, frontal cortex, primary motor cortex, Brodmanns Area 4         33\n",
       "cardiac ventricle                                                     32\n",
       "brain, frontal cortex, superior frontal cortex, Brodmanns Area 9      30\n",
       "adipose tissue from abdomen                                           29\n",
       "lung transplant                                                       29\n",
       "atrial myocardium                                                     27\n",
       "thyroid                                                               26\n",
       "esophagus                                                             25\n",
       "uterus                                                                23\n",
       "placenta basal plate                                                  21\n",
       "bronchial epithelia, current smoker                                   20\n",
       "                                                                    ... \n",
       "right humerus                                                          1\n",
       "left fibula                                                            1\n",
       "right elbow                                                            1\n",
       "larynx                                                                 1\n",
       "iliac fossa                                                            1\n",
       "vastus lateralis                                                       1\n",
       "fetal lung                                                             1\n",
       "proximal epiphysis of right fibula                                     1\n",
       "right latissimus dorsi                                                 1\n",
       "Blood                                                                  1\n",
       "adrenal gland                                                          1\n",
       "neuroendocrine                                                         1\n",
       "T2 vertebra                                                            1\n",
       "peroneal nerve                                                         1\n",
       "chest wall                                                             1\n",
       "rib cage                                                               1\n",
       "left calf                                                              1\n",
       "mediastinum                                                            1\n",
       "left femur                                                             1\n",
       "ray of foot                                                            1\n",
       "left forearm                                                           1\n",
       "amygdala                                                               1\n",
       "caudate nucleus                                                        1\n",
       "aorta                                                                  1\n",
       "left leg                                                               1\n",
       "myocardium (left ventricular)                                          1\n",
       "pleura                                                                 1\n",
       "lower back                                                             1\n",
       "left tibia                                                             1\n",
       "uterine tube                                                           1\n",
       "dtype: int64"
      ]
     },
     "execution_count": 72,
     "metadata": {},
     "output_type": "execute_result"
    }
   ],
   "source": [
    "ds['Characteristics[OrganismPart]'].value_counts()"
   ]
  },
  {
   "cell_type": "code",
   "execution_count": 79,
   "metadata": {
    "collapsed": false
   },
   "outputs": [],
   "source": [
    "ex_texts = dict([(ex.xpath('accession/text()')[0], desc) \n",
    "                 for ex in tree.xpath('//experiment') \n",
    "                 for desc in ex.xpath('description/text/text()')])"
   ]
  },
  {
   "cell_type": "code",
   "execution_count": 80,
   "metadata": {
    "collapsed": false
   },
   "outputs": [
    {
     "data": {
      "text/plain": [
       "39"
      ]
     },
     "execution_count": 80,
     "metadata": {},
     "output_type": "execute_result"
    }
   ],
   "source": [
    "len(ex_texts)"
   ]
  },
  {
   "cell_type": "code",
   "execution_count": 84,
   "metadata": {
    "collapsed": false
   },
   "outputs": [
    {
     "data": {
      "text/plain": [
       "[('E-MEXP-1214',\n",
       "  'RNA expression profiling was carried out for systemic sclerosis (scleroderma) on >>SKIN<< biopsies obtained from both diffuse scleroderma (dcSSc) and limited scleroderma (lcSSc) subjects patients and compared to normal subjects. The patient group comprised of 4 dcSSc and 2 lcSSc subjects, all of whom were Caucasian and belonged to the age range of 42-73 (Mean age = 61.6). Patient sample set consisted of 3 females and 3 males. Race matched female volunteers from the same geographical area were recruited as controls (n = 4) and belonged to the age range of 41-62 (Mean age = 52).'),\n",
       " ('E-ERAD-216',\n",
       "  'The HipSci project brings together diverse constituents in genomics, proteomics, cell biology and clinical genetics to create a UK national iPS cell resource and use it to carry out cellular genetic studies.  In this sup-study we perform RNAseq on iPS cells generated from >>SKIN<< biopsies from healthy volunteers.'),\n",
       " ('E-MTAB-352',\n",
       "  'Comparison of transcriptomes between CYLD defective >>SKIN<< tumours and perilesional >>SKIN<<'),\n",
       " ('E-MEXP-417',\n",
       "  'Patients with the diffuse avascular form of Systemic Sclerosis (SSc) and healthy controls (N) were used as sources of microvascular endothelial cells (MVEC). MVEC were obtained from biopsies of involved >>SKIN<< of the hands in 6 SSc patients and from 6 healthy patients undergoing surgery for traumatic events at the hands. The controls were matched by age and sex to the SSc cases. All patients fulfilled the American College of Rheumatology criteria for SSc, as well as the criteria for the diffuse form of the disease.'),\n",
       " ('E-MTAB-617',\n",
       "  'Transcriptional analysis of a clinical case of acute dioxin poisoning. Tissue sampling : patient 5 months and patient 11 months : >>SKIN<< biopsieson the face under general anaesthesia; controls 1-4 : retroauricular >>SKIN<< biopsies under local anaesthesia'),\n",
       " ('E-MEXP-3859',\n",
       "  'Lichen planopilaris (LPP) is a chronic inflammatory disease of unknown pathogenesis that leads to permanent hair loss. Whilst destruction of epithelial hair follicle stem cells (eHFSCs) that reside in an immunologically protected niche of the HF epithelium, the bulge, is a likely key event in LPP pathogenesis, this remains to be demonstrated. Laser capture microdissection of bulge cells from biopsies of lesional and non-lesional scalp >>SKIN<< from adult LPP patients were analyzed by microarray analysis.'),\n",
       " ('E-MTAB-1323',\n",
       "  'Full thickness and deep partial thickness burn injuries heal by scarring.  There are several mechanisms thought to be essential for the development of burn scars, but a challenge to studying the >>SKIN<< response to burn injury is that there are few animal models of burn scarring that are either clinically similar to human burn scars or are practical for most investigators to use.  The purpose of this study was to examine the changes in RNA expression in human >>SKIN<< to burn injury.  This was done by comparing pre-injury tissue from otherwise healthy adults undergoing aesthetic scarification created by branding with a hot metal object to serial samples of untreated wounds in the same subjects.'),\n",
       " ('E-TABM-227',\n",
       "  'We microprepared native mammary >>SKIN<< resections from healthy female  donors (breast size reduction) by a combination of enzymatic and  mechanical treatment. The resulting suspensions of single dermal cells  were then subjected to FACSorting using antibodies against the  lymphovascular marker protein podoplanin and the panendothelial protein  CD31 as positive and the leukocytic protein CD45 as negative markers.  We aimed at separating lymphatic vascular endothelial cells (LECs) from  blood vascular endothelial cells (BECs) in order to characterize their  moelcular and functional phenotypes in health and disease. We found that lymphatic endothelial cells consisted of two instead of  only one cell population. Their discrimination marker was high versus  low expression of podoplanin surface protein, respectively. Especially,  the low-podoplanin expressors were undescribed. Thus, we screened for  their transcription profile using U133A. We identified specific marker  genes and finally have assigned a specific function to the novel LEC  subpopulation unknown up to now. Importantly, we did not use lysates  from cell culture, but from ex vivo cells. Thus, there was no treatment  of cells except processing the samples on ice.'),\n",
       " ('E-MEXP-66',\n",
       "  'Identification of the relationships of Kaposi sarcoma (KS), normal >>SKIN<< to various cell cultures. The effects of KS herpes virus, the infectious cause of KS, on infected endothelial cells are also investigated.'),\n",
       " ('E-MTAB-729',\n",
       "  'mRNA array analysis was carried out using total RNA of >>SKIN<< biopsies from lesional and non-lesional >>SKIN<< of three atopic dermatitits patients and four healthy individuals.'),\n",
       " ('E-TABM-440',\n",
       "  'Cellular decisions leading to a sustained cellular migration constitute a critical parameter during wound healing and metastasis. Cellular decision processes for migration involve signaling pathways as well as gene expression regulation that have been not yet studied in an integrated way. Here, heterologous cocultures combining primary human keratinocytes and genetically defined murine fibroblasts served as a model for wound healing of human >>SKIN<< to gain a systemic view of the underlying principles of cellular decision making towards migration. By inverse modeling of time series of gene expression data followed by experimental validation we show that (I) pulse-like activation of the proto-oncogene receptor Met by its ligand HGF triggers a responsive system state, (II) permanent, time sequential activation of the EGF-receptor is required to initiate and sustain migration, and (III), context information for enhancing, delaying or stopping migration is provided via the activity of the PKA-signaling pathway. Our study reveals a complex orchestration of events controlling cell migration.')]"
      ]
     },
     "execution_count": 84,
     "metadata": {},
     "output_type": "execute_result"
    }
   ],
   "source": [
    "[(ac, text.replace('skin', '>>SKIN<<') ) for ac, text in ex_texts.items() if 'skin' in text.lower()]\n"
   ]
  }
 ],
 "metadata": {
  "kernelspec": {
   "display_name": "Python 3",
   "language": "python",
   "name": "python3"
  },
  "language_info": {
   "codemirror_mode": {
    "name": "ipython",
    "version": 3
   },
   "file_extension": ".py",
   "mimetype": "text/x-python",
   "name": "python",
   "nbconvert_exporter": "python",
   "pygments_lexer": "ipython3",
   "version": "3.4.3"
  }
 },
 "nbformat": 4,
 "nbformat_minor": 0
}
