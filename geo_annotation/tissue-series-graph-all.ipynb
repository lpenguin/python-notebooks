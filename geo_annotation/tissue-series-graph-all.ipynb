{
 "cells": [
  {
   "cell_type": "code",
   "execution_count": 14,
   "metadata": {
    "collapsed": true
   },
   "outputs": [],
   "source": [
    "import sys\n",
    "sys.path.append('..')"
   ]
  },
  {
   "cell_type": "code",
   "execution_count": null,
   "metadata": {
    "collapsed": true
   },
   "outputs": [],
   "source": []
  },
  {
   "cell_type": "code",
   "execution_count": 15,
   "metadata": {
    "collapsed": false
   },
   "outputs": [],
   "source": [
    "from importlib import reload\n",
    "from os.path import exists\n",
    "\n",
    "import networkx as nx\n",
    "import numpy as np\n",
    "import pandas as pd\n",
    "import lib.obo\n",
    "import lib.classification.elastic\n",
    "import lib.classification.validation\n",
    "import lib.utils\n",
    "import data\n",
    "import pymonad\n",
    "\n",
    "reload(lib.classification.validation)\n",
    "reload(lib.classification.elastic)\n",
    "reload(lib.obo)\n",
    "reload(lib.utils)\n",
    "reload(data)\n",
    "\n",
    "from lib.classification.elastic import annotate_index, collapse_matches, build_synonyms_graph, search_item\n",
    "from lib.utils import map_series, expand_dataframe, expand, flatten\n",
    "from lib.classification.validation import correct_ratio, incorrect_ratio, perfect_match\n",
    "from geo_annotation.import_ontology_es import import_ontology\n",
    "from elasticsearch import Elasticsearch\n",
    "from lib.obo import read_ontology, Ontology\n",
    "pd.set_option('display.width', 512)"
   ]
  },
  {
   "cell_type": "code",
   "execution_count": 19,
   "metadata": {
    "collapsed": false
   },
   "outputs": [],
   "source": [
    "# import seaborn\n",
    "%matplotlib inline"
   ]
  },
  {
   "cell_type": "code",
   "execution_count": 5,
   "metadata": {
    "collapsed": true
   },
   "outputs": [],
   "source": [
    "# Вытаскиваем все семплы \n",
    "import pymongo\n",
    "db = pymongo.MongoClient().scraper_test_dev"
   ]
  },
  {
   "cell_type": "code",
   "execution_count": 6,
   "metadata": {
    "collapsed": false
   },
   "outputs": [],
   "source": [
    "file_sample2series = '../data/geo-annotation/sample2series.all.res1.pickle'\n",
    "if not exists(file_sample2series):\n",
    "    c = db.samples.find({\n",
    "        }, {\n",
    "            '_id':0,\n",
    "            'accession': 1,\n",
    "            'series': 1\n",
    "        })\n",
    "    sample2series = (\n",
    "        pd.DataFrame.from_records(\n",
    "            [\n",
    "            (x['accession'], series) \n",
    "             for x in c \n",
    "             for series in x['series']],\n",
    "            columns=['sample', 'series']\n",
    "        )\n",
    "        .drop_duplicates()\n",
    "        .set_index('sample')\n",
    "\n",
    "    )\n",
    "    sample2series.to_pickle(file_sample2series)\n",
    "else: \n",
    "    sample2series = pd.read_pickle(file_sample2series)"
   ]
  },
  {
   "cell_type": "code",
   "execution_count": 7,
   "metadata": {
    "collapsed": false
   },
   "outputs": [
    {
     "data": {
      "text/plain": [
       "(2425973, 1)"
      ]
     },
     "execution_count": 7,
     "metadata": {},
     "output_type": "execute_result"
    }
   ],
   "source": [
    "sample2series.shape"
   ]
  },
  {
   "cell_type": "code",
   "execution_count": 8,
   "metadata": {
    "collapsed": false
   },
   "outputs": [
    {
     "name": "stdout",
     "output_type": "stream",
     "text": [
      "Read obo graph\n",
      "Name: \n",
      "Type: DiGraph\n",
      "Number of nodes: 5659\n",
      "Number of edges: 6430\n",
      "Average in degree:   1.1362\n",
      "Average out degree:   1.1362\n"
     ]
    }
   ],
   "source": [
    "es = Elasticsearch()\n",
    "ontology = read_ontology('../data/geo-annotation/brenda-tissue-ontology.obo',\n",
    "                         exclude_duplicates=True,\n",
    "                         subgraph='BTO:0001489')"
   ]
  },
  {
   "cell_type": "code",
   "execution_count": 9,
   "metadata": {
    "collapsed": false
   },
   "outputs": [],
   "source": [
    "# Убираем синонимы состоящие только из коротких слов  (len <= 2 )\n",
    "# (вообще ошибка происходит изза стоп-слов в Elasticsearch, но так проще)\n",
    "\n",
    "def cell():\n",
    "    import re\n",
    "    def tokenize(s):\n",
    "        return re.split(r'[^\\w\\d]+', s)\n",
    "    \n",
    "    def all_short(synonym):\n",
    "        return all(len(t) <= 2 for t in tokenize(synonym))\n",
    "    \n",
    "    for item_id, item in ontology.meta.items():\n",
    "        item.synonyms = [s for s in item.synonyms if not all_short(s)]\n",
    "\n",
    "cell()"
   ]
  },
  {
   "cell_type": "code",
   "execution_count": 10,
   "metadata": {
    "collapsed": false
   },
   "outputs": [],
   "source": [
    "# import_ontology(ontology, 'tissue_ontology')\n",
    "# syn_ontology = Ontology(build_synonyms_graph(ontology, es, 'tissue_ontology'), list(ontology.items()))"
   ]
  },
  {
   "cell_type": "code",
   "execution_count": 11,
   "metadata": {
    "collapsed": false
   },
   "outputs": [],
   "source": [
    "annotation_result_file = '../data/geo-annotation/series.tissue.all.v1.pickle'\n",
    "if not exists(annotation_result_file):\n",
    "    res = annotate_index(client=es,\n",
    "                         ontology=ontology,\n",
    "                         index='series',\n",
    "                         fields=['summary', 'title'],\n",
    "                         id_field='accession'\n",
    "                        )\n",
    "\n",
    "    res.to_pickle(annotation_result_file)\n",
    "\n",
    "else:\n",
    "    res = pd.read_pickle(annotation_result_file)"
   ]
  },
  {
   "cell_type": "code",
   "execution_count": 12,
   "metadata": {
    "collapsed": false
   },
   "outputs": [
    {
     "data": {
      "text/plain": [
       "36760"
      ]
     },
     "execution_count": 12,
     "metadata": {},
     "output_type": "execute_result"
    }
   ],
   "source": [
    "# was 976291\n",
    "len(res)"
   ]
  },
  {
   "cell_type": "code",
   "execution_count": 14,
   "metadata": {
    "collapsed": false
   },
   "outputs": [],
   "source": [
    "res['classes'] = res['classes'].map(set)"
   ]
  },
  {
   "cell_type": "code",
   "execution_count": 15,
   "metadata": {
    "collapsed": false
   },
   "outputs": [
    {
     "data": {
      "text/html": [
       "<div>\n",
       "<table border=\"1\" class=\"dataframe\">\n",
       "  <thead>\n",
       "    <tr style=\"text-align: right;\">\n",
       "      <th></th>\n",
       "      <th>classes</th>\n",
       "    </tr>\n",
       "    <tr>\n",
       "      <th>item</th>\n",
       "      <th></th>\n",
       "    </tr>\n",
       "  </thead>\n",
       "  <tbody>\n",
       "    <tr>\n",
       "      <th>GSM1001845</th>\n",
       "      <td>set([BTO:0000763, BTO:0001340, BTO:0001489])</td>\n",
       "    </tr>\n",
       "    <tr>\n",
       "      <th>GSM1209562</th>\n",
       "      <td>set([BTO:0000782])</td>\n",
       "    </tr>\n",
       "    <tr>\n",
       "      <th>GSM1563151</th>\n",
       "      <td>set([BTO:0000150, BTO:0000356, BTO:0000149])</td>\n",
       "    </tr>\n",
       "    <tr>\n",
       "      <th>GSM811095</th>\n",
       "      <td>set([BTO:0001203, BTO:0000522])</td>\n",
       "    </tr>\n",
       "    <tr>\n",
       "      <th>GSM506249</th>\n",
       "      <td>set([BTO:0000763])</td>\n",
       "    </tr>\n",
       "    <tr>\n",
       "      <th>GSM380202</th>\n",
       "      <td>set([BTO:0000759])</td>\n",
       "    </tr>\n",
       "    <tr>\n",
       "      <th>GSM481950</th>\n",
       "      <td>set([BTO:0000149])</td>\n",
       "    </tr>\n",
       "    <tr>\n",
       "      <th>GSM306769</th>\n",
       "      <td>set([BTO:0001025, BTO:0000671])</td>\n",
       "    </tr>\n",
       "    <tr>\n",
       "      <th>GSM861618</th>\n",
       "      <td>set([BTO:0002181])</td>\n",
       "    </tr>\n",
       "    <tr>\n",
       "      <th>GSM880192</th>\n",
       "      <td>set([BTO:0000269])</td>\n",
       "    </tr>\n",
       "  </tbody>\n",
       "</table>\n",
       "</div>"
      ],
      "text/plain": [
       "                                                 classes\n",
       "item                                                    \n",
       "GSM1001845  set([BTO:0000763, BTO:0001340, BTO:0001489])\n",
       "GSM1209562                            set([BTO:0000782])\n",
       "GSM1563151  set([BTO:0000150, BTO:0000356, BTO:0000149])\n",
       "GSM811095                set([BTO:0001203, BTO:0000522])\n",
       "GSM506249                             set([BTO:0000763])\n",
       "GSM380202                             set([BTO:0000759])\n",
       "GSM481950                             set([BTO:0000149])\n",
       "GSM306769                set([BTO:0001025, BTO:0000671])\n",
       "GSM861618                             set([BTO:0002181])\n",
       "GSM880192                             set([BTO:0000269])"
      ]
     },
     "execution_count": 15,
     "metadata": {},
     "output_type": "execute_result"
    }
   ],
   "source": [
    "res[:10]"
   ]
  },
  {
   "cell_type": "code",
   "execution_count": 13,
   "metadata": {
    "collapsed": false
   },
   "outputs": [
    {
     "data": {
      "text/html": [
       "<div>\n",
       "<table border=\"1\" class=\"dataframe\">\n",
       "  <thead>\n",
       "    <tr style=\"text-align: right;\">\n",
       "      <th></th>\n",
       "      <th>classes</th>\n",
       "    </tr>\n",
       "    <tr>\n",
       "      <th>item</th>\n",
       "      <th></th>\n",
       "    </tr>\n",
       "  </thead>\n",
       "  <tbody>\n",
       "    <tr>\n",
       "      <th>E-MEXP-1483</th>\n",
       "      <td>[BTO:0000601]</td>\n",
       "    </tr>\n",
       "    <tr>\n",
       "      <th>E-SMDB-3152</th>\n",
       "      <td>[BTO:0000142]</td>\n",
       "    </tr>\n",
       "    <tr>\n",
       "      <th>E-TABM-781</th>\n",
       "      <td>[BTO:0002423, BTO:0005119]</td>\n",
       "    </tr>\n",
       "    <tr>\n",
       "      <th>E-MEXP-3644</th>\n",
       "      <td>[BTO:0000759]</td>\n",
       "    </tr>\n",
       "    <tr>\n",
       "      <th>E-ATMX-35</th>\n",
       "      <td>[BTO:0001230]</td>\n",
       "    </tr>\n",
       "    <tr>\n",
       "      <th>E-CBIL-11</th>\n",
       "      <td>[BTO:0000783]</td>\n",
       "    </tr>\n",
       "    <tr>\n",
       "      <th>E-MTAB-1035</th>\n",
       "      <td>[BTO:0000089]</td>\n",
       "    </tr>\n",
       "    <tr>\n",
       "      <th>E-MEXP-1824</th>\n",
       "      <td>[BTO:0000089, BTO:0000553, BTO:0000574]</td>\n",
       "    </tr>\n",
       "    <tr>\n",
       "      <th>E-MTAB-2027</th>\n",
       "      <td>[BTO:0005055, BTO:0000347]</td>\n",
       "    </tr>\n",
       "    <tr>\n",
       "      <th>E-SMDB-2253</th>\n",
       "      <td>[BTO:0005055, BTO:0000775, BTO:0000091]</td>\n",
       "    </tr>\n",
       "    <tr>\n",
       "      <th>E-MTAB-2523</th>\n",
       "      <td>[BTO:0001387, BTO:0000123, BTO:0000759, BTO:00...</td>\n",
       "    </tr>\n",
       "    <tr>\n",
       "      <th>E-MEXP-186</th>\n",
       "      <td>[BTO:0000392, BTO:0000141, BTO:0000131, BTO:00...</td>\n",
       "    </tr>\n",
       "    <tr>\n",
       "      <th>E-MTAB-1882</th>\n",
       "      <td>[BTO:0001260, BTO:0000887, BTO:0001424]</td>\n",
       "    </tr>\n",
       "    <tr>\n",
       "      <th>E-TABM-297</th>\n",
       "      <td>[BTO:0000887, BTO:0005055, BTO:0000562]</td>\n",
       "    </tr>\n",
       "    <tr>\n",
       "      <th>E-MEXP-3128</th>\n",
       "      <td>[BTO:0000887]</td>\n",
       "    </tr>\n",
       "    <tr>\n",
       "      <th>E-MEXP-902</th>\n",
       "      <td>[BTO:0001253]</td>\n",
       "    </tr>\n",
       "    <tr>\n",
       "      <th>E-MEXP-2986</th>\n",
       "      <td>[BTO:0000141, BTO:0000829, BTO:0000140]</td>\n",
       "    </tr>\n",
       "    <tr>\n",
       "      <th>E-MTAB-1951</th>\n",
       "      <td>[BTO:0000759]</td>\n",
       "    </tr>\n",
       "    <tr>\n",
       "      <th>E-MTAB-1391</th>\n",
       "      <td>[BTO:0001593, BTO:0000140]</td>\n",
       "    </tr>\n",
       "    <tr>\n",
       "      <th>E-MTAB-76</th>\n",
       "      <td>[BTO:0000142]</td>\n",
       "    </tr>\n",
       "    <tr>\n",
       "      <th>E-MEXP-3016</th>\n",
       "      <td>[BTO:0000176, BTO:0001130, BTO:0001129]</td>\n",
       "    </tr>\n",
       "    <tr>\n",
       "      <th>E-TABM-1128</th>\n",
       "      <td>[BTO:0000416, BTO:0000369, BTO:0001388, BTO:00...</td>\n",
       "    </tr>\n",
       "    <tr>\n",
       "      <th>E-MTAB-3311</th>\n",
       "      <td>[BTO:0000763, BTO:0000620]</td>\n",
       "    </tr>\n",
       "    <tr>\n",
       "      <th>E-MTAB-2533</th>\n",
       "      <td>[BTO:0000089, BTO:0004053]</td>\n",
       "    </tr>\n",
       "    <tr>\n",
       "      <th>E-MTAB-395</th>\n",
       "      <td>[BTO:0001487]</td>\n",
       "    </tr>\n",
       "    <tr>\n",
       "      <th>E-MTAB-686</th>\n",
       "      <td>[BTO:0000478]</td>\n",
       "    </tr>\n",
       "    <tr>\n",
       "      <th>E-TABM-213</th>\n",
       "      <td>[BTO:0001489, BTO:0000887, BTO:0001103, BTO:00...</td>\n",
       "    </tr>\n",
       "    <tr>\n",
       "      <th>E-TABM-160</th>\n",
       "      <td>[BTO:0000369]</td>\n",
       "    </tr>\n",
       "    <tr>\n",
       "      <th>E-MEXP-3392</th>\n",
       "      <td>[BTO:0000562, BTO:0002320]</td>\n",
       "    </tr>\n",
       "    <tr>\n",
       "      <th>E-MTAB-3567</th>\n",
       "      <td>[BTO:0001260, BTO:0000778, BTO:0003336, BTO:00...</td>\n",
       "    </tr>\n",
       "    <tr>\n",
       "      <th>...</th>\n",
       "      <td>...</td>\n",
       "    </tr>\n",
       "    <tr>\n",
       "      <th>E-MEXP-492</th>\n",
       "      <td>[BTO:0000142, BTO:0002045, BTO:0002295, BTO:00...</td>\n",
       "    </tr>\n",
       "    <tr>\n",
       "      <th>E-MTAB-1722</th>\n",
       "      <td>[BTO:0000759]</td>\n",
       "    </tr>\n",
       "    <tr>\n",
       "      <th>E-ERAD-141</th>\n",
       "      <td>[BTO:0000773]</td>\n",
       "    </tr>\n",
       "    <tr>\n",
       "      <th>E-TABM-205</th>\n",
       "      <td>[BTO:0000763]</td>\n",
       "    </tr>\n",
       "    <tr>\n",
       "      <th>E-MTAB-1568</th>\n",
       "      <td>[BTO:0000131]</td>\n",
       "    </tr>\n",
       "    <tr>\n",
       "      <th>E-MEXP-2507</th>\n",
       "      <td>[BTO:0000269]</td>\n",
       "    </tr>\n",
       "    <tr>\n",
       "      <th>E-MEXP-758</th>\n",
       "      <td>[BTO:0000562]</td>\n",
       "    </tr>\n",
       "    <tr>\n",
       "      <th>E-TABM-979</th>\n",
       "      <td>[BTO:0000876]</td>\n",
       "    </tr>\n",
       "    <tr>\n",
       "      <th>E-MEXP-2703</th>\n",
       "      <td>[BTO:0000962, BTO:0000894, BTO:0000855]</td>\n",
       "    </tr>\n",
       "    <tr>\n",
       "      <th>E-MEXP-2128</th>\n",
       "      <td>[BTO:0000759]</td>\n",
       "    </tr>\n",
       "    <tr>\n",
       "      <th>E-NASC-21</th>\n",
       "      <td>[BTO:0000121, BTO:0000301]</td>\n",
       "    </tr>\n",
       "    <tr>\n",
       "      <th>E-MTAB-2860</th>\n",
       "      <td>[BTO:0004365, BTO:0001007]</td>\n",
       "    </tr>\n",
       "    <tr>\n",
       "      <th>E-TABM-906</th>\n",
       "      <td>[BTO:0000988]</td>\n",
       "    </tr>\n",
       "    <tr>\n",
       "      <th>E-CBIL-16</th>\n",
       "      <td>[BTO:0000759]</td>\n",
       "    </tr>\n",
       "    <tr>\n",
       "      <th>E-TABM-853</th>\n",
       "      <td>[BTO:0000089]</td>\n",
       "    </tr>\n",
       "    <tr>\n",
       "      <th>E-MEXP-1852</th>\n",
       "      <td>[BTO:0000759]</td>\n",
       "    </tr>\n",
       "    <tr>\n",
       "      <th>E-MEXP-2089</th>\n",
       "      <td>[BTO:0000759]</td>\n",
       "    </tr>\n",
       "    <tr>\n",
       "      <th>E-MTAB-11</th>\n",
       "      <td>[BTO:0000089, BTO:0000553]</td>\n",
       "    </tr>\n",
       "    <tr>\n",
       "      <th>E-MTAB-1481</th>\n",
       "      <td>[BTO:0002101, BTO:0000898]</td>\n",
       "    </tr>\n",
       "    <tr>\n",
       "      <th>E-MEXP-1346</th>\n",
       "      <td>[BTO:0000089, BTO:0000553]</td>\n",
       "    </tr>\n",
       "    <tr>\n",
       "      <th>E-MEXP-2454</th>\n",
       "      <td>[BTO:0004475]</td>\n",
       "    </tr>\n",
       "    <tr>\n",
       "      <th>E-MEXP-3305</th>\n",
       "      <td>[BTO:0000667, BTO:0001253, BTO:0000404]</td>\n",
       "    </tr>\n",
       "    <tr>\n",
       "      <th>E-MTAB-875</th>\n",
       "      <td>[BTO:0000089, BTO:0000763]</td>\n",
       "    </tr>\n",
       "    <tr>\n",
       "      <th>E-SMDB-1587</th>\n",
       "      <td>[BTO:0002990, BTO:0002979, BTO:0000886, BTO:00...</td>\n",
       "    </tr>\n",
       "    <tr>\n",
       "      <th>E-MEXP-2998</th>\n",
       "      <td>[BTO:0000876]</td>\n",
       "    </tr>\n",
       "    <tr>\n",
       "      <th>E-MTAB-790</th>\n",
       "      <td>[BTO:0000801, BTO:0000141, BTO:0000237, BTO:00...</td>\n",
       "    </tr>\n",
       "    <tr>\n",
       "      <th>E-MTAB-2447</th>\n",
       "      <td>[BTO:0000545]</td>\n",
       "    </tr>\n",
       "    <tr>\n",
       "      <th>E-SMDB-3901</th>\n",
       "      <td>[BTO:0001307]</td>\n",
       "    </tr>\n",
       "    <tr>\n",
       "      <th>E-MTAB-872</th>\n",
       "      <td>[BTO:0000478]</td>\n",
       "    </tr>\n",
       "    <tr>\n",
       "      <th>E-MEXP-3855</th>\n",
       "      <td>[BTO:0000141, BTO:0000829, BTO:0000140]</td>\n",
       "    </tr>\n",
       "  </tbody>\n",
       "</table>\n",
       "<p>3874 rows × 1 columns</p>\n",
       "</div>"
      ],
      "text/plain": [
       "                                                       classes\n",
       "item                                                          \n",
       "E-MEXP-1483                                      [BTO:0000601]\n",
       "E-SMDB-3152                                      [BTO:0000142]\n",
       "E-TABM-781                          [BTO:0002423, BTO:0005119]\n",
       "E-MEXP-3644                                      [BTO:0000759]\n",
       "E-ATMX-35                                        [BTO:0001230]\n",
       "E-CBIL-11                                        [BTO:0000783]\n",
       "E-MTAB-1035                                      [BTO:0000089]\n",
       "E-MEXP-1824            [BTO:0000089, BTO:0000553, BTO:0000574]\n",
       "E-MTAB-2027                         [BTO:0005055, BTO:0000347]\n",
       "E-SMDB-2253            [BTO:0005055, BTO:0000775, BTO:0000091]\n",
       "E-MTAB-2523  [BTO:0001387, BTO:0000123, BTO:0000759, BTO:00...\n",
       "E-MEXP-186   [BTO:0000392, BTO:0000141, BTO:0000131, BTO:00...\n",
       "E-MTAB-1882            [BTO:0001260, BTO:0000887, BTO:0001424]\n",
       "E-TABM-297             [BTO:0000887, BTO:0005055, BTO:0000562]\n",
       "E-MEXP-3128                                      [BTO:0000887]\n",
       "E-MEXP-902                                       [BTO:0001253]\n",
       "E-MEXP-2986            [BTO:0000141, BTO:0000829, BTO:0000140]\n",
       "E-MTAB-1951                                      [BTO:0000759]\n",
       "E-MTAB-1391                         [BTO:0001593, BTO:0000140]\n",
       "E-MTAB-76                                        [BTO:0000142]\n",
       "E-MEXP-3016            [BTO:0000176, BTO:0001130, BTO:0001129]\n",
       "E-TABM-1128  [BTO:0000416, BTO:0000369, BTO:0001388, BTO:00...\n",
       "E-MTAB-3311                         [BTO:0000763, BTO:0000620]\n",
       "E-MTAB-2533                         [BTO:0000089, BTO:0004053]\n",
       "E-MTAB-395                                       [BTO:0001487]\n",
       "E-MTAB-686                                       [BTO:0000478]\n",
       "E-TABM-213   [BTO:0001489, BTO:0000887, BTO:0001103, BTO:00...\n",
       "E-TABM-160                                       [BTO:0000369]\n",
       "E-MEXP-3392                         [BTO:0000562, BTO:0002320]\n",
       "E-MTAB-3567  [BTO:0001260, BTO:0000778, BTO:0003336, BTO:00...\n",
       "...                                                        ...\n",
       "E-MEXP-492   [BTO:0000142, BTO:0002045, BTO:0002295, BTO:00...\n",
       "E-MTAB-1722                                      [BTO:0000759]\n",
       "E-ERAD-141                                       [BTO:0000773]\n",
       "E-TABM-205                                       [BTO:0000763]\n",
       "E-MTAB-1568                                      [BTO:0000131]\n",
       "E-MEXP-2507                                      [BTO:0000269]\n",
       "E-MEXP-758                                       [BTO:0000562]\n",
       "E-TABM-979                                       [BTO:0000876]\n",
       "E-MEXP-2703            [BTO:0000962, BTO:0000894, BTO:0000855]\n",
       "E-MEXP-2128                                      [BTO:0000759]\n",
       "E-NASC-21                           [BTO:0000121, BTO:0000301]\n",
       "E-MTAB-2860                         [BTO:0004365, BTO:0001007]\n",
       "E-TABM-906                                       [BTO:0000988]\n",
       "E-CBIL-16                                        [BTO:0000759]\n",
       "E-TABM-853                                       [BTO:0000089]\n",
       "E-MEXP-1852                                      [BTO:0000759]\n",
       "E-MEXP-2089                                      [BTO:0000759]\n",
       "E-MTAB-11                           [BTO:0000089, BTO:0000553]\n",
       "E-MTAB-1481                         [BTO:0002101, BTO:0000898]\n",
       "E-MEXP-1346                         [BTO:0000089, BTO:0000553]\n",
       "E-MEXP-2454                                      [BTO:0004475]\n",
       "E-MEXP-3305            [BTO:0000667, BTO:0001253, BTO:0000404]\n",
       "E-MTAB-875                          [BTO:0000089, BTO:0000763]\n",
       "E-SMDB-1587  [BTO:0002990, BTO:0002979, BTO:0000886, BTO:00...\n",
       "E-MEXP-2998                                      [BTO:0000876]\n",
       "E-MTAB-790   [BTO:0000801, BTO:0000141, BTO:0000237, BTO:00...\n",
       "E-MTAB-2447                                      [BTO:0000545]\n",
       "E-SMDB-3901                                      [BTO:0001307]\n",
       "E-MTAB-872                                       [BTO:0000478]\n",
       "E-MEXP-3855            [BTO:0000141, BTO:0000829, BTO:0000140]\n",
       "\n",
       "[3874 rows x 1 columns]"
      ]
     },
     "execution_count": 13,
     "metadata": {},
     "output_type": "execute_result"
    }
   ],
   "source": [
    "res[~(res.index.str.startswith('GSE'))]"
   ]
  },
  {
   "cell_type": "code",
   "execution_count": 14,
   "metadata": {
    "collapsed": false
   },
   "outputs": [],
   "source": [
    "# import pymongo \n",
    "# db = pymongo.MongoClient().scraper_meta\n",
    "# file_human_samples = '../data/geo-annotation/human-samples.res1.pickle'\n",
    "    \n",
    "# if not exists(file_human_samples):\n",
    "#     human_samples = pd.DataFrame(dict(sample=[int(s['accession'][3:]) for s in db.samples.find({'organism': 'Homo sapiens'}, {'_id': 0, 'accession': 1})]))\n",
    "#     human_samples.to_pickle(file_human_samples)\n",
    "# else:\n",
    "#     human_samples = pd.read_pickle(file_human_samples)"
   ]
  },
  {
   "cell_type": "code",
   "execution_count": 13,
   "metadata": {
    "collapsed": false
   },
   "outputs": [],
   "source": [
    "# human_samples.set_index('sample')[:5]"
   ]
  },
  {
   "cell_type": "code",
   "execution_count": 15,
   "metadata": {
    "collapsed": false
   },
   "outputs": [],
   "source": [
    "# res_human = pd.merge(res, human_samples.set_index('sample'), left_index=True, right_index=True, how='inner')\n",
    "# res_human[:5]"
   ]
  },
  {
   "cell_type": "code",
   "execution_count": 16,
   "metadata": {
    "collapsed": false
   },
   "outputs": [],
   "source": [
    "# res.shape, res_human.shape"
   ]
  },
  {
   "cell_type": "code",
   "execution_count": 17,
   "metadata": {
    "collapsed": false
   },
   "outputs": [],
   "source": [
    "# Собираем семплы в серии\n",
    "# sample2series.index = sample2series.index.map(lambda s: int(s[3:]))\n",
    "# sample2series.head()"
   ]
  },
  {
   "cell_type": "code",
   "execution_count": 18,
   "metadata": {
    "collapsed": false
   },
   "outputs": [
    {
     "data": {
      "text/html": [
       "<div>\n",
       "<table border=\"1\" class=\"dataframe\">\n",
       "  <thead>\n",
       "    <tr style=\"text-align: right;\">\n",
       "      <th></th>\n",
       "      <th>classes</th>\n",
       "      <th>series</th>\n",
       "    </tr>\n",
       "  </thead>\n",
       "  <tbody>\n",
       "  </tbody>\n",
       "</table>\n",
       "</div>"
      ],
      "text/plain": [
       "Empty DataFrame\n",
       "Columns: [classes, series]\n",
       "Index: []"
      ]
     },
     "execution_count": 18,
     "metadata": {},
     "output_type": "execute_result"
    }
   ],
   "source": [
    "_t = pd.merge(res, sample2series, left_index=True, right_index=True, how='left')\n",
    "_t[_t.series.isnull()]"
   ]
  },
  {
   "cell_type": "code",
   "execution_count": 19,
   "metadata": {
    "collapsed": false
   },
   "outputs": [
    {
     "data": {
      "text/html": [
       "<div>\n",
       "<table border=\"1\" class=\"dataframe\">\n",
       "  <thead>\n",
       "    <tr style=\"text-align: right;\">\n",
       "      <th></th>\n",
       "      <th>classes</th>\n",
       "      <th>annotated_samples</th>\n",
       "    </tr>\n",
       "    <tr>\n",
       "      <th>series</th>\n",
       "      <th></th>\n",
       "      <th></th>\n",
       "    </tr>\n",
       "  </thead>\n",
       "  <tbody>\n",
       "    <tr>\n",
       "      <th>E-BUGS-29</th>\n",
       "      <td>set([BTO:0000886])</td>\n",
       "      <td>1</td>\n",
       "    </tr>\n",
       "    <tr>\n",
       "      <th>E-MEXP-2266</th>\n",
       "      <td>set([BTO:0002246])</td>\n",
       "      <td>20</td>\n",
       "    </tr>\n",
       "    <tr>\n",
       "      <th>E-MTAB-1675</th>\n",
       "      <td>set([BTO:0001463])</td>\n",
       "      <td>12</td>\n",
       "    </tr>\n",
       "    <tr>\n",
       "      <th>E-MTAB-2674</th>\n",
       "      <td>set([BTO:0000759])</td>\n",
       "      <td>2</td>\n",
       "    </tr>\n",
       "    <tr>\n",
       "      <th>E-MTAB-2678</th>\n",
       "      <td>set([BTO:0000759])</td>\n",
       "      <td>2</td>\n",
       "    </tr>\n",
       "    <tr>\n",
       "      <th>GSE1</th>\n",
       "      <td>set([BTO:0000452, BTO:0000149, BTO:0001379, BT...</td>\n",
       "      <td>28</td>\n",
       "    </tr>\n",
       "    <tr>\n",
       "      <th>GSE10</th>\n",
       "      <td>set([BTO:0001177, BTO:0000416, BTO:0001175, BT...</td>\n",
       "      <td>4</td>\n",
       "    </tr>\n",
       "    <tr>\n",
       "      <th>GSE10000</th>\n",
       "      <td>set([BTO:0002010, BTO:0002976, BTO:0000135])</td>\n",
       "      <td>35</td>\n",
       "    </tr>\n",
       "    <tr>\n",
       "      <th>GSE10001</th>\n",
       "      <td>set([BTO:0000759])</td>\n",
       "      <td>12</td>\n",
       "    </tr>\n",
       "    <tr>\n",
       "      <th>GSE10002</th>\n",
       "      <td>set([BTO:0000371, BTO:0001471, BTO:0000414])</td>\n",
       "      <td>8</td>\n",
       "    </tr>\n",
       "  </tbody>\n",
       "</table>\n",
       "</div>"
      ],
      "text/plain": [
       "                                                       classes  annotated_samples\n",
       "series                                                                           \n",
       "E-BUGS-29                                   set([BTO:0000886])                  1\n",
       "E-MEXP-2266                                 set([BTO:0002246])                 20\n",
       "E-MTAB-1675                                 set([BTO:0001463])                 12\n",
       "E-MTAB-2674                                 set([BTO:0000759])                  2\n",
       "E-MTAB-2678                                 set([BTO:0000759])                  2\n",
       "GSE1         set([BTO:0000452, BTO:0000149, BTO:0001379, BT...                 28\n",
       "GSE10        set([BTO:0001177, BTO:0000416, BTO:0001175, BT...                  4\n",
       "GSE10000          set([BTO:0002010, BTO:0002976, BTO:0000135])                 35\n",
       "GSE10001                                    set([BTO:0000759])                 12\n",
       "GSE10002          set([BTO:0000371, BTO:0001471, BTO:0000414])                  8"
      ]
     },
     "execution_count": 19,
     "metadata": {},
     "output_type": "execute_result"
    }
   ],
   "source": [
    "def flat_set(iterables):\n",
    "    return {x for it in iterables for x in it}\n",
    "\n",
    "res_series = (\n",
    "    pd.merge(res, sample2series, left_index=True, right_index=True)\n",
    "    .reset_index()\n",
    "    .rename(columns=dict(index='annotated_samples'))\n",
    "    .groupby('series')\n",
    "    .agg(dict(classes=flat_set, annotated_samples=lambda x: len(set(x))))\n",
    "#     [['']]\n",
    "#     .apply(flat_set)\n",
    "#     .to_frame()\n",
    ")\n",
    "res_series[:10]"
   ]
  },
  {
   "cell_type": "code",
   "execution_count": 20,
   "metadata": {
    "collapsed": false
   },
   "outputs": [],
   "source": [
    "# # Проверяем все ли семплы у серий аннотированы\n",
    "\n",
    "# series_samples = (\n",
    "#     pd.DataFrame(\n",
    "#         list(db.series.find(\n",
    "#                 {'accession': {'$in': res_series.index.unique().tolist()}},\n",
    "#                 {'_id': 0, 'accession': 1, 'samples': 1}\n",
    "#             ))\n",
    "#     )\n",
    "#     .rename(columns={'samples': 'stored_samples', 'accession': 'series'})\n",
    "#     .assign(stored_samples= lambda d: d.stored_samples.map(len))\n",
    "#     .set_index('series')\n",
    "# )\n",
    "# series_samples.head()"
   ]
  },
  {
   "cell_type": "code",
   "execution_count": 29,
   "metadata": {
    "collapsed": false
   },
   "outputs": [
    {
     "data": {
      "text/html": [
       "<div>\n",
       "<table border=\"1\" class=\"dataframe\">\n",
       "  <thead>\n",
       "    <tr style=\"text-align: right;\">\n",
       "      <th></th>\n",
       "      <th>stored_samples</th>\n",
       "    </tr>\n",
       "    <tr>\n",
       "      <th>series</th>\n",
       "      <th></th>\n",
       "    </tr>\n",
       "  </thead>\n",
       "  <tbody>\n",
       "    <tr>\n",
       "      <th>GSE1</th>\n",
       "      <td>38</td>\n",
       "    </tr>\n",
       "    <tr>\n",
       "      <th>GSE10</th>\n",
       "      <td>4</td>\n",
       "    </tr>\n",
       "    <tr>\n",
       "      <th>GSE100</th>\n",
       "      <td>4</td>\n",
       "    </tr>\n",
       "    <tr>\n",
       "      <th>GSE1000</th>\n",
       "      <td>10</td>\n",
       "    </tr>\n",
       "    <tr>\n",
       "      <th>GSE10000</th>\n",
       "      <td>35</td>\n",
       "    </tr>\n",
       "  </tbody>\n",
       "</table>\n",
       "</div>"
      ],
      "text/plain": [
       "          stored_samples\n",
       "series                  \n",
       "GSE1                  38\n",
       "GSE10                  4\n",
       "GSE100                 4\n",
       "GSE1000               10\n",
       "GSE10000              35"
      ]
     },
     "execution_count": 29,
     "metadata": {},
     "output_type": "execute_result"
    }
   ],
   "source": [
    "series_samples = (\n",
    "    sample2series\n",
    "    .reset_index()\n",
    "    .rename(columns={'index': 'stored_samples'})\n",
    "#     .assign(sample= lambda d: d['stored_samples'].map('GSM{}'.format))\n",
    "    .groupby('series')\n",
    "    .stored_samples\n",
    "    .apply(len)\n",
    "    .to_frame()\n",
    ")\n",
    "series_samples.head()"
   ]
  },
  {
   "cell_type": "code",
   "execution_count": 30,
   "metadata": {
    "collapsed": false
   },
   "outputs": [
    {
     "name": "stdout",
     "output_type": "stream",
     "text": [
      "(37485, 2)\n",
      "(37485, 4)\n"
     ]
    },
    {
     "data": {
      "text/html": [
       "<div>\n",
       "<table border=\"1\" class=\"dataframe\">\n",
       "  <thead>\n",
       "    <tr style=\"text-align: right;\">\n",
       "      <th></th>\n",
       "      <th>classes</th>\n",
       "      <th>annotated_samples</th>\n",
       "      <th>stored_samples</th>\n",
       "      <th>annotated_ratio</th>\n",
       "    </tr>\n",
       "    <tr>\n",
       "      <th>series</th>\n",
       "      <th></th>\n",
       "      <th></th>\n",
       "      <th></th>\n",
       "      <th></th>\n",
       "    </tr>\n",
       "  </thead>\n",
       "  <tbody>\n",
       "    <tr>\n",
       "      <th>GSE1</th>\n",
       "      <td>set([BTO:0000149, BTO:0001379, BTO:0000420, BT...</td>\n",
       "      <td>28</td>\n",
       "      <td>38</td>\n",
       "      <td>0.736842</td>\n",
       "    </tr>\n",
       "    <tr>\n",
       "      <th>GSE10</th>\n",
       "      <td>set([BTO:0001177, BTO:0000416, BTO:0001175, BT...</td>\n",
       "      <td>4</td>\n",
       "      <td>4</td>\n",
       "      <td>1.000000</td>\n",
       "    </tr>\n",
       "    <tr>\n",
       "      <th>GSE10000</th>\n",
       "      <td>set([BTO:0000135, BTO:0002010, BTO:0002976])</td>\n",
       "      <td>35</td>\n",
       "      <td>35</td>\n",
       "      <td>1.000000</td>\n",
       "    </tr>\n",
       "    <tr>\n",
       "      <th>GSE10001</th>\n",
       "      <td>set([BTO:0000759])</td>\n",
       "      <td>12</td>\n",
       "      <td>12</td>\n",
       "      <td>1.000000</td>\n",
       "    </tr>\n",
       "    <tr>\n",
       "      <th>GSE10002</th>\n",
       "      <td>set([BTO:0001471, BTO:0000371, BTO:0000414])</td>\n",
       "      <td>8</td>\n",
       "      <td>8</td>\n",
       "      <td>1.000000</td>\n",
       "    </tr>\n",
       "  </tbody>\n",
       "</table>\n",
       "</div>"
      ],
      "text/plain": [
       "                                                    classes  annotated_samples  stored_samples  annotated_ratio\n",
       "series                                                                                                         \n",
       "GSE1      set([BTO:0000149, BTO:0001379, BTO:0000420, BT...                 28              38         0.736842\n",
       "GSE10     set([BTO:0001177, BTO:0000416, BTO:0001175, BT...                  4               4         1.000000\n",
       "GSE10000       set([BTO:0000135, BTO:0002010, BTO:0002976])                 35              35         1.000000\n",
       "GSE10001                                 set([BTO:0000759])                 12              12         1.000000\n",
       "GSE10002       set([BTO:0001471, BTO:0000371, BTO:0000414])                  8               8         1.000000"
      ]
     },
     "execution_count": 30,
     "metadata": {},
     "output_type": "execute_result"
    }
   ],
   "source": [
    "print(res_series.shape)\n",
    "res_series_partial_annotated = (\n",
    "    res_series\n",
    "    .join(series_samples)\n",
    "    .query('annotated_samples <= stored_samples')\n",
    "    .assign(annotated_ratio=lambda d: d.annotated_samples.astype(float).combine(d.stored_samples, lambda a, s: a/s))\n",
    "#     .query('annotated_ratio > 0.2')\n",
    "#     .annotated_samples\n",
    "#     .sum()\n",
    "#     .query('annotated_samples < stored_samples and stored_samples < 501')\n",
    "#     .shape\n",
    ")\n",
    "print(res_series_partial_annotated.shape)\n",
    "res_series_partial_annotated.head()"
   ]
  },
  {
   "cell_type": "code",
   "execution_count": 31,
   "metadata": {
    "collapsed": false
   },
   "outputs": [],
   "source": [
    "def doid_id(item_id):\n",
    "    return \"BTO:{:07}\".format(item_id)\n",
    "\n",
    "\n",
    "def ontology_name(item_id):\n",
    "    if item_id not in ontology.meta:\n",
    "        return item_id\n",
    "    return ontology.meta[item_id].name\n",
    "\n",
    "\n",
    "def to_name(series_id):\n",
    "    return \"GSE{}\".format(series_id)\n",
    "\n",
    "def name(item_id):\n",
    "    return '{} ({})'.format(ontology_name(item_id), item_id)\n",
    "\n",
    "def names(df):\n",
    "    return df.applymap(lambda xs: [name(x) for x in xs])\n",
    "\n",
    "def sub_ontology(nodes, ontology):\n",
    "    subset = set(flatten([nx.shortest_path(ontology.graph, 'BTO:0001489', cls) for cls in nodes]))\n",
    "    for n in nodes:\n",
    "        subset.add(n)\n",
    "    return nx.subgraph(ontology.graph, subset)\n",
    "\n",
    "def matches_graph(matches, vd_classes=None, figsize=None, prog='neato'):\n",
    "    matches = [m for m in matches if m in ontology.graph.nodes()]\n",
    "    vd_classes = vd_classes or []\n",
    "    import matplotlib.pyplot as plt\n",
    "    figsize = figsize or (14, 10)\n",
    "    plt.figure(figsize=figsize) \n",
    "    import networkx as nx\n",
    "    \n",
    "    G = sub_ontology(matches + vd_classes, ontology)\n",
    "    pos=nx.pygraphviz_layout(G, prog=prog) \n",
    "    \n",
    "    labels = dict((k, v) for (k, v) in names_dict.items() if k in G.nodes())\n",
    "    nodes_other = [x for x in G.nodes() if x not in matches]\n",
    "    \n",
    "    nx.draw_networkx(G, labels=labels, \n",
    "            pos=pos, \n",
    "            node_size=400,\n",
    "            node_color='r',\n",
    "             alpha=0.5,\n",
    "            nodelist=matches)\n",
    "    \n",
    "    nx.draw_networkx(G, labels=labels, \n",
    "        pos=pos, \n",
    "        node_size=400,\n",
    "        node_color='w',\n",
    "         alpha=0.8,\n",
    "        nodelist=nodes_other)\n",
    "    \n",
    "    if vd_classes:\n",
    "        nx.draw_networkx(G, labels=labels, \n",
    "            pos=pos, \n",
    "            node_size=400,\n",
    "            node_color='g',\n",
    "            alpha=0.5,\n",
    "#             font_color='g',                     \n",
    "            nodelist=vd_classes)\n",
    "        \n",
    "    plt.show()\n",
    "\n",
    "    \n",
    "names_dict = dict((record.id, record.name) for record in ontology.meta.values())"
   ]
  },
  {
   "cell_type": "code",
   "execution_count": null,
   "metadata": {
    "collapsed": false
   },
   "outputs": [],
   "source": [
    "# cell_type_cancer = 'DOID:0050687'\n",
    "# organ_system_cancer = 'DOID:0050686'\n",
    "# cell_type_benign_neoplasm = 'DOID:0060084'\n",
    "# organ_system_benign_neoplasm = 'DOID:0060085'\n",
    "\n",
    "# @pymonad.curry\n",
    "# def exclude_similar_branches(ontology, classes):\n",
    "#     has_osc = any(ontology.has_path(organ_system_cancer, c) for c in classes)\n",
    "#     if has_osc:\n",
    "#         return [c for c in classes if not ontology.has_path(cell_type_cancer, c) \n",
    "# #                                       and not ontology.has_path(cell_type_benign_neoplasm, c)\n",
    "# #                                       and not ontology.has_path(organ_system_benign_neoplasm, c) \n",
    "#                ]\n",
    "#     else:\n",
    "#         return classes"
   ]
  },
  {
   "cell_type": "code",
   "execution_count": 32,
   "metadata": {
    "collapsed": false
   },
   "outputs": [],
   "source": [
    "root_disease = 'BTO:0001489'\n",
    "\n",
    "@pymonad.curry\n",
    "def exclude_wide_terms(ontology, classes):\n",
    "    threshold = 2\n",
    "    \n",
    "    return [c for c in classes \n",
    "            if len(nx.shortest_path(ontology.graph, root_disease, c)) > threshold]"
   ]
  },
  {
   "cell_type": "code",
   "execution_count": 33,
   "metadata": {
    "collapsed": true
   },
   "outputs": [],
   "source": [
    "results = pd.DataFrame(dict(\n",
    "        odinary=res_series_partial_annotated.classes,\n",
    "        collapsed=res_series_partial_annotated.classes.map(#exclude_wide_terms(ontology) *\n",
    "                                  collapse_matches(ontology.graph)),\n",
    "#                                      exclude_similar_branches(ontology) *\n",
    "#                                      collapse_matches(ontology.graph)),\n",
    "#         collapsed_syn=res.classes.map(\n",
    "#                                      exclude_wide_terms(ontology) *\n",
    "#                                      collapse_matches(syn_ontology.graph) *\n",
    "# #                                      exclude_similar_branches(ontology) *\n",
    "#                                      collapse_matches(ontology.graph)),\n",
    "        \n",
    "#         syn=res.classes.map(exclude_wide_terms(ontology) *\n",
    "#                             collapse_matches(syn_ontology.graph)),\n",
    "\n",
    "#         validation=validation_set.classes,\n",
    "        \n",
    "    )\n",
    ").applymap(lambda x: [] if isinstance(x, float) else x)"
   ]
  },
  {
   "cell_type": "code",
   "execution_count": 34,
   "metadata": {
    "collapsed": false
   },
   "outputs": [
    {
     "data": {
      "text/plain": [
       "array([[<matplotlib.axes._subplots.AxesSubplot object at 0x110c740f0>,\n",
       "        <matplotlib.axes._subplots.AxesSubplot object at 0x119a9ad30>,\n",
       "        <matplotlib.axes._subplots.AxesSubplot object at 0x1112c9eb8>]], dtype=object)"
      ]
     },
     "execution_count": 34,
     "metadata": {},
     "output_type": "execute_result"
    },
    {
     "data": {
      "image/png": "[encoded data removed]",
      "text/plain": [
       "<matplotlib.figure.Figure at 0x1130deeb8>"
      ]
     },
     "metadata": {},
     "output_type": "display_data"
    }
   ],
   "source": [
    "(\n",
    "    results\n",
    "    .applymap(len).hist(bins=range(0, 9), \n",
    "                        sharey=True, \n",
    "                        layout=(1, 3),\n",
    "                        figsize=(14, 6))\n",
    ")"
   ]
  },
  {
   "cell_type": "code",
   "execution_count": 35,
   "metadata": {
    "collapsed": false
   },
   "outputs": [],
   "source": [
    "# !rm -f ../data/geo-annotation/series.tissue.all.res1.pickle\n",
    "(\n",
    "    results\n",
    "    [results.collapsed.map(len) == 1]\n",
    "    .collapsed\n",
    "    .map(lambda x: x[0])\n",
    "    .rename(dict(collapsed='tissue'))\n",
    "    .to_frame()\n",
    "    .to_pickle('../data/geo-annotation/series.tissue.all.res3.pickle')\n",
    ")"
   ]
  },
  {
   "cell_type": "code",
   "execution_count": 36,
   "metadata": {
    "collapsed": false
   },
   "outputs": [
    {
     "data": {
      "text/html": [
       "<div>\n",
       "<table border=\"1\" class=\"dataframe\">\n",
       "  <thead>\n",
       "    <tr style=\"text-align: right;\">\n",
       "      <th></th>\n",
       "      <th>collapsed</th>\n",
       "      <th>odinary</th>\n",
       "    </tr>\n",
       "    <tr>\n",
       "      <th>series</th>\n",
       "      <th></th>\n",
       "      <th></th>\n",
       "    </tr>\n",
       "  </thead>\n",
       "  <tbody>\n",
       "    <tr>\n",
       "      <th>GSE1</th>\n",
       "      <td>[BTO:0000887, BTO:0000149, BTO:0000975, BTO:00...</td>\n",
       "      <td>set([BTO:0000149, BTO:0001379, BTO:0000420, BT...</td>\n",
       "    </tr>\n",
       "    <tr>\n",
       "      <th>GSE10</th>\n",
       "      <td>[BTO:0001177]</td>\n",
       "      <td>set([BTO:0001177, BTO:0000416, BTO:0001175, BT...</td>\n",
       "    </tr>\n",
       "    <tr>\n",
       "      <th>GSE10000</th>\n",
       "      <td>[BTO:0002976, BTO:0002010]</td>\n",
       "      <td>set([BTO:0000135, BTO:0002010, BTO:0002976])</td>\n",
       "    </tr>\n",
       "    <tr>\n",
       "      <th>GSE10001</th>\n",
       "      <td>[BTO:0000759]</td>\n",
       "      <td>set([BTO:0000759])</td>\n",
       "    </tr>\n",
       "    <tr>\n",
       "      <th>GSE10002</th>\n",
       "      <td>[BTO:0001471, BTO:0000371, BTO:0000414]</td>\n",
       "      <td>set([BTO:0001471, BTO:0000371, BTO:0000414])</td>\n",
       "    </tr>\n",
       "  </tbody>\n",
       "</table>\n",
       "</div>"
      ],
      "text/plain": [
       "                                                  collapsed                                            odinary\n",
       "series                                                                                                        \n",
       "GSE1      [BTO:0000887, BTO:0000149, BTO:0000975, BTO:00...  set([BTO:0000149, BTO:0001379, BTO:0000420, BT...\n",
       "GSE10                                         [BTO:0001177]  set([BTO:0001177, BTO:0000416, BTO:0001175, BT...\n",
       "GSE10000                         [BTO:0002976, BTO:0002010]       set([BTO:0000135, BTO:0002010, BTO:0002976])\n",
       "GSE10001                                      [BTO:0000759]                                 set([BTO:0000759])\n",
       "GSE10002            [BTO:0001471, BTO:0000371, BTO:0000414]       set([BTO:0001471, BTO:0000371, BTO:0000414])"
      ]
     },
     "execution_count": 36,
     "metadata": {},
     "output_type": "execute_result"
    }
   ],
   "source": [
    "results.head()"
   ]
  },
  {
   "cell_type": "code",
   "execution_count": 37,
   "metadata": {
    "collapsed": false
   },
   "outputs": [
    {
     "data": {
      "text/plain": [
       "646239"
      ]
     },
     "execution_count": 37,
     "metadata": {},
     "output_type": "execute_result"
    }
   ],
   "source": [
    "(\n",
    "    results.join(res_series_partial_annotated)\n",
    "#     .assign(collapsed_len=lambda d: d.collapsed.map(len))\n",
    "#     .query('collapsed_len == 1')\n",
    "    [results.collapsed.map(len) == 1]\n",
    "    .stored_samples\n",
    "    .sum()\n",
    ")"
   ]
  },
  {
   "cell_type": "code",
   "execution_count": 38,
   "metadata": {
    "collapsed": false
   },
   "outputs": [
    {
     "data": {
      "text/plain": [
       "(21553, 2)"
      ]
     },
     "execution_count": 38,
     "metadata": {},
     "output_type": "execute_result"
    }
   ],
   "source": [
    "(\n",
    "    results\n",
    "#     .assign(collapsed_len=lambda d: d.collapsed.map(len))\n",
    "#     .query('collapsed_len == 1')\n",
    "    [results.collapsed.map(len) == 1]\n",
    "    .shape\n",
    ")"
   ]
  }
 ],
 "metadata": {
  "kernelspec": {
   "display_name": "Python 3",
   "language": "python",
   "name": "python3"
  },
  "language_info": {
   "codemirror_mode": {
    "name": "ipython",
    "version": 3
   },
   "file_extension": ".py",
   "mimetype": "text/x-python",
   "name": "python",
   "nbconvert_exporter": "python",
   "pygments_lexer": "ipython3",
   "version": "3.4.0"
  }
 },
 "nbformat": 4,
 "nbformat_minor": 0
}
