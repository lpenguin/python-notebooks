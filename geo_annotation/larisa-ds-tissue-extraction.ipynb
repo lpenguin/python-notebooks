{
 "cells": [
  {
   "cell_type": "code",
   "execution_count": 3,
   "metadata": {
    "collapsed": true
   },
   "outputs": [],
   "source": [
    "import sys\n",
    "sys.path.append('..')"
   ]
  },
  {
   "cell_type": "code",
   "execution_count": 4,
   "metadata": {
    "collapsed": true
   },
   "outputs": [],
   "source": [
    "import lib\n",
    "from lib import utils\n",
    "\n",
    "import pandas as pd\n",
    "import numpy as np\n",
    "from qgrid import show_grid\n",
    "\n",
    "from lib.obo import read_ontology\n",
    "from lib.classification.elastic import search_term, collapse_matches\n",
    "\n",
    "\n",
    "import data\n",
    "from elasticsearch import Elasticsearch\n",
    "\n",
    "es = Elasticsearch()"
   ]
  },
  {
   "cell_type": "code",
   "execution_count": 5,
   "metadata": {
    "collapsed": false
   },
   "outputs": [
    {
     "data": {
      "text/html": [
       "<div>\n",
       "<table border=\"1\" class=\"dataframe\">\n",
       "  <thead>\n",
       "    <tr style=\"text-align: right;\">\n",
       "      <th></th>\n",
       "      <th>classes</th>\n",
       "    </tr>\n",
       "    <tr>\n",
       "      <th>id</th>\n",
       "      <th></th>\n",
       "    </tr>\n",
       "  </thead>\n",
       "  <tbody>\n",
       "    <tr>\n",
       "      <th>2817</th>\n",
       "      <td>[DOID:0060108]</td>\n",
       "    </tr>\n",
       "    <tr>\n",
       "      <th>3292</th>\n",
       "      <td>[DOID:5520]</td>\n",
       "    </tr>\n",
       "    <tr>\n",
       "      <th>3467</th>\n",
       "      <td>[DOID:3969]</td>\n",
       "    </tr>\n",
       "    <tr>\n",
       "      <th>3744</th>\n",
       "      <td>[DOID:1612]</td>\n",
       "    </tr>\n",
       "    <tr>\n",
       "      <th>4107</th>\n",
       "      <td>[DOID:9256]</td>\n",
       "    </tr>\n",
       "    <tr>\n",
       "      <th>4183</th>\n",
       "      <td>[DOID:0050589, DOID:9256, DOID:0050860]</td>\n",
       "    </tr>\n",
       "    <tr>\n",
       "      <th>4290</th>\n",
       "      <td>[DOID:3068, DOID:3181, DOID:3069]</td>\n",
       "    </tr>\n",
       "  </tbody>\n",
       "</table>\n",
       "</div>"
      ],
      "text/plain": [
       "                                      classes\n",
       "id                                           \n",
       "2817                           [DOID:0060108]\n",
       "3292                              [DOID:5520]\n",
       "3467                              [DOID:3969]\n",
       "3744                              [DOID:1612]\n",
       "4107                              [DOID:9256]\n",
       "4183  [DOID:0050589, DOID:9256, DOID:0050860]\n",
       "4290        [DOID:3068, DOID:3181, DOID:3069]"
      ]
     },
     "execution_count": 5,
     "metadata": {},
     "output_type": "execute_result"
    }
   ],
   "source": [
    "larisa_series = data.larisa_series()\n",
    "\n",
    "larisa_ids = list(map(int, larisa_series.index.unique()))\n",
    "larisa_vd = pd.DataFrame(dict(classes=larisa_series[['doid']]\n",
    "                         .reset_index()\n",
    "                         .groupby('id')['doid']\n",
    "                         .apply(lambda x: list(set(x)))))\n",
    "larisa_vd[:7]"
   ]
  },
  {
   "cell_type": "code",
   "execution_count": 12,
   "metadata": {
    "collapsed": true
   },
   "outputs": [],
   "source": [
    "def names(ids):\n",
    "    return [ontology.meta[item_id].name for item_id in ids]"
   ]
  },
  {
   "cell_type": "code",
   "execution_count": 14,
   "metadata": {
    "collapsed": false
   },
   "outputs": [
    {
     "data": {
      "text/html": [
       "<div>\n",
       "<table border=\"1\" class=\"dataframe\">\n",
       "  <thead>\n",
       "    <tr style=\"text-align: right;\">\n",
       "      <th></th>\n",
       "      <th>tissue</th>\n",
       "      <th>tissue_assigned</th>\n",
       "      <th>oid_assigned</th>\n",
       "    </tr>\n",
       "  </thead>\n",
       "  <tbody>\n",
       "    <tr>\n",
       "      <th>0</th>\n",
       "      <td>breast sample</td>\n",
       "      <td>breast</td>\n",
       "      <td>BTO:0000149</td>\n",
       "    </tr>\n",
       "    <tr>\n",
       "      <th>1</th>\n",
       "      <td>Mammary Gland Cell</td>\n",
       "      <td>mammary gland</td>\n",
       "      <td>BTO:0000817</td>\n",
       "    </tr>\n",
       "    <tr>\n",
       "      <th>2</th>\n",
       "      <td>CD4+ T cells</td>\n",
       "      <td>NaN</td>\n",
       "      <td>NaN</td>\n",
       "    </tr>\n",
       "    <tr>\n",
       "      <th>3</th>\n",
       "      <td>epithelial cells</td>\n",
       "      <td>epithelial cell</td>\n",
       "      <td>BTO:0000414</td>\n",
       "    </tr>\n",
       "    <tr>\n",
       "      <th>4</th>\n",
       "      <td>stroma cells</td>\n",
       "      <td>prostate gland stromal cell</td>\n",
       "      <td>BTO:0003972</td>\n",
       "    </tr>\n",
       "  </tbody>\n",
       "</table>\n",
       "</div>"
      ],
      "text/plain": [
       "               tissue              tissue_assigned oid_assigned\n",
       "0       breast sample                       breast  BTO:0000149\n",
       "1  Mammary Gland Cell                mammary gland  BTO:0000817\n",
       "2        CD4+ T cells                          NaN          NaN\n",
       "3    epithelial cells              epithelial cell  BTO:0000414\n",
       "4        stroma cells  prostate gland stromal cell  BTO:0003972"
      ]
     },
     "execution_count": 14,
     "metadata": {},
     "output_type": "execute_result"
    }
   ],
   "source": [
    "tissues_assigned_fixed = pd.read_csv('../data/geo-annotation/larisa-tissues-assigned-fixed.csv')\n",
    "tissues_assigned_fixed.head()"
   ]
  },
  {
   "cell_type": "code",
   "execution_count": 15,
   "metadata": {
    "collapsed": false
   },
   "outputs": [
    {
     "data": {
      "text/html": [
       "<div>\n",
       "<table border=\"1\" class=\"dataframe\">\n",
       "  <thead>\n",
       "    <tr style=\"text-align: right;\">\n",
       "      <th></th>\n",
       "      <th>platform</th>\n",
       "      <th>series</th>\n",
       "      <th>tissue</th>\n",
       "      <th>tissue_assigned</th>\n",
       "      <th>oid_assigned</th>\n",
       "    </tr>\n",
       "  </thead>\n",
       "  <tbody>\n",
       "    <tr>\n",
       "      <th>0</th>\n",
       "      <td>GPL570</td>\n",
       "      <td>GSE65194</td>\n",
       "      <td>breast sample</td>\n",
       "      <td>breast</td>\n",
       "      <td>BTO:0000149</td>\n",
       "    </tr>\n",
       "    <tr>\n",
       "      <th>1</th>\n",
       "      <td>GPL570</td>\n",
       "      <td>GSE65194</td>\n",
       "      <td>breast sample</td>\n",
       "      <td>breast</td>\n",
       "      <td>BTO:0000149</td>\n",
       "    </tr>\n",
       "    <tr>\n",
       "      <th>2</th>\n",
       "      <td>GPL570</td>\n",
       "      <td>GSE65194</td>\n",
       "      <td>breast sample</td>\n",
       "      <td>breast</td>\n",
       "      <td>BTO:0000149</td>\n",
       "    </tr>\n",
       "    <tr>\n",
       "      <th>3</th>\n",
       "      <td>GPL570</td>\n",
       "      <td>GSE51450</td>\n",
       "      <td>breast sample</td>\n",
       "      <td>breast</td>\n",
       "      <td>BTO:0000149</td>\n",
       "    </tr>\n",
       "    <tr>\n",
       "      <th>4</th>\n",
       "      <td>GPL570</td>\n",
       "      <td>GSE51450</td>\n",
       "      <td>breast sample</td>\n",
       "      <td>breast</td>\n",
       "      <td>BTO:0000149</td>\n",
       "    </tr>\n",
       "  </tbody>\n",
       "</table>\n",
       "</div>"
      ],
      "text/plain": [
       "  platform    series         tissue tissue_assigned oid_assigned\n",
       "0   GPL570  GSE65194  breast sample          breast  BTO:0000149\n",
       "1   GPL570  GSE65194  breast sample          breast  BTO:0000149\n",
       "2   GPL570  GSE65194  breast sample          breast  BTO:0000149\n",
       "3   GPL570  GSE51450  breast sample          breast  BTO:0000149\n",
       "4   GPL570  GSE51450  breast sample          breast  BTO:0000149"
      ]
     },
     "execution_count": 15,
     "metadata": {},
     "output_type": "execute_result"
    }
   ],
   "source": [
    "series_tissues = ( \n",
    "    pd.merge(larisa_series, \n",
    "             tissues_assigned_fixed, \n",
    "             left_on='tissue', \n",
    "             right_on='tissue', \n",
    "             how='left')\n",
    "    [['platform', 'series', 'tissue', 'tissue_assigned', 'oid_assigned']]\n",
    "    .reset_index()\n",
    "    .drop('index', axis=1)\n",
    ")\n",
    "\n",
    "series_tissues.head()\n"
   ]
  },
  {
   "cell_type": "code",
   "execution_count": 16,
   "metadata": {
    "collapsed": false
   },
   "outputs": [],
   "source": [
    "good_series = (\n",
    "    series_tissues\n",
    "    [['series', 'oid_assigned']]\n",
    "    .groupby('series')\n",
    "    .oid_assigned\n",
    "    .apply(lambda oids: not any(pd.isnull(oid) for oid in oids))\n",
    ")\n",
    "good_series = good_series[good_series]"
   ]
  },
  {
   "cell_type": "code",
   "execution_count": 17,
   "metadata": {
    "collapsed": false
   },
   "outputs": [],
   "source": [
    "series_tissues = series_tissues[series_tissues.series.isin(good_series.index)].drop_duplicates()"
   ]
  },
  {
   "cell_type": "code",
   "execution_count": 18,
   "metadata": {
    "collapsed": false
   },
   "outputs": [
    {
     "data": {
      "text/plain": [
       "(288,)"
      ]
     },
     "execution_count": 18,
     "metadata": {},
     "output_type": "execute_result"
    }
   ],
   "source": [
    "series_tissues['series'].unique().shape"
   ]
  },
  {
   "cell_type": "code",
   "execution_count": 19,
   "metadata": {
    "collapsed": false
   },
   "outputs": [],
   "source": [
    "( \n",
    "    series_tissues\n",
    "    [['series', 'oid_assigned']]\n",
    "    .groupby('series')\n",
    "    .oid_assigned\n",
    "    .apply(lambda d: list(set(d)))\n",
    "    .to_frame()\n",
    "    .rename(columns={\n",
    "            'oid_assigned': 'classes'\n",
    "        })\n",
    "    .to_pickle('../data/geo-annotation/val-larisa-tissues.py3.pickle')\n",
    ")"
   ]
  },
  {
   "cell_type": "code",
   "execution_count": null,
   "metadata": {
    "collapsed": true
   },
   "outputs": [],
   "source": []
  }
 ],
 "metadata": {
  "kernelspec": {
   "display_name": "Python 3",
   "language": "python",
   "name": "python3"
  },
  "language_info": {
   "codemirror_mode": {
    "name": "ipython",
    "version": 3
   },
   "file_extension": ".py",
   "mimetype": "text/x-python",
   "name": "python",
   "nbconvert_exporter": "python",
   "pygments_lexer": "ipython3",
   "version": "3.4.3"
  }
 },
 "nbformat": 4,
 "nbformat_minor": 0
}
