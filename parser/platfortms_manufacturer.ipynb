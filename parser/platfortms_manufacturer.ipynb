{
 "cells": [
  {
   "cell_type": "code",
   "execution_count": 1,
   "metadata": {
    "collapsed": true
   },
   "outputs": [],
   "source": [
    "import pymongo as pm\n",
    "db = pm.MongoClient().scraper_test_dev\n",
    "platforms = db.platforms.find({}, {'_id': 0, 'accession': 1, 'manufacturer': 1, 'title': 1})"
   ]
  },
  {
   "cell_type": "code",
   "execution_count": 11,
   "metadata": {
    "collapsed": true
   },
   "outputs": [],
   "source": [
    "mans = ['affymetrix', 'illumina', 'agilent']\n",
    "def get_manufacturer(manufacturer, title):\n",
    "    for m in mans:\n",
    "        if m in (manufacturer or '').lower() or m in (title or '').lower():\n",
    "            return m\n",
    "    return None"
   ]
  },
  {
   "cell_type": "code",
   "execution_count": 13,
   "metadata": {
    "collapsed": false
   },
   "outputs": [],
   "source": [
    "bulk = db.platforms.initialize_unordered_bulk_op()\n",
    "for p in platforms:\n",
    "    accession = p['accession']\n",
    "    man = get_manufacturer(p['manufacturer'], p['title'])\n",
    "    bulk.find({'accession': accession}).update_one({'$set': {'manufaturer_assigned': man}})"
   ]
  },
  {
   "cell_type": "code",
   "execution_count": 14,
   "metadata": {
    "collapsed": false
   },
   "outputs": [
    {
     "data": {
      "text/plain": [
       "{'nInserted': 0,\n",
       " 'nMatched': 25864,\n",
       " 'nModified': 2171,\n",
       " 'nRemoved': 0,\n",
       " 'nUpserted': 0,\n",
       " 'upserted': [],\n",
       " 'writeConcernErrors': [],\n",
       " 'writeErrors': []}"
      ]
     },
     "execution_count": 14,
     "metadata": {},
     "output_type": "execute_result"
    }
   ],
   "source": [
    "bulk.execute()"
   ]
  },
  {
   "cell_type": "code",
   "execution_count": null,
   "metadata": {
    "collapsed": true
   },
   "outputs": [],
   "source": []
  }
 ],
 "metadata": {
  "kernelspec": {
   "display_name": "Python 3",
   "language": "python",
   "name": "python3"
  },
  "language_info": {
   "codemirror_mode": {
    "name": "ipython",
    "version": 3
   },
   "file_extension": ".py",
   "mimetype": "text/x-python",
   "name": "python",
   "nbconvert_exporter": "python",
   "pygments_lexer": "ipython3",
   "version": "3.4.0"
  }
 },
 "nbformat": 4,
 "nbformat_minor": 0
}
