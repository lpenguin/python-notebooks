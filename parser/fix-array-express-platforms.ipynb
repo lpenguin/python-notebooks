{
 "cells": [
  {
   "cell_type": "code",
   "execution_count": 1,
   "metadata": {
    "collapsed": true
   },
   "outputs": [],
   "source": [
    "platforms_map = {\n",
    "    'A-AFFY-44': 'GPL570'\n",
    "}"
   ]
  },
  {
   "cell_type": "code",
   "execution_count": 4,
   "metadata": {
    "collapsed": true
   },
   "outputs": [],
   "source": [
    "import pymongo as pm\n",
    "db = pm.MongoClient().scraper_test_dev\n",
    "samples_to_fix = db.samples.find({'platform': {'$in': list(platforms_map.keys())}}, {'_id': 0, 'accession': 1, 'platform': 1})"
   ]
  },
  {
   "cell_type": "code",
   "execution_count": 5,
   "metadata": {
    "collapsed": false
   },
   "outputs": [],
   "source": [
    "bulk = db.samples.initialize_unordered_bulk_op()\n",
    "for s in samples_to_fix:\n",
    "    accession = s['accession']\n",
    "    platform = s['platform']\n",
    "    bulk.find({'accession': accession}).update_one({'$set': {'platform': platforms_map[platform]}})"
   ]
  },
  {
   "cell_type": "code",
   "execution_count": 6,
   "metadata": {
    "collapsed": false
   },
   "outputs": [
    {
     "data": {
      "text/plain": [
       "{'nInserted': 0,\n",
       " 'nMatched': 19412,\n",
       " 'nModified': 19412,\n",
       " 'nRemoved': 0,\n",
       " 'nUpserted': 0,\n",
       " 'upserted': [],\n",
       " 'writeConcernErrors': [],\n",
       " 'writeErrors': []}"
      ]
     },
     "execution_count": 6,
     "metadata": {},
     "output_type": "execute_result"
    }
   ],
   "source": [
    "bulk.execute()"
   ]
  },
  {
   "cell_type": "code",
   "execution_count": null,
   "metadata": {
    "collapsed": true
   },
   "outputs": [],
   "source": []
  }
 ],
 "metadata": {
  "kernelspec": {
   "display_name": "Python 3",
   "language": "python",
   "name": "python3"
  },
  "language_info": {
   "codemirror_mode": {
    "name": "ipython",
    "version": 3
   },
   "file_extension": ".py",
   "mimetype": "text/x-python",
   "name": "python",
   "nbconvert_exporter": "python",
   "pygments_lexer": "ipython3",
   "version": "3.4.0"
  }
 },
 "nbformat": 4,
 "nbformat_minor": 0
}
