{
 "cells": [
  {
   "cell_type": "code",
   "execution_count": 1,
   "metadata": {
    "collapsed": true
   },
   "outputs": [],
   "source": [
    "import pymongo\n",
    "import pandas as pd\n"
   ]
  },
  {
   "cell_type": "code",
   "execution_count": 2,
   "metadata": {
    "collapsed": true
   },
   "outputs": [],
   "source": [
    "db = pymongo.MongoClient().scraper_test_dev"
   ]
  },
  {
   "cell_type": "code",
   "execution_count": 12,
   "metadata": {
    "collapsed": false
   },
   "outputs": [],
   "source": [
    "platcount = pd.DataFrame(list(db.platcount.find({}, {'_id': 0})))"
   ]
  },
  {
   "cell_type": "code",
   "execution_count": 13,
   "metadata": {
    "collapsed": false
   },
   "outputs": [
    {
     "data": {
      "text/html": [
       "<div>\n",
       "<table border=\"1\" class=\"dataframe\">\n",
       "  <thead>\n",
       "    <tr style=\"text-align: right;\">\n",
       "      <th></th>\n",
       "      <th>accession</th>\n",
       "      <th>count</th>\n",
       "      <th>man</th>\n",
       "      <th>organism</th>\n",
       "    </tr>\n",
       "  </thead>\n",
       "  <tbody>\n",
       "    <tr>\n",
       "      <th>0</th>\n",
       "      <td>GPL15374</td>\n",
       "      <td>72</td>\n",
       "      <td>agilent</td>\n",
       "      <td>Thunnus thynnus</td>\n",
       "    </tr>\n",
       "    <tr>\n",
       "      <th>1</th>\n",
       "      <td>GPL15377</td>\n",
       "      <td>6</td>\n",
       "      <td>illumina</td>\n",
       "      <td>Alternaria brassicicola</td>\n",
       "    </tr>\n",
       "    <tr>\n",
       "      <th>2</th>\n",
       "      <td>GPL15378</td>\n",
       "      <td>7</td>\n",
       "      <td>agilent</td>\n",
       "      <td>Cottus</td>\n",
       "    </tr>\n",
       "    <tr>\n",
       "      <th>3</th>\n",
       "      <td>GPL15379</td>\n",
       "      <td>141</td>\n",
       "      <td>agilent</td>\n",
       "      <td>Canis lupus familiaris</td>\n",
       "    </tr>\n",
       "    <tr>\n",
       "      <th>4</th>\n",
       "      <td>GPL15380</td>\n",
       "      <td>92</td>\n",
       "      <td>illumina</td>\n",
       "      <td>Homo sapiens</td>\n",
       "    </tr>\n",
       "  </tbody>\n",
       "</table>\n",
       "</div>"
      ],
      "text/plain": [
       "  accession  count       man                 organism\n",
       "0  GPL15374     72   agilent          Thunnus thynnus\n",
       "1  GPL15377      6  illumina  Alternaria brassicicola\n",
       "2  GPL15378      7   agilent                   Cottus\n",
       "3  GPL15379    141   agilent   Canis lupus familiaris\n",
       "4  GPL15380     92  illumina             Homo sapiens"
      ]
     },
     "execution_count": 13,
     "metadata": {},
     "output_type": "execute_result"
    }
   ],
   "source": [
    "platcount.head()"
   ]
  },
  {
   "cell_type": "code",
   "execution_count": 10,
   "metadata": {
    "collapsed": false
   },
   "outputs": [],
   "source": [
    "from elasticsearch import Elasticsearch\n",
    "es = Elasticsearch()\n",
    "query =  {\n",
    "    \"size\": 0,\n",
    "    \"query\": {\"filtered\": {\n",
    "      \"query\": {\"match_all\": {}},\n",
    "      \"filter\": {\"bool\": {\n",
    "        \"must\": [\n",
    "          {\"term\": {\n",
    "            \"data_source\": \"geo\"\n",
    "          }},\n",
    "          {\"term\": {\n",
    "            \"organism\": \"Homo sapiens\"\n",
    "          }}\n",
    "        ]\n",
    "      }}\n",
    "      \n",
    "    }}, \n",
    "    \"aggs\" : {\n",
    "        \"platforms\" : {\n",
    "            \"terms\" : {\n",
    "                \"field\" : \"platform\",\n",
    "                \"size\": 4000\n",
    "            }\n",
    "            \n",
    "        }\n",
    "    }\n",
    "}\n",
    "\n",
    "res = es.search(index='samples_dev', body=query)\n"
   ]
  },
  {
   "cell_type": "code",
   "execution_count": 11,
   "metadata": {
    "collapsed": false
   },
   "outputs": [],
   "source": [
    "platcount_geo = (\n",
    "    pd.DataFrame(res['aggregations']['platforms']['buckets'])\n",
    "    .rename(columns={'key': 'accession'})\n",
    ")"
   ]
  },
  {
   "cell_type": "code",
   "execution_count": 12,
   "metadata": {
    "collapsed": false
   },
   "outputs": [
    {
     "data": {
      "text/html": [
       "<div>\n",
       "<table border=\"1\" class=\"dataframe\">\n",
       "  <thead>\n",
       "    <tr style=\"text-align: right;\">\n",
       "      <th></th>\n",
       "      <th>doc_count</th>\n",
       "      <th>accession</th>\n",
       "    </tr>\n",
       "  </thead>\n",
       "  <tbody>\n",
       "    <tr>\n",
       "      <th>0</th>\n",
       "      <td>108165</td>\n",
       "      <td>GPL570</td>\n",
       "    </tr>\n",
       "    <tr>\n",
       "      <th>1</th>\n",
       "      <td>36748</td>\n",
       "      <td>GPL96</td>\n",
       "    </tr>\n",
       "    <tr>\n",
       "      <th>2</th>\n",
       "      <td>33420</td>\n",
       "      <td>GPL10558</td>\n",
       "    </tr>\n",
       "    <tr>\n",
       "      <th>3</th>\n",
       "      <td>29069</td>\n",
       "      <td>GPL13534</td>\n",
       "    </tr>\n",
       "    <tr>\n",
       "      <th>4</th>\n",
       "      <td>23543</td>\n",
       "      <td>GPL6244</td>\n",
       "    </tr>\n",
       "  </tbody>\n",
       "</table>\n",
       "</div>"
      ],
      "text/plain": [
       "   doc_count accession\n",
       "0     108165    GPL570\n",
       "1      36748     GPL96\n",
       "2      33420  GPL10558\n",
       "3      29069  GPL13534\n",
       "4      23543   GPL6244"
      ]
     },
     "execution_count": 12,
     "metadata": {},
     "output_type": "execute_result"
    }
   ],
   "source": [
    "platcount_geo.head()"
   ]
  },
  {
   "cell_type": "code",
   "execution_count": 42,
   "metadata": {
    "collapsed": false
   },
   "outputs": [
    {
     "data": {
      "text/html": [
       "<div>\n",
       "<table border=\"1\" class=\"dataframe\">\n",
       "  <thead>\n",
       "    <tr style=\"text-align: right;\">\n",
       "      <th></th>\n",
       "      <th>doc_count</th>\n",
       "      <th>accession</th>\n",
       "    </tr>\n",
       "  </thead>\n",
       "  <tbody>\n",
       "    <tr>\n",
       "      <th>0</th>\n",
       "      <td>19111</td>\n",
       "      <td>A-AFFY-44</td>\n",
       "    </tr>\n",
       "    <tr>\n",
       "      <th>1</th>\n",
       "      <td>16378</td>\n",
       "      <td>A-AFFY-33</td>\n",
       "    </tr>\n",
       "    <tr>\n",
       "      <th>2</th>\n",
       "      <td>16325</td>\n",
       "      <td>A-MEXP-1171</td>\n",
       "    </tr>\n",
       "    <tr>\n",
       "      <th>3</th>\n",
       "      <td>10976</td>\n",
       "      <td>A-AGIL-11</td>\n",
       "    </tr>\n",
       "    <tr>\n",
       "      <th>4</th>\n",
       "      <td>8044</td>\n",
       "      <td>A-UMCU-3</td>\n",
       "    </tr>\n",
       "  </tbody>\n",
       "</table>\n",
       "</div>"
      ],
      "text/plain": [
       "   doc_count    accession\n",
       "0      19111    A-AFFY-44\n",
       "1      16378    A-AFFY-33\n",
       "2      16325  A-MEXP-1171\n",
       "3      10976    A-AGIL-11\n",
       "4       8044     A-UMCU-3"
      ]
     },
     "execution_count": 42,
     "metadata": {},
     "output_type": "execute_result"
    }
   ],
   "source": [
    "from elasticsearch import Elasticsearch\n",
    "es = Elasticsearch()\n",
    "query =  {\n",
    "    \"size\": 0,\n",
    "    \"query\": {\"filtered\": {\n",
    "      \"query\": {\"match_all\": {}},\n",
    "      \"filter\": {\"bool\": {\n",
    "        \"must\": [\n",
    "          {\"term\": {\n",
    "            \"data_source\": \"array-express\"\n",
    "          }},\n",
    "          {\"term\": {\n",
    "            \"organism\": \"Homo sapiens\"\n",
    "          }}\n",
    "        ]\n",
    "      }}\n",
    "      \n",
    "    }}, \n",
    "    \"aggs\" : {\n",
    "        \"platforms\" : {\n",
    "            \"terms\" : {\n",
    "                \"field\" : \"platform\",\n",
    "                \"size\": 4000\n",
    "            }\n",
    "            \n",
    "        }\n",
    "    }\n",
    "}\n",
    "\n",
    "res = es.search(index='samples_dev', body=query)\n",
    "platcount_ae = (\n",
    "    pd.DataFrame(res['aggregations']['platforms']['buckets'])\n",
    "    .rename(columns={'key': 'accession'})\n",
    ")\n",
    "platcount_ae.head()"
   ]
  },
  {
   "cell_type": "code",
   "execution_count": 53,
   "metadata": {
    "collapsed": false
   },
   "outputs": [
    {
     "data": {
      "text/plain": [
       "(1083, 2)"
      ]
     },
     "execution_count": 53,
     "metadata": {},
     "output_type": "execute_result"
    }
   ],
   "source": [
    "platcount_ae.shape"
   ]
  },
  {
   "cell_type": "code",
   "execution_count": null,
   "metadata": {
    "collapsed": false
   },
   "outputs": [],
   "source": [
    "# pipeline = [\n",
    "#     {'$match': {'data_source': 'geo'}},\n",
    "#     {'$group': {'_id': '$platform', 'count': {'$sum': 1}}},\n",
    "# ]\n",
    "# platcount_geo = pd.DataFrame(list(db.samples.aggregate(pipeline)))"
   ]
  },
  {
   "cell_type": "code",
   "execution_count": null,
   "metadata": {
    "collapsed": true
   },
   "outputs": [],
   "source": [
    "# platcount_geo.shape()"
   ]
  },
  {
   "cell_type": "code",
   "execution_count": null,
   "metadata": {
    "collapsed": true
   },
   "outputs": [],
   "source": [
    "# platcount_geo.head()"
   ]
  },
  {
   "cell_type": "code",
   "execution_count": 43,
   "metadata": {
    "collapsed": true
   },
   "outputs": [],
   "source": [
    "platforms = pd.DataFrame(list(\n",
    "    db.platforms.find({}, {\n",
    "                'accession': 1,\n",
    "                'title': 1,\n",
    "                'data_source': 1,\n",
    "                '_id': 0,\n",
    "            })\n",
    "    ))"
   ]
  },
  {
   "cell_type": "code",
   "execution_count": 14,
   "metadata": {
    "collapsed": false
   },
   "outputs": [
    {
     "data": {
      "text/html": [
       "<div>\n",
       "<table border=\"1\" class=\"dataframe\">\n",
       "  <thead>\n",
       "    <tr style=\"text-align: right;\">\n",
       "      <th></th>\n",
       "      <th>accession</th>\n",
       "      <th>data_source</th>\n",
       "      <th>title</th>\n",
       "    </tr>\n",
       "  </thead>\n",
       "  <tbody>\n",
       "    <tr>\n",
       "      <th>0</th>\n",
       "      <td>GPL15373</td>\n",
       "      <td>geo</td>\n",
       "      <td>Applied Biological Materials human miRNA (AMB ...</td>\n",
       "    </tr>\n",
       "    <tr>\n",
       "      <th>1</th>\n",
       "      <td>GPL15374</td>\n",
       "      <td>geo</td>\n",
       "      <td>Agilent-024425 Thunnus thynnus 2009 (Feature N...</td>\n",
       "    </tr>\n",
       "    <tr>\n",
       "      <th>2</th>\n",
       "      <td>GPL15377</td>\n",
       "      <td>geo</td>\n",
       "      <td>Illumina HiSeq 2000 (Alternaria brassicicola)</td>\n",
       "    </tr>\n",
       "    <tr>\n",
       "      <th>3</th>\n",
       "      <td>GPL15378</td>\n",
       "      <td>geo</td>\n",
       "      <td>Agilent-029126 order_cottus_expression_array_1...</td>\n",
       "    </tr>\n",
       "    <tr>\n",
       "      <th>4</th>\n",
       "      <td>GPL15379</td>\n",
       "      <td>geo</td>\n",
       "      <td>Agilent-021193 Canine (V2) Gene Expression Mic...</td>\n",
       "    </tr>\n",
       "  </tbody>\n",
       "</table>\n",
       "</div>"
      ],
      "text/plain": [
       "  accession data_source                                              title\n",
       "0  GPL15373         geo  Applied Biological Materials human miRNA (AMB ...\n",
       "1  GPL15374         geo  Agilent-024425 Thunnus thynnus 2009 (Feature N...\n",
       "2  GPL15377         geo      Illumina HiSeq 2000 (Alternaria brassicicola)\n",
       "3  GPL15378         geo  Agilent-029126 order_cottus_expression_array_1...\n",
       "4  GPL15379         geo  Agilent-021193 Canine (V2) Gene Expression Mic..."
      ]
     },
     "execution_count": 14,
     "metadata": {},
     "output_type": "execute_result"
    }
   ],
   "source": [
    "platforms.head()"
   ]
  },
  {
   "cell_type": "code",
   "execution_count": 15,
   "metadata": {
    "collapsed": true
   },
   "outputs": [],
   "source": [
    "platforms_counts = platcount_geo.merge(platforms)"
   ]
  },
  {
   "cell_type": "code",
   "execution_count": 17,
   "metadata": {
    "collapsed": false
   },
   "outputs": [
    {
     "data": {
      "text/plain": [
       "(3910, 4)"
      ]
     },
     "execution_count": 17,
     "metadata": {},
     "output_type": "execute_result"
    }
   ],
   "source": [
    "platforms_counts.shape"
   ]
  },
  {
   "cell_type": "code",
   "execution_count": 20,
   "metadata": {
    "collapsed": false
   },
   "outputs": [
    {
     "data": {
      "text/html": [
       "<div>\n",
       "<table border=\"1\" class=\"dataframe\">\n",
       "  <thead>\n",
       "    <tr style=\"text-align: right;\">\n",
       "      <th></th>\n",
       "      <th>doc_count</th>\n",
       "      <th>accession</th>\n",
       "      <th>data_source</th>\n",
       "      <th>title</th>\n",
       "    </tr>\n",
       "  </thead>\n",
       "  <tbody>\n",
       "    <tr>\n",
       "      <th>0</th>\n",
       "      <td>108165</td>\n",
       "      <td>GPL570</td>\n",
       "      <td>geo</td>\n",
       "      <td>[HG-U133_Plus_2] Affymetrix Human Genome U133 ...</td>\n",
       "    </tr>\n",
       "    <tr>\n",
       "      <th>1</th>\n",
       "      <td>36748</td>\n",
       "      <td>GPL96</td>\n",
       "      <td>geo</td>\n",
       "      <td>[HG-U133A] Affymetrix Human Genome U133A Array</td>\n",
       "    </tr>\n",
       "    <tr>\n",
       "      <th>2</th>\n",
       "      <td>33420</td>\n",
       "      <td>GPL10558</td>\n",
       "      <td>geo</td>\n",
       "      <td>Illumina HumanHT-12 V4.0 expression beadchip</td>\n",
       "    </tr>\n",
       "    <tr>\n",
       "      <th>3</th>\n",
       "      <td>29069</td>\n",
       "      <td>GPL13534</td>\n",
       "      <td>geo</td>\n",
       "      <td>Illumina HumanMethylation450 BeadChip (HumanMe...</td>\n",
       "    </tr>\n",
       "    <tr>\n",
       "      <th>4</th>\n",
       "      <td>23543</td>\n",
       "      <td>GPL6244</td>\n",
       "      <td>geo</td>\n",
       "      <td>[HuGene-1_0-st] Affymetrix Human Gene 1.0 ST A...</td>\n",
       "    </tr>\n",
       "  </tbody>\n",
       "</table>\n",
       "</div>"
      ],
      "text/plain": [
       "   doc_count accession data_source  \\\n",
       "0     108165    GPL570         geo   \n",
       "1      36748     GPL96         geo   \n",
       "2      33420  GPL10558         geo   \n",
       "3      29069  GPL13534         geo   \n",
       "4      23543   GPL6244         geo   \n",
       "\n",
       "                                               title  \n",
       "0  [HG-U133_Plus_2] Affymetrix Human Genome U133 ...  \n",
       "1     [HG-U133A] Affymetrix Human Genome U133A Array  \n",
       "2       Illumina HumanHT-12 V4.0 expression beadchip  \n",
       "3  Illumina HumanMethylation450 BeadChip (HumanMe...  \n",
       "4  [HuGene-1_0-st] Affymetrix Human Gene 1.0 ST A...  "
      ]
     },
     "execution_count": 20,
     "metadata": {},
     "output_type": "execute_result"
    }
   ],
   "source": [
    "platforms_counts.head()"
   ]
  },
  {
   "cell_type": "code",
   "execution_count": 19,
   "metadata": {
    "collapsed": false
   },
   "outputs": [
    {
     "data": {
      "text/html": [
       "<div>\n",
       "<table border=\"1\" class=\"dataframe\">\n",
       "  <thead>\n",
       "    <tr style=\"text-align: right;\">\n",
       "      <th></th>\n",
       "      <th>doc_count</th>\n",
       "    </tr>\n",
       "  </thead>\n",
       "  <tbody>\n",
       "    <tr>\n",
       "      <th>count</th>\n",
       "      <td>3910.000000</td>\n",
       "    </tr>\n",
       "    <tr>\n",
       "      <th>mean</th>\n",
       "      <td>234.123018</td>\n",
       "    </tr>\n",
       "    <tr>\n",
       "      <th>std</th>\n",
       "      <td>2206.726270</td>\n",
       "    </tr>\n",
       "    <tr>\n",
       "      <th>min</th>\n",
       "      <td>1.000000</td>\n",
       "    </tr>\n",
       "    <tr>\n",
       "      <th>25%</th>\n",
       "      <td>6.000000</td>\n",
       "    </tr>\n",
       "    <tr>\n",
       "      <th>50%</th>\n",
       "      <td>22.000000</td>\n",
       "    </tr>\n",
       "    <tr>\n",
       "      <th>75%</th>\n",
       "      <td>80.000000</td>\n",
       "    </tr>\n",
       "    <tr>\n",
       "      <th>max</th>\n",
       "      <td>108165.000000</td>\n",
       "    </tr>\n",
       "  </tbody>\n",
       "</table>\n",
       "</div>"
      ],
      "text/plain": [
       "           doc_count\n",
       "count    3910.000000\n",
       "mean      234.123018\n",
       "std      2206.726270\n",
       "min         1.000000\n",
       "25%         6.000000\n",
       "50%        22.000000\n",
       "75%        80.000000\n",
       "max    108165.000000"
      ]
     },
     "execution_count": 19,
     "metadata": {},
     "output_type": "execute_result"
    }
   ],
   "source": [
    "platforms_counts.describe()"
   ]
  },
  {
   "cell_type": "code",
   "execution_count": 22,
   "metadata": {
    "collapsed": false
   },
   "outputs": [
    {
     "data": {
      "text/plain": [
       "(5618, 6)"
      ]
     },
     "execution_count": 22,
     "metadata": {},
     "output_type": "execute_result"
    }
   ],
   "source": [
    "platforms_counts.shape"
   ]
  },
  {
   "cell_type": "code",
   "execution_count": 21,
   "metadata": {
    "collapsed": false
   },
   "outputs": [
    {
     "data": {
      "text/html": [
       "<div>\n",
       "<table border=\"1\" class=\"dataframe\">\n",
       "  <thead>\n",
       "    <tr style=\"text-align: right;\">\n",
       "      <th></th>\n",
       "      <th>accession</th>\n",
       "      <th>count</th>\n",
       "      <th>man</th>\n",
       "      <th>organism</th>\n",
       "      <th>data_source</th>\n",
       "      <th>title</th>\n",
       "    </tr>\n",
       "  </thead>\n",
       "  <tbody>\n",
       "    <tr>\n",
       "      <th>0</th>\n",
       "      <td>GPL15374</td>\n",
       "      <td>72</td>\n",
       "      <td>agilent</td>\n",
       "      <td>Thunnus thynnus</td>\n",
       "      <td>geo</td>\n",
       "      <td>Agilent-024425 Thunnus thynnus 2009 (Feature N...</td>\n",
       "    </tr>\n",
       "    <tr>\n",
       "      <th>1</th>\n",
       "      <td>GPL15377</td>\n",
       "      <td>6</td>\n",
       "      <td>illumina</td>\n",
       "      <td>Alternaria brassicicola</td>\n",
       "      <td>geo</td>\n",
       "      <td>Illumina HiSeq 2000 (Alternaria brassicicola)</td>\n",
       "    </tr>\n",
       "    <tr>\n",
       "      <th>2</th>\n",
       "      <td>GPL15378</td>\n",
       "      <td>7</td>\n",
       "      <td>agilent</td>\n",
       "      <td>Cottus</td>\n",
       "      <td>geo</td>\n",
       "      <td>Agilent-029126 order_cottus_expression_array_1...</td>\n",
       "    </tr>\n",
       "    <tr>\n",
       "      <th>3</th>\n",
       "      <td>GPL15379</td>\n",
       "      <td>141</td>\n",
       "      <td>agilent</td>\n",
       "      <td>Canis lupus familiaris</td>\n",
       "      <td>geo</td>\n",
       "      <td>Agilent-021193 Canine (V2) Gene Expression Mic...</td>\n",
       "    </tr>\n",
       "    <tr>\n",
       "      <th>4</th>\n",
       "      <td>GPL15380</td>\n",
       "      <td>92</td>\n",
       "      <td>illumina</td>\n",
       "      <td>Homo sapiens</td>\n",
       "      <td>geo</td>\n",
       "      <td>Illumina Sentrix Array Matrix (SAM) - GoldenGa...</td>\n",
       "    </tr>\n",
       "  </tbody>\n",
       "</table>\n",
       "</div>"
      ],
      "text/plain": [
       "  accession  count       man                 organism data_source  \\\n",
       "0  GPL15374     72   agilent          Thunnus thynnus         geo   \n",
       "1  GPL15377      6  illumina  Alternaria brassicicola         geo   \n",
       "2  GPL15378      7   agilent                   Cottus         geo   \n",
       "3  GPL15379    141   agilent   Canis lupus familiaris         geo   \n",
       "4  GPL15380     92  illumina             Homo sapiens         geo   \n",
       "\n",
       "                                               title  \n",
       "0  Agilent-024425 Thunnus thynnus 2009 (Feature N...  \n",
       "1      Illumina HiSeq 2000 (Alternaria brassicicola)  \n",
       "2  Agilent-029126 order_cottus_expression_array_1...  \n",
       "3  Agilent-021193 Canine (V2) Gene Expression Mic...  \n",
       "4  Illumina Sentrix Array Matrix (SAM) - GoldenGa...  "
      ]
     },
     "execution_count": 21,
     "metadata": {},
     "output_type": "execute_result"
    }
   ],
   "source": [
    "platforms_counts.head()"
   ]
  },
  {
   "cell_type": "code",
   "execution_count": 25,
   "metadata": {
    "collapsed": true
   },
   "outputs": [],
   "source": [
    "FRMA_PLATFORMS = ['GPL' + str(x) for x in [\n",
    "    570, 571, 96,\n",
    "    1261,  # organism Mus musculus\n",
    "    6244,  # getting strange errors. data in matrix\n",
    "    # 1355,  # NO FRMA, Rattus norvegicus,\n",
    "    6246,  # no frma package (?). read.affybatch: The affy package can process data from the Gene ST 1.x series of arrays,\n",
    "    # but you should consider using either the oligo or xps packages, which are specifically\n",
    "    # designed for these arrays.\n",
    "    # there is no package called ‘mogene10stv1frmavecs’\n",
    "\n",
    "    90, # organism Saccharomyces cerevisiae\n",
    "    3921,\n",
    "    # 5175, # no frma package (?). read.affybatch: The affy package is not designed for this array type. \n",
    "    # Please use either the oligo or xps package.\n",
    "    # 5188, # no cdf frma packages\n",
    "    8321,  # organism Mus musculus\n",
    "]]"
   ]
  },
  {
   "cell_type": "code",
   "execution_count": 46,
   "metadata": {
    "collapsed": true
   },
   "outputs": [],
   "source": [
    "platforms_counts_ae = platcount_ae.merge(platforms).drop('data_source', axis=1)"
   ]
  },
  {
   "cell_type": "code",
   "execution_count": 51,
   "metadata": {
    "collapsed": false
   },
   "outputs": [
    {
     "data": {
      "text/plain": [
       "'[HG-U133_Plus_2] Affymetrix Human Genome U133 Plus 2.0 Array'"
      ]
     },
     "execution_count": 51,
     "metadata": {},
     "output_type": "execute_result"
    }
   ],
   "source": [
    "platforms_counts.query('accession == \"GPL570\"').title.iloc[0]"
   ]
  },
  {
   "cell_type": "code",
   "execution_count": 52,
   "metadata": {
    "collapsed": false
   },
   "outputs": [
    {
     "data": {
      "text/plain": [
       "'Affymetrix GeneChip Human Genome U133 Plus 2.0 [HG-U133_Plus_2]'"
      ]
     },
     "execution_count": 52,
     "metadata": {},
     "output_type": "execute_result"
    }
   ],
   "source": [
    "platforms_counts_ae.query('accession == \"A-AFFY-44\"').title.iloc[0]"
   ]
  },
  {
   "cell_type": "code",
   "execution_count": 40,
   "metadata": {
    "collapsed": false
   },
   "outputs": [],
   "source": [
    "(\n",
    "    platforms_counts\n",
    "    [platforms_counts.title.map(lambda t: 'methyl' not in t.lower())]\n",
    "    .assign(**{'frma?': lambda d: d.accession.isin(FRMA_PLATFORMS).map(int)})\n",
    "#     .set_index('accession') \n",
    "    .to_csv('../data/platforms-count-homo-geo.csv', index=False)\n",
    "#     .sort('count', ascending=False)\n",
    "#     .query('organism == \"Homo sapiens\"')\n",
    ")"
   ]
  },
  {
   "cell_type": "code",
   "execution_count": 41,
   "metadata": {
    "collapsed": false
   },
   "outputs": [
    {
     "name": "stdout",
     "output_type": "stream",
     "text": [
      "--2015-10-29 14:21:56--  http://www.ebi.ac.uk/arrayexpress/xml/v2/experiments?directsub=true\n",
      "Resolving www.ebi.ac.uk (www.ebi.ac.uk)... 193.62.192.80\n",
      "Connecting to www.ebi.ac.uk (www.ebi.ac.uk)|193.62.192.80|:80... connected.\n",
      "HTTP request sent, awaiting response... 200 OK\n",
      "Length: unspecified [text/xml]\n",
      "Saving to: ‘experiments?directsub=true’\n",
      "\n",
      "    [                               <=>     ] 46,463,521  9.67MB/s   in 9.0s   \n",
      "\n",
      "2015-10-29 14:22:07 (4.93 MB/s) - ‘experiments?directsub=true’ saved [46463521]\n",
      "\n"
     ]
    }
   ],
   "source": [
    "!wget http://www.ebi.ac.uk/arrayexpress/xml/v2/experiments?directsub=true"
   ]
  }
 ],
 "metadata": {
  "kernelspec": {
   "display_name": "Python 3",
   "language": "python",
   "name": "python3"
  },
  "language_info": {
   "codemirror_mode": {
    "name": "ipython",
    "version": 3
   },
   "file_extension": ".py",
   "mimetype": "text/x-python",
   "name": "python",
   "nbconvert_exporter": "python",
   "pygments_lexer": "ipython3",
   "version": "3.4.0"
  }
 },
 "nbformat": 4,
 "nbformat_minor": 0
}
