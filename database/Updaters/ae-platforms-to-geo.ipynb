{
 "cells": [
  {
   "cell_type": "code",
   "execution_count": 1,
   "metadata": {
    "collapsed": true
   },
   "outputs": [],
   "source": [
    "import pymongo\n",
    "from elasticsearch import Elasticsearch\n"
   ]
  },
  {
   "cell_type": "code",
   "execution_count": 2,
   "metadata": {
    "collapsed": true
   },
   "outputs": [],
   "source": [
    "db = pymongo.MongoClient()['scraper_array-express']"
   ]
  },
  {
   "cell_type": "code",
   "execution_count": 3,
   "metadata": {
    "collapsed": false
   },
   "outputs": [
    {
     "data": {
      "text/plain": [
       "60859"
      ]
     },
     "execution_count": 3,
     "metadata": {},
     "output_type": "execute_result"
    }
   ],
   "source": [
    "db.series.count()"
   ]
  },
  {
   "cell_type": "code",
   "execution_count": 7,
   "metadata": {
    "collapsed": false
   },
   "outputs": [],
   "source": [
    "res = db.series.aggregate([\n",
    "        {'$unwind': '$platforms'},\n",
    "        {'$group': {'_id': '$platforms'}}\n",
    "    ])"
   ]
  },
  {
   "cell_type": "code",
   "execution_count": 9,
   "metadata": {
    "collapsed": false
   },
   "outputs": [],
   "source": [
    "res = list(res)"
   ]
  },
  {
   "cell_type": "code",
   "execution_count": 10,
   "metadata": {
    "collapsed": false
   },
   "outputs": [
    {
     "data": {
      "text/plain": [
       "11418"
      ]
     },
     "execution_count": 10,
     "metadata": {},
     "output_type": "execute_result"
    }
   ],
   "source": [
    "len(res)"
   ]
  },
  {
   "cell_type": "code",
   "execution_count": 11,
   "metadata": {
    "collapsed": false
   },
   "outputs": [
    {
     "data": {
      "text/plain": [
       "[{'_id': 'A-MTAB-542'},\n",
       " {'_id': 'GPL17'},\n",
       " {'_id': 'GPL62'},\n",
       " {'_id': 'GPL171'},\n",
       " {'_id': 'GPL174'},\n",
       " {'_id': 'A-SNGR-2'},\n",
       " {'_id': 'GPL12'},\n",
       " {'_id': 'GPL228'},\n",
       " {'_id': 'GPL263'},\n",
       " {'_id': 'A-MEXP-1'}]"
      ]
     },
     "execution_count": 11,
     "metadata": {},
     "output_type": "execute_result"
    }
   ],
   "source": [
    "res[:10]"
   ]
  },
  {
   "cell_type": "code",
   "execution_count": 13,
   "metadata": {
    "collapsed": false
   },
   "outputs": [],
   "source": [
    "platforms = [\n",
    "    p['_id']\n",
    "    for p in res\n",
    "    if p['_id'].startswith('A-')\n",
    "]"
   ]
  },
  {
   "cell_type": "code",
   "execution_count": 14,
   "metadata": {
    "collapsed": false
   },
   "outputs": [
    {
     "data": {
      "text/plain": [
       "['A-MTAB-542',\n",
       " 'A-SNGR-2',\n",
       " 'A-MEXP-1',\n",
       " 'A-MEXP-8',\n",
       " 'A-SMDB-552',\n",
       " 'A-SMDB-447',\n",
       " 'A-SMDB-534',\n",
       " 'A-MANP-2',\n",
       " 'A-MEXP-42',\n",
       " 'A-MEXP-18']"
      ]
     },
     "execution_count": 14,
     "metadata": {},
     "output_type": "execute_result"
    }
   ],
   "source": [
    "platforms[:10]"
   ]
  },
  {
   "cell_type": "code",
   "execution_count": 15,
   "metadata": {
    "collapsed": false
   },
   "outputs": [
    {
     "data": {
      "text/plain": [
       "2670"
      ]
     },
     "execution_count": 15,
     "metadata": {},
     "output_type": "execute_result"
    }
   ],
   "source": [
    "len(platforms)"
   ]
  },
  {
   "cell_type": "code",
   "execution_count": 64,
   "metadata": {
    "collapsed": false
   },
   "outputs": [],
   "source": [
    "def get_geo_acc(platform):\n",
    "    res = list(db.series.find({\n",
    "            'accession': {'$regex': 'E-GEO.*'},\n",
    "            '$and': [{'platforms': platform},\n",
    "                      {'platforms': {'$size': 1}} \n",
    "                     ]\n",
    "            \n",
    "        }, {\n",
    "                '_id': 0, 'accession': 1\n",
    "            }).limit(10))\n",
    "    return res if res else None\n"
   ]
  },
  {
   "cell_type": "code",
   "execution_count": 65,
   "metadata": {
    "collapsed": false
   },
   "outputs": [],
   "source": [
    "platforms_series = [\n",
    "(platform, get_geo_acc(platform))\n",
    "for platform in platforms\n",
    "    ]"
   ]
  },
  {
   "cell_type": "code",
   "execution_count": 66,
   "metadata": {
    "collapsed": false
   },
   "outputs": [
    {
     "name": "stdout",
     "output_type": "stream",
     "text": [
      "Stored 'platforms_series' (list)\n"
     ]
    }
   ],
   "source": [
    "%store platforms_series"
   ]
  },
  {
   "cell_type": "code",
   "execution_count": 41,
   "metadata": {
    "collapsed": true
   },
   "outputs": [],
   "source": [
    "import pandas as pd\n",
    "import numpy as np"
   ]
  },
  {
   "cell_type": "code",
   "execution_count": 67,
   "metadata": {
    "collapsed": true
   },
   "outputs": [],
   "source": [
    "platforms_series_df = pd.DataFrame.from_records(\n",
    "    platforms_series, columns=['platform', 'series']\n",
    ").set_index('platform')"
   ]
  },
  {
   "cell_type": "code",
   "execution_count": 68,
   "metadata": {
    "collapsed": false
   },
   "outputs": [
    {
     "data": {
      "text/plain": [
       "series    [{'accession': 'E-GEOD-71949'}, {'accession': ...\n",
       "Name: A-AFFY-44, dtype: object"
      ]
     },
     "execution_count": 68,
     "metadata": {},
     "output_type": "execute_result"
    }
   ],
   "source": [
    "platforms_series_df[platforms_series_df.series.notnull()].loc['A-AFFY-44']"
   ]
  },
  {
   "cell_type": "code",
   "execution_count": 69,
   "metadata": {
    "collapsed": true
   },
   "outputs": [],
   "source": [
    "def to_geo_series(ae_series):\n",
    "    if ae_series is None:\n",
    "        return np.nan\n",
    "    res = []\n",
    "    for s in ae_series:\n",
    "        t1, t2, id_ = s['accession'].split('-')\n",
    "        res.append('GSE{}'.format(id_))\n",
    "    return res"
   ]
  },
  {
   "cell_type": "code",
   "execution_count": 70,
   "metadata": {
    "collapsed": false
   },
   "outputs": [],
   "source": [
    "platforms_series_df['geo_series'] = platforms_series_df.series.map(to_geo_series)"
   ]
  },
  {
   "cell_type": "code",
   "execution_count": 73,
   "metadata": {
    "collapsed": true
   },
   "outputs": [],
   "source": [
    "geo_db = pymongo.MongoClient()['scraper_test_dev']\n",
    "def get_geo_platform(geo_series):\n",
    "    \n",
    "    for s in geo_series:\n",
    "        res = list(geo_db.series.find({'accession': s}, \n",
    "                           {'_id': 0, 'platforms': 1}))\n",
    "        if res:\n",
    "            return res[0]['platforms']\n",
    "        \n",
    "    return  np.nan\n",
    "    "
   ]
  },
  {
   "cell_type": "code",
   "execution_count": 72,
   "metadata": {
    "collapsed": true
   },
   "outputs": [],
   "source": [
    "platforms_series_df_good = platforms_series_df[platforms_series_df.geo_series.notnull()].copy()"
   ]
  },
  {
   "cell_type": "code",
   "execution_count": 74,
   "metadata": {
    "collapsed": false
   },
   "outputs": [],
   "source": [
    "platforms_series_df_good['geo_platform'] = platforms_series_df_good.geo_series.map(get_geo_platform)"
   ]
  },
  {
   "cell_type": "code",
   "execution_count": 79,
   "metadata": {
    "collapsed": false
   },
   "outputs": [],
   "source": [
    "affy_platform_to_geo = (\n",
    "    platforms_series_df_good\n",
    "    [platforms_series_df_good.geo_platform.map(len) == 1]\n",
    "    .geo_platform\n",
    "    .map(lambda x: x[0])\n",
    "    .to_dict()\n",
    ")"
   ]
  },
  {
   "cell_type": "code",
   "execution_count": 80,
   "metadata": {
    "collapsed": false
   },
   "outputs": [
    {
     "name": "stdout",
     "output_type": "stream",
     "text": [
      "Stored 'affy_platform_to_geo' (dict)\n"
     ]
    }
   ],
   "source": [
    "%store affy_platform_to_geo"
   ]
  },
  {
   "cell_type": "code",
   "execution_count": 82,
   "metadata": {
    "collapsed": false
   },
   "outputs": [],
   "source": [
    "%store -r affy_platform_to_geo"
   ]
  },
  {
   "cell_type": "code",
   "execution_count": 63,
   "metadata": {
    "collapsed": false
   },
   "outputs": [
    {
     "data": {
      "text/plain": [
       "'--task GSE64013 --task GSE62882 --task GSE17585 --task GSE59485 --task GSE52729 --task GSE51147 --task GSE63873 --task GSE70693 --task GSE66253 --task GSE68950 --task GSE62123 --task GSE70396 --task GSE60452 --task GSE69659 --task GSE68744 --task GSE68882 --task GSE64110 --task GSE69886 --task GSE64109 --task GSE67057 --task GSE62250 --task GSE64228 --task GSE42505 --task GSE63274 --task GSE68065 --task GSE61728 --task GSE21598 --task GSE43686 --task GSE67225 --task GSE57600 --task GSE63084 --task GSE60388 --task GSE66496 --task GSE70443 --task GSE57615 --task GSE69134'"
      ]
     },
     "execution_count": 63,
     "metadata": {},
     "output_type": "execute_result"
    }
   ],
   "source": [
    "_t = platforms_series_df_good[platforms_series_df_good.geo_platform.isnull()].geo_series.tolist()\n",
    "'--task '+(' --task '.join(_t))"
   ]
  }
 ],
 "metadata": {
  "kernelspec": {
   "display_name": "Python 3",
   "language": "python",
   "name": "python3"
  },
  "language_info": {
   "codemirror_mode": {
    "name": "ipython",
    "version": 3
   },
   "file_extension": ".py",
   "mimetype": "text/x-python",
   "name": "python",
   "nbconvert_exporter": "python",
   "pygments_lexer": "ipython3",
   "version": "3.4.0"
  }
 },
 "nbformat": 4,
 "nbformat_minor": 0
}
