{
 "cells": [
  {
   "cell_type": "code",
   "execution_count": 1,
   "metadata": {
    "collapsed": true
   },
   "outputs": [],
   "source": [
    "%store -r affy_platform_to_geo"
   ]
  },
  {
   "cell_type": "code",
   "execution_count": 2,
   "metadata": {
    "collapsed": false
   },
   "outputs": [],
   "source": [
    "import sys\n",
    "sys.path.append('/home/ubuntu/lib/')"
   ]
  },
  {
   "cell_type": "code",
   "execution_count": null,
   "metadata": {
    "collapsed": false
   },
   "outputs": [],
   "source": [
    "! ls /home/ubuntu/lib/"
   ]
  },
  {
   "cell_type": "code",
   "execution_count": 3,
   "metadata": {
    "collapsed": false
   },
   "outputs": [],
   "source": [
    "from metadb.api import ElasticApi"
   ]
  },
  {
   "cell_type": "code",
   "execution_count": 4,
   "metadata": {
    "collapsed": true
   },
   "outputs": [],
   "source": [
    "from elasticsearch import Elasticsearch"
   ]
  },
  {
   "cell_type": "code",
   "execution_count": 5,
   "metadata": {
    "collapsed": false
   },
   "outputs": [],
   "source": [
    "es = Elasticsearch()\n",
    "api = ElasticApi(es, \n",
    "                 samples_index='samples_dev',\n",
    "                 series_index='series_dev'\n",
    "                )"
   ]
  },
  {
   "cell_type": "code",
   "execution_count": null,
   "metadata": {
    "collapsed": true
   },
   "outputs": [],
   "source": [
    "?api.update_by_query"
   ]
  },
  {
   "cell_type": "code",
   "execution_count": null,
   "metadata": {
    "collapsed": false
   },
   "outputs": [],
   "source": [
    "len(affy_platform_to_geo)"
   ]
  },
  {
   "cell_type": "code",
   "execution_count": 6,
   "metadata": {
    "collapsed": true
   },
   "outputs": [],
   "source": [
    "from metadb.api import utils\n",
    "from elasticsearch.helpers import bulk"
   ]
  },
  {
   "cell_type": "code",
   "execution_count": 19,
   "metadata": {
    "collapsed": false
   },
   "outputs": [],
   "source": [
    "def update_platforms():\n",
    "    body = {\n",
    "        \"query\": {\n",
    "            \"filtered\": {\n",
    "                \"filter\": {\n",
    "                    \"term\": {\n",
    "                        \"data_source\": 'array-express'\n",
    "#                         \"platforms\": 'A-AFFY-44'\n",
    "                    }\n",
    "                }\n",
    "            }\n",
    "        },\n",
    "        \"_source\": ['platforms']\n",
    "    }\n",
    "    \n",
    "    series = [(s['_id'], s['_source']) for s in es.search(index='series_dev', body=body, size=10000)['hits']['hits']]\n",
    "    for _id, s in series:\n",
    "        s['platforms'] = [\n",
    "            p if p not in affy_platform_to_geo else affy_platform_to_geo[p]\n",
    "            for p in s['platforms']\n",
    "        ]\n",
    "        \n",
    "    print(len(series))\n",
    "#     print([s['platforms'] for _id, s in series][:10])\n",
    "    \n",
    "    for bucket in utils.iter_bucket(series, 1000):\n",
    "        actions = [\n",
    "                {\n",
    "                    '_op_type': 'update',\n",
    "                    '_index': 'series_dev',\n",
    "                    '_type': 'series_dev',\n",
    "                    '_id': _id,\n",
    "                    'doc': {\n",
    "                        'platforms': x['platforms']\n",
    "                    }\n",
    "                }\n",
    "                for (_id, x) in bucket\n",
    "            ]\n",
    "#         print(actions)\n",
    "#         break\n",
    "        res = bulk(es, actions)\n",
    "        print(res)\n"
   ]
  },
  {
   "cell_type": "code",
   "execution_count": 20,
   "metadata": {
    "collapsed": false,
    "scrolled": false
   },
   "outputs": [
    {
     "name": "stdout",
     "output_type": "stream",
     "text": [
      "9038\n",
      "(1001, [])\n",
      "(1001, [])\n",
      "(1001, [])\n",
      "(1001, [])\n",
      "(1001, [])\n",
      "(1001, [])\n",
      "(1001, [])\n",
      "(1001, [])\n",
      "(1001, [])\n",
      "(29, [])\n"
     ]
    }
   ],
   "source": [
    "update_platforms()"
   ]
  },
  {
   "cell_type": "code",
   "execution_count": null,
   "metadata": {
    "collapsed": false
   },
   "outputs": [],
   "source": [
    "for ae_platform, geo_platform in affy_platform_to_geo.items():\n",
    "    print(ae_platform, geo_platform)\n",
    "    update_platform(ae_platform, geo_platform)\n",
    "    "
   ]
  },
  {
   "cell_type": "code",
   "execution_count": null,
   "metadata": {
    "collapsed": false
   },
   "outputs": [],
   "source": [
    "[s['accession'] for s in api.search_samples(fields='accession', platform='A-AFFY-44')][:10]"
   ]
  },
  {
   "cell_type": "code",
   "execution_count": null,
   "metadata": {
    "collapsed": false
   },
   "outputs": [],
   "source": [
    "affy_platform_to_geo['A-AFFY-44']"
   ]
  },
  {
   "cell_type": "code",
   "execution_count": null,
   "metadata": {
    "collapsed": false
   },
   "outputs": [],
   "source": [
    "update_platform('A-AFFY-44', 'GPL570')"
   ]
  }
 ],
 "metadata": {
  "kernelspec": {
   "display_name": "Python 3",
   "language": "python",
   "name": "python3"
  },
  "language_info": {
   "codemirror_mode": {
    "name": "ipython",
    "version": 3
   },
   "file_extension": ".py",
   "mimetype": "text/x-python",
   "name": "python",
   "nbconvert_exporter": "python",
   "pygments_lexer": "ipython3",
   "version": "3.4.0"
  }
 },
 "nbformat": 4,
 "nbformat_minor": 0
}
