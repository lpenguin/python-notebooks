{
 "cells": [
  {
   "cell_type": "code",
   "execution_count": 40,
   "metadata": {
    "collapsed": true
   },
   "outputs": [],
   "source": [
    "import sys"
   ]
  },
  {
   "cell_type": "code",
   "execution_count": null,
   "metadata": {
    "collapsed": true
   },
   "outputs": [],
   "source": []
  },
  {
   "cell_type": "code",
   "execution_count": 1,
   "metadata": {
    "collapsed": false
   },
   "outputs": [
    {
     "data": {
      "text/plain": [
       "'/run/user/1000/jupyter/kernel-506a1572-7c57-4dd8-bf77-3d5511b218cb.json'"
      ]
     },
     "execution_count": 1,
     "metadata": {},
     "output_type": "execute_result"
    }
   ],
   "source": [
    "from IPython.lib import kernel\n",
    "kernel.get_connection_file()\n"
   ]
  },
  {
   "cell_type": "code",
   "execution_count": 2,
   "metadata": {
    "collapsed": true
   },
   "outputs": [],
   "source": [
    "from elasticsearch import Elasticsearch\n",
    "from pymongo import MongoClient\n",
    "import pandas as pd\n",
    "es = Elasticsearch()\n",
    "db = MongoClient().scraper_test_dev"
   ]
  },
  {
   "cell_type": "code",
   "execution_count": 38,
   "metadata": {
    "collapsed": false
   },
   "outputs": [],
   "source": [
    "query = {\n",
    "  \"query\": {\n",
    "    \"filtered\": {\n",
    "      \"filter\": {\n",
    "        \"bool\": {\n",
    "          \"must\": [\n",
    "            {\n",
    "              \"script\": {\n",
    "                \"script\": \"doc['type'].size() == 1\"\n",
    "              }\n",
    "            },\n",
    "            {\n",
    "              \"script\": {\n",
    "                \"script\": \"doc['platforms'].size() == 1\"\n",
    "              }\n",
    "            },\n",
    "            {\n",
    "              \"term\": {\n",
    "                \"data_source\": \"array-express\"\n",
    "              }\n",
    "            },{\n",
    "              \"terms\": {\n",
    "                \"type\": [\n",
    "#                   \"transcription profiling by array\",\n",
    "                  \"RNA-seq of coding RNA\"\n",
    "                ]\n",
    "              }\n",
    "            }\n",
    "          ]\n",
    "        }\n",
    "      }\n",
    "    }\n",
    "  },\n",
    "  \"aggs\": {\n",
    "    \"platforms\": {\n",
    "      \"terms\": {\n",
    "        \"field\": \"platforms\",\n",
    "        \"size\": 5000        \n",
    "      },\n",
    "      \"aggs\": {\n",
    "        \"types\": {\n",
    "          \"terms\": {\n",
    "            \"field\": \"type\"\n",
    "          }    \n",
    "        }\n",
    "      }\n",
    "    }\n",
    "  },\n",
    "  \"size\": 0\n",
    "}\n",
    "\n",
    "res = es.search(index='series_dev', body=query)\n"
   ]
  },
  {
   "cell_type": "code",
   "execution_count": 5,
   "metadata": {
    "collapsed": false
   },
   "outputs": [
    {
     "data": {
      "text/plain": [
       "5"
      ]
     },
     "execution_count": 5,
     "metadata": {},
     "output_type": "execute_result"
    }
   ],
   "source": [
    "len(res)"
   ]
  },
  {
   "cell_type": "code",
   "execution_count": 8,
   "metadata": {
    "collapsed": true
   },
   "outputs": [],
   "source": [
    "types_map = {\n",
    "    \"transcription profiling by array\": \"Expression profiling by array\",\n",
    "    \"RNA-seq of coding RNA\": \"Expression profiling by high throughput sequencing\"\n",
    "}"
   ]
  },
  {
   "cell_type": "code",
   "execution_count": 39,
   "metadata": {
    "collapsed": false
   },
   "outputs": [
    {
     "data": {
      "text/plain": [
       "{'_shards': {'failed': 0, 'successful': 5, 'total': 5},\n",
       " 'aggregations': {'platforms': {'buckets': [{'doc_count': 1,\n",
       "     'key': 'A-MEXP-2210',\n",
       "     'types': {'buckets': [{'doc_count': 1, 'key': 'RNA-seq of coding RNA'}],\n",
       "      'doc_count_error_upper_bound': 0,\n",
       "      'sum_other_doc_count': 0}}],\n",
       "   'doc_count_error_upper_bound': 0,\n",
       "   'sum_other_doc_count': 0}},\n",
       " 'hits': {'hits': [], 'max_score': 0.0, 'total': 1},\n",
       " 'timed_out': False,\n",
       " 'took': 784}"
      ]
     },
     "execution_count": 39,
     "metadata": {},
     "output_type": "execute_result"
    }
   ],
   "source": [
    "res"
   ]
  },
  {
   "cell_type": "code",
   "execution_count": 9,
   "metadata": {
    "collapsed": false
   },
   "outputs": [
    {
     "data": {
      "text/plain": [
       "1426"
      ]
     },
     "execution_count": 9,
     "metadata": {},
     "output_type": "execute_result"
    }
   ],
   "source": [
    "platforms_expr = [(x['key'], types_map[x['types']['buckets'][0]['key']]) for x in res['aggregations']['platforms']['buckets']]\n",
    "len(platforms_expr)"
   ]
  },
  {
   "cell_type": "code",
   "execution_count": 10,
   "metadata": {
    "collapsed": false
   },
   "outputs": [
    {
     "data": {
      "text/plain": [
       "[('GPL570', 'Expression profiling by array'),\n",
       " ('GPL1261', 'Expression profiling by array'),\n",
       " ('GPL198', 'Expression profiling by array'),\n",
       " ('GPL4133', 'Expression profiling by array'),\n",
       " ('GPL96', 'Expression profiling by array'),\n",
       " ('GPL6246', 'Expression profiling by array'),\n",
       " ('GPL6244', 'Expression profiling by array'),\n",
       " ('GPL6887', 'Expression profiling by array'),\n",
       " ('GPL1355', 'Expression profiling by array'),\n",
       " ('GPL4134', 'Expression profiling by array')]"
      ]
     },
     "execution_count": 10,
     "metadata": {},
     "output_type": "execute_result"
    }
   ],
   "source": [
    "platforms_expr[:10]"
   ]
  },
  {
   "cell_type": "code",
   "execution_count": 22,
   "metadata": {
    "collapsed": false
   },
   "outputs": [
    {
     "data": {
      "text/plain": [
       "['GPL11154',\n",
       " 'GPL10999',\n",
       " 'GPL16791',\n",
       " 'GPL9115',\n",
       " 'GPL9052',\n",
       " 'GPL16288',\n",
       " 'GPL9442',\n",
       " 'GPL13393',\n",
       " 'GPL15433',\n",
       " 'GPL14603']"
      ]
     },
     "execution_count": 22,
     "metadata": {},
     "output_type": "execute_result"
    }
   ],
   "source": [
    "[p for p, t in platforms_expr if t != \"Expression profiling by array\"][:10]"
   ]
  },
  {
   "cell_type": "code",
   "execution_count": 11,
   "metadata": {
    "collapsed": true
   },
   "outputs": [],
   "source": [
    "from collections import defaultdict\n",
    "\n",
    "types_platforms = defaultdict(list)\n",
    "for p, t in platforms_expr:\n",
    "    types_platforms[t].append(p)"
   ]
  },
  {
   "cell_type": "code",
   "execution_count": 30,
   "metadata": {
    "collapsed": true
   },
   "outputs": [],
   "source": [
    "def iter_search(es, index, query, **kvargs):\n",
    "    page_size = 1000\n",
    "    count = int(es.search(index=index, body=query, size=1, fields='')['hits']['total'])\n",
    "    print(count)\n",
    "    for page in range(0, count, page_size):\n",
    "        res = es.search(index=index, body=query, from_=page, size=page_size, **kvargs)\n",
    "        for hit in res['hits']['hits']:\n",
    "            yield hit\n",
    "\n",
    "def iter_bucket(it, page_size):\n",
    "    res = []\n",
    "    l = 1\n",
    "    for x in it:\n",
    "        res.append(x)\n",
    "        if l % page_size == 0:\n",
    "            l = 0\n",
    "            yield res\n",
    "            res = []\n",
    "        l += 1\n",
    "    \n",
    "    if res:\n",
    "        yield res\n",
    "    \n",
    "from elasticsearch.helpers import bulk\n",
    "def update_by_query(es, index, query, update, bucket_size=1000):\n",
    "    l = 0\n",
    "    ids = (\n",
    "        s['_id'] for s in iter_search(es, index, query, fields='')\n",
    "    )\n",
    "    \n",
    "#     print(bucket_size)\n",
    "    for bucket in iter_bucket(ids, bucket_size):\n",
    "        actions = [\n",
    "            {\n",
    "                '_op_type': 'update',\n",
    "                '_index': index,\n",
    "                '_type': index,\n",
    "                '_id': x,\n",
    "                'doc': update\n",
    "            }\n",
    "            for x in bucket\n",
    "        ]\n",
    "        l += len(actions)\n",
    "#         print(l)\n",
    "        res = bulk(es, actions)\n",
    "#         print(res)\n",
    "    \n",
    "    return l\n",
    "        \n",
    "    \n",
    "    \n",
    "    "
   ]
  },
  {
   "cell_type": "code",
   "execution_count": 29,
   "metadata": {
    "collapsed": false
   },
   "outputs": [],
   "source": [
    "def update_for_exptype(experimant_type, data_source, platforms=None):\n",
    "    platforms = platforms or types_platforms[experiment_type]\n",
    "    query = {\n",
    "        \"query\": {\n",
    "            \"filtered\": {\n",
    "                \"filter\": {\n",
    "                    \"bool\": {\n",
    "                        \"must\": [{\n",
    "                            \"terms\": {\n",
    "                                \"platform\": platforms\n",
    "                            }\n",
    "                        }, {\n",
    "                                \"term\": {\n",
    "                                \"data_source\": data_source\n",
    "                            }\n",
    "                            }]\n",
    "                    }\n",
    "                }\n",
    "            }\n",
    "        }\n",
    "    }\n",
    "\n",
    "    update = {\n",
    "        \"assigned\": {\n",
    "            \"experiment_type\": experiment_type\n",
    "        }\n",
    "    }\n",
    "    return update_by_query(es, 'samples_dev', query, update, bucket_size=1000)"
   ]
  },
  {
   "cell_type": "markdown",
   "metadata": {},
   "source": [
    "## Updating samples with platforms \"Expression profiling by array\""
   ]
  },
  {
   "cell_type": "code",
   "execution_count": 33,
   "metadata": {
    "collapsed": false
   },
   "outputs": [
    {
     "name": "stdout",
     "output_type": "stream",
     "text": [
      "450768\n"
     ]
    },
    {
     "data": {
      "text/plain": [
       "450768"
      ]
     },
     "execution_count": 33,
     "metadata": {},
     "output_type": "execute_result"
    }
   ],
   "source": [
    "experiment_type = \"Expression profiling by array\"\n",
    "update_for_exptype(experiment_type, 'array-express')"
   ]
  },
  {
   "cell_type": "markdown",
   "metadata": {},
   "source": [
    "## Updating samples with platforms \"Expression profiling by high throughput sequencing\""
   ]
  },
  {
   "cell_type": "code",
   "execution_count": 35,
   "metadata": {
    "collapsed": false
   },
   "outputs": [
    {
     "data": {
      "text/plain": [
       "['Expression profiling by array',\n",
       " 'Expression profiling by high throughput sequencing']"
      ]
     },
     "execution_count": 35,
     "metadata": {},
     "output_type": "execute_result"
    }
   ],
   "source": [
    "list(types_platforms.keys())"
   ]
  },
  {
   "cell_type": "code",
   "execution_count": 36,
   "metadata": {
    "collapsed": false
   },
   "outputs": [
    {
     "data": {
      "text/plain": [
       "[]"
      ]
     },
     "execution_count": 36,
     "metadata": {},
     "output_type": "execute_result"
    }
   ],
   "source": [
    "types_platforms['Expression profiling by high throughput sequencing']"
   ]
  },
  {
   "cell_type": "code",
   "execution_count": 34,
   "metadata": {
    "collapsed": false
   },
   "outputs": [
    {
     "name": "stdout",
     "output_type": "stream",
     "text": [
      "0\n"
     ]
    },
    {
     "data": {
      "text/plain": [
       "0"
      ]
     },
     "execution_count": 34,
     "metadata": {},
     "output_type": "execute_result"
    }
   ],
   "source": [
    "experiment_type = \"Expression profiling by high throughput sequencing\"\n",
    "update_for_exptype(experiment_type, 'array-express')"
   ]
  },
  {
   "cell_type": "markdown",
   "metadata": {},
   "source": [
    "## Checking counts\n"
   ]
  },
  {
   "cell_type": "code",
   "execution_count": 95,
   "metadata": {
    "collapsed": false
   },
   "outputs": [
    {
     "data": {
      "text/plain": [
       "{'_shards': {'failed': 0, 'successful': 5, 'total': 5}, 'count': 542701}"
      ]
     },
     "execution_count": 95,
     "metadata": {},
     "output_type": "execute_result"
    }
   ],
   "source": [
    "## Array\n",
    "query = {\n",
    "        \"query\": {\n",
    "            \"filtered\": {\n",
    "                \"filter\": {\n",
    "                    \"terms\": {\n",
    "                        \"platform\": types_platforms[\"Expression profiling by array\"]\n",
    "                    }\n",
    "                }\n",
    "            }\n",
    "        }\n",
    "    }\n",
    "es.count(index='samples_dev', body=query)"
   ]
  },
  {
   "cell_type": "code",
   "execution_count": 107,
   "metadata": {
    "collapsed": false
   },
   "outputs": [
    {
     "data": {
      "text/plain": [
       "{'_shards': {'failed': 0, 'successful': 5, 'total': 5}, 'count': 433369}"
      ]
     },
     "execution_count": 107,
     "metadata": {},
     "output_type": "execute_result"
    }
   ],
   "source": [
    "## Array (by assigned exp type)\n",
    "query = {\n",
    "        \"query\": {\n",
    "            \"filtered\": {\n",
    "                \"filter\": {\n",
    "                    \"term\": {\n",
    "                        \"assigned.experiment_type\": \"Expression profiling by array\"\n",
    "                    }\n",
    "                }\n",
    "            }\n",
    "        }\n",
    "    }\n",
    "es.count(index='samples_dev', body=query)"
   ]
  },
  {
   "cell_type": "code",
   "execution_count": 106,
   "metadata": {
    "collapsed": false
   },
   "outputs": [
    {
     "data": {
      "text/plain": [
       "{'_shards': {'failed': 0, 'successful': 5, 'total': 5}, 'count': 108902}"
      ]
     },
     "execution_count": 106,
     "metadata": {},
     "output_type": "execute_result"
    }
   ],
   "source": [
    "query = {\n",
    "        \"query\": {\n",
    "            \"filtered\": {\n",
    "                \"filter\": {\n",
    "                    \"terms\": {\n",
    "                        \"platform\": ['GPL570']\n",
    "                    }\n",
    "                }\n",
    "            }\n",
    "        }\n",
    "    }\n",
    "es.count(index='samples_dev', body=query)"
   ]
  }
 ],
 "metadata": {
  "kernelspec": {
   "display_name": "Python 3",
   "language": "python",
   "name": "python3"
  },
  "language_info": {
   "codemirror_mode": {
    "name": "ipython",
    "version": 3
   },
   "file_extension": ".py",
   "mimetype": "text/x-python",
   "name": "python",
   "nbconvert_exporter": "python",
   "pygments_lexer": "ipython3",
   "version": "3.4.0"
  }
 },
 "nbformat": 4,
 "nbformat_minor": 0
}
