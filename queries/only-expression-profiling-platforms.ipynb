{
 "cells": [
  {
   "cell_type": "markdown",
   "metadata": {},
   "source": [
    "## GEO"
   ]
  },
  {
   "cell_type": "code",
   "execution_count": 36,
   "metadata": {
    "collapsed": false
   },
   "outputs": [
    {
     "data": {
      "text/plain": [
       "'/run/user/1000/jupyter/kernel-e484d883-b710-40f9-8fbf-eaa0f3d93366.json'"
      ]
     },
     "execution_count": 36,
     "metadata": {},
     "output_type": "execute_result"
    }
   ],
   "source": [
    "from IPython.lib import kernel\n",
    "kernel.get_connection_file()\n"
   ]
  },
  {
   "cell_type": "code",
   "execution_count": 1,
   "metadata": {
    "collapsed": true
   },
   "outputs": [],
   "source": [
    "from elasticsearch import Elasticsearch\n",
    "from pymongo import MongoClient\n",
    "import pandas as pd\n",
    "es = Elasticsearch()\n",
    "db = MongoClient().scraper_test_dev"
   ]
  },
  {
   "cell_type": "markdown",
   "metadata": {},
   "source": [
    "### Серии, которых не более одной платформы и не более одного типа эксперимента"
   ]
  },
  {
   "cell_type": "code",
   "execution_count": 2,
   "metadata": {
    "collapsed": true
   },
   "outputs": [],
   "source": [
    "query = {\n",
    "  \"query\": {\n",
    "    \"filtered\": {\n",
    "      \"filter\": {\n",
    "        \"bool\": {\n",
    "          \"must\": [\n",
    "            {\n",
    "              \"script\": {\n",
    "                \"script\": \"doc['type'].size() == 1\"\n",
    "              }\n",
    "            },\n",
    "            {\n",
    "              \"script\": {\n",
    "                \"script\": \"doc['platforms'].size() == 1\"\n",
    "              }\n",
    "            },\n",
    "            {\n",
    "              \"term\": {\n",
    "                \"data_source\": \"geo\"\n",
    "              }\n",
    "            },\n",
    "            {\n",
    "              \"term\": {\n",
    "                \"organism\": \"Homo sapiens\"\n",
    "              }\n",
    "            },\n",
    "            {\n",
    "              \"terms\": {\n",
    "                \"type\": [\n",
    "                  \"Expression profiling by array\",\n",
    "                  \"Expression profiling by high throughput sequencing\"\n",
    "                ]\n",
    "              }\n",
    "            }\n",
    "          ]\n",
    "        }\n",
    "      }\n",
    "    }\n",
    "  },\n",
    "  \"size\": 0, \n",
    "  \"aggs\": {\n",
    "    \"platforms\": {\n",
    "      \"terms\": {\n",
    "        \"field\": \"platforms\",\n",
    "        \"size\": 7000\n",
    "      }\n",
    "    }\n",
    "  },\n",
    "  \"fields\": [\"accession\", \"platforms\", \"type\", \"organism\"]\n",
    "}\n",
    "\n",
    "\n"
   ]
  },
  {
   "cell_type": "code",
   "execution_count": 3,
   "metadata": {
    "collapsed": true
   },
   "outputs": [],
   "source": [
    "res = es.search(index='series_dev', body=query)"
   ]
  },
  {
   "cell_type": "code",
   "execution_count": 4,
   "metadata": {
    "collapsed": true
   },
   "outputs": [],
   "source": [
    "platforms_homo_expr_uncleaned = pd.DataFrame(\n",
    "    res['aggregations']['platforms']['buckets']\n",
    ")"
   ]
  },
  {
   "cell_type": "code",
   "execution_count": 35,
   "metadata": {
    "collapsed": false
   },
   "outputs": [
    {
     "data": {
      "text/plain": [
       "(1119, 2)"
      ]
     },
     "execution_count": 35,
     "metadata": {},
     "output_type": "execute_result"
    }
   ],
   "source": [
    "platforms_homo_expr_uncleaned.shape"
   ]
  },
  {
   "cell_type": "code",
   "execution_count": 5,
   "metadata": {
    "collapsed": false
   },
   "outputs": [
    {
     "data": {
      "text/html": [
       "<div>\n",
       "<table border=\"1\" class=\"dataframe\">\n",
       "  <thead>\n",
       "    <tr style=\"text-align: right;\">\n",
       "      <th></th>\n",
       "      <th>doc_count</th>\n",
       "      <th>key</th>\n",
       "    </tr>\n",
       "  </thead>\n",
       "  <tbody>\n",
       "    <tr>\n",
       "      <th>0</th>\n",
       "      <td>3375</td>\n",
       "      <td>GPL570</td>\n",
       "    </tr>\n",
       "    <tr>\n",
       "      <th>1</th>\n",
       "      <td>966</td>\n",
       "      <td>GPL6244</td>\n",
       "    </tr>\n",
       "    <tr>\n",
       "      <th>2</th>\n",
       "      <td>827</td>\n",
       "      <td>GPL10558</td>\n",
       "    </tr>\n",
       "    <tr>\n",
       "      <th>3</th>\n",
       "      <td>733</td>\n",
       "      <td>GPL96</td>\n",
       "    </tr>\n",
       "    <tr>\n",
       "      <th>4</th>\n",
       "      <td>518</td>\n",
       "      <td>GPL6480</td>\n",
       "    </tr>\n",
       "  </tbody>\n",
       "</table>\n",
       "</div>"
      ],
      "text/plain": [
       "   doc_count       key\n",
       "0       3375    GPL570\n",
       "1        966   GPL6244\n",
       "2        827  GPL10558\n",
       "3        733     GPL96\n",
       "4        518   GPL6480"
      ]
     },
     "execution_count": 5,
     "metadata": {},
     "output_type": "execute_result"
    }
   ],
   "source": [
    "platforms_homo_expr_uncleaned.head()"
   ]
  },
  {
   "cell_type": "code",
   "execution_count": 6,
   "metadata": {
    "collapsed": true
   },
   "outputs": [],
   "source": [
    "platforms_homo = pd.DataFrame(list(db.platforms.find({'data_source': \"geo\"}, \n",
    "                                   {'_id': 0, 'accession': 1, 'organism': 1 })))"
   ]
  },
  {
   "cell_type": "code",
   "execution_count": 7,
   "metadata": {
    "collapsed": false
   },
   "outputs": [
    {
     "data": {
      "text/html": [
       "<div>\n",
       "<table border=\"1\" class=\"dataframe\">\n",
       "  <thead>\n",
       "    <tr style=\"text-align: right;\">\n",
       "      <th></th>\n",
       "      <th>accession</th>\n",
       "      <th>organism</th>\n",
       "    </tr>\n",
       "  </thead>\n",
       "  <tbody>\n",
       "    <tr>\n",
       "      <th>0</th>\n",
       "      <td>GPL15373</td>\n",
       "      <td>Homo sapiens</td>\n",
       "    </tr>\n",
       "    <tr>\n",
       "      <th>1</th>\n",
       "      <td>GPL15374</td>\n",
       "      <td>Thunnus thynnus</td>\n",
       "    </tr>\n",
       "    <tr>\n",
       "      <th>2</th>\n",
       "      <td>GPL15377</td>\n",
       "      <td>Alternaria brassicicola</td>\n",
       "    </tr>\n",
       "    <tr>\n",
       "      <th>3</th>\n",
       "      <td>GPL15378</td>\n",
       "      <td>Cottus</td>\n",
       "    </tr>\n",
       "    <tr>\n",
       "      <th>4</th>\n",
       "      <td>GPL15379</td>\n",
       "      <td>Canis lupus familiaris</td>\n",
       "    </tr>\n",
       "  </tbody>\n",
       "</table>\n",
       "</div>"
      ],
      "text/plain": [
       "  accession                 organism\n",
       "0  GPL15373             Homo sapiens\n",
       "1  GPL15374          Thunnus thynnus\n",
       "2  GPL15377  Alternaria brassicicola\n",
       "3  GPL15378                   Cottus\n",
       "4  GPL15379   Canis lupus familiaris"
      ]
     },
     "execution_count": 7,
     "metadata": {},
     "output_type": "execute_result"
    }
   ],
   "source": [
    "platforms_homo.head()"
   ]
  },
  {
   "cell_type": "code",
   "execution_count": 8,
   "metadata": {
    "collapsed": false
   },
   "outputs": [],
   "source": [
    "platforms_homo_expr_uncleaned.key.to_csv('../data/platforms_homo_expr_uncleaned.csv', index=False)"
   ]
  },
  {
   "cell_type": "code",
   "execution_count": 54,
   "metadata": {
    "collapsed": false
   },
   "outputs": [
    {
     "name": "stdout",
     "output_type": "stream",
     "text": [
      "GPL570\r\n",
      "GPL6244\r\n",
      "GPL10558\r\n",
      "GPL96\r\n",
      "GPL6480\r\n",
      "GPL4133\r\n",
      "GPL571\r\n",
      "GPL11154\r\n",
      "GPL6947\r\n",
      "GPL8300\r\n"
     ]
    }
   ],
   "source": [
    "! head ../data/platforms_homo_expr_uncleaned.csv"
   ]
  },
  {
   "cell_type": "code",
   "execution_count": 9,
   "metadata": {
    "collapsed": false,
    "scrolled": true
   },
   "outputs": [
    {
     "data": {
      "text/html": [
       "<div>\n",
       "<table border=\"1\" class=\"dataframe\">\n",
       "  <thead>\n",
       "    <tr style=\"text-align: right;\">\n",
       "      <th></th>\n",
       "      <th>accession</th>\n",
       "      <th>organism</th>\n",
       "      <th>doc_count</th>\n",
       "      <th>key</th>\n",
       "    </tr>\n",
       "  </thead>\n",
       "  <tbody>\n",
       "    <tr>\n",
       "      <th>1095</th>\n",
       "      <td>NaN</td>\n",
       "      <td>NaN</td>\n",
       "      <td>5</td>\n",
       "      <td>GPL15034</td>\n",
       "    </tr>\n",
       "    <tr>\n",
       "      <th>1096</th>\n",
       "      <td>NaN</td>\n",
       "      <td>NaN</td>\n",
       "      <td>4</td>\n",
       "      <td>GPL17425</td>\n",
       "    </tr>\n",
       "    <tr>\n",
       "      <th>1097</th>\n",
       "      <td>NaN</td>\n",
       "      <td>NaN</td>\n",
       "      <td>4</td>\n",
       "      <td>GPL18734</td>\n",
       "    </tr>\n",
       "    <tr>\n",
       "      <th>1098</th>\n",
       "      <td>NaN</td>\n",
       "      <td>NaN</td>\n",
       "      <td>3</td>\n",
       "      <td>GPL15048</td>\n",
       "    </tr>\n",
       "    <tr>\n",
       "      <th>1100</th>\n",
       "      <td>NaN</td>\n",
       "      <td>NaN</td>\n",
       "      <td>3</td>\n",
       "      <td>GPL16230</td>\n",
       "    </tr>\n",
       "    <tr>\n",
       "      <th>1099</th>\n",
       "      <td>NaN</td>\n",
       "      <td>NaN</td>\n",
       "      <td>3</td>\n",
       "      <td>GPL15069</td>\n",
       "    </tr>\n",
       "    <tr>\n",
       "      <th>1101</th>\n",
       "      <td>NaN</td>\n",
       "      <td>NaN</td>\n",
       "      <td>2</td>\n",
       "      <td>GPL16221</td>\n",
       "    </tr>\n",
       "    <tr>\n",
       "      <th>1102</th>\n",
       "      <td>NaN</td>\n",
       "      <td>NaN</td>\n",
       "      <td>2</td>\n",
       "      <td>GPL17328</td>\n",
       "    </tr>\n",
       "    <tr>\n",
       "      <th>1103</th>\n",
       "      <td>NaN</td>\n",
       "      <td>NaN</td>\n",
       "      <td>1</td>\n",
       "      <td>GPL14963</td>\n",
       "    </tr>\n",
       "    <tr>\n",
       "      <th>1104</th>\n",
       "      <td>NaN</td>\n",
       "      <td>NaN</td>\n",
       "      <td>1</td>\n",
       "      <td>GPL15017</td>\n",
       "    </tr>\n",
       "    <tr>\n",
       "      <th>1105</th>\n",
       "      <td>NaN</td>\n",
       "      <td>NaN</td>\n",
       "      <td>1</td>\n",
       "      <td>GPL16163</td>\n",
       "    </tr>\n",
       "    <tr>\n",
       "      <th>1106</th>\n",
       "      <td>NaN</td>\n",
       "      <td>NaN</td>\n",
       "      <td>1</td>\n",
       "      <td>GPL16212</td>\n",
       "    </tr>\n",
       "    <tr>\n",
       "      <th>1107</th>\n",
       "      <td>NaN</td>\n",
       "      <td>NaN</td>\n",
       "      <td>1</td>\n",
       "      <td>GPL16233</td>\n",
       "    </tr>\n",
       "    <tr>\n",
       "      <th>1108</th>\n",
       "      <td>NaN</td>\n",
       "      <td>NaN</td>\n",
       "      <td>1</td>\n",
       "      <td>GPL16236</td>\n",
       "    </tr>\n",
       "    <tr>\n",
       "      <th>1109</th>\n",
       "      <td>NaN</td>\n",
       "      <td>NaN</td>\n",
       "      <td>1</td>\n",
       "      <td>GPL16238</td>\n",
       "    </tr>\n",
       "    <tr>\n",
       "      <th>1110</th>\n",
       "      <td>NaN</td>\n",
       "      <td>NaN</td>\n",
       "      <td>1</td>\n",
       "      <td>GPL16239</td>\n",
       "    </tr>\n",
       "    <tr>\n",
       "      <th>1111</th>\n",
       "      <td>NaN</td>\n",
       "      <td>NaN</td>\n",
       "      <td>1</td>\n",
       "      <td>GPL16240</td>\n",
       "    </tr>\n",
       "    <tr>\n",
       "      <th>1112</th>\n",
       "      <td>NaN</td>\n",
       "      <td>NaN</td>\n",
       "      <td>1</td>\n",
       "      <td>GPL16297</td>\n",
       "    </tr>\n",
       "    <tr>\n",
       "      <th>1113</th>\n",
       "      <td>NaN</td>\n",
       "      <td>NaN</td>\n",
       "      <td>1</td>\n",
       "      <td>GPL17385</td>\n",
       "    </tr>\n",
       "    <tr>\n",
       "      <th>1114</th>\n",
       "      <td>NaN</td>\n",
       "      <td>NaN</td>\n",
       "      <td>1</td>\n",
       "      <td>GPL17394</td>\n",
       "    </tr>\n",
       "    <tr>\n",
       "      <th>1115</th>\n",
       "      <td>NaN</td>\n",
       "      <td>NaN</td>\n",
       "      <td>1</td>\n",
       "      <td>GPL17426</td>\n",
       "    </tr>\n",
       "    <tr>\n",
       "      <th>1116</th>\n",
       "      <td>NaN</td>\n",
       "      <td>NaN</td>\n",
       "      <td>1</td>\n",
       "      <td>GPL18695</td>\n",
       "    </tr>\n",
       "    <tr>\n",
       "      <th>1117</th>\n",
       "      <td>NaN</td>\n",
       "      <td>NaN</td>\n",
       "      <td>1</td>\n",
       "      <td>GPL18721</td>\n",
       "    </tr>\n",
       "    <tr>\n",
       "      <th>1118</th>\n",
       "      <td>NaN</td>\n",
       "      <td>NaN</td>\n",
       "      <td>1</td>\n",
       "      <td>GPL18761</td>\n",
       "    </tr>\n",
       "  </tbody>\n",
       "</table>\n",
       "</div>"
      ],
      "text/plain": [
       "     accession organism  doc_count       key\n",
       "1095       NaN      NaN          5  GPL15034\n",
       "1096       NaN      NaN          4  GPL17425\n",
       "1097       NaN      NaN          4  GPL18734\n",
       "1098       NaN      NaN          3  GPL15048\n",
       "1100       NaN      NaN          3  GPL16230\n",
       "1099       NaN      NaN          3  GPL15069\n",
       "1101       NaN      NaN          2  GPL16221\n",
       "1102       NaN      NaN          2  GPL17328\n",
       "1103       NaN      NaN          1  GPL14963\n",
       "1104       NaN      NaN          1  GPL15017\n",
       "1105       NaN      NaN          1  GPL16163\n",
       "1106       NaN      NaN          1  GPL16212\n",
       "1107       NaN      NaN          1  GPL16233\n",
       "1108       NaN      NaN          1  GPL16236\n",
       "1109       NaN      NaN          1  GPL16238\n",
       "1110       NaN      NaN          1  GPL16239\n",
       "1111       NaN      NaN          1  GPL16240\n",
       "1112       NaN      NaN          1  GPL16297\n",
       "1113       NaN      NaN          1  GPL17385\n",
       "1114       NaN      NaN          1  GPL17394\n",
       "1115       NaN      NaN          1  GPL17426\n",
       "1116       NaN      NaN          1  GPL18695\n",
       "1117       NaN      NaN          1  GPL18721\n",
       "1118       NaN      NaN          1  GPL18761"
      ]
     },
     "execution_count": 9,
     "metadata": {},
     "output_type": "execute_result"
    }
   ],
   "source": [
    "_t = (\n",
    "    platforms_homo\n",
    "    .merge(platforms_homo_expr_uncleaned, left_on='accession', right_on='key', how='right')\n",
    "#     .drop('key', axis=1)\n",
    "    .sort('doc_count', ascending=False)\n",
    "#     .query('organism == \"Homo sapiens\"')\n",
    ")\n",
    "_t\n",
    "_t[_t.accession.isnull()]"
   ]
  },
  {
   "cell_type": "markdown",
   "metadata": {},
   "source": [
    "### Серии, у которых больше одной платформы"
   ]
  },
  {
   "cell_type": "code",
   "execution_count": 10,
   "metadata": {
    "collapsed": true
   },
   "outputs": [],
   "source": [
    "query = {\n",
    "  \"query\": {\n",
    "    \"filtered\": {\n",
    "      \"filter\": {\n",
    "        \"bool\": {\n",
    "          \"must\": [\n",
    "            {\n",
    "              \"script\": {\n",
    "                \"script\": \"doc['platforms'].size() >=2\"\n",
    "              }\n",
    "            },\n",
    "            {\n",
    "              \"term\": {\n",
    "                \"data_source\": \"geo\"\n",
    "              }\n",
    "            },\n",
    "            {\n",
    "              \"terms\": {\n",
    "                \"type\": [\n",
    "                  \"Expression profiling by array\",\n",
    "                  \"Expression profiling by high throughput sequencing\"\n",
    "                ]\n",
    "              }\n",
    "            }\n",
    "            \n",
    "          ]\n",
    "        }\n",
    "      }\n",
    "    }\n",
    "  },\n",
    "  \"size\": 5000, \n",
    "  \"fields\": [\"accession\", \"platforms\", \"type\", \"organism\"]\n",
    "}\n",
    "\n",
    "res = es.search(index='series_dev', body=query)"
   ]
  },
  {
   "cell_type": "code",
   "execution_count": 59,
   "metadata": {
    "collapsed": false
   },
   "outputs": [
    {
     "data": {
      "text/plain": [
       "[{'_id': 'AVC0hG5iW9INVF-Z1EJ7',\n",
       "  '_index': 'series_dev',\n",
       "  '_score': 1.0,\n",
       "  '_type': 'series_dev',\n",
       "  'fields': {'accession': ['GSE6969'],\n",
       "   'organism': ['Homo sapiens'],\n",
       "   'platforms': ['GPL570', 'GPL2507', 'GPL2700'],\n",
       "   'type': ['Expression profiling by array']}},\n",
       " {'_id': 'AVC0hG5iW9INVF-Z1EMz',\n",
       "  '_index': 'series_dev',\n",
       "  '_score': 1.0,\n",
       "  '_type': 'series_dev',\n",
       "  'fields': {'accession': ['GSE7171'],\n",
       "   'organism': ['Rattus norvegicus'],\n",
       "   'platforms': ['GPL4733', 'GPL4917'],\n",
       "   'type': ['Expression profiling by array']}}]"
      ]
     },
     "execution_count": 59,
     "metadata": {},
     "output_type": "execute_result"
    }
   ],
   "source": [
    "res['hits']['hits'][:2]"
   ]
  },
  {
   "cell_type": "code",
   "execution_count": 11,
   "metadata": {
    "collapsed": false
   },
   "outputs": [],
   "source": [
    "series_with_many_platforms = [s['fields']['accession'][0] for s in res['hits']['hits']]"
   ]
  },
  {
   "cell_type": "code",
   "execution_count": 12,
   "metadata": {
    "collapsed": false
   },
   "outputs": [
    {
     "data": {
      "text/plain": [
       "['GSE6969',\n",
       " 'GSE7171',\n",
       " 'GSE7238',\n",
       " 'GSE7260',\n",
       " 'GSE7295',\n",
       " 'GSE7298',\n",
       " 'GSE7300',\n",
       " 'GSE7374',\n",
       " 'GSE7473',\n",
       " 'GSE7497']"
      ]
     },
     "execution_count": 12,
     "metadata": {},
     "output_type": "execute_result"
    }
   ],
   "source": [
    "series_with_many_platforms[:10]"
   ]
  },
  {
   "cell_type": "code",
   "execution_count": 13,
   "metadata": {
    "collapsed": false
   },
   "outputs": [],
   "source": [
    "query = {\n",
    "    \"query\": {\n",
    "        'filtered': {\n",
    "            \"query\": {\n",
    "                \"match_all\": {}\n",
    "            },\n",
    "            \"filter\": {\n",
    "                \"term\": {\n",
    "                    \"organism\": \"Homo sapiens\"\n",
    "                }\n",
    "            }\n",
    "        }\n",
    "        \n",
    "    },\n",
    "    \"fields\": ['accession', 'platforms'],\n",
    "    \"size\": 40000\n",
    "}\n",
    "\n",
    "res = es.search(index='series_dev', body=query)"
   ]
  },
  {
   "cell_type": "code",
   "execution_count": 14,
   "metadata": {
    "collapsed": false
   },
   "outputs": [
    {
     "data": {
      "text/plain": [
       "23274"
      ]
     },
     "execution_count": 14,
     "metadata": {},
     "output_type": "execute_result"
    }
   ],
   "source": [
    "len(res['hits']['hits'])"
   ]
  },
  {
   "cell_type": "code",
   "execution_count": 15,
   "metadata": {
    "collapsed": false
   },
   "outputs": [],
   "source": [
    "from collections import defaultdict\n",
    "platform_series = defaultdict(set)\n",
    "\n",
    "for s in res['hits']['hits']:\n",
    "    for p in s['fields'].get('platforms', []):\n",
    "        platform_series[p].add(s['fields']['accession'][0])"
   ]
  },
  {
   "cell_type": "code",
   "execution_count": 16,
   "metadata": {
    "collapsed": false
   },
   "outputs": [
    {
     "data": {
      "text/plain": [
       "3875"
      ]
     },
     "execution_count": 16,
     "metadata": {},
     "output_type": "execute_result"
    }
   ],
   "source": [
    "len(platform_series)"
   ]
  },
  {
   "cell_type": "code",
   "execution_count": 18,
   "metadata": {
    "collapsed": true
   },
   "outputs": [],
   "source": [
    "# Платформы, для которых невозможно решить какой тип эксперимента, \n",
    "# т.к. все серии с этими платформами имеют более одной платформы\n",
    "\n",
    "platforms_with_series_with_many_platforms = [(platform, series_list)\n",
    "    for platform, series_list in platform_series.items()\n",
    "    if all(s in series_with_many_platforms for s in series_list)]"
   ]
  },
  {
   "cell_type": "code",
   "execution_count": 19,
   "metadata": {
    "collapsed": false
   },
   "outputs": [
    {
     "data": {
      "text/plain": [
       "391"
      ]
     },
     "execution_count": 19,
     "metadata": {},
     "output_type": "execute_result"
    }
   ],
   "source": [
    "len(platforms_with_series_with_many_platforms)"
   ]
  },
  {
   "cell_type": "code",
   "execution_count": 20,
   "metadata": {
    "collapsed": false
   },
   "outputs": [
    {
     "data": {
      "text/plain": [
       "[('GPL14356', {'GSE31740'}),\n",
       " ('GPL8040', {'GSE14067', 'GSE14356'}),\n",
       " ('GPL1825', {'GSE2193'}),\n",
       " ('GPL351', {'GSE1030', 'GSE522', 'GSE524', 'GSE525', 'GSE526'}),\n",
       " ('GPL13219', {'GSE27479'}),\n",
       " ('GPL2706', {'GSE3034'}),\n",
       " ('GPL9871', {'GSE19821'}),\n",
       " ('GPL6765', {'GSE11235'}),\n",
       " ('GPL10661', {'GSE22834'}),\n",
       " ('GPL14593', {'GSE32245'})]"
      ]
     },
     "execution_count": 20,
     "metadata": {},
     "output_type": "execute_result"
    }
   ],
   "source": [
    "platforms_with_series_with_many_platforms[:10]"
   ]
  },
  {
   "cell_type": "code",
   "execution_count": 26,
   "metadata": {
    "collapsed": false
   },
   "outputs": [
    {
     "data": {
      "text/plain": [
       "1.7672634271099745"
      ]
     },
     "execution_count": 26,
     "metadata": {},
     "output_type": "execute_result"
    }
   ],
   "source": [
    "sum(map(lambda x: len(x[1]), platforms_with_series_with_many_platforms))/ len(platforms_with_series_with_many_platforms)"
   ]
  },
  {
   "cell_type": "code",
   "execution_count": 28,
   "metadata": {
    "collapsed": false
   },
   "outputs": [
    {
     "data": {
      "text/plain": [
       "14"
      ]
     },
     "execution_count": 28,
     "metadata": {},
     "output_type": "execute_result"
    }
   ],
   "source": [
    "max(map(lambda x: len(x[1]), platforms_with_series_with_many_platforms))"
   ]
  },
  {
   "cell_type": "code",
   "execution_count": 29,
   "metadata": {
    "collapsed": false
   },
   "outputs": [
    {
     "data": {
      "text/plain": [
       "1"
      ]
     },
     "execution_count": 29,
     "metadata": {},
     "output_type": "execute_result"
    }
   ],
   "source": [
    "min(map(lambda x: len(x[1]), platforms_with_series_with_many_platforms))"
   ]
  },
  {
   "cell_type": "code",
   "execution_count": 21,
   "metadata": {
    "collapsed": false
   },
   "outputs": [
    {
     "data": {
      "text/html": [
       "<div>\n",
       "<table border=\"1\" class=\"dataframe\">\n",
       "  <thead>\n",
       "    <tr style=\"text-align: right;\">\n",
       "      <th></th>\n",
       "      <th>doc_count</th>\n",
       "      <th>key</th>\n",
       "    </tr>\n",
       "  </thead>\n",
       "  <tbody>\n",
       "  </tbody>\n",
       "</table>\n",
       "</div>"
      ],
      "text/plain": [
       "Empty DataFrame\n",
       "Columns: [doc_count, key]\n",
       "Index: []"
      ]
     },
     "execution_count": 21,
     "metadata": {},
     "output_type": "execute_result"
    }
   ],
   "source": [
    "# Не пересекаются с платформами у которых есть серии с одной платформой\n",
    "_t = [x[0] for x in platforms_with_series_with_many_platforms]\n",
    "platforms_homo_expr_uncleaned[platforms_homo_expr_uncleaned.key.isin(_t)]"
   ]
  },
  {
   "cell_type": "markdown",
   "metadata": {},
   "source": [
    "## Expression platforms"
   ]
  },
  {
   "cell_type": "code",
   "execution_count": 22,
   "metadata": {
    "collapsed": false
   },
   "outputs": [
    {
     "data": {
      "text/html": [
       "<div>\n",
       "<table border=\"1\" class=\"dataframe\">\n",
       "  <thead>\n",
       "    <tr style=\"text-align: right;\">\n",
       "      <th></th>\n",
       "      <th>doc_count</th>\n",
       "      <th>key</th>\n",
       "    </tr>\n",
       "  </thead>\n",
       "  <tbody>\n",
       "    <tr>\n",
       "      <th>0</th>\n",
       "      <td>3375</td>\n",
       "      <td>GPL570</td>\n",
       "    </tr>\n",
       "    <tr>\n",
       "      <th>1</th>\n",
       "      <td>966</td>\n",
       "      <td>GPL6244</td>\n",
       "    </tr>\n",
       "    <tr>\n",
       "      <th>2</th>\n",
       "      <td>827</td>\n",
       "      <td>GPL10558</td>\n",
       "    </tr>\n",
       "    <tr>\n",
       "      <th>3</th>\n",
       "      <td>733</td>\n",
       "      <td>GPL96</td>\n",
       "    </tr>\n",
       "    <tr>\n",
       "      <th>4</th>\n",
       "      <td>518</td>\n",
       "      <td>GPL6480</td>\n",
       "    </tr>\n",
       "  </tbody>\n",
       "</table>\n",
       "</div>"
      ],
      "text/plain": [
       "   doc_count       key\n",
       "0       3375    GPL570\n",
       "1        966   GPL6244\n",
       "2        827  GPL10558\n",
       "3        733     GPL96\n",
       "4        518   GPL6480"
      ]
     },
     "execution_count": 22,
     "metadata": {},
     "output_type": "execute_result"
    }
   ],
   "source": [
    "platforms_homo_expr_uncleaned.head()"
   ]
  },
  {
   "cell_type": "markdown",
   "metadata": {},
   "source": [
    "## Samples with gene expression"
   ]
  },
  {
   "cell_type": "markdown",
   "metadata": {},
   "source": [
    "### Samples (Homo sapiens)"
   ]
  },
  {
   "cell_type": "code",
   "execution_count": 25,
   "metadata": {
    "collapsed": false
   },
   "outputs": [
    {
     "data": {
      "text/plain": [
       "{'_shards': {'failed': 0, 'successful': 5, 'total': 5}, 'count': 593610}"
      ]
     },
     "execution_count": 25,
     "metadata": {},
     "output_type": "execute_result"
    }
   ],
   "source": [
    "query = {\n",
    "  \"query\": {\n",
    "    \"filtered\": {\n",
    "      \"filter\": {\n",
    "        \"terms\": {\n",
    "          \"platform\": platforms_homo_expr_uncleaned['key'].tolist()\n",
    "        }\n",
    "      }\n",
    "    }\n",
    "  }\n",
    "}\n",
    "\n",
    "res = es.count(index='samples_dev', body=query)\n",
    "res"
   ]
  },
  {
   "cell_type": "markdown",
   "metadata": {},
   "source": [
    "## Samples all (GEO, Homo sapiens)"
   ]
  },
  {
   "cell_type": "code",
   "execution_count": 34,
   "metadata": {
    "collapsed": false
   },
   "outputs": [
    {
     "data": {
      "text/plain": [
       "{'_shards': {'failed': 0, 'successful': 5, 'total': 5}, 'count': 940114}"
      ]
     },
     "execution_count": 34,
     "metadata": {},
     "output_type": "execute_result"
    }
   ],
   "source": [
    "query = {\n",
    "  \"query\": {\n",
    "    \"filtered\": {\n",
    "      \"filter\": {\n",
    "        \"bool\": {\n",
    "          \"must\": [\n",
    "            {\n",
    "              \"term\": {\n",
    "                \"organism\": \"Homo sapiens\"\n",
    "              }\n",
    "            },\n",
    "            {\n",
    "              \"term\": {\n",
    "                \"data_source\": \"geo\"\n",
    "              }\n",
    "            }\n",
    "          ]\n",
    "        }\n",
    "      }\n",
    "    }\n",
    "  }\n",
    "}\n",
    "res = es.count(index='samples_dev', body=query)\n",
    "res"
   ]
  }
 ],
 "metadata": {
  "kernelspec": {
   "display_name": "Python 3",
   "language": "python",
   "name": "python3"
  },
  "language_info": {
   "codemirror_mode": {
    "name": "ipython",
    "version": 3
   },
   "file_extension": ".py",
   "mimetype": "text/x-python",
   "name": "python",
   "nbconvert_exporter": "python",
   "pygments_lexer": "ipython3",
   "version": "3.4.0"
  }
 },
 "nbformat": 4,
 "nbformat_minor": 0
}
