{
 "cells": [
  {
   "cell_type": "code",
   "execution_count": 1,
   "metadata": {
    "collapsed": true
   },
   "outputs": [],
   "source": [
    "from misc import obo"
   ]
  },
  {
   "cell_type": "code",
   "execution_count": 2,
   "metadata": {
    "collapsed": false
   },
   "outputs": [
    {
     "name": "stdout",
     "output_type": "stream",
     "text": [
      "Read obo graph\n",
      "Name: \n",
      "Type: DiGraph\n",
      "Number of nodes: 5659\n",
      "Number of edges: 6430\n",
      "Average in degree:   1.1362\n",
      "Average out degree:   1.1362\n"
     ]
    }
   ],
   "source": [
    "ontology = obo.read_ontology('../data/geo-annotation/brenda-tissue-ontology.obo')"
   ]
  },
  {
   "cell_type": "code",
   "execution_count": 3,
   "metadata": {
    "collapsed": true
   },
   "outputs": [],
   "source": [
    "import networkx as nx"
   ]
  },
  {
   "cell_type": "code",
   "execution_count": 4,
   "metadata": {
    "collapsed": true
   },
   "outputs": [],
   "source": [
    "root_id = 'BTO:0000142'"
   ]
  },
  {
   "cell_type": "code",
   "execution_count": 7,
   "metadata": {
    "collapsed": false
   },
   "outputs": [],
   "source": [
    "tissue_ids = list(nx.descendants(ontology.graph, 'BTO:0000142'))\n"
   ]
  },
  {
   "cell_type": "code",
   "execution_count": 17,
   "metadata": {
    "collapsed": false
   },
   "outputs": [
    {
     "data": {
      "text/plain": [
       "'\"BTO:0001408\",\"BTO:0004373\",\"BTO:0000418\",\"BTO:0004834\",\"BTO:0002035\",\"BTO:0002253\",\"BTO:0000293\",\"BTO:0004701\",\"BTO:0002671\",\"BTO:0002670\",\"BTO:0002872\",\"BTO:0000226\",\"BTO:0001635\",\"BTO:0003686\",\"BTO:0001067\",\"BTO:0000496\",\"BTO:0004448\",\"BTO:0003761\",\"BTO:0002036\",\"BTO:0002699\",\"BTO:0002496\",\"BTO:0002702\",\"BTO:0003447\",\"BTO:0004454\",\"BTO:0005008\",\"BTO:0002462\",\"BTO:0002938\",\"BTO:0003868\",\"BTO:0003405\",\"BTO:0001789\",\"BTO:0003685\",\"BTO:0002090\",\"BTO:0002469\",\"BTO:0003664\",\"BTO:0003844\",\"BTO:0003837\",\"BTO:0004776\",\"BTO:0003402\",\"BTO:0004352\",\"BTO:0002466\",\"BTO:0000143\",\"BTO:0005010\",\"BTO:0004356\",\"BTO:0003796\",\"BTO:0001683\",\"BTO:0005269\",\"BTO:0003349\",\"BTO:0004347\",\"BTO:0002509\",\"BTO:0000962\",\"BTO:0001710\",\"BTO:0000529\",\"BTO:0002452\",\"BTO:0002457\",\"BTO:0002467\",\"BTO:0003867\",\"BTO:0002127\",\"BTO:0002672\",\"BTO:0002453\",\"BTO:0001757\",\"BTO:0001583\",\"BTO:0002472\",\"BTO:0003662\",\"BTO:0000770\",\"BTO:0005095\",\"BTO:0003975\",\"BTO:0002299\",\"BTO:0000942\",\"BTO:0002473\",\"BTO:0002248\",\"BTO:0004451\",\"BTO:0005007\",\"BTO:0005601\",\"BTO:0004735\",\"BTO:0003389\",\"BTO:0002448\",\"BTO:0004908\",\"BTO:0004213\",\"BTO:0001857\",\"BTO:0005252\",\"BTO:0002300\",\"BTO:0004477\",\"BTO:0002476\",\"BTO:0001317\",\"BTO:0002659\",\"BTO:0001862\",\"BTO:0004778\",\"BTO:0002374\",\"BTO:0004016\",\"BTO:0002251\",\"BTO:0003839\",\"BTO:0002777\",\"BTO:0002704\",\"BTO:0001178\",\"BTO:0000100\",\"BTO:0003835\",\"BTO:0003749\",\"BTO:0004844\",\"BTO:0004376\",\"BTO:0002481\",\"BTO:0001108\",\"BTO:0004331\",\"BTO:0002468\",\"BTO:0002470\",\"BTO:0004345\",\"BTO:0002216\",\"BTO:0003218\",\"BTO:0002785\",\"BTO:0002460\",\"BTO:0002500\",\"BTO:0003351\",\"BTO:0003262\",\"BTO:0000041\",\"BTO:0002213\",\"BTO:0002250\",\"BTO:0003448\",\"BTO:0000342\",\"BTO:0004455\",\"BTO:0000920\",\"BTO:0002650\",\"BTO:0004704\",\"BTO:0001362\",\"BTO:0003977\",\"BTO:0000484\",\"BTO:0003869\",\"BTO:0002774\",\"BTO:0001359\",\"BTO:0002664\",\"BTO:0000231\",\"BTO:0004907\",\"BTO:0005603\",\"BTO:0002706\",\"BTO:0001205\",\"BTO:0003759\",\"BTO:0002807\",\"BTO:0001822\",\"BTO:0000894\",\"BTO:0000235\",\"BTO:0005200\",\"BTO:0001573\",\"BTO:0000875\",\"BTO:0001953\",\"BTO:0002088\",\"BTO:0000040\",\"BTO:0000771\",\"BTO:0002095\",\"BTO:0004457\",\"BTO:0003772\",\"BTO:0005364\",\"BTO:0000928\",\"BTO:0004357\",\"BTO:0002651\",\"BTO:0003037\",\"BTO:0002697\",\"BTO:0003701\",\"BTO:0002675\",\"BTO:0002600\",\"BTO:0002700\",\"BTO:0002654\",\"BTO:0004430\",\"BTO:0003965\",\"BTO:0001820\",\"BTO:0000138\",\"BTO:0001724\",\"BTO:0005582\",\"BTO:0001634\",\"BTO:0001637\",\"BTO:0003684\",\"BTO:0004369\",\"BTO:0004342\",\"BTO:0000936\",\"BTO:0004332\",\"BTO:0002674\",\"BTO:0003400\",\"BTO:0002676\",\"BTO:0004379\",\"BTO:0002434\",\"BTO:0004860\",\"BTO:0002464\",\"BTO:0004425\",\"BTO:0004366\",\"BTO:0002463\",\"BTO:0005135\",\"BTO:0001796\",\"BTO:0003649\",\"BTO:0001105\",\"BTO:0004199\",\"BTO:0002919\",\"BTO:0004453\",\"BTO:0001557\",\"BTO:0000427\",\"BTO:0004515\",\"BTO:0001311\",\"BTO:0003955\",\"BTO:0004677\",\"BTO:0003979\",\"BTO:0004372\",\"BTO:0003087\",\"BTO:0005450\",\"BTO:0000879\",\"BTO:0003863\",\"BTO:0004250\",\"BTO:0002920\",\"BTO:0004456\",\"BTO:0003412\",\"BTO:0003249\",\"BTO:0004354\",\"BTO:0003753\",\"BTO:0000614\",\"BTO:0004517\",\"BTO:0004014\",\"BTO:0003392\",\"BTO:0003090\",\"BTO:0002701\",\"BTO:0003605\",\"BTO:0004249\",\"BTO:0002479\",\"BTO:0000016\",\"BTO:0000211\",\"BTO:0005547\",\"BTO:0004344\",\"BTO:0002004\",\"BTO:0002128\",\"BTO:0003976\",\"BTO:0003426\",\"BTO:0005151\",\"BTO:0001739\",\"BTO:0003665\",\"BTO:0000895\",\"BTO:0000255\",\"BTO:0005602\",\"BTO:0004374\",\"BTO:0000115\",\"BTO:0003261\",\"BTO:0000965\",\"BTO:0002705\",\"BTO:0003566\",\"BTO:0002214\",\"BTO:0003852\",\"BTO:0003795\",\"BTO:0003248\",\"BTO:0000233\",\"BTO:0004882\",\"BTO:0000078\",\"BTO:0004368\",\"BTO:0001320\",\"BTO:0000524\",\"BTO:0002449\",\"BTO:0002400\",\"BTO:0005311\",\"BTO:0004371\",\"BTO:0002373\",\"BTO:0002873\",\"BTO:0004370\",\"BTO:0000768\",\"BTO:0002461\",\"BTO:0004691\",\"BTO:0004375\",\"BTO:0000101\",\"BTO:0003404\",\"BTO:0004215\",\"BTO:0000711\",\"BTO:0005629\",\"BTO:0000296\",\"BTO:0001954\",\"BTO:0004328\",\"BTO:0004225\",\"BTO:0002169\",\"BTO:0003036\",\"BTO:0003786\",\"BTO:0004459\",\"BTO:0000615\",\"BTO:0002673\",\"BTO:0000232\",\"BTO:0002686\",\"BTO:0004906\",\"BTO:0002139\",\"BTO:0001355\",\"BTO:0000526\",\"BTO:0003966\",\"BTO:0003353\",\"BTO:0000175\",\"BTO:0004102\",\"BTO:0003738\",\"BTO:0005184\",\"BTO:0000872\",\"BTO:0003410\",\"BTO:0003788\",\"BTO:0002615\",\"BTO:0004343\",\"BTO:0002298\",\"BTO:0000144\",\"BTO:0005023\",\"BTO:0004349\",\"BTO:0002465\",\"BTO:0001001\",\"BTO:0005396\",\"BTO:0003396\",\"BTO:0003836\",\"BTO:0003838\",\"BTO:0004879\",\"BTO:0004702\",\"BTO:0001066\",\"BTO:0002515\",\"BTO:0002247\",\"BTO:0004880\",\"BTO:0001531\",\"BTO:0003406\",\"BTO:0003408\",\"BTO:0001868\",\"BTO:0004326\",\"BTO:0004464\",\"BTO:0003963\",\"BTO:0000961\",\"BTO:0002091\",\"BTO:0002444\",\"BTO:0002082\",\"BTO:0002599\",\"BTO:0004350\",\"BTO:0000229\",\"BTO:0004341\",\"BTO:0000258\",\"BTO:0000478\",\"BTO:0003880\",\"BTO:0002215\",\"BTO:0002447\",\"BTO:0002458\",\"BTO:0004452\",\"BTO:0002497\",\"BTO:0002824\",\"BTO:0000445\",\"BTO:0002821\",\"BTO:0003390\",\"BTO:0003704\",\"BTO:0004726\",\"BTO:0003407\",\"BTO:0004380\",\"BTO:0003232\",\"BTO:0000900\",\"BTO:0001788\",\"BTO:0001793\",\"BTO:0002378\",\"BTO:0003388\",\"BTO:0001076\",\"BTO:0000043\",\"BTO:0004222\",\"BTO:0000963\",\"BTO:0002126\",\"BTO:0002498\",\"BTO:0001068\",\"BTO:0003350\",\"BTO:0004200\",\"BTO:0002983\",\"BTO:0003750\",\"BTO:0003414\",\"BTO:0000236\",\"BTO:0004467\",\"BTO:0004329\",\"BTO:0002092\",\"BTO:0003705\",\"BTO:0002698\",\"BTO:0003409\",\"BTO:0005458\",\"BTO:0004506\",\"BTO:0002450\",\"BTO:0001480\",\"BTO:0000754\",\"BTO:0000922\",\"BTO:0003231\",\"BTO:0002703\",\"BTO:0003647\",\"BTO:0002277\",\"BTO:0005606\",\"BTO:0002446\",\"BTO:0003663\",\"BTO:0003401\",\"BTO:0004553\",\"BTO:0004381\",\"BTO:0002445\",\"BTO:0001365\",\"BTO:0001636\",\"BTO:0001787\",\"BTO:0003937\",\"BTO:0000145\",\"BTO:0002455\",\"BTO:0002379\",\"BTO:0001327\",\"BTO:0001101\",\"BTO:0004703\",\"BTO:0003787\",\"BTO:0002246\",\"BTO:0004797\",\"BTO:0003411\",\"BTO:0002858\",\"BTO:0000672\",\"BTO:0003146\",\"BTO:0000937\",\"BTO:0002778\",\"BTO:0001410\",\"BTO:0003366\",\"BTO:0004727\",\"BTO:0004676\",\"BTO:0001073\",\"BTO:0001442\",\"BTO:0001869\",\"BTO:0003425\",\"BTO:0002495\",\"BTO:0004909\",\"BTO:0003399\",\"BTO:0002252\",\"BTO:0004367\",\"BTO:0000756\",\"BTO:0000212\",\"BTO:0001077\",\"BTO:0002474\",\"BTO:0002771\",\"BTO:0003654\",\"BTO:0003102\",\"BTO:0002871\",\"BTO:0004355\",\"BTO:0002767\",\"BTO:0004836\",\"BTO:0002454\",\"BTO:0001446\",\"BTO:0001283\",\"BTO:0000099\",\"BTO:0004450\",\"BTO:0000561\",\"BTO:0003793\",\"BTO:0005268\",\"BTO:0004398\",\"BTO:0002820\",\"BTO:0004330\",\"BTO:0002459\",\"BTO:0004516\",\"BTO:0002005\",\"BTO:0004292\",\"BTO:0004835\",\"BTO:0000239\",\"BTO:0005186\",\"BTO:0000601\",\"BTO:0000238\",\"BTO:0004449\",\"BTO:0005201\",\"BTO:0004616\",\"BTO:0004399\",\"BTO:0003352\",\"BTO:0004458\",\"BTO:0000690\",\"BTO:0001756\",\"BTO:0001530\",\"BTO:0000758\",\"BTO:0000401\",\"BTO:0004530\",\"BTO:0002609\",\"BTO:0003879\",\"BTO:0003978\",\"BTO:0002677\",\"BTO:0001011\",\"BTO:0004348\",\"BTO:0000823\",\"BTO:0003618\",\"BTO:0000237\",\"BTO:0003957\",\"BTO:0003403\",\"BTO:0004605\",\"BTO:0002475\",\"BTO:0000590\",\"BTO:0002456\",\"BTO:0000146\",\"BTO:0003653\",\"BTO:0002451\",\"BTO:0000527\",\"BTO:0001319\",\"BTO:0004346\",\"BTO:0002606\",\"BTO:0004351\",\"BTO:0004353\",\"BTO:0004214\",\"BTO:0003387\",\"BTO:0004044\",\"BTO:0001042\",\"BTO:0000673\"'"
      ]
     },
     "execution_count": 17,
     "metadata": {},
     "output_type": "execute_result"
    }
   ],
   "source": [
    "','.join(map('\"{}\"'.format, tissue_ids))"
   ]
  },
  {
   "cell_type": "code",
   "execution_count": 8,
   "metadata": {
    "collapsed": true
   },
   "outputs": [],
   "source": [
    "from elasticsearch import Elasticsearch\n",
    "es = Elasticsearch()"
   ]
  },
  {
   "cell_type": "code",
   "execution_count": 11,
   "metadata": {
    "collapsed": true
   },
   "outputs": [],
   "source": [
    "body = {\n",
    "    \"query\": {\n",
    "        \"filtered\": {\n",
    "            \"filter\": {\n",
    "                \"bool\": {\n",
    "                    \"must\": [{\n",
    "                            \"terms\": {\n",
    "                                \"annotation.tissue_id\": tissue_ids\n",
    "                            }\n",
    "                        }, {\n",
    "                            \"term\": {\n",
    "                                'organism': \"Homo sapiens\"\n",
    "                            }\n",
    "                        }, {\n",
    "                            \"term\": {\n",
    "                                \"annotation.preprocessed\": 1\n",
    "                            }\n",
    "                        }]\n",
    "                }\n",
    "            }\n",
    "        }\n",
    "    }\n",
    "}"
   ]
  },
  {
   "cell_type": "code",
   "execution_count": 13,
   "metadata": {
    "collapsed": false
   },
   "outputs": [
    {
     "data": {
      "text/plain": [
       "{'_shards': {'failed': 0, 'successful': 5, 'total': 5},\n",
       " 'hits': {'hits': [{'_id': 'AVC0P_XJW9INVF-Zx9CZ',\n",
       "    '_index': 'samples_dev',\n",
       "    '_score': 1.0,\n",
       "    '_source': {'accession': 'GSM1519203',\n",
       "     'platform': 'GPL10558',\n",
       "     'series': ['GSE62064']},\n",
       "    '_type': 'samples_dev'},\n",
       "   {'_id': 'AVC0P_XJW9INVF-Zx9Cd',\n",
       "    '_index': 'samples_dev',\n",
       "    '_score': 1.0,\n",
       "    '_source': {'accession': 'GSM1519207',\n",
       "     'platform': 'GPL10558',\n",
       "     'series': ['GSE62064']},\n",
       "    '_type': 'samples_dev'},\n",
       "   {'_id': 'AVC0P_XJW9INVF-Zx9Cf',\n",
       "    '_index': 'samples_dev',\n",
       "    '_score': 1.0,\n",
       "    '_source': {'accession': 'GSM1519209',\n",
       "     'platform': 'GPL10558',\n",
       "     'series': ['GSE62064']},\n",
       "    '_type': 'samples_dev'},\n",
       "   {'_id': 'AVC0P_XJW9INVF-Zx9Ch',\n",
       "    '_index': 'samples_dev',\n",
       "    '_score': 1.0,\n",
       "    '_source': {'accession': 'GSM1519211',\n",
       "     'platform': 'GPL10558',\n",
       "     'series': ['GSE62064']},\n",
       "    '_type': 'samples_dev'},\n",
       "   {'_id': 'AVC0P_XJW9INVF-Zx9Cm',\n",
       "    '_index': 'samples_dev',\n",
       "    '_score': 1.0,\n",
       "    '_source': {'accession': 'GSM1519216',\n",
       "     'platform': 'GPL10558',\n",
       "     'series': ['GSE62064']},\n",
       "    '_type': 'samples_dev'},\n",
       "   {'_id': 'AVC0P_XJW9INVF-Zx9Cz',\n",
       "    '_index': 'samples_dev',\n",
       "    '_score': 1.0,\n",
       "    '_source': {'accession': 'GSM1519229',\n",
       "     'platform': 'GPL10558',\n",
       "     'series': ['GSE62064']},\n",
       "    '_type': 'samples_dev'},\n",
       "   {'_id': 'AVC0P_XJW9INVF-Zx9C0',\n",
       "    '_index': 'samples_dev',\n",
       "    '_score': 1.0,\n",
       "    '_source': {'accession': 'GSM1519230',\n",
       "     'platform': 'GPL10558',\n",
       "     'series': ['GSE62064']},\n",
       "    '_type': 'samples_dev'},\n",
       "   {'_id': 'AVC0P_XJW9INVF-Zx9C5',\n",
       "    '_index': 'samples_dev',\n",
       "    '_score': 1.0,\n",
       "    '_source': {'accession': 'GSM1519235',\n",
       "     'platform': 'GPL10558',\n",
       "     'series': ['GSE62064']},\n",
       "    '_type': 'samples_dev'},\n",
       "   {'_id': 'AVC0P_XJW9INVF-Zx9DD',\n",
       "    '_index': 'samples_dev',\n",
       "    '_score': 1.0,\n",
       "    '_source': {'accession': 'GSM1519245',\n",
       "     'platform': 'GPL10558',\n",
       "     'series': ['GSE62064']},\n",
       "    '_type': 'samples_dev'},\n",
       "   {'_id': 'AVC0P_XJW9INVF-Zx9Dc',\n",
       "    '_index': 'samples_dev',\n",
       "    '_score': 1.0,\n",
       "    '_source': {'accession': 'GSM1519270',\n",
       "     'platform': 'GPL10558',\n",
       "     'series': ['GSE62064']},\n",
       "    '_type': 'samples_dev'}],\n",
       "  'max_score': 1.0,\n",
       "  'total': 2890},\n",
       " 'timed_out': False,\n",
       " 'took': 23}"
      ]
     },
     "execution_count": 13,
     "metadata": {},
     "output_type": "execute_result"
    }
   ],
   "source": [
    "es.search(index='samples_dev', body=body, _source=['accession', 'platform', 'series'])"
   ]
  },
  {
   "cell_type": "code",
   "execution_count": null,
   "metadata": {
    "collapsed": true
   },
   "outputs": [],
   "source": []
  }
 ],
 "metadata": {
  "kernelspec": {
   "display_name": "Python 3",
   "language": "python",
   "name": "python3"
  },
  "language_info": {
   "codemirror_mode": {
    "name": "ipython",
    "version": 3
   },
   "file_extension": ".py",
   "mimetype": "text/x-python",
   "name": "python",
   "nbconvert_exporter": "python",
   "pygments_lexer": "ipython3",
   "version": "3.4.0"
  }
 },
 "nbformat": 4,
 "nbformat_minor": 0
}
