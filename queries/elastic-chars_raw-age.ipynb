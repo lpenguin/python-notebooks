{
 "cells": [
  {
   "cell_type": "code",
   "execution_count": 41,
   "metadata": {
    "collapsed": true
   },
   "outputs": [],
   "source": [
    "from elasticsearch import Elasticsearch\n",
    "from elasticsearch_dsl import Search\n",
    "from elasticsearch_dsl.query import Q\n",
    "from itertools import islice\n",
    "import pandas as pd\n",
    "import numpy as np\n",
    "from misc import utils\n",
    "\n",
    "from collections import defaultdict\n"
   ]
  },
  {
   "cell_type": "code",
   "execution_count": 42,
   "metadata": {
    "collapsed": true
   },
   "outputs": [],
   "source": [
    "es = Elasticsearch()\n",
    "def s():\n",
    "    return Search(using=es, index='samples_dev')"
   ]
  },
  {
   "cell_type": "code",
   "execution_count": 43,
   "metadata": {
    "collapsed": true
   },
   "outputs": [],
   "source": [
    "def itersearch(search: Search, page_size: int=1000):\n",
    "    count = search.count()\n",
    "    print(count)\n",
    "    for page in range(0, count, page_size):\n",
    "        for res in search[page: page+page_size].execute():\n",
    "            yield res"
   ]
  },
  {
   "cell_type": "code",
   "execution_count": null,
   "metadata": {
    "collapsed": false
   },
   "outputs": [],
   "source": [
    "search = (\n",
    "    s()\n",
    "    .query(Q('match', characteristics_raw='age'))\n",
    "    .extra(_source=['accession', 'characteristics', 'characteristics_raw'])\n",
    ")\n",
    "samples = itersearch(search)\n",
    "\n"
   ]
  },
  {
   "cell_type": "code",
   "execution_count": null,
   "metadata": {
    "collapsed": false
   },
   "outputs": [],
   "source": [
    "keys = utils.flatten(\n",
    "            map(lambda x: x.characteristics.to_dict().keys(), \n",
    "                filter(lambda x: 'characteristics' in x, samples)))\n",
    "counts = defaultdict(int)\n",
    "for key in keys:\n",
    "    counts[key] += 1"
   ]
  },
  {
   "cell_type": "code",
   "execution_count": null,
   "metadata": {
    "collapsed": false
   },
   "outputs": [],
   "source": []
  },
  {
   "cell_type": "code",
   "execution_count": null,
   "metadata": {
    "collapsed": false
   },
   "outputs": [],
   "source": [
    "index, data = list(zip(*counts.items()))\n",
    "counts_s = pd.Series(index=index, data=data)\n",
    "counts_df = pd.DataFrame(dict(counts=counts_s))"
   ]
  },
  {
   "cell_type": "code",
   "execution_count": null,
   "metadata": {
    "collapsed": false
   },
   "outputs": [],
   "source": [
    "%store counts_df"
   ]
  },
  {
   "cell_type": "code",
   "execution_count": 1,
   "metadata": {
    "collapsed": true
   },
   "outputs": [],
   "source": [
    "%store -r counts_df"
   ]
  },
  {
   "cell_type": "code",
   "execution_count": 2,
   "metadata": {
    "collapsed": false
   },
   "outputs": [],
   "source": [
    "import qgrid"
   ]
  },
  {
   "cell_type": "code",
   "execution_count": 6,
   "metadata": {
    "collapsed": false
   },
   "outputs": [],
   "source": [
    "qgrid.nbinstall(overwrite=True)\n",
    "qgrid.set_defaults(remote_js=True, precision=4)"
   ]
  },
  {
   "cell_type": "code",
   "execution_count": 13,
   "metadata": {
    "collapsed": false
   },
   "outputs": [
    {
     "data": {
      "text/plain": [
       "['age', 'yrs', '']"
      ]
     },
     "execution_count": 13,
     "metadata": {},
     "output_type": "execute_result"
    }
   ],
   "source": [
    "import re\n",
    "def tokenize(s):\n",
    "    return re.split(r'[^\\w]+', s)\n",
    "tokenize('age(yrs)')"
   ]
  },
  {
   "cell_type": "code",
   "execution_count": 27,
   "metadata": {
    "collapsed": true
   },
   "outputs": [],
   "source": [
    "age_fields = ['age', 'age (years)', 'age (yrs)', 'age at diagnosis', 'age (y)',\n",
    " 'age in years', 'age (yrs) at rrp',\n",
    "       'patient age', 'age at surgery', 'sample age',\n",
    "       'age(years)', \n",
    "       'subject age']"
   ]
  },
  {
   "cell_type": "code",
   "execution_count": 29,
   "metadata": {
    "collapsed": false
   },
   "outputs": [
    {
     "data": {
      "text/html": [
       "<div>\n",
       "<table border=\"1\" class=\"dataframe\">\n",
       "  <thead>\n",
       "    <tr style=\"text-align: right;\">\n",
       "      <th></th>\n",
       "      <th>counts</th>\n",
       "    </tr>\n",
       "  </thead>\n",
       "  <tbody>\n",
       "    <tr>\n",
       "      <th>age</th>\n",
       "      <td>240309</td>\n",
       "    </tr>\n",
       "    <tr>\n",
       "      <th>age (years)</th>\n",
       "      <td>9939</td>\n",
       "    </tr>\n",
       "    <tr>\n",
       "      <th>age (yrs)</th>\n",
       "      <td>9923</td>\n",
       "    </tr>\n",
       "    <tr>\n",
       "      <th>age at diagnosis</th>\n",
       "      <td>7596</td>\n",
       "    </tr>\n",
       "    <tr>\n",
       "      <th>age (y)</th>\n",
       "      <td>6226</td>\n",
       "    </tr>\n",
       "    <tr>\n",
       "      <th>age in years</th>\n",
       "      <td>1386</td>\n",
       "    </tr>\n",
       "    <tr>\n",
       "      <th>age (yrs) at rrp</th>\n",
       "      <td>1192</td>\n",
       "    </tr>\n",
       "    <tr>\n",
       "      <th>patient age</th>\n",
       "      <td>1104</td>\n",
       "    </tr>\n",
       "    <tr>\n",
       "      <th>age at surgery</th>\n",
       "      <td>1062</td>\n",
       "    </tr>\n",
       "    <tr>\n",
       "      <th>sample age</th>\n",
       "      <td>1011</td>\n",
       "    </tr>\n",
       "    <tr>\n",
       "      <th>age(years)</th>\n",
       "      <td>1003</td>\n",
       "    </tr>\n",
       "    <tr>\n",
       "      <th>subject age</th>\n",
       "      <td>623</td>\n",
       "    </tr>\n",
       "  </tbody>\n",
       "</table>\n",
       "</div>"
      ],
      "text/plain": [
       "                  counts\n",
       "age               240309\n",
       "age (years)         9939\n",
       "age (yrs)           9923\n",
       "age at diagnosis    7596\n",
       "age (y)             6226\n",
       "age in years        1386\n",
       "age (yrs) at rrp    1192\n",
       "patient age         1104\n",
       "age at surgery      1062\n",
       "sample age          1011\n",
       "age(years)          1003\n",
       "subject age          623"
      ]
     },
     "execution_count": 29,
     "metadata": {},
     "output_type": "execute_result"
    }
   ],
   "source": [
    "(\n",
    "    counts_df\n",
    "    [counts_df.index.map(lambda x: any('age' == t.lower() for t in tokenize(x)))]\n",
    "    .query('counts > 300')\n",
    "    .loc[age_fields]\n",
    "    .sort('counts', ascending=False)\n",
    ")"
   ]
  },
  {
   "cell_type": "markdown",
   "metadata": {},
   "source": [
    "## Age values research"
   ]
  },
  {
   "cell_type": "code",
   "execution_count": 217,
   "metadata": {
    "collapsed": true
   },
   "outputs": [],
   "source": [
    "search = (\n",
    "    s()\n",
    "    .query(Q('match', characteristics_raw='age'))\n",
    "    .extra(_source=['accession', 'characteristics', 'characteristics_raw'])\n",
    ")\n",
    "samples = itersearch(search)"
   ]
  },
  {
   "cell_type": "code",
   "execution_count": 215,
   "metadata": {
    "collapsed": true
   },
   "outputs": [],
   "source": [
    "def get_nondigits(s, repl=''):\n",
    "    return re.sub(r'[\\d\\.]+', repl, s)\n",
    "\n"
   ]
  },
  {
   "cell_type": "code",
   "execution_count": 216,
   "metadata": {
    "collapsed": true
   },
   "outputs": [],
   "source": [
    "def update_counts(characteristics):\n",
    "    for age_field in age_fields:\n",
    "        if age_field in characteristics:\n",
    "            value = get_nondigits( characteristics[age_field], repl='#')\n",
    "            if value == '':\n",
    "                value = '#AGEOK'\n",
    "            if age_field not in counts:\n",
    "                counts[age_field] = {}\n",
    "            if value not in counts[age_field]:\n",
    "                counts[age_field][value] = 0\n",
    "            counts[age_field][value] += 1"
   ]
  },
  {
   "cell_type": "code",
   "execution_count": 218,
   "metadata": {
    "collapsed": false
   },
   "outputs": [],
   "source": [
    "chars = map(lambda x: x.characteristics.to_dict(), \n",
    "                filter(lambda x: 'characteristics' in x, samples))"
   ]
  },
  {
   "cell_type": "code",
   "execution_count": 219,
   "metadata": {
    "collapsed": false
   },
   "outputs": [
    {
     "name": "stdout",
     "output_type": "stream",
     "text": [
      "502493\n"
     ]
    }
   ],
   "source": [
    "counts = {}\n",
    "for char in (chars):\n",
    "    update_counts(char)\n",
    "    "
   ]
  },
  {
   "cell_type": "code",
   "execution_count": 221,
   "metadata": {
    "collapsed": false
   },
   "outputs": [
    {
     "name": "stdout",
     "output_type": "stream",
     "text": [
      "age at diagnosis\n",
      "age (yrs)\n",
      "age in years\n",
      "age (years)\n",
      "patient age\n",
      "age (yrs) at rrp\n",
      "sample age\n",
      "age\n",
      "age(years)\n",
      "age (y)\n",
      "age at surgery\n",
      "subject age\n"
     ]
    }
   ],
   "source": [
    "serieses = []\n",
    "for field_name, value_counts in counts.items():\n",
    "    print(field_name)\n",
    "    index, data = list(zip(*value_counts.items()))\n",
    "    serieses.append((field_name, pd.Series(index=index, data=data, name=field_name)))\n",
    "serieses = dict(serieses)"
   ]
  },
  {
   "cell_type": "code",
   "execution_count": 147,
   "metadata": {
    "collapsed": false
   },
   "outputs": [
    {
     "data": {
      "text/plain": [
       "['age at diagnosis',\n",
       " 'age (yrs)',\n",
       " 'age in years',\n",
       " 'age (years)',\n",
       " 'patient age',\n",
       " 'age (yrs) at rrp',\n",
       " 'sample age',\n",
       " 'age',\n",
       " 'age(years)',\n",
       " 'age (y)',\n",
       " 'age at surgery',\n",
       " 'subject age']"
      ]
     },
     "execution_count": 147,
     "metadata": {},
     "output_type": "execute_result"
    }
   ],
   "source": [
    "list(counts.keys())"
   ]
  },
  {
   "cell_type": "code",
   "execution_count": 246,
   "metadata": {
    "collapsed": false
   },
   "outputs": [
    {
     "data": {
      "text/plain": [
       "#                            88551\n",
       "#.#                          11113\n",
       "# years                       4362\n",
       "# yrs                         1362\n",
       "#-# years                     1093\n",
       "# yrs, when sample taken.      878\n",
       "# years old                    630\n",
       "#.# years                      467\n",
       "postnatal # years              398\n",
       "# yr                           366\n",
       "# year                         296\n",
       "# year old                     162\n",
       "#.# years old                  152\n",
       "#-# years old                  147\n",
       "about # years                  141\n",
       "#-# yrs                        135\n",
       "# years adult                  128\n",
       "adult (#yr)                    120\n",
       "#.#yrs                         118\n",
       "<# year-old                    106\n",
       "# year-old or older            101\n",
       "#-year-old                     101\n",
       "Name: age, dtype: int64"
      ]
     },
     "execution_count": 246,
     "metadata": {},
     "output_type": "execute_result"
    }
   ],
   "source": [
    "q = serieses['age']\n",
    "(\n",
    "    q\n",
    "#     [q > 300]\n",
    "    [q.index.map(lambda x: 'year' in x or 'yr' in x or x in ('#', '#.#')) & (q>100)]\n",
    "    .order(ascending=False)\n",
    "#     .sum()\n",
    ")\n",
    "# q[q.index.map(lambda x: 'y' in x)]\n"
   ]
  },
  {
   "cell_type": "code",
   "execution_count": 210,
   "metadata": {
    "collapsed": false
   },
   "outputs": [],
   "source": [
    "serieses['age'].to_csv('../data/tmp.age.str-values.csv')"
   ]
  },
  {
   "cell_type": "code",
   "execution_count": 211,
   "metadata": {
    "collapsed": false
   },
   "outputs": [],
   "source": [
    "! gzip ../data/tmp.age.str-values.csv"
   ]
  },
  {
   "cell_type": "code",
   "execution_count": 214,
   "metadata": {
    "collapsed": false
   },
   "outputs": [
    {
     "name": "stdout",
     "output_type": "stream",
     "text": [
      "-rw-rw-r-- 1 ubuntu ubuntu 13K Nov  4 16:45 ../data/tmp.age.str-values.csv.gz\r\n"
     ]
    }
   ],
   "source": [
    "! ls -lh ../data/tmp.age.str-values.csv.gz"
   ]
  },
  {
   "cell_type": "code",
   "execution_count": 159,
   "metadata": {
    "collapsed": false
   },
   "outputs": [
    {
     "data": {
      "text/plain": [
       "#AGEOK    5504\n",
       ".         1698\n",
       "Name: age at diagnosis, dtype: int64"
      ]
     },
     "execution_count": 159,
     "metadata": {},
     "output_type": "execute_result"
    }
   ],
   "source": [
    "q = serieses['age at diagnosis']\n",
    "q[q>300].order(ascending=False)"
   ]
  },
  {
   "cell_type": "code",
   "execution_count": 160,
   "metadata": {
    "collapsed": false
   },
   "outputs": [
    {
     "data": {
      "text/plain": [
       "#AGEOK    973\n",
       "Name: patient age, dtype: int64"
      ]
     },
     "execution_count": 160,
     "metadata": {},
     "output_type": "execute_result"
    }
   ],
   "source": [
    "q = serieses['patient age']\n",
    "q[q>300].order(ascending=False)"
   ]
  },
  {
   "cell_type": "code",
   "execution_count": 161,
   "metadata": {
    "collapsed": false
   },
   "outputs": [
    {
     "data": {
      "text/plain": [
       "#AGEOK    574\n",
       "Name: subject age, dtype: int64"
      ]
     },
     "execution_count": 161,
     "metadata": {},
     "output_type": "execute_result"
    }
   ],
   "source": [
    "q = serieses['subject age']\n",
    "q[q>300].order(ascending=False)"
   ]
  },
  {
   "cell_type": "code",
   "execution_count": 162,
   "metadata": {
    "collapsed": false
   },
   "outputs": [
    {
     "data": {
      "text/plain": [
       "#AGEOK    1333\n",
       "Name: age in years, dtype: int64"
      ]
     },
     "execution_count": 162,
     "metadata": {},
     "output_type": "execute_result"
    }
   ],
   "source": [
    "q = serieses['age in years']\n",
    "q[q>300].order(ascending=False)"
   ]
  },
  {
   "cell_type": "code",
   "execution_count": 164,
   "metadata": {
    "collapsed": false
   },
   "outputs": [
    {
     "data": {
      "text/plain": [
       "#AGEOK    7555\n",
       ".         2092\n",
       "Name: age (yrs), dtype: int64"
      ]
     },
     "execution_count": 164,
     "metadata": {},
     "output_type": "execute_result"
    }
   ],
   "source": [
    "q = serieses['age (yrs)']\n",
    "q[q>300].order(ascending=False)"
   ]
  },
  {
   "cell_type": "code",
   "execution_count": null,
   "metadata": {
    "collapsed": true
   },
   "outputs": [],
   "source": [
    "def has_dot(item):\n",
    "    x = item.to_dict()\n",
    "    if 'characteristics' not in x:\n",
    "        return False\n",
    "    \n",
    "    if 'age' not in x['characteristics']:\n",
    "        return False\n",
    "    \n",
    "    if '.' not in x['characteristics']['age']:\n",
    "        return False\n",
    "    \n",
    "    return True"
   ]
  },
  {
   "cell_type": "code",
   "execution_count": 168,
   "metadata": {
    "collapsed": true
   },
   "outputs": [],
   "source": [
    "chars = map(lambda x: x.characteristics.to_dict(), \n",
    "                filter(has_dot, samples))"
   ]
  },
  {
   "cell_type": "code",
   "execution_count": 195,
   "metadata": {
    "collapsed": false
   },
   "outputs": [
    {
     "data": {
      "text/plain": [
       "{'age': '43.201', 'gender': 'm'}"
      ]
     },
     "execution_count": 195,
     "metadata": {},
     "output_type": "execute_result"
    }
   ],
   "source": [
    "next(chars)"
   ]
  }
 ],
 "metadata": {
  "kernelspec": {
   "display_name": "Python 3",
   "language": "python",
   "name": "python3"
  },
  "language_info": {
   "codemirror_mode": {
    "name": "ipython",
    "version": 3
   },
   "file_extension": ".py",
   "mimetype": "text/x-python",
   "name": "python",
   "nbconvert_exporter": "python",
   "pygments_lexer": "ipython3",
   "version": "3.4.0"
  }
 },
 "nbformat": 4,
 "nbformat_minor": 0
}
