{
 "cells": [
  {
   "cell_type": "code",
   "execution_count": null,
   "metadata": {
    "collapsed": false
   },
   "outputs": [],
   "source": [
    "!ls ~/metadb/output"
   ]
  },
  {
   "cell_type": "code",
   "execution_count": null,
   "metadata": {
    "collapsed": true
   },
   "outputs": [],
   "source": [
    "data = \"\"\"GSE15824_GPL570_convert\n",
    "GSE16759_GPL570_convert\n",
    "GSE16759_GPL8757_convert\n",
    "GSE17440_GPL570_convert\n",
    "GSE53987_GPL570_convert\n",
    "GSE41470_GPL6884_convert\n",
    "GSE41470_GPL10558_convert\n",
    "GSE35864_GPL570_convert\n",
    "GSE49822_GPL570_convert\n",
    "GSE43290_GPL96_convert\n",
    "GSE7696_GPL570_convert\n",
    "GSE20159_GPL6947_convert\n",
    "GSE20291_GPL96_convert\n",
    "GSE20292_GPL96_convert\n",
    "GSE20314_GPL96_convert\n",
    "GSE21354_GPL570_convert\n",
    "GSE62600_GPL96_convert\n",
    "GSE17491_GPL570_convert\n",
    "GSE17491_GPL8979_convert\n",
    "GSE20163_GPL96_convert\n",
    "GSE20164_GPL96_convert\n",
    "GSE41467_GPL10558_convert\n",
    "GSE41468_GPL10558_convert\n",
    "GSE34824_GPL570_convert\n",
    "GSE24265_GPL570_convert\n",
    "GSE21935_GPL570_convert\n",
    "GSE21138_GPL570_convert\n",
    "GSE4412_GPL96_convert\n",
    "GSE4412_GPL97_convert\n",
    "GSE19728_GPL570_convert\n",
    "GSE50774_GPL570_convert\n",
    "GSE50774_GPL13534_convert\n",
    "GSE43289_GPL570_convert\n",
    "GSE20168_GPL96_convert\n",
    "GSE20295_GPL96_convert\n",
    "GSE17612_GPL570_convert\n",
    "GSE19587_GPL571_convert\n",
    "GSE20186_GPL96_convert\n",
    "GSE20186_GPL6947_convert\n",
    "GSE4271_GPL96_convert\n",
    "GSE4271_GPL97_convert\n",
    "GSE24072_GPL96_convert\"\"\""
   ]
  },
  {
   "cell_type": "code",
   "execution_count": null,
   "metadata": {
    "collapsed": false
   },
   "outputs": [],
   "source": [
    "lines = [l.rstrip('\\n') for l in data.split('\\n')]"
   ]
  },
  {
   "cell_type": "code",
   "execution_count": null,
   "metadata": {
    "collapsed": true
   },
   "outputs": [],
   "source": [
    "import pandas as pd"
   ]
  },
  {
   "cell_type": "code",
   "execution_count": null,
   "metadata": {
    "collapsed": true
   },
   "outputs": [],
   "source": [
    "records = [l.split('_') for l in lines]"
   ]
  },
  {
   "cell_type": "code",
   "execution_count": null,
   "metadata": {
    "collapsed": true
   },
   "outputs": [],
   "source": [
    "d = pd.DataFrame.from_records(data=records, columns=['series', 'platform', 'convert'])"
   ]
  },
  {
   "cell_type": "code",
   "execution_count": null,
   "metadata": {
    "collapsed": false
   },
   "outputs": [],
   "source": [
    "d['convert'] = d['platform'].map(lambda p: 'convert' if p in ['GPL570', 'GPL571', 'GPL96'] else '')"
   ]
  },
  {
   "cell_type": "code",
   "execution_count": null,
   "metadata": {
    "collapsed": false
   },
   "outputs": [],
   "source": [
    "d"
   ]
  },
  {
   "cell_type": "code",
   "execution_count": null,
   "metadata": {
    "collapsed": false
   },
   "outputs": [],
   "source": [
    "file_names = [ '_'.join((series, platform, convert)).rstrip('_') for _, (series, platform, convert) in d.iterrows()]\n",
    "file_names"
   ]
  },
  {
   "cell_type": "code",
   "execution_count": null,
   "metadata": {
    "collapsed": true
   },
   "outputs": [],
   "source": [
    "%store -r ds\n",
    "%store -r samples"
   ]
  },
  {
   "cell_type": "code",
   "execution_count": null,
   "metadata": {
    "collapsed": true
   },
   "outputs": [],
   "source": [
    "with open('tmp.to_download.txt', 'w') as f:\n",
    "    for l in ds:\n",
    "        f.write(l+'\\n')"
   ]
  },
  {
   "cell_type": "code",
   "execution_count": null,
   "metadata": {
    "collapsed": false
   },
   "outputs": [],
   "source": [
    "!rsync --help"
   ]
  },
  {
   "cell_type": "code",
   "execution_count": null,
   "metadata": {
    "collapsed": false
   },
   "outputs": [],
   "source": [
    "!rm -rf /data/rawdata/tmp.brain/*"
   ]
  },
  {
   "cell_type": "code",
   "execution_count": null,
   "metadata": {
    "collapsed": false
   },
   "outputs": [],
   "source": [
    "!mkdir /data/rawdata/tmp.brain"
   ]
  },
  {
   "cell_type": "code",
   "execution_count": null,
   "metadata": {
    "collapsed": false
   },
   "outputs": [],
   "source": [
    "!rsync -avrzd --files-from  tmp.to_download.txt npryanichnikov@ui2.computing.kiae.ru:/s/ls2/groups/g0064/preproc/data /data/rawdata/tmp.brain  "
   ]
  },
  {
   "cell_type": "code",
   "execution_count": 1,
   "metadata": {
    "collapsed": true
   },
   "outputs": [],
   "source": [
    "from metadb.api import ElasticApi"
   ]
  },
  {
   "cell_type": "code",
   "execution_count": 2,
   "metadata": {
    "collapsed": false
   },
   "outputs": [],
   "source": [
    "from elasticsearch import Elasticsearch"
   ]
  },
  {
   "cell_type": "code",
   "execution_count": 3,
   "metadata": {
    "collapsed": true
   },
   "outputs": [],
   "source": [
    "es = Elasticsearch()"
   ]
  },
  {
   "cell_type": "code",
   "execution_count": 4,
   "metadata": {
    "collapsed": false
   },
   "outputs": [],
   "source": [
    "api = ElasticApi(es, 'samples_dev', 'series_dev')"
   ]
  },
  {
   "cell_type": "code",
   "execution_count": 5,
   "metadata": {
    "collapsed": false
   },
   "outputs": [],
   "source": [
    "tissues = [\"BTO:0000142\", \"BTO:0001408\",\"BTO:0004373\",\"BTO:0000418\",\"BTO:0004834\",\"BTO:0002035\",\"BTO:0002253\",\"BTO:0000293\",\"BTO:0004701\",\"BTO:0002671\",\"BTO:0002670\",\"BTO:0002872\",\"BTO:0000226\",\"BTO:0001635\",\"BTO:0003686\",\"BTO:0001067\",\"BTO:0000496\",\"BTO:0004448\",\"BTO:0003761\",\"BTO:0002036\",\"BTO:0002699\",\"BTO:0002496\",\"BTO:0002702\",\"BTO:0003447\",\"BTO:0004454\",\"BTO:0005008\",\"BTO:0002462\",\"BTO:0002938\",\"BTO:0003868\",\"BTO:0003405\",\"BTO:0001789\",\"BTO:0003685\",\"BTO:0002090\",\"BTO:0002469\",\"BTO:0003664\",\"BTO:0003844\",\"BTO:0003837\",\"BTO:0004776\",\"BTO:0003402\",\"BTO:0004352\",\"BTO:0002466\",\"BTO:0000143\",\"BTO:0005010\",\"BTO:0004356\",\"BTO:0003796\",\"BTO:0001683\",\"BTO:0005269\",\"BTO:0003349\",\"BTO:0004347\",\"BTO:0002509\",\"BTO:0000962\",\"BTO:0001710\",\"BTO:0000529\",\"BTO:0002452\",\"BTO:0002457\",\"BTO:0002467\",\"BTO:0003867\",\"BTO:0002127\",\"BTO:0002672\",\"BTO:0002453\",\"BTO:0001757\",\"BTO:0001583\",\"BTO:0002472\",\"BTO:0003662\",\"BTO:0000770\",\"BTO:0005095\",\"BTO:0003975\",\"BTO:0002299\",\"BTO:0000942\",\"BTO:0002473\",\"BTO:0002248\",\"BTO:0004451\",\"BTO:0005007\",\"BTO:0005601\",\"BTO:0004735\",\"BTO:0003389\",\"BTO:0002448\",\"BTO:0004908\",\"BTO:0004213\",\"BTO:0001857\",\"BTO:0005252\",\"BTO:0002300\",\"BTO:0004477\",\"BTO:0002476\",\"BTO:0001317\",\"BTO:0002659\",\"BTO:0001862\",\"BTO:0004778\",\"BTO:0002374\",\"BTO:0004016\",\"BTO:0002251\",\"BTO:0003839\",\"BTO:0002777\",\"BTO:0002704\",\"BTO:0001178\",\"BTO:0000100\",\"BTO:0003835\",\"BTO:0003749\",\"BTO:0004844\",\"BTO:0004376\",\"BTO:0002481\",\"BTO:0001108\",\"BTO:0004331\",\"BTO:0002468\",\"BTO:0002470\",\"BTO:0004345\",\"BTO:0002216\",\"BTO:0003218\",\"BTO:0002785\",\"BTO:0002460\",\"BTO:0002500\",\"BTO:0003351\",\"BTO:0003262\",\"BTO:0000041\",\"BTO:0002213\",\"BTO:0002250\",\"BTO:0003448\",\"BTO:0000342\",\"BTO:0004455\",\"BTO:0000920\",\"BTO:0002650\",\"BTO:0004704\",\"BTO:0001362\",\"BTO:0003977\",\"BTO:0000484\",\"BTO:0003869\",\"BTO:0002774\",\"BTO:0001359\",\"BTO:0002664\",\"BTO:0000231\",\"BTO:0004907\",\"BTO:0005603\",\"BTO:0002706\",\"BTO:0001205\",\"BTO:0003759\",\"BTO:0002807\",\"BTO:0001822\",\"BTO:0000894\",\"BTO:0000235\",\"BTO:0005200\",\"BTO:0001573\",\"BTO:0000875\",\"BTO:0001953\",\"BTO:0002088\",\"BTO:0000040\",\"BTO:0000771\",\"BTO:0002095\",\"BTO:0004457\",\"BTO:0003772\",\"BTO:0005364\",\"BTO:0000928\",\"BTO:0004357\",\"BTO:0002651\",\"BTO:0003037\",\"BTO:0002697\",\"BTO:0003701\",\"BTO:0002675\",\"BTO:0002600\",\"BTO:0002700\",\"BTO:0002654\",\"BTO:0004430\",\"BTO:0003965\",\"BTO:0001820\",\"BTO:0000138\",\"BTO:0001724\",\"BTO:0005582\",\"BTO:0001634\",\"BTO:0001637\",\"BTO:0003684\",\"BTO:0004369\",\"BTO:0004342\",\"BTO:0000936\",\"BTO:0004332\",\"BTO:0002674\",\"BTO:0003400\",\"BTO:0002676\",\"BTO:0004379\",\"BTO:0002434\",\"BTO:0004860\",\"BTO:0002464\",\"BTO:0004425\",\"BTO:0004366\",\"BTO:0002463\",\"BTO:0005135\",\"BTO:0001796\",\"BTO:0003649\",\"BTO:0001105\",\"BTO:0004199\",\"BTO:0002919\",\"BTO:0004453\",\"BTO:0001557\",\"BTO:0000427\",\"BTO:0004515\",\"BTO:0001311\",\"BTO:0003955\",\"BTO:0004677\",\"BTO:0003979\",\"BTO:0004372\",\"BTO:0003087\",\"BTO:0005450\",\"BTO:0000879\",\"BTO:0003863\",\"BTO:0004250\",\"BTO:0002920\",\"BTO:0004456\",\"BTO:0003412\",\"BTO:0003249\",\"BTO:0004354\",\"BTO:0003753\",\"BTO:0000614\",\"BTO:0004517\",\"BTO:0004014\",\"BTO:0003392\",\"BTO:0003090\",\"BTO:0002701\",\"BTO:0003605\",\"BTO:0004249\",\"BTO:0002479\",\"BTO:0000016\",\"BTO:0000211\",\"BTO:0005547\",\"BTO:0004344\",\"BTO:0002004\",\"BTO:0002128\",\"BTO:0003976\",\"BTO:0003426\",\"BTO:0005151\",\"BTO:0001739\",\"BTO:0003665\",\"BTO:0000895\",\"BTO:0000255\",\"BTO:0005602\",\"BTO:0004374\",\"BTO:0000115\",\"BTO:0003261\",\"BTO:0000965\",\"BTO:0002705\",\"BTO:0003566\",\"BTO:0002214\",\"BTO:0003852\",\"BTO:0003795\",\"BTO:0003248\",\"BTO:0000233\",\"BTO:0004882\",\"BTO:0000078\",\"BTO:0004368\",\"BTO:0001320\",\"BTO:0000524\",\"BTO:0002449\",\"BTO:0002400\",\"BTO:0005311\",\"BTO:0004371\",\"BTO:0002373\",\"BTO:0002873\",\"BTO:0004370\",\"BTO:0000768\",\"BTO:0002461\",\"BTO:0004691\",\"BTO:0004375\",\"BTO:0000101\",\"BTO:0003404\",\"BTO:0004215\",\"BTO:0000711\",\"BTO:0005629\",\"BTO:0000296\",\"BTO:0001954\",\"BTO:0004328\",\"BTO:0004225\",\"BTO:0002169\",\"BTO:0003036\",\"BTO:0003786\",\"BTO:0004459\",\"BTO:0000615\",\"BTO:0002673\",\"BTO:0000232\",\"BTO:0002686\",\"BTO:0004906\",\"BTO:0002139\",\"BTO:0001355\",\"BTO:0000526\",\"BTO:0003966\",\"BTO:0003353\",\"BTO:0000175\",\"BTO:0004102\",\"BTO:0003738\",\"BTO:0005184\",\"BTO:0000872\",\"BTO:0003410\",\"BTO:0003788\",\"BTO:0002615\",\"BTO:0004343\",\"BTO:0002298\",\"BTO:0000144\",\"BTO:0005023\",\"BTO:0004349\",\"BTO:0002465\",\"BTO:0001001\",\"BTO:0005396\",\"BTO:0003396\",\"BTO:0003836\",\"BTO:0003838\",\"BTO:0004879\",\"BTO:0004702\",\"BTO:0001066\",\"BTO:0002515\",\"BTO:0002247\",\"BTO:0004880\",\"BTO:0001531\",\"BTO:0003406\",\"BTO:0003408\",\"BTO:0001868\",\"BTO:0004326\",\"BTO:0004464\",\"BTO:0003963\",\"BTO:0000961\",\"BTO:0002091\",\"BTO:0002444\",\"BTO:0002082\",\"BTO:0002599\",\"BTO:0004350\",\"BTO:0000229\",\"BTO:0004341\",\"BTO:0000258\",\"BTO:0000478\",\"BTO:0003880\",\"BTO:0002215\",\"BTO:0002447\",\"BTO:0002458\",\"BTO:0004452\",\"BTO:0002497\",\"BTO:0002824\",\"BTO:0000445\",\"BTO:0002821\",\"BTO:0003390\",\"BTO:0003704\",\"BTO:0004726\",\"BTO:0003407\",\"BTO:0004380\",\"BTO:0003232\",\"BTO:0000900\",\"BTO:0001788\",\"BTO:0001793\",\"BTO:0002378\",\"BTO:0003388\",\"BTO:0001076\",\"BTO:0000043\",\"BTO:0004222\",\"BTO:0000963\",\"BTO:0002126\",\"BTO:0002498\",\"BTO:0001068\",\"BTO:0003350\",\"BTO:0004200\",\"BTO:0002983\",\"BTO:0003750\",\"BTO:0003414\",\"BTO:0000236\",\"BTO:0004467\",\"BTO:0004329\",\"BTO:0002092\",\"BTO:0003705\",\"BTO:0002698\",\"BTO:0003409\",\"BTO:0005458\",\"BTO:0004506\",\"BTO:0002450\",\"BTO:0001480\",\"BTO:0000754\",\"BTO:0000922\",\"BTO:0003231\",\"BTO:0002703\",\"BTO:0003647\",\"BTO:0002277\",\"BTO:0005606\",\"BTO:0002446\",\"BTO:0003663\",\"BTO:0003401\",\"BTO:0004553\",\"BTO:0004381\",\"BTO:0002445\",\"BTO:0001365\",\"BTO:0001636\",\"BTO:0001787\",\"BTO:0003937\",\"BTO:0000145\",\"BTO:0002455\",\"BTO:0002379\",\"BTO:0001327\",\"BTO:0001101\",\"BTO:0004703\",\"BTO:0003787\",\"BTO:0002246\",\"BTO:0004797\",\"BTO:0003411\",\"BTO:0002858\",\"BTO:0000672\",\"BTO:0003146\",\"BTO:0000937\",\"BTO:0002778\",\"BTO:0001410\",\"BTO:0003366\",\"BTO:0004727\",\"BTO:0004676\",\"BTO:0001073\",\"BTO:0001442\",\"BTO:0001869\",\"BTO:0003425\",\"BTO:0002495\",\"BTO:0004909\",\"BTO:0003399\",\"BTO:0002252\",\"BTO:0004367\",\"BTO:0000756\",\"BTO:0000212\",\"BTO:0001077\",\"BTO:0002474\",\"BTO:0002771\",\"BTO:0003654\",\"BTO:0003102\",\"BTO:0002871\",\"BTO:0004355\",\"BTO:0002767\",\"BTO:0004836\",\"BTO:0002454\",\"BTO:0001446\",\"BTO:0001283\",\"BTO:0000099\",\"BTO:0004450\",\"BTO:0000561\",\"BTO:0003793\",\"BTO:0005268\",\"BTO:0004398\",\"BTO:0002820\",\"BTO:0004330\",\"BTO:0002459\",\"BTO:0004516\",\"BTO:0002005\",\"BTO:0004292\",\"BTO:0004835\",\"BTO:0000239\",\"BTO:0005186\",\"BTO:0000601\",\"BTO:0000238\",\"BTO:0004449\",\"BTO:0005201\",\"BTO:0004616\",\"BTO:0004399\",\"BTO:0003352\",\"BTO:0004458\",\"BTO:0000690\",\"BTO:0001756\",\"BTO:0001530\",\"BTO:0000758\",\"BTO:0000401\",\"BTO:0004530\",\"BTO:0002609\",\"BTO:0003879\",\"BTO:0003978\",\"BTO:0002677\",\"BTO:0001011\",\"BTO:0004348\",\"BTO:0000823\",\"BTO:0003618\",\"BTO:0000237\",\"BTO:0003957\",\"BTO:0003403\",\"BTO:0004605\",\"BTO:0002475\",\"BTO:0000590\",\"BTO:0002456\",\"BTO:0000146\",\"BTO:0003653\",\"BTO:0002451\",\"BTO:0000527\",\"BTO:0001319\",\"BTO:0004346\",\"BTO:0002606\",\"BTO:0004351\",\"BTO:0004353\",\"BTO:0004214\",\"BTO:0003387\",\"BTO:0004044\",\"BTO:0001042\",\"BTO:0000673\"]"
   ]
  },
  {
   "cell_type": "code",
   "execution_count": 18,
   "metadata": {
    "collapsed": true
   },
   "outputs": [],
   "source": [
    "samples = list(api.search_samples(\n",
    "    norm=1,\n",
    "    tissue_id=tissues,\n",
    "    organism='Homo sapiens',\n",
    "    annotated=1,\n",
    "    age_exists=1,    \n",
    "    fields=['accession', 'series', 'platform']\n",
    "))"
   ]
  },
  {
   "cell_type": "code",
   "execution_count": 19,
   "metadata": {
    "collapsed": false
   },
   "outputs": [
    {
     "data": {
      "text/plain": [
       "242"
      ]
     },
     "execution_count": 19,
     "metadata": {},
     "output_type": "execute_result"
    }
   ],
   "source": [
    "len(samples)"
   ]
  },
  {
   "cell_type": "code",
   "execution_count": null,
   "metadata": {
    "collapsed": false
   },
   "outputs": [],
   "source": [
    "samples[:10]"
   ]
  },
  {
   "cell_type": "code",
   "execution_count": null,
   "metadata": {
    "collapsed": false
   },
   "outputs": [],
   "source": [
    "[s for s in samples if 'GSE24265' in s['series']]"
   ]
  },
  {
   "cell_type": "code",
   "execution_count": null,
   "metadata": {
    "collapsed": true
   },
   "outputs": [],
   "source": [
    "frmap = ['GPL570', 'GPL571', 'GPL96', 'GPL97']\n",
    "\n",
    "ds = [('{}_{}_convert' if s['platform'] in frmap else '{}_{}').format(se, s['platform'])\n",
    "for s in samples\n",
    "for se in s['series']]\n",
    "        "
   ]
  },
  {
   "cell_type": "code",
   "execution_count": null,
   "metadata": {
    "collapsed": false
   },
   "outputs": [],
   "source": [
    "%store samples\n",
    "%store ds"
   ]
  },
  {
   "cell_type": "code",
   "execution_count": null,
   "metadata": {
    "collapsed": true
   },
   "outputs": [],
   "source": [
    "samples_accessions = [s['accession'] for s in samples]"
   ]
  },
  {
   "cell_type": "code",
   "execution_count": null,
   "metadata": {
    "collapsed": false
   },
   "outputs": [],
   "source": [
    "! find /data/rawdata/tmp.brain/ -name '*.txt' | head"
   ]
  },
  {
   "cell_type": "code",
   "execution_count": null,
   "metadata": {
    "collapsed": true
   },
   "outputs": [],
   "source": [
    "import pandas as pd"
   ]
  },
  {
   "cell_type": "code",
   "execution_count": null,
   "metadata": {
    "collapsed": true
   },
   "outputs": [],
   "source": [
    "dataset_files = ! find /data/rawdata/tmp.brain/ -name '*.txt' "
   ]
  },
  {
   "cell_type": "code",
   "execution_count": null,
   "metadata": {
    "collapsed": false
   },
   "outputs": [],
   "source": [
    "frma_files = [d for d in dataset_files if d.endswith('_convert.txt')]"
   ]
  },
  {
   "cell_type": "code",
   "execution_count": null,
   "metadata": {
    "collapsed": true
   },
   "outputs": [],
   "source": [
    "non_frma_files = [d for d in dataset_files if not d.endswith('_convert.txt')]"
   ]
  },
  {
   "cell_type": "code",
   "execution_count": null,
   "metadata": {
    "collapsed": false
   },
   "outputs": [],
   "source": [
    "frma_datasets = [(d, pd.read_table(d, sep=' ').set_index('SYMBOL')) for d in frma_files]"
   ]
  },
  {
   "cell_type": "code",
   "execution_count": null,
   "metadata": {
    "collapsed": true
   },
   "outputs": [],
   "source": [
    "def read_t(file_name):\n",
    "    d = pd.read_table(file_name, sep=' ')\n",
    "    if len(d.columns) <= 2:\n",
    "        d = pd.read_table(file_name, sep='\\t')\n",
    "        if len(d.columns) <= 2:\n",
    "            raise Exception(file_name)\n",
    "    if d.columns[0].lower() == 'symbol':\n",
    "        d = d.set_index(d.columns[0])\n",
    "    return d"
   ]
  },
  {
   "cell_type": "code",
   "execution_count": null,
   "metadata": {
    "collapsed": false
   },
   "outputs": [],
   "source": [
    "non_frma_datasets = [(d, read_t(d)) for d in frma_files]"
   ]
  },
  {
   "cell_type": "code",
   "execution_count": null,
   "metadata": {
    "collapsed": true
   },
   "outputs": [],
   "source": [
    "datasets = frma_datasets + non_frma_datasets"
   ]
  },
  {
   "cell_type": "code",
   "execution_count": null,
   "metadata": {
    "collapsed": false
   },
   "outputs": [],
   "source": [
    "[d.shape for _, d in datasets if len(d.columns) < 2]"
   ]
  },
  {
   "cell_type": "code",
   "execution_count": null,
   "metadata": {
    "collapsed": true
   },
   "outputs": [],
   "source": [
    "import re"
   ]
  },
  {
   "cell_type": "code",
   "execution_count": null,
   "metadata": {
    "collapsed": false
   },
   "outputs": [],
   "source": [
    "re.match(r'(GSM\\d+)', 'GSM1234asda.aaa').group(1)"
   ]
  },
  {
   "cell_type": "code",
   "execution_count": null,
   "metadata": {
    "collapsed": true
   },
   "outputs": [],
   "source": [
    "def get_sample_name(s):\n",
    "    res = re.match(r'(GSM\\d+)', s)\n",
    "    if res is None:\n",
    "        print(\"BAD: {}\".format(s))\n",
    "    return res.group(1)\n"
   ]
  },
  {
   "cell_type": "code",
   "execution_count": null,
   "metadata": {
    "collapsed": false
   },
   "outputs": [],
   "source": [
    "res = []\n",
    "for name, d in datasets:\n",
    "    bad = True\n",
    "    for col in d.columns:\n",
    "        if get_sample_name(col) in samples_accessions:\n",
    "            bad = False\n",
    "            d[col].name = get_sample_name(col)\n",
    "            res.append(d[col])\n",
    "            \n",
    "    if bad:\n",
    "        print('no samples for {}'.format(name))\n"
   ]
  },
  {
   "cell_type": "code",
   "execution_count": null,
   "metadata": {
    "collapsed": true
   },
   "outputs": [],
   "source": [
    "!rm -rf  /data/rawdata/tmp.brain.out/*"
   ]
  },
  {
   "cell_type": "code",
   "execution_count": null,
   "metadata": {
    "collapsed": false
   },
   "outputs": [],
   "source": [
    "!mkdir /data/rawdata/tmp.brain.out/"
   ]
  },
  {
   "cell_type": "code",
   "execution_count": null,
   "metadata": {
    "collapsed": true
   },
   "outputs": [],
   "source": [
    "from os.path import join"
   ]
  },
  {
   "cell_type": "code",
   "execution_count": null,
   "metadata": {
    "collapsed": false
   },
   "outputs": [],
   "source": [
    "for r in res:\n",
    "    r.to_csv(join('/data/rawdata/tmp.brain.out/', r.name+'.expr'))"
   ]
  },
  {
   "cell_type": "code",
   "execution_count": null,
   "metadata": {
    "collapsed": false
   },
   "outputs": [],
   "source": [
    "len(set(r.name for r in res))"
   ]
  },
  {
   "cell_type": "code",
   "execution_count": 6,
   "metadata": {
    "collapsed": true
   },
   "outputs": [],
   "source": [
    "%store -r samples"
   ]
  },
  {
   "cell_type": "code",
   "execution_count": 22,
   "metadata": {
    "collapsed": true
   },
   "outputs": [],
   "source": [
    "samples = list(api.search_samples(\n",
    "    accession=[s['accession'] for s in samples],\n",
    "    organism='Homo sapiens',\n",
    "    age_exists=1,\n",
    "    fields=['accession', 'series', 'platform', 'annotation.norm', 'annotation.age', 'annotation.tissue_id']\n",
    "))"
   ]
  },
  {
   "cell_type": "code",
   "execution_count": 23,
   "metadata": {
    "collapsed": false
   },
   "outputs": [
    {
     "data": {
      "text/plain": [
       "242"
      ]
     },
     "execution_count": 23,
     "metadata": {},
     "output_type": "execute_result"
    }
   ],
   "source": [
    "len(samples)"
   ]
  },
  {
   "cell_type": "code",
   "execution_count": 24,
   "metadata": {
    "collapsed": false
   },
   "outputs": [
    {
     "data": {
      "text/plain": [
       "[{'accession': 'GSM488118',\n",
       "  'annotation': {'age': '76', 'norm': 1.0, 'tissue_id': 'BTO:0003844'},\n",
       "  'platform': 'GPL571',\n",
       "  'series': ['GSE19587']},\n",
       " {'accession': 'GSM506053',\n",
       "  'annotation': {'age': '73', 'norm': 1.0, 'tissue_id': 'BTO:0002807'},\n",
       "  'platform': 'GPL96',\n",
       "  'series': ['GSE20168', 'GSE20295']},\n",
       " {'accession': 'GSM506057',\n",
       "  'annotation': {'age': '60', 'norm': 1.0, 'tissue_id': 'BTO:0002807'},\n",
       "  'platform': 'GPL96',\n",
       "  'series': ['GSE20168', 'GSE20295']}]"
      ]
     },
     "execution_count": 24,
     "metadata": {},
     "output_type": "execute_result"
    }
   ],
   "source": [
    "samples[:3]"
   ]
  },
  {
   "cell_type": "code",
   "execution_count": 27,
   "metadata": {
    "collapsed": true
   },
   "outputs": [],
   "source": [
    "import pandas as pd"
   ]
  },
  {
   "cell_type": "code",
   "execution_count": 28,
   "metadata": {
    "collapsed": false
   },
   "outputs": [],
   "source": [
    "samples_df = pd.DataFrame(samples)"
   ]
  },
  {
   "cell_type": "code",
   "execution_count": 30,
   "metadata": {
    "collapsed": false
   },
   "outputs": [],
   "source": [
    "samples_df['age'] = samples_df.annotation.map(lambda x: x['age'])"
   ]
  },
  {
   "cell_type": "code",
   "execution_count": 32,
   "metadata": {
    "collapsed": false
   },
   "outputs": [
    {
     "data": {
      "text/html": [
       "<div>\n",
       "<table border=\"1\" class=\"dataframe\">\n",
       "  <thead>\n",
       "    <tr style=\"text-align: right;\">\n",
       "      <th></th>\n",
       "      <th>accession</th>\n",
       "      <th>annotation</th>\n",
       "      <th>platform</th>\n",
       "      <th>series</th>\n",
       "      <th>age</th>\n",
       "    </tr>\n",
       "  </thead>\n",
       "  <tbody>\n",
       "    <tr>\n",
       "      <th>0</th>\n",
       "      <td>GSM488118</td>\n",
       "      <td>{'tissue_id': 'BTO:0003844', 'age': '76', 'nor...</td>\n",
       "      <td>GPL571</td>\n",
       "      <td>[GSE19587]</td>\n",
       "      <td>76</td>\n",
       "    </tr>\n",
       "    <tr>\n",
       "      <th>1</th>\n",
       "      <td>GSM506053</td>\n",
       "      <td>{'tissue_id': 'BTO:0002807', 'age': '73', 'nor...</td>\n",
       "      <td>GPL96</td>\n",
       "      <td>[GSE20168, GSE20295]</td>\n",
       "      <td>73</td>\n",
       "    </tr>\n",
       "    <tr>\n",
       "      <th>2</th>\n",
       "      <td>GSM506057</td>\n",
       "      <td>{'tissue_id': 'BTO:0002807', 'age': '60', 'nor...</td>\n",
       "      <td>GPL96</td>\n",
       "      <td>[GSE20168, GSE20295]</td>\n",
       "      <td>60</td>\n",
       "    </tr>\n",
       "    <tr>\n",
       "      <th>3</th>\n",
       "      <td>GSM506051</td>\n",
       "      <td>{'tissue_id': 'BTO:0002807', 'age': '67', 'nor...</td>\n",
       "      <td>GPL96</td>\n",
       "      <td>[GSE20168, GSE20295]</td>\n",
       "      <td>67</td>\n",
       "    </tr>\n",
       "    <tr>\n",
       "      <th>4</th>\n",
       "      <td>GSM505998</td>\n",
       "      <td>{'tissue_id': 'BTO:0000143', 'age': '70', 'nor...</td>\n",
       "      <td>GPL96</td>\n",
       "      <td>[GSE20163, GSE20186]</td>\n",
       "      <td>70</td>\n",
       "    </tr>\n",
       "  </tbody>\n",
       "</table>\n",
       "</div>"
      ],
      "text/plain": [
       "   accession                                         annotation platform  \\\n",
       "0  GSM488118  {'tissue_id': 'BTO:0003844', 'age': '76', 'nor...   GPL571   \n",
       "1  GSM506053  {'tissue_id': 'BTO:0002807', 'age': '73', 'nor...    GPL96   \n",
       "2  GSM506057  {'tissue_id': 'BTO:0002807', 'age': '60', 'nor...    GPL96   \n",
       "3  GSM506051  {'tissue_id': 'BTO:0002807', 'age': '67', 'nor...    GPL96   \n",
       "4  GSM505998  {'tissue_id': 'BTO:0000143', 'age': '70', 'nor...    GPL96   \n",
       "\n",
       "                 series age  \n",
       "0            [GSE19587]  76  \n",
       "1  [GSE20168, GSE20295]  73  \n",
       "2  [GSE20168, GSE20295]  60  \n",
       "3  [GSE20168, GSE20295]  67  \n",
       "4  [GSE20163, GSE20186]  70  "
      ]
     },
     "execution_count": 32,
     "metadata": {},
     "output_type": "execute_result"
    }
   ],
   "source": [
    "samples_df.head()"
   ]
  },
  {
   "cell_type": "code",
   "execution_count": 33,
   "metadata": {
    "collapsed": true
   },
   "outputs": [],
   "source": [
    "samples_df[['accession', 'age']].to_csv('/data/rawdata/tmp.brain.age.csv', index=False)"
   ]
  },
  {
   "cell_type": "code",
   "execution_count": null,
   "metadata": {
    "collapsed": true
   },
   "outputs": [],
   "source": []
  }
 ],
 "metadata": {
  "kernelspec": {
   "display_name": "Python 3",
   "language": "python",
   "name": "python3"
  },
  "language_info": {
   "codemirror_mode": {
    "name": "ipython",
    "version": 3
   },
   "file_extension": ".py",
   "mimetype": "text/x-python",
   "name": "python",
   "nbconvert_exporter": "python",
   "pygments_lexer": "ipython3",
   "version": "3.4.0"
  }
 },
 "nbformat": 4,
 "nbformat_minor": 0
}
